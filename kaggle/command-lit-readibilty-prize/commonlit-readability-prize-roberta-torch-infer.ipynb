{
 "cells": [
  {
   "cell_type": "markdown",
   "id": "duplicate-rubber",
   "metadata": {
    "papermill": {
     "duration": 0.015481,
     "end_time": "2021-05-24T05:02:48.016150",
     "exception": false,
     "start_time": "2021-05-24T05:02:48.000669",
     "status": "completed"
    },
    "tags": []
   },
   "source": [
    "## Inference Kernel - RoBERTa Base / ITPT + FIT\n",
    "\n",
    "Step 1. ITPT -> [Within Task Pre-Training](https://www.kaggle.com/rhtsingh/commonlit-readability-prize-roberta-torch-itpt?scriptVersionId=63560998)\n",
    "\n",
    "Step 2. FIT -> [Withing Task Finetuning](https://www.kaggle.com/rhtsingh/commonlit-readability-prize-roberta-torch-fit)\n",
    "\n",
    "Step 3. Inference -> **This Kernel**"
   ]
  },
  {
   "cell_type": "markdown",
   "id": "working-pharmaceutical",
   "metadata": {
    "papermill": {
     "duration": 0.014154,
     "end_time": "2021-05-24T05:02:48.044349",
     "exception": false,
     "start_time": "2021-05-24T05:02:48.030195",
     "status": "completed"
    },
    "tags": []
   },
   "source": [
    "### Load Test Dataset"
   ]
  },
  {
   "cell_type": "code",
   "execution_count": 1,
   "id": "upper-delaware",
   "metadata": {
    "execution": {
     "iopub.execute_input": "2021-05-24T05:02:48.082541Z",
     "iopub.status.busy": "2021-05-24T05:02:48.082032Z",
     "iopub.status.idle": "2021-05-24T05:02:48.146973Z",
     "shell.execute_reply": "2021-05-24T05:02:48.146448Z",
     "shell.execute_reply.started": "2021-05-21T19:40:14.249571Z"
    },
    "papermill": {
     "duration": 0.088933,
     "end_time": "2021-05-24T05:02:48.147107",
     "exception": false,
     "start_time": "2021-05-24T05:02:48.058174",
     "status": "completed"
    },
    "tags": []
   },
   "outputs": [],
   "source": [
    "import pandas as pd\n",
    "import numpy as np\n",
    "\n",
    "train = pd.read_csv('../input/commonlitreadabilityprize/train.csv')\n",
    "test = pd.read_csv('../input/commonlitreadabilityprize/test.csv')"
   ]
  },
  {
   "cell_type": "markdown",
   "id": "portable-procurement",
   "metadata": {
    "papermill": {
     "duration": 0.013754,
     "end_time": "2021-05-24T05:02:48.174917",
     "exception": false,
     "start_time": "2021-05-24T05:02:48.161163",
     "status": "completed"
    },
    "tags": []
   },
   "source": [
    "### Import Dependencies"
   ]
  },
  {
   "cell_type": "code",
   "execution_count": 2,
   "id": "clinical-sheep",
   "metadata": {
    "execution": {
     "iopub.execute_input": "2021-05-24T05:02:48.208763Z",
     "iopub.status.busy": "2021-05-24T05:02:48.208064Z",
     "iopub.status.idle": "2021-05-24T05:02:48.210805Z",
     "shell.execute_reply": "2021-05-24T05:02:48.210358Z",
     "shell.execute_reply.started": "2021-05-21T19:40:14.323705Z"
    },
    "papermill": {
     "duration": 0.022267,
     "end_time": "2021-05-24T05:02:48.210920",
     "exception": false,
     "start_time": "2021-05-24T05:02:48.188653",
     "status": "completed"
    },
    "tags": []
   },
   "outputs": [],
   "source": [
    "%matplotlib inline\n",
    "from glob import glob\n",
    "import os\n",
    "import matplotlib.pyplot as plt\n",
    "import json\n",
    "from collections import defaultdict\n",
    "import gc\n",
    "gc.enable()"
   ]
  },
  {
   "cell_type": "code",
   "execution_count": 3,
   "id": "structural-secretariat",
   "metadata": {
    "execution": {
     "iopub.execute_input": "2021-05-24T05:02:48.243714Z",
     "iopub.status.busy": "2021-05-24T05:02:48.243041Z",
     "iopub.status.idle": "2021-05-24T05:02:54.456811Z",
     "shell.execute_reply": "2021-05-24T05:02:54.456347Z",
     "shell.execute_reply.started": "2021-05-21T19:40:14.334508Z"
    },
    "papermill": {
     "duration": 6.232121,
     "end_time": "2021-05-24T05:02:54.456937",
     "exception": false,
     "start_time": "2021-05-24T05:02:48.224816",
     "status": "completed"
    },
    "tags": []
   },
   "outputs": [],
   "source": [
    "import torch\n",
    "import torch.nn as nn\n",
    "import torch.nn.functional as F\n",
    "import torch.optim as optim\n",
    "from torch.optim.optimizer import Optimizer\n",
    "import torch.optim.lr_scheduler as lr_scheduler\n",
    "from torch.utils.data import (\n",
    "    Dataset, DataLoader, \n",
    "    SequentialSampler, RandomSampler\n",
    ")\n",
    "from transformers import RobertaConfig\n",
    "from transformers import (\n",
    "    get_cosine_schedule_with_warmup, \n",
    "    get_cosine_with_hard_restarts_schedule_with_warmup\n",
    ")\n",
    "from transformers import RobertaTokenizer\n",
    "from transformers import RobertaModel\n",
    "from IPython.display import clear_output\n",
    "from tqdm import tqdm, trange"
   ]
  },
  {
   "cell_type": "markdown",
   "id": "electronic-monitor",
   "metadata": {
    "papermill": {
     "duration": 0.013846,
     "end_time": "2021-05-24T05:02:54.484807",
     "exception": false,
     "start_time": "2021-05-24T05:02:54.470961",
     "status": "completed"
    },
    "tags": []
   },
   "source": [
    "### Convert Examples `(Excerpt)` to Features"
   ]
  },
  {
   "cell_type": "code",
   "execution_count": 4,
   "id": "supreme-occupation",
   "metadata": {
    "execution": {
     "iopub.execute_input": "2021-05-24T05:02:54.519085Z",
     "iopub.status.busy": "2021-05-24T05:02:54.518339Z",
     "iopub.status.idle": "2021-05-24T05:02:54.520973Z",
     "shell.execute_reply": "2021-05-24T05:02:54.520551Z",
     "shell.execute_reply.started": "2021-05-21T19:40:20.915077Z"
    },
    "papermill": {
     "duration": 0.022144,
     "end_time": "2021-05-24T05:02:54.521116",
     "exception": false,
     "start_time": "2021-05-24T05:02:54.498972",
     "status": "completed"
    },
    "tags": []
   },
   "outputs": [],
   "source": [
    "def convert_examples_to_features(data, tokenizer, max_len, is_test=False):\n",
    "    data = data.replace('\\n', '')\n",
    "    tok = tokenizer.encode_plus(\n",
    "        data, \n",
    "        max_length=max_len, \n",
    "        truncation=True,\n",
    "        return_attention_mask=True,\n",
    "        return_token_type_ids=True\n",
    "    )\n",
    "    curr_sent = {}\n",
    "    padding_length = max_len - len(tok['input_ids'])\n",
    "    curr_sent['input_ids'] = tok['input_ids'] + ([0] * padding_length)\n",
    "    curr_sent['token_type_ids'] = tok['token_type_ids'] + \\\n",
    "        ([0] * padding_length)\n",
    "    curr_sent['attention_mask'] = tok['attention_mask'] + \\\n",
    "        ([0] * padding_length)\n",
    "    return curr_sent"
   ]
  },
  {
   "cell_type": "markdown",
   "id": "administrative-civilization",
   "metadata": {
    "papermill": {
     "duration": 0.013545,
     "end_time": "2021-05-24T05:02:54.548371",
     "exception": false,
     "start_time": "2021-05-24T05:02:54.534826",
     "status": "completed"
    },
    "tags": []
   },
   "source": [
    "### Dataset Retriever"
   ]
  },
  {
   "cell_type": "code",
   "execution_count": 5,
   "id": "subjective-focus",
   "metadata": {
    "execution": {
     "iopub.execute_input": "2021-05-24T05:02:54.585411Z",
     "iopub.status.busy": "2021-05-24T05:02:54.584716Z",
     "iopub.status.idle": "2021-05-24T05:02:54.587277Z",
     "shell.execute_reply": "2021-05-24T05:02:54.586883Z",
     "shell.execute_reply.started": "2021-05-21T19:40:20.926672Z"
    },
    "papermill": {
     "duration": 0.024947,
     "end_time": "2021-05-24T05:02:54.587379",
     "exception": false,
     "start_time": "2021-05-24T05:02:54.562432",
     "status": "completed"
    },
    "tags": []
   },
   "outputs": [],
   "source": [
    "class DatasetRetriever(Dataset):\n",
    "    def __init__(self, data, tokenizer, max_len, is_test=False):\n",
    "        self.data = data\n",
    "        self.excerpts = self.data.excerpt.values.tolist()\n",
    "        self.tokenizer = tokenizer\n",
    "        self.is_test = is_test\n",
    "        self.max_len = max_len\n",
    "    \n",
    "    def __len__(self):\n",
    "        return len(self.data)\n",
    "    \n",
    "    def __getitem__(self, item):\n",
    "        if not self.is_test:\n",
    "            excerpt, label = self.excerpts[item], self.targets[item]\n",
    "            features = convert_examples_to_features(\n",
    "                excerpt, self.tokenizer, \n",
    "                self.max_len, self.is_test\n",
    "            )\n",
    "            return {\n",
    "                'input_ids':torch.tensor(features['input_ids'], dtype=torch.long),\n",
    "                'token_type_ids':torch.tensor(features['token_type_ids'], dtype=torch.long),\n",
    "                'attention_mask':torch.tensor(features['attention_mask'], dtype=torch.long),\n",
    "                'label':torch.tensor(label, dtype=torch.double),\n",
    "            }\n",
    "        else:\n",
    "            excerpt = self.excerpts[item]\n",
    "            features = convert_examples_to_features(\n",
    "                excerpt, self.tokenizer, \n",
    "                self.max_len, self.is_test\n",
    "            )\n",
    "            return {\n",
    "                'input_ids':torch.tensor(features['input_ids'], dtype=torch.long),\n",
    "                'token_type_ids':torch.tensor(features['token_type_ids'], dtype=torch.long),\n",
    "                'attention_mask':torch.tensor(features['attention_mask'], dtype=torch.long),\n",
    "            }"
   ]
  },
  {
   "cell_type": "markdown",
   "id": "planned-opinion",
   "metadata": {
    "papermill": {
     "duration": 0.013851,
     "end_time": "2021-05-24T05:02:54.615166",
     "exception": false,
     "start_time": "2021-05-24T05:02:54.601315",
     "status": "completed"
    },
    "tags": []
   },
   "source": [
    "### Model"
   ]
  },
  {
   "cell_type": "code",
   "execution_count": 6,
   "id": "charged-still",
   "metadata": {
    "execution": {
     "iopub.execute_input": "2021-05-24T05:02:54.657507Z",
     "iopub.status.busy": "2021-05-24T05:02:54.656824Z",
     "iopub.status.idle": "2021-05-24T05:02:54.659553Z",
     "shell.execute_reply": "2021-05-24T05:02:54.659143Z",
     "shell.execute_reply.started": "2021-05-21T19:40:20.939471Z"
    },
    "papermill": {
     "duration": 0.030495,
     "end_time": "2021-05-24T05:02:54.659654",
     "exception": false,
     "start_time": "2021-05-24T05:02:54.629159",
     "status": "completed"
    },
    "tags": []
   },
   "outputs": [],
   "source": [
    "class CommonLitModel(nn.Module):\n",
    "    def __init__(\n",
    "        self, \n",
    "        model_name, \n",
    "        config,  \n",
    "        multisample_dropout=False,\n",
    "        output_hidden_states=False\n",
    "    ):\n",
    "        super(CommonLitModel, self).__init__()\n",
    "        self.config = config\n",
    "        self.roberta = RobertaModel.from_pretrained(\n",
    "            model_name, \n",
    "            output_hidden_states=output_hidden_states\n",
    "        )\n",
    "        self.layer_norm = nn.LayerNorm(config.hidden_size)\n",
    "        if multisample_dropout:\n",
    "            self.dropouts = nn.ModuleList([\n",
    "                nn.Dropout(0.5) for _ in range(5)\n",
    "            ])\n",
    "        else:\n",
    "            self.dropouts = nn.ModuleList([nn.Dropout(0.3)])\n",
    "        self.regressor = nn.Linear(config.hidden_size, 1)\n",
    "        self._init_weights(self.layer_norm)\n",
    "        self._init_weights(self.regressor)\n",
    " \n",
    "    def _init_weights(self, module):\n",
    "        if isinstance(module, nn.Linear):\n",
    "            module.weight.data.normal_(mean=0.0, std=self.config.initializer_range)\n",
    "            if module.bias is not None:\n",
    "                module.bias.data.zero_()\n",
    "        elif isinstance(module, nn.Embedding):\n",
    "            module.weight.data.normal_(mean=0.0, std=self.config.initializer_range)\n",
    "            if module.padding_idx is not None:\n",
    "                module.weight.data[module.padding_idx].zero_()\n",
    "        elif isinstance(module, nn.LayerNorm):\n",
    "            module.bias.data.zero_()\n",
    "            module.weight.data.fill_(1.0)\n",
    " \n",
    "    def forward(\n",
    "        self, \n",
    "        input_ids=None,\n",
    "        attention_mask=None,\n",
    "        token_type_ids=None,\n",
    "        labels=None\n",
    "    ):\n",
    "        outputs = self.roberta(\n",
    "            input_ids,\n",
    "            attention_mask=attention_mask,\n",
    "            token_type_ids=token_type_ids,\n",
    "        )\n",
    "        sequence_output = outputs[1]\n",
    "        sequence_output = self.layer_norm(sequence_output)\n",
    " \n",
    "        # multi-sample dropout\n",
    "        for i, dropout in enumerate(self.dropouts):\n",
    "            if i == 0:\n",
    "                logits = self.regressor(dropout(sequence_output))\n",
    "            else:\n",
    "                logits += self.regressor(dropout(sequence_output))\n",
    "        \n",
    "        logits /= len(self.dropouts)\n",
    " \n",
    "        # calculate loss\n",
    "        loss = None\n",
    "        if labels is not None:\n",
    "            loss_fn = torch.nn.MSELoss()\n",
    "            logits = logits.view(-1).to(labels.dtype)\n",
    "            loss = torch.sqrt(loss_fn(logits, labels.view(-1)))\n",
    "        \n",
    "        output = (logits,) + outputs[1:]\n",
    "        return ((loss,) + output) if loss is not None else output"
   ]
  },
  {
   "cell_type": "markdown",
   "id": "statistical-difference",
   "metadata": {
    "papermill": {
     "duration": 0.013674,
     "end_time": "2021-05-24T05:02:54.687153",
     "exception": false,
     "start_time": "2021-05-24T05:02:54.673479",
     "status": "completed"
    },
    "tags": []
   },
   "source": [
    "### Utils"
   ]
  },
  {
   "cell_type": "code",
   "execution_count": 7,
   "id": "missing-cargo",
   "metadata": {
    "execution": {
     "iopub.execute_input": "2021-05-24T05:02:54.721205Z",
     "iopub.status.busy": "2021-05-24T05:02:54.720458Z",
     "iopub.status.idle": "2021-05-24T05:02:54.723158Z",
     "shell.execute_reply": "2021-05-24T05:02:54.722769Z",
     "shell.execute_reply.started": "2021-05-21T19:40:20.956997Z"
    },
    "papermill": {
     "duration": 0.021894,
     "end_time": "2021-05-24T05:02:54.723271",
     "exception": false,
     "start_time": "2021-05-24T05:02:54.701377",
     "status": "completed"
    },
    "tags": []
   },
   "outputs": [],
   "source": [
    "def make_model(model_name='roberta-base', num_labels=1):\n",
    "    tokenizer = RobertaTokenizer.from_pretrained(model_name)\n",
    "    config = RobertaConfig.from_pretrained(model_name)\n",
    "    config.update({'num_labels':num_labels})\n",
    "    model = CommonLitModel(model_name, config=config)\n",
    "    return model, tokenizer\n",
    "\n",
    "def make_loader(\n",
    "    data, \n",
    "    tokenizer, \n",
    "    max_len,\n",
    "    batch_size,\n",
    "):\n",
    "    \n",
    "    test_dataset = DatasetRetriever(data, tokenizer, max_len, is_test=True)\n",
    "    test_sampler = SequentialSampler(test_dataset)\n",
    "    test_loader = DataLoader(\n",
    "        test_dataset, \n",
    "        batch_size=batch_size // 2, \n",
    "        sampler=test_sampler, \n",
    "        pin_memory=False, \n",
    "        drop_last=False, \n",
    "        num_workers=0\n",
    "    )\n",
    "\n",
    "    return test_loader"
   ]
  },
  {
   "cell_type": "markdown",
   "id": "desperate-bread",
   "metadata": {
    "papermill": {
     "duration": 0.013622,
     "end_time": "2021-05-24T05:02:54.750577",
     "exception": false,
     "start_time": "2021-05-24T05:02:54.736955",
     "status": "completed"
    },
    "tags": []
   },
   "source": [
    "### Evaluator"
   ]
  },
  {
   "cell_type": "code",
   "execution_count": 8,
   "id": "broke-bridges",
   "metadata": {
    "execution": {
     "iopub.execute_input": "2021-05-24T05:02:54.786284Z",
     "iopub.status.busy": "2021-05-24T05:02:54.785538Z",
     "iopub.status.idle": "2021-05-24T05:02:54.788073Z",
     "shell.execute_reply": "2021-05-24T05:02:54.787682Z",
     "shell.execute_reply.started": "2021-05-21T19:40:20.970606Z"
    },
    "papermill": {
     "duration": 0.023461,
     "end_time": "2021-05-24T05:02:54.788172",
     "exception": false,
     "start_time": "2021-05-24T05:02:54.764711",
     "status": "completed"
    },
    "tags": []
   },
   "outputs": [],
   "source": [
    "class Evaluator:\n",
    "    def __init__(self, model, scalar=None):\n",
    "        self.model = model\n",
    "        self.scalar = scalar\n",
    "\n",
    "    def evaluate(self, data_loader, tokenizer):\n",
    "        preds = []\n",
    "        self.model.eval()\n",
    "        total_loss = 0\n",
    "        with torch.no_grad():\n",
    "            for batch_idx, batch_data in enumerate(data_loader):\n",
    "                input_ids, attention_mask, token_type_ids = batch_data['input_ids'], \\\n",
    "                    batch_data['attention_mask'], batch_data['token_type_ids']\n",
    "                input_ids, attention_mask, token_type_ids = input_ids.cuda(), \\\n",
    "                    attention_mask.cuda(), token_type_ids.cuda()\n",
    "                \n",
    "                if self.scalar is not None:\n",
    "                    with torch.cuda.amp.autocast():\n",
    "                        outputs = self.model(\n",
    "                            input_ids=input_ids,\n",
    "                            attention_mask=attention_mask,\n",
    "                            token_type_ids=token_type_ids\n",
    "                        )\n",
    "                else:\n",
    "                    outputs = self.model(\n",
    "                        input_ids=input_ids,\n",
    "                        attention_mask=attention_mask,\n",
    "                        token_type_ids=token_type_ids\n",
    "                    )\n",
    "                \n",
    "                logits = outputs[0].detach().cpu().numpy().squeeze().tolist()\n",
    "                preds += logits\n",
    "        return preds"
   ]
  },
  {
   "cell_type": "markdown",
   "id": "dense-terminal",
   "metadata": {
    "papermill": {
     "duration": 0.013593,
     "end_time": "2021-05-24T05:02:54.815552",
     "exception": false,
     "start_time": "2021-05-24T05:02:54.801959",
     "status": "completed"
    },
    "tags": []
   },
   "source": [
    "### Config"
   ]
  },
  {
   "cell_type": "code",
   "execution_count": 9,
   "id": "interested-nigeria",
   "metadata": {
    "execution": {
     "iopub.execute_input": "2021-05-24T05:02:54.849535Z",
     "iopub.status.busy": "2021-05-24T05:02:54.848886Z",
     "iopub.status.idle": "2021-05-24T05:02:54.851589Z",
     "shell.execute_reply": "2021-05-24T05:02:54.851128Z",
     "shell.execute_reply.started": "2021-05-21T19:40:20.985816Z"
    },
    "papermill": {
     "duration": 0.022469,
     "end_time": "2021-05-24T05:02:54.851715",
     "exception": false,
     "start_time": "2021-05-24T05:02:54.829246",
     "status": "completed"
    },
    "tags": []
   },
   "outputs": [],
   "source": [
    " def config(fold):\n",
    "    torch.manual_seed(2021)\n",
    "    torch.cuda.manual_seed(2021)\n",
    "    torch.cuda.manual_seed_all(2021)\n",
    "    \n",
    "    max_len = 250\n",
    "    batch_size = 64\n",
    "\n",
    "    model, tokenizer = make_model(\n",
    "        model_name='../input/roberta-base/', \n",
    "        num_labels=1\n",
    "    )\n",
    "    model.load_state_dict(\n",
    "        torch.load(f'../input/commonlitrobertaitptfit/model{fold}.bin')\n",
    "    )\n",
    "    test_loader = make_loader(\n",
    "        test, tokenizer, max_len=max_len,\n",
    "        batch_size=batch_size\n",
    "    )\n",
    "\n",
    "    if torch.cuda.device_count() >= 1:\n",
    "        print('Model pushed to {} GPU(s), type {}.'.format(\n",
    "            torch.cuda.device_count(), \n",
    "            torch.cuda.get_device_name(0))\n",
    "        )\n",
    "        model = model.cuda() \n",
    "    else:\n",
    "        raise ValueError('CPU training is not supported')\n",
    "\n",
    "    # scaler = torch.cuda.amp.GradScaler()\n",
    "    scaler = None\n",
    "    return (\n",
    "        model, tokenizer, \n",
    "        test_loader, scaler\n",
    "    )"
   ]
  },
  {
   "cell_type": "markdown",
   "id": "strategic-export",
   "metadata": {
    "papermill": {
     "duration": 0.013726,
     "end_time": "2021-05-24T05:02:54.879221",
     "exception": false,
     "start_time": "2021-05-24T05:02:54.865495",
     "status": "completed"
    },
    "tags": []
   },
   "source": [
    "### Run"
   ]
  },
  {
   "cell_type": "code",
   "execution_count": 10,
   "id": "statutory-optimum",
   "metadata": {
    "execution": {
     "iopub.execute_input": "2021-05-24T05:02:54.913305Z",
     "iopub.status.busy": "2021-05-24T05:02:54.912607Z",
     "iopub.status.idle": "2021-05-24T05:02:54.915423Z",
     "shell.execute_reply": "2021-05-24T05:02:54.914970Z",
     "shell.execute_reply.started": "2021-05-21T19:40:20.998483Z"
    },
    "papermill": {
     "duration": 0.02184,
     "end_time": "2021-05-24T05:02:54.915520",
     "exception": false,
     "start_time": "2021-05-24T05:02:54.893680",
     "status": "completed"
    },
    "tags": []
   },
   "outputs": [],
   "source": [
    "def run(fold=0):\n",
    "    model, tokenizer, \\\n",
    "        test_loader, scaler = config(fold)\n",
    "    \n",
    "    import time\n",
    "\n",
    "    evaluator = Evaluator(model, scaler)\n",
    "\n",
    "    test_time_list = []\n",
    "\n",
    "    torch.cuda.synchronize()\n",
    "    tic1 = time.time()\n",
    "\n",
    "    preds = evaluator.evaluate(test_loader, tokenizer)\n",
    "\n",
    "    torch.cuda.synchronize()\n",
    "    tic2 = time.time() \n",
    "    test_time_list.append(tic2 - tic1)\n",
    "    \n",
    "    del model, tokenizer, test_loader, scaler\n",
    "    gc.collect()\n",
    "    torch.cuda.empty_cache()\n",
    "    \n",
    "    return preds"
   ]
  },
  {
   "cell_type": "code",
   "execution_count": 11,
   "id": "meaningful-confirmation",
   "metadata": {
    "execution": {
     "iopub.execute_input": "2021-05-24T05:02:54.947151Z",
     "iopub.status.busy": "2021-05-24T05:02:54.946492Z",
     "iopub.status.idle": "2021-05-24T05:03:49.921557Z",
     "shell.execute_reply": "2021-05-24T05:03:49.920955Z",
     "shell.execute_reply.started": "2021-05-21T19:40:21.009196Z"
    },
    "papermill": {
     "duration": 54.992464,
     "end_time": "2021-05-24T05:03:49.921718",
     "exception": false,
     "start_time": "2021-05-24T05:02:54.929254",
     "status": "completed"
    },
    "tags": []
   },
   "outputs": [
    {
     "name": "stderr",
     "output_type": "stream",
     "text": [
      "  0%|          | 0/5 [00:00<?, ?it/s]"
     ]
    },
    {
     "name": "stdout",
     "output_type": "stream",
     "text": [
      "Model pushed to 1 GPU(s), type Tesla P100-PCIE-16GB.\n"
     ]
    },
    {
     "name": "stderr",
     "output_type": "stream",
     "text": [
      " 20%|██        | 1/5 [00:22<01:31, 22.87s/it]"
     ]
    },
    {
     "name": "stdout",
     "output_type": "stream",
     "text": [
      "Model pushed to 1 GPU(s), type Tesla P100-PCIE-16GB.\n"
     ]
    },
    {
     "name": "stderr",
     "output_type": "stream",
     "text": [
      " 40%|████      | 2/5 [00:31<00:43, 14.36s/it]"
     ]
    },
    {
     "name": "stdout",
     "output_type": "stream",
     "text": [
      "Model pushed to 1 GPU(s), type Tesla P100-PCIE-16GB.\n"
     ]
    },
    {
     "name": "stderr",
     "output_type": "stream",
     "text": [
      " 60%|██████    | 3/5 [00:38<00:22, 11.22s/it]"
     ]
    },
    {
     "name": "stdout",
     "output_type": "stream",
     "text": [
      "Model pushed to 1 GPU(s), type Tesla P100-PCIE-16GB.\n"
     ]
    },
    {
     "name": "stderr",
     "output_type": "stream",
     "text": [
      " 80%|████████  | 4/5 [00:46<00:09,  9.99s/it]"
     ]
    },
    {
     "name": "stdout",
     "output_type": "stream",
     "text": [
      "Model pushed to 1 GPU(s), type Tesla P100-PCIE-16GB.\n"
     ]
    },
    {
     "name": "stderr",
     "output_type": "stream",
     "text": [
      "100%|██████████| 5/5 [00:54<00:00, 10.99s/it]\n"
     ]
    }
   ],
   "source": [
    "pred_df = pd.DataFrame()\n",
    "for fold in tqdm(range(5)):\n",
    "    pred_df[f'fold{fold}'] = run(fold)"
   ]
  },
  {
   "cell_type": "markdown",
   "id": "final-drunk",
   "metadata": {
    "papermill": {
     "duration": 0.017501,
     "end_time": "2021-05-24T05:03:49.957864",
     "exception": false,
     "start_time": "2021-05-24T05:03:49.940363",
     "status": "completed"
    },
    "tags": []
   },
   "source": [
    "### Make Submission"
   ]
  },
  {
   "cell_type": "code",
   "execution_count": 12,
   "id": "agricultural-reynolds",
   "metadata": {
    "execution": {
     "iopub.execute_input": "2021-05-24T05:03:50.001546Z",
     "iopub.status.busy": "2021-05-24T05:03:49.998640Z",
     "iopub.status.idle": "2021-05-24T05:03:50.136800Z",
     "shell.execute_reply": "2021-05-24T05:03:50.136170Z",
     "shell.execute_reply.started": "2021-05-21T19:41:13.999481Z"
    },
    "papermill": {
     "duration": 0.161503,
     "end_time": "2021-05-24T05:03:50.136925",
     "exception": false,
     "start_time": "2021-05-24T05:03:49.975422",
     "status": "completed"
    },
    "tags": []
   },
   "outputs": [],
   "source": [
    "sub = pd.read_csv('../input/commonlitreadabilityprize/sample_submission.csv')\n",
    "sub['target'] = pred_df.mean(axis=1).values.tolist()\n",
    "sub.to_csv('submission.csv', index=False)"
   ]
  },
  {
   "cell_type": "code",
   "execution_count": 13,
   "id": "loose-bulgaria",
   "metadata": {
    "execution": {
     "iopub.execute_input": "2021-05-24T05:03:50.184044Z",
     "iopub.status.busy": "2021-05-24T05:03:50.183365Z",
     "iopub.status.idle": "2021-05-24T05:03:50.192202Z",
     "shell.execute_reply": "2021-05-24T05:03:50.192698Z",
     "shell.execute_reply.started": "2021-05-21T19:41:14.22802Z"
    },
    "papermill": {
     "duration": 0.037949,
     "end_time": "2021-05-24T05:03:50.192847",
     "exception": false,
     "start_time": "2021-05-24T05:03:50.154898",
     "status": "completed"
    },
    "tags": []
   },
   "outputs": [
    {
     "data": {
      "text/html": [
       "<div>\n",
       "<style scoped>\n",
       "    .dataframe tbody tr th:only-of-type {\n",
       "        vertical-align: middle;\n",
       "    }\n",
       "\n",
       "    .dataframe tbody tr th {\n",
       "        vertical-align: top;\n",
       "    }\n",
       "\n",
       "    .dataframe thead th {\n",
       "        text-align: right;\n",
       "    }\n",
       "</style>\n",
       "<table border=\"1\" class=\"dataframe\">\n",
       "  <thead>\n",
       "    <tr style=\"text-align: right;\">\n",
       "      <th></th>\n",
       "      <th>id</th>\n",
       "      <th>target</th>\n",
       "    </tr>\n",
       "  </thead>\n",
       "  <tbody>\n",
       "    <tr>\n",
       "      <th>0</th>\n",
       "      <td>c0f722661</td>\n",
       "      <td>-0.440446</td>\n",
       "    </tr>\n",
       "    <tr>\n",
       "      <th>1</th>\n",
       "      <td>f0953f0a5</td>\n",
       "      <td>-0.686663</td>\n",
       "    </tr>\n",
       "    <tr>\n",
       "      <th>2</th>\n",
       "      <td>0df072751</td>\n",
       "      <td>-0.424239</td>\n",
       "    </tr>\n",
       "    <tr>\n",
       "      <th>3</th>\n",
       "      <td>04caf4e0c</td>\n",
       "      <td>-2.473719</td>\n",
       "    </tr>\n",
       "    <tr>\n",
       "      <th>4</th>\n",
       "      <td>0e63f8bea</td>\n",
       "      <td>-1.745982</td>\n",
       "    </tr>\n",
       "    <tr>\n",
       "      <th>5</th>\n",
       "      <td>12537fe78</td>\n",
       "      <td>-1.120001</td>\n",
       "    </tr>\n",
       "    <tr>\n",
       "      <th>6</th>\n",
       "      <td>965e592c0</td>\n",
       "      <td>0.158405</td>\n",
       "    </tr>\n",
       "  </tbody>\n",
       "</table>\n",
       "</div>"
      ],
      "text/plain": [
       "          id    target\n",
       "0  c0f722661 -0.440446\n",
       "1  f0953f0a5 -0.686663\n",
       "2  0df072751 -0.424239\n",
       "3  04caf4e0c -2.473719\n",
       "4  0e63f8bea -1.745982\n",
       "5  12537fe78 -1.120001\n",
       "6  965e592c0  0.158405"
      ]
     },
     "execution_count": 13,
     "metadata": {},
     "output_type": "execute_result"
    }
   ],
   "source": [
    "sub"
   ]
  }
 ],
 "metadata": {
  "kernelspec": {
   "display_name": "Python 3",
   "language": "python",
   "name": "python3"
  },
  "language_info": {
   "codemirror_mode": {
    "name": "ipython",
    "version": 3
   },
   "file_extension": ".py",
   "mimetype": "text/x-python",
   "name": "python",
   "nbconvert_exporter": "python",
   "pygments_lexer": "ipython3",
   "version": "3.7.10"
  },
  "papermill": {
   "default_parameters": {},
   "duration": 70.595834,
   "end_time": "2021-05-24T05:03:52.370625",
   "environment_variables": {},
   "exception": null,
   "input_path": "__notebook__.ipynb",
   "output_path": "__notebook__.ipynb",
   "parameters": {},
   "start_time": "2021-05-24T05:02:41.774791",
   "version": "2.3.3"
  }
 },
 "nbformat": 4,
 "nbformat_minor": 5
}
