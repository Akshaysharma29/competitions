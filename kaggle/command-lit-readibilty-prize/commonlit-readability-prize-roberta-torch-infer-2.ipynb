{
 "cells": [
  {
   "cell_type": "markdown",
   "id": "amateur-music",
   "metadata": {
    "papermill": {
     "duration": 0.020895,
     "end_time": "2021-05-27T02:51:30.143988",
     "exception": false,
     "start_time": "2021-05-27T02:51:30.123093",
     "status": "completed"
    },
    "tags": []
   },
   "source": [
    "## Inference Kernel - RoBERTa Base / ITPT + FIT\n",
    "\n",
    "Step 1. ITPT -> [Within Task Pre-Training](https://www.kaggle.com/rhtsingh/commonlit-readability-prize-roberta-torch-itpt?scriptVersionId=63560998)\n",
    "\n",
    "Step 2. FIT -> [Withing Task Finetuning](https://www.kaggle.com/rhtsingh/commonlit-readability-prize-roberta-torch-fit)\n",
    "\n",
    "Step 3. Inference -> **This Kernel**"
   ]
  },
  {
   "cell_type": "markdown",
   "id": "exclusive-edmonton",
   "metadata": {
    "papermill": {
     "duration": 0.019496,
     "end_time": "2021-05-27T02:51:30.183400",
     "exception": false,
     "start_time": "2021-05-27T02:51:30.163904",
     "status": "completed"
    },
    "tags": []
   },
   "source": [
    "### Improvements\n",
    "\n",
    "1. `RoBERTa Large Model`.  \n",
    "2. `Pretraining RoBERTa Large` with MLM objective for `2 Epochs, BS-8, Linear Decay with no warmup`.  \n",
    "3. Finetuning with `Linear scheduler with 6% warmup steps of the Total Steps` = No. of Epochs * Length of DataLoader instead of Total Steps = No. of Epochs.  \n",
    "4. `Batch Size - 8`.  \n",
    "5. `Learning Rate - 2e-5`.  \n",
    "6. Grouped Layerwise Learning Rate Decay  - `2e-5/2.6 for Layers 0-7, 2e-5 for Layers 8-15, 2e-5*2.6 for layers 15-23` : [Guide to HuggingFace Schedulers & Differential LRs](https://www.kaggle.com/rhtsingh/guide-to-huggingface-schedulers-differential-lrs)  \n",
    "7. Optimizer Params - `betas: (0.9, 0.98), eps: 1e-06`.\n",
    "8. `Evaluating after 10 steps` within each epoch.  \n",
    "9. Bug Fixes in Loss Computation and Average Meter.\n",
    "\n",
    "> P.S. Will update finetuning notebook with the above improvements soon. "
   ]
  },
  {
   "cell_type": "markdown",
   "id": "steady-vinyl",
   "metadata": {
    "papermill": {
     "duration": 0.019711,
     "end_time": "2021-05-27T02:51:30.222718",
     "exception": false,
     "start_time": "2021-05-27T02:51:30.203007",
     "status": "completed"
    },
    "tags": []
   },
   "source": [
    "### Load Test Dataset"
   ]
  },
  {
   "cell_type": "code",
   "execution_count": 1,
   "id": "scheduled-investor",
   "metadata": {
    "execution": {
     "iopub.execute_input": "2021-05-27T02:51:30.280231Z",
     "iopub.status.busy": "2021-05-27T02:51:30.279433Z",
     "iopub.status.idle": "2021-05-27T02:51:30.382375Z",
     "shell.execute_reply": "2021-05-27T02:51:30.381589Z",
     "shell.execute_reply.started": "2021-05-23T16:41:54.661185Z"
    },
    "papermill": {
     "duration": 0.139322,
     "end_time": "2021-05-27T02:51:30.382576",
     "exception": false,
     "start_time": "2021-05-27T02:51:30.243254",
     "status": "completed"
    },
    "tags": []
   },
   "outputs": [],
   "source": [
    "import pandas as pd\n",
    "import numpy as np\n",
    "\n",
    "train = pd.read_csv('../input/commonlitreadabilityprize/train.csv')\n",
    "test = pd.read_csv('../input/commonlitreadabilityprize/test.csv')"
   ]
  },
  {
   "cell_type": "markdown",
   "id": "drawn-specific",
   "metadata": {
    "papermill": {
     "duration": 0.018804,
     "end_time": "2021-05-27T02:51:30.421064",
     "exception": false,
     "start_time": "2021-05-27T02:51:30.402260",
     "status": "completed"
    },
    "tags": []
   },
   "source": [
    "### Import Dependencies"
   ]
  },
  {
   "cell_type": "code",
   "execution_count": 2,
   "id": "logical-period",
   "metadata": {
    "execution": {
     "iopub.execute_input": "2021-05-27T02:51:30.478340Z",
     "iopub.status.busy": "2021-05-27T02:51:30.475909Z",
     "iopub.status.idle": "2021-05-27T02:51:30.479154Z",
     "shell.execute_reply": "2021-05-27T02:51:30.479755Z",
     "shell.execute_reply.started": "2021-05-23T16:41:54.755336Z"
    },
    "papermill": {
     "duration": 0.034257,
     "end_time": "2021-05-27T02:51:30.479978",
     "exception": false,
     "start_time": "2021-05-27T02:51:30.445721",
     "status": "completed"
    },
    "tags": []
   },
   "outputs": [],
   "source": [
    "%matplotlib inline\n",
    "from glob import glob\n",
    "import os\n",
    "import matplotlib.pyplot as plt\n",
    "import json\n",
    "from collections import defaultdict\n",
    "import gc\n",
    "gc.enable()"
   ]
  },
  {
   "cell_type": "code",
   "execution_count": 3,
   "id": "dense-wrapping",
   "metadata": {
    "execution": {
     "iopub.execute_input": "2021-05-27T02:51:30.528001Z",
     "iopub.status.busy": "2021-05-27T02:51:30.527266Z",
     "iopub.status.idle": "2021-05-27T02:51:38.525337Z",
     "shell.execute_reply": "2021-05-27T02:51:38.524725Z",
     "shell.execute_reply.started": "2021-05-23T16:42:57.607537Z"
    },
    "papermill": {
     "duration": 8.024889,
     "end_time": "2021-05-27T02:51:38.525500",
     "exception": false,
     "start_time": "2021-05-27T02:51:30.500611",
     "status": "completed"
    },
    "tags": []
   },
   "outputs": [],
   "source": [
    "import torch\n",
    "import torch.nn as nn\n",
    "import torch.nn.functional as F\n",
    "import torch.optim as optim\n",
    "from torch.optim.optimizer import Optimizer\n",
    "import torch.optim.lr_scheduler as lr_scheduler\n",
    "from torch.utils.data import (\n",
    "    Dataset, DataLoader, \n",
    "    SequentialSampler, RandomSampler\n",
    ")\n",
    "from transformers import RobertaConfig\n",
    "from transformers import (\n",
    "    get_cosine_schedule_with_warmup, \n",
    "    get_cosine_with_hard_restarts_schedule_with_warmup\n",
    ")\n",
    "from transformers import RobertaTokenizer\n",
    "from transformers import RobertaModel\n",
    "from IPython.display import clear_output\n",
    "from tqdm import tqdm, trange"
   ]
  },
  {
   "cell_type": "markdown",
   "id": "dried-server",
   "metadata": {
    "papermill": {
     "duration": 0.019921,
     "end_time": "2021-05-27T02:51:38.565416",
     "exception": false,
     "start_time": "2021-05-27T02:51:38.545495",
     "status": "completed"
    },
    "tags": []
   },
   "source": [
    "### Convert Examples `(Excerpt)` to Features"
   ]
  },
  {
   "cell_type": "code",
   "execution_count": 4,
   "id": "southwest-collect",
   "metadata": {
    "execution": {
     "iopub.execute_input": "2021-05-27T02:51:38.614623Z",
     "iopub.status.busy": "2021-05-27T02:51:38.613719Z",
     "iopub.status.idle": "2021-05-27T02:51:38.617726Z",
     "shell.execute_reply": "2021-05-27T02:51:38.617142Z",
     "shell.execute_reply.started": "2021-05-23T16:42:59.77993Z"
    },
    "papermill": {
     "duration": 0.031784,
     "end_time": "2021-05-27T02:51:38.617888",
     "exception": false,
     "start_time": "2021-05-27T02:51:38.586104",
     "status": "completed"
    },
    "tags": []
   },
   "outputs": [],
   "source": [
    "def convert_examples_to_features(data, tokenizer, max_len, is_test=False):\n",
    "    data = data.replace('\\n', '')\n",
    "    tok = tokenizer.encode_plus(\n",
    "        data, \n",
    "        max_length=max_len, \n",
    "        truncation=True,\n",
    "        return_attention_mask=True,\n",
    "        return_token_type_ids=True\n",
    "    )\n",
    "    curr_sent = {}\n",
    "    padding_length = max_len - len(tok['input_ids'])\n",
    "    curr_sent['input_ids'] = tok['input_ids'] + ([0] * padding_length)\n",
    "    curr_sent['token_type_ids'] = tok['token_type_ids'] + \\\n",
    "        ([0] * padding_length)\n",
    "    curr_sent['attention_mask'] = tok['attention_mask'] + \\\n",
    "        ([0] * padding_length)\n",
    "    return curr_sent"
   ]
  },
  {
   "cell_type": "markdown",
   "id": "based-civilian",
   "metadata": {
    "papermill": {
     "duration": 0.019274,
     "end_time": "2021-05-27T02:51:38.656913",
     "exception": false,
     "start_time": "2021-05-27T02:51:38.637639",
     "status": "completed"
    },
    "tags": []
   },
   "source": [
    "### Dataset Retriever"
   ]
  },
  {
   "cell_type": "code",
   "execution_count": 5,
   "id": "cognitive-showcase",
   "metadata": {
    "execution": {
     "iopub.execute_input": "2021-05-27T02:51:38.710448Z",
     "iopub.status.busy": "2021-05-27T02:51:38.708258Z",
     "iopub.status.idle": "2021-05-27T02:51:38.711389Z",
     "shell.execute_reply": "2021-05-27T02:51:38.711933Z",
     "shell.execute_reply.started": "2021-05-23T16:43:02.523703Z"
    },
    "papermill": {
     "duration": 0.035673,
     "end_time": "2021-05-27T02:51:38.712115",
     "exception": false,
     "start_time": "2021-05-27T02:51:38.676442",
     "status": "completed"
    },
    "tags": []
   },
   "outputs": [],
   "source": [
    "class DatasetRetriever(Dataset):\n",
    "    def __init__(self, data, tokenizer, max_len, is_test=False):\n",
    "        self.data = data\n",
    "        self.excerpts = self.data.excerpt.values.tolist()\n",
    "        self.tokenizer = tokenizer\n",
    "        self.is_test = is_test\n",
    "        self.max_len = max_len\n",
    "    \n",
    "    def __len__(self):\n",
    "        return len(self.data)\n",
    "    \n",
    "    def __getitem__(self, item):\n",
    "        if not self.is_test:\n",
    "            excerpt, label = self.excerpts[item], self.targets[item]\n",
    "            features = convert_examples_to_features(\n",
    "                excerpt, self.tokenizer, \n",
    "                self.max_len, self.is_test\n",
    "            )\n",
    "            return {\n",
    "                'input_ids':torch.tensor(features['input_ids'], dtype=torch.long),\n",
    "                'token_type_ids':torch.tensor(features['token_type_ids'], dtype=torch.long),\n",
    "                'attention_mask':torch.tensor(features['attention_mask'], dtype=torch.long),\n",
    "                'label':torch.tensor(label, dtype=torch.double),\n",
    "            }\n",
    "        else:\n",
    "            excerpt = self.excerpts[item]\n",
    "            features = convert_examples_to_features(\n",
    "                excerpt, self.tokenizer, \n",
    "                self.max_len, self.is_test\n",
    "            )\n",
    "            return {\n",
    "                'input_ids':torch.tensor(features['input_ids'], dtype=torch.long),\n",
    "                'token_type_ids':torch.tensor(features['token_type_ids'], dtype=torch.long),\n",
    "                'attention_mask':torch.tensor(features['attention_mask'], dtype=torch.long),\n",
    "            }"
   ]
  },
  {
   "cell_type": "markdown",
   "id": "variable-statement",
   "metadata": {
    "papermill": {
     "duration": 0.019986,
     "end_time": "2021-05-27T02:51:38.751647",
     "exception": false,
     "start_time": "2021-05-27T02:51:38.731661",
     "status": "completed"
    },
    "tags": []
   },
   "source": [
    "### Model"
   ]
  },
  {
   "cell_type": "code",
   "execution_count": 6,
   "id": "acoustic-selling",
   "metadata": {
    "execution": {
     "iopub.execute_input": "2021-05-27T02:51:38.809853Z",
     "iopub.status.busy": "2021-05-27T02:51:38.808669Z",
     "iopub.status.idle": "2021-05-27T02:51:38.811930Z",
     "shell.execute_reply": "2021-05-27T02:51:38.811227Z",
     "shell.execute_reply.started": "2021-05-23T16:43:14.141507Z"
    },
    "papermill": {
     "duration": 0.040181,
     "end_time": "2021-05-27T02:51:38.812092",
     "exception": false,
     "start_time": "2021-05-27T02:51:38.771911",
     "status": "completed"
    },
    "tags": []
   },
   "outputs": [],
   "source": [
    "class CommonLitModel(nn.Module):\n",
    "    def __init__(\n",
    "        self, \n",
    "        model_name, \n",
    "        config,  \n",
    "        multisample_dropout=False,\n",
    "        output_hidden_states=False\n",
    "    ):\n",
    "        super(CommonLitModel, self).__init__()\n",
    "        self.config = config\n",
    "        self.roberta = RobertaModel.from_pretrained(\n",
    "            model_name, \n",
    "            output_hidden_states=output_hidden_states\n",
    "        )\n",
    "        self.layer_norm = nn.LayerNorm(config.hidden_size)\n",
    "        if multisample_dropout:\n",
    "            self.dropouts = nn.ModuleList([\n",
    "                nn.Dropout(0.5) for _ in range(5)\n",
    "            ])\n",
    "        else:\n",
    "            self.dropouts = nn.ModuleList([nn.Dropout(0.3)])\n",
    "        self.regressor = nn.Linear(config.hidden_size, 1)\n",
    "        self._init_weights(self.layer_norm)\n",
    "        self._init_weights(self.regressor)\n",
    " \n",
    "    def _init_weights(self, module):\n",
    "        if isinstance(module, nn.Linear):\n",
    "            module.weight.data.normal_(mean=0.0, std=self.config.initializer_range)\n",
    "            if module.bias is not None:\n",
    "                module.bias.data.zero_()\n",
    "        elif isinstance(module, nn.Embedding):\n",
    "            module.weight.data.normal_(mean=0.0, std=self.config.initializer_range)\n",
    "            if module.padding_idx is not None:\n",
    "                module.weight.data[module.padding_idx].zero_()\n",
    "        elif isinstance(module, nn.LayerNorm):\n",
    "            module.bias.data.zero_()\n",
    "            module.weight.data.fill_(1.0)\n",
    " \n",
    "    def forward(\n",
    "        self, \n",
    "        input_ids=None,\n",
    "        attention_mask=None,\n",
    "        token_type_ids=None,\n",
    "        labels=None\n",
    "    ):\n",
    "        outputs = self.roberta(\n",
    "            input_ids,\n",
    "            attention_mask=attention_mask,\n",
    "            token_type_ids=token_type_ids,\n",
    "        )\n",
    "        sequence_output = outputs[1]\n",
    "        sequence_output = self.layer_norm(sequence_output)\n",
    " \n",
    "        # multi-sample dropout\n",
    "        for i, dropout in enumerate(self.dropouts):\n",
    "            if i == 0:\n",
    "                logits = self.regressor(dropout(sequence_output))\n",
    "            else:\n",
    "                logits += self.regressor(dropout(sequence_output))\n",
    "        \n",
    "        logits /= len(self.dropouts)\n",
    " \n",
    "        # calculate loss\n",
    "        loss = None\n",
    "        if labels is not None:\n",
    "            loss_fn = torch.nn.MSELoss()\n",
    "            logits = logits.view(-1).to(labels.dtype)\n",
    "            loss = torch.sqrt(loss_fn(logits, labels.view(-1)))\n",
    "        \n",
    "        output = (logits,) + outputs[1:]\n",
    "        return ((loss,) + output) if loss is not None else output"
   ]
  },
  {
   "cell_type": "markdown",
   "id": "fossil-preparation",
   "metadata": {
    "papermill": {
     "duration": 0.020288,
     "end_time": "2021-05-27T02:51:38.853065",
     "exception": false,
     "start_time": "2021-05-27T02:51:38.832777",
     "status": "completed"
    },
    "tags": []
   },
   "source": [
    "### Utils"
   ]
  },
  {
   "cell_type": "code",
   "execution_count": 7,
   "id": "electric-modeling",
   "metadata": {
    "execution": {
     "iopub.execute_input": "2021-05-27T02:51:38.903111Z",
     "iopub.status.busy": "2021-05-27T02:51:38.901939Z",
     "iopub.status.idle": "2021-05-27T02:51:38.905457Z",
     "shell.execute_reply": "2021-05-27T02:51:38.904873Z",
     "shell.execute_reply.started": "2021-05-23T16:43:33.2238Z"
    },
    "papermill": {
     "duration": 0.032172,
     "end_time": "2021-05-27T02:51:38.905624",
     "exception": false,
     "start_time": "2021-05-27T02:51:38.873452",
     "status": "completed"
    },
    "tags": []
   },
   "outputs": [],
   "source": [
    "def make_model(model_name='roberta-large', num_labels=1):\n",
    "    tokenizer = RobertaTokenizer.from_pretrained(model_name)\n",
    "    config = RobertaConfig.from_pretrained(model_name)\n",
    "    config.update({'num_labels':num_labels})\n",
    "    model = CommonLitModel(model_name, config=config)\n",
    "    return model, tokenizer\n",
    "\n",
    "def make_loader(\n",
    "    data, \n",
    "    tokenizer, \n",
    "    max_len,\n",
    "    batch_size,\n",
    "):\n",
    "    \n",
    "    test_dataset = DatasetRetriever(data, tokenizer, max_len, is_test=True)\n",
    "    test_sampler = SequentialSampler(test_dataset)\n",
    "    test_loader = DataLoader(\n",
    "        test_dataset, \n",
    "        batch_size=batch_size // 2, \n",
    "        sampler=test_sampler, \n",
    "        pin_memory=False, \n",
    "        drop_last=False, \n",
    "        num_workers=0\n",
    "    )\n",
    "\n",
    "    return test_loader"
   ]
  },
  {
   "cell_type": "markdown",
   "id": "equipped-forward",
   "metadata": {
    "papermill": {
     "duration": 0.020009,
     "end_time": "2021-05-27T02:51:38.945594",
     "exception": false,
     "start_time": "2021-05-27T02:51:38.925585",
     "status": "completed"
    },
    "tags": []
   },
   "source": [
    "### Evaluator"
   ]
  },
  {
   "cell_type": "code",
   "execution_count": 8,
   "id": "brazilian-plant",
   "metadata": {
    "execution": {
     "iopub.execute_input": "2021-05-27T02:51:38.997403Z",
     "iopub.status.busy": "2021-05-27T02:51:38.996343Z",
     "iopub.status.idle": "2021-05-27T02:51:38.999270Z",
     "shell.execute_reply": "2021-05-27T02:51:38.999899Z",
     "shell.execute_reply.started": "2021-05-23T16:43:35.150384Z"
    },
    "papermill": {
     "duration": 0.033651,
     "end_time": "2021-05-27T02:51:39.000058",
     "exception": false,
     "start_time": "2021-05-27T02:51:38.966407",
     "status": "completed"
    },
    "tags": []
   },
   "outputs": [],
   "source": [
    "class Evaluator:\n",
    "    def __init__(self, model, scalar=None):\n",
    "        self.model = model\n",
    "        self.scalar = scalar\n",
    "\n",
    "    def evaluate(self, data_loader, tokenizer):\n",
    "        preds = []\n",
    "        self.model.eval()\n",
    "        total_loss = 0\n",
    "        with torch.no_grad():\n",
    "            for batch_idx, batch_data in enumerate(data_loader):\n",
    "                input_ids, attention_mask, token_type_ids = batch_data['input_ids'], \\\n",
    "                    batch_data['attention_mask'], batch_data['token_type_ids']\n",
    "                input_ids, attention_mask, token_type_ids = input_ids.cuda(), \\\n",
    "                    attention_mask.cuda(), token_type_ids.cuda()\n",
    "                \n",
    "                if self.scalar is not None:\n",
    "                    with torch.cuda.amp.autocast():\n",
    "                        outputs = self.model(\n",
    "                            input_ids=input_ids,\n",
    "                            attention_mask=attention_mask,\n",
    "                            token_type_ids=token_type_ids\n",
    "                        )\n",
    "                else:\n",
    "                    outputs = self.model(\n",
    "                        input_ids=input_ids,\n",
    "                        attention_mask=attention_mask,\n",
    "                        token_type_ids=token_type_ids\n",
    "                    )\n",
    "                \n",
    "                logits = outputs[0].detach().cpu().numpy().squeeze().tolist()\n",
    "                preds += logits\n",
    "        return preds"
   ]
  },
  {
   "cell_type": "markdown",
   "id": "intimate-extent",
   "metadata": {
    "papermill": {
     "duration": 0.02059,
     "end_time": "2021-05-27T02:51:39.041111",
     "exception": false,
     "start_time": "2021-05-27T02:51:39.020521",
     "status": "completed"
    },
    "tags": []
   },
   "source": [
    "### Config"
   ]
  },
  {
   "cell_type": "code",
   "execution_count": 9,
   "id": "linear-strand",
   "metadata": {
    "execution": {
     "iopub.execute_input": "2021-05-27T02:51:39.089279Z",
     "iopub.status.busy": "2021-05-27T02:51:39.088465Z",
     "iopub.status.idle": "2021-05-27T02:51:39.092736Z",
     "shell.execute_reply": "2021-05-27T02:51:39.092133Z",
     "shell.execute_reply.started": "2021-05-23T16:44:35.207342Z"
    },
    "papermill": {
     "duration": 0.03194,
     "end_time": "2021-05-27T02:51:39.092884",
     "exception": false,
     "start_time": "2021-05-27T02:51:39.060944",
     "status": "completed"
    },
    "tags": []
   },
   "outputs": [],
   "source": [
    " def config(fold):\n",
    "    torch.manual_seed(2021)\n",
    "    torch.cuda.manual_seed(2021)\n",
    "    torch.cuda.manual_seed_all(2021)\n",
    "    \n",
    "    max_len = 250\n",
    "    batch_size = 8\n",
    "\n",
    "    model, tokenizer = make_model(\n",
    "        model_name='../input/robertalarge/', \n",
    "        num_labels=1\n",
    "    )\n",
    "    model.load_state_dict(\n",
    "        torch.load(f'../input/roberta-large-itptfit/model{fold}.bin')\n",
    "    )\n",
    "    test_loader = make_loader(\n",
    "        test, tokenizer, max_len=max_len,\n",
    "        batch_size=batch_size\n",
    "    )\n",
    "\n",
    "    if torch.cuda.device_count() >= 1:\n",
    "        print('Model pushed to {} GPU(s), type {}.'.format(\n",
    "            torch.cuda.device_count(), \n",
    "            torch.cuda.get_device_name(0))\n",
    "        )\n",
    "        model = model.cuda() \n",
    "    else:\n",
    "        raise ValueError('CPU training is not supported')\n",
    "\n",
    "    # scaler = torch.cuda.amp.GradScaler()\n",
    "    scaler = None\n",
    "    return (\n",
    "        model, tokenizer, \n",
    "        test_loader, scaler\n",
    "    )"
   ]
  },
  {
   "cell_type": "markdown",
   "id": "annoying-elder",
   "metadata": {
    "papermill": {
     "duration": 0.019852,
     "end_time": "2021-05-27T02:51:39.132029",
     "exception": false,
     "start_time": "2021-05-27T02:51:39.112177",
     "status": "completed"
    },
    "tags": []
   },
   "source": [
    "### Run"
   ]
  },
  {
   "cell_type": "code",
   "execution_count": 10,
   "id": "paperback-puppy",
   "metadata": {
    "execution": {
     "iopub.execute_input": "2021-05-27T02:51:39.183117Z",
     "iopub.status.busy": "2021-05-27T02:51:39.180804Z",
     "iopub.status.idle": "2021-05-27T02:51:39.183900Z",
     "shell.execute_reply": "2021-05-27T02:51:39.184516Z",
     "shell.execute_reply.started": "2021-05-23T16:44:39.581493Z"
    },
    "papermill": {
     "duration": 0.032444,
     "end_time": "2021-05-27T02:51:39.184714",
     "exception": false,
     "start_time": "2021-05-27T02:51:39.152270",
     "status": "completed"
    },
    "tags": []
   },
   "outputs": [],
   "source": [
    "def run(fold=0):\n",
    "    model, tokenizer, \\\n",
    "        test_loader, scaler = config(fold)\n",
    "    \n",
    "    import time\n",
    "\n",
    "    evaluator = Evaluator(model, scaler)\n",
    "\n",
    "    test_time_list = []\n",
    "\n",
    "    torch.cuda.synchronize()\n",
    "    tic1 = time.time()\n",
    "\n",
    "    preds = evaluator.evaluate(test_loader, tokenizer)\n",
    "\n",
    "    torch.cuda.synchronize()\n",
    "    tic2 = time.time() \n",
    "    test_time_list.append(tic2 - tic1)\n",
    "    \n",
    "    del model, tokenizer, test_loader, scaler\n",
    "    gc.collect()\n",
    "    torch.cuda.empty_cache()\n",
    "    \n",
    "    return preds"
   ]
  },
  {
   "cell_type": "code",
   "execution_count": 11,
   "id": "burning-package",
   "metadata": {
    "execution": {
     "iopub.execute_input": "2021-05-27T02:51:39.230300Z",
     "iopub.status.busy": "2021-05-27T02:51:39.229271Z",
     "iopub.status.idle": "2021-05-27T02:54:05.796365Z",
     "shell.execute_reply": "2021-05-27T02:54:05.797458Z",
     "shell.execute_reply.started": "2021-05-23T16:44:41.984492Z"
    },
    "papermill": {
     "duration": 146.593515,
     "end_time": "2021-05-27T02:54:05.797777",
     "exception": false,
     "start_time": "2021-05-27T02:51:39.204262",
     "status": "completed"
    },
    "tags": []
   },
   "outputs": [
    {
     "name": "stderr",
     "output_type": "stream",
     "text": [
      "  0%|          | 0/5 [00:00<?, ?it/s]"
     ]
    },
    {
     "name": "stdout",
     "output_type": "stream",
     "text": [
      "Model pushed to 1 GPU(s), type Tesla P100-PCIE-16GB.\n"
     ]
    },
    {
     "name": "stderr",
     "output_type": "stream",
     "text": [
      " 20%|██        | 1/5 [00:46<03:06, 46.70s/it]"
     ]
    },
    {
     "name": "stdout",
     "output_type": "stream",
     "text": [
      "Model pushed to 1 GPU(s), type Tesla P100-PCIE-16GB.\n"
     ]
    },
    {
     "name": "stderr",
     "output_type": "stream",
     "text": [
      " 40%|████      | 2/5 [01:11<01:41, 33.86s/it]"
     ]
    },
    {
     "name": "stdout",
     "output_type": "stream",
     "text": [
      "Model pushed to 1 GPU(s), type Tesla P100-PCIE-16GB.\n"
     ]
    },
    {
     "name": "stderr",
     "output_type": "stream",
     "text": [
      " 60%|██████    | 3/5 [01:36<00:59, 29.78s/it]"
     ]
    },
    {
     "name": "stdout",
     "output_type": "stream",
     "text": [
      "Model pushed to 1 GPU(s), type Tesla P100-PCIE-16GB.\n"
     ]
    },
    {
     "name": "stderr",
     "output_type": "stream",
     "text": [
      " 80%|████████  | 4/5 [02:01<00:27, 27.99s/it]"
     ]
    },
    {
     "name": "stdout",
     "output_type": "stream",
     "text": [
      "Model pushed to 1 GPU(s), type Tesla P100-PCIE-16GB.\n"
     ]
    },
    {
     "name": "stderr",
     "output_type": "stream",
     "text": [
      "100%|██████████| 5/5 [02:26<00:00, 29.31s/it]\n"
     ]
    }
   ],
   "source": [
    "pred_df = pd.DataFrame()\n",
    "for fold in tqdm(range(5)):\n",
    "    pred_df[f'fold{fold}'] = run(fold)"
   ]
  },
  {
   "cell_type": "markdown",
   "id": "political-guard",
   "metadata": {
    "papermill": {
     "duration": 0.041668,
     "end_time": "2021-05-27T02:54:05.880848",
     "exception": false,
     "start_time": "2021-05-27T02:54:05.839180",
     "status": "completed"
    },
    "tags": []
   },
   "source": [
    "### Make Submission"
   ]
  },
  {
   "cell_type": "code",
   "execution_count": 12,
   "id": "alternative-freeware",
   "metadata": {
    "execution": {
     "iopub.execute_input": "2021-05-27T02:54:05.976592Z",
     "iopub.status.busy": "2021-05-27T02:54:05.975907Z",
     "iopub.status.idle": "2021-05-27T02:54:06.242354Z",
     "shell.execute_reply": "2021-05-27T02:54:06.241635Z",
     "shell.execute_reply.started": "2021-05-23T16:46:34.947338Z"
    },
    "papermill": {
     "duration": 0.319287,
     "end_time": "2021-05-27T02:54:06.242509",
     "exception": false,
     "start_time": "2021-05-27T02:54:05.923222",
     "status": "completed"
    },
    "tags": []
   },
   "outputs": [],
   "source": [
    "sub = pd.read_csv('../input/commonlitreadabilityprize/sample_submission.csv')\n",
    "sub['target'] = pred_df.mean(axis=1).values.tolist()\n",
    "sub.to_csv('submission.csv', index=False)"
   ]
  },
  {
   "cell_type": "code",
   "execution_count": 13,
   "id": "young-guest",
   "metadata": {
    "execution": {
     "iopub.execute_input": "2021-05-27T02:54:06.309638Z",
     "iopub.status.busy": "2021-05-27T02:54:06.308841Z",
     "iopub.status.idle": "2021-05-27T02:54:06.320946Z",
     "shell.execute_reply": "2021-05-27T02:54:06.321543Z",
     "shell.execute_reply.started": "2021-05-23T16:46:37.29788Z"
    },
    "papermill": {
     "duration": 0.05392,
     "end_time": "2021-05-27T02:54:06.321782",
     "exception": false,
     "start_time": "2021-05-27T02:54:06.267862",
     "status": "completed"
    },
    "tags": []
   },
   "outputs": [
    {
     "data": {
      "text/html": [
       "<div>\n",
       "<style scoped>\n",
       "    .dataframe tbody tr th:only-of-type {\n",
       "        vertical-align: middle;\n",
       "    }\n",
       "\n",
       "    .dataframe tbody tr th {\n",
       "        vertical-align: top;\n",
       "    }\n",
       "\n",
       "    .dataframe thead th {\n",
       "        text-align: right;\n",
       "    }\n",
       "</style>\n",
       "<table border=\"1\" class=\"dataframe\">\n",
       "  <thead>\n",
       "    <tr style=\"text-align: right;\">\n",
       "      <th></th>\n",
       "      <th>id</th>\n",
       "      <th>target</th>\n",
       "    </tr>\n",
       "  </thead>\n",
       "  <tbody>\n",
       "    <tr>\n",
       "      <th>0</th>\n",
       "      <td>c0f722661</td>\n",
       "      <td>-0.381734</td>\n",
       "    </tr>\n",
       "    <tr>\n",
       "      <th>1</th>\n",
       "      <td>f0953f0a5</td>\n",
       "      <td>-0.503637</td>\n",
       "    </tr>\n",
       "    <tr>\n",
       "      <th>2</th>\n",
       "      <td>0df072751</td>\n",
       "      <td>-0.489259</td>\n",
       "    </tr>\n",
       "    <tr>\n",
       "      <th>3</th>\n",
       "      <td>04caf4e0c</td>\n",
       "      <td>-2.416199</td>\n",
       "    </tr>\n",
       "    <tr>\n",
       "      <th>4</th>\n",
       "      <td>0e63f8bea</td>\n",
       "      <td>-1.947033</td>\n",
       "    </tr>\n",
       "    <tr>\n",
       "      <th>5</th>\n",
       "      <td>12537fe78</td>\n",
       "      <td>-1.179101</td>\n",
       "    </tr>\n",
       "    <tr>\n",
       "      <th>6</th>\n",
       "      <td>965e592c0</td>\n",
       "      <td>0.149449</td>\n",
       "    </tr>\n",
       "  </tbody>\n",
       "</table>\n",
       "</div>"
      ],
      "text/plain": [
       "          id    target\n",
       "0  c0f722661 -0.381734\n",
       "1  f0953f0a5 -0.503637\n",
       "2  0df072751 -0.489259\n",
       "3  04caf4e0c -2.416199\n",
       "4  0e63f8bea -1.947033\n",
       "5  12537fe78 -1.179101\n",
       "6  965e592c0  0.149449"
      ]
     },
     "execution_count": 13,
     "metadata": {},
     "output_type": "execute_result"
    }
   ],
   "source": [
    "sub"
   ]
  },
  {
   "cell_type": "code",
   "execution_count": null,
   "id": "first-strip",
   "metadata": {
    "papermill": {
     "duration": 0.025834,
     "end_time": "2021-05-27T02:54:06.372925",
     "exception": false,
     "start_time": "2021-05-27T02:54:06.347091",
     "status": "completed"
    },
    "tags": []
   },
   "outputs": [],
   "source": []
  }
 ],
 "metadata": {
  "kernelspec": {
   "display_name": "Python 3",
   "language": "python",
   "name": "python3"
  },
  "language_info": {
   "codemirror_mode": {
    "name": "ipython",
    "version": 3
   },
   "file_extension": ".py",
   "mimetype": "text/x-python",
   "name": "python",
   "nbconvert_exporter": "python",
   "pygments_lexer": "ipython3",
   "version": "3.7.10"
  },
  "papermill": {
   "default_parameters": {},
   "duration": 166.899376,
   "end_time": "2021-05-27T02:54:08.795561",
   "environment_variables": {},
   "exception": null,
   "input_path": "__notebook__.ipynb",
   "output_path": "__notebook__.ipynb",
   "parameters": {},
   "start_time": "2021-05-27T02:51:21.896185",
   "version": "2.3.3"
  }
 },
 "nbformat": 4,
 "nbformat_minor": 5
}
