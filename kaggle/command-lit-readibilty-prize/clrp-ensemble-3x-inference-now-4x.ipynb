{
 "cells": [
  {
   "cell_type": "markdown",
   "id": "smooth-discipline",
   "metadata": {
    "papermill": {
     "duration": 0.035152,
     "end_time": "2021-08-01T05:38:45.216131",
     "exception": false,
     "start_time": "2021-08-01T05:38:45.180979",
     "status": "completed"
    },
    "tags": []
   },
   "source": [
    "# Overview\n",
    "\n",
    "This notebook combines three models."
   ]
  },
  {
   "cell_type": "code",
   "execution_count": 1,
   "id": "unsigned-behalf",
   "metadata": {
    "_kg_hide-input": true,
    "execution": {
     "iopub.execute_input": "2021-08-01T05:38:45.293960Z",
     "iopub.status.busy": "2021-08-01T05:38:45.293302Z",
     "iopub.status.idle": "2021-08-01T05:38:48.042229Z",
     "shell.execute_reply": "2021-08-01T05:38:48.041658Z",
     "shell.execute_reply.started": "2021-07-27T04:13:04.830433Z"
    },
    "papermill": {
     "duration": 2.7932,
     "end_time": "2021-08-01T05:38:48.042417",
     "exception": false,
     "start_time": "2021-08-01T05:38:45.249217",
     "status": "completed"
    },
    "tags": []
   },
   "outputs": [],
   "source": [
    "import os\n",
    "import math\n",
    "import random\n",
    "import time\n",
    "\n",
    "import numpy as np\n",
    "import pandas as pd\n",
    "from tqdm import tqdm\n",
    "\n",
    "import torch\n",
    "import torch.nn as nn\n",
    "from torch.utils.data import Dataset\n",
    "from torch.utils.data import DataLoader\n",
    "\n",
    "from transformers import AutoTokenizer\n",
    "from transformers import AutoModel\n",
    "from transformers import AutoConfig\n",
    "\n",
    "from sklearn.model_selection import KFold\n",
    "from sklearn.svm import SVR\n",
    "\n",
    "import gc\n",
    "gc.enable()"
   ]
  },
  {
   "cell_type": "code",
   "execution_count": 2,
   "id": "numerous-video",
   "metadata": {
    "execution": {
     "iopub.execute_input": "2021-08-01T05:38:48.156259Z",
     "iopub.status.busy": "2021-08-01T05:38:48.155418Z",
     "iopub.status.idle": "2021-08-01T05:38:48.159098Z",
     "shell.execute_reply": "2021-08-01T05:38:48.159579Z",
     "shell.execute_reply.started": "2021-07-27T04:13:07.711884Z"
    },
    "papermill": {
     "duration": 0.084117,
     "end_time": "2021-08-01T05:38:48.159715",
     "exception": false,
     "start_time": "2021-08-01T05:38:48.075598",
     "status": "completed"
    },
    "tags": []
   },
   "outputs": [
    {
     "data": {
      "text/plain": [
       "'cuda'"
      ]
     },
     "execution_count": 2,
     "metadata": {},
     "output_type": "execute_result"
    }
   ],
   "source": [
    "BATCH_SIZE = 32\n",
    "MAX_LEN = 248\n",
    "EVAL_SCHEDULE = [(0.5, 16), (0.49, 8), (0.48, 4), (0.47, 2), (-1, 1)]\n",
    "ROBERTA_PATH = \"../input/roberta-transformers-pytorch/roberta-base\"\n",
    "TOKENIZER_PATH = \"../input/roberta-transformers-pytorch/roberta-base\"\n",
    "DEVICE = \"cuda\" if torch.cuda.is_available() else \"cpu\"\n",
    "\n",
    "DEVICE"
   ]
  },
  {
   "cell_type": "code",
   "execution_count": 3,
   "id": "bored-package",
   "metadata": {
    "execution": {
     "iopub.execute_input": "2021-08-01T05:38:48.232351Z",
     "iopub.status.busy": "2021-08-01T05:38:48.231853Z",
     "iopub.status.idle": "2021-08-01T05:38:48.254542Z",
     "shell.execute_reply": "2021-08-01T05:38:48.254095Z",
     "shell.execute_reply.started": "2021-07-27T04:13:07.785088Z"
    },
    "papermill": {
     "duration": 0.061539,
     "end_time": "2021-08-01T05:38:48.254649",
     "exception": false,
     "start_time": "2021-08-01T05:38:48.193110",
     "status": "completed"
    },
    "tags": []
   },
   "outputs": [],
   "source": [
    "test_df = pd.read_csv(\"/kaggle/input/commonlitreadabilityprize/test.csv\")\n",
    "submission_df = pd.read_csv(\"/kaggle/input/commonlitreadabilityprize/sample_submission.csv\")"
   ]
  },
  {
   "cell_type": "code",
   "execution_count": 4,
   "id": "reserved-discussion",
   "metadata": {
    "execution": {
     "iopub.execute_input": "2021-08-01T05:38:48.323979Z",
     "iopub.status.busy": "2021-08-01T05:38:48.323500Z",
     "iopub.status.idle": "2021-08-01T05:38:48.549545Z",
     "shell.execute_reply": "2021-08-01T05:38:48.549064Z",
     "shell.execute_reply.started": "2021-07-27T04:13:07.810083Z"
    },
    "papermill": {
     "duration": 0.261668,
     "end_time": "2021-08-01T05:38:48.549674",
     "exception": false,
     "start_time": "2021-08-01T05:38:48.288006",
     "status": "completed"
    },
    "tags": []
   },
   "outputs": [],
   "source": [
    "tokenizer = AutoTokenizer.from_pretrained(TOKENIZER_PATH)"
   ]
  },
  {
   "cell_type": "markdown",
   "id": "polar-kingston",
   "metadata": {
    "papermill": {
     "duration": 0.032978,
     "end_time": "2021-08-01T05:38:48.616201",
     "exception": false,
     "start_time": "2021-08-01T05:38:48.583223",
     "status": "completed"
    },
    "tags": []
   },
   "source": [
    "# Dataset"
   ]
  },
  {
   "cell_type": "code",
   "execution_count": 5,
   "id": "geographic-concentrate",
   "metadata": {
    "execution": {
     "iopub.execute_input": "2021-08-01T05:38:48.690181Z",
     "iopub.status.busy": "2021-08-01T05:38:48.689438Z",
     "iopub.status.idle": "2021-08-01T05:38:48.691653Z",
     "shell.execute_reply": "2021-08-01T05:38:48.692050Z",
     "shell.execute_reply.started": "2021-07-27T04:13:09.161412Z"
    },
    "papermill": {
     "duration": 0.043138,
     "end_time": "2021-08-01T05:38:48.692169",
     "exception": false,
     "start_time": "2021-08-01T05:38:48.649031",
     "status": "completed"
    },
    "tags": []
   },
   "outputs": [],
   "source": [
    "class LitDataset(Dataset):\n",
    "    def __init__(self, df, inference_only=False):\n",
    "        super().__init__()\n",
    "\n",
    "        self.df = df        \n",
    "        self.inference_only = inference_only\n",
    "        self.text = df.excerpt.tolist()\n",
    "        #self.text = [text.replace(\"\\n\", \" \") for text in self.text]\n",
    "        \n",
    "        if not self.inference_only:\n",
    "            self.target = torch.tensor(df.target.values, dtype=torch.float32)        \n",
    "    \n",
    "        self.encoded = tokenizer.batch_encode_plus(\n",
    "            self.text,\n",
    "            padding = 'max_length',            \n",
    "            max_length = MAX_LEN,\n",
    "            truncation = True,\n",
    "            return_attention_mask=True\n",
    "        )        \n",
    " \n",
    "\n",
    "    def __len__(self):\n",
    "        return len(self.df)\n",
    "\n",
    "    \n",
    "    def __getitem__(self, index):        \n",
    "        input_ids = torch.tensor(self.encoded['input_ids'][index])\n",
    "        attention_mask = torch.tensor(self.encoded['attention_mask'][index])\n",
    "        \n",
    "        if self.inference_only:\n",
    "            return (input_ids, attention_mask)            \n",
    "        else:\n",
    "            target = self.target[index]\n",
    "            return (input_ids, attention_mask, target)"
   ]
  },
  {
   "cell_type": "markdown",
   "id": "mysterious-magnet",
   "metadata": {
    "papermill": {
     "duration": 0.032774,
     "end_time": "2021-08-01T05:38:48.757582",
     "exception": false,
     "start_time": "2021-08-01T05:38:48.724808",
     "status": "completed"
    },
    "tags": []
   },
   "source": [
    "# Model 1\n",
    "Inspired from: https://www.kaggle.com/maunish/clrp-roberta-svm"
   ]
  },
  {
   "cell_type": "code",
   "execution_count": 6,
   "id": "swedish-baseball",
   "metadata": {
    "execution": {
     "iopub.execute_input": "2021-08-01T05:38:48.831219Z",
     "iopub.status.busy": "2021-08-01T05:38:48.830532Z",
     "iopub.status.idle": "2021-08-01T05:38:48.832820Z",
     "shell.execute_reply": "2021-08-01T05:38:48.833192Z",
     "shell.execute_reply.started": "2021-07-27T04:13:10.727867Z"
    },
    "papermill": {
     "duration": 0.042749,
     "end_time": "2021-08-01T05:38:48.833327",
     "exception": false,
     "start_time": "2021-08-01T05:38:48.790578",
     "status": "completed"
    },
    "tags": []
   },
   "outputs": [],
   "source": [
    "class LitModel(nn.Module):\n",
    "    def __init__(self):\n",
    "        super().__init__()\n",
    "\n",
    "        config = AutoConfig.from_pretrained(ROBERTA_PATH)\n",
    "        config.update({\"output_hidden_states\":True, \n",
    "                       \"hidden_dropout_prob\": 0.25,\n",
    "                       \"layer_norm_eps\": 1e-7})                       \n",
    "        \n",
    "        self.roberta = AutoModel.from_pretrained(ROBERTA_PATH, config=config)  \n",
    "            \n",
    "        self.attention = nn.Sequential(            \n",
    "            nn.Linear(768, 512),            \n",
    "            nn.Tanh(),                       \n",
    "            nn.Linear(512, 1),\n",
    "            nn.Softmax(dim=1)\n",
    "        )        \n",
    "\n",
    "        self.regressor = nn.Sequential(                        \n",
    "            nn.Linear(768, 1)                        \n",
    "        )\n",
    "        \n",
    "\n",
    "    def forward(self, input_ids, attention_mask):\n",
    "        roberta_output = self.roberta(input_ids=input_ids,\n",
    "                                      attention_mask=attention_mask)        \n",
    "\n",
    "        # There are a total of 13 layers of hidden states.\n",
    "        # 1 for the embedding layer, and 12 for the 12 Roberta layers.\n",
    "        # We take the hidden states from the last Roberta layer.\n",
    "        last_layer_hidden_states = roberta_output.hidden_states[-1]\n",
    "\n",
    "        # The number of cells is MAX_LEN.\n",
    "        # The size of the hidden state of each cell is 768 (for roberta-base).\n",
    "        # In order to condense hidden states of all cells to a context vector,\n",
    "        # we compute a weighted average of the hidden states of all cells.\n",
    "        # We compute the weight of each cell, using the attention neural network.\n",
    "        weights = self.attention(last_layer_hidden_states)\n",
    "                \n",
    "        # weights.shape is BATCH_SIZE x MAX_LEN x 1\n",
    "        # last_layer_hidden_states.shape is BATCH_SIZE x MAX_LEN x 768        \n",
    "        # Now we compute context_vector as the weighted average.\n",
    "        # context_vector.shape is BATCH_SIZE x 768\n",
    "        context_vector = torch.sum(weights * last_layer_hidden_states, dim=1)        \n",
    "        \n",
    "        # Now we reduce the context vector to the prediction score.\n",
    "        return self.regressor(context_vector)"
   ]
  },
  {
   "cell_type": "code",
   "execution_count": 7,
   "id": "rubber-archives",
   "metadata": {
    "execution": {
     "iopub.execute_input": "2021-08-01T05:38:48.906392Z",
     "iopub.status.busy": "2021-08-01T05:38:48.905629Z",
     "iopub.status.idle": "2021-08-01T05:38:48.908376Z",
     "shell.execute_reply": "2021-08-01T05:38:48.907877Z",
     "shell.execute_reply.started": "2021-07-27T04:13:11.454468Z"
    },
    "papermill": {
     "duration": 0.042443,
     "end_time": "2021-08-01T05:38:48.908496",
     "exception": false,
     "start_time": "2021-08-01T05:38:48.866053",
     "status": "completed"
    },
    "tags": []
   },
   "outputs": [],
   "source": [
    "def predict(model, data_loader):\n",
    "    \"\"\"Returns an np.array with predictions of the |model| on |data_loader|\"\"\"\n",
    "    model.eval()\n",
    "\n",
    "    result = np.zeros(len(data_loader.dataset))    \n",
    "    index = 0\n",
    "    \n",
    "    with torch.no_grad():\n",
    "        for batch_num, (input_ids, attention_mask) in enumerate(data_loader):\n",
    "            input_ids = input_ids.to(DEVICE)\n",
    "            attention_mask = attention_mask.to(DEVICE)\n",
    "                        \n",
    "            pred = model(input_ids, attention_mask)                        \n",
    "\n",
    "            result[index : index + pred.shape[0]] = pred.flatten().to(\"cpu\")\n",
    "            index += pred.shape[0]\n",
    "\n",
    "    return result"
   ]
  },
  {
   "cell_type": "markdown",
   "id": "assured-seafood",
   "metadata": {
    "papermill": {
     "duration": 0.033244,
     "end_time": "2021-08-01T05:38:48.974524",
     "exception": false,
     "start_time": "2021-08-01T05:38:48.941280",
     "status": "completed"
    },
    "tags": []
   },
   "source": [
    "# Inference"
   ]
  },
  {
   "cell_type": "code",
   "execution_count": 8,
   "id": "filled-adobe",
   "metadata": {
    "execution": {
     "iopub.execute_input": "2021-08-01T05:38:49.051795Z",
     "iopub.status.busy": "2021-08-01T05:38:49.051022Z",
     "iopub.status.idle": "2021-08-01T05:39:42.761760Z",
     "shell.execute_reply": "2021-08-01T05:39:42.762767Z",
     "shell.execute_reply.started": "2021-07-27T04:13:12.688639Z"
    },
    "papermill": {
     "duration": 53.755392,
     "end_time": "2021-08-01T05:39:42.762964",
     "exception": false,
     "start_time": "2021-08-01T05:38:49.007572",
     "status": "completed"
    },
    "tags": []
   },
   "outputs": [
    {
     "name": "stderr",
     "output_type": "stream",
     "text": [
      "  0%|          | 0/5 [00:00<?, ?it/s]"
     ]
    },
    {
     "name": "stdout",
     "output_type": "stream",
     "text": [
      "\n",
      "Using ../input/commonlit-roberta-0467/model_1.pth\n"
     ]
    },
    {
     "name": "stderr",
     "output_type": "stream",
     "text": [
      " 20%|██        | 1/5 [00:20<01:20, 20.00s/it]"
     ]
    },
    {
     "name": "stdout",
     "output_type": "stream",
     "text": [
      "\n",
      "Using ../input/commonlit-roberta-0467/model_2.pth\n"
     ]
    },
    {
     "name": "stderr",
     "output_type": "stream",
     "text": [
      " 40%|████      | 2/5 [00:29<00:40, 13.60s/it]"
     ]
    },
    {
     "name": "stdout",
     "output_type": "stream",
     "text": [
      "\n",
      "Using ../input/commonlit-roberta-0467/model_3.pth\n"
     ]
    },
    {
     "name": "stderr",
     "output_type": "stream",
     "text": [
      " 60%|██████    | 3/5 [00:37<00:22, 11.01s/it]"
     ]
    },
    {
     "name": "stdout",
     "output_type": "stream",
     "text": [
      "\n",
      "Using ../input/commonlit-roberta-0467/model_4.pth\n"
     ]
    },
    {
     "name": "stderr",
     "output_type": "stream",
     "text": [
      " 80%|████████  | 4/5 [00:45<00:09,  9.97s/it]"
     ]
    },
    {
     "name": "stdout",
     "output_type": "stream",
     "text": [
      "\n",
      "Using ../input/commonlit-roberta-0467/model_5.pth\n"
     ]
    },
    {
     "name": "stderr",
     "output_type": "stream",
     "text": [
      "100%|██████████| 5/5 [00:53<00:00, 10.74s/it]\n"
     ]
    }
   ],
   "source": [
    "NUM_MODELS = 5\n",
    "\n",
    "all_predictions = np.zeros((NUM_MODELS, len(test_df)))\n",
    "\n",
    "test_dataset = LitDataset(test_df, inference_only=True)\n",
    "\n",
    "test_loader = DataLoader(test_dataset, batch_size=BATCH_SIZE,\n",
    "                         drop_last=False, shuffle=False, num_workers=2)\n",
    "\n",
    "for model_index in tqdm(range(NUM_MODELS)):            \n",
    "    model_path = f\"../input/commonlit-roberta-0467/model_{model_index + 1}.pth\"\n",
    "    print(f\"\\nUsing {model_path}\")\n",
    "                        \n",
    "    model = LitModel()\n",
    "    model.load_state_dict(torch.load(model_path, map_location=DEVICE))    \n",
    "    model.to(DEVICE)\n",
    "        \n",
    "    all_predictions[model_index] = predict(model, test_loader)\n",
    "            \n",
    "    del model\n",
    "    gc.collect()"
   ]
  },
  {
   "cell_type": "code",
   "execution_count": 9,
   "id": "proved-danger",
   "metadata": {
    "execution": {
     "iopub.execute_input": "2021-08-01T05:39:42.914653Z",
     "iopub.status.busy": "2021-08-01T05:39:42.913701Z",
     "iopub.status.idle": "2021-08-01T05:39:42.916502Z",
     "shell.execute_reply": "2021-08-01T05:39:42.915620Z",
     "shell.execute_reply.started": "2021-07-27T04:14:04.535587Z"
    },
    "papermill": {
     "duration": 0.080871,
     "end_time": "2021-08-01T05:39:42.916674",
     "exception": false,
     "start_time": "2021-08-01T05:39:42.835803",
     "status": "completed"
    },
    "tags": []
   },
   "outputs": [],
   "source": [
    "model1_predictions = all_predictions.mean(axis=0)"
   ]
  },
  {
   "cell_type": "markdown",
   "id": "bronze-singing",
   "metadata": {
    "papermill": {
     "duration": 0.045644,
     "end_time": "2021-08-01T05:39:43.027120",
     "exception": false,
     "start_time": "2021-08-01T05:39:42.981476",
     "status": "completed"
    },
    "tags": []
   },
   "source": [
    "# Model 2\n",
    "Inspired from: [https://www.kaggle.com/rhtsingh/commonlit-readability-prize-roberta-torch-infer-3](https://www.kaggle.com/rhtsingh/commonlit-readability-prize-roberta-torch-infer-3)"
   ]
  },
  {
   "cell_type": "code",
   "execution_count": 10,
   "id": "false-fitness",
   "metadata": {
    "execution": {
     "iopub.execute_input": "2021-08-01T05:39:43.111359Z",
     "iopub.status.busy": "2021-08-01T05:39:43.110537Z",
     "iopub.status.idle": "2021-08-01T05:39:47.621940Z",
     "shell.execute_reply": "2021-08-01T05:39:47.620821Z",
     "shell.execute_reply.started": "2021-07-27T04:14:04.542502Z"
    },
    "papermill": {
     "duration": 4.55707,
     "end_time": "2021-08-01T05:39:47.622076",
     "exception": false,
     "start_time": "2021-08-01T05:39:43.065006",
     "status": "completed"
    },
    "tags": []
   },
   "outputs": [],
   "source": [
    "test = test_df\n",
    "\n",
    "from glob import glob\n",
    "import os\n",
    "import matplotlib.pyplot as plt\n",
    "import json\n",
    "from collections import defaultdict\n",
    "\n",
    "import torch\n",
    "import torch.nn as nn\n",
    "import torch.nn.functional as F\n",
    "import torch.optim as optim\n",
    "from torch.optim.optimizer import Optimizer\n",
    "import torch.optim.lr_scheduler as lr_scheduler\n",
    "from torch.utils.data import (\n",
    "    Dataset, DataLoader, \n",
    "    SequentialSampler, RandomSampler\n",
    ")\n",
    "from transformers import RobertaConfig\n",
    "from transformers import (\n",
    "    get_cosine_schedule_with_warmup, \n",
    "    get_cosine_with_hard_restarts_schedule_with_warmup\n",
    ")\n",
    "from transformers import RobertaTokenizer\n",
    "from transformers import RobertaModel\n",
    "from IPython.display import clear_output"
   ]
  },
  {
   "cell_type": "markdown",
   "id": "fancy-fitness",
   "metadata": {
    "papermill": {
     "duration": 0.035965,
     "end_time": "2021-08-01T05:39:47.696149",
     "exception": false,
     "start_time": "2021-08-01T05:39:47.660184",
     "status": "completed"
    },
    "tags": []
   },
   "source": [
    "# Dataset"
   ]
  },
  {
   "cell_type": "code",
   "execution_count": 11,
   "id": "original-treasury",
   "metadata": {
    "execution": {
     "iopub.execute_input": "2021-08-01T05:39:47.781456Z",
     "iopub.status.busy": "2021-08-01T05:39:47.780708Z",
     "iopub.status.idle": "2021-08-01T05:39:47.783533Z",
     "shell.execute_reply": "2021-08-01T05:39:47.783114Z",
     "shell.execute_reply.started": "2021-07-27T04:14:09.400968Z"
    },
    "papermill": {
     "duration": 0.051251,
     "end_time": "2021-08-01T05:39:47.783641",
     "exception": false,
     "start_time": "2021-08-01T05:39:47.732390",
     "status": "completed"
    },
    "tags": []
   },
   "outputs": [],
   "source": [
    "def convert_examples_to_features(data, tokenizer, max_len, is_test=False):\n",
    "    data = data.replace('\\n', '')\n",
    "    tok = tokenizer.encode_plus(\n",
    "        data, \n",
    "        max_length=max_len, \n",
    "        truncation=True,\n",
    "        return_attention_mask=True,\n",
    "        return_token_type_ids=True\n",
    "    )\n",
    "    curr_sent = {}\n",
    "    padding_length = max_len - len(tok['input_ids'])\n",
    "    curr_sent['input_ids'] = tok['input_ids'] + ([0] * padding_length)\n",
    "    curr_sent['token_type_ids'] = tok['token_type_ids'] + \\\n",
    "        ([0] * padding_length)\n",
    "    curr_sent['attention_mask'] = tok['attention_mask'] + \\\n",
    "        ([0] * padding_length)\n",
    "    return curr_sent\n",
    "\n",
    "class DatasetRetriever(Dataset):\n",
    "    def __init__(self, data, tokenizer, max_len, is_test=False):\n",
    "        self.data = data\n",
    "        self.excerpts = self.data.excerpt.values.tolist()\n",
    "        self.tokenizer = tokenizer\n",
    "        self.is_test = is_test\n",
    "        self.max_len = max_len\n",
    "    \n",
    "    def __len__(self):\n",
    "        return len(self.data)\n",
    "    \n",
    "    def __getitem__(self, item):\n",
    "        if not self.is_test:\n",
    "            excerpt, label = self.excerpts[item], self.targets[item]\n",
    "            features = convert_examples_to_features(\n",
    "                excerpt, self.tokenizer, \n",
    "                self.max_len, self.is_test\n",
    "            )\n",
    "            return {\n",
    "                'input_ids':torch.tensor(features['input_ids'], dtype=torch.long),\n",
    "                'token_type_ids':torch.tensor(features['token_type_ids'], dtype=torch.long),\n",
    "                'attention_mask':torch.tensor(features['attention_mask'], dtype=torch.long),\n",
    "                'label':torch.tensor(label, dtype=torch.double),\n",
    "            }\n",
    "        else:\n",
    "            excerpt = self.excerpts[item]\n",
    "            features = convert_examples_to_features(\n",
    "                excerpt, self.tokenizer, \n",
    "                self.max_len, self.is_test\n",
    "            )\n",
    "            return {\n",
    "                'input_ids':torch.tensor(features['input_ids'], dtype=torch.long),\n",
    "                'token_type_ids':torch.tensor(features['token_type_ids'], dtype=torch.long),\n",
    "                'attention_mask':torch.tensor(features['attention_mask'], dtype=torch.long),\n",
    "            }"
   ]
  },
  {
   "cell_type": "code",
   "execution_count": 12,
   "id": "elder-audit",
   "metadata": {
    "execution": {
     "iopub.execute_input": "2021-08-01T05:39:47.871542Z",
     "iopub.status.busy": "2021-08-01T05:39:47.870281Z",
     "iopub.status.idle": "2021-08-01T05:39:47.872556Z",
     "shell.execute_reply": "2021-08-01T05:39:47.872995Z",
     "shell.execute_reply.started": "2021-07-27T04:14:09.418486Z"
    },
    "papermill": {
     "duration": 0.053066,
     "end_time": "2021-08-01T05:39:47.873115",
     "exception": false,
     "start_time": "2021-08-01T05:39:47.820049",
     "status": "completed"
    },
    "tags": []
   },
   "outputs": [],
   "source": [
    "class CommonLitModel(nn.Module):\n",
    "    def __init__(\n",
    "        self, \n",
    "        model_name, \n",
    "        config,  \n",
    "        multisample_dropout=False,\n",
    "        output_hidden_states=False\n",
    "    ):\n",
    "        \n",
    "        super(CommonLitModel, self).__init__()\n",
    "        self.config = config\n",
    "        self.roberta = RobertaModel.from_pretrained(\n",
    "            model_name, \n",
    "            output_hidden_states=output_hidden_states\n",
    "        )\n",
    "        \n",
    "        self.layer_norm = nn.LayerNorm(config.hidden_size)\n",
    "        \n",
    "        if multisample_dropout:\n",
    "            self.dropouts = nn.ModuleList([\n",
    "                nn.Dropout(0.5) for _ in range(5)\n",
    "            ])\n",
    "        else:\n",
    "            self.dropouts = nn.ModuleList([nn.Dropout(0.3)])\n",
    "            \n",
    "        self.regressor = nn.Linear(config.hidden_size, 1)\n",
    "        self._init_weights(self.layer_norm)\n",
    "        self._init_weights(self.regressor)\n",
    " \n",
    "    def _init_weights(self, module):\n",
    "        \n",
    "        if isinstance(module, nn.Linear):\n",
    "            module.weight.data.normal_(mean=0.0, std=self.config.initializer_range)\n",
    "            if module.bias is not None:\n",
    "                module.bias.data.zero_()\n",
    "                \n",
    "        elif isinstance(module, nn.Embedding):\n",
    "            module.weight.data.normal_(mean=0.0, std=self.config.initializer_range)\n",
    "            if module.padding_idx is not None:\n",
    "                module.weight.data[module.padding_idx].zero_()\n",
    "                \n",
    "        elif isinstance(module, nn.LayerNorm):\n",
    "            module.bias.data.zero_()\n",
    "            module.weight.data.fill_(1.0)\n",
    " \n",
    "    def forward(\n",
    "        self, \n",
    "        input_ids=None,\n",
    "        attention_mask=None,\n",
    "        token_type_ids=None,\n",
    "        labels=None\n",
    "    ):\n",
    "        outputs = self.roberta(\n",
    "            input_ids,\n",
    "            attention_mask=attention_mask,\n",
    "            token_type_ids=token_type_ids,\n",
    "        )\n",
    "        sequence_output = outputs[1]\n",
    "        sequence_output = self.layer_norm(sequence_output)\n",
    " \n",
    "        # multi-sample dropout\n",
    "        for i, dropout in enumerate(self.dropouts):\n",
    "            if i == 0:\n",
    "                logits = self.regressor(dropout(sequence_output))\n",
    "            else:\n",
    "                logits += self.regressor(dropout(sequence_output))\n",
    "        \n",
    "        logits /= len(self.dropouts)\n",
    " \n",
    "        # calculate loss\n",
    "        loss = None\n",
    "        \n",
    "        if labels is not None:\n",
    "            loss_fn = torch.nn.MSELoss()\n",
    "            logits = logits.view(-1).to(labels.dtype)\n",
    "            loss = torch.sqrt(loss_fn(logits, labels.view(-1)))\n",
    "        \n",
    "        output = (logits,) + outputs[1:]\n",
    "        return ((loss,) + output) if loss is not None else output"
   ]
  },
  {
   "cell_type": "code",
   "execution_count": 13,
   "id": "cooperative-christianity",
   "metadata": {
    "execution": {
     "iopub.execute_input": "2021-08-01T05:39:47.953922Z",
     "iopub.status.busy": "2021-08-01T05:39:47.952708Z",
     "iopub.status.idle": "2021-08-01T05:39:47.955431Z",
     "shell.execute_reply": "2021-08-01T05:39:47.955012Z",
     "shell.execute_reply.started": "2021-07-27T04:14:09.43652Z"
    },
    "papermill": {
     "duration": 0.045907,
     "end_time": "2021-08-01T05:39:47.955538",
     "exception": false,
     "start_time": "2021-08-01T05:39:47.909631",
     "status": "completed"
    },
    "tags": []
   },
   "outputs": [],
   "source": [
    "def make_model(model_name, num_labels=1):\n",
    "    tokenizer = RobertaTokenizer.from_pretrained(model_name)\n",
    "    config = RobertaConfig.from_pretrained(model_name)\n",
    "    config.update({'num_labels':num_labels})\n",
    "    model = CommonLitModel(model_name, config=config)\n",
    "    return model, tokenizer\n",
    "\n",
    "def make_loader(\n",
    "    data, \n",
    "    tokenizer, \n",
    "    max_len,\n",
    "    batch_size,\n",
    "):\n",
    "    \n",
    "    test_dataset = DatasetRetriever(data, tokenizer, max_len, is_test=True)\n",
    "    test_sampler = SequentialSampler(test_dataset)\n",
    "    \n",
    "    test_loader = DataLoader(\n",
    "        test_dataset, \n",
    "        batch_size=batch_size // 2, \n",
    "        sampler=test_sampler, \n",
    "        pin_memory=False, \n",
    "        drop_last=False, \n",
    "        num_workers=0\n",
    "    )\n",
    "\n",
    "    return test_loader"
   ]
  },
  {
   "cell_type": "code",
   "execution_count": 14,
   "id": "answering-powder",
   "metadata": {
    "execution": {
     "iopub.execute_input": "2021-08-01T05:39:48.040150Z",
     "iopub.status.busy": "2021-08-01T05:39:48.039625Z",
     "iopub.status.idle": "2021-08-01T05:39:48.043423Z",
     "shell.execute_reply": "2021-08-01T05:39:48.043000Z",
     "shell.execute_reply.started": "2021-07-27T04:14:09.449393Z"
    },
    "papermill": {
     "duration": 0.051192,
     "end_time": "2021-08-01T05:39:48.043531",
     "exception": false,
     "start_time": "2021-08-01T05:39:47.992339",
     "status": "completed"
    },
    "tags": []
   },
   "outputs": [],
   "source": [
    "class Evaluator:\n",
    "    def __init__(self, model, scalar=None):\n",
    "        self.model = model\n",
    "        self.scalar = scalar\n",
    "\n",
    "    def evaluate(self, data_loader, tokenizer):\n",
    "        preds = []\n",
    "        self.model.eval()\n",
    "        total_loss = 0\n",
    "        with torch.no_grad():\n",
    "            for batch_idx, batch_data in enumerate(data_loader):\n",
    "                input_ids, attention_mask, token_type_ids = batch_data['input_ids'], \\\n",
    "                    batch_data['attention_mask'], batch_data['token_type_ids']\n",
    "                input_ids, attention_mask, token_type_ids = input_ids.cuda(), \\\n",
    "                    attention_mask.cuda(), token_type_ids.cuda()\n",
    "                \n",
    "                if self.scalar is not None:\n",
    "                    with torch.cuda.amp.autocast():\n",
    "                        outputs = self.model(\n",
    "                            input_ids=input_ids,\n",
    "                            attention_mask=attention_mask,\n",
    "                            token_type_ids=token_type_ids\n",
    "                        )\n",
    "                else:\n",
    "                    outputs = self.model(\n",
    "                        input_ids=input_ids,\n",
    "                        attention_mask=attention_mask,\n",
    "                        token_type_ids=token_type_ids\n",
    "                    )\n",
    "                \n",
    "                logits = outputs[0].detach().cpu().numpy().squeeze().tolist()\n",
    "                preds += logits\n",
    "        return preds\n",
    "\n",
    "def config(fold, model_name, load_model_path):\n",
    "    torch.manual_seed(2021)\n",
    "    torch.cuda.manual_seed(2021)\n",
    "    torch.cuda.manual_seed_all(2021)\n",
    "    \n",
    "    max_len = 250\n",
    "    batch_size = 8\n",
    "\n",
    "    model, tokenizer = make_model(\n",
    "        model_name=model_name, \n",
    "        num_labels=1\n",
    "    )\n",
    "    \n",
    "    model.load_state_dict(\n",
    "        torch.load(f'{load_model_path}/model{fold}.bin')\n",
    "    )\n",
    "    \n",
    "    test_loader = make_loader(\n",
    "        test, tokenizer, max_len=max_len,\n",
    "        batch_size=batch_size\n",
    "    )\n",
    "\n",
    "    if torch.cuda.device_count() >= 1:\n",
    "        print('Model pushed to {} GPU(s), type {}.'.format(\n",
    "            torch.cuda.device_count(), \n",
    "            torch.cuda.get_device_name(0))\n",
    "        )\n",
    "        model = model.cuda() \n",
    "    else:\n",
    "        raise ValueError('CPU training is not supported')\n",
    "\n",
    "    # scaler = torch.cuda.amp.GradScaler()\n",
    "    scaler = None\n",
    "    return (\n",
    "        model, tokenizer, \n",
    "        test_loader, scaler\n",
    "    )"
   ]
  },
  {
   "cell_type": "markdown",
   "id": "human-summary",
   "metadata": {
    "execution": {
     "iopub.execute_input": "2021-07-25T09:11:47.35772Z",
     "iopub.status.busy": "2021-07-25T09:11:47.357351Z",
     "iopub.status.idle": "2021-07-25T09:11:47.362915Z",
     "shell.execute_reply": "2021-07-25T09:11:47.361981Z",
     "shell.execute_reply.started": "2021-07-25T09:11:47.357634Z"
    },
    "papermill": {
     "duration": 0.035873,
     "end_time": "2021-08-01T05:39:48.116694",
     "exception": false,
     "start_time": "2021-08-01T05:39:48.080821",
     "status": "completed"
    },
    "tags": []
   },
   "source": [
    "# Inference"
   ]
  },
  {
   "cell_type": "code",
   "execution_count": 15,
   "id": "unlike-associate",
   "metadata": {
    "execution": {
     "iopub.execute_input": "2021-08-01T05:39:48.196195Z",
     "iopub.status.busy": "2021-08-01T05:39:48.194965Z",
     "iopub.status.idle": "2021-08-01T05:39:48.197808Z",
     "shell.execute_reply": "2021-08-01T05:39:48.197316Z",
     "shell.execute_reply.started": "2021-07-27T04:14:09.467952Z"
    },
    "papermill": {
     "duration": 0.045092,
     "end_time": "2021-08-01T05:39:48.197910",
     "exception": false,
     "start_time": "2021-08-01T05:39:48.152818",
     "status": "completed"
    },
    "tags": []
   },
   "outputs": [],
   "source": [
    "def run(fold=0, model_name=None, load_model_path=None):\n",
    "    model, tokenizer, \\\n",
    "        test_loader, scaler = config(fold, model_name, load_model_path)\n",
    "    \n",
    "    import time\n",
    "\n",
    "    evaluator = Evaluator(model, scaler)\n",
    "\n",
    "    test_time_list = []\n",
    "\n",
    "    torch.cuda.synchronize()\n",
    "    tic1 = time.time()\n",
    "\n",
    "    preds = evaluator.evaluate(test_loader, tokenizer)\n",
    "\n",
    "    torch.cuda.synchronize()\n",
    "    tic2 = time.time() \n",
    "    test_time_list.append(tic2 - tic1)\n",
    "    \n",
    "    del model, tokenizer, test_loader, scaler\n",
    "    gc.collect()\n",
    "    torch.cuda.empty_cache()\n",
    "    \n",
    "    return preds"
   ]
  },
  {
   "cell_type": "code",
   "execution_count": 16,
   "id": "adopted-spiritual",
   "metadata": {
    "execution": {
     "iopub.execute_input": "2021-08-01T05:39:48.277539Z",
     "iopub.status.busy": "2021-08-01T05:39:48.276901Z",
     "iopub.status.idle": "2021-08-01T05:44:50.518074Z",
     "shell.execute_reply": "2021-08-01T05:44:50.518759Z",
     "shell.execute_reply.started": "2021-07-27T04:14:09.478959Z"
    },
    "papermill": {
     "duration": 302.284567,
     "end_time": "2021-08-01T05:44:50.518983",
     "exception": false,
     "start_time": "2021-08-01T05:39:48.234416",
     "status": "completed"
    },
    "tags": []
   },
   "outputs": [
    {
     "name": "stderr",
     "output_type": "stream",
     "text": [
      "  0%|          | 0/5 [00:00<?, ?it/s]"
     ]
    },
    {
     "name": "stdout",
     "output_type": "stream",
     "text": [
      "Model pushed to 1 GPU(s), type Tesla P100-PCIE-16GB.\n",
      "Model pushed to 1 GPU(s), type Tesla P100-PCIE-16GB.\n",
      "Model pushed to 1 GPU(s), type Tesla P100-PCIE-16GB.\n"
     ]
    },
    {
     "name": "stderr",
     "output_type": "stream",
     "text": [
      " 20%|██        | 1/5 [01:14<04:59, 74.78s/it]"
     ]
    },
    {
     "name": "stdout",
     "output_type": "stream",
     "text": [
      "Model pushed to 1 GPU(s), type Tesla P100-PCIE-16GB.\n",
      "Model pushed to 1 GPU(s), type Tesla P100-PCIE-16GB.\n",
      "Model pushed to 1 GPU(s), type Tesla P100-PCIE-16GB.\n"
     ]
    },
    {
     "name": "stderr",
     "output_type": "stream",
     "text": [
      " 40%|████      | 2/5 [02:11<03:12, 64.24s/it]"
     ]
    },
    {
     "name": "stdout",
     "output_type": "stream",
     "text": [
      "Model pushed to 1 GPU(s), type Tesla P100-PCIE-16GB.\n",
      "Model pushed to 1 GPU(s), type Tesla P100-PCIE-16GB.\n",
      "Model pushed to 1 GPU(s), type Tesla P100-PCIE-16GB.\n"
     ]
    },
    {
     "name": "stderr",
     "output_type": "stream",
     "text": [
      " 60%|██████    | 3/5 [03:09<02:02, 61.30s/it]"
     ]
    },
    {
     "name": "stdout",
     "output_type": "stream",
     "text": [
      "Model pushed to 1 GPU(s), type Tesla P100-PCIE-16GB.\n",
      "Model pushed to 1 GPU(s), type Tesla P100-PCIE-16GB.\n",
      "Model pushed to 1 GPU(s), type Tesla P100-PCIE-16GB.\n"
     ]
    },
    {
     "name": "stderr",
     "output_type": "stream",
     "text": [
      " 80%|████████  | 4/5 [04:06<00:59, 59.55s/it]"
     ]
    },
    {
     "name": "stdout",
     "output_type": "stream",
     "text": [
      "Model pushed to 1 GPU(s), type Tesla P100-PCIE-16GB.\n",
      "Model pushed to 1 GPU(s), type Tesla P100-PCIE-16GB.\n",
      "Model pushed to 1 GPU(s), type Tesla P100-PCIE-16GB.\n"
     ]
    },
    {
     "name": "stderr",
     "output_type": "stream",
     "text": [
      "100%|██████████| 5/5 [05:02<00:00, 60.45s/it]\n"
     ]
    }
   ],
   "source": [
    "pred_df1 = pd.DataFrame()\n",
    "pred_df2 = pd.DataFrame()\n",
    "pred_df3 = pd.DataFrame()\n",
    "\n",
    "for fold in tqdm(range(5)):\n",
    "    pred_df1[f'fold{fold}'] = run(fold%5, '../input/roberta-transformers-pytorch/roberta-base/', '../input/commonlit-roberta-base-i/')\n",
    "    pred_df2[f'fold{fold+5}'] = run(fold%5, '../input/roberta-transformers-pytorch/roberta-large', '../input/roberta-large-itptfit/')\n",
    "    pred_df3[f'fold{fold+10}'] = run(fold%5, '../input/roberta-transformers-pytorch/roberta-large', '../input/commonlit-roberta-large-ii/')"
   ]
  },
  {
   "cell_type": "code",
   "execution_count": 17,
   "id": "pressed-lightning",
   "metadata": {
    "execution": {
     "iopub.execute_input": "2021-08-01T05:44:50.695532Z",
     "iopub.status.busy": "2021-08-01T05:44:50.694754Z",
     "iopub.status.idle": "2021-08-01T05:44:50.698111Z",
     "shell.execute_reply": "2021-08-01T05:44:50.698709Z",
     "shell.execute_reply.started": "2021-07-27T04:18:46.437711Z"
    },
    "papermill": {
     "duration": 0.093501,
     "end_time": "2021-08-01T05:44:50.698891",
     "exception": false,
     "start_time": "2021-08-01T05:44:50.605390",
     "status": "completed"
    },
    "tags": []
   },
   "outputs": [],
   "source": [
    "pred_df1 = np.array(pred_df1)\n",
    "pred_df2 = np.array(pred_df2)\n",
    "pred_df3 = np.array(pred_df3)\n",
    "\n",
    "model2_predictions = (pred_df2.mean(axis=1) * 0.5) + (pred_df1.mean(axis=1) * 0.3) + (pred_df3.mean(axis=1) * 0.2)"
   ]
  },
  {
   "cell_type": "markdown",
   "id": "particular-viewer",
   "metadata": {
    "papermill": {
     "duration": 0.069309,
     "end_time": "2021-08-01T05:44:50.837325",
     "exception": false,
     "start_time": "2021-08-01T05:44:50.768016",
     "status": "completed"
    },
    "tags": []
   },
   "source": [
    "## Model 3 \n",
    "\n",
    "Inspired from: https://www.kaggle.com/jcesquiveld/best-transformer-representations"
   ]
  },
  {
   "cell_type": "code",
   "execution_count": 18,
   "id": "warming-status",
   "metadata": {
    "execution": {
     "iopub.execute_input": "2021-08-01T05:44:50.972212Z",
     "iopub.status.busy": "2021-08-01T05:44:50.971699Z",
     "iopub.status.idle": "2021-08-01T05:44:51.095445Z",
     "shell.execute_reply": "2021-08-01T05:44:51.094966Z",
     "shell.execute_reply.started": "2021-07-27T04:18:46.447286Z"
    },
    "papermill": {
     "duration": 0.188599,
     "end_time": "2021-08-01T05:44:51.095562",
     "exception": false,
     "start_time": "2021-08-01T05:44:50.906963",
     "status": "completed"
    },
    "tags": []
   },
   "outputs": [],
   "source": [
    "import os\n",
    "import numpy as np\n",
    "import pandas as pd\n",
    "import random\n",
    "\n",
    "from transformers import AutoConfig, AutoModel, AutoTokenizer, AdamW, get_linear_schedule_with_warmup, logging\n",
    "\n",
    "import torch\n",
    "import torch.nn as nn\n",
    "import torch.nn.functional as F\n",
    "from torch.utils.data import Dataset, TensorDataset, SequentialSampler, RandomSampler, DataLoader\n",
    "\n",
    "from tqdm.notebook import tqdm\n",
    "\n",
    "import gc; gc.enable()\n",
    "from IPython.display import clear_output\n",
    "\n",
    "from sklearn.model_selection import StratifiedKFold\n",
    "import matplotlib.pyplot as plt\n",
    "import seaborn as sns\n",
    "\n",
    "sns.set_style('whitegrid')\n",
    "logging.set_verbosity_error()"
   ]
  },
  {
   "cell_type": "code",
   "execution_count": 19,
   "id": "searching-trick",
   "metadata": {
    "execution": {
     "iopub.execute_input": "2021-08-01T05:44:51.188293Z",
     "iopub.status.busy": "2021-08-01T05:44:51.187772Z",
     "iopub.status.idle": "2021-08-01T05:44:51.197377Z",
     "shell.execute_reply": "2021-08-01T05:44:51.196942Z",
     "shell.execute_reply.started": "2021-07-27T04:18:46.544839Z"
    },
    "papermill": {
     "duration": 0.059347,
     "end_time": "2021-08-01T05:44:51.197508",
     "exception": false,
     "start_time": "2021-08-01T05:44:51.138161",
     "status": "completed"
    },
    "tags": []
   },
   "outputs": [],
   "source": [
    "INPUT_DIR = '../input/commonlitreadabilityprize'\n",
    "MODEL_DIR = '../input/roberta-transformers-pytorch/roberta-large'\n",
    "CHECKPOINT_DIR = '../input/clrp-mean-pooling/'\n",
    "\n",
    "DEVICE = torch.device('cuda' if torch.cuda.is_available() else 'cpu')\n",
    "\n",
    "MAX_LENGTH = 248\n",
    "TEST_BATCH_SIZE = 1\n",
    "HIDDEN_SIZE = 1024\n",
    "\n",
    "NUM_FOLDS = 5\n",
    "SEEDS = [113]\n",
    "\n",
    "test = pd.read_csv(os.path.join(INPUT_DIR, 'test.csv'))"
   ]
  },
  {
   "cell_type": "code",
   "execution_count": 20,
   "id": "renewable-harrison",
   "metadata": {
    "execution": {
     "iopub.execute_input": "2021-08-01T05:44:51.290478Z",
     "iopub.status.busy": "2021-08-01T05:44:51.289845Z",
     "iopub.status.idle": "2021-08-01T05:44:51.293080Z",
     "shell.execute_reply": "2021-08-01T05:44:51.293461Z",
     "shell.execute_reply.started": "2021-07-27T04:18:46.558989Z"
    },
    "papermill": {
     "duration": 0.053791,
     "end_time": "2021-08-01T05:44:51.293583",
     "exception": false,
     "start_time": "2021-08-01T05:44:51.239792",
     "status": "completed"
    },
    "tags": []
   },
   "outputs": [],
   "source": [
    "class MeanPoolingModel(nn.Module):\n",
    "    \n",
    "    def __init__(self, model_name):\n",
    "        super().__init__()\n",
    "        \n",
    "        config = AutoConfig.from_pretrained(model_name)\n",
    "        self.model = AutoModel.from_pretrained(model_name, config=config)\n",
    "        self.linear = nn.Linear(HIDDEN_SIZE, 1)\n",
    "        self.loss = nn.MSELoss()\n",
    "        \n",
    "    def forward(self, input_ids, attention_mask, labels=None):\n",
    "        \n",
    "        outputs = self.model(input_ids, attention_mask)\n",
    "        last_hidden_state = outputs[0]\n",
    "        input_mask_expanded = attention_mask.unsqueeze(-1).expand(last_hidden_state.size()).float()\n",
    "        sum_embeddings = torch.sum(last_hidden_state * input_mask_expanded, 1)\n",
    "        sum_mask = input_mask_expanded.sum(1)\n",
    "        sum_mask = torch.clamp(sum_mask, min=1e-9)\n",
    "        mean_embeddings = sum_embeddings / sum_mask\n",
    "        logits = self.linear(mean_embeddings)\n",
    "        \n",
    "        preds = logits.squeeze(-1).squeeze(-1)\n",
    "        \n",
    "        if labels is not None:\n",
    "            loss = self.loss(preds.view(-1).float(), labels.view(-1).float())\n",
    "            return loss\n",
    "        else:\n",
    "            return preds"
   ]
  },
  {
   "cell_type": "code",
   "execution_count": 21,
   "id": "separate-purpose",
   "metadata": {
    "execution": {
     "iopub.execute_input": "2021-08-01T05:44:51.384190Z",
     "iopub.status.busy": "2021-08-01T05:44:51.383712Z",
     "iopub.status.idle": "2021-08-01T05:44:51.544568Z",
     "shell.execute_reply": "2021-08-01T05:44:51.544078Z",
     "shell.execute_reply.started": "2021-07-27T04:18:46.570891Z"
    },
    "papermill": {
     "duration": 0.208318,
     "end_time": "2021-08-01T05:44:51.544699",
     "exception": false,
     "start_time": "2021-08-01T05:44:51.336381",
     "status": "completed"
    },
    "tags": []
   },
   "outputs": [],
   "source": [
    "def get_test_loader(data):\n",
    "\n",
    "    x_test = data.excerpt.tolist()\n",
    "    \n",
    "    tokenizer = AutoTokenizer.from_pretrained(MODEL_DIR)\n",
    "\n",
    "    encoded_test = tokenizer.batch_encode_plus(\n",
    "        x_test, \n",
    "        add_special_tokens=True, \n",
    "        return_attention_mask=True, \n",
    "        padding='max_length', \n",
    "        truncation=True,\n",
    "        max_length=MAX_LENGTH, \n",
    "        return_tensors='pt'\n",
    "    )\n",
    "\n",
    "    dataset_test = TensorDataset(\n",
    "        encoded_test['input_ids'],\n",
    "        encoded_test['attention_mask']\n",
    "    )\n",
    "\n",
    "    dataloader_test = DataLoader(\n",
    "        dataset_test,\n",
    "        sampler = SequentialSampler(dataset_test),\n",
    "        batch_size=TEST_BATCH_SIZE\n",
    "    )\n",
    "    \n",
    "    return dataloader_test\n",
    "\n",
    "test_dataloader = get_test_loader(test)"
   ]
  },
  {
   "cell_type": "code",
   "execution_count": 22,
   "id": "close-information",
   "metadata": {
    "execution": {
     "iopub.execute_input": "2021-08-01T05:44:51.659273Z",
     "iopub.status.busy": "2021-08-01T05:44:51.658388Z",
     "iopub.status.idle": "2021-08-01T05:46:48.982481Z",
     "shell.execute_reply": "2021-08-01T05:46:48.982917Z",
     "shell.execute_reply.started": "2021-07-27T04:18:46.744718Z"
    },
    "papermill": {
     "duration": 117.395906,
     "end_time": "2021-08-01T05:46:48.983091",
     "exception": false,
     "start_time": "2021-08-01T05:44:51.587185",
     "status": "completed"
    },
    "tags": []
   },
   "outputs": [
    {
     "data": {
      "application/vnd.jupyter.widget-view+json": {
       "model_id": "40485b5f8f9543cc847c78df312082ad",
       "version_major": 2,
       "version_minor": 0
      },
      "text/plain": [
       "  0%|          | 0/5 [00:00<?, ?it/s]"
      ]
     },
     "metadata": {},
     "output_type": "display_data"
    },
    {
     "name": "stdout",
     "output_type": "stream",
     "text": [
      "\n",
      "Using model_114_1.pth\n",
      "\n",
      "Using model_114_2.pth\n",
      "\n",
      "Using model_114_3.pth\n",
      "\n",
      "Using model_114_4.pth\n",
      "\n",
      "Using model_114_5.pth\n"
     ]
    }
   ],
   "source": [
    "all_predictions = []\n",
    "for seed in SEEDS:\n",
    "    \n",
    "    fold_predictions = []\n",
    "    \n",
    "    for fold in tqdm(range(NUM_FOLDS)):\n",
    "        model_path = f\"model_{seed + 1}_{fold + 1}.pth\"\n",
    "        \n",
    "        print(f\"\\nUsing {model_path}\")\n",
    "        \n",
    "        model_path = CHECKPOINT_DIR + f\"model_{seed + 1}_{fold + 1}.pth\"\n",
    "        model = MeanPoolingModel(MODEL_DIR)\n",
    "        model.load_state_dict(torch.load(model_path)) \n",
    "        model.to(DEVICE)\n",
    "        model.eval()\n",
    "\n",
    "        predictions = []\n",
    "        for batch in test_dataloader:\n",
    "\n",
    "            batch = tuple(b.to(DEVICE) for b in batch)\n",
    "\n",
    "            inputs = {'input_ids':      batch[0],\n",
    "                      'attention_mask': batch[1],\n",
    "                      'labels':         None,\n",
    "                     }\n",
    "\n",
    "     \n",
    "            preds = model(**inputs).item()\n",
    "            predictions.append(preds)\n",
    "            \n",
    "        del model \n",
    "        gc.collect()\n",
    "            \n",
    "        fold_predictions.append(predictions)\n",
    "    all_predictions.append(np.mean(fold_predictions, axis=0).tolist())\n",
    "    \n",
    "model3_predictions = np.mean(all_predictions,axis=0)"
   ]
  },
  {
   "cell_type": "markdown",
   "id": "hired-destination",
   "metadata": {
    "papermill": {
     "duration": 0.045852,
     "end_time": "2021-08-01T05:46:49.079764",
     "exception": false,
     "start_time": "2021-08-01T05:46:49.033912",
     "status": "completed"
    },
    "tags": []
   },
   "source": [
    "# Model 4"
   ]
  },
  {
   "cell_type": "code",
   "execution_count": 23,
   "id": "informative-siemens",
   "metadata": {
    "execution": {
     "iopub.execute_input": "2021-08-01T05:46:49.181804Z",
     "iopub.status.busy": "2021-08-01T05:46:49.180541Z",
     "iopub.status.idle": "2021-08-01T05:46:49.182773Z",
     "shell.execute_reply": "2021-08-01T05:46:49.183167Z",
     "shell.execute_reply.started": "2021-07-27T04:20:35.776025Z"
    },
    "papermill": {
     "duration": 0.05336,
     "end_time": "2021-08-01T05:46:49.183307",
     "exception": false,
     "start_time": "2021-08-01T05:46:49.129947",
     "status": "completed"
    },
    "tags": []
   },
   "outputs": [],
   "source": [
    "NUM_FOLDS = 10#9#8#7#6#5\n",
    "NUM_EPOCHS = 3\n",
    "BATCH_SIZE = 16\n",
    "MAX_LEN = 300#248\n",
    "EVAL_SCHEDULE = [(0.50, 16), (0.49, 8), (0.48, 4), (0.47, 2), (-1., 1)]\n",
    "ROBERTA_PATH = \"../input/pre-trained-roberta-solution-in-pytorch-train/roberta-base/pytorch_model.bin\"#\"../input/clrp-roberta-base/clrp_roberta_base\"\n",
    "TOKENIZER_PATH = \"../input/pre-trained-roberta-solution-in-pytorch-train/roberta-base/\"\n",
    "CONFIG_PATH = \"../input/pre-trained-roberta-solution-in-pytorch-train/roberta-base/config.json\"\n",
    "DEVICE = \"cuda\" if torch.cuda.is_available() else \"cpu\""
   ]
  },
  {
   "cell_type": "code",
   "execution_count": 24,
   "id": "automotive-supervision",
   "metadata": {
    "execution": {
     "iopub.execute_input": "2021-08-01T05:46:49.283687Z",
     "iopub.status.busy": "2021-08-01T05:46:49.283030Z",
     "iopub.status.idle": "2021-08-01T05:46:49.286546Z",
     "shell.execute_reply": "2021-08-01T05:46:49.286111Z",
     "shell.execute_reply.started": "2021-07-27T04:20:35.783836Z"
    },
    "papermill": {
     "duration": 0.053638,
     "end_time": "2021-08-01T05:46:49.286648",
     "exception": false,
     "start_time": "2021-08-01T05:46:49.233010",
     "status": "completed"
    },
    "tags": []
   },
   "outputs": [],
   "source": [
    "def set_random_seed(random_seed):\n",
    "    random.seed(random_seed)\n",
    "    np.random.seed(random_seed)\n",
    "    os.environ[\"PYTHONHASHSEED\"] = str(random_seed)\n",
    "\n",
    "    torch.manual_seed(random_seed)\n",
    "    torch.cuda.manual_seed(random_seed)\n",
    "    torch.cuda.manual_seed_all(random_seed)\n",
    "\n",
    "    torch.backends.cudnn.deterministic = True"
   ]
  },
  {
   "cell_type": "code",
   "execution_count": 25,
   "id": "excited-benefit",
   "metadata": {
    "execution": {
     "iopub.execute_input": "2021-08-01T05:46:49.390760Z",
     "iopub.status.busy": "2021-08-01T05:46:49.390179Z",
     "iopub.status.idle": "2021-08-01T05:46:49.483251Z",
     "shell.execute_reply": "2021-08-01T05:46:49.482791Z",
     "shell.execute_reply.started": "2021-07-27T04:20:35.797817Z"
    },
    "papermill": {
     "duration": 0.146537,
     "end_time": "2021-08-01T05:46:49.483398",
     "exception": false,
     "start_time": "2021-08-01T05:46:49.336861",
     "status": "completed"
    },
    "tags": []
   },
   "outputs": [],
   "source": [
    "train_df = pd.read_csv(\"/kaggle/input/commonlitreadabilityprize/train.csv\")\n",
    "\n",
    "# Remove incomplete entries if any.\n",
    "train_df.drop(train_df[(train_df.target == 0) & (train_df.standard_error == 0)].index,\n",
    "              inplace=True)\n",
    "train_df.reset_index(drop=True, inplace=True)\n",
    "\n",
    "test_df = pd.read_csv(\"/kaggle/input/commonlitreadabilityprize/test.csv\")\n",
    "submission_df = pd.read_csv(\"/kaggle/input/commonlitreadabilityprize/sample_submission.csv\")"
   ]
  },
  {
   "cell_type": "code",
   "execution_count": 26,
   "id": "surprised-society",
   "metadata": {
    "execution": {
     "iopub.execute_input": "2021-08-01T05:46:49.582847Z",
     "iopub.status.busy": "2021-08-01T05:46:49.582322Z",
     "iopub.status.idle": "2021-08-01T05:46:49.727335Z",
     "shell.execute_reply": "2021-08-01T05:46:49.726741Z",
     "shell.execute_reply.started": "2021-07-27T04:20:35.901556Z"
    },
    "papermill": {
     "duration": 0.194112,
     "end_time": "2021-08-01T05:46:49.727484",
     "exception": false,
     "start_time": "2021-08-01T05:46:49.533372",
     "status": "completed"
    },
    "tags": []
   },
   "outputs": [],
   "source": [
    "tokenizer = AutoTokenizer.from_pretrained(TOKENIZER_PATH)"
   ]
  },
  {
   "cell_type": "markdown",
   "id": "quality-adult",
   "metadata": {
    "papermill": {
     "duration": 0.046759,
     "end_time": "2021-08-01T05:46:49.823663",
     "exception": false,
     "start_time": "2021-08-01T05:46:49.776904",
     "status": "completed"
    },
    "tags": []
   },
   "source": [
    "## Dataset"
   ]
  },
  {
   "cell_type": "code",
   "execution_count": 27,
   "id": "lonely-wildlife",
   "metadata": {
    "execution": {
     "iopub.execute_input": "2021-08-01T05:46:49.929762Z",
     "iopub.status.busy": "2021-08-01T05:46:49.928953Z",
     "iopub.status.idle": "2021-08-01T05:46:49.933407Z",
     "shell.execute_reply": "2021-08-01T05:46:49.932889Z",
     "shell.execute_reply.started": "2021-07-27T04:20:36.029642Z"
    },
    "papermill": {
     "duration": 0.060273,
     "end_time": "2021-08-01T05:46:49.933531",
     "exception": false,
     "start_time": "2021-08-01T05:46:49.873258",
     "status": "completed"
    },
    "tags": []
   },
   "outputs": [],
   "source": [
    "class LitDataset(Dataset):\n",
    "    def __init__(self, df, inference_only=False):\n",
    "        super().__init__()\n",
    "\n",
    "        self.df = df        \n",
    "        self.inference_only = inference_only\n",
    "        self.text = df.excerpt.tolist()\n",
    "        #self.text = [text.replace(\"\\n\", \" \") for text in self.text]\n",
    "        \n",
    "        if not self.inference_only:\n",
    "            self.target = torch.tensor(df.target.values, dtype=torch.float32)        \n",
    "    \n",
    "        self.encoded = tokenizer.batch_encode_plus(\n",
    "            self.text,\n",
    "            padding = 'max_length',            \n",
    "            max_length = MAX_LEN,\n",
    "            truncation = True,\n",
    "            return_attention_mask=True\n",
    "        )        \n",
    " \n",
    "\n",
    "    def __len__(self):\n",
    "        return len(self.df)\n",
    "\n",
    "    \n",
    "    def __getitem__(self, index):        \n",
    "        input_ids = torch.tensor(self.encoded['input_ids'][index])\n",
    "        attention_mask = torch.tensor(self.encoded['attention_mask'][index])\n",
    "        \n",
    "        if self.inference_only:\n",
    "            return (input_ids, attention_mask)            \n",
    "        else:\n",
    "            target = self.target[index]\n",
    "            return (input_ids, attention_mask, target)"
   ]
  },
  {
   "cell_type": "markdown",
   "id": "round-bosnia",
   "metadata": {
    "papermill": {
     "duration": 0.051363,
     "end_time": "2021-08-01T05:46:50.038356",
     "exception": false,
     "start_time": "2021-08-01T05:46:49.986993",
     "status": "completed"
    },
    "tags": []
   },
   "source": [
    "## Model"
   ]
  },
  {
   "cell_type": "code",
   "execution_count": 28,
   "id": "nervous-blind",
   "metadata": {
    "execution": {
     "iopub.execute_input": "2021-08-01T05:46:50.136929Z",
     "iopub.status.busy": "2021-08-01T05:46:50.136295Z",
     "iopub.status.idle": "2021-08-01T05:46:50.140786Z",
     "shell.execute_reply": "2021-08-01T05:46:50.140295Z",
     "shell.execute_reply.started": "2021-07-27T04:20:36.039661Z"
    },
    "papermill": {
     "duration": 0.055235,
     "end_time": "2021-08-01T05:46:50.140930",
     "exception": false,
     "start_time": "2021-08-01T05:46:50.085695",
     "status": "completed"
    },
    "tags": []
   },
   "outputs": [],
   "source": [
    "# class LitModel(nn.Module):\n",
    "#     def __init__(self):\n",
    "#         super().__init__()\n",
    "\n",
    "#         config = AutoConfig.from_pretrained(CONFIG_PATH)\n",
    "#         config.update({\"output_hidden_states\":True, \n",
    "#                        \"hidden_dropout_prob\": 0.0,\n",
    "#                        \"layer_norm_eps\": 1e-7})                       \n",
    "        \n",
    "#         self.roberta = AutoModel.from_pretrained(ROBERTA_PATH, config=config)  \n",
    "            \n",
    "#         self.attention = nn.Sequential(            \n",
    "#             nn.Linear(768, 512),            \n",
    "#             nn.Tanh(),                       \n",
    "#             nn.Linear(512, 1),\n",
    "#             nn.Softmax(dim=1)\n",
    "#         )        \n",
    "\n",
    "#         self.regressor = nn.Sequential(  \n",
    "# #             nn.LayerNorm(768),\n",
    "#             nn.Linear(768, 1)                        \n",
    "#         )\n",
    "        \n",
    "\n",
    "#     def forward(self, input_ids, attention_mask):\n",
    "#         roberta_output = self.roberta(input_ids=input_ids,\n",
    "#                                       attention_mask=attention_mask)        \n",
    "\n",
    "#         # There are a total of 13 layers of hidden states.\n",
    "#         # 1 for the embedding layer, and 12 for the 12 Roberta layers.\n",
    "#         # We take the hidden states from the last Roberta layer.\n",
    "#         last_layer_hidden_states = roberta_output.hidden_states[-1]\n",
    "\n",
    "#         # The number of cells is MAX_LEN.\n",
    "#         # The size of the hidden state of each cell is 768 (for roberta-base).\n",
    "#         # In order to condense hidden states of all cells to a context vector,\n",
    "#         # we compute a weighted average of the hidden states of all cells.\n",
    "#         # We compute the weight of each cell, using the attention neural network.\n",
    "#         weights = self.attention(last_layer_hidden_states)\n",
    "                \n",
    "#         # weights.shape is BATCH_SIZE x MAX_LEN x 1\n",
    "#         # last_layer_hidden_states.shape is BATCH_SIZE x MAX_LEN x 768        \n",
    "#         # Now we compute context_vector as the weighted average.\n",
    "#         # context_vector.shape is BATCH_SIZE x 768\n",
    "#         context_vector = torch.sum(weights * last_layer_hidden_states, dim=1)        \n",
    "        \n",
    "#         # Now we reduce the context vector to the prediction score.\n",
    "#         return self.regressor(context_vector)"
   ]
  },
  {
   "cell_type": "code",
   "execution_count": 29,
   "id": "hawaiian-danish",
   "metadata": {
    "execution": {
     "iopub.execute_input": "2021-08-01T05:46:50.239056Z",
     "iopub.status.busy": "2021-08-01T05:46:50.238480Z",
     "iopub.status.idle": "2021-08-01T05:46:50.242699Z",
     "shell.execute_reply": "2021-08-01T05:46:50.242219Z"
    },
    "papermill": {
     "duration": 0.053949,
     "end_time": "2021-08-01T05:46:50.242819",
     "exception": false,
     "start_time": "2021-08-01T05:46:50.188870",
     "status": "completed"
    },
    "tags": []
   },
   "outputs": [],
   "source": [
    "# class LitModel(nn.Module):\n",
    "#     def __init__(self):\n",
    "#         super().__init__()\n",
    "\n",
    "#         config = AutoConfig.from_pretrained(CONFIG_PATH)\n",
    "#         config.update({\"output_hidden_states\":True, \n",
    "#                        \"hidden_dropout_prob\": 0.0,\n",
    "# #                        \"attention_probs_dropout_prob\":0.0,\n",
    "#                        \"layer_norm_eps\": 1e-7})                       \n",
    "        \n",
    "#         self.roberta = AutoModel.from_pretrained(ROBERTA_PATH, config=config)  \n",
    "#         self.cnn1 = nn.Conv1d(768, MAX_LEN, kernel_size=2, padding=1)\n",
    "#         self.cnn2 = nn.Conv1d(MAX_LEN, 1, kernel_size=2, padding=1)\n",
    "\n",
    "        \n",
    "\n",
    "#     def forward(self, input_ids, attention_mask):\n",
    "#         roberta_output = self.roberta(input_ids=input_ids,\n",
    "#                                       attention_mask=attention_mask)        \n",
    "#         last_hidden_state = roberta_output[0]\n",
    "#         last_hidden_state = last_hidden_state.permute(0, 2, 1)\n",
    "#         cnn_embeddings = F.relu(self.cnn1(last_hidden_state))\n",
    "#         cnn_embeddings = self.cnn2(cnn_embeddings)\n",
    "#         logits, _ = torch.max(cnn_embeddings, 2)\n",
    "#         return logits"
   ]
  },
  {
   "cell_type": "code",
   "execution_count": 30,
   "id": "wired-hindu",
   "metadata": {
    "execution": {
     "iopub.execute_input": "2021-08-01T05:46:50.350420Z",
     "iopub.status.busy": "2021-08-01T05:46:50.348609Z",
     "iopub.status.idle": "2021-08-01T05:46:50.351304Z",
     "shell.execute_reply": "2021-08-01T05:46:50.351766Z"
    },
    "papermill": {
     "duration": 0.061472,
     "end_time": "2021-08-01T05:46:50.351918",
     "exception": false,
     "start_time": "2021-08-01T05:46:50.290446",
     "status": "completed"
    },
    "tags": []
   },
   "outputs": [],
   "source": [
    "# https://arxiv.org/pdf/2103.04083v1.pdf\n",
    "class LitModel(nn.Module):  \n",
    "    def __init__(self):\n",
    "        super().__init__()\n",
    "\n",
    "        config = AutoConfig.from_pretrained(CONFIG_PATH)\n",
    "        config.update({\"output_hidden_states\":True, \n",
    "                       \"hidden_dropout_prob\": 0.0,\n",
    "#                        \"attention_probs_dropout_prob\":0.0,\n",
    "                       \"layer_norm_eps\": 1e-7})                       \n",
    "        \n",
    "        self.roberta = AutoModel.from_pretrained(ROBERTA_PATH, config=config)  \n",
    "#         self.cnn1 = nn.Conv1d(768, MAX_LEN, kernel_size=1)\n",
    "#         self.cnn2 = nn.Conv1d(MAX_LEN, 1, kernel_size=1)\n",
    "        self.cnn1 = nn.Conv1d(768, 512, kernel_size=1)\n",
    "        self.cnn2 = nn.Conv1d(512, MAX_LEN, kernel_size=1)\n",
    "         \n",
    "#         self.layernorm = nn.LayerNorm(MAX_LEN,MAX_LEN)    \n",
    "        self.layernorm = nn.LayerNorm(MAX_LEN)\n",
    "            \n",
    "        self.attention = nn.Sequential(            \n",
    "            nn.Linear(MAX_LEN, MAX_LEN),            \n",
    "            nn.Tanh(),  \n",
    "            nn.Linear(MAX_LEN, 1),\n",
    "            nn.Softmax(dim=1)\n",
    "        )        \n",
    "\n",
    "        self.regressor = nn.Sequential(      \n",
    "#             nn.LayerNorm(768),\n",
    "            nn.Linear(MAX_LEN, 1),          \n",
    "        )\n",
    "        \n",
    "\n",
    "    def forward(self, input_ids, attention_mask):\n",
    "        roberta_output = self.roberta(input_ids=input_ids,\n",
    "                                      attention_mask=attention_mask)   \n",
    "        last_hidden_state = roberta_output.hidden_states[-1]\n",
    "#         print(last_hidden_state.shape)\n",
    "        last_hidden_state = last_hidden_state.permute(0, 2, 1)#16*768*MAX_LEN\n",
    "#         print(last_hidden_state.shape)\n",
    "        cnn_embeddings = F.relu(self.cnn1(last_hidden_state))#16*512*MAX_LEN\n",
    "#         print(cnn_embeddings.shape)\n",
    "        cnn_embeddings = self.cnn2(cnn_embeddings)#16*MAX_LEN(embedding)*MAX_LEN(tokens)\n",
    "#         print(cnn_embeddings.shape)\n",
    "        cnn_embeddings = cnn_embeddings.permute(0, 2, 1)\n",
    "#         cnn_embeddings = self.layernorm(cnn_embeddings)\n",
    "#         print(cnn_embeddings.shape)\n",
    "        # There are a total of 13 layers of hidden states.\n",
    "        # 1 for the embedding layer, and 12 for the 12 Roberta layers.\n",
    "        # We take the hidden states from the last Roberta layer.\n",
    "#         last_layer_hidden_states = roberta_output.hidden_states[-1]\n",
    "        \n",
    "\n",
    "        # The number of cells is MAX_LEN.\n",
    "        # The size of the hidden state of each cell is 768 (for roberta-base).\n",
    "        # In order to condense hidden states of all cells to a context vector,\n",
    "        # we compute a weighted average of the hidden states of all cells.\n",
    "        # We compute the weight of each cell, using the attention neural network.\n",
    "#         print(cnn_embeddings.shape)\n",
    "        weights = self.attention(cnn_embeddings)#16*MAX_LEN*1\n",
    "#         print('weights.shape',weights.shape)\n",
    "                \n",
    "        # weights.shape is BATCH_SIZE x MAX_LEN x 1\n",
    "        # last_layer_hidden_states.shape is BATCH_SIZE x MAX_LEN x 768        \n",
    "        # Now we compute context_vector as the weighted average.\n",
    "        # context_vector.shape is BATCH_SIZE x 768\n",
    "        context_vector = torch.sum(weights * cnn_embeddings, dim=1)#16*MAX_LEN   \n",
    "#         print('context_vector',context_vector.shape)\n",
    "        \n",
    "        # Now we reduce the context vector to the prediction score.\n",
    "        return self.regressor(context_vector)#16"
   ]
  },
  {
   "cell_type": "code",
   "execution_count": 31,
   "id": "superb-power",
   "metadata": {
    "execution": {
     "iopub.execute_input": "2021-08-01T05:46:50.454192Z",
     "iopub.status.busy": "2021-08-01T05:46:50.453598Z",
     "iopub.status.idle": "2021-08-01T05:46:50.457606Z",
     "shell.execute_reply": "2021-08-01T05:46:50.458046Z",
     "shell.execute_reply.started": "2021-07-27T04:20:36.052496Z"
    },
    "papermill": {
     "duration": 0.05717,
     "end_time": "2021-08-01T05:46:50.458193",
     "exception": false,
     "start_time": "2021-08-01T05:46:50.401023",
     "status": "completed"
    },
    "tags": []
   },
   "outputs": [],
   "source": [
    "def eval_mse(model, data_loader):\n",
    "    \"\"\"Evaluates the mean squared error of the |model| on |data_loader|\"\"\"\n",
    "    model.eval()            \n",
    "    mse_sum = 0\n",
    "\n",
    "    with torch.no_grad():\n",
    "        for batch_num, (input_ids, attention_mask, target) in enumerate(data_loader):\n",
    "            input_ids = input_ids.to(DEVICE)\n",
    "            attention_mask = attention_mask.to(DEVICE)                        \n",
    "            target = target.to(DEVICE)           \n",
    "            \n",
    "            pred = model(input_ids, attention_mask)                       \n",
    "\n",
    "            mse_sum += nn.MSELoss(reduction=\"sum\")(pred.flatten(), target).item()\n",
    "                \n",
    "\n",
    "    return mse_sum / len(data_loader.dataset)"
   ]
  },
  {
   "cell_type": "code",
   "execution_count": 32,
   "id": "annoying-chinese",
   "metadata": {
    "execution": {
     "iopub.execute_input": "2021-08-01T05:46:50.560674Z",
     "iopub.status.busy": "2021-08-01T05:46:50.558972Z",
     "iopub.status.idle": "2021-08-01T05:46:50.561633Z",
     "shell.execute_reply": "2021-08-01T05:46:50.562096Z",
     "shell.execute_reply.started": "2021-07-27T04:20:36.073483Z"
    },
    "papermill": {
     "duration": 0.056525,
     "end_time": "2021-08-01T05:46:50.562251",
     "exception": false,
     "start_time": "2021-08-01T05:46:50.505726",
     "status": "completed"
    },
    "tags": []
   },
   "outputs": [],
   "source": [
    "def predict(model, data_loader):\n",
    "    \"\"\"Returns an np.array with predictions of the |model| on |data_loader|\"\"\"\n",
    "    model.eval()\n",
    "\n",
    "    result = np.zeros(len(data_loader.dataset))    \n",
    "    index = 0\n",
    "    \n",
    "    with torch.no_grad():\n",
    "        for batch_num, (input_ids, attention_mask) in enumerate(data_loader):\n",
    "            input_ids = input_ids.to(DEVICE)\n",
    "            attention_mask = attention_mask.to(DEVICE)\n",
    "                        \n",
    "            pred = model(input_ids, attention_mask)                        \n",
    "\n",
    "            result[index : index + pred.shape[0]] = pred.flatten().to(\"cpu\")\n",
    "            index += pred.shape[0]\n",
    "\n",
    "    return result"
   ]
  },
  {
   "cell_type": "markdown",
   "id": "serial-factor",
   "metadata": {
    "papermill": {
     "duration": 0.045466,
     "end_time": "2021-08-01T05:46:50.655443",
     "exception": false,
     "start_time": "2021-08-01T05:46:50.609977",
     "status": "completed"
    },
    "tags": []
   },
   "source": [
    "## infer"
   ]
  },
  {
   "cell_type": "code",
   "execution_count": 33,
   "id": "ruled-adrian",
   "metadata": {
    "execution": {
     "iopub.execute_input": "2021-08-01T05:46:50.755033Z",
     "iopub.status.busy": "2021-08-01T05:46:50.754301Z",
     "iopub.status.idle": "2021-08-01T05:46:50.762871Z",
     "shell.execute_reply": "2021-08-01T05:46:50.763317Z",
     "shell.execute_reply.started": "2021-07-27T04:20:36.082553Z"
    },
    "papermill": {
     "duration": 0.05824,
     "end_time": "2021-08-01T05:46:50.763475",
     "exception": false,
     "start_time": "2021-08-01T05:46:50.705235",
     "status": "completed"
    },
    "tags": []
   },
   "outputs": [],
   "source": [
    "test_dataset = LitDataset(test_df, inference_only=True)"
   ]
  },
  {
   "cell_type": "code",
   "execution_count": 34,
   "id": "daily-thursday",
   "metadata": {
    "execution": {
     "iopub.execute_input": "2021-08-01T05:46:50.865569Z",
     "iopub.status.busy": "2021-08-01T05:46:50.864784Z",
     "iopub.status.idle": "2021-08-01T05:48:13.308190Z",
     "shell.execute_reply": "2021-08-01T05:48:13.307570Z",
     "shell.execute_reply.started": "2021-07-27T04:20:36.09804Z"
    },
    "papermill": {
     "duration": 82.495132,
     "end_time": "2021-08-01T05:48:13.308364",
     "exception": false,
     "start_time": "2021-08-01T05:46:50.813232",
     "status": "completed"
    },
    "tags": []
   },
   "outputs": [
    {
     "name": "stdout",
     "output_type": "stream",
     "text": [
      "\n",
      "Using ../input/pre-trained-roberta-solution-in-pytorch-train/model_1.pth\n",
      "\n",
      "Using ../input/pre-trained-roberta-solution-in-pytorch-train/model_2.pth\n",
      "\n",
      "Using ../input/pre-trained-roberta-solution-in-pytorch-train/model_3.pth\n",
      "\n",
      "Using ../input/pre-trained-roberta-solution-in-pytorch-train/model_4.pth\n",
      "\n",
      "Using ../input/pre-trained-roberta-solution-in-pytorch-train/model_5.pth\n",
      "\n",
      "Using ../input/pre-trained-roberta-solution-in-pytorch-train/model_6.pth\n",
      "\n",
      "Using ../input/pre-trained-roberta-solution-in-pytorch-train/model_7.pth\n",
      "\n",
      "Using ../input/pre-trained-roberta-solution-in-pytorch-train/model_8.pth\n",
      "\n",
      "Using ../input/pre-trained-roberta-solution-in-pytorch-train/model_9.pth\n",
      "\n",
      "Using ../input/pre-trained-roberta-solution-in-pytorch-train/model_10.pth\n"
     ]
    }
   ],
   "source": [
    "all_predictions = np.zeros((NUM_FOLDS, len(test_df)))\n",
    "\n",
    "test_dataset = LitDataset(test_df, inference_only=True)\n",
    "test_loader = DataLoader(test_dataset, batch_size=BATCH_SIZE,\n",
    "                         drop_last=False, shuffle=False, num_workers=2)\n",
    "\n",
    "for index in range(NUM_FOLDS):            \n",
    "    model_path = f\"../input/pre-trained-roberta-solution-in-pytorch-train/model_{index + 1}.pth\" #../input/pre-trained-roberta-solution-in-pytorch-train/model_1.pth\n",
    "    print(f\"\\nUsing {model_path}\")\n",
    "                        \n",
    "    model = LitModel()\n",
    "    model.load_state_dict(torch.load(model_path))    \n",
    "    model.to(DEVICE)\n",
    "    \n",
    "    all_predictions[index] = predict(model, test_loader)\n",
    "    \n",
    "    del model\n",
    "    gc.collect()"
   ]
  },
  {
   "cell_type": "code",
   "execution_count": 35,
   "id": "romance-spread",
   "metadata": {
    "execution": {
     "iopub.execute_input": "2021-08-01T05:48:13.414528Z",
     "iopub.status.busy": "2021-08-01T05:48:13.413970Z",
     "iopub.status.idle": "2021-08-01T05:48:13.418013Z",
     "shell.execute_reply": "2021-08-01T05:48:13.417614Z",
     "shell.execute_reply.started": "2021-07-27T04:21:15.472758Z"
    },
    "papermill": {
     "duration": 0.056378,
     "end_time": "2021-08-01T05:48:13.418122",
     "exception": false,
     "start_time": "2021-08-01T05:48:13.361744",
     "status": "completed"
    },
    "tags": []
   },
   "outputs": [],
   "source": [
    "model4_predictions = all_predictions.mean(axis=0)"
   ]
  },
  {
   "cell_type": "code",
   "execution_count": 36,
   "id": "through-procedure",
   "metadata": {
    "execution": {
     "iopub.execute_input": "2021-08-01T05:48:13.523162Z",
     "iopub.status.busy": "2021-08-01T05:48:13.522674Z",
     "iopub.status.idle": "2021-08-01T05:48:13.528561Z",
     "shell.execute_reply": "2021-08-01T05:48:13.528109Z",
     "shell.execute_reply.started": "2021-07-27T04:21:15.480225Z"
    },
    "papermill": {
     "duration": 0.057719,
     "end_time": "2021-08-01T05:48:13.528677",
     "exception": false,
     "start_time": "2021-08-01T05:48:13.470958",
     "status": "completed"
    },
    "tags": []
   },
   "outputs": [
    {
     "data": {
      "text/plain": [
       "array([-0.4425784 , -0.5429264 , -0.42602603, -2.41251047, -1.81365476,\n",
       "       -1.271919  ,  0.1464866 ])"
      ]
     },
     "execution_count": 36,
     "metadata": {},
     "output_type": "execute_result"
    }
   ],
   "source": [
    "# predictions = model1_predictions * 0.5 + model2_predictions * 0.3 + model3_predictions * 0.1  + model4_predictions * 0.1\n",
    "# predictions = model1_predictions * 0.4 + model2_predictions * 0.2 + model3_predictions * 0.2  + model4_predictions * 0.2 best\n",
    "predictions = model1_predictions * 0.25 + model2_predictions * 0.25 + model3_predictions * 0.25  + model4_predictions * 0.25\n",
    "\n",
    "predictions"
   ]
  },
  {
   "cell_type": "code",
   "execution_count": 37,
   "id": "nutritional-debate",
   "metadata": {
    "execution": {
     "iopub.execute_input": "2021-08-01T05:48:13.645398Z",
     "iopub.status.busy": "2021-08-01T05:48:13.644377Z",
     "iopub.status.idle": "2021-08-01T05:48:13.654508Z",
     "shell.execute_reply": "2021-08-01T05:48:13.655113Z",
     "shell.execute_reply.started": "2021-07-27T04:21:15.493019Z"
    },
    "papermill": {
     "duration": 0.069739,
     "end_time": "2021-08-01T05:48:13.655288",
     "exception": false,
     "start_time": "2021-08-01T05:48:13.585549",
     "status": "completed"
    },
    "tags": []
   },
   "outputs": [
    {
     "data": {
      "text/html": [
       "<div>\n",
       "<style scoped>\n",
       "    .dataframe tbody tr th:only-of-type {\n",
       "        vertical-align: middle;\n",
       "    }\n",
       "\n",
       "    .dataframe tbody tr th {\n",
       "        vertical-align: top;\n",
       "    }\n",
       "\n",
       "    .dataframe thead th {\n",
       "        text-align: right;\n",
       "    }\n",
       "</style>\n",
       "<table border=\"1\" class=\"dataframe\">\n",
       "  <thead>\n",
       "    <tr style=\"text-align: right;\">\n",
       "      <th></th>\n",
       "      <th>model1</th>\n",
       "      <th>model2</th>\n",
       "      <th>model3</th>\n",
       "      <th>model4</th>\n",
       "      <th>ensemble</th>\n",
       "    </tr>\n",
       "  </thead>\n",
       "  <tbody>\n",
       "    <tr>\n",
       "      <th>0</th>\n",
       "      <td>-0.437155</td>\n",
       "      <td>-0.424239</td>\n",
       "      <td>-0.403613</td>\n",
       "      <td>-0.505307</td>\n",
       "      <td>-0.442578</td>\n",
       "    </tr>\n",
       "    <tr>\n",
       "      <th>1</th>\n",
       "      <td>-0.656492</td>\n",
       "      <td>-0.552417</td>\n",
       "      <td>-0.390972</td>\n",
       "      <td>-0.571824</td>\n",
       "      <td>-0.542926</td>\n",
       "    </tr>\n",
       "    <tr>\n",
       "      <th>2</th>\n",
       "      <td>-0.354968</td>\n",
       "      <td>-0.480693</td>\n",
       "      <td>-0.432696</td>\n",
       "      <td>-0.435747</td>\n",
       "      <td>-0.426026</td>\n",
       "    </tr>\n",
       "    <tr>\n",
       "      <th>3</th>\n",
       "      <td>-2.515151</td>\n",
       "      <td>-2.409766</td>\n",
       "      <td>-2.249735</td>\n",
       "      <td>-2.475390</td>\n",
       "      <td>-2.412510</td>\n",
       "    </tr>\n",
       "    <tr>\n",
       "      <th>4</th>\n",
       "      <td>-1.678813</td>\n",
       "      <td>-1.869201</td>\n",
       "      <td>-1.838367</td>\n",
       "      <td>-1.868238</td>\n",
       "      <td>-1.813655</td>\n",
       "    </tr>\n",
       "    <tr>\n",
       "      <th>5</th>\n",
       "      <td>-1.427003</td>\n",
       "      <td>-1.139890</td>\n",
       "      <td>-1.113217</td>\n",
       "      <td>-1.407566</td>\n",
       "      <td>-1.271919</td>\n",
       "    </tr>\n",
       "    <tr>\n",
       "      <th>6</th>\n",
       "      <td>0.050763</td>\n",
       "      <td>0.154946</td>\n",
       "      <td>0.106686</td>\n",
       "      <td>0.273552</td>\n",
       "      <td>0.146487</td>\n",
       "    </tr>\n",
       "  </tbody>\n",
       "</table>\n",
       "</div>"
      ],
      "text/plain": [
       "     model1    model2    model3    model4  ensemble\n",
       "0 -0.437155 -0.424239 -0.403613 -0.505307 -0.442578\n",
       "1 -0.656492 -0.552417 -0.390972 -0.571824 -0.542926\n",
       "2 -0.354968 -0.480693 -0.432696 -0.435747 -0.426026\n",
       "3 -2.515151 -2.409766 -2.249735 -2.475390 -2.412510\n",
       "4 -1.678813 -1.869201 -1.838367 -1.868238 -1.813655\n",
       "5 -1.427003 -1.139890 -1.113217 -1.407566 -1.271919\n",
       "6  0.050763  0.154946  0.106686  0.273552  0.146487"
      ]
     },
     "execution_count": 37,
     "metadata": {},
     "output_type": "execute_result"
    }
   ],
   "source": [
    "results = pd.DataFrame(np.vstack((model1_predictions, model2_predictions, model3_predictions,model4_predictions,\n",
    "                                  predictions)).transpose(), \n",
    "                       columns=['model1','model2','model3','model4','ensemble'])\n",
    "\n",
    "results"
   ]
  },
  {
   "cell_type": "code",
   "execution_count": 38,
   "id": "conscious-genre",
   "metadata": {
    "execution": {
     "iopub.execute_input": "2021-08-01T05:48:13.762406Z",
     "iopub.status.busy": "2021-08-01T05:48:13.761773Z",
     "iopub.status.idle": "2021-08-01T05:48:13.766049Z",
     "shell.execute_reply": "2021-08-01T05:48:13.765581Z",
     "shell.execute_reply.started": "2021-07-27T04:21:15.51762Z"
    },
    "papermill": {
     "duration": 0.057542,
     "end_time": "2021-08-01T05:48:13.766172",
     "exception": false,
     "start_time": "2021-08-01T05:48:13.708630",
     "status": "completed"
    },
    "tags": []
   },
   "outputs": [],
   "source": [
    "# submission_df.target = predictions\n",
    "# submission_df"
   ]
  },
  {
   "cell_type": "code",
   "execution_count": 39,
   "id": "chief-comparison",
   "metadata": {
    "execution": {
     "iopub.execute_input": "2021-08-01T05:48:13.870501Z",
     "iopub.status.busy": "2021-08-01T05:48:13.869893Z",
     "iopub.status.idle": "2021-08-01T05:48:13.874080Z",
     "shell.execute_reply": "2021-08-01T05:48:13.873614Z",
     "shell.execute_reply.started": "2021-07-27T04:21:15.534152Z"
    },
    "papermill": {
     "duration": 0.057681,
     "end_time": "2021-08-01T05:48:13.874201",
     "exception": false,
     "start_time": "2021-08-01T05:48:13.816520",
     "status": "completed"
    },
    "tags": []
   },
   "outputs": [],
   "source": [
    "# submission_df.to_csv(\"submission.csv\", index=False)"
   ]
  },
  {
   "cell_type": "code",
   "execution_count": 40,
   "id": "interim-humor",
   "metadata": {
    "execution": {
     "iopub.execute_input": "2021-08-01T05:48:13.987107Z",
     "iopub.status.busy": "2021-08-01T05:48:13.986459Z",
     "iopub.status.idle": "2021-08-01T05:48:14.418226Z",
     "shell.execute_reply": "2021-08-01T05:48:14.417693Z"
    },
    "papermill": {
     "duration": 0.493454,
     "end_time": "2021-08-01T05:48:14.418404",
     "exception": false,
     "start_time": "2021-08-01T05:48:13.924950",
     "status": "completed"
    },
    "tags": []
   },
   "outputs": [
    {
     "name": "stdout",
     "output_type": "stream",
     "text": [
      "          id    target\n",
      "0  c0f722661 -0.442578\n",
      "1  f0953f0a5 -0.542926\n",
      "2  0df072751 -0.426026\n",
      "3  04caf4e0c -2.412510\n",
      "4  0e63f8bea -1.813655\n",
      "5  12537fe78 -1.271919\n",
      "6  965e592c0  0.146487\n"
     ]
    }
   ],
   "source": [
    "test_df['target']=predictions\n",
    "# submission_df.target = predictions\n",
    "cols_to_keep=['id','target']\n",
    "print(test_df[cols_to_keep])\n",
    "test_df.loc[:, cols_to_keep].to_csv(\"submission.csv\", index=False)"
   ]
  },
  {
   "cell_type": "code",
   "execution_count": null,
   "id": "israeli-train",
   "metadata": {
    "papermill": {
     "duration": 0.051411,
     "end_time": "2021-08-01T05:48:14.521749",
     "exception": false,
     "start_time": "2021-08-01T05:48:14.470338",
     "status": "completed"
    },
    "tags": []
   },
   "outputs": [],
   "source": []
  },
  {
   "cell_type": "code",
   "execution_count": null,
   "id": "desirable-riverside",
   "metadata": {
    "papermill": {
     "duration": 0.050617,
     "end_time": "2021-08-01T05:48:14.623153",
     "exception": false,
     "start_time": "2021-08-01T05:48:14.572536",
     "status": "completed"
    },
    "tags": []
   },
   "outputs": [],
   "source": []
  }
 ],
 "metadata": {
  "kernelspec": {
   "display_name": "Python 3",
   "language": "python",
   "name": "python3"
  },
  "language_info": {
   "codemirror_mode": {
    "name": "ipython",
    "version": 3
   },
   "file_extension": ".py",
   "mimetype": "text/x-python",
   "name": "python",
   "nbconvert_exporter": "python",
   "pygments_lexer": "ipython3",
   "version": "3.7.10"
  },
  "papermill": {
   "default_parameters": {},
   "duration": 578.911575,
   "end_time": "2021-08-01T05:48:17.373405",
   "environment_variables": {},
   "exception": null,
   "input_path": "__notebook__.ipynb",
   "output_path": "__notebook__.ipynb",
   "parameters": {},
   "start_time": "2021-08-01T05:38:38.461830",
   "version": "2.3.3"
  },
  "widgets": {
   "application/vnd.jupyter.widget-state+json": {
    "state": {
     "09ad3d52d6934d3e967c9a07fdd90ab6": {
      "model_module": "@jupyter-widgets/controls",
      "model_module_version": "1.5.0",
      "model_name": "ProgressStyleModel",
      "state": {
       "_model_module": "@jupyter-widgets/controls",
       "_model_module_version": "1.5.0",
       "_model_name": "ProgressStyleModel",
       "_view_count": null,
       "_view_module": "@jupyter-widgets/base",
       "_view_module_version": "1.2.0",
       "_view_name": "StyleView",
       "bar_color": null,
       "description_width": ""
      }
     },
     "1f57feadcefe448599f7bd87a65f280e": {
      "model_module": "@jupyter-widgets/controls",
      "model_module_version": "1.5.0",
      "model_name": "FloatProgressModel",
      "state": {
       "_dom_classes": [],
       "_model_module": "@jupyter-widgets/controls",
       "_model_module_version": "1.5.0",
       "_model_name": "FloatProgressModel",
       "_view_count": null,
       "_view_module": "@jupyter-widgets/controls",
       "_view_module_version": "1.5.0",
       "_view_name": "ProgressView",
       "bar_style": "success",
       "description": "",
       "description_tooltip": null,
       "layout": "IPY_MODEL_6fa838dc42044bcf8642eac4772b2786",
       "max": 5.0,
       "min": 0.0,
       "orientation": "horizontal",
       "style": "IPY_MODEL_09ad3d52d6934d3e967c9a07fdd90ab6",
       "value": 5.0
      }
     },
     "40485b5f8f9543cc847c78df312082ad": {
      "model_module": "@jupyter-widgets/controls",
      "model_module_version": "1.5.0",
      "model_name": "HBoxModel",
      "state": {
       "_dom_classes": [],
       "_model_module": "@jupyter-widgets/controls",
       "_model_module_version": "1.5.0",
       "_model_name": "HBoxModel",
       "_view_count": null,
       "_view_module": "@jupyter-widgets/controls",
       "_view_module_version": "1.5.0",
       "_view_name": "HBoxView",
       "box_style": "",
       "children": [
        "IPY_MODEL_b40d23a660734f07a26e55fe1ab9e6e0",
        "IPY_MODEL_1f57feadcefe448599f7bd87a65f280e",
        "IPY_MODEL_6fae84a402f946dea1025fa87b2f6a75"
       ],
       "layout": "IPY_MODEL_b465909a9774446992556e219dae5a13"
      }
     },
     "4f51e5b272b94f709062983e1c460f18": {
      "model_module": "@jupyter-widgets/base",
      "model_module_version": "1.2.0",
      "model_name": "LayoutModel",
      "state": {
       "_model_module": "@jupyter-widgets/base",
       "_model_module_version": "1.2.0",
       "_model_name": "LayoutModel",
       "_view_count": null,
       "_view_module": "@jupyter-widgets/base",
       "_view_module_version": "1.2.0",
       "_view_name": "LayoutView",
       "align_content": null,
       "align_items": null,
       "align_self": null,
       "border": null,
       "bottom": null,
       "display": null,
       "flex": null,
       "flex_flow": null,
       "grid_area": null,
       "grid_auto_columns": null,
       "grid_auto_flow": null,
       "grid_auto_rows": null,
       "grid_column": null,
       "grid_gap": null,
       "grid_row": null,
       "grid_template_areas": null,
       "grid_template_columns": null,
       "grid_template_rows": null,
       "height": null,
       "justify_content": null,
       "justify_items": null,
       "left": null,
       "margin": null,
       "max_height": null,
       "max_width": null,
       "min_height": null,
       "min_width": null,
       "object_fit": null,
       "object_position": null,
       "order": null,
       "overflow": null,
       "overflow_x": null,
       "overflow_y": null,
       "padding": null,
       "right": null,
       "top": null,
       "visibility": null,
       "width": null
      }
     },
     "4f9b90c81d5c4e9f8e0200cc8cc245fa": {
      "model_module": "@jupyter-widgets/base",
      "model_module_version": "1.2.0",
      "model_name": "LayoutModel",
      "state": {
       "_model_module": "@jupyter-widgets/base",
       "_model_module_version": "1.2.0",
       "_model_name": "LayoutModel",
       "_view_count": null,
       "_view_module": "@jupyter-widgets/base",
       "_view_module_version": "1.2.0",
       "_view_name": "LayoutView",
       "align_content": null,
       "align_items": null,
       "align_self": null,
       "border": null,
       "bottom": null,
       "display": null,
       "flex": null,
       "flex_flow": null,
       "grid_area": null,
       "grid_auto_columns": null,
       "grid_auto_flow": null,
       "grid_auto_rows": null,
       "grid_column": null,
       "grid_gap": null,
       "grid_row": null,
       "grid_template_areas": null,
       "grid_template_columns": null,
       "grid_template_rows": null,
       "height": null,
       "justify_content": null,
       "justify_items": null,
       "left": null,
       "margin": null,
       "max_height": null,
       "max_width": null,
       "min_height": null,
       "min_width": null,
       "object_fit": null,
       "object_position": null,
       "order": null,
       "overflow": null,
       "overflow_x": null,
       "overflow_y": null,
       "padding": null,
       "right": null,
       "top": null,
       "visibility": null,
       "width": null
      }
     },
     "5518146b81e144c5831e297ecb417574": {
      "model_module": "@jupyter-widgets/controls",
      "model_module_version": "1.5.0",
      "model_name": "DescriptionStyleModel",
      "state": {
       "_model_module": "@jupyter-widgets/controls",
       "_model_module_version": "1.5.0",
       "_model_name": "DescriptionStyleModel",
       "_view_count": null,
       "_view_module": "@jupyter-widgets/base",
       "_view_module_version": "1.2.0",
       "_view_name": "StyleView",
       "description_width": ""
      }
     },
     "6fa838dc42044bcf8642eac4772b2786": {
      "model_module": "@jupyter-widgets/base",
      "model_module_version": "1.2.0",
      "model_name": "LayoutModel",
      "state": {
       "_model_module": "@jupyter-widgets/base",
       "_model_module_version": "1.2.0",
       "_model_name": "LayoutModel",
       "_view_count": null,
       "_view_module": "@jupyter-widgets/base",
       "_view_module_version": "1.2.0",
       "_view_name": "LayoutView",
       "align_content": null,
       "align_items": null,
       "align_self": null,
       "border": null,
       "bottom": null,
       "display": null,
       "flex": null,
       "flex_flow": null,
       "grid_area": null,
       "grid_auto_columns": null,
       "grid_auto_flow": null,
       "grid_auto_rows": null,
       "grid_column": null,
       "grid_gap": null,
       "grid_row": null,
       "grid_template_areas": null,
       "grid_template_columns": null,
       "grid_template_rows": null,
       "height": null,
       "justify_content": null,
       "justify_items": null,
       "left": null,
       "margin": null,
       "max_height": null,
       "max_width": null,
       "min_height": null,
       "min_width": null,
       "object_fit": null,
       "object_position": null,
       "order": null,
       "overflow": null,
       "overflow_x": null,
       "overflow_y": null,
       "padding": null,
       "right": null,
       "top": null,
       "visibility": null,
       "width": null
      }
     },
     "6fae84a402f946dea1025fa87b2f6a75": {
      "model_module": "@jupyter-widgets/controls",
      "model_module_version": "1.5.0",
      "model_name": "HTMLModel",
      "state": {
       "_dom_classes": [],
       "_model_module": "@jupyter-widgets/controls",
       "_model_module_version": "1.5.0",
       "_model_name": "HTMLModel",
       "_view_count": null,
       "_view_module": "@jupyter-widgets/controls",
       "_view_module_version": "1.5.0",
       "_view_name": "HTMLView",
       "description": "",
       "description_tooltip": null,
       "layout": "IPY_MODEL_4f51e5b272b94f709062983e1c460f18",
       "placeholder": "​",
       "style": "IPY_MODEL_5518146b81e144c5831e297ecb417574",
       "value": " 5/5 [01:57&lt;00:00, 23.54s/it]"
      }
     },
     "a37624c8ee1f4ffe8b69399d38493194": {
      "model_module": "@jupyter-widgets/controls",
      "model_module_version": "1.5.0",
      "model_name": "DescriptionStyleModel",
      "state": {
       "_model_module": "@jupyter-widgets/controls",
       "_model_module_version": "1.5.0",
       "_model_name": "DescriptionStyleModel",
       "_view_count": null,
       "_view_module": "@jupyter-widgets/base",
       "_view_module_version": "1.2.0",
       "_view_name": "StyleView",
       "description_width": ""
      }
     },
     "b40d23a660734f07a26e55fe1ab9e6e0": {
      "model_module": "@jupyter-widgets/controls",
      "model_module_version": "1.5.0",
      "model_name": "HTMLModel",
      "state": {
       "_dom_classes": [],
       "_model_module": "@jupyter-widgets/controls",
       "_model_module_version": "1.5.0",
       "_model_name": "HTMLModel",
       "_view_count": null,
       "_view_module": "@jupyter-widgets/controls",
       "_view_module_version": "1.5.0",
       "_view_name": "HTMLView",
       "description": "",
       "description_tooltip": null,
       "layout": "IPY_MODEL_4f9b90c81d5c4e9f8e0200cc8cc245fa",
       "placeholder": "​",
       "style": "IPY_MODEL_a37624c8ee1f4ffe8b69399d38493194",
       "value": "100%"
      }
     },
     "b465909a9774446992556e219dae5a13": {
      "model_module": "@jupyter-widgets/base",
      "model_module_version": "1.2.0",
      "model_name": "LayoutModel",
      "state": {
       "_model_module": "@jupyter-widgets/base",
       "_model_module_version": "1.2.0",
       "_model_name": "LayoutModel",
       "_view_count": null,
       "_view_module": "@jupyter-widgets/base",
       "_view_module_version": "1.2.0",
       "_view_name": "LayoutView",
       "align_content": null,
       "align_items": null,
       "align_self": null,
       "border": null,
       "bottom": null,
       "display": null,
       "flex": null,
       "flex_flow": null,
       "grid_area": null,
       "grid_auto_columns": null,
       "grid_auto_flow": null,
       "grid_auto_rows": null,
       "grid_column": null,
       "grid_gap": null,
       "grid_row": null,
       "grid_template_areas": null,
       "grid_template_columns": null,
       "grid_template_rows": null,
       "height": null,
       "justify_content": null,
       "justify_items": null,
       "left": null,
       "margin": null,
       "max_height": null,
       "max_width": null,
       "min_height": null,
       "min_width": null,
       "object_fit": null,
       "object_position": null,
       "order": null,
       "overflow": null,
       "overflow_x": null,
       "overflow_y": null,
       "padding": null,
       "right": null,
       "top": null,
       "visibility": null,
       "width": null
      }
     }
    },
    "version_major": 2,
    "version_minor": 0
   }
  }
 },
 "nbformat": 4,
 "nbformat_minor": 5
}
