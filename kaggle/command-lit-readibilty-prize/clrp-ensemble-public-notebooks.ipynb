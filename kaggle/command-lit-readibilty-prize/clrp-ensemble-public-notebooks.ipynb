{
 "cells": [
  {
   "cell_type": "markdown",
   "id": "efficient-indonesian",
   "metadata": {
    "papermill": {
     "duration": 0.023174,
     "end_time": "2021-06-11T03:01:21.208443",
     "exception": false,
     "start_time": "2021-06-11T03:01:21.185269",
     "status": "completed"
    },
    "tags": []
   },
   "source": [
    "This notebook uses below given notebooks to make predictions.\n",
    "\n",
    "1. LB 0.468 https://www.kaggle.com/rhtsingh/commonlit-readability-prize-roberta-torch-infer-3\n",
    "2. LB 0.474 https://www.kaggle.com/maunish/clrp-roberta-svm"
   ]
  },
  {
   "cell_type": "code",
   "execution_count": 1,
   "id": "solar-fortune",
   "metadata": {
    "_cell_guid": "b1076dfc-b9ad-4769-8c92-a6c4dae69d19",
    "_kg_hide-input": true,
    "_uuid": "8f2839f25d086af736a60e9eeb907d3b93b6e0e5",
    "execution": {
     "iopub.execute_input": "2021-06-11T03:01:21.259643Z",
     "iopub.status.busy": "2021-06-11T03:01:21.257557Z",
     "iopub.status.idle": "2021-06-11T03:01:29.187940Z",
     "shell.execute_reply": "2021-06-11T03:01:29.187288Z",
     "shell.execute_reply.started": "2021-06-09T10:10:00.916895Z"
    },
    "papermill": {
     "duration": 7.957949,
     "end_time": "2021-06-11T03:01:29.188180",
     "exception": false,
     "start_time": "2021-06-11T03:01:21.230231",
     "status": "completed"
    },
    "tags": []
   },
   "outputs": [],
   "source": [
    "import os\n",
    "import gc\n",
    "import sys\n",
    "import cv2\n",
    "import math\n",
    "import time\n",
    "import tqdm\n",
    "import random\n",
    "import numpy as np\n",
    "import pandas as pd\n",
    "import seaborn as sns\n",
    "from tqdm import tqdm\n",
    "import matplotlib.pyplot as plt\n",
    "\n",
    "import warnings\n",
    "warnings.filterwarnings('ignore')\n",
    "\n",
    "from sklearn.svm import SVR\n",
    "\n",
    "from sklearn.metrics import mean_squared_error\n",
    "from sklearn.model_selection import KFold,StratifiedKFold\n",
    "\n",
    "import torch\n",
    "import torchvision\n",
    "import torch.nn as nn\n",
    "import torch.optim as optim\n",
    "import torch.nn.functional as F\n",
    "from torch.optim import Adam, lr_scheduler\n",
    "from torch.utils.data import Dataset, DataLoader\n",
    "\n",
    "from transformers import (AutoModel, AutoTokenizer, \n",
    "                          AutoModelForSequenceClassification)\n",
    "\n",
    "import plotly.express as px\n",
    "import plotly.graph_objs as go\n",
    "import plotly.figure_factory as ff\n",
    "\n",
    "\n",
    "from colorama import Fore, Back, Style\n",
    "y_ = Fore.YELLOW\n",
    "r_ = Fore.RED\n",
    "g_ = Fore.GREEN\n",
    "b_ = Fore.BLUE\n",
    "m_ = Fore.MAGENTA\n",
    "c_ = Fore.CYAN\n",
    "sr_ = Style.RESET_ALL"
   ]
  },
  {
   "cell_type": "code",
   "execution_count": 2,
   "id": "postal-contents",
   "metadata": {
    "execution": {
     "iopub.execute_input": "2021-06-11T03:01:29.240308Z",
     "iopub.status.busy": "2021-06-11T03:01:29.239552Z",
     "iopub.status.idle": "2021-06-11T03:01:29.354508Z",
     "shell.execute_reply": "2021-06-11T03:01:29.353876Z",
     "shell.execute_reply.started": "2021-06-09T10:10:07.674205Z"
    },
    "papermill": {
     "duration": 0.144831,
     "end_time": "2021-06-11T03:01:29.354643",
     "exception": false,
     "start_time": "2021-06-11T03:01:29.209812",
     "status": "completed"
    },
    "tags": []
   },
   "outputs": [],
   "source": [
    "train_data = pd.read_csv('../input/commonlitreadabilityprize/train.csv')\n",
    "test_data = pd.read_csv('../input/commonlitreadabilityprize/test.csv')\n",
    "sample = pd.read_csv('../input/commonlitreadabilityprize/sample_submission.csv')\n",
    "\n",
    "num_bins = int(np.floor(1 + np.log2(len(train_data))))\n",
    "train_data.loc[:,'bins'] = pd.cut(train_data['target'],bins=num_bins,labels=False)\n",
    "\n",
    "target = train_data['target'].to_numpy()\n",
    "bins = train_data.bins.to_numpy()\n",
    "\n",
    "def rmse_score(y_true,y_pred):\n",
    "    return np.sqrt(mean_squared_error(y_true,y_pred))"
   ]
  },
  {
   "cell_type": "code",
   "execution_count": 3,
   "id": "efficient-genetics",
   "metadata": {
    "execution": {
     "iopub.execute_input": "2021-06-11T03:01:29.405566Z",
     "iopub.status.busy": "2021-06-11T03:01:29.404480Z",
     "iopub.status.idle": "2021-06-11T03:01:29.414040Z",
     "shell.execute_reply": "2021-06-11T03:01:29.413476Z",
     "shell.execute_reply.started": "2021-06-09T10:10:09.775834Z"
    },
    "papermill": {
     "duration": 0.0378,
     "end_time": "2021-06-11T03:01:29.414185",
     "exception": false,
     "start_time": "2021-06-11T03:01:29.376385",
     "status": "completed"
    },
    "tags": []
   },
   "outputs": [],
   "source": [
    "config = {\n",
    "    'batch_size':128,\n",
    "    'max_len':256,\n",
    "    'nfolds':5,\n",
    "    'seed':42,\n",
    "}\n",
    "\n",
    "def seed_everything(seed=42):\n",
    "    random.seed(seed)\n",
    "    os.environ['PYTHONASSEED'] = str(seed)\n",
    "    np.random.seed(seed)\n",
    "    torch.manual_seed(seed)\n",
    "    torch.cuda.manual_seed(seed)\n",
    "    torch.backends.cudnn.deterministic = True\n",
    "    torch.backends.cudnn.benchmark = True\n",
    "\n",
    "seed_everything(seed=config['seed'])"
   ]
  },
  {
   "cell_type": "code",
   "execution_count": 4,
   "id": "pressing-responsibility",
   "metadata": {
    "execution": {
     "iopub.execute_input": "2021-06-11T03:01:29.465601Z",
     "iopub.status.busy": "2021-06-11T03:01:29.464532Z",
     "iopub.status.idle": "2021-06-11T03:01:29.467880Z",
     "shell.execute_reply": "2021-06-11T03:01:29.467177Z",
     "shell.execute_reply.started": "2021-06-09T10:10:12.967009Z"
    },
    "papermill": {
     "duration": 0.031524,
     "end_time": "2021-06-11T03:01:29.468079",
     "exception": false,
     "start_time": "2021-06-11T03:01:29.436555",
     "status": "completed"
    },
    "tags": []
   },
   "outputs": [],
   "source": [
    "class CLRPDataset(Dataset):\n",
    "    def __init__(self,df,tokenizer):\n",
    "        self.excerpt = df['excerpt'].to_numpy()\n",
    "        self.tokenizer = tokenizer\n",
    "    \n",
    "    def __getitem__(self,idx):\n",
    "        encode = self.tokenizer(self.excerpt[idx],return_tensors='pt',\n",
    "                                max_length=config['max_len'],\n",
    "                                padding='max_length',truncation=True)\n",
    "        return encode\n",
    "    \n",
    "    def __len__(self):\n",
    "        return len(self.excerpt)"
   ]
  },
  {
   "cell_type": "code",
   "execution_count": 5,
   "id": "present-pillow",
   "metadata": {
    "execution": {
     "iopub.execute_input": "2021-06-11T03:01:29.519531Z",
     "iopub.status.busy": "2021-06-11T03:01:29.518512Z",
     "iopub.status.idle": "2021-06-11T03:01:29.521566Z",
     "shell.execute_reply": "2021-06-11T03:01:29.522129Z",
     "shell.execute_reply.started": "2021-06-09T10:10:16.466192Z"
    },
    "papermill": {
     "duration": 0.032523,
     "end_time": "2021-06-11T03:01:29.522275",
     "exception": false,
     "start_time": "2021-06-11T03:01:29.489752",
     "status": "completed"
    },
    "tags": []
   },
   "outputs": [],
   "source": [
    "class AttentionHead(nn.Module):\n",
    "    def __init__(self, in_features, hidden_dim, num_targets):\n",
    "        super().__init__()\n",
    "        self.in_features = in_features\n",
    "        self.middle_features = hidden_dim\n",
    "\n",
    "        self.W = nn.Linear(in_features, hidden_dim)\n",
    "        self.V = nn.Linear(hidden_dim, 1)\n",
    "        self.out_features = hidden_dim\n",
    "\n",
    "    def forward(self, features):\n",
    "        att = torch.tanh(self.W(features))\n",
    "\n",
    "        score = self.V(att)\n",
    "\n",
    "        attention_weights = torch.softmax(score, dim=1)\n",
    "\n",
    "        context_vector = attention_weights * features\n",
    "        context_vector = torch.sum(context_vector, dim=1)\n",
    "\n",
    "        return context_vector"
   ]
  },
  {
   "cell_type": "code",
   "execution_count": 6,
   "id": "found-event",
   "metadata": {
    "execution": {
     "iopub.execute_input": "2021-06-11T03:01:29.571888Z",
     "iopub.status.busy": "2021-06-11T03:01:29.570875Z",
     "iopub.status.idle": "2021-06-11T03:01:29.574665Z",
     "shell.execute_reply": "2021-06-11T03:01:29.573980Z",
     "shell.execute_reply.started": "2021-06-09T10:10:34.505708Z"
    },
    "papermill": {
     "duration": 0.031169,
     "end_time": "2021-06-11T03:01:29.574808",
     "exception": false,
     "start_time": "2021-06-11T03:01:29.543639",
     "status": "completed"
    },
    "tags": []
   },
   "outputs": [],
   "source": [
    "class Model(nn.Module):\n",
    "    def __init__(self):\n",
    "        super(Model,self).__init__()\n",
    "        self.roberta = AutoModel.from_pretrained('../input/roberta-base')    \n",
    "        self.head = AttentionHead(768,768,1)\n",
    "        self.dropout = nn.Dropout(0.1)\n",
    "        self.linear = nn.Linear(self.head.out_features,1)\n",
    "\n",
    "    def forward(self,**xb):\n",
    "        x = self.roberta(**xb)[0]\n",
    "        x = self.head(x)\n",
    "        return x"
   ]
  },
  {
   "cell_type": "code",
   "execution_count": 7,
   "id": "excellent-essex",
   "metadata": {
    "execution": {
     "iopub.execute_input": "2021-06-11T03:01:29.629400Z",
     "iopub.status.busy": "2021-06-11T03:01:29.628301Z",
     "iopub.status.idle": "2021-06-11T03:01:29.631604Z",
     "shell.execute_reply": "2021-06-11T03:01:29.631014Z",
     "shell.execute_reply.started": "2021-06-09T10:10:37.319896Z"
    },
    "papermill": {
     "duration": 0.035007,
     "end_time": "2021-06-11T03:01:29.631737",
     "exception": false,
     "start_time": "2021-06-11T03:01:29.596730",
     "status": "completed"
    },
    "tags": []
   },
   "outputs": [],
   "source": [
    "def get_embeddings(df,path,plot_losses=True, verbose=True):\n",
    "    device = torch.device(\"cuda\" if torch.cuda.is_available() else \"cpu\")\n",
    "    print(f\"{device} is used\")\n",
    "            \n",
    "    model = Model()\n",
    "    model.load_state_dict(torch.load(path))\n",
    "    model.to(device)\n",
    "    model.eval()\n",
    "    \n",
    "    tokenizer = AutoTokenizer.from_pretrained('../input/roberta-base')\n",
    "    \n",
    "    ds = CLRPDataset(df,tokenizer)\n",
    "    dl = DataLoader(ds,\n",
    "                  batch_size = config[\"batch_size\"],\n",
    "                  shuffle=False,\n",
    "                  num_workers = 4,\n",
    "                  pin_memory=True,\n",
    "                  drop_last=False\n",
    "                 )\n",
    "        \n",
    "    embeddings = list()\n",
    "    with torch.no_grad():\n",
    "        for i, inputs in tqdm(enumerate(dl)):\n",
    "            inputs = {key:val.reshape(val.shape[0],-1).to(device) for key,val in inputs.items()}\n",
    "            outputs = model(**inputs)\n",
    "            outputs = outputs.detach().cpu().numpy()\n",
    "            embeddings.extend(outputs)\n",
    "    return np.array(embeddings)"
   ]
  },
  {
   "cell_type": "code",
   "execution_count": 8,
   "id": "desirable-struggle",
   "metadata": {
    "execution": {
     "iopub.execute_input": "2021-06-11T03:01:29.733453Z",
     "iopub.status.busy": "2021-06-11T03:01:29.732686Z",
     "iopub.status.idle": "2021-06-11T03:04:48.850141Z",
     "shell.execute_reply": "2021-06-11T03:04:48.849208Z",
     "shell.execute_reply.started": "2021-06-09T10:10:40.283404Z"
    },
    "papermill": {
     "duration": 199.197154,
     "end_time": "2021-06-11T03:04:48.850294",
     "exception": false,
     "start_time": "2021-06-11T03:01:29.653140",
     "status": "completed"
    },
    "tags": []
   },
   "outputs": [
    {
     "name": "stdout",
     "output_type": "stream",
     "text": [
      "cuda is used\n"
     ]
    },
    {
     "name": "stderr",
     "output_type": "stream",
     "text": [
      "23it [00:23,  1.01s/it]\n"
     ]
    },
    {
     "name": "stdout",
     "output_type": "stream",
     "text": [
      "cuda is used\n"
     ]
    },
    {
     "name": "stderr",
     "output_type": "stream",
     "text": [
      "1it [00:00,  5.72it/s]\n"
     ]
    },
    {
     "name": "stdout",
     "output_type": "stream",
     "text": [
      "cuda is used\n"
     ]
    },
    {
     "name": "stderr",
     "output_type": "stream",
     "text": [
      "23it [00:21,  1.05it/s]\n"
     ]
    },
    {
     "name": "stdout",
     "output_type": "stream",
     "text": [
      "cuda is used\n"
     ]
    },
    {
     "name": "stderr",
     "output_type": "stream",
     "text": [
      "1it [00:00,  5.65it/s]\n"
     ]
    },
    {
     "name": "stdout",
     "output_type": "stream",
     "text": [
      "cuda is used\n"
     ]
    },
    {
     "name": "stderr",
     "output_type": "stream",
     "text": [
      "23it [00:22,  1.04it/s]\n"
     ]
    },
    {
     "name": "stdout",
     "output_type": "stream",
     "text": [
      "cuda is used\n"
     ]
    },
    {
     "name": "stderr",
     "output_type": "stream",
     "text": [
      "1it [00:00,  5.85it/s]\n"
     ]
    },
    {
     "name": "stdout",
     "output_type": "stream",
     "text": [
      "cuda is used\n"
     ]
    },
    {
     "name": "stderr",
     "output_type": "stream",
     "text": [
      "23it [00:22,  1.04it/s]\n"
     ]
    },
    {
     "name": "stdout",
     "output_type": "stream",
     "text": [
      "cuda is used\n"
     ]
    },
    {
     "name": "stderr",
     "output_type": "stream",
     "text": [
      "1it [00:00,  5.38it/s]\n"
     ]
    },
    {
     "name": "stdout",
     "output_type": "stream",
     "text": [
      "cuda is used\n"
     ]
    },
    {
     "name": "stderr",
     "output_type": "stream",
     "text": [
      "23it [00:22,  1.04it/s]\n"
     ]
    },
    {
     "name": "stdout",
     "output_type": "stream",
     "text": [
      "cuda is used\n"
     ]
    },
    {
     "name": "stderr",
     "output_type": "stream",
     "text": [
      "1it [00:00,  4.77it/s]\n"
     ]
    }
   ],
   "source": [
    "train_embeddings1 =  get_embeddings(train_data,'../input/clr-roberta/model0/model0.bin')\n",
    "test_embeddings1 = get_embeddings(test_data,'../input/clr-roberta/model0/model0.bin')\n",
    "\n",
    "train_embeddings2 =  get_embeddings(train_data,'../input/clr-roberta/model1/model1.bin')\n",
    "test_embeddings2 = get_embeddings(test_data,'../input/clr-roberta/model1/model1.bin')\n",
    "\n",
    "train_embeddings3 =  get_embeddings(train_data,'../input/clr-roberta/model2/model2.bin')\n",
    "test_embeddings3 = get_embeddings(test_data,'../input/clr-roberta/model2/model2.bin')\n",
    "\n",
    "train_embeddings4 =  get_embeddings(train_data,'../input/clr-roberta/model3/model3.bin')\n",
    "test_embeddings4 = get_embeddings(test_data,'../input/clr-roberta/model3/model3.bin')\n",
    "\n",
    "train_embeddings5 =  get_embeddings(train_data,'../input/clr-roberta/model4/model4.bin')\n",
    "test_embeddings5 = get_embeddings(test_data,'../input/clr-roberta/model4/model4.bin')"
   ]
  },
  {
   "cell_type": "markdown",
   "id": "sublime-hawaiian",
   "metadata": {
    "papermill": {
     "duration": 0.075833,
     "end_time": "2021-06-11T03:04:48.998636",
     "exception": false,
     "start_time": "2021-06-11T03:04:48.922803",
     "status": "completed"
    },
    "tags": []
   },
   "source": [
    "## svm"
   ]
  },
  {
   "cell_type": "code",
   "execution_count": 9,
   "id": "specialized-budapest",
   "metadata": {
    "execution": {
     "iopub.execute_input": "2021-06-11T03:04:49.153774Z",
     "iopub.status.busy": "2021-06-11T03:04:49.152688Z",
     "iopub.status.idle": "2021-06-11T03:04:49.155988Z",
     "shell.execute_reply": "2021-06-11T03:04:49.155498Z",
     "shell.execute_reply.started": "2021-06-09T10:15:51.394572Z"
    },
    "papermill": {
     "duration": 0.08667,
     "end_time": "2021-06-11T03:04:49.156145",
     "exception": false,
     "start_time": "2021-06-11T03:04:49.069475",
     "status": "completed"
    },
    "tags": []
   },
   "outputs": [],
   "source": [
    "def get_preds_svm(X,y,X_test,bins=bins,nfolds=5,C=10,kernel='rbf'):\n",
    "    scores = list()\n",
    "    preds = np.zeros((X_test.shape[0]))\n",
    "    \n",
    "    kfold = StratifiedKFold(n_splits=config['nfolds'],shuffle=True,random_state=config['seed'])\n",
    "    for k, (train_idx,valid_idx) in enumerate(kfold.split(X,bins)):\n",
    "        model = SVR(C=C,kernel=kernel,gamma='auto')\n",
    "        X_train,y_train = X[train_idx], y[train_idx]\n",
    "        X_valid,y_valid = X[valid_idx], y[valid_idx]\n",
    "        \n",
    "        model.fit(X_train,y_train)\n",
    "        prediction = model.predict(X_valid)\n",
    "        score = rmse_score(prediction,y_valid)\n",
    "        print(f'Fold {k} , rmse score: {score}')\n",
    "        scores.append(score)\n",
    "        preds += model.predict(X_test)\n",
    "        \n",
    "    print(\"mean rmse\",np.mean(scores))\n",
    "    return np.array(preds)/nfolds"
   ]
  },
  {
   "cell_type": "code",
   "execution_count": 10,
   "id": "framed-courtesy",
   "metadata": {
    "execution": {
     "iopub.execute_input": "2021-06-11T03:04:49.300536Z",
     "iopub.status.busy": "2021-06-11T03:04:49.299853Z",
     "iopub.status.idle": "2021-06-11T03:05:38.454038Z",
     "shell.execute_reply": "2021-06-11T03:05:38.453411Z",
     "shell.execute_reply.started": "2021-06-09T10:15:54.670832Z"
    },
    "papermill": {
     "duration": 49.228959,
     "end_time": "2021-06-11T03:05:38.454202",
     "exception": false,
     "start_time": "2021-06-11T03:04:49.225243",
     "status": "completed"
    },
    "tags": []
   },
   "outputs": [
    {
     "name": "stdout",
     "output_type": "stream",
     "text": [
      "Fold 0 , rmse score: 0.47727497027807975\n",
      "Fold 1 , rmse score: 0.2578880377682382\n",
      "Fold 2 , rmse score: 0.2541082644861084\n",
      "Fold 3 , rmse score: 0.24054325983483563\n",
      "Fold 4 , rmse score: 0.2551938404392728\n",
      "mean rmse 0.297001674561307\n",
      "Fold 0 , rmse score: 0.2425235616562364\n",
      "Fold 1 , rmse score: 0.5016510069411838\n",
      "Fold 2 , rmse score: 0.23847703706225037\n",
      "Fold 3 , rmse score: 0.23492862892763802\n",
      "Fold 4 , rmse score: 0.24930508381707772\n",
      "mean rmse 0.2933770636808773\n",
      "Fold 0 , rmse score: 0.3908661185328736\n",
      "Fold 1 , rmse score: 0.4135395361379846\n",
      "Fold 2 , rmse score: 0.4895740066653232\n",
      "Fold 3 , rmse score: 0.3756053322147557\n",
      "Fold 4 , rmse score: 0.4008420352519307\n",
      "mean rmse 0.4140854057605735\n",
      "Fold 0 , rmse score: 0.2878583154409844\n",
      "Fold 1 , rmse score: 0.27540087825175247\n",
      "Fold 2 , rmse score: 0.2809937810667762\n",
      "Fold 3 , rmse score: 0.45763179894261946\n",
      "Fold 4 , rmse score: 0.2852643347020617\n",
      "mean rmse 0.31742982168083883\n",
      "Fold 0 , rmse score: 0.4013671778501825\n",
      "Fold 1 , rmse score: 0.4266264148954528\n",
      "Fold 2 , rmse score: 0.4028700034689983\n",
      "Fold 3 , rmse score: 0.3969900356101473\n",
      "Fold 4 , rmse score: 0.5105196639952477\n",
      "mean rmse 0.4276746591640057\n"
     ]
    }
   ],
   "source": [
    "svm_preds1 = get_preds_svm(train_embeddings1,target,test_embeddings1)\n",
    "svm_preds2 = get_preds_svm(train_embeddings2,target,test_embeddings2)\n",
    "svm_preds3 = get_preds_svm(train_embeddings3,target,test_embeddings3)\n",
    "svm_preds4 = get_preds_svm(train_embeddings4,target,test_embeddings4)\n",
    "svm_preds5 = get_preds_svm(train_embeddings5,target,test_embeddings5)"
   ]
  },
  {
   "cell_type": "code",
   "execution_count": 11,
   "id": "intensive-virgin",
   "metadata": {
    "execution": {
     "iopub.execute_input": "2021-06-11T03:05:38.617748Z",
     "iopub.status.busy": "2021-06-11T03:05:38.616503Z",
     "iopub.status.idle": "2021-06-11T03:05:38.620143Z",
     "shell.execute_reply": "2021-06-11T03:05:38.619595Z",
     "shell.execute_reply.started": "2021-06-09T10:16:39.410482Z"
    },
    "papermill": {
     "duration": 0.087764,
     "end_time": "2021-06-11T03:05:38.620308",
     "exception": false,
     "start_time": "2021-06-11T03:05:38.532544",
     "status": "completed"
    },
    "tags": []
   },
   "outputs": [],
   "source": [
    "svm_preds = (svm_preds1 + svm_preds2 + svm_preds3 + svm_preds4 + svm_preds5)/5"
   ]
  },
  {
   "cell_type": "markdown",
   "id": "collect-cause",
   "metadata": {
    "papermill": {
     "duration": 0.077032,
     "end_time": "2021-06-11T03:05:38.779730",
     "exception": false,
     "start_time": "2021-06-11T03:05:38.702698",
     "status": "completed"
    },
    "tags": []
   },
   "source": [
    "**The second notebook**"
   ]
  },
  {
   "cell_type": "code",
   "execution_count": 12,
   "id": "funny-potential",
   "metadata": {
    "execution": {
     "iopub.execute_input": "2021-06-11T03:05:38.944568Z",
     "iopub.status.busy": "2021-06-11T03:05:38.943698Z",
     "iopub.status.idle": "2021-06-11T03:05:38.958304Z",
     "shell.execute_reply": "2021-06-11T03:05:38.957794Z",
     "shell.execute_reply.started": "2021-06-09T10:16:42.286661Z"
    },
    "papermill": {
     "duration": 0.099826,
     "end_time": "2021-06-11T03:05:38.958432",
     "exception": false,
     "start_time": "2021-06-11T03:05:38.858606",
     "status": "completed"
    },
    "tags": []
   },
   "outputs": [],
   "source": [
    "%matplotlib inline\n",
    "from glob import glob\n",
    "import os\n",
    "import matplotlib.pyplot as plt\n",
    "import json\n",
    "from collections import defaultdict\n",
    "import gc\n",
    "gc.enable()"
   ]
  },
  {
   "cell_type": "code",
   "execution_count": 13,
   "id": "ordered-plasma",
   "metadata": {
    "execution": {
     "iopub.execute_input": "2021-06-11T03:05:39.121263Z",
     "iopub.status.busy": "2021-06-11T03:05:39.120154Z",
     "iopub.status.idle": "2021-06-11T03:05:44.869689Z",
     "shell.execute_reply": "2021-06-11T03:05:44.868660Z",
     "shell.execute_reply.started": "2021-06-09T10:16:44.806836Z"
    },
    "papermill": {
     "duration": 5.834244,
     "end_time": "2021-06-11T03:05:44.869853",
     "exception": false,
     "start_time": "2021-06-11T03:05:39.035609",
     "status": "completed"
    },
    "tags": []
   },
   "outputs": [],
   "source": [
    "import torch\n",
    "import torch.nn as nn\n",
    "import torch.nn.functional as F\n",
    "import torch.optim as optim\n",
    "from torch.optim.optimizer import Optimizer\n",
    "import torch.optim.lr_scheduler as lr_scheduler\n",
    "from torch.utils.data import (\n",
    "    Dataset, DataLoader, \n",
    "    SequentialSampler, RandomSampler\n",
    ")\n",
    "from transformers import RobertaConfig\n",
    "from transformers import (\n",
    "    get_cosine_schedule_with_warmup, \n",
    "    get_cosine_with_hard_restarts_schedule_with_warmup\n",
    ")\n",
    "from transformers import RobertaTokenizer\n",
    "from transformers import RobertaModel\n",
    "from IPython.display import clear_output\n",
    "from tqdm import tqdm, trange"
   ]
  },
  {
   "cell_type": "code",
   "execution_count": 14,
   "id": "governing-somalia",
   "metadata": {
    "execution": {
     "iopub.execute_input": "2021-06-11T03:05:45.038076Z",
     "iopub.status.busy": "2021-06-11T03:05:45.036917Z",
     "iopub.status.idle": "2021-06-11T03:05:45.040586Z",
     "shell.execute_reply": "2021-06-11T03:05:45.039948Z",
     "shell.execute_reply.started": "2021-06-09T10:16:49.504203Z"
    },
    "papermill": {
     "duration": 0.091957,
     "end_time": "2021-06-11T03:05:45.040717",
     "exception": false,
     "start_time": "2021-06-11T03:05:44.948760",
     "status": "completed"
    },
    "tags": []
   },
   "outputs": [],
   "source": [
    "def convert_examples_to_features(data, tokenizer, max_len, is_test=False):\n",
    "    data = data.replace('\\n', '')\n",
    "    tok = tokenizer.encode_plus(\n",
    "        data, \n",
    "        max_length=max_len, \n",
    "        truncation=True,\n",
    "        return_attention_mask=True,\n",
    "        return_token_type_ids=True\n",
    "    )\n",
    "    curr_sent = {}\n",
    "    padding_length = max_len - len(tok['input_ids'])\n",
    "    curr_sent['input_ids'] = tok['input_ids'] + ([0] * padding_length)\n",
    "    curr_sent['token_type_ids'] = tok['token_type_ids'] + \\\n",
    "        ([0] * padding_length)\n",
    "    curr_sent['attention_mask'] = tok['attention_mask'] + \\\n",
    "        ([0] * padding_length)\n",
    "    return curr_sent"
   ]
  },
  {
   "cell_type": "code",
   "execution_count": 15,
   "id": "hollywood-default",
   "metadata": {
    "execution": {
     "iopub.execute_input": "2021-06-11T03:05:45.208482Z",
     "iopub.status.busy": "2021-06-11T03:05:45.207431Z",
     "iopub.status.idle": "2021-06-11T03:05:45.210690Z",
     "shell.execute_reply": "2021-06-11T03:05:45.210193Z",
     "shell.execute_reply.started": "2021-06-09T10:16:50.637933Z"
    },
    "papermill": {
     "duration": 0.092766,
     "end_time": "2021-06-11T03:05:45.210816",
     "exception": false,
     "start_time": "2021-06-11T03:05:45.118050",
     "status": "completed"
    },
    "tags": []
   },
   "outputs": [],
   "source": [
    "class DatasetRetriever(Dataset):\n",
    "    def __init__(self, data, tokenizer, max_len, is_test=False):\n",
    "        self.data = data\n",
    "        self.excerpts = self.data.excerpt.values.tolist()\n",
    "        self.tokenizer = tokenizer\n",
    "        self.is_test = is_test\n",
    "        self.max_len = max_len\n",
    "    \n",
    "    def __len__(self):\n",
    "        return len(self.data)\n",
    "    \n",
    "    def __getitem__(self, item):\n",
    "        if not self.is_test:\n",
    "            excerpt, label = self.excerpts[item], self.targets[item]\n",
    "            features = convert_examples_to_features(\n",
    "                excerpt, self.tokenizer, \n",
    "                self.max_len, self.is_test\n",
    "            )\n",
    "            return {\n",
    "                'input_ids':torch.tensor(features['input_ids'], dtype=torch.long),\n",
    "                'token_type_ids':torch.tensor(features['token_type_ids'], dtype=torch.long),\n",
    "                'attention_mask':torch.tensor(features['attention_mask'], dtype=torch.long),\n",
    "                'label':torch.tensor(label, dtype=torch.double),\n",
    "            }\n",
    "        else:\n",
    "            excerpt = self.excerpts[item]\n",
    "            features = convert_examples_to_features(\n",
    "                excerpt, self.tokenizer, \n",
    "                self.max_len, self.is_test\n",
    "            )\n",
    "            return {\n",
    "                'input_ids':torch.tensor(features['input_ids'], dtype=torch.long),\n",
    "                'token_type_ids':torch.tensor(features['token_type_ids'], dtype=torch.long),\n",
    "                'attention_mask':torch.tensor(features['attention_mask'], dtype=torch.long),\n",
    "            }"
   ]
  },
  {
   "cell_type": "code",
   "execution_count": 16,
   "id": "loaded-incident",
   "metadata": {
    "execution": {
     "iopub.execute_input": "2021-06-11T03:05:45.389554Z",
     "iopub.status.busy": "2021-06-11T03:05:45.388470Z",
     "iopub.status.idle": "2021-06-11T03:05:45.391185Z",
     "shell.execute_reply": "2021-06-11T03:05:45.391732Z",
     "shell.execute_reply.started": "2021-06-09T10:16:54.583861Z"
    },
    "papermill": {
     "duration": 0.098553,
     "end_time": "2021-06-11T03:05:45.391880",
     "exception": false,
     "start_time": "2021-06-11T03:05:45.293327",
     "status": "completed"
    },
    "tags": []
   },
   "outputs": [],
   "source": [
    "class CommonLitModel(nn.Module):\n",
    "    def __init__(\n",
    "        self, \n",
    "        model_name, \n",
    "        config,  \n",
    "        multisample_dropout=False,\n",
    "        output_hidden_states=False\n",
    "    ):\n",
    "        super(CommonLitModel, self).__init__()\n",
    "        self.config = config\n",
    "        self.roberta = RobertaModel.from_pretrained(\n",
    "            model_name, \n",
    "            output_hidden_states=output_hidden_states\n",
    "        )\n",
    "        self.layer_norm = nn.LayerNorm(config.hidden_size)\n",
    "        if multisample_dropout:\n",
    "            self.dropouts = nn.ModuleList([\n",
    "                nn.Dropout(0.5) for _ in range(5)\n",
    "            ])\n",
    "        else:\n",
    "            self.dropouts = nn.ModuleList([nn.Dropout(0.3)])\n",
    "        self.regressor = nn.Linear(config.hidden_size, 1)\n",
    "        self._init_weights(self.layer_norm)\n",
    "        self._init_weights(self.regressor)\n",
    " \n",
    "    def _init_weights(self, module):\n",
    "        if isinstance(module, nn.Linear):\n",
    "            module.weight.data.normal_(mean=0.0, std=self.config.initializer_range)\n",
    "            if module.bias is not None:\n",
    "                module.bias.data.zero_()\n",
    "        elif isinstance(module, nn.Embedding):\n",
    "            module.weight.data.normal_(mean=0.0, std=self.config.initializer_range)\n",
    "            if module.padding_idx is not None:\n",
    "                module.weight.data[module.padding_idx].zero_()\n",
    "        elif isinstance(module, nn.LayerNorm):\n",
    "            module.bias.data.zero_()\n",
    "            module.weight.data.fill_(1.0)\n",
    " \n",
    "    def forward(\n",
    "        self, \n",
    "        input_ids=None,\n",
    "        attention_mask=None,\n",
    "        token_type_ids=None,\n",
    "        labels=None\n",
    "    ):\n",
    "        outputs = self.roberta(\n",
    "            input_ids,\n",
    "            attention_mask=attention_mask,\n",
    "            token_type_ids=token_type_ids,\n",
    "        )\n",
    "        sequence_output = outputs[1]\n",
    "        sequence_output = self.layer_norm(sequence_output)\n",
    " \n",
    "        # multi-sample dropout\n",
    "        for i, dropout in enumerate(self.dropouts):\n",
    "            if i == 0:\n",
    "                logits = self.regressor(dropout(sequence_output))\n",
    "            else:\n",
    "                logits += self.regressor(dropout(sequence_output))\n",
    "        \n",
    "        logits /= len(self.dropouts)\n",
    " \n",
    "        # calculate loss\n",
    "        loss = None\n",
    "        if labels is not None:\n",
    "            loss_fn = torch.nn.MSELoss()\n",
    "            logits = logits.view(-1).to(labels.dtype)\n",
    "            loss = torch.sqrt(loss_fn(logits, labels.view(-1)))\n",
    "        \n",
    "        output = (logits,) + outputs[1:]\n",
    "        return ((loss,) + output) if loss is not None else output"
   ]
  },
  {
   "cell_type": "code",
   "execution_count": 17,
   "id": "standard-tulsa",
   "metadata": {
    "execution": {
     "iopub.execute_input": "2021-06-11T03:05:45.551616Z",
     "iopub.status.busy": "2021-06-11T03:05:45.550568Z",
     "iopub.status.idle": "2021-06-11T03:05:45.554230Z",
     "shell.execute_reply": "2021-06-11T03:05:45.553621Z",
     "shell.execute_reply.started": "2021-06-09T10:16:59.287637Z"
    },
    "papermill": {
     "duration": 0.086151,
     "end_time": "2021-06-11T03:05:45.554355",
     "exception": false,
     "start_time": "2021-06-11T03:05:45.468204",
     "status": "completed"
    },
    "tags": []
   },
   "outputs": [],
   "source": [
    "def make_model(model_name, num_labels=1):\n",
    "    tokenizer = RobertaTokenizer.from_pretrained(model_name)\n",
    "    config = RobertaConfig.from_pretrained(model_name)\n",
    "    config.update({'num_labels':num_labels})\n",
    "    model = CommonLitModel(model_name, config=config)\n",
    "    return model, tokenizer\n",
    "\n",
    "def make_loader(\n",
    "    data, \n",
    "    tokenizer, \n",
    "    max_len,\n",
    "    batch_size,\n",
    "):\n",
    "    \n",
    "    test_dataset = DatasetRetriever(data, tokenizer, max_len, is_test=True)\n",
    "    test_sampler = SequentialSampler(test_dataset)\n",
    "    test_loader = DataLoader(\n",
    "        test_dataset, \n",
    "        batch_size=batch_size // 2, \n",
    "        sampler=test_sampler, \n",
    "        pin_memory=False, \n",
    "        drop_last=False, \n",
    "        num_workers=0\n",
    "    )\n",
    "\n",
    "    return test_loader"
   ]
  },
  {
   "cell_type": "code",
   "execution_count": 18,
   "id": "amino-arlington",
   "metadata": {
    "execution": {
     "iopub.execute_input": "2021-06-11T03:05:45.717783Z",
     "iopub.status.busy": "2021-06-11T03:05:45.716899Z",
     "iopub.status.idle": "2021-06-11T03:05:45.720228Z",
     "shell.execute_reply": "2021-06-11T03:05:45.720816Z",
     "shell.execute_reply.started": "2021-06-09T10:17:02.46023Z"
    },
    "papermill": {
     "duration": 0.090601,
     "end_time": "2021-06-11T03:05:45.721031",
     "exception": false,
     "start_time": "2021-06-11T03:05:45.630430",
     "status": "completed"
    },
    "tags": []
   },
   "outputs": [],
   "source": [
    "class Evaluator:\n",
    "    def __init__(self, model, scalar=None):\n",
    "        self.model = model\n",
    "        self.scalar = scalar\n",
    "\n",
    "    def evaluate(self, data_loader, tokenizer):\n",
    "        preds = []\n",
    "        self.model.eval()\n",
    "        total_loss = 0\n",
    "        with torch.no_grad():\n",
    "            for batch_idx, batch_data in enumerate(data_loader):\n",
    "                input_ids, attention_mask, token_type_ids = batch_data['input_ids'], \\\n",
    "                    batch_data['attention_mask'], batch_data['token_type_ids']\n",
    "                input_ids, attention_mask, token_type_ids = input_ids.cuda(), \\\n",
    "                    attention_mask.cuda(), token_type_ids.cuda()\n",
    "                \n",
    "                if self.scalar is not None:\n",
    "                    with torch.cuda.amp.autocast():\n",
    "                        outputs = self.model(\n",
    "                            input_ids=input_ids,\n",
    "                            attention_mask=attention_mask,\n",
    "                            token_type_ids=token_type_ids\n",
    "                        )\n",
    "                else:\n",
    "                    outputs = self.model(\n",
    "                        input_ids=input_ids,\n",
    "                        attention_mask=attention_mask,\n",
    "                        token_type_ids=token_type_ids\n",
    "                    )\n",
    "                \n",
    "                logits = outputs[0].detach().cpu().numpy().squeeze().tolist()\n",
    "                preds += logits\n",
    "        return preds"
   ]
  },
  {
   "cell_type": "code",
   "execution_count": 19,
   "id": "black-intensity",
   "metadata": {
    "execution": {
     "iopub.execute_input": "2021-06-11T03:05:45.890105Z",
     "iopub.status.busy": "2021-06-11T03:05:45.888080Z",
     "iopub.status.idle": "2021-06-11T03:05:45.891019Z",
     "shell.execute_reply": "2021-06-11T03:05:45.891667Z",
     "shell.execute_reply.started": "2021-06-09T10:17:04.788356Z"
    },
    "papermill": {
     "duration": 0.090665,
     "end_time": "2021-06-11T03:05:45.891811",
     "exception": false,
     "start_time": "2021-06-11T03:05:45.801146",
     "status": "completed"
    },
    "tags": []
   },
   "outputs": [],
   "source": [
    "def config(fold, model_name, load_model_path):\n",
    "    torch.manual_seed(2021)\n",
    "    torch.cuda.manual_seed(2021)\n",
    "    torch.cuda.manual_seed_all(2021)\n",
    "    \n",
    "    max_len = 250\n",
    "    batch_size = 8\n",
    "\n",
    "    model, tokenizer = make_model(\n",
    "        model_name=model_name, \n",
    "        num_labels=1\n",
    "    )\n",
    "    model.load_state_dict(\n",
    "        torch.load(f'{load_model_path}/model{fold}.bin')\n",
    "    )\n",
    "    test_loader = make_loader(\n",
    "        test, tokenizer, max_len=max_len,\n",
    "        batch_size=batch_size\n",
    "    )\n",
    "\n",
    "    if torch.cuda.device_count() >= 1:\n",
    "        print('Model pushed to {} GPU(s), type {}.'.format(\n",
    "            torch.cuda.device_count(), \n",
    "            torch.cuda.get_device_name(0))\n",
    "        )\n",
    "        model = model.cuda() \n",
    "    else:\n",
    "        raise ValueError('CPU training is not supported')\n",
    "\n",
    "    # scaler = torch.cuda.amp.GradScaler()\n",
    "    scaler = None\n",
    "    return (\n",
    "        model, tokenizer, \n",
    "        test_loader, scaler\n",
    "    )"
   ]
  },
  {
   "cell_type": "code",
   "execution_count": 20,
   "id": "circular-aviation",
   "metadata": {
    "execution": {
     "iopub.execute_input": "2021-06-11T03:05:46.054626Z",
     "iopub.status.busy": "2021-06-11T03:05:46.053679Z",
     "iopub.status.idle": "2021-06-11T03:05:46.058232Z",
     "shell.execute_reply": "2021-06-11T03:05:46.057684Z",
     "shell.execute_reply.started": "2021-06-09T10:17:14.280693Z"
    },
    "papermill": {
     "duration": 0.088497,
     "end_time": "2021-06-11T03:05:46.058355",
     "exception": false,
     "start_time": "2021-06-11T03:05:45.969858",
     "status": "completed"
    },
    "tags": []
   },
   "outputs": [],
   "source": [
    "def run(fold=0, model_name=None, load_model_path=None):\n",
    "    model, tokenizer, \\\n",
    "        test_loader, scaler = config(fold, model_name, load_model_path)\n",
    "    \n",
    "    import time\n",
    "\n",
    "    evaluator = Evaluator(model, scaler)\n",
    "\n",
    "    test_time_list = []\n",
    "\n",
    "    torch.cuda.synchronize()\n",
    "    tic1 = time.time()\n",
    "\n",
    "    preds = evaluator.evaluate(test_loader, tokenizer)\n",
    "\n",
    "    torch.cuda.synchronize()\n",
    "    tic2 = time.time() \n",
    "    test_time_list.append(tic2 - tic1)\n",
    "    \n",
    "    del model, tokenizer, test_loader, scaler\n",
    "    gc.collect()\n",
    "    torch.cuda.empty_cache()\n",
    "    \n",
    "    return preds"
   ]
  },
  {
   "cell_type": "code",
   "execution_count": 21,
   "id": "artistic-launch",
   "metadata": {
    "execution": {
     "iopub.execute_input": "2021-06-11T03:05:46.221207Z",
     "iopub.status.busy": "2021-06-11T03:05:46.220193Z",
     "iopub.status.idle": "2021-06-11T03:11:12.909319Z",
     "shell.execute_reply": "2021-06-11T03:11:12.908366Z",
     "shell.execute_reply.started": "2021-06-09T10:18:16.173971Z"
    },
    "papermill": {
     "duration": 326.774498,
     "end_time": "2021-06-11T03:11:12.909487",
     "exception": false,
     "start_time": "2021-06-11T03:05:46.134989",
     "status": "completed"
    },
    "tags": []
   },
   "outputs": [
    {
     "name": "stderr",
     "output_type": "stream",
     "text": [
      "  0%|          | 0/5 [00:00<?, ?it/s]"
     ]
    },
    {
     "name": "stdout",
     "output_type": "stream",
     "text": [
      "Model pushed to 1 GPU(s), type Tesla P100-PCIE-16GB.\n",
      "Model pushed to 1 GPU(s), type Tesla P100-PCIE-16GB.\n",
      "Model pushed to 1 GPU(s), type Tesla P100-PCIE-16GB.\n"
     ]
    },
    {
     "name": "stderr",
     "output_type": "stream",
     "text": [
      " 20%|██        | 1/5 [01:19<05:18, 79.71s/it]"
     ]
    },
    {
     "name": "stdout",
     "output_type": "stream",
     "text": [
      "Model pushed to 1 GPU(s), type Tesla P100-PCIE-16GB.\n",
      "Model pushed to 1 GPU(s), type Tesla P100-PCIE-16GB.\n",
      "Model pushed to 1 GPU(s), type Tesla P100-PCIE-16GB.\n"
     ]
    },
    {
     "name": "stderr",
     "output_type": "stream",
     "text": [
      " 40%|████      | 2/5 [02:21<03:27, 69.01s/it]"
     ]
    },
    {
     "name": "stdout",
     "output_type": "stream",
     "text": [
      "Model pushed to 1 GPU(s), type Tesla P100-PCIE-16GB.\n",
      "Model pushed to 1 GPU(s), type Tesla P100-PCIE-16GB.\n",
      "Model pushed to 1 GPU(s), type Tesla P100-PCIE-16GB.\n"
     ]
    },
    {
     "name": "stderr",
     "output_type": "stream",
     "text": [
      " 60%|██████    | 3/5 [03:22<02:11, 65.63s/it]"
     ]
    },
    {
     "name": "stdout",
     "output_type": "stream",
     "text": [
      "Model pushed to 1 GPU(s), type Tesla P100-PCIE-16GB.\n",
      "Model pushed to 1 GPU(s), type Tesla P100-PCIE-16GB.\n",
      "Model pushed to 1 GPU(s), type Tesla P100-PCIE-16GB.\n"
     ]
    },
    {
     "name": "stderr",
     "output_type": "stream",
     "text": [
      " 80%|████████  | 4/5 [04:25<01:04, 64.44s/it]"
     ]
    },
    {
     "name": "stdout",
     "output_type": "stream",
     "text": [
      "Model pushed to 1 GPU(s), type Tesla P100-PCIE-16GB.\n",
      "Model pushed to 1 GPU(s), type Tesla P100-PCIE-16GB.\n",
      "Model pushed to 1 GPU(s), type Tesla P100-PCIE-16GB.\n"
     ]
    },
    {
     "name": "stderr",
     "output_type": "stream",
     "text": [
      "100%|██████████| 5/5 [05:26<00:00, 65.33s/it]"
     ]
    },
    {
     "name": "stdout",
     "output_type": "stream",
     "text": [
      "CPU times: user 1min 51s, sys: 21.7 s, total: 2min 13s\n",
      "Wall time: 5min 26s\n"
     ]
    },
    {
     "name": "stderr",
     "output_type": "stream",
     "text": [
      "\n"
     ]
    }
   ],
   "source": [
    "%%time\n",
    "\n",
    "import pandas as pd\n",
    "import numpy as np\n",
    "\n",
    "train = pd.read_csv('../input/commonlitreadabilityprize/train.csv')\n",
    "test = pd.read_csv('../input/commonlitreadabilityprize/test.csv')\n",
    "\n",
    "pred_df1 = pd.DataFrame()\n",
    "pred_df2 = pd.DataFrame()\n",
    "pred_df3 = pd.DataFrame()\n",
    "for fold in tqdm(range(5)):\n",
    "    pred_df1[f'fold{fold}'] = run(fold, '../input/roberta-base/', '../input/commonlit-roberta-base-i/')\n",
    "    pred_df2[f'fold{fold+5}'] = run(fold, '../input/robertalarge/', '../input/roberta-large-itptfit/')\n",
    "    pred_df3[f'fold{fold+10}'] = run(fold, '../input/robertalarge/', '../input/commonlit-roberta-large-ii/')"
   ]
  },
  {
   "cell_type": "code",
   "execution_count": 22,
   "id": "established-prospect",
   "metadata": {
    "execution": {
     "iopub.execute_input": "2021-06-11T03:11:13.100619Z",
     "iopub.status.busy": "2021-06-11T03:11:13.098962Z",
     "iopub.status.idle": "2021-06-11T03:11:13.285610Z",
     "shell.execute_reply": "2021-06-11T03:11:13.284575Z",
     "shell.execute_reply.started": "2021-06-09T10:27:27.553873Z"
    },
    "papermill": {
     "duration": 0.285995,
     "end_time": "2021-06-11T03:11:13.285808",
     "exception": false,
     "start_time": "2021-06-11T03:11:12.999813",
     "status": "completed"
    },
    "tags": []
   },
   "outputs": [],
   "source": [
    "sample['target'] = (pred_df2.mean(axis=1)*0.35) + (pred_df1.mean(axis=1)*0.20) + (pred_df3.mean(axis=1) * 0.15) + (svm_preds * 0.30)\n",
    "sample.to_csv('submission.csv', index=False)"
   ]
  }
 ],
 "metadata": {
  "kernelspec": {
   "display_name": "Python 3",
   "language": "python",
   "name": "python3"
  },
  "language_info": {
   "codemirror_mode": {
    "name": "ipython",
    "version": 3
   },
   "file_extension": ".py",
   "mimetype": "text/x-python",
   "name": "python",
   "nbconvert_exporter": "python",
   "pygments_lexer": "ipython3",
   "version": "3.7.10"
  },
  "papermill": {
   "default_parameters": {},
   "duration": 603.085621,
   "end_time": "2021-06-11T03:11:16.133313",
   "environment_variables": {},
   "exception": null,
   "input_path": "__notebook__.ipynb",
   "output_path": "__notebook__.ipynb",
   "parameters": {},
   "start_time": "2021-06-11T03:01:13.047692",
   "version": "2.3.3"
  }
 },
 "nbformat": 4,
 "nbformat_minor": 5
}
