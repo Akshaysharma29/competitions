{
 "cells": [
  {
   "cell_type": "markdown",
   "id": "verbal-costume",
   "metadata": {
    "papermill": {
     "duration": 0.034365,
     "end_time": "2021-08-02T13:41:51.708412",
     "exception": false,
     "start_time": "2021-08-02T13:41:51.674047",
     "status": "completed"
    },
    "tags": []
   },
   "source": [
    "# Overview\n",
    "\n",
    "This notebook combines three models."
   ]
  },
  {
   "cell_type": "code",
   "execution_count": 1,
   "id": "miniature-engine",
   "metadata": {
    "_kg_hide-input": true,
    "execution": {
     "iopub.execute_input": "2021-08-02T13:41:51.786445Z",
     "iopub.status.busy": "2021-08-02T13:41:51.785814Z",
     "iopub.status.idle": "2021-08-02T13:41:54.546930Z",
     "shell.execute_reply": "2021-08-02T13:41:54.545943Z",
     "shell.execute_reply.started": "2021-08-02T12:00:06.631361Z"
    },
    "papermill": {
     "duration": 2.80542,
     "end_time": "2021-08-02T13:41:54.547097",
     "exception": false,
     "start_time": "2021-08-02T13:41:51.741677",
     "status": "completed"
    },
    "tags": []
   },
   "outputs": [],
   "source": [
    "import os\n",
    "import math\n",
    "import random\n",
    "import time\n",
    "\n",
    "import numpy as np\n",
    "import pandas as pd\n",
    "from tqdm import tqdm\n",
    "\n",
    "import torch\n",
    "import torch.nn as nn\n",
    "from torch.utils.data import Dataset\n",
    "from torch.utils.data import DataLoader\n",
    "\n",
    "from transformers import AutoTokenizer\n",
    "from transformers import AutoModel\n",
    "from transformers import AutoConfig\n",
    "\n",
    "from sklearn.model_selection import KFold\n",
    "from sklearn.svm import SVR\n",
    "\n",
    "import gc\n",
    "gc.enable()"
   ]
  },
  {
   "cell_type": "code",
   "execution_count": 2,
   "id": "insured-approach",
   "metadata": {
    "execution": {
     "iopub.execute_input": "2021-08-02T13:41:54.671436Z",
     "iopub.status.busy": "2021-08-02T13:41:54.670523Z",
     "iopub.status.idle": "2021-08-02T13:41:54.675615Z",
     "shell.execute_reply": "2021-08-02T13:41:54.675125Z",
     "shell.execute_reply.started": "2021-07-27T04:13:07.711884Z"
    },
    "papermill": {
     "duration": 0.09045,
     "end_time": "2021-08-02T13:41:54.675766",
     "exception": false,
     "start_time": "2021-08-02T13:41:54.585316",
     "status": "completed"
    },
    "tags": []
   },
   "outputs": [
    {
     "data": {
      "text/plain": [
       "'cuda'"
      ]
     },
     "execution_count": 2,
     "metadata": {},
     "output_type": "execute_result"
    }
   ],
   "source": [
    "BATCH_SIZE = 32\n",
    "MAX_LEN = 248\n",
    "EVAL_SCHEDULE = [(0.5, 16), (0.49, 8), (0.48, 4), (0.47, 2), (-1, 1)]\n",
    "ROBERTA_PATH = \"../input/roberta-transformers-pytorch/roberta-base\"\n",
    "TOKENIZER_PATH = \"../input/roberta-transformers-pytorch/roberta-base\"\n",
    "DEVICE = \"cuda\" if torch.cuda.is_available() else \"cpu\"\n",
    "\n",
    "DEVICE"
   ]
  },
  {
   "cell_type": "code",
   "execution_count": 3,
   "id": "empty-parker",
   "metadata": {
    "execution": {
     "iopub.execute_input": "2021-08-02T13:41:54.757341Z",
     "iopub.status.busy": "2021-08-02T13:41:54.756809Z",
     "iopub.status.idle": "2021-08-02T13:41:54.774935Z",
     "shell.execute_reply": "2021-08-02T13:41:54.774394Z",
     "shell.execute_reply.started": "2021-07-27T04:13:07.785088Z"
    },
    "papermill": {
     "duration": 0.059134,
     "end_time": "2021-08-02T13:41:54.775103",
     "exception": false,
     "start_time": "2021-08-02T13:41:54.715969",
     "status": "completed"
    },
    "tags": []
   },
   "outputs": [],
   "source": [
    "test_df = pd.read_csv(\"/kaggle/input/commonlitreadabilityprize/test.csv\")\n",
    "submission_df = pd.read_csv(\"/kaggle/input/commonlitreadabilityprize/sample_submission.csv\")"
   ]
  },
  {
   "cell_type": "code",
   "execution_count": 4,
   "id": "partial-quantum",
   "metadata": {
    "execution": {
     "iopub.execute_input": "2021-08-02T13:41:54.858191Z",
     "iopub.status.busy": "2021-08-02T13:41:54.857553Z",
     "iopub.status.idle": "2021-08-02T13:41:55.102912Z",
     "shell.execute_reply": "2021-08-02T13:41:55.102371Z",
     "shell.execute_reply.started": "2021-07-27T04:13:07.810083Z"
    },
    "papermill": {
     "duration": 0.288988,
     "end_time": "2021-08-02T13:41:55.103085",
     "exception": false,
     "start_time": "2021-08-02T13:41:54.814097",
     "status": "completed"
    },
    "tags": []
   },
   "outputs": [],
   "source": [
    "tokenizer = AutoTokenizer.from_pretrained(TOKENIZER_PATH)"
   ]
  },
  {
   "cell_type": "markdown",
   "id": "supreme-button",
   "metadata": {
    "papermill": {
     "duration": 0.036055,
     "end_time": "2021-08-02T13:41:55.175453",
     "exception": false,
     "start_time": "2021-08-02T13:41:55.139398",
     "status": "completed"
    },
    "tags": []
   },
   "source": [
    "# Dataset"
   ]
  },
  {
   "cell_type": "code",
   "execution_count": 5,
   "id": "reported-belgium",
   "metadata": {
    "execution": {
     "iopub.execute_input": "2021-08-02T13:41:55.256202Z",
     "iopub.status.busy": "2021-08-02T13:41:55.255177Z",
     "iopub.status.idle": "2021-08-02T13:41:55.257548Z",
     "shell.execute_reply": "2021-08-02T13:41:55.258045Z",
     "shell.execute_reply.started": "2021-07-27T04:13:09.161412Z"
    },
    "papermill": {
     "duration": 0.048193,
     "end_time": "2021-08-02T13:41:55.258206",
     "exception": false,
     "start_time": "2021-08-02T13:41:55.210013",
     "status": "completed"
    },
    "tags": []
   },
   "outputs": [],
   "source": [
    "class LitDataset(Dataset):\n",
    "    def __init__(self, df, inference_only=False):\n",
    "        super().__init__()\n",
    "\n",
    "        self.df = df        \n",
    "        self.inference_only = inference_only\n",
    "        self.text = df.excerpt.tolist()\n",
    "        #self.text = [text.replace(\"\\n\", \" \") for text in self.text]\n",
    "        \n",
    "        if not self.inference_only:\n",
    "            self.target = torch.tensor(df.target.values, dtype=torch.float32)        \n",
    "    \n",
    "        self.encoded = tokenizer.batch_encode_plus(\n",
    "            self.text,\n",
    "            padding = 'max_length',            \n",
    "            max_length = MAX_LEN,\n",
    "            truncation = True,\n",
    "            return_attention_mask=True\n",
    "        )        \n",
    " \n",
    "\n",
    "    def __len__(self):\n",
    "        return len(self.df)\n",
    "\n",
    "    \n",
    "    def __getitem__(self, index):        \n",
    "        input_ids = torch.tensor(self.encoded['input_ids'][index])\n",
    "        attention_mask = torch.tensor(self.encoded['attention_mask'][index])\n",
    "        \n",
    "        if self.inference_only:\n",
    "            return (input_ids, attention_mask)            \n",
    "        else:\n",
    "            target = self.target[index]\n",
    "            return (input_ids, attention_mask, target)"
   ]
  },
  {
   "cell_type": "markdown",
   "id": "cloudy-jason",
   "metadata": {
    "papermill": {
     "duration": 0.03417,
     "end_time": "2021-08-02T13:41:55.328109",
     "exception": false,
     "start_time": "2021-08-02T13:41:55.293939",
     "status": "completed"
    },
    "tags": []
   },
   "source": [
    "# Model 1\n",
    "Inspired from: https://www.kaggle.com/maunish/clrp-roberta-svm"
   ]
  },
  {
   "cell_type": "code",
   "execution_count": 6,
   "id": "third-railway",
   "metadata": {
    "execution": {
     "iopub.execute_input": "2021-08-02T13:41:55.411497Z",
     "iopub.status.busy": "2021-08-02T13:41:55.410544Z",
     "iopub.status.idle": "2021-08-02T13:41:55.412534Z",
     "shell.execute_reply": "2021-08-02T13:41:55.412960Z",
     "shell.execute_reply.started": "2021-07-27T04:13:10.727867Z"
    },
    "papermill": {
     "duration": 0.046471,
     "end_time": "2021-08-02T13:41:55.413102",
     "exception": false,
     "start_time": "2021-08-02T13:41:55.366631",
     "status": "completed"
    },
    "tags": []
   },
   "outputs": [],
   "source": [
    "class LitModel(nn.Module):\n",
    "    def __init__(self):\n",
    "        super().__init__()\n",
    "\n",
    "        config = AutoConfig.from_pretrained(ROBERTA_PATH)\n",
    "        config.update({\"output_hidden_states\":True, \n",
    "                       \"hidden_dropout_prob\": 0.25,\n",
    "                       \"layer_norm_eps\": 1e-7})                       \n",
    "        \n",
    "        self.roberta = AutoModel.from_pretrained(ROBERTA_PATH, config=config)  \n",
    "            \n",
    "        self.attention = nn.Sequential(            \n",
    "            nn.Linear(768, 512),            \n",
    "            nn.Tanh(),                       \n",
    "            nn.Linear(512, 1),\n",
    "            nn.Softmax(dim=1)\n",
    "        )        \n",
    "\n",
    "        self.regressor = nn.Sequential(                        \n",
    "            nn.Linear(768, 1)                        \n",
    "        )\n",
    "        \n",
    "\n",
    "    def forward(self, input_ids, attention_mask):\n",
    "        roberta_output = self.roberta(input_ids=input_ids,\n",
    "                                      attention_mask=attention_mask)        \n",
    "\n",
    "        # There are a total of 13 layers of hidden states.\n",
    "        # 1 for the embedding layer, and 12 for the 12 Roberta layers.\n",
    "        # We take the hidden states from the last Roberta layer.\n",
    "        last_layer_hidden_states = roberta_output.hidden_states[-1]\n",
    "\n",
    "        # The number of cells is MAX_LEN.\n",
    "        # The size of the hidden state of each cell is 768 (for roberta-base).\n",
    "        # In order to condense hidden states of all cells to a context vector,\n",
    "        # we compute a weighted average of the hidden states of all cells.\n",
    "        # We compute the weight of each cell, using the attention neural network.\n",
    "        weights = self.attention(last_layer_hidden_states)\n",
    "                \n",
    "        # weights.shape is BATCH_SIZE x MAX_LEN x 1\n",
    "        # last_layer_hidden_states.shape is BATCH_SIZE x MAX_LEN x 768        \n",
    "        # Now we compute context_vector as the weighted average.\n",
    "        # context_vector.shape is BATCH_SIZE x 768\n",
    "        context_vector = torch.sum(weights * last_layer_hidden_states, dim=1)        \n",
    "        \n",
    "        # Now we reduce the context vector to the prediction score.\n",
    "        return self.regressor(context_vector)"
   ]
  },
  {
   "cell_type": "code",
   "execution_count": 7,
   "id": "crude-fight",
   "metadata": {
    "execution": {
     "iopub.execute_input": "2021-08-02T13:41:55.493818Z",
     "iopub.status.busy": "2021-08-02T13:41:55.493012Z",
     "iopub.status.idle": "2021-08-02T13:41:55.495708Z",
     "shell.execute_reply": "2021-08-02T13:41:55.495264Z",
     "shell.execute_reply.started": "2021-07-27T04:13:11.454468Z"
    },
    "papermill": {
     "duration": 0.048248,
     "end_time": "2021-08-02T13:41:55.495821",
     "exception": false,
     "start_time": "2021-08-02T13:41:55.447573",
     "status": "completed"
    },
    "tags": []
   },
   "outputs": [],
   "source": [
    "def predict(model, data_loader):\n",
    "    \"\"\"Returns an np.array with predictions of the |model| on |data_loader|\"\"\"\n",
    "    model.eval()\n",
    "\n",
    "    result = np.zeros(len(data_loader.dataset))    \n",
    "    index = 0\n",
    "    \n",
    "    with torch.no_grad():\n",
    "        for batch_num, (input_ids, attention_mask) in enumerate(data_loader):\n",
    "            input_ids = input_ids.to(DEVICE)\n",
    "            attention_mask = attention_mask.to(DEVICE)\n",
    "                        \n",
    "            pred = model(input_ids, attention_mask)                        \n",
    "\n",
    "            result[index : index + pred.shape[0]] = pred.flatten().to(\"cpu\")\n",
    "            index += pred.shape[0]\n",
    "\n",
    "    return result"
   ]
  },
  {
   "cell_type": "markdown",
   "id": "hidden-simulation",
   "metadata": {
    "papermill": {
     "duration": 0.060207,
     "end_time": "2021-08-02T13:41:55.612137",
     "exception": false,
     "start_time": "2021-08-02T13:41:55.551930",
     "status": "completed"
    },
    "tags": []
   },
   "source": [
    "# Inference"
   ]
  },
  {
   "cell_type": "code",
   "execution_count": 8,
   "id": "junior-internet",
   "metadata": {
    "execution": {
     "iopub.execute_input": "2021-08-02T13:41:55.739892Z",
     "iopub.status.busy": "2021-08-02T13:41:55.739021Z",
     "iopub.status.idle": "2021-08-02T13:42:46.370972Z",
     "shell.execute_reply": "2021-08-02T13:42:46.370043Z",
     "shell.execute_reply.started": "2021-07-27T04:13:12.688639Z"
    },
    "papermill": {
     "duration": 50.7003,
     "end_time": "2021-08-02T13:42:46.371133",
     "exception": false,
     "start_time": "2021-08-02T13:41:55.670833",
     "status": "completed"
    },
    "tags": []
   },
   "outputs": [
    {
     "name": "stderr",
     "output_type": "stream",
     "text": [
      "  0%|          | 0/5 [00:00<?, ?it/s]"
     ]
    },
    {
     "name": "stdout",
     "output_type": "stream",
     "text": [
      "\n",
      "Using ../input/commonlit-roberta-0467/model_1.pth\n"
     ]
    },
    {
     "name": "stderr",
     "output_type": "stream",
     "text": [
      " 20%|██        | 1/5 [00:19<01:16, 19.21s/it]"
     ]
    },
    {
     "name": "stdout",
     "output_type": "stream",
     "text": [
      "\n",
      "Using ../input/commonlit-roberta-0467/model_2.pth\n"
     ]
    },
    {
     "name": "stderr",
     "output_type": "stream",
     "text": [
      " 40%|████      | 2/5 [00:28<00:39, 13.10s/it]"
     ]
    },
    {
     "name": "stdout",
     "output_type": "stream",
     "text": [
      "\n",
      "Using ../input/commonlit-roberta-0467/model_3.pth\n"
     ]
    },
    {
     "name": "stderr",
     "output_type": "stream",
     "text": [
      " 60%|██████    | 3/5 [00:35<00:21, 10.57s/it]"
     ]
    },
    {
     "name": "stdout",
     "output_type": "stream",
     "text": [
      "\n",
      "Using ../input/commonlit-roberta-0467/model_4.pth\n"
     ]
    },
    {
     "name": "stderr",
     "output_type": "stream",
     "text": [
      " 80%|████████  | 4/5 [00:42<00:09,  9.31s/it]"
     ]
    },
    {
     "name": "stdout",
     "output_type": "stream",
     "text": [
      "\n",
      "Using ../input/commonlit-roberta-0467/model_5.pth\n"
     ]
    },
    {
     "name": "stderr",
     "output_type": "stream",
     "text": [
      "100%|██████████| 5/5 [00:50<00:00, 10.12s/it]\n"
     ]
    }
   ],
   "source": [
    "NUM_MODELS = 5\n",
    "\n",
    "all_predictions = np.zeros((NUM_MODELS, len(test_df)))\n",
    "\n",
    "test_dataset = LitDataset(test_df, inference_only=True)\n",
    "\n",
    "test_loader = DataLoader(test_dataset, batch_size=BATCH_SIZE,\n",
    "                         drop_last=False, shuffle=False, num_workers=2)\n",
    "\n",
    "for model_index in tqdm(range(NUM_MODELS)):            \n",
    "    model_path = f\"../input/commonlit-roberta-0467/model_{model_index + 1}.pth\"\n",
    "    print(f\"\\nUsing {model_path}\")\n",
    "                        \n",
    "    model = LitModel()\n",
    "    model.load_state_dict(torch.load(model_path, map_location=DEVICE))    \n",
    "    model.to(DEVICE)\n",
    "        \n",
    "    all_predictions[model_index] = predict(model, test_loader)\n",
    "            \n",
    "    del model\n",
    "    gc.collect()"
   ]
  },
  {
   "cell_type": "code",
   "execution_count": 9,
   "id": "limiting-wilderness",
   "metadata": {
    "execution": {
     "iopub.execute_input": "2021-08-02T13:42:46.469930Z",
     "iopub.status.busy": "2021-08-02T13:42:46.468592Z",
     "iopub.status.idle": "2021-08-02T13:42:46.470895Z",
     "shell.execute_reply": "2021-08-02T13:42:46.471315Z",
     "shell.execute_reply.started": "2021-07-27T04:14:04.535587Z"
    },
    "papermill": {
     "duration": 0.063285,
     "end_time": "2021-08-02T13:42:46.471450",
     "exception": false,
     "start_time": "2021-08-02T13:42:46.408165",
     "status": "completed"
    },
    "tags": []
   },
   "outputs": [],
   "source": [
    "model1_predictions = all_predictions.mean(axis=0)"
   ]
  },
  {
   "cell_type": "markdown",
   "id": "saved-field",
   "metadata": {
    "papermill": {
     "duration": 0.036627,
     "end_time": "2021-08-02T13:42:46.544564",
     "exception": false,
     "start_time": "2021-08-02T13:42:46.507937",
     "status": "completed"
    },
    "tags": []
   },
   "source": [
    "# Model 2\n",
    "Inspired from: [https://www.kaggle.com/rhtsingh/commonlit-readability-prize-roberta-torch-infer-3](https://www.kaggle.com/rhtsingh/commonlit-readability-prize-roberta-torch-infer-3)"
   ]
  },
  {
   "cell_type": "code",
   "execution_count": 10,
   "id": "numerous-august",
   "metadata": {
    "execution": {
     "iopub.execute_input": "2021-08-02T13:42:46.624468Z",
     "iopub.status.busy": "2021-08-02T13:42:46.623677Z",
     "iopub.status.idle": "2021-08-02T13:42:51.246159Z",
     "shell.execute_reply": "2021-08-02T13:42:51.245622Z",
     "shell.execute_reply.started": "2021-07-27T04:14:04.542502Z"
    },
    "papermill": {
     "duration": 4.665133,
     "end_time": "2021-08-02T13:42:51.246283",
     "exception": false,
     "start_time": "2021-08-02T13:42:46.581150",
     "status": "completed"
    },
    "tags": []
   },
   "outputs": [],
   "source": [
    "test = test_df\n",
    "\n",
    "from glob import glob\n",
    "import os\n",
    "import matplotlib.pyplot as plt\n",
    "import json\n",
    "from collections import defaultdict\n",
    "\n",
    "import torch\n",
    "import torch.nn as nn\n",
    "import torch.nn.functional as F\n",
    "import torch.optim as optim\n",
    "from torch.optim.optimizer import Optimizer\n",
    "import torch.optim.lr_scheduler as lr_scheduler\n",
    "from torch.utils.data import (\n",
    "    Dataset, DataLoader, \n",
    "    SequentialSampler, RandomSampler\n",
    ")\n",
    "from transformers import RobertaConfig\n",
    "from transformers import (\n",
    "    get_cosine_schedule_with_warmup, \n",
    "    get_cosine_with_hard_restarts_schedule_with_warmup\n",
    ")\n",
    "from transformers import RobertaTokenizer\n",
    "from transformers import RobertaModel\n",
    "from IPython.display import clear_output"
   ]
  },
  {
   "cell_type": "markdown",
   "id": "relevant-thermal",
   "metadata": {
    "papermill": {
     "duration": 0.036489,
     "end_time": "2021-08-02T13:42:51.320788",
     "exception": false,
     "start_time": "2021-08-02T13:42:51.284299",
     "status": "completed"
    },
    "tags": []
   },
   "source": [
    "# Dataset"
   ]
  },
  {
   "cell_type": "code",
   "execution_count": 11,
   "id": "objective-taiwan",
   "metadata": {
    "execution": {
     "iopub.execute_input": "2021-08-02T13:42:51.407914Z",
     "iopub.status.busy": "2021-08-02T13:42:51.406459Z",
     "iopub.status.idle": "2021-08-02T13:42:51.408874Z",
     "shell.execute_reply": "2021-08-02T13:42:51.409377Z",
     "shell.execute_reply.started": "2021-07-27T04:14:09.400968Z"
    },
    "papermill": {
     "duration": 0.05197,
     "end_time": "2021-08-02T13:42:51.409505",
     "exception": false,
     "start_time": "2021-08-02T13:42:51.357535",
     "status": "completed"
    },
    "tags": []
   },
   "outputs": [],
   "source": [
    "def convert_examples_to_features(data, tokenizer, max_len, is_test=False):\n",
    "    data = data.replace('\\n', '')\n",
    "    tok = tokenizer.encode_plus(\n",
    "        data, \n",
    "        max_length=max_len, \n",
    "        truncation=True,\n",
    "        return_attention_mask=True,\n",
    "        return_token_type_ids=True\n",
    "    )\n",
    "    curr_sent = {}\n",
    "    padding_length = max_len - len(tok['input_ids'])\n",
    "    curr_sent['input_ids'] = tok['input_ids'] + ([0] * padding_length)\n",
    "    curr_sent['token_type_ids'] = tok['token_type_ids'] + \\\n",
    "        ([0] * padding_length)\n",
    "    curr_sent['attention_mask'] = tok['attention_mask'] + \\\n",
    "        ([0] * padding_length)\n",
    "    return curr_sent\n",
    "\n",
    "class DatasetRetriever(Dataset):\n",
    "    def __init__(self, data, tokenizer, max_len, is_test=False):\n",
    "        self.data = data\n",
    "        self.excerpts = self.data.excerpt.values.tolist()\n",
    "        self.tokenizer = tokenizer\n",
    "        self.is_test = is_test\n",
    "        self.max_len = max_len\n",
    "    \n",
    "    def __len__(self):\n",
    "        return len(self.data)\n",
    "    \n",
    "    def __getitem__(self, item):\n",
    "        if not self.is_test:\n",
    "            excerpt, label = self.excerpts[item], self.targets[item]\n",
    "            features = convert_examples_to_features(\n",
    "                excerpt, self.tokenizer, \n",
    "                self.max_len, self.is_test\n",
    "            )\n",
    "            return {\n",
    "                'input_ids':torch.tensor(features['input_ids'], dtype=torch.long),\n",
    "                'token_type_ids':torch.tensor(features['token_type_ids'], dtype=torch.long),\n",
    "                'attention_mask':torch.tensor(features['attention_mask'], dtype=torch.long),\n",
    "                'label':torch.tensor(label, dtype=torch.double),\n",
    "            }\n",
    "        else:\n",
    "            excerpt = self.excerpts[item]\n",
    "            features = convert_examples_to_features(\n",
    "                excerpt, self.tokenizer, \n",
    "                self.max_len, self.is_test\n",
    "            )\n",
    "            return {\n",
    "                'input_ids':torch.tensor(features['input_ids'], dtype=torch.long),\n",
    "                'token_type_ids':torch.tensor(features['token_type_ids'], dtype=torch.long),\n",
    "                'attention_mask':torch.tensor(features['attention_mask'], dtype=torch.long),\n",
    "            }"
   ]
  },
  {
   "cell_type": "code",
   "execution_count": 12,
   "id": "rural-completion",
   "metadata": {
    "execution": {
     "iopub.execute_input": "2021-08-02T13:42:51.497415Z",
     "iopub.status.busy": "2021-08-02T13:42:51.496735Z",
     "iopub.status.idle": "2021-08-02T13:42:51.500048Z",
     "shell.execute_reply": "2021-08-02T13:42:51.499608Z",
     "shell.execute_reply.started": "2021-07-27T04:14:09.418486Z"
    },
    "papermill": {
     "duration": 0.054005,
     "end_time": "2021-08-02T13:42:51.500164",
     "exception": false,
     "start_time": "2021-08-02T13:42:51.446159",
     "status": "completed"
    },
    "tags": []
   },
   "outputs": [],
   "source": [
    "class CommonLitModel(nn.Module):\n",
    "    def __init__(\n",
    "        self, \n",
    "        model_name, \n",
    "        config,  \n",
    "        multisample_dropout=False,\n",
    "        output_hidden_states=False\n",
    "    ):\n",
    "        \n",
    "        super(CommonLitModel, self).__init__()\n",
    "        self.config = config\n",
    "        self.roberta = RobertaModel.from_pretrained(\n",
    "            model_name, \n",
    "            output_hidden_states=output_hidden_states\n",
    "        )\n",
    "        \n",
    "        self.layer_norm = nn.LayerNorm(config.hidden_size)\n",
    "        \n",
    "        if multisample_dropout:\n",
    "            self.dropouts = nn.ModuleList([\n",
    "                nn.Dropout(0.5) for _ in range(5)\n",
    "            ])\n",
    "        else:\n",
    "            self.dropouts = nn.ModuleList([nn.Dropout(0.3)])\n",
    "            \n",
    "        self.regressor = nn.Linear(config.hidden_size, 1)\n",
    "        self._init_weights(self.layer_norm)\n",
    "        self._init_weights(self.regressor)\n",
    " \n",
    "    def _init_weights(self, module):\n",
    "        \n",
    "        if isinstance(module, nn.Linear):\n",
    "            module.weight.data.normal_(mean=0.0, std=self.config.initializer_range)\n",
    "            if module.bias is not None:\n",
    "                module.bias.data.zero_()\n",
    "                \n",
    "        elif isinstance(module, nn.Embedding):\n",
    "            module.weight.data.normal_(mean=0.0, std=self.config.initializer_range)\n",
    "            if module.padding_idx is not None:\n",
    "                module.weight.data[module.padding_idx].zero_()\n",
    "                \n",
    "        elif isinstance(module, nn.LayerNorm):\n",
    "            module.bias.data.zero_()\n",
    "            module.weight.data.fill_(1.0)\n",
    " \n",
    "    def forward(\n",
    "        self, \n",
    "        input_ids=None,\n",
    "        attention_mask=None,\n",
    "        token_type_ids=None,\n",
    "        labels=None\n",
    "    ):\n",
    "        outputs = self.roberta(\n",
    "            input_ids,\n",
    "            attention_mask=attention_mask,\n",
    "            token_type_ids=token_type_ids,\n",
    "        )\n",
    "        sequence_output = outputs[1]\n",
    "        sequence_output = self.layer_norm(sequence_output)\n",
    " \n",
    "        # multi-sample dropout\n",
    "        for i, dropout in enumerate(self.dropouts):\n",
    "            if i == 0:\n",
    "                logits = self.regressor(dropout(sequence_output))\n",
    "            else:\n",
    "                logits += self.regressor(dropout(sequence_output))\n",
    "        \n",
    "        logits /= len(self.dropouts)\n",
    " \n",
    "        # calculate loss\n",
    "        loss = None\n",
    "        \n",
    "        if labels is not None:\n",
    "            loss_fn = torch.nn.MSELoss()\n",
    "            logits = logits.view(-1).to(labels.dtype)\n",
    "            loss = torch.sqrt(loss_fn(logits, labels.view(-1)))\n",
    "        \n",
    "        output = (logits,) + outputs[1:]\n",
    "        return ((loss,) + output) if loss is not None else output"
   ]
  },
  {
   "cell_type": "code",
   "execution_count": 13,
   "id": "muslim-commissioner",
   "metadata": {
    "execution": {
     "iopub.execute_input": "2021-08-02T13:42:51.579304Z",
     "iopub.status.busy": "2021-08-02T13:42:51.578618Z",
     "iopub.status.idle": "2021-08-02T13:42:51.582114Z",
     "shell.execute_reply": "2021-08-02T13:42:51.581662Z",
     "shell.execute_reply.started": "2021-07-27T04:14:09.43652Z"
    },
    "papermill": {
     "duration": 0.045692,
     "end_time": "2021-08-02T13:42:51.582223",
     "exception": false,
     "start_time": "2021-08-02T13:42:51.536531",
     "status": "completed"
    },
    "tags": []
   },
   "outputs": [],
   "source": [
    "def make_model(model_name, num_labels=1):\n",
    "    tokenizer = RobertaTokenizer.from_pretrained(model_name)\n",
    "    config = RobertaConfig.from_pretrained(model_name)\n",
    "    config.update({'num_labels':num_labels})\n",
    "    model = CommonLitModel(model_name, config=config)\n",
    "    return model, tokenizer\n",
    "\n",
    "def make_loader(\n",
    "    data, \n",
    "    tokenizer, \n",
    "    max_len,\n",
    "    batch_size,\n",
    "):\n",
    "    \n",
    "    test_dataset = DatasetRetriever(data, tokenizer, max_len, is_test=True)\n",
    "    test_sampler = SequentialSampler(test_dataset)\n",
    "    \n",
    "    test_loader = DataLoader(\n",
    "        test_dataset, \n",
    "        batch_size=batch_size // 2, \n",
    "        sampler=test_sampler, \n",
    "        pin_memory=False, \n",
    "        drop_last=False, \n",
    "        num_workers=0\n",
    "    )\n",
    "\n",
    "    return test_loader"
   ]
  },
  {
   "cell_type": "code",
   "execution_count": 14,
   "id": "authentic-designer",
   "metadata": {
    "execution": {
     "iopub.execute_input": "2021-08-02T13:42:51.667105Z",
     "iopub.status.busy": "2021-08-02T13:42:51.666493Z",
     "iopub.status.idle": "2021-08-02T13:42:51.669162Z",
     "shell.execute_reply": "2021-08-02T13:42:51.669521Z",
     "shell.execute_reply.started": "2021-07-27T04:14:09.449393Z"
    },
    "papermill": {
     "duration": 0.051044,
     "end_time": "2021-08-02T13:42:51.669659",
     "exception": false,
     "start_time": "2021-08-02T13:42:51.618615",
     "status": "completed"
    },
    "tags": []
   },
   "outputs": [],
   "source": [
    "class Evaluator:\n",
    "    def __init__(self, model, scalar=None):\n",
    "        self.model = model\n",
    "        self.scalar = scalar\n",
    "\n",
    "    def evaluate(self, data_loader, tokenizer):\n",
    "        preds = []\n",
    "        self.model.eval()\n",
    "        total_loss = 0\n",
    "        with torch.no_grad():\n",
    "            for batch_idx, batch_data in enumerate(data_loader):\n",
    "                input_ids, attention_mask, token_type_ids = batch_data['input_ids'], \\\n",
    "                    batch_data['attention_mask'], batch_data['token_type_ids']\n",
    "                input_ids, attention_mask, token_type_ids = input_ids.cuda(), \\\n",
    "                    attention_mask.cuda(), token_type_ids.cuda()\n",
    "                \n",
    "                if self.scalar is not None:\n",
    "                    with torch.cuda.amp.autocast():\n",
    "                        outputs = self.model(\n",
    "                            input_ids=input_ids,\n",
    "                            attention_mask=attention_mask,\n",
    "                            token_type_ids=token_type_ids\n",
    "                        )\n",
    "                else:\n",
    "                    outputs = self.model(\n",
    "                        input_ids=input_ids,\n",
    "                        attention_mask=attention_mask,\n",
    "                        token_type_ids=token_type_ids\n",
    "                    )\n",
    "                \n",
    "                logits = outputs[0].detach().cpu().numpy().squeeze().tolist()\n",
    "                preds += logits\n",
    "        return preds\n",
    "\n",
    "def config(fold, model_name, load_model_path):\n",
    "    torch.manual_seed(2021)\n",
    "    torch.cuda.manual_seed(2021)\n",
    "    torch.cuda.manual_seed_all(2021)\n",
    "    \n",
    "    max_len = 250\n",
    "    batch_size = 8\n",
    "\n",
    "    model, tokenizer = make_model(\n",
    "        model_name=model_name, \n",
    "        num_labels=1\n",
    "    )\n",
    "    \n",
    "    model.load_state_dict(\n",
    "        torch.load(f'{load_model_path}/model{fold}.bin')\n",
    "    )\n",
    "    \n",
    "    test_loader = make_loader(\n",
    "        test, tokenizer, max_len=max_len,\n",
    "        batch_size=batch_size\n",
    "    )\n",
    "\n",
    "    if torch.cuda.device_count() >= 1:\n",
    "        print('Model pushed to {} GPU(s), type {}.'.format(\n",
    "            torch.cuda.device_count(), \n",
    "            torch.cuda.get_device_name(0))\n",
    "        )\n",
    "        model = model.cuda() \n",
    "    else:\n",
    "        raise ValueError('CPU training is not supported')\n",
    "\n",
    "    # scaler = torch.cuda.amp.GradScaler()\n",
    "    scaler = None\n",
    "    return (\n",
    "        model, tokenizer, \n",
    "        test_loader, scaler\n",
    "    )"
   ]
  },
  {
   "cell_type": "markdown",
   "id": "contemporary-genius",
   "metadata": {
    "execution": {
     "iopub.execute_input": "2021-07-25T09:11:47.35772Z",
     "iopub.status.busy": "2021-07-25T09:11:47.357351Z",
     "iopub.status.idle": "2021-07-25T09:11:47.362915Z",
     "shell.execute_reply": "2021-07-25T09:11:47.361981Z",
     "shell.execute_reply.started": "2021-07-25T09:11:47.357634Z"
    },
    "papermill": {
     "duration": 0.03642,
     "end_time": "2021-08-02T13:42:51.742388",
     "exception": false,
     "start_time": "2021-08-02T13:42:51.705968",
     "status": "completed"
    },
    "tags": []
   },
   "source": [
    "# Inference"
   ]
  },
  {
   "cell_type": "code",
   "execution_count": 15,
   "id": "accepting-australian",
   "metadata": {
    "execution": {
     "iopub.execute_input": "2021-08-02T13:42:51.823114Z",
     "iopub.status.busy": "2021-08-02T13:42:51.821635Z",
     "iopub.status.idle": "2021-08-02T13:42:51.823944Z",
     "shell.execute_reply": "2021-08-02T13:42:51.824350Z",
     "shell.execute_reply.started": "2021-07-27T04:14:09.467952Z"
    },
    "papermill": {
     "duration": 0.045367,
     "end_time": "2021-08-02T13:42:51.824483",
     "exception": false,
     "start_time": "2021-08-02T13:42:51.779116",
     "status": "completed"
    },
    "tags": []
   },
   "outputs": [],
   "source": [
    "def run(fold=0, model_name=None, load_model_path=None):\n",
    "    model, tokenizer, \\\n",
    "        test_loader, scaler = config(fold, model_name, load_model_path)\n",
    "    \n",
    "    import time\n",
    "\n",
    "    evaluator = Evaluator(model, scaler)\n",
    "\n",
    "    test_time_list = []\n",
    "\n",
    "    torch.cuda.synchronize()\n",
    "    tic1 = time.time()\n",
    "\n",
    "    preds = evaluator.evaluate(test_loader, tokenizer)\n",
    "\n",
    "    torch.cuda.synchronize()\n",
    "    tic2 = time.time() \n",
    "    test_time_list.append(tic2 - tic1)\n",
    "    \n",
    "    del model, tokenizer, test_loader, scaler\n",
    "    gc.collect()\n",
    "    torch.cuda.empty_cache()\n",
    "    \n",
    "    return preds"
   ]
  },
  {
   "cell_type": "code",
   "execution_count": 16,
   "id": "fitted-sunset",
   "metadata": {
    "execution": {
     "iopub.execute_input": "2021-08-02T13:42:51.904569Z",
     "iopub.status.busy": "2021-08-02T13:42:51.904031Z",
     "iopub.status.idle": "2021-08-02T13:47:23.019068Z",
     "shell.execute_reply": "2021-08-02T13:47:23.019644Z",
     "shell.execute_reply.started": "2021-07-27T04:14:09.478959Z"
    },
    "papermill": {
     "duration": 271.158636,
     "end_time": "2021-08-02T13:47:23.019854",
     "exception": false,
     "start_time": "2021-08-02T13:42:51.861218",
     "status": "completed"
    },
    "tags": []
   },
   "outputs": [
    {
     "name": "stderr",
     "output_type": "stream",
     "text": [
      "  0%|          | 0/5 [00:00<?, ?it/s]"
     ]
    },
    {
     "name": "stdout",
     "output_type": "stream",
     "text": [
      "Model pushed to 1 GPU(s), type Tesla P100-PCIE-16GB.\n",
      "Model pushed to 1 GPU(s), type Tesla P100-PCIE-16GB.\n",
      "Model pushed to 1 GPU(s), type Tesla P100-PCIE-16GB.\n"
     ]
    },
    {
     "name": "stderr",
     "output_type": "stream",
     "text": [
      " 20%|██        | 1/5 [01:05<04:23, 65.84s/it]"
     ]
    },
    {
     "name": "stdout",
     "output_type": "stream",
     "text": [
      "Model pushed to 1 GPU(s), type Tesla P100-PCIE-16GB.\n",
      "Model pushed to 1 GPU(s), type Tesla P100-PCIE-16GB.\n",
      "Model pushed to 1 GPU(s), type Tesla P100-PCIE-16GB.\n"
     ]
    },
    {
     "name": "stderr",
     "output_type": "stream",
     "text": [
      " 40%|████      | 2/5 [01:57<02:53, 57.69s/it]"
     ]
    },
    {
     "name": "stdout",
     "output_type": "stream",
     "text": [
      "Model pushed to 1 GPU(s), type Tesla P100-PCIE-16GB.\n",
      "Model pushed to 1 GPU(s), type Tesla P100-PCIE-16GB.\n",
      "Model pushed to 1 GPU(s), type Tesla P100-PCIE-16GB.\n"
     ]
    },
    {
     "name": "stderr",
     "output_type": "stream",
     "text": [
      " 60%|██████    | 3/5 [02:50<01:51, 55.51s/it]"
     ]
    },
    {
     "name": "stdout",
     "output_type": "stream",
     "text": [
      "Model pushed to 1 GPU(s), type Tesla P100-PCIE-16GB.\n",
      "Model pushed to 1 GPU(s), type Tesla P100-PCIE-16GB.\n",
      "Model pushed to 1 GPU(s), type Tesla P100-PCIE-16GB.\n"
     ]
    },
    {
     "name": "stderr",
     "output_type": "stream",
     "text": [
      " 80%|████████  | 4/5 [03:40<00:53, 53.34s/it]"
     ]
    },
    {
     "name": "stdout",
     "output_type": "stream",
     "text": [
      "Model pushed to 1 GPU(s), type Tesla P100-PCIE-16GB.\n",
      "Model pushed to 1 GPU(s), type Tesla P100-PCIE-16GB.\n",
      "Model pushed to 1 GPU(s), type Tesla P100-PCIE-16GB.\n"
     ]
    },
    {
     "name": "stderr",
     "output_type": "stream",
     "text": [
      "100%|██████████| 5/5 [04:31<00:00, 54.22s/it]\n"
     ]
    }
   ],
   "source": [
    "pred_df1 = pd.DataFrame()\n",
    "pred_df2 = pd.DataFrame()\n",
    "pred_df3 = pd.DataFrame()\n",
    "\n",
    "for fold in tqdm(range(5)):\n",
    "    pred_df1[f'fold{fold}'] = run(fold%5, '../input/roberta-transformers-pytorch/roberta-base/', '../input/commonlit-roberta-base-i/')\n",
    "    pred_df2[f'fold{fold+5}'] = run(fold%5, '../input/roberta-transformers-pytorch/roberta-large', '../input/roberta-large-itptfit/')\n",
    "    pred_df3[f'fold{fold+10}'] = run(fold%5, '../input/roberta-transformers-pytorch/roberta-large', '../input/commonlit-roberta-large-ii/')"
   ]
  },
  {
   "cell_type": "code",
   "execution_count": 17,
   "id": "adult-cheat",
   "metadata": {
    "execution": {
     "iopub.execute_input": "2021-08-02T13:47:23.113554Z",
     "iopub.status.busy": "2021-08-02T13:47:23.113032Z",
     "iopub.status.idle": "2021-08-02T13:47:23.116912Z",
     "shell.execute_reply": "2021-08-02T13:47:23.116484Z",
     "shell.execute_reply.started": "2021-07-27T04:18:46.437711Z"
    },
    "papermill": {
     "duration": 0.05331,
     "end_time": "2021-08-02T13:47:23.117033",
     "exception": false,
     "start_time": "2021-08-02T13:47:23.063723",
     "status": "completed"
    },
    "tags": []
   },
   "outputs": [],
   "source": [
    "pred_df1 = np.array(pred_df1)\n",
    "pred_df2 = np.array(pred_df2)\n",
    "pred_df3 = np.array(pred_df3)\n",
    "\n",
    "model2_predictions = (pred_df2.mean(axis=1) * 0.5) + (pred_df1.mean(axis=1) * 0.3) + (pred_df3.mean(axis=1) * 0.2)"
   ]
  },
  {
   "cell_type": "markdown",
   "id": "unexpected-shore",
   "metadata": {
    "papermill": {
     "duration": 0.043043,
     "end_time": "2021-08-02T13:47:23.203115",
     "exception": false,
     "start_time": "2021-08-02T13:47:23.160072",
     "status": "completed"
    },
    "tags": []
   },
   "source": [
    "## Model 3 \n",
    "\n",
    "Inspired from: https://www.kaggle.com/jcesquiveld/best-transformer-representations"
   ]
  },
  {
   "cell_type": "code",
   "execution_count": 18,
   "id": "medium-sellers",
   "metadata": {
    "execution": {
     "iopub.execute_input": "2021-08-02T13:47:23.300447Z",
     "iopub.status.busy": "2021-08-02T13:47:23.299837Z",
     "iopub.status.idle": "2021-08-02T13:47:23.441653Z",
     "shell.execute_reply": "2021-08-02T13:47:23.441144Z",
     "shell.execute_reply.started": "2021-07-27T04:18:46.447286Z"
    },
    "papermill": {
     "duration": 0.194477,
     "end_time": "2021-08-02T13:47:23.441801",
     "exception": false,
     "start_time": "2021-08-02T13:47:23.247324",
     "status": "completed"
    },
    "tags": []
   },
   "outputs": [],
   "source": [
    "import os\n",
    "import numpy as np\n",
    "import pandas as pd\n",
    "import random\n",
    "\n",
    "from transformers import AutoConfig, AutoModel, AutoTokenizer, AdamW, get_linear_schedule_with_warmup, logging\n",
    "\n",
    "import torch\n",
    "import torch.nn as nn\n",
    "import torch.nn.functional as F\n",
    "from torch.utils.data import Dataset, TensorDataset, SequentialSampler, RandomSampler, DataLoader\n",
    "\n",
    "from tqdm.notebook import tqdm\n",
    "\n",
    "import gc; gc.enable()\n",
    "from IPython.display import clear_output\n",
    "\n",
    "from sklearn.model_selection import StratifiedKFold\n",
    "import matplotlib.pyplot as plt\n",
    "import seaborn as sns\n",
    "\n",
    "sns.set_style('whitegrid')\n",
    "logging.set_verbosity_error()"
   ]
  },
  {
   "cell_type": "code",
   "execution_count": 19,
   "id": "graphic-failing",
   "metadata": {
    "execution": {
     "iopub.execute_input": "2021-08-02T13:47:23.553906Z",
     "iopub.status.busy": "2021-08-02T13:47:23.553275Z",
     "iopub.status.idle": "2021-08-02T13:47:23.564255Z",
     "shell.execute_reply": "2021-08-02T13:47:23.563765Z",
     "shell.execute_reply.started": "2021-07-27T04:18:46.544839Z"
    },
    "papermill": {
     "duration": 0.078507,
     "end_time": "2021-08-02T13:47:23.564384",
     "exception": false,
     "start_time": "2021-08-02T13:47:23.485877",
     "status": "completed"
    },
    "tags": []
   },
   "outputs": [],
   "source": [
    "INPUT_DIR = '../input/commonlitreadabilityprize'\n",
    "MODEL_DIR = '../input/roberta-transformers-pytorch/roberta-large'\n",
    "CHECKPOINT_DIR = '../input/clrp-mean-pooling/'\n",
    "\n",
    "DEVICE = torch.device('cuda' if torch.cuda.is_available() else 'cpu')\n",
    "\n",
    "MAX_LENGTH = 248\n",
    "TEST_BATCH_SIZE = 1\n",
    "HIDDEN_SIZE = 1024\n",
    "\n",
    "NUM_FOLDS = 5\n",
    "SEEDS = [113]\n",
    "\n",
    "test = pd.read_csv(os.path.join(INPUT_DIR, 'test.csv'))"
   ]
  },
  {
   "cell_type": "code",
   "execution_count": 20,
   "id": "textile-trigger",
   "metadata": {
    "execution": {
     "iopub.execute_input": "2021-08-02T13:47:23.674323Z",
     "iopub.status.busy": "2021-08-02T13:47:23.672549Z",
     "iopub.status.idle": "2021-08-02T13:47:23.675127Z",
     "shell.execute_reply": "2021-08-02T13:47:23.675592Z",
     "shell.execute_reply.started": "2021-07-27T04:18:46.558989Z"
    },
    "papermill": {
     "duration": 0.061084,
     "end_time": "2021-08-02T13:47:23.675754",
     "exception": false,
     "start_time": "2021-08-02T13:47:23.614670",
     "status": "completed"
    },
    "tags": []
   },
   "outputs": [],
   "source": [
    "class MeanPoolingModel(nn.Module):\n",
    "    \n",
    "    def __init__(self, model_name):\n",
    "        super().__init__()\n",
    "        \n",
    "        config = AutoConfig.from_pretrained(model_name)\n",
    "        self.model = AutoModel.from_pretrained(model_name, config=config)\n",
    "        self.linear = nn.Linear(HIDDEN_SIZE, 1)\n",
    "        self.loss = nn.MSELoss()\n",
    "        \n",
    "    def forward(self, input_ids, attention_mask, labels=None):\n",
    "        \n",
    "        outputs = self.model(input_ids, attention_mask)\n",
    "        last_hidden_state = outputs[0]\n",
    "        input_mask_expanded = attention_mask.unsqueeze(-1).expand(last_hidden_state.size()).float()\n",
    "        sum_embeddings = torch.sum(last_hidden_state * input_mask_expanded, 1)\n",
    "        sum_mask = input_mask_expanded.sum(1)\n",
    "        sum_mask = torch.clamp(sum_mask, min=1e-9)\n",
    "        mean_embeddings = sum_embeddings / sum_mask\n",
    "        logits = self.linear(mean_embeddings)\n",
    "        \n",
    "        preds = logits.squeeze(-1).squeeze(-1)\n",
    "        \n",
    "        if labels is not None:\n",
    "            loss = self.loss(preds.view(-1).float(), labels.view(-1).float())\n",
    "            return loss\n",
    "        else:\n",
    "            return preds"
   ]
  },
  {
   "cell_type": "code",
   "execution_count": 21,
   "id": "romantic-default",
   "metadata": {
    "execution": {
     "iopub.execute_input": "2021-08-02T13:47:23.779395Z",
     "iopub.status.busy": "2021-08-02T13:47:23.778751Z",
     "iopub.status.idle": "2021-08-02T13:47:23.957009Z",
     "shell.execute_reply": "2021-08-02T13:47:23.956447Z",
     "shell.execute_reply.started": "2021-07-27T04:18:46.570891Z"
    },
    "papermill": {
     "duration": 0.232802,
     "end_time": "2021-08-02T13:47:23.957158",
     "exception": false,
     "start_time": "2021-08-02T13:47:23.724356",
     "status": "completed"
    },
    "tags": []
   },
   "outputs": [],
   "source": [
    "def get_test_loader(data):\n",
    "\n",
    "    x_test = data.excerpt.tolist()\n",
    "    \n",
    "    tokenizer = AutoTokenizer.from_pretrained(MODEL_DIR)\n",
    "\n",
    "    encoded_test = tokenizer.batch_encode_plus(\n",
    "        x_test, \n",
    "        add_special_tokens=True, \n",
    "        return_attention_mask=True, \n",
    "        padding='max_length', \n",
    "        truncation=True,\n",
    "        max_length=MAX_LENGTH, \n",
    "        return_tensors='pt'\n",
    "    )\n",
    "\n",
    "    dataset_test = TensorDataset(\n",
    "        encoded_test['input_ids'],\n",
    "        encoded_test['attention_mask']\n",
    "    )\n",
    "\n",
    "    dataloader_test = DataLoader(\n",
    "        dataset_test,\n",
    "        sampler = SequentialSampler(dataset_test),\n",
    "        batch_size=TEST_BATCH_SIZE\n",
    "    )\n",
    "    \n",
    "    return dataloader_test\n",
    "\n",
    "test_dataloader = get_test_loader(test)"
   ]
  },
  {
   "cell_type": "code",
   "execution_count": 22,
   "id": "northern-begin",
   "metadata": {
    "execution": {
     "iopub.execute_input": "2021-08-02T13:47:24.079059Z",
     "iopub.status.busy": "2021-08-02T13:47:24.078149Z",
     "iopub.status.idle": "2021-08-02T13:49:12.304284Z",
     "shell.execute_reply": "2021-08-02T13:49:12.303852Z",
     "shell.execute_reply.started": "2021-07-27T04:18:46.744718Z"
    },
    "papermill": {
     "duration": 108.302871,
     "end_time": "2021-08-02T13:49:12.304407",
     "exception": false,
     "start_time": "2021-08-02T13:47:24.001536",
     "status": "completed"
    },
    "tags": []
   },
   "outputs": [
    {
     "data": {
      "application/vnd.jupyter.widget-view+json": {
       "model_id": "648fc497154f4fd29f21959b932b9b64",
       "version_major": 2,
       "version_minor": 0
      },
      "text/plain": [
       "  0%|          | 0/5 [00:00<?, ?it/s]"
      ]
     },
     "metadata": {},
     "output_type": "display_data"
    },
    {
     "name": "stdout",
     "output_type": "stream",
     "text": [
      "\n",
      "Using model_114_1.pth\n",
      "\n",
      "Using model_114_2.pth\n",
      "\n",
      "Using model_114_3.pth\n",
      "\n",
      "Using model_114_4.pth\n",
      "\n",
      "Using model_114_5.pth\n"
     ]
    }
   ],
   "source": [
    "all_predictions = []\n",
    "for seed in SEEDS:\n",
    "    \n",
    "    fold_predictions = []\n",
    "    \n",
    "    for fold in tqdm(range(NUM_FOLDS)):\n",
    "        model_path = f\"model_{seed + 1}_{fold + 1}.pth\"\n",
    "        \n",
    "        print(f\"\\nUsing {model_path}\")\n",
    "        \n",
    "        model_path = CHECKPOINT_DIR + f\"model_{seed + 1}_{fold + 1}.pth\"\n",
    "        model = MeanPoolingModel(MODEL_DIR)\n",
    "        model.load_state_dict(torch.load(model_path)) \n",
    "        model.to(DEVICE)\n",
    "        model.eval()\n",
    "\n",
    "        predictions = []\n",
    "        for batch in test_dataloader:\n",
    "\n",
    "            batch = tuple(b.to(DEVICE) for b in batch)\n",
    "\n",
    "            inputs = {'input_ids':      batch[0],\n",
    "                      'attention_mask': batch[1],\n",
    "                      'labels':         None,\n",
    "                     }\n",
    "\n",
    "     \n",
    "            preds = model(**inputs).item()\n",
    "            predictions.append(preds)\n",
    "            \n",
    "        del model \n",
    "        gc.collect()\n",
    "            \n",
    "        fold_predictions.append(predictions)\n",
    "    all_predictions.append(np.mean(fold_predictions, axis=0).tolist())\n",
    "    \n",
    "model3_predictions = np.mean(all_predictions,axis=0)"
   ]
  },
  {
   "cell_type": "markdown",
   "id": "needed-hawaiian",
   "metadata": {
    "papermill": {
     "duration": 0.051465,
     "end_time": "2021-08-02T13:49:12.403944",
     "exception": false,
     "start_time": "2021-08-02T13:49:12.352479",
     "status": "completed"
    },
    "tags": []
   },
   "source": [
    "# Model 4"
   ]
  },
  {
   "cell_type": "code",
   "execution_count": 23,
   "id": "curious-blind",
   "metadata": {
    "execution": {
     "iopub.execute_input": "2021-08-02T13:49:12.506383Z",
     "iopub.status.busy": "2021-08-02T13:49:12.504883Z",
     "iopub.status.idle": "2021-08-02T13:49:12.507439Z",
     "shell.execute_reply": "2021-08-02T13:49:12.507950Z",
     "shell.execute_reply.started": "2021-08-02T12:03:23.954006Z"
    },
    "papermill": {
     "duration": 0.059073,
     "end_time": "2021-08-02T13:49:12.508075",
     "exception": false,
     "start_time": "2021-08-02T13:49:12.449002",
     "status": "completed"
    },
    "tags": []
   },
   "outputs": [],
   "source": [
    "NUM_FOLDS = 6#5\n",
    "NUM_EPOCHS = 3\n",
    "BATCH_SIZE = 16\n",
    "MAX_LEN = 300#248\n",
    "EVAL_SCHEDULE = [(0.50, 16), (0.49, 8), (0.48, 4), (0.47, 2), (-1., 1)]\n",
    "ROBERTA_PATH = \"../input/clrp-roberta-base-pre-trained-in-pytorch-train/roberta-base/pytorch_model.bin\"#\"../input/clrp-roberta-base/clrp_roberta_base\"\n",
    "TOKENIZER_PATH = \"../input/clrp-roberta-base-pre-trained-in-pytorch-train/roberta-base/\"\n",
    "CONFIG_PATH = \"../input/clrp-roberta-base-pre-trained-in-pytorch-train/roberta-base/config.json\"\n",
    "DEVICE = \"cuda\" if torch.cuda.is_available() else \"cpu\""
   ]
  },
  {
   "cell_type": "code",
   "execution_count": 24,
   "id": "temporal-geography",
   "metadata": {
    "execution": {
     "iopub.execute_input": "2021-08-02T13:49:12.607466Z",
     "iopub.status.busy": "2021-08-02T13:49:12.606647Z",
     "iopub.status.idle": "2021-08-02T13:49:12.610526Z",
     "shell.execute_reply": "2021-08-02T13:49:12.609982Z",
     "shell.execute_reply.started": "2021-08-02T12:03:24.551691Z"
    },
    "papermill": {
     "duration": 0.057669,
     "end_time": "2021-08-02T13:49:12.610645",
     "exception": false,
     "start_time": "2021-08-02T13:49:12.552976",
     "status": "completed"
    },
    "tags": []
   },
   "outputs": [],
   "source": [
    "def set_random_seed(random_seed):\n",
    "    random.seed(random_seed)\n",
    "    np.random.seed(random_seed)\n",
    "    os.environ[\"PYTHONHASHSEED\"] = str(random_seed)\n",
    "\n",
    "    torch.manual_seed(random_seed)\n",
    "    torch.cuda.manual_seed(random_seed)\n",
    "    torch.cuda.manual_seed_all(random_seed)\n",
    "\n",
    "    torch.backends.cudnn.deterministic = True"
   ]
  },
  {
   "cell_type": "code",
   "execution_count": 25,
   "id": "welsh-strip",
   "metadata": {
    "execution": {
     "iopub.execute_input": "2021-08-02T13:49:12.712877Z",
     "iopub.status.busy": "2021-08-02T13:49:12.712233Z",
     "iopub.status.idle": "2021-08-02T13:49:12.806342Z",
     "shell.execute_reply": "2021-08-02T13:49:12.805724Z",
     "shell.execute_reply.started": "2021-08-02T12:03:25.087124Z"
    },
    "papermill": {
     "duration": 0.150804,
     "end_time": "2021-08-02T13:49:12.806477",
     "exception": false,
     "start_time": "2021-08-02T13:49:12.655673",
     "status": "completed"
    },
    "tags": []
   },
   "outputs": [],
   "source": [
    "train_df = pd.read_csv(\"/kaggle/input/commonlitreadabilityprize/train.csv\")\n",
    "\n",
    "# Remove incomplete entries if any.\n",
    "train_df.drop(train_df[(train_df.target == 0) & (train_df.standard_error == 0)].index,\n",
    "              inplace=True)\n",
    "train_df.reset_index(drop=True, inplace=True)\n",
    "\n",
    "test_df = pd.read_csv(\"/kaggle/input/commonlitreadabilityprize/test.csv\")\n",
    "submission_df = pd.read_csv(\"/kaggle/input/commonlitreadabilityprize/sample_submission.csv\")"
   ]
  },
  {
   "cell_type": "code",
   "execution_count": 26,
   "id": "reasonable-bullet",
   "metadata": {
    "execution": {
     "iopub.execute_input": "2021-08-02T13:49:12.904746Z",
     "iopub.status.busy": "2021-08-02T13:49:12.904112Z",
     "iopub.status.idle": "2021-08-02T13:49:13.018500Z",
     "shell.execute_reply": "2021-08-02T13:49:13.017972Z",
     "shell.execute_reply.started": "2021-08-02T12:03:26.839671Z"
    },
    "papermill": {
     "duration": 0.163998,
     "end_time": "2021-08-02T13:49:13.018652",
     "exception": false,
     "start_time": "2021-08-02T13:49:12.854654",
     "status": "completed"
    },
    "tags": []
   },
   "outputs": [],
   "source": [
    "tokenizer = AutoTokenizer.from_pretrained(TOKENIZER_PATH)"
   ]
  },
  {
   "cell_type": "markdown",
   "id": "criminal-astrology",
   "metadata": {
    "papermill": {
     "duration": 0.045596,
     "end_time": "2021-08-02T13:49:13.111968",
     "exception": false,
     "start_time": "2021-08-02T13:49:13.066372",
     "status": "completed"
    },
    "tags": []
   },
   "source": [
    "## Dataset"
   ]
  },
  {
   "cell_type": "code",
   "execution_count": 27,
   "id": "manufactured-concentrate",
   "metadata": {
    "execution": {
     "iopub.execute_input": "2021-08-02T13:49:13.215107Z",
     "iopub.status.busy": "2021-08-02T13:49:13.214361Z",
     "iopub.status.idle": "2021-08-02T13:49:13.217966Z",
     "shell.execute_reply": "2021-08-02T13:49:13.218427Z",
     "shell.execute_reply.started": "2021-08-02T12:03:43.913863Z"
    },
    "papermill": {
     "duration": 0.056828,
     "end_time": "2021-08-02T13:49:13.218576",
     "exception": false,
     "start_time": "2021-08-02T13:49:13.161748",
     "status": "completed"
    },
    "tags": []
   },
   "outputs": [],
   "source": [
    "class LitDataset(Dataset):\n",
    "    def __init__(self, df, inference_only=False):\n",
    "        super().__init__()\n",
    "\n",
    "        self.df = df        \n",
    "        self.inference_only = inference_only\n",
    "        self.text = df.excerpt.tolist()\n",
    "        #self.text = [text.replace(\"\\n\", \" \") for text in self.text]\n",
    "        \n",
    "        if not self.inference_only:\n",
    "            self.target = torch.tensor(df.target.values, dtype=torch.float32)        \n",
    "    \n",
    "        self.encoded = tokenizer.batch_encode_plus(\n",
    "            self.text,\n",
    "            padding = 'max_length',            \n",
    "            max_length = MAX_LEN,\n",
    "            truncation = True,\n",
    "            return_attention_mask=True\n",
    "        )        \n",
    " \n",
    "\n",
    "    def __len__(self):\n",
    "        return len(self.df)\n",
    "\n",
    "    \n",
    "    def __getitem__(self, index):        \n",
    "        input_ids = torch.tensor(self.encoded['input_ids'][index])\n",
    "        attention_mask = torch.tensor(self.encoded['attention_mask'][index])\n",
    "        \n",
    "        if self.inference_only:\n",
    "            return (input_ids, attention_mask)            \n",
    "        else:\n",
    "            target = self.target[index]\n",
    "            return (input_ids, attention_mask, target)"
   ]
  },
  {
   "cell_type": "markdown",
   "id": "finite-necessity",
   "metadata": {
    "papermill": {
     "duration": 0.045502,
     "end_time": "2021-08-02T13:49:13.314239",
     "exception": false,
     "start_time": "2021-08-02T13:49:13.268737",
     "status": "completed"
    },
    "tags": []
   },
   "source": [
    "## Model"
   ]
  },
  {
   "cell_type": "code",
   "execution_count": 28,
   "id": "numeric-cooperative",
   "metadata": {
    "execution": {
     "iopub.execute_input": "2021-08-02T13:49:13.414486Z",
     "iopub.status.busy": "2021-08-02T13:49:13.413927Z",
     "iopub.status.idle": "2021-08-02T13:49:13.417863Z",
     "shell.execute_reply": "2021-08-02T13:49:13.417415Z",
     "shell.execute_reply.started": "2021-08-02T12:03:44.330607Z"
    },
    "papermill": {
     "duration": 0.053204,
     "end_time": "2021-08-02T13:49:13.417973",
     "exception": false,
     "start_time": "2021-08-02T13:49:13.364769",
     "status": "completed"
    },
    "tags": []
   },
   "outputs": [],
   "source": [
    "# class LitModel(nn.Module):\n",
    "#     def __init__(self):\n",
    "#         super().__init__()\n",
    "\n",
    "#         config = AutoConfig.from_pretrained(CONFIG_PATH)\n",
    "#         config.update({\"output_hidden_states\":True, \n",
    "#                        \"hidden_dropout_prob\": 0.0,\n",
    "#                        \"layer_norm_eps\": 1e-7})                       \n",
    "        \n",
    "#         self.roberta = AutoModel.from_pretrained(ROBERTA_PATH, config=config)  \n",
    "            \n",
    "#         self.attention = nn.Sequential(            \n",
    "#             nn.Linear(768, 512),            \n",
    "#             nn.Tanh(),                       \n",
    "#             nn.Linear(512, 1),\n",
    "#             nn.Softmax(dim=1)\n",
    "#         )        \n",
    "\n",
    "#         self.regressor = nn.Sequential(  \n",
    "# #             nn.LayerNorm(768),\n",
    "#             nn.Linear(768, 1)                        \n",
    "#         )\n",
    "        \n",
    "\n",
    "#     def forward(self, input_ids, attention_mask):\n",
    "#         roberta_output = self.roberta(input_ids=input_ids,\n",
    "#                                       attention_mask=attention_mask)        \n",
    "\n",
    "#         # There are a total of 13 layers of hidden states.\n",
    "#         # 1 for the embedding layer, and 12 for the 12 Roberta layers.\n",
    "#         # We take the hidden states from the last Roberta layer.\n",
    "#         last_layer_hidden_states = roberta_output.hidden_states[-1]\n",
    "\n",
    "#         # The number of cells is MAX_LEN.\n",
    "#         # The size of the hidden state of each cell is 768 (for roberta-base).\n",
    "#         # In order to condense hidden states of all cells to a context vector,\n",
    "#         # we compute a weighted average of the hidden states of all cells.\n",
    "#         # We compute the weight of each cell, using the attention neural network.\n",
    "#         weights = self.attention(last_layer_hidden_states)\n",
    "                \n",
    "#         # weights.shape is BATCH_SIZE x MAX_LEN x 1\n",
    "#         # last_layer_hidden_states.shape is BATCH_SIZE x MAX_LEN x 768        \n",
    "#         # Now we compute context_vector as the weighted average.\n",
    "#         # context_vector.shape is BATCH_SIZE x 768\n",
    "#         context_vector = torch.sum(weights * last_layer_hidden_states, dim=1)        \n",
    "        \n",
    "#         # Now we reduce the context vector to the prediction score.\n",
    "#         return self.regressor(context_vector)"
   ]
  },
  {
   "cell_type": "code",
   "execution_count": 29,
   "id": "eleven-tonight",
   "metadata": {
    "execution": {
     "iopub.execute_input": "2021-08-02T13:49:13.528936Z",
     "iopub.status.busy": "2021-08-02T13:49:13.527310Z",
     "iopub.status.idle": "2021-08-02T13:49:13.530404Z",
     "shell.execute_reply": "2021-08-02T13:49:13.529962Z",
     "shell.execute_reply.started": "2021-08-02T12:03:44.45879Z"
    },
    "papermill": {
     "duration": 0.061449,
     "end_time": "2021-08-02T13:49:13.530509",
     "exception": false,
     "start_time": "2021-08-02T13:49:13.469060",
     "status": "completed"
    },
    "tags": []
   },
   "outputs": [],
   "source": [
    "# class LitModel(nn.Module):\n",
    "#     def __init__(self):\n",
    "#         super().__init__()\n",
    "\n",
    "#         config = AutoConfig.from_pretrained(CONFIG_PATH)\n",
    "#         config.update({\"output_hidden_states\":True, \n",
    "#                        \"hidden_dropout_prob\": 0.0,\n",
    "# #                        \"attention_probs_dropout_prob\":0.0,\n",
    "#                        \"layer_norm_eps\": 1e-7})                       \n",
    "        \n",
    "#         self.roberta = AutoModel.from_pretrained(ROBERTA_PATH, config=config)  \n",
    "#         self.cnn1 = nn.Conv1d(768, MAX_LEN, kernel_size=2, padding=1)\n",
    "#         self.cnn2 = nn.Conv1d(MAX_LEN, 1, kernel_size=2, padding=1)\n",
    "\n",
    "        \n",
    "\n",
    "#     def forward(self, input_ids, attention_mask):\n",
    "#         roberta_output = self.roberta(input_ids=input_ids,\n",
    "#                                       attention_mask=attention_mask)        \n",
    "#         last_hidden_state = roberta_output[0]\n",
    "#         last_hidden_state = last_hidden_state.permute(0, 2, 1)\n",
    "#         cnn_embeddings = F.relu(self.cnn1(last_hidden_state))\n",
    "#         cnn_embeddings = self.cnn2(cnn_embeddings)\n",
    "#         logits, _ = torch.max(cnn_embeddings, 2)\n",
    "#         return logits"
   ]
  },
  {
   "cell_type": "code",
   "execution_count": 30,
   "id": "adolescent-graphics",
   "metadata": {
    "execution": {
     "iopub.execute_input": "2021-08-02T13:49:13.640505Z",
     "iopub.status.busy": "2021-08-02T13:49:13.639831Z",
     "iopub.status.idle": "2021-08-02T13:49:13.643174Z",
     "shell.execute_reply": "2021-08-02T13:49:13.642750Z",
     "shell.execute_reply.started": "2021-08-02T12:03:44.699814Z"
    },
    "papermill": {
     "duration": 0.059306,
     "end_time": "2021-08-02T13:49:13.643288",
     "exception": false,
     "start_time": "2021-08-02T13:49:13.583982",
     "status": "completed"
    },
    "tags": []
   },
   "outputs": [],
   "source": [
    "# https://arxiv.org/pdf/2103.04083v1.pdf\n",
    "class LitModel(nn.Module):  \n",
    "    def __init__(self):\n",
    "        super().__init__()\n",
    "\n",
    "        config = AutoConfig.from_pretrained(CONFIG_PATH)\n",
    "        config.update({\"output_hidden_states\":True, \n",
    "                       \"hidden_dropout_prob\": 0.0,\n",
    "#                        \"attention_probs_dropout_prob\":0.0,\n",
    "                       \"layer_norm_eps\": 1e-7})                       \n",
    "        \n",
    "        self.roberta = AutoModel.from_pretrained(ROBERTA_PATH, config=config)  \n",
    "#         self.cnn1 = nn.Conv1d(768, MAX_LEN, kernel_size=1)\n",
    "#         self.cnn2 = nn.Conv1d(MAX_LEN, 1, kernel_size=1)\n",
    "        self.cnn1 = nn.Conv1d(768, 512, kernel_size=1)\n",
    "        self.cnn2 = nn.Conv1d(512, MAX_LEN, kernel_size=1)\n",
    "         \n",
    "#         self.layernorm = nn.LayerNorm(MAX_LEN,MAX_LEN)    \n",
    "        self.layernorm = nn.LayerNorm(MAX_LEN)\n",
    "            \n",
    "        self.attention = nn.Sequential(            \n",
    "            nn.Linear(MAX_LEN, MAX_LEN),            \n",
    "            nn.Tanh(),  \n",
    "            nn.Linear(MAX_LEN, 1),\n",
    "            nn.Softmax(dim=1)\n",
    "        )        \n",
    "\n",
    "        self.regressor = nn.Sequential(      \n",
    "#             nn.LayerNorm(768),\n",
    "            nn.Linear(MAX_LEN, 1),          \n",
    "        )\n",
    "        \n",
    "\n",
    "    def forward(self, input_ids, attention_mask):\n",
    "        roberta_output = self.roberta(input_ids=input_ids,\n",
    "                                      attention_mask=attention_mask)   \n",
    "        last_hidden_state = roberta_output.hidden_states[-1]\n",
    "#         print(last_hidden_state.shape)\n",
    "        last_hidden_state = last_hidden_state.permute(0, 2, 1)#16*768*MAX_LEN\n",
    "#         print(last_hidden_state.shape)\n",
    "        cnn_embeddings = F.relu(self.cnn1(last_hidden_state))#16*512*MAX_LEN\n",
    "#         print(cnn_embeddings.shape)\n",
    "        cnn_embeddings = self.cnn2(cnn_embeddings)#16*MAX_LEN(embedding)*MAX_LEN(tokens)\n",
    "#         print(cnn_embeddings.shape)\n",
    "        cnn_embeddings = cnn_embeddings.permute(0, 2, 1)\n",
    "#         cnn_embeddings = self.layernorm(cnn_embeddings)\n",
    "#         print(cnn_embeddings.shape)\n",
    "        # There are a total of 13 layers of hidden states.\n",
    "        # 1 for the embedding layer, and 12 for the 12 Roberta layers.\n",
    "        # We take the hidden states from the last Roberta layer.\n",
    "#         last_layer_hidden_states = roberta_output.hidden_states[-1]\n",
    "        \n",
    "\n",
    "        # The number of cells is MAX_LEN.\n",
    "        # The size of the hidden state of each cell is 768 (for roberta-base).\n",
    "        # In order to condense hidden states of all cells to a context vector,\n",
    "        # we compute a weighted average of the hidden states of all cells.\n",
    "        # We compute the weight of each cell, using the attention neural network.\n",
    "#         print(cnn_embeddings.shape)\n",
    "        weights = self.attention(cnn_embeddings)#16*MAX_LEN*1\n",
    "#         print('weights.shape',weights.shape)\n",
    "                \n",
    "        # weights.shape is BATCH_SIZE x MAX_LEN x 1\n",
    "        # last_layer_hidden_states.shape is BATCH_SIZE x MAX_LEN x 768        \n",
    "        # Now we compute context_vector as the weighted average.\n",
    "        # context_vector.shape is BATCH_SIZE x 768\n",
    "        context_vector = torch.sum(weights * cnn_embeddings, dim=1)#16*MAX_LEN   \n",
    "#         print('context_vector',context_vector.shape)\n",
    "        \n",
    "        # Now we reduce the context vector to the prediction score.\n",
    "        return self.regressor(context_vector)#16"
   ]
  },
  {
   "cell_type": "code",
   "execution_count": 31,
   "id": "patent-person",
   "metadata": {
    "execution": {
     "iopub.execute_input": "2021-08-02T13:49:13.744469Z",
     "iopub.status.busy": "2021-08-02T13:49:13.743961Z",
     "iopub.status.idle": "2021-08-02T13:49:13.748062Z",
     "shell.execute_reply": "2021-08-02T13:49:13.747574Z",
     "shell.execute_reply.started": "2021-08-02T12:03:44.888311Z"
    },
    "papermill": {
     "duration": 0.054777,
     "end_time": "2021-08-02T13:49:13.748182",
     "exception": false,
     "start_time": "2021-08-02T13:49:13.693405",
     "status": "completed"
    },
    "tags": []
   },
   "outputs": [],
   "source": [
    "def eval_mse(model, data_loader):\n",
    "    \"\"\"Evaluates the mean squared error of the |model| on |data_loader|\"\"\"\n",
    "    model.eval()            \n",
    "    mse_sum = 0\n",
    "\n",
    "    with torch.no_grad():\n",
    "        for batch_num, (input_ids, attention_mask, target) in enumerate(data_loader):\n",
    "            input_ids = input_ids.to(DEVICE)\n",
    "            attention_mask = attention_mask.to(DEVICE)                        \n",
    "            target = target.to(DEVICE)           \n",
    "            \n",
    "            pred = model(input_ids, attention_mask)                       \n",
    "\n",
    "            mse_sum += nn.MSELoss(reduction=\"sum\")(pred.flatten(), target).item()\n",
    "                \n",
    "\n",
    "    return mse_sum / len(data_loader.dataset)"
   ]
  },
  {
   "cell_type": "code",
   "execution_count": 32,
   "id": "optimum-gasoline",
   "metadata": {
    "execution": {
     "iopub.execute_input": "2021-08-02T13:49:13.850595Z",
     "iopub.status.busy": "2021-08-02T13:49:13.849361Z",
     "iopub.status.idle": "2021-08-02T13:49:13.852293Z",
     "shell.execute_reply": "2021-08-02T13:49:13.851848Z",
     "shell.execute_reply.started": "2021-08-02T12:03:45.068863Z"
    },
    "papermill": {
     "duration": 0.053834,
     "end_time": "2021-08-02T13:49:13.852393",
     "exception": false,
     "start_time": "2021-08-02T13:49:13.798559",
     "status": "completed"
    },
    "tags": []
   },
   "outputs": [],
   "source": [
    "def predict(model, data_loader):\n",
    "    \"\"\"Returns an np.array with predictions of the |model| on |data_loader|\"\"\"\n",
    "    model.eval()\n",
    "\n",
    "    result = np.zeros(len(data_loader.dataset))    \n",
    "    index = 0\n",
    "    \n",
    "    with torch.no_grad():\n",
    "        for batch_num, (input_ids, attention_mask) in enumerate(data_loader):\n",
    "            input_ids = input_ids.to(DEVICE)\n",
    "            attention_mask = attention_mask.to(DEVICE)\n",
    "                        \n",
    "            pred = model(input_ids, attention_mask)                        \n",
    "\n",
    "            result[index : index + pred.shape[0]] = pred.flatten().to(\"cpu\")\n",
    "            index += pred.shape[0]\n",
    "\n",
    "    return result"
   ]
  },
  {
   "cell_type": "markdown",
   "id": "third-builder",
   "metadata": {
    "papermill": {
     "duration": 0.044857,
     "end_time": "2021-08-02T13:49:13.947662",
     "exception": false,
     "start_time": "2021-08-02T13:49:13.902805",
     "status": "completed"
    },
    "tags": []
   },
   "source": [
    "## infer"
   ]
  },
  {
   "cell_type": "code",
   "execution_count": 33,
   "id": "fluid-trout",
   "metadata": {
    "execution": {
     "iopub.execute_input": "2021-08-02T13:49:14.055030Z",
     "iopub.status.busy": "2021-08-02T13:49:14.053573Z",
     "iopub.status.idle": "2021-08-02T13:49:14.057795Z",
     "shell.execute_reply": "2021-08-02T13:49:14.058168Z",
     "shell.execute_reply.started": "2021-08-02T12:03:45.394044Z"
    },
    "papermill": {
     "duration": 0.059127,
     "end_time": "2021-08-02T13:49:14.058301",
     "exception": false,
     "start_time": "2021-08-02T13:49:13.999174",
     "status": "completed"
    },
    "tags": []
   },
   "outputs": [],
   "source": [
    "test_dataset = LitDataset(test_df, inference_only=True)"
   ]
  },
  {
   "cell_type": "code",
   "execution_count": 34,
   "id": "documented-pencil",
   "metadata": {
    "execution": {
     "iopub.execute_input": "2021-08-02T13:49:14.169529Z",
     "iopub.status.busy": "2021-08-02T13:49:14.168622Z",
     "iopub.status.idle": "2021-08-02T13:50:02.767526Z",
     "shell.execute_reply": "2021-08-02T13:50:02.766989Z",
     "shell.execute_reply.started": "2021-08-02T12:03:46.498857Z"
    },
    "papermill": {
     "duration": 48.653165,
     "end_time": "2021-08-02T13:50:02.767675",
     "exception": false,
     "start_time": "2021-08-02T13:49:14.114510",
     "status": "completed"
    },
    "tags": []
   },
   "outputs": [
    {
     "name": "stdout",
     "output_type": "stream",
     "text": [
      "\n",
      "Using ../input/pre-trained-roberta-solution-in-pytorch-train/model_1.pth\n",
      "\n",
      "Using ../input/pre-trained-roberta-solution-in-pytorch-train/model_2.pth\n",
      "\n",
      "Using ../input/pre-trained-roberta-solution-in-pytorch-train/model_3.pth\n",
      "\n",
      "Using ../input/pre-trained-roberta-solution-in-pytorch-train/model_4.pth\n",
      "\n",
      "Using ../input/pre-trained-roberta-solution-in-pytorch-train/model_5.pth\n",
      "\n",
      "Using ../input/pre-trained-roberta-solution-in-pytorch-train/model_6.pth\n"
     ]
    }
   ],
   "source": [
    "all_predictions = np.zeros((NUM_FOLDS, len(test_df)))\n",
    "\n",
    "test_dataset = LitDataset(test_df, inference_only=True)\n",
    "test_loader = DataLoader(test_dataset, batch_size=BATCH_SIZE,\n",
    "                         drop_last=False, shuffle=False, num_workers=2)\n",
    "\n",
    "for index in range(NUM_FOLDS):            \n",
    "    model_path = f\"../input/pre-trained-roberta-solution-in-pytorch-train/model_{index + 1}.pth\" #../input/pre-trained-roberta-solution-in-pytorch-train/model_1.pth\n",
    "    print(f\"\\nUsing {model_path}\")\n",
    "                        \n",
    "    model = LitModel()\n",
    "    model.load_state_dict(torch.load(model_path))    \n",
    "    model.to(DEVICE)\n",
    "    \n",
    "    all_predictions[index] = predict(model, test_loader)\n",
    "    \n",
    "    del model\n",
    "    gc.collect()"
   ]
  },
  {
   "cell_type": "code",
   "execution_count": 35,
   "id": "regional-satisfaction",
   "metadata": {
    "execution": {
     "iopub.execute_input": "2021-08-02T13:50:02.866516Z",
     "iopub.status.busy": "2021-08-02T13:50:02.865067Z",
     "iopub.status.idle": "2021-08-02T13:50:02.867460Z",
     "shell.execute_reply": "2021-08-02T13:50:02.867894Z"
    },
    "papermill": {
     "duration": 0.053356,
     "end_time": "2021-08-02T13:50:02.868028",
     "exception": false,
     "start_time": "2021-08-02T13:50:02.814672",
     "status": "completed"
    },
    "tags": []
   },
   "outputs": [],
   "source": [
    "model4_predictions = all_predictions.mean(axis=0)"
   ]
  },
  {
   "cell_type": "code",
   "execution_count": 36,
   "id": "compact-hollow",
   "metadata": {
    "execution": {
     "iopub.execute_input": "2021-08-02T13:50:02.966730Z",
     "iopub.status.busy": "2021-08-02T13:50:02.965739Z",
     "iopub.status.idle": "2021-08-02T13:50:02.970151Z",
     "shell.execute_reply": "2021-08-02T13:50:02.969719Z",
     "shell.execute_reply.started": "2021-07-27T04:21:15.480225Z"
    },
    "papermill": {
     "duration": 0.055222,
     "end_time": "2021-08-02T13:50:02.970258",
     "exception": false,
     "start_time": "2021-08-02T13:50:02.915036",
     "status": "completed"
    },
    "tags": []
   },
   "outputs": [
    {
     "data": {
      "text/plain": [
       "array([-0.44976234, -0.53855121, -0.43410407, -2.43366345, -1.8013394 ,\n",
       "       -1.28000224,  0.14042883])"
      ]
     },
     "execution_count": 36,
     "metadata": {},
     "output_type": "execute_result"
    }
   ],
   "source": [
    "# predictions = model1_predictions * 0.5 + model2_predictions * 0.3 + model3_predictions * 0.1  + model4_predictions * 0.1\n",
    "# predictions = model1_predictions * 0.4 + model2_predictions * 0.2 + model3_predictions * 0.2  + model4_predictions * 0.2 best\n",
    "predictions = model1_predictions * 0.25 + model2_predictions * 0.25 + model3_predictions * 0.25  + model4_predictions * 0.25\n",
    "\n",
    "predictions"
   ]
  },
  {
   "cell_type": "code",
   "execution_count": 37,
   "id": "worldwide-lobby",
   "metadata": {
    "execution": {
     "iopub.execute_input": "2021-08-02T13:50:03.074463Z",
     "iopub.status.busy": "2021-08-02T13:50:03.073673Z",
     "iopub.status.idle": "2021-08-02T13:50:03.082378Z",
     "shell.execute_reply": "2021-08-02T13:50:03.081981Z",
     "shell.execute_reply.started": "2021-07-27T04:21:15.493019Z"
    },
    "papermill": {
     "duration": 0.065794,
     "end_time": "2021-08-02T13:50:03.082500",
     "exception": false,
     "start_time": "2021-08-02T13:50:03.016706",
     "status": "completed"
    },
    "tags": []
   },
   "outputs": [
    {
     "data": {
      "text/html": [
       "<div>\n",
       "<style scoped>\n",
       "    .dataframe tbody tr th:only-of-type {\n",
       "        vertical-align: middle;\n",
       "    }\n",
       "\n",
       "    .dataframe tbody tr th {\n",
       "        vertical-align: top;\n",
       "    }\n",
       "\n",
       "    .dataframe thead th {\n",
       "        text-align: right;\n",
       "    }\n",
       "</style>\n",
       "<table border=\"1\" class=\"dataframe\">\n",
       "  <thead>\n",
       "    <tr style=\"text-align: right;\">\n",
       "      <th></th>\n",
       "      <th>model1</th>\n",
       "      <th>model2</th>\n",
       "      <th>model3</th>\n",
       "      <th>model4</th>\n",
       "      <th>ensemble</th>\n",
       "    </tr>\n",
       "  </thead>\n",
       "  <tbody>\n",
       "    <tr>\n",
       "      <th>0</th>\n",
       "      <td>-0.437155</td>\n",
       "      <td>-0.424239</td>\n",
       "      <td>-0.403613</td>\n",
       "      <td>-0.534043</td>\n",
       "      <td>-0.449762</td>\n",
       "    </tr>\n",
       "    <tr>\n",
       "      <th>1</th>\n",
       "      <td>-0.656492</td>\n",
       "      <td>-0.552417</td>\n",
       "      <td>-0.390972</td>\n",
       "      <td>-0.554323</td>\n",
       "      <td>-0.538551</td>\n",
       "    </tr>\n",
       "    <tr>\n",
       "      <th>2</th>\n",
       "      <td>-0.354968</td>\n",
       "      <td>-0.480693</td>\n",
       "      <td>-0.432696</td>\n",
       "      <td>-0.468059</td>\n",
       "      <td>-0.434104</td>\n",
       "    </tr>\n",
       "    <tr>\n",
       "      <th>3</th>\n",
       "      <td>-2.515151</td>\n",
       "      <td>-2.409766</td>\n",
       "      <td>-2.249735</td>\n",
       "      <td>-2.560002</td>\n",
       "      <td>-2.433663</td>\n",
       "    </tr>\n",
       "    <tr>\n",
       "      <th>4</th>\n",
       "      <td>-1.678813</td>\n",
       "      <td>-1.869201</td>\n",
       "      <td>-1.838367</td>\n",
       "      <td>-1.818977</td>\n",
       "      <td>-1.801339</td>\n",
       "    </tr>\n",
       "    <tr>\n",
       "      <th>5</th>\n",
       "      <td>-1.427003</td>\n",
       "      <td>-1.139890</td>\n",
       "      <td>-1.113217</td>\n",
       "      <td>-1.439899</td>\n",
       "      <td>-1.280002</td>\n",
       "    </tr>\n",
       "    <tr>\n",
       "      <th>6</th>\n",
       "      <td>0.050763</td>\n",
       "      <td>0.154946</td>\n",
       "      <td>0.106686</td>\n",
       "      <td>0.249321</td>\n",
       "      <td>0.140429</td>\n",
       "    </tr>\n",
       "  </tbody>\n",
       "</table>\n",
       "</div>"
      ],
      "text/plain": [
       "     model1    model2    model3    model4  ensemble\n",
       "0 -0.437155 -0.424239 -0.403613 -0.534043 -0.449762\n",
       "1 -0.656492 -0.552417 -0.390972 -0.554323 -0.538551\n",
       "2 -0.354968 -0.480693 -0.432696 -0.468059 -0.434104\n",
       "3 -2.515151 -2.409766 -2.249735 -2.560002 -2.433663\n",
       "4 -1.678813 -1.869201 -1.838367 -1.818977 -1.801339\n",
       "5 -1.427003 -1.139890 -1.113217 -1.439899 -1.280002\n",
       "6  0.050763  0.154946  0.106686  0.249321  0.140429"
      ]
     },
     "execution_count": 37,
     "metadata": {},
     "output_type": "execute_result"
    }
   ],
   "source": [
    "results = pd.DataFrame(np.vstack((model1_predictions, model2_predictions, model3_predictions,model4_predictions,\n",
    "                                  predictions)).transpose(), \n",
    "                       columns=['model1','model2','model3','model4','ensemble'])\n",
    "\n",
    "results"
   ]
  },
  {
   "cell_type": "code",
   "execution_count": 38,
   "id": "moral-tonight",
   "metadata": {
    "execution": {
     "iopub.execute_input": "2021-08-02T13:50:03.179759Z",
     "iopub.status.busy": "2021-08-02T13:50:03.179216Z",
     "iopub.status.idle": "2021-08-02T13:50:03.182546Z",
     "shell.execute_reply": "2021-08-02T13:50:03.182999Z",
     "shell.execute_reply.started": "2021-07-27T04:21:15.51762Z"
    },
    "papermill": {
     "duration": 0.053225,
     "end_time": "2021-08-02T13:50:03.183132",
     "exception": false,
     "start_time": "2021-08-02T13:50:03.129907",
     "status": "completed"
    },
    "tags": []
   },
   "outputs": [],
   "source": [
    "# submission_df.target = predictions\n",
    "# submission_df"
   ]
  },
  {
   "cell_type": "code",
   "execution_count": 39,
   "id": "liked-andorra",
   "metadata": {
    "execution": {
     "iopub.execute_input": "2021-08-02T13:50:03.278515Z",
     "iopub.status.busy": "2021-08-02T13:50:03.278021Z",
     "iopub.status.idle": "2021-08-02T13:50:03.281256Z",
     "shell.execute_reply": "2021-08-02T13:50:03.281664Z",
     "shell.execute_reply.started": "2021-07-27T04:21:15.534152Z"
    },
    "papermill": {
     "duration": 0.052673,
     "end_time": "2021-08-02T13:50:03.281860",
     "exception": false,
     "start_time": "2021-08-02T13:50:03.229187",
     "status": "completed"
    },
    "tags": []
   },
   "outputs": [],
   "source": [
    "# submission_df.to_csv(\"submission.csv\", index=False)"
   ]
  },
  {
   "cell_type": "code",
   "execution_count": 40,
   "id": "independent-society",
   "metadata": {
    "execution": {
     "iopub.execute_input": "2021-08-02T13:50:03.385590Z",
     "iopub.status.busy": "2021-08-02T13:50:03.385075Z",
     "iopub.status.idle": "2021-08-02T13:50:03.706732Z",
     "shell.execute_reply": "2021-08-02T13:50:03.706267Z"
    },
    "papermill": {
     "duration": 0.378387,
     "end_time": "2021-08-02T13:50:03.706865",
     "exception": false,
     "start_time": "2021-08-02T13:50:03.328478",
     "status": "completed"
    },
    "tags": []
   },
   "outputs": [
    {
     "name": "stdout",
     "output_type": "stream",
     "text": [
      "          id    target\n",
      "0  c0f722661 -0.449762\n",
      "1  f0953f0a5 -0.538551\n",
      "2  0df072751 -0.434104\n",
      "3  04caf4e0c -2.433663\n",
      "4  0e63f8bea -1.801339\n",
      "5  12537fe78 -1.280002\n",
      "6  965e592c0  0.140429\n"
     ]
    }
   ],
   "source": [
    "test_df['target']=predictions\n",
    "# submission_df.target = predictions\n",
    "cols_to_keep=['id','target']\n",
    "print(test_df[cols_to_keep])\n",
    "test_df.loc[:, cols_to_keep].to_csv(\"submission.csv\", index=False)"
   ]
  },
  {
   "cell_type": "code",
   "execution_count": null,
   "id": "detailed-piece",
   "metadata": {
    "papermill": {
     "duration": 0.047205,
     "end_time": "2021-08-02T13:50:03.801469",
     "exception": false,
     "start_time": "2021-08-02T13:50:03.754264",
     "status": "completed"
    },
    "tags": []
   },
   "outputs": [],
   "source": []
  },
  {
   "cell_type": "code",
   "execution_count": null,
   "id": "wireless-impact",
   "metadata": {
    "papermill": {
     "duration": 0.046431,
     "end_time": "2021-08-02T13:50:03.894668",
     "exception": false,
     "start_time": "2021-08-02T13:50:03.848237",
     "status": "completed"
    },
    "tags": []
   },
   "outputs": [],
   "source": []
  }
 ],
 "metadata": {
  "kernelspec": {
   "display_name": "Python 3",
   "language": "python",
   "name": "python3"
  },
  "language_info": {
   "codemirror_mode": {
    "name": "ipython",
    "version": 3
   },
   "file_extension": ".py",
   "mimetype": "text/x-python",
   "name": "python",
   "nbconvert_exporter": "python",
   "pygments_lexer": "ipython3",
   "version": "3.7.10"
  },
  "papermill": {
   "default_parameters": {},
   "duration": 501.887437,
   "end_time": "2021-08-02T13:50:06.802401",
   "environment_variables": {},
   "exception": null,
   "input_path": "__notebook__.ipynb",
   "output_path": "__notebook__.ipynb",
   "parameters": {},
   "start_time": "2021-08-02T13:41:44.914964",
   "version": "2.3.3"
  },
  "widgets": {
   "application/vnd.jupyter.widget-state+json": {
    "state": {
     "05d35a5217484e5d995922e914ba5d29": {
      "model_module": "@jupyter-widgets/base",
      "model_module_version": "1.2.0",
      "model_name": "LayoutModel",
      "state": {
       "_model_module": "@jupyter-widgets/base",
       "_model_module_version": "1.2.0",
       "_model_name": "LayoutModel",
       "_view_count": null,
       "_view_module": "@jupyter-widgets/base",
       "_view_module_version": "1.2.0",
       "_view_name": "LayoutView",
       "align_content": null,
       "align_items": null,
       "align_self": null,
       "border": null,
       "bottom": null,
       "display": null,
       "flex": null,
       "flex_flow": null,
       "grid_area": null,
       "grid_auto_columns": null,
       "grid_auto_flow": null,
       "grid_auto_rows": null,
       "grid_column": null,
       "grid_gap": null,
       "grid_row": null,
       "grid_template_areas": null,
       "grid_template_columns": null,
       "grid_template_rows": null,
       "height": null,
       "justify_content": null,
       "justify_items": null,
       "left": null,
       "margin": null,
       "max_height": null,
       "max_width": null,
       "min_height": null,
       "min_width": null,
       "object_fit": null,
       "object_position": null,
       "order": null,
       "overflow": null,
       "overflow_x": null,
       "overflow_y": null,
       "padding": null,
       "right": null,
       "top": null,
       "visibility": null,
       "width": null
      }
     },
     "0d1a2549581a4aa2be616c1a21147614": {
      "model_module": "@jupyter-widgets/base",
      "model_module_version": "1.2.0",
      "model_name": "LayoutModel",
      "state": {
       "_model_module": "@jupyter-widgets/base",
       "_model_module_version": "1.2.0",
       "_model_name": "LayoutModel",
       "_view_count": null,
       "_view_module": "@jupyter-widgets/base",
       "_view_module_version": "1.2.0",
       "_view_name": "LayoutView",
       "align_content": null,
       "align_items": null,
       "align_self": null,
       "border": null,
       "bottom": null,
       "display": null,
       "flex": null,
       "flex_flow": null,
       "grid_area": null,
       "grid_auto_columns": null,
       "grid_auto_flow": null,
       "grid_auto_rows": null,
       "grid_column": null,
       "grid_gap": null,
       "grid_row": null,
       "grid_template_areas": null,
       "grid_template_columns": null,
       "grid_template_rows": null,
       "height": null,
       "justify_content": null,
       "justify_items": null,
       "left": null,
       "margin": null,
       "max_height": null,
       "max_width": null,
       "min_height": null,
       "min_width": null,
       "object_fit": null,
       "object_position": null,
       "order": null,
       "overflow": null,
       "overflow_x": null,
       "overflow_y": null,
       "padding": null,
       "right": null,
       "top": null,
       "visibility": null,
       "width": null
      }
     },
     "2829d1644c6642a5960dd299d3c2f8c4": {
      "model_module": "@jupyter-widgets/controls",
      "model_module_version": "1.5.0",
      "model_name": "DescriptionStyleModel",
      "state": {
       "_model_module": "@jupyter-widgets/controls",
       "_model_module_version": "1.5.0",
       "_model_name": "DescriptionStyleModel",
       "_view_count": null,
       "_view_module": "@jupyter-widgets/base",
       "_view_module_version": "1.2.0",
       "_view_name": "StyleView",
       "description_width": ""
      }
     },
     "29373b10a6c04167b67e075d55eebc58": {
      "model_module": "@jupyter-widgets/base",
      "model_module_version": "1.2.0",
      "model_name": "LayoutModel",
      "state": {
       "_model_module": "@jupyter-widgets/base",
       "_model_module_version": "1.2.0",
       "_model_name": "LayoutModel",
       "_view_count": null,
       "_view_module": "@jupyter-widgets/base",
       "_view_module_version": "1.2.0",
       "_view_name": "LayoutView",
       "align_content": null,
       "align_items": null,
       "align_self": null,
       "border": null,
       "bottom": null,
       "display": null,
       "flex": null,
       "flex_flow": null,
       "grid_area": null,
       "grid_auto_columns": null,
       "grid_auto_flow": null,
       "grid_auto_rows": null,
       "grid_column": null,
       "grid_gap": null,
       "grid_row": null,
       "grid_template_areas": null,
       "grid_template_columns": null,
       "grid_template_rows": null,
       "height": null,
       "justify_content": null,
       "justify_items": null,
       "left": null,
       "margin": null,
       "max_height": null,
       "max_width": null,
       "min_height": null,
       "min_width": null,
       "object_fit": null,
       "object_position": null,
       "order": null,
       "overflow": null,
       "overflow_x": null,
       "overflow_y": null,
       "padding": null,
       "right": null,
       "top": null,
       "visibility": null,
       "width": null
      }
     },
     "485372b52b3f419a9663337791d144ec": {
      "model_module": "@jupyter-widgets/controls",
      "model_module_version": "1.5.0",
      "model_name": "ProgressStyleModel",
      "state": {
       "_model_module": "@jupyter-widgets/controls",
       "_model_module_version": "1.5.0",
       "_model_name": "ProgressStyleModel",
       "_view_count": null,
       "_view_module": "@jupyter-widgets/base",
       "_view_module_version": "1.2.0",
       "_view_name": "StyleView",
       "bar_color": null,
       "description_width": ""
      }
     },
     "648fc497154f4fd29f21959b932b9b64": {
      "model_module": "@jupyter-widgets/controls",
      "model_module_version": "1.5.0",
      "model_name": "HBoxModel",
      "state": {
       "_dom_classes": [],
       "_model_module": "@jupyter-widgets/controls",
       "_model_module_version": "1.5.0",
       "_model_name": "HBoxModel",
       "_view_count": null,
       "_view_module": "@jupyter-widgets/controls",
       "_view_module_version": "1.5.0",
       "_view_name": "HBoxView",
       "box_style": "",
       "children": [
        "IPY_MODEL_d9abe636a72c4e9abc709a4e8160b4d4",
        "IPY_MODEL_c2ffa34db2424a90b64887d3b7344d8b",
        "IPY_MODEL_a834979e1e9f4c4586ca866d9be31a57"
       ],
       "layout": "IPY_MODEL_0d1a2549581a4aa2be616c1a21147614"
      }
     },
     "a5e5c189060945c88a76f10c60306505": {
      "model_module": "@jupyter-widgets/controls",
      "model_module_version": "1.5.0",
      "model_name": "DescriptionStyleModel",
      "state": {
       "_model_module": "@jupyter-widgets/controls",
       "_model_module_version": "1.5.0",
       "_model_name": "DescriptionStyleModel",
       "_view_count": null,
       "_view_module": "@jupyter-widgets/base",
       "_view_module_version": "1.2.0",
       "_view_name": "StyleView",
       "description_width": ""
      }
     },
     "a834979e1e9f4c4586ca866d9be31a57": {
      "model_module": "@jupyter-widgets/controls",
      "model_module_version": "1.5.0",
      "model_name": "HTMLModel",
      "state": {
       "_dom_classes": [],
       "_model_module": "@jupyter-widgets/controls",
       "_model_module_version": "1.5.0",
       "_model_name": "HTMLModel",
       "_view_count": null,
       "_view_module": "@jupyter-widgets/controls",
       "_view_module_version": "1.5.0",
       "_view_name": "HTMLView",
       "description": "",
       "description_tooltip": null,
       "layout": "IPY_MODEL_29373b10a6c04167b67e075d55eebc58",
       "placeholder": "​",
       "style": "IPY_MODEL_2829d1644c6642a5960dd299d3c2f8c4",
       "value": " 5/5 [01:48&lt;00:00, 21.70s/it]"
      }
     },
     "c2ffa34db2424a90b64887d3b7344d8b": {
      "model_module": "@jupyter-widgets/controls",
      "model_module_version": "1.5.0",
      "model_name": "FloatProgressModel",
      "state": {
       "_dom_classes": [],
       "_model_module": "@jupyter-widgets/controls",
       "_model_module_version": "1.5.0",
       "_model_name": "FloatProgressModel",
       "_view_count": null,
       "_view_module": "@jupyter-widgets/controls",
       "_view_module_version": "1.5.0",
       "_view_name": "ProgressView",
       "bar_style": "success",
       "description": "",
       "description_tooltip": null,
       "layout": "IPY_MODEL_ee25a7de86fb42bf83ab8f6be273be55",
       "max": 5.0,
       "min": 0.0,
       "orientation": "horizontal",
       "style": "IPY_MODEL_485372b52b3f419a9663337791d144ec",
       "value": 5.0
      }
     },
     "d9abe636a72c4e9abc709a4e8160b4d4": {
      "model_module": "@jupyter-widgets/controls",
      "model_module_version": "1.5.0",
      "model_name": "HTMLModel",
      "state": {
       "_dom_classes": [],
       "_model_module": "@jupyter-widgets/controls",
       "_model_module_version": "1.5.0",
       "_model_name": "HTMLModel",
       "_view_count": null,
       "_view_module": "@jupyter-widgets/controls",
       "_view_module_version": "1.5.0",
       "_view_name": "HTMLView",
       "description": "",
       "description_tooltip": null,
       "layout": "IPY_MODEL_05d35a5217484e5d995922e914ba5d29",
       "placeholder": "​",
       "style": "IPY_MODEL_a5e5c189060945c88a76f10c60306505",
       "value": "100%"
      }
     },
     "ee25a7de86fb42bf83ab8f6be273be55": {
      "model_module": "@jupyter-widgets/base",
      "model_module_version": "1.2.0",
      "model_name": "LayoutModel",
      "state": {
       "_model_module": "@jupyter-widgets/base",
       "_model_module_version": "1.2.0",
       "_model_name": "LayoutModel",
       "_view_count": null,
       "_view_module": "@jupyter-widgets/base",
       "_view_module_version": "1.2.0",
       "_view_name": "LayoutView",
       "align_content": null,
       "align_items": null,
       "align_self": null,
       "border": null,
       "bottom": null,
       "display": null,
       "flex": null,
       "flex_flow": null,
       "grid_area": null,
       "grid_auto_columns": null,
       "grid_auto_flow": null,
       "grid_auto_rows": null,
       "grid_column": null,
       "grid_gap": null,
       "grid_row": null,
       "grid_template_areas": null,
       "grid_template_columns": null,
       "grid_template_rows": null,
       "height": null,
       "justify_content": null,
       "justify_items": null,
       "left": null,
       "margin": null,
       "max_height": null,
       "max_width": null,
       "min_height": null,
       "min_width": null,
       "object_fit": null,
       "object_position": null,
       "order": null,
       "overflow": null,
       "overflow_x": null,
       "overflow_y": null,
       "padding": null,
       "right": null,
       "top": null,
       "visibility": null,
       "width": null
      }
     }
    },
    "version_major": 2,
    "version_minor": 0
   }
  }
 },
 "nbformat": 4,
 "nbformat_minor": 5
}
