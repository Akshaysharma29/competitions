{
 "cells": [
  {
   "cell_type": "code",
   "execution_count": 1,
   "id": "incorrect-fabric",
   "metadata": {
    "_cell_guid": "b1076dfc-b9ad-4769-8c92-a6c4dae69d19",
    "_uuid": "8f2839f25d086af736a60e9eeb907d3b93b6e0e5",
    "execution": {
     "iopub.execute_input": "2021-05-10T04:42:35.281997Z",
     "iopub.status.busy": "2021-05-10T04:42:35.280692Z",
     "iopub.status.idle": "2021-05-10T04:42:35.286243Z",
     "shell.execute_reply": "2021-05-10T04:42:35.286804Z"
    },
    "papermill": {
     "duration": 0.021662,
     "end_time": "2021-05-10T04:42:35.287178",
     "exception": false,
     "start_time": "2021-05-10T04:42:35.265516",
     "status": "completed"
    },
    "tags": []
   },
   "outputs": [],
   "source": [
    "# # This Python 3 environment comes with many helpful analytics libraries installed\n",
    "# # It is defined by the kaggle/python Docker image: https://github.com/kaggle/docker-python\n",
    "# # For example, here's several helpful packages to load\n",
    "\n",
    "# import numpy as np # linear algebra\n",
    "# import pandas as pd # data processing, CSV file I/O (e.g. pd.read_csv)\n",
    "\n",
    "# # Input data files are available in the read-only \"../input/\" directory\n",
    "# # For example, running this (by clicking run or pressing Shift+Enter) will list all files under the input directory\n",
    "\n",
    "# import os\n",
    "# for dirname, _, filenames in os.walk('/kaggle/input'):\n",
    "#     for filename in filenames:\n",
    "#         print(os.path.join(dirname, filename))\n",
    "\n",
    "# # You can write up to 20GB to the current directory (/kaggle/working/) that gets preserved as output when you create a version using \"Save & Run All\" \n",
    "# # You can also write temporary files to /kaggle/temp/, but they won't be saved outside of the current session"
   ]
  },
  {
   "cell_type": "code",
   "execution_count": 2,
   "id": "available-budapest",
   "metadata": {
    "execution": {
     "iopub.execute_input": "2021-05-10T04:42:35.317316Z",
     "iopub.status.busy": "2021-05-10T04:42:35.316589Z",
     "iopub.status.idle": "2021-05-10T04:42:35.442072Z",
     "shell.execute_reply": "2021-05-10T04:42:35.441275Z"
    },
    "papermill": {
     "duration": 0.146471,
     "end_time": "2021-05-10T04:42:35.442260",
     "exception": false,
     "start_time": "2021-05-10T04:42:35.295789",
     "status": "completed"
    },
    "tags": []
   },
   "outputs": [],
   "source": [
    "import pandas as pd \n",
    "train_data = pd.read_csv('../input/commonlitreadabilityprize/train.csv')"
   ]
  },
  {
   "cell_type": "code",
   "execution_count": 3,
   "id": "addressed-smoke",
   "metadata": {
    "execution": {
     "iopub.execute_input": "2021-05-10T04:42:35.464558Z",
     "iopub.status.busy": "2021-05-10T04:42:35.463857Z",
     "iopub.status.idle": "2021-05-10T04:42:35.501470Z",
     "shell.execute_reply": "2021-05-10T04:42:35.500821Z"
    },
    "papermill": {
     "duration": 0.050391,
     "end_time": "2021-05-10T04:42:35.501620",
     "exception": false,
     "start_time": "2021-05-10T04:42:35.451229",
     "status": "completed"
    },
    "tags": []
   },
   "outputs": [
    {
     "name": "stdout",
     "output_type": "stream",
     "text": [
      "2834\n"
     ]
    },
    {
     "data": {
      "text/html": [
       "<div>\n",
       "<style scoped>\n",
       "    .dataframe tbody tr th:only-of-type {\n",
       "        vertical-align: middle;\n",
       "    }\n",
       "\n",
       "    .dataframe tbody tr th {\n",
       "        vertical-align: top;\n",
       "    }\n",
       "\n",
       "    .dataframe thead th {\n",
       "        text-align: right;\n",
       "    }\n",
       "</style>\n",
       "<table border=\"1\" class=\"dataframe\">\n",
       "  <thead>\n",
       "    <tr style=\"text-align: right;\">\n",
       "      <th></th>\n",
       "      <th>id</th>\n",
       "      <th>url_legal</th>\n",
       "      <th>license</th>\n",
       "      <th>excerpt</th>\n",
       "      <th>target</th>\n",
       "      <th>standard_error</th>\n",
       "    </tr>\n",
       "  </thead>\n",
       "  <tbody>\n",
       "    <tr>\n",
       "      <th>0</th>\n",
       "      <td>c12129c31</td>\n",
       "      <td>NaN</td>\n",
       "      <td>NaN</td>\n",
       "      <td>When the young people returned to the ballroom...</td>\n",
       "      <td>-0.340259</td>\n",
       "      <td>0.464009</td>\n",
       "    </tr>\n",
       "    <tr>\n",
       "      <th>1</th>\n",
       "      <td>85aa80a4c</td>\n",
       "      <td>NaN</td>\n",
       "      <td>NaN</td>\n",
       "      <td>All through dinner time, Mrs. Fayre was somewh...</td>\n",
       "      <td>-0.315372</td>\n",
       "      <td>0.480805</td>\n",
       "    </tr>\n",
       "    <tr>\n",
       "      <th>2</th>\n",
       "      <td>b69ac6792</td>\n",
       "      <td>NaN</td>\n",
       "      <td>NaN</td>\n",
       "      <td>As Roger had predicted, the snow departed as q...</td>\n",
       "      <td>-0.580118</td>\n",
       "      <td>0.476676</td>\n",
       "    </tr>\n",
       "    <tr>\n",
       "      <th>3</th>\n",
       "      <td>dd1000b26</td>\n",
       "      <td>NaN</td>\n",
       "      <td>NaN</td>\n",
       "      <td>And outside before the palace a great garden w...</td>\n",
       "      <td>-1.054013</td>\n",
       "      <td>0.450007</td>\n",
       "    </tr>\n",
       "    <tr>\n",
       "      <th>4</th>\n",
       "      <td>37c1b32fb</td>\n",
       "      <td>NaN</td>\n",
       "      <td>NaN</td>\n",
       "      <td>Once upon a time there were Three Bears who li...</td>\n",
       "      <td>0.247197</td>\n",
       "      <td>0.510845</td>\n",
       "    </tr>\n",
       "  </tbody>\n",
       "</table>\n",
       "</div>"
      ],
      "text/plain": [
       "          id url_legal license  \\\n",
       "0  c12129c31       NaN     NaN   \n",
       "1  85aa80a4c       NaN     NaN   \n",
       "2  b69ac6792       NaN     NaN   \n",
       "3  dd1000b26       NaN     NaN   \n",
       "4  37c1b32fb       NaN     NaN   \n",
       "\n",
       "                                             excerpt    target  standard_error  \n",
       "0  When the young people returned to the ballroom... -0.340259        0.464009  \n",
       "1  All through dinner time, Mrs. Fayre was somewh... -0.315372        0.480805  \n",
       "2  As Roger had predicted, the snow departed as q... -0.580118        0.476676  \n",
       "3  And outside before the palace a great garden w... -1.054013        0.450007  \n",
       "4  Once upon a time there were Three Bears who li...  0.247197        0.510845  "
      ]
     },
     "execution_count": 3,
     "metadata": {},
     "output_type": "execute_result"
    }
   ],
   "source": [
    "print(len(train_data))\n",
    "train_data.head()"
   ]
  },
  {
   "cell_type": "code",
   "execution_count": 4,
   "id": "natural-childhood",
   "metadata": {
    "execution": {
     "iopub.execute_input": "2021-05-10T04:42:35.530296Z",
     "iopub.status.busy": "2021-05-10T04:42:35.529115Z",
     "iopub.status.idle": "2021-05-10T04:42:35.539446Z",
     "shell.execute_reply": "2021-05-10T04:42:35.538722Z"
    },
    "papermill": {
     "duration": 0.027842,
     "end_time": "2021-05-10T04:42:35.539611",
     "exception": false,
     "start_time": "2021-05-10T04:42:35.511769",
     "status": "completed"
    },
    "tags": []
   },
   "outputs": [
    {
     "data": {
      "text/plain": [
       " 0.000000    1\n",
       "-0.780457    1\n",
       "-1.532197    1\n",
       "-1.588662    1\n",
       "-2.000164    1\n",
       "            ..\n",
       "-0.003054    1\n",
       "-1.777244    1\n",
       "-1.702971    1\n",
       "-0.426176    1\n",
       "-0.209570    1\n",
       "Name: target, Length: 2834, dtype: int64"
      ]
     },
     "execution_count": 4,
     "metadata": {},
     "output_type": "execute_result"
    }
   ],
   "source": [
    "train_data['target'].value_counts()"
   ]
  },
  {
   "cell_type": "code",
   "execution_count": 5,
   "id": "charged-flight",
   "metadata": {
    "execution": {
     "iopub.execute_input": "2021-05-10T04:42:35.567618Z",
     "iopub.status.busy": "2021-05-10T04:42:35.566886Z",
     "iopub.status.idle": "2021-05-10T04:42:35.571267Z",
     "shell.execute_reply": "2021-05-10T04:42:35.570530Z"
    },
    "papermill": {
     "duration": 0.021625,
     "end_time": "2021-05-10T04:42:35.571441",
     "exception": false,
     "start_time": "2021-05-10T04:42:35.549816",
     "status": "completed"
    },
    "tags": []
   },
   "outputs": [
    {
     "name": "stdout",
     "output_type": "stream",
     "text": [
      "1.711389827 -3.676267773\n"
     ]
    }
   ],
   "source": [
    "mx = max(train_data['target'].values)\n",
    "mn = min(train_data['target'].values)\n",
    "print(mx,mn)"
   ]
  },
  {
   "cell_type": "code",
   "execution_count": 6,
   "id": "careful-footage",
   "metadata": {
    "execution": {
     "iopub.execute_input": "2021-05-10T04:42:35.618336Z",
     "iopub.status.busy": "2021-05-10T04:42:35.617555Z",
     "iopub.status.idle": "2021-05-10T04:42:35.829570Z",
     "shell.execute_reply": "2021-05-10T04:42:35.830226Z"
    },
    "papermill": {
     "duration": 0.248144,
     "end_time": "2021-05-10T04:42:35.830455",
     "exception": false,
     "start_time": "2021-05-10T04:42:35.582311",
     "status": "completed"
    },
    "tags": []
   },
   "outputs": [
    {
     "data": {
      "image/png": "[encoded data removed]",
      "text/plain": [
       "<Figure size 432x288 with 1 Axes>"
      ]
     },
     "metadata": {
      "needs_background": "light"
     },
     "output_type": "display_data"
    }
   ],
   "source": [
    "import matplotlib.pyplot as plt\n",
    "import numpy as np\n",
    "x = train_data['target'].values\n",
    "y = []\n",
    "for i in range(len(x)):\n",
    "    y.append(i)\n",
    "plt.scatter(x, y)\n",
    "plt.show()"
   ]
  },
  {
   "cell_type": "code",
   "execution_count": 7,
   "id": "increased-reality",
   "metadata": {
    "execution": {
     "iopub.execute_input": "2021-05-10T04:42:35.862320Z",
     "iopub.status.busy": "2021-05-10T04:42:35.861374Z",
     "iopub.status.idle": "2021-05-10T04:42:35.866707Z",
     "shell.execute_reply": "2021-05-10T04:42:35.866021Z"
    },
    "papermill": {
     "duration": 0.023458,
     "end_time": "2021-05-10T04:42:35.866871",
     "exception": false,
     "start_time": "2021-05-10T04:42:35.843413",
     "status": "completed"
    },
    "tags": []
   },
   "outputs": [
    {
     "name": "stdout",
     "output_type": "stream",
     "text": [
      "mean: -0.9593187699947071\n",
      "std: 1.033396832247627\n"
     ]
    }
   ],
   "source": [
    "mean = np.mean(x)\n",
    "std = np.std(x)\n",
    "print('mean:',mean)\n",
    "print('std:',std)"
   ]
  },
  {
   "cell_type": "code",
   "execution_count": 8,
   "id": "dried-listening",
   "metadata": {
    "execution": {
     "iopub.execute_input": "2021-05-10T04:42:35.923236Z",
     "iopub.status.busy": "2021-05-10T04:42:35.904080Z",
     "iopub.status.idle": "2021-05-10T04:42:35.970782Z",
     "shell.execute_reply": "2021-05-10T04:42:35.971365Z"
    },
    "papermill": {
     "duration": 0.091711,
     "end_time": "2021-05-10T04:42:35.971572",
     "exception": false,
     "start_time": "2021-05-10T04:42:35.879861",
     "status": "completed"
    },
    "tags": []
   },
   "outputs": [
    {
     "name": "stdout",
     "output_type": "stream",
     "text": [
      "Total number of outlier in dataset is: 390  for thresold: 1.5\n",
      "--------------------------------\n",
      "--------------------------------\n",
      "Total number of outlier in dataset is: 306  for thresold: 1.6\n",
      "--------------------------------\n",
      "--------------------------------\n",
      "Total number of outlier in dataset is: 250  for thresold: 1.7000000000000002\n",
      "--------------------------------\n",
      "--------------------------------\n",
      "Total number of outlier in dataset is: 189  for thresold: 1.8000000000000003\n",
      "--------------------------------\n",
      "--------------------------------\n",
      "Total number of outlier in dataset is: 144  for thresold: 1.9000000000000004\n",
      "--------------------------------\n",
      "--------------------------------\n",
      "Total number of outlier in dataset is: 106  for thresold: 2.0000000000000004\n",
      "--------------------------------\n",
      "--------------------------------\n",
      "Total number of outlier in dataset is: 82  for thresold: 2.1000000000000005\n",
      "--------------------------------\n",
      "--------------------------------\n",
      "Total number of outlier in dataset is: 57  for thresold: 2.2000000000000006\n",
      "--------------------------------\n",
      "--------------------------------\n",
      "Total number of outlier in dataset is: 38  for thresold: 2.3000000000000007\n",
      "--------------------------------\n",
      "--------------------------------\n",
      "Total number of outlier in dataset is: 20  for thresold: 2.400000000000001\n",
      "--------------------------------\n",
      "--------------------------------\n",
      "Total number of outlier in dataset is: 10  for thresold: 2.500000000000001\n",
      "--------------------------------\n",
      "--------------------------------\n",
      "Total number of outlier in dataset is: 2  for thresold: 2.600000000000001\n",
      "--------------------------------\n",
      "--------------------------------\n",
      "Total number of outlier in dataset is: 0  for thresold: 2.700000000000001\n",
      "--------------------------------\n",
      "--------------------------------\n",
      "Total number of outlier in dataset is: 0  for thresold: 2.800000000000001\n",
      "--------------------------------\n",
      "--------------------------------\n",
      "Total number of outlier in dataset is: 0  for thresold: 2.9000000000000012\n",
      "--------------------------------\n",
      "--------------------------------\n"
     ]
    }
   ],
   "source": [
    "# threshold = 3\n",
    "thresholds = list(np.arange(1.5,3,0.1))\n",
    "for threshold in thresholds:\n",
    "    outlier = []\n",
    "    for i in x:\n",
    "        z = (i-mean)/std\n",
    "        if abs(z) > threshold:\n",
    "            outlier.append(i)\n",
    "    print('Total number of outlier in dataset is:', len(outlier), ' for thresold:',threshold)\n",
    "#     print('outlier in dataset is', outlier)\n",
    "    print('--------------------------------')\n",
    "    print('--------------------------------')"
   ]
  },
  {
   "cell_type": "code",
   "execution_count": null,
   "id": "global-courtesy",
   "metadata": {
    "papermill": {
     "duration": 0.013356,
     "end_time": "2021-05-10T04:42:35.998744",
     "exception": false,
     "start_time": "2021-05-10T04:42:35.985388",
     "status": "completed"
    },
    "tags": []
   },
   "outputs": [],
   "source": []
  },
  {
   "cell_type": "code",
   "execution_count": null,
   "id": "significant-shannon",
   "metadata": {
    "papermill": {
     "duration": 0.012864,
     "end_time": "2021-05-10T04:42:36.025281",
     "exception": false,
     "start_time": "2021-05-10T04:42:36.012417",
     "status": "completed"
    },
    "tags": []
   },
   "outputs": [],
   "source": []
  }
 ],
 "metadata": {
  "kernelspec": {
   "display_name": "Python 3",
   "language": "python",
   "name": "python3"
  },
  "language_info": {
   "codemirror_mode": {
    "name": "ipython",
    "version": 3
   },
   "file_extension": ".py",
   "mimetype": "text/x-python",
   "name": "python",
   "nbconvert_exporter": "python",
   "pygments_lexer": "ipython3",
   "version": "3.7.10"
  },
  "papermill": {
   "default_parameters": {},
   "duration": 12.016726,
   "end_time": "2021-05-10T04:42:37.700587",
   "environment_variables": {},
   "exception": null,
   "input_path": "__notebook__.ipynb",
   "output_path": "__notebook__.ipynb",
   "parameters": {},
   "start_time": "2021-05-10T04:42:25.683861",
   "version": "2.3.3"
  }
 },
 "nbformat": 4,
 "nbformat_minor": 5
}
