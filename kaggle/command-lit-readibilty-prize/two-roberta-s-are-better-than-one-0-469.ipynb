{
 "cells": [
  {
   "cell_type": "markdown",
   "id": "bigger-draft",
   "metadata": {
    "papermill": {
     "duration": 0.015168,
     "end_time": "2021-05-31T04:33:03.515514",
     "exception": false,
     "start_time": "2021-05-31T04:33:03.500346",
     "status": "completed"
    },
    "tags": []
   },
   "source": [
    "## A simple average of my two previous kernels\n",
    "\n",
    "1. RoBERTa-Base -> [CommonLit Readability Prize - RoBERTa Torch|Infer](https://www.kaggle.com/rhtsingh/commonlit-readability-prize-roberta-torch-infer)\n",
    "\n",
    "2. RoBERTa-Large -> [CommonLit Readability Prize-RoBERTa Torch|Infer 2](https://www.kaggle.com/rhtsingh/commonlit-readability-prize-roberta-torch-infer-2)\n",
    "\n",
    "### P.S. What's Coming Soon -   \n",
    "1. [CommonLit Readability Prize - RoBERTa Torch|FIT](https://www.kaggle.com/rhtsingh/commonlit-readability-prize-roberta-torch-fit) fixed version.  \n",
    "2. **CommonLit Readability Prize - RoBERTa Torch|FIT 2** Dynamic Padding + Sequence Bucketing, Stochastic Weight Averaging, MIXOUT, Utilizing Different Transformer Layers (LSTM, Attention) **all in one kernel maybe**\n",
    "3. **Multi-Task Learning**  "
   ]
  },
  {
   "cell_type": "markdown",
   "id": "original-external",
   "metadata": {
    "papermill": {
     "duration": 0.013883,
     "end_time": "2021-05-31T04:33:03.543703",
     "exception": false,
     "start_time": "2021-05-31T04:33:03.529820",
     "status": "completed"
    },
    "tags": []
   },
   "source": [
    "### Please upvote before Fork ;)"
   ]
  },
  {
   "cell_type": "markdown",
   "id": "liberal-trauma",
   "metadata": {
    "papermill": {
     "duration": 0.013853,
     "end_time": "2021-05-31T04:33:03.571616",
     "exception": false,
     "start_time": "2021-05-31T04:33:03.557763",
     "status": "completed"
    },
    "tags": []
   },
   "source": [
    "### Load Test Dataset"
   ]
  },
  {
   "cell_type": "code",
   "execution_count": 1,
   "id": "moderate-kentucky",
   "metadata": {
    "execution": {
     "iopub.execute_input": "2021-05-31T04:33:03.606116Z",
     "iopub.status.busy": "2021-05-31T04:33:03.604665Z",
     "iopub.status.idle": "2021-05-31T04:33:03.700804Z",
     "shell.execute_reply": "2021-05-31T04:33:03.701488Z",
     "shell.execute_reply.started": "2021-05-25T12:47:43.055151Z"
    },
    "papermill": {
     "duration": 0.114686,
     "end_time": "2021-05-31T04:33:03.701726",
     "exception": false,
     "start_time": "2021-05-31T04:33:03.587040",
     "status": "completed"
    },
    "tags": []
   },
   "outputs": [],
   "source": [
    "import pandas as pd\n",
    "import numpy as np\n",
    "\n",
    "train = pd.read_csv('../input/commonlitreadabilityprize/train.csv')\n",
    "test = pd.read_csv('../input/commonlitreadabilityprize/test.csv')"
   ]
  },
  {
   "cell_type": "markdown",
   "id": "forty-begin",
   "metadata": {
    "papermill": {
     "duration": 0.014032,
     "end_time": "2021-05-31T04:33:03.730275",
     "exception": false,
     "start_time": "2021-05-31T04:33:03.716243",
     "status": "completed"
    },
    "tags": []
   },
   "source": [
    "### Import Dependencies"
   ]
  },
  {
   "cell_type": "code",
   "execution_count": 2,
   "id": "public-jimmy",
   "metadata": {
    "execution": {
     "iopub.execute_input": "2021-05-31T04:33:03.765043Z",
     "iopub.status.busy": "2021-05-31T04:33:03.764335Z",
     "iopub.status.idle": "2021-05-31T04:33:03.767040Z",
     "shell.execute_reply": "2021-05-31T04:33:03.766641Z",
     "shell.execute_reply.started": "2021-05-25T12:47:43.136128Z"
    },
    "papermill": {
     "duration": 0.022696,
     "end_time": "2021-05-31T04:33:03.767152",
     "exception": false,
     "start_time": "2021-05-31T04:33:03.744456",
     "status": "completed"
    },
    "tags": []
   },
   "outputs": [],
   "source": [
    "%matplotlib inline\n",
    "from glob import glob\n",
    "import os\n",
    "import matplotlib.pyplot as plt\n",
    "import json\n",
    "from collections import defaultdict\n",
    "import gc\n",
    "gc.enable()"
   ]
  },
  {
   "cell_type": "code",
   "execution_count": 3,
   "id": "altered-liberty",
   "metadata": {
    "execution": {
     "iopub.execute_input": "2021-05-31T04:33:03.800137Z",
     "iopub.status.busy": "2021-05-31T04:33:03.799593Z",
     "iopub.status.idle": "2021-05-31T04:33:10.154305Z",
     "shell.execute_reply": "2021-05-31T04:33:10.153814Z",
     "shell.execute_reply.started": "2021-05-25T12:47:43.145144Z"
    },
    "papermill": {
     "duration": 6.373338,
     "end_time": "2021-05-31T04:33:10.154486",
     "exception": false,
     "start_time": "2021-05-31T04:33:03.781148",
     "status": "completed"
    },
    "tags": []
   },
   "outputs": [],
   "source": [
    "import torch\n",
    "import torch.nn as nn\n",
    "import torch.nn.functional as F\n",
    "import torch.optim as optim\n",
    "from torch.optim.optimizer import Optimizer\n",
    "import torch.optim.lr_scheduler as lr_scheduler\n",
    "from torch.utils.data import (\n",
    "    Dataset, DataLoader, \n",
    "    SequentialSampler, RandomSampler\n",
    ")\n",
    "from transformers import RobertaConfig\n",
    "from transformers import (\n",
    "    get_cosine_schedule_with_warmup, \n",
    "    get_cosine_with_hard_restarts_schedule_with_warmup\n",
    ")\n",
    "from transformers import RobertaTokenizer\n",
    "from transformers import RobertaModel\n",
    "from IPython.display import clear_output\n",
    "from tqdm import tqdm, trange"
   ]
  },
  {
   "cell_type": "markdown",
   "id": "several-sleep",
   "metadata": {
    "papermill": {
     "duration": 0.013946,
     "end_time": "2021-05-31T04:33:10.183130",
     "exception": false,
     "start_time": "2021-05-31T04:33:10.169184",
     "status": "completed"
    },
    "tags": []
   },
   "source": [
    "### Convert Examples `(Excerpt)` to Features"
   ]
  },
  {
   "cell_type": "code",
   "execution_count": 4,
   "id": "shared-evaluation",
   "metadata": {
    "execution": {
     "iopub.execute_input": "2021-05-31T04:33:10.217328Z",
     "iopub.status.busy": "2021-05-31T04:33:10.216632Z",
     "iopub.status.idle": "2021-05-31T04:33:10.218987Z",
     "shell.execute_reply": "2021-05-31T04:33:10.219337Z",
     "shell.execute_reply.started": "2021-05-25T12:47:49.233977Z"
    },
    "papermill": {
     "duration": 0.022365,
     "end_time": "2021-05-31T04:33:10.219480",
     "exception": false,
     "start_time": "2021-05-31T04:33:10.197115",
     "status": "completed"
    },
    "tags": []
   },
   "outputs": [],
   "source": [
    "def convert_examples_to_features(data, tokenizer, max_len, is_test=False):\n",
    "    data = data.replace('\\n', '')\n",
    "    tok = tokenizer.encode_plus(\n",
    "        data, \n",
    "        max_length=max_len, \n",
    "        truncation=True,\n",
    "        return_attention_mask=True,\n",
    "        return_token_type_ids=True\n",
    "    )\n",
    "    curr_sent = {}\n",
    "    padding_length = max_len - len(tok['input_ids'])\n",
    "    curr_sent['input_ids'] = tok['input_ids'] + ([0] * padding_length)\n",
    "    curr_sent['token_type_ids'] = tok['token_type_ids'] + \\\n",
    "        ([0] * padding_length)\n",
    "    curr_sent['attention_mask'] = tok['attention_mask'] + \\\n",
    "        ([0] * padding_length)\n",
    "    return curr_sent"
   ]
  },
  {
   "cell_type": "markdown",
   "id": "clean-parallel",
   "metadata": {
    "papermill": {
     "duration": 0.013802,
     "end_time": "2021-05-31T04:33:10.247295",
     "exception": false,
     "start_time": "2021-05-31T04:33:10.233493",
     "status": "completed"
    },
    "tags": []
   },
   "source": [
    "### Dataset Retriever"
   ]
  },
  {
   "cell_type": "code",
   "execution_count": 5,
   "id": "administrative-stroke",
   "metadata": {
    "execution": {
     "iopub.execute_input": "2021-05-31T04:33:10.286721Z",
     "iopub.status.busy": "2021-05-31T04:33:10.285378Z",
     "iopub.status.idle": "2021-05-31T04:33:10.288240Z",
     "shell.execute_reply": "2021-05-31T04:33:10.287853Z",
     "shell.execute_reply.started": "2021-05-25T12:47:49.243322Z"
    },
    "papermill": {
     "duration": 0.02657,
     "end_time": "2021-05-31T04:33:10.288341",
     "exception": false,
     "start_time": "2021-05-31T04:33:10.261771",
     "status": "completed"
    },
    "tags": []
   },
   "outputs": [],
   "source": [
    "class DatasetRetriever(Dataset):\n",
    "    def __init__(self, data, tokenizer, max_len, is_test=False):\n",
    "        self.data = data\n",
    "        self.excerpts = self.data.excerpt.values.tolist()\n",
    "        self.tokenizer = tokenizer\n",
    "        self.is_test = is_test\n",
    "        self.max_len = max_len\n",
    "    \n",
    "    def __len__(self):\n",
    "        return len(self.data)\n",
    "    \n",
    "    def __getitem__(self, item):\n",
    "        if not self.is_test:\n",
    "            excerpt, label = self.excerpts[item], self.targets[item]\n",
    "            features = convert_examples_to_features(\n",
    "                excerpt, self.tokenizer, \n",
    "                self.max_len, self.is_test\n",
    "            )\n",
    "            return {\n",
    "                'input_ids':torch.tensor(features['input_ids'], dtype=torch.long),\n",
    "                'token_type_ids':torch.tensor(features['token_type_ids'], dtype=torch.long),\n",
    "                'attention_mask':torch.tensor(features['attention_mask'], dtype=torch.long),\n",
    "                'label':torch.tensor(label, dtype=torch.double),\n",
    "            }\n",
    "        else:\n",
    "            excerpt = self.excerpts[item]\n",
    "            features = convert_examples_to_features(\n",
    "                excerpt, self.tokenizer, \n",
    "                self.max_len, self.is_test\n",
    "            )\n",
    "            return {\n",
    "                'input_ids':torch.tensor(features['input_ids'], dtype=torch.long),\n",
    "                'token_type_ids':torch.tensor(features['token_type_ids'], dtype=torch.long),\n",
    "                'attention_mask':torch.tensor(features['attention_mask'], dtype=torch.long),\n",
    "            }"
   ]
  },
  {
   "cell_type": "markdown",
   "id": "rolled-harbor",
   "metadata": {
    "papermill": {
     "duration": 0.013808,
     "end_time": "2021-05-31T04:33:10.316314",
     "exception": false,
     "start_time": "2021-05-31T04:33:10.302506",
     "status": "completed"
    },
    "tags": []
   },
   "source": [
    "### Model"
   ]
  },
  {
   "cell_type": "code",
   "execution_count": 6,
   "id": "exposed-pharmacology",
   "metadata": {
    "execution": {
     "iopub.execute_input": "2021-05-31T04:33:10.357500Z",
     "iopub.status.busy": "2021-05-31T04:33:10.352074Z",
     "iopub.status.idle": "2021-05-31T04:33:10.359518Z",
     "shell.execute_reply": "2021-05-31T04:33:10.359941Z",
     "shell.execute_reply.started": "2021-05-25T12:47:49.255821Z"
    },
    "papermill": {
     "duration": 0.029731,
     "end_time": "2021-05-31T04:33:10.360053",
     "exception": false,
     "start_time": "2021-05-31T04:33:10.330322",
     "status": "completed"
    },
    "tags": []
   },
   "outputs": [],
   "source": [
    "class CommonLitModel(nn.Module):\n",
    "    def __init__(\n",
    "        self, \n",
    "        model_name, \n",
    "        config,  \n",
    "        multisample_dropout=False,\n",
    "        output_hidden_states=False\n",
    "    ):\n",
    "        super(CommonLitModel, self).__init__()\n",
    "        self.config = config\n",
    "        self.roberta = RobertaModel.from_pretrained(\n",
    "            model_name, \n",
    "            output_hidden_states=output_hidden_states\n",
    "        )\n",
    "        self.layer_norm = nn.LayerNorm(config.hidden_size)\n",
    "        if multisample_dropout:\n",
    "            self.dropouts = nn.ModuleList([\n",
    "                nn.Dropout(0.5) for _ in range(5)\n",
    "            ])\n",
    "        else:\n",
    "            self.dropouts = nn.ModuleList([nn.Dropout(0.3)])\n",
    "        self.regressor = nn.Linear(config.hidden_size, 1)\n",
    "        self._init_weights(self.layer_norm)\n",
    "        self._init_weights(self.regressor)\n",
    " \n",
    "    def _init_weights(self, module):\n",
    "        if isinstance(module, nn.Linear):\n",
    "            module.weight.data.normal_(mean=0.0, std=self.config.initializer_range)\n",
    "            if module.bias is not None:\n",
    "                module.bias.data.zero_()\n",
    "        elif isinstance(module, nn.Embedding):\n",
    "            module.weight.data.normal_(mean=0.0, std=self.config.initializer_range)\n",
    "            if module.padding_idx is not None:\n",
    "                module.weight.data[module.padding_idx].zero_()\n",
    "        elif isinstance(module, nn.LayerNorm):\n",
    "            module.bias.data.zero_()\n",
    "            module.weight.data.fill_(1.0)\n",
    " \n",
    "    def forward(\n",
    "        self, \n",
    "        input_ids=None,\n",
    "        attention_mask=None,\n",
    "        token_type_ids=None,\n",
    "        labels=None\n",
    "    ):\n",
    "        outputs = self.roberta(\n",
    "            input_ids,\n",
    "            attention_mask=attention_mask,\n",
    "            token_type_ids=token_type_ids,\n",
    "        )\n",
    "        sequence_output = outputs[1]\n",
    "        sequence_output = self.layer_norm(sequence_output)\n",
    " \n",
    "        # multi-sample dropout\n",
    "        for i, dropout in enumerate(self.dropouts):\n",
    "            if i == 0:\n",
    "                logits = self.regressor(dropout(sequence_output))\n",
    "            else:\n",
    "                logits += self.regressor(dropout(sequence_output))\n",
    "        \n",
    "        logits /= len(self.dropouts)\n",
    " \n",
    "        # calculate loss\n",
    "        loss = None\n",
    "        if labels is not None:\n",
    "            loss_fn = torch.nn.MSELoss()\n",
    "            logits = logits.view(-1).to(labels.dtype)\n",
    "            loss = torch.sqrt(loss_fn(logits, labels.view(-1)))\n",
    "        \n",
    "        output = (logits,) + outputs[1:]\n",
    "        return ((loss,) + output) if loss is not None else output"
   ]
  },
  {
   "cell_type": "markdown",
   "id": "invalid-situation",
   "metadata": {
    "papermill": {
     "duration": 0.013848,
     "end_time": "2021-05-31T04:33:10.387834",
     "exception": false,
     "start_time": "2021-05-31T04:33:10.373986",
     "status": "completed"
    },
    "tags": []
   },
   "source": [
    "### Utils"
   ]
  },
  {
   "cell_type": "code",
   "execution_count": 7,
   "id": "crude-region",
   "metadata": {
    "execution": {
     "iopub.execute_input": "2021-05-31T04:33:10.421488Z",
     "iopub.status.busy": "2021-05-31T04:33:10.420830Z",
     "iopub.status.idle": "2021-05-31T04:33:10.423086Z",
     "shell.execute_reply": "2021-05-31T04:33:10.423502Z",
     "shell.execute_reply.started": "2021-05-25T12:47:49.27287Z"
    },
    "papermill": {
     "duration": 0.021693,
     "end_time": "2021-05-31T04:33:10.423617",
     "exception": false,
     "start_time": "2021-05-31T04:33:10.401924",
     "status": "completed"
    },
    "tags": []
   },
   "outputs": [],
   "source": [
    "def make_model(model_name='roberta-large', num_labels=1):\n",
    "    tokenizer = RobertaTokenizer.from_pretrained(model_name)\n",
    "    config = RobertaConfig.from_pretrained(model_name)\n",
    "    config.update({'num_labels':num_labels})\n",
    "    model = CommonLitModel(model_name, config=config)\n",
    "    return model, tokenizer\n",
    "\n",
    "def make_loader(\n",
    "    data, \n",
    "    tokenizer, \n",
    "    max_len,\n",
    "    batch_size,\n",
    "):\n",
    "    \n",
    "    test_dataset = DatasetRetriever(data, tokenizer, max_len, is_test=True)\n",
    "    test_sampler = SequentialSampler(test_dataset)\n",
    "    test_loader = DataLoader(\n",
    "        test_dataset, \n",
    "        batch_size=batch_size // 2, \n",
    "        sampler=test_sampler, \n",
    "        pin_memory=False, \n",
    "        drop_last=False, \n",
    "        num_workers=0\n",
    "    )\n",
    "\n",
    "    return test_loader"
   ]
  },
  {
   "cell_type": "markdown",
   "id": "foreign-practice",
   "metadata": {
    "papermill": {
     "duration": 0.013841,
     "end_time": "2021-05-31T04:33:10.451437",
     "exception": false,
     "start_time": "2021-05-31T04:33:10.437596",
     "status": "completed"
    },
    "tags": []
   },
   "source": [
    "### Evaluator"
   ]
  },
  {
   "cell_type": "code",
   "execution_count": 8,
   "id": "disciplinary-grave",
   "metadata": {
    "execution": {
     "iopub.execute_input": "2021-05-31T04:33:10.486662Z",
     "iopub.status.busy": "2021-05-31T04:33:10.486009Z",
     "iopub.status.idle": "2021-05-31T04:33:10.488769Z",
     "shell.execute_reply": "2021-05-31T04:33:10.488349Z",
     "shell.execute_reply.started": "2021-05-25T12:47:49.284136Z"
    },
    "papermill": {
     "duration": 0.023432,
     "end_time": "2021-05-31T04:33:10.488870",
     "exception": false,
     "start_time": "2021-05-31T04:33:10.465438",
     "status": "completed"
    },
    "tags": []
   },
   "outputs": [],
   "source": [
    "class Evaluator:\n",
    "    def __init__(self, model, scalar=None):\n",
    "        self.model = model\n",
    "        self.scalar = scalar\n",
    "\n",
    "    def evaluate(self, data_loader, tokenizer):\n",
    "        preds = []\n",
    "        self.model.eval()\n",
    "        total_loss = 0\n",
    "        with torch.no_grad():\n",
    "            for batch_idx, batch_data in enumerate(data_loader):\n",
    "                input_ids, attention_mask, token_type_ids = batch_data['input_ids'], \\\n",
    "                    batch_data['attention_mask'], batch_data['token_type_ids']\n",
    "                input_ids, attention_mask, token_type_ids = input_ids.cuda(), \\\n",
    "                    attention_mask.cuda(), token_type_ids.cuda()\n",
    "                \n",
    "                if self.scalar is not None:\n",
    "                    with torch.cuda.amp.autocast():\n",
    "                        outputs = self.model(\n",
    "                            input_ids=input_ids,\n",
    "                            attention_mask=attention_mask,\n",
    "                            token_type_ids=token_type_ids\n",
    "                        )\n",
    "                else:\n",
    "                    outputs = self.model(\n",
    "                        input_ids=input_ids,\n",
    "                        attention_mask=attention_mask,\n",
    "                        token_type_ids=token_type_ids\n",
    "                    )\n",
    "                \n",
    "                logits = outputs[0].detach().cpu().numpy().squeeze().tolist()\n",
    "                preds += logits\n",
    "        return preds"
   ]
  },
  {
   "cell_type": "markdown",
   "id": "bibliographic-tonight",
   "metadata": {
    "papermill": {
     "duration": 0.013881,
     "end_time": "2021-05-31T04:33:10.517093",
     "exception": false,
     "start_time": "2021-05-31T04:33:10.503212",
     "status": "completed"
    },
    "tags": []
   },
   "source": [
    "### Config"
   ]
  },
  {
   "cell_type": "code",
   "execution_count": 9,
   "id": "suburban-xerox",
   "metadata": {
    "execution": {
     "iopub.execute_input": "2021-05-31T04:33:10.551733Z",
     "iopub.status.busy": "2021-05-31T04:33:10.551051Z",
     "iopub.status.idle": "2021-05-31T04:33:10.553702Z",
     "shell.execute_reply": "2021-05-31T04:33:10.553208Z",
     "shell.execute_reply.started": "2021-05-25T12:48:27.15988Z"
    },
    "papermill": {
     "duration": 0.022593,
     "end_time": "2021-05-31T04:33:10.553802",
     "exception": false,
     "start_time": "2021-05-31T04:33:10.531209",
     "status": "completed"
    },
    "tags": []
   },
   "outputs": [],
   "source": [
    " def config(fold, model_name, load_model_path):\n",
    "    torch.manual_seed(2021)\n",
    "    torch.cuda.manual_seed(2021)\n",
    "    torch.cuda.manual_seed_all(2021)\n",
    "    \n",
    "    max_len = 250\n",
    "    batch_size = 8\n",
    "\n",
    "    model, tokenizer = make_model(\n",
    "        model_name=model_name, \n",
    "        num_labels=1\n",
    "    )\n",
    "    model.load_state_dict(\n",
    "        torch.load(f'{load_model_path}/model{fold}.bin')\n",
    "    )\n",
    "    test_loader = make_loader(\n",
    "        test, tokenizer, max_len=max_len,\n",
    "        batch_size=batch_size\n",
    "    )\n",
    "\n",
    "    if torch.cuda.device_count() >= 1:\n",
    "        print('Model pushed to {} GPU(s), type {}.'.format(\n",
    "            torch.cuda.device_count(), \n",
    "            torch.cuda.get_device_name(0))\n",
    "        )\n",
    "        model = model.cuda() \n",
    "    else:\n",
    "        raise ValueError('CPU training is not supported')\n",
    "\n",
    "    # scaler = torch.cuda.amp.GradScaler()\n",
    "    scaler = None\n",
    "    return (\n",
    "        model, tokenizer, \n",
    "        test_loader, scaler\n",
    "    )"
   ]
  },
  {
   "cell_type": "markdown",
   "id": "touched-internet",
   "metadata": {
    "papermill": {
     "duration": 0.013848,
     "end_time": "2021-05-31T04:33:10.581581",
     "exception": false,
     "start_time": "2021-05-31T04:33:10.567733",
     "status": "completed"
    },
    "tags": []
   },
   "source": [
    "### Run"
   ]
  },
  {
   "cell_type": "code",
   "execution_count": 10,
   "id": "built-absorption",
   "metadata": {
    "execution": {
     "iopub.execute_input": "2021-05-31T04:33:10.615142Z",
     "iopub.status.busy": "2021-05-31T04:33:10.614482Z",
     "iopub.status.idle": "2021-05-31T04:33:10.617177Z",
     "shell.execute_reply": "2021-05-31T04:33:10.616780Z",
     "shell.execute_reply.started": "2021-05-25T12:49:17.10083Z"
    },
    "papermill": {
     "duration": 0.021668,
     "end_time": "2021-05-31T04:33:10.617279",
     "exception": false,
     "start_time": "2021-05-31T04:33:10.595611",
     "status": "completed"
    },
    "tags": []
   },
   "outputs": [],
   "source": [
    "def run(fold=0, model_name=None, load_model_path=None):\n",
    "    model, tokenizer, \\\n",
    "        test_loader, scaler = config(fold, model_name, load_model_path)\n",
    "    \n",
    "    import time\n",
    "\n",
    "    evaluator = Evaluator(model, scaler)\n",
    "\n",
    "    test_time_list = []\n",
    "\n",
    "    torch.cuda.synchronize()\n",
    "    tic1 = time.time()\n",
    "\n",
    "    preds = evaluator.evaluate(test_loader, tokenizer)\n",
    "\n",
    "    torch.cuda.synchronize()\n",
    "    tic2 = time.time() \n",
    "    test_time_list.append(tic2 - tic1)\n",
    "    \n",
    "    del model, tokenizer, test_loader, scaler\n",
    "    gc.collect()\n",
    "    torch.cuda.empty_cache()\n",
    "    \n",
    "    return preds"
   ]
  },
  {
   "cell_type": "code",
   "execution_count": 11,
   "id": "arctic-superintendent",
   "metadata": {
    "execution": {
     "iopub.execute_input": "2021-05-31T04:33:10.650588Z",
     "iopub.status.busy": "2021-05-31T04:33:10.649914Z",
     "iopub.status.idle": "2021-05-31T04:36:28.629608Z",
     "shell.execute_reply": "2021-05-31T04:36:28.629109Z",
     "shell.execute_reply.started": "2021-05-25T12:50:19.668749Z"
    },
    "papermill": {
     "duration": 197.99816,
     "end_time": "2021-05-31T04:36:28.629742",
     "exception": false,
     "start_time": "2021-05-31T04:33:10.631582",
     "status": "completed"
    },
    "tags": []
   },
   "outputs": [
    {
     "name": "stderr",
     "output_type": "stream",
     "text": [
      "  0%|          | 0/5 [00:00<?, ?it/s]"
     ]
    },
    {
     "name": "stdout",
     "output_type": "stream",
     "text": [
      "Model pushed to 1 GPU(s), type Tesla P100-PCIE-16GB.\n",
      "Model pushed to 1 GPU(s), type Tesla P100-PCIE-16GB.\n"
     ]
    },
    {
     "name": "stderr",
     "output_type": "stream",
     "text": [
      " 20%|██        | 1/5 [01:00<04:03, 60.91s/it]"
     ]
    },
    {
     "name": "stdout",
     "output_type": "stream",
     "text": [
      "Model pushed to 1 GPU(s), type Tesla P100-PCIE-16GB.\n",
      "Model pushed to 1 GPU(s), type Tesla P100-PCIE-16GB.\n"
     ]
    },
    {
     "name": "stderr",
     "output_type": "stream",
     "text": [
      " 40%|████      | 2/5 [01:36<02:17, 45.73s/it]"
     ]
    },
    {
     "name": "stdout",
     "output_type": "stream",
     "text": [
      "Model pushed to 1 GPU(s), type Tesla P100-PCIE-16GB.\n",
      "Model pushed to 1 GPU(s), type Tesla P100-PCIE-16GB.\n"
     ]
    },
    {
     "name": "stderr",
     "output_type": "stream",
     "text": [
      " 60%|██████    | 3/5 [02:10<01:20, 40.39s/it]"
     ]
    },
    {
     "name": "stdout",
     "output_type": "stream",
     "text": [
      "Model pushed to 1 GPU(s), type Tesla P100-PCIE-16GB.\n",
      "Model pushed to 1 GPU(s), type Tesla P100-PCIE-16GB.\n"
     ]
    },
    {
     "name": "stderr",
     "output_type": "stream",
     "text": [
      " 80%|████████  | 4/5 [02:45<00:38, 38.35s/it]"
     ]
    },
    {
     "name": "stdout",
     "output_type": "stream",
     "text": [
      "Model pushed to 1 GPU(s), type Tesla P100-PCIE-16GB.\n",
      "Model pushed to 1 GPU(s), type Tesla P100-PCIE-16GB.\n"
     ]
    },
    {
     "name": "stderr",
     "output_type": "stream",
     "text": [
      "100%|██████████| 5/5 [03:17<00:00, 39.59s/it]\n"
     ]
    }
   ],
   "source": [
    "pred_df1 = pd.DataFrame()\n",
    "pred_df2 = pd.DataFrame()\n",
    "for fold in tqdm(range(5)):\n",
    "    pred_df1[f'fold{fold}'] = run(fold, '../input/roberta-base/', '../input/commonlit-roberta-base-i/')\n",
    "    pred_df2[f'fold{fold}'] = run(fold, '../input/robertalarge/', '../input/roberta-large-itptfit/')"
   ]
  },
  {
   "cell_type": "markdown",
   "id": "funded-offer",
   "metadata": {
    "papermill": {
     "duration": 0.018691,
     "end_time": "2021-05-31T04:36:28.667293",
     "exception": false,
     "start_time": "2021-05-31T04:36:28.648602",
     "status": "completed"
    },
    "tags": []
   },
   "source": [
    "### Make Submission"
   ]
  },
  {
   "cell_type": "code",
   "execution_count": 12,
   "id": "clear-keyboard",
   "metadata": {
    "execution": {
     "iopub.execute_input": "2021-05-31T04:36:28.711508Z",
     "iopub.status.busy": "2021-05-31T04:36:28.710848Z",
     "iopub.status.idle": "2021-05-31T04:36:28.991918Z",
     "shell.execute_reply": "2021-05-31T04:36:28.990919Z",
     "shell.execute_reply.started": "2021-05-25T13:05:42.66897Z"
    },
    "papermill": {
     "duration": 0.30598,
     "end_time": "2021-05-31T04:36:28.992056",
     "exception": false,
     "start_time": "2021-05-31T04:36:28.686076",
     "status": "completed"
    },
    "tags": []
   },
   "outputs": [],
   "source": [
    "sub = pd.read_csv('../input/commonlitreadabilityprize/sample_submission.csv')\n",
    "sub['target'] = ((pred_df1.mean(axis=1) + pred_df2.mean(axis=1))/2).values.tolist()\n",
    "sub.to_csv('submission.csv', index=False)"
   ]
  },
  {
   "cell_type": "code",
   "execution_count": 13,
   "id": "corresponding-paper",
   "metadata": {
    "execution": {
     "iopub.execute_input": "2021-05-31T04:36:29.039889Z",
     "iopub.status.busy": "2021-05-31T04:36:29.039164Z",
     "iopub.status.idle": "2021-05-31T04:36:29.046853Z",
     "shell.execute_reply": "2021-05-31T04:36:29.047228Z",
     "shell.execute_reply.started": "2021-05-25T13:05:44.920402Z"
    },
    "papermill": {
     "duration": 0.03649,
     "end_time": "2021-05-31T04:36:29.047343",
     "exception": false,
     "start_time": "2021-05-31T04:36:29.010853",
     "status": "completed"
    },
    "tags": []
   },
   "outputs": [
    {
     "data": {
      "text/html": [
       "<div>\n",
       "<style scoped>\n",
       "    .dataframe tbody tr th:only-of-type {\n",
       "        vertical-align: middle;\n",
       "    }\n",
       "\n",
       "    .dataframe tbody tr th {\n",
       "        vertical-align: top;\n",
       "    }\n",
       "\n",
       "    .dataframe thead th {\n",
       "        text-align: right;\n",
       "    }\n",
       "</style>\n",
       "<table border=\"1\" class=\"dataframe\">\n",
       "  <thead>\n",
       "    <tr style=\"text-align: right;\">\n",
       "      <th></th>\n",
       "      <th>id</th>\n",
       "      <th>target</th>\n",
       "    </tr>\n",
       "  </thead>\n",
       "  <tbody>\n",
       "    <tr>\n",
       "      <th>0</th>\n",
       "      <td>c0f722661</td>\n",
       "      <td>-0.411090</td>\n",
       "    </tr>\n",
       "    <tr>\n",
       "      <th>1</th>\n",
       "      <td>f0953f0a5</td>\n",
       "      <td>-0.595150</td>\n",
       "    </tr>\n",
       "    <tr>\n",
       "      <th>2</th>\n",
       "      <td>0df072751</td>\n",
       "      <td>-0.456749</td>\n",
       "    </tr>\n",
       "    <tr>\n",
       "      <th>3</th>\n",
       "      <td>04caf4e0c</td>\n",
       "      <td>-2.444959</td>\n",
       "    </tr>\n",
       "    <tr>\n",
       "      <th>4</th>\n",
       "      <td>0e63f8bea</td>\n",
       "      <td>-1.846508</td>\n",
       "    </tr>\n",
       "    <tr>\n",
       "      <th>5</th>\n",
       "      <td>12537fe78</td>\n",
       "      <td>-1.149551</td>\n",
       "    </tr>\n",
       "    <tr>\n",
       "      <th>6</th>\n",
       "      <td>965e592c0</td>\n",
       "      <td>0.153927</td>\n",
       "    </tr>\n",
       "  </tbody>\n",
       "</table>\n",
       "</div>"
      ],
      "text/plain": [
       "          id    target\n",
       "0  c0f722661 -0.411090\n",
       "1  f0953f0a5 -0.595150\n",
       "2  0df072751 -0.456749\n",
       "3  04caf4e0c -2.444959\n",
       "4  0e63f8bea -1.846508\n",
       "5  12537fe78 -1.149551\n",
       "6  965e592c0  0.153927"
      ]
     },
     "execution_count": 13,
     "metadata": {},
     "output_type": "execute_result"
    }
   ],
   "source": [
    "sub"
   ]
  }
 ],
 "metadata": {
  "kernelspec": {
   "display_name": "Python 3",
   "language": "python",
   "name": "python3"
  },
  "language_info": {
   "codemirror_mode": {
    "name": "ipython",
    "version": 3
   },
   "file_extension": ".py",
   "mimetype": "text/x-python",
   "name": "python",
   "nbconvert_exporter": "python",
   "pygments_lexer": "ipython3",
   "version": "3.7.10"
  },
  "papermill": {
   "default_parameters": {},
   "duration": 214.731048,
   "end_time": "2021-05-31T04:36:31.396281",
   "environment_variables": {},
   "exception": null,
   "input_path": "__notebook__.ipynb",
   "output_path": "__notebook__.ipynb",
   "parameters": {},
   "start_time": "2021-05-31T04:32:56.665233",
   "version": "2.3.3"
  }
 },
 "nbformat": 4,
 "nbformat_minor": 5
}
