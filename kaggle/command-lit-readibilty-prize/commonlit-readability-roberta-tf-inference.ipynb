{
 "cells": [
  {
   "cell_type": "markdown",
   "id": "understanding-alexandria",
   "metadata": {
    "papermill": {
     "duration": 0.008715,
     "end_time": "2021-05-22T13:06:47.334427",
     "exception": false,
     "start_time": "2021-05-22T13:06:47.325712",
     "status": "completed"
    },
    "tags": []
   },
   "source": [
    "# Comments\n",
    "\n",
    "Here you can find a simple baseline model: https://www.kaggle.com/ragnar123/commonlit-readability-roberta-tf\n",
    "\n",
    "This model has an out of folds root mean squared error of 0.5097\n",
    "\n",
    "Here is the training script:\n",
    "\n",
    "I tried to use tpu for training but the results are no good, hope this tensorflow baseline help to start this competition."
   ]
  },
  {
   "cell_type": "code",
   "execution_count": 1,
   "id": "mineral-happening",
   "metadata": {
    "_cell_guid": "b1076dfc-b9ad-4769-8c92-a6c4dae69d19",
    "_uuid": "8f2839f25d086af736a60e9eeb907d3b93b6e0e5",
    "execution": {
     "iopub.execute_input": "2021-05-22T13:06:47.356699Z",
     "iopub.status.busy": "2021-05-22T13:06:47.356187Z",
     "iopub.status.idle": "2021-05-22T13:06:53.356556Z",
     "shell.execute_reply": "2021-05-22T13:06:53.355718Z",
     "shell.execute_reply.started": "2021-05-21T10:33:20.575832Z"
    },
    "papermill": {
     "duration": 6.016909,
     "end_time": "2021-05-22T13:06:53.356702",
     "exception": false,
     "start_time": "2021-05-22T13:06:47.339793",
     "status": "completed"
    },
    "tags": []
   },
   "outputs": [],
   "source": [
    "import re\n",
    "import os\n",
    "import numpy as np\n",
    "import pandas as pd\n",
    "import random\n",
    "import math\n",
    "import tensorflow as tf\n",
    "import logging\n",
    "from sklearn.metrics import mean_squared_error\n",
    "from sklearn.model_selection import KFold\n",
    "from tensorflow.keras import backend as K\n",
    "from transformers import RobertaTokenizer, TFRobertaModel\n",
    "from kaggle_datasets import KaggleDatasets\n",
    "tf.get_logger().setLevel(logging.ERROR)\n",
    "from kaggle_datasets import KaggleDatasets"
   ]
  },
  {
   "cell_type": "code",
   "execution_count": 2,
   "id": "variable-tennessee",
   "metadata": {
    "execution": {
     "iopub.execute_input": "2021-05-22T13:06:53.369928Z",
     "iopub.status.busy": "2021-05-22T13:06:53.369434Z",
     "iopub.status.idle": "2021-05-22T13:06:53.526716Z",
     "shell.execute_reply": "2021-05-22T13:06:53.526083Z",
     "shell.execute_reply.started": "2021-05-21T10:33:25.895762Z"
    },
    "papermill": {
     "duration": 0.165212,
     "end_time": "2021-05-22T13:06:53.526877",
     "exception": false,
     "start_time": "2021-05-22T13:06:53.361665",
     "status": "completed"
    },
    "tags": []
   },
   "outputs": [],
   "source": [
    "# Configurations\n",
    "# Number of folds for training\n",
    "FOLDS = 5\n",
    "selective = False\n",
    "# Max length\n",
    "MAX_LEN = 256#300#250\n",
    "# Get the trained model we want to use\n",
    "MODEL = '../input/tfroberta-base'\n",
    "# Let's load our model tokenizer\n",
    "tokenizer = RobertaTokenizer.from_pretrained(MODEL)"
   ]
  },
  {
   "cell_type": "code",
   "execution_count": 3,
   "id": "banned-connecticut",
   "metadata": {
    "execution": {
     "iopub.execute_input": "2021-05-22T13:06:53.561762Z",
     "iopub.status.busy": "2021-05-22T13:06:53.560952Z",
     "iopub.status.idle": "2021-05-22T13:08:11.593549Z",
     "shell.execute_reply": "2021-05-22T13:08:11.593111Z",
     "shell.execute_reply.started": "2021-05-21T10:33:26.16936Z"
    },
    "papermill": {
     "duration": 78.052501,
     "end_time": "2021-05-22T13:08:11.593684",
     "exception": false,
     "start_time": "2021-05-22T13:06:53.541183",
     "status": "completed"
    },
    "tags": []
   },
   "outputs": [
    {
     "name": "stdout",
     "output_type": "stream",
     "text": [
      "\n",
      "\n",
      "--------------------------------------------------\n",
      "Predicting with model 1\n"
     ]
    },
    {
     "name": "stderr",
     "output_type": "stream",
     "text": [
      "All model checkpoint layers were used when initializing TFRobertaModel.\n",
      "\n",
      "All the layers of TFRobertaModel were initialized from the model checkpoint at ../input/tfroberta-base.\n",
      "If your task is similar to the task the model of the checkpoint was trained on, you can already use TFRobertaModel for predictions without further training.\n"
     ]
    },
    {
     "name": "stdout",
     "output_type": "stream",
     "text": [
      "\n",
      "\n",
      "--------------------------------------------------\n",
      "Predicting with model 2\n"
     ]
    },
    {
     "name": "stderr",
     "output_type": "stream",
     "text": [
      "All model checkpoint layers were used when initializing TFRobertaModel.\n",
      "\n",
      "All the layers of TFRobertaModel were initialized from the model checkpoint at ../input/tfroberta-base.\n",
      "If your task is similar to the task the model of the checkpoint was trained on, you can already use TFRobertaModel for predictions without further training.\n"
     ]
    },
    {
     "name": "stdout",
     "output_type": "stream",
     "text": [
      "\n",
      "\n",
      "--------------------------------------------------\n",
      "Predicting with model 3\n"
     ]
    },
    {
     "name": "stderr",
     "output_type": "stream",
     "text": [
      "All model checkpoint layers were used when initializing TFRobertaModel.\n",
      "\n",
      "All the layers of TFRobertaModel were initialized from the model checkpoint at ../input/tfroberta-base.\n",
      "If your task is similar to the task the model of the checkpoint was trained on, you can already use TFRobertaModel for predictions without further training.\n"
     ]
    },
    {
     "name": "stdout",
     "output_type": "stream",
     "text": [
      "\n",
      "\n",
      "--------------------------------------------------\n",
      "Predicting with model 4\n"
     ]
    },
    {
     "name": "stderr",
     "output_type": "stream",
     "text": [
      "All model checkpoint layers were used when initializing TFRobertaModel.\n",
      "\n",
      "All the layers of TFRobertaModel were initialized from the model checkpoint at ../input/tfroberta-base.\n",
      "If your task is similar to the task the model of the checkpoint was trained on, you can already use TFRobertaModel for predictions without further training.\n"
     ]
    },
    {
     "name": "stdout",
     "output_type": "stream",
     "text": [
      "\n",
      "\n",
      "--------------------------------------------------\n",
      "Predicting with model 5\n"
     ]
    },
    {
     "name": "stderr",
     "output_type": "stream",
     "text": [
      "All model checkpoint layers were used when initializing TFRobertaModel.\n",
      "\n",
      "All the layers of TFRobertaModel were initialized from the model checkpoint at ../input/tfroberta-base.\n",
      "If your task is similar to the task the model of the checkpoint was trained on, you can already use TFRobertaModel for predictions without further training.\n"
     ]
    },
    {
     "data": {
      "text/html": [
       "<div>\n",
       "<style scoped>\n",
       "    .dataframe tbody tr th:only-of-type {\n",
       "        vertical-align: middle;\n",
       "    }\n",
       "\n",
       "    .dataframe tbody tr th {\n",
       "        vertical-align: top;\n",
       "    }\n",
       "\n",
       "    .dataframe thead th {\n",
       "        text-align: right;\n",
       "    }\n",
       "</style>\n",
       "<table border=\"1\" class=\"dataframe\">\n",
       "  <thead>\n",
       "    <tr style=\"text-align: right;\">\n",
       "      <th></th>\n",
       "      <th>id</th>\n",
       "      <th>url_legal</th>\n",
       "      <th>license</th>\n",
       "      <th>excerpt</th>\n",
       "      <th>target</th>\n",
       "    </tr>\n",
       "  </thead>\n",
       "  <tbody>\n",
       "    <tr>\n",
       "      <th>0</th>\n",
       "      <td>c0f722661</td>\n",
       "      <td>NaN</td>\n",
       "      <td>NaN</td>\n",
       "      <td>My hope lay in Jack's promise that he would ke...</td>\n",
       "      <td>-0.296318</td>\n",
       "    </tr>\n",
       "    <tr>\n",
       "      <th>1</th>\n",
       "      <td>f0953f0a5</td>\n",
       "      <td>NaN</td>\n",
       "      <td>NaN</td>\n",
       "      <td>Dotty continued to go to Mrs. Gray's every nig...</td>\n",
       "      <td>-0.117521</td>\n",
       "    </tr>\n",
       "    <tr>\n",
       "      <th>2</th>\n",
       "      <td>0df072751</td>\n",
       "      <td>NaN</td>\n",
       "      <td>NaN</td>\n",
       "      <td>It was a bright and cheerful scene that greete...</td>\n",
       "      <td>-0.291410</td>\n",
       "    </tr>\n",
       "    <tr>\n",
       "      <th>3</th>\n",
       "      <td>04caf4e0c</td>\n",
       "      <td>https://en.wikipedia.org/wiki/Cell_division</td>\n",
       "      <td>CC BY-SA 3.0</td>\n",
       "      <td>Cell division is the process by which a parent...</td>\n",
       "      <td>-2.476316</td>\n",
       "    </tr>\n",
       "    <tr>\n",
       "      <th>4</th>\n",
       "      <td>0e63f8bea</td>\n",
       "      <td>https://en.wikipedia.org/wiki/Debugging</td>\n",
       "      <td>CC BY-SA 3.0</td>\n",
       "      <td>Debugging is the process of finding and resolv...</td>\n",
       "      <td>-1.786671</td>\n",
       "    </tr>\n",
       "  </tbody>\n",
       "</table>\n",
       "</div>"
      ],
      "text/plain": [
       "          id                                    url_legal       license  \\\n",
       "0  c0f722661                                          NaN           NaN   \n",
       "1  f0953f0a5                                          NaN           NaN   \n",
       "2  0df072751                                          NaN           NaN   \n",
       "3  04caf4e0c  https://en.wikipedia.org/wiki/Cell_division  CC BY-SA 3.0   \n",
       "4  0e63f8bea      https://en.wikipedia.org/wiki/Debugging  CC BY-SA 3.0   \n",
       "\n",
       "                                             excerpt    target  \n",
       "0  My hope lay in Jack's promise that he would ke... -0.296318  \n",
       "1  Dotty continued to go to Mrs. Gray's every nig... -0.117521  \n",
       "2  It was a bright and cheerful scene that greete... -0.291410  \n",
       "3  Cell division is the process by which a parent... -2.476316  \n",
       "4  Debugging is the process of finding and resolv... -1.786671  "
      ]
     },
     "execution_count": 3,
     "metadata": {},
     "output_type": "execute_result"
    }
   ],
   "source": [
    "# This function tokenize the text according to a transformers model tokenizer\n",
    "def regular_encode(texts, tokenizer, maxlen = MAX_LEN):\n",
    "    enc_di = tokenizer.batch_encode_plus(\n",
    "        texts,\n",
    "        padding = 'max_length',\n",
    "        truncation = True,\n",
    "        max_length = maxlen,\n",
    "    )\n",
    "    \n",
    "    return np.array(enc_di['input_ids'])\n",
    "\n",
    "# This function encode our training sentences\n",
    "def encode_texts(x_test, MAX_LEN):\n",
    "    x_test = regular_encode(x_test.tolist(), tokenizer, maxlen = MAX_LEN)\n",
    "    return x_test\n",
    "\n",
    "# Function to build our model\n",
    "def build_roberta_base_model(max_len = MAX_LEN):\n",
    "    transformer = TFRobertaModel.from_pretrained(MODEL)\n",
    "    input_word_ids = tf.keras.layers.Input(shape = (max_len, ), dtype = tf.int32, name = 'input_word_ids')\n",
    "    sequence_output = transformer(input_word_ids)[0]\n",
    "    # We only need the cls_token, resulting in a 2d array\n",
    "    cls_token = sequence_output[:, 0, :]\n",
    "    output = tf.keras.layers.Dense(1, activation = 'linear', dtype = 'float32')(cls_token)\n",
    "    model = tf.keras.models.Model(inputs = [input_word_ids], outputs = [output])\n",
    "    return model\n",
    "\n",
    "# Function for inference\n",
    "def roberta_base_inference(selective=False):\n",
    "    # Read our test data\n",
    "    df = pd.read_csv('../input/commonlitreadabilityprize/test.csv')\n",
    "    # Get text features\n",
    "    x_test = df['excerpt']\n",
    "    # Encode our text with Roberta tokenizer\n",
    "    x_test = encode_texts(x_test, MAX_LEN)\n",
    "    # Initiate an empty vector to store prediction\n",
    "    predictions = np.zeros(len(df))\n",
    "    # Predict with the 5 models (5 folds training)\n",
    "    if selective:\n",
    "        for i in FOLDS:\n",
    "            print('\\n')\n",
    "            print('-'*50)\n",
    "            print(f'Predicting with model {i}')\n",
    "            # Build model\n",
    "            model = build_roberta_base_model(max_len = MAX_LEN)\n",
    "            # Load pretrained weights\n",
    "            model.load_weights(f'../input/roberta-tf/Roberta_Base_123_{i}.h5')\n",
    "            # Predict\n",
    "            fold_predictions = model.predict(x_test).reshape(-1)\n",
    "#             print(fold_predictions)\n",
    "            # Add fold prediction to the global predictions\n",
    "            predictions += fold_predictions / len(FOLDS)\n",
    "    else:\n",
    "        for i in range(FOLDS):\n",
    "            print('\\n')\n",
    "            print('-'*50)\n",
    "            print(f'Predicting with model {i + 1}')\n",
    "            # Build model\n",
    "            model = build_roberta_base_model(max_len = MAX_LEN)\n",
    "            # Load pretrained weights\n",
    "            model.load_weights(f'../input/roberta-tf/Roberta_Base_123_{i + 1}.h5')\n",
    "            # Predict\n",
    "            fold_predictions = model.predict(x_test).reshape(-1)\n",
    "            # Add fold prediction to the global predictions\n",
    "            predictions += fold_predictions / FOLDS\n",
    "    # Save submissions\n",
    "    df['target'] = predictions\n",
    "    df[['id', 'target']].to_csv('submission.csv', index = False)\n",
    "    return df\n",
    "\n",
    "df = roberta_base_inference(selective)\n",
    "df.head()"
   ]
  },
  {
   "cell_type": "code",
   "execution_count": null,
   "id": "middle-television",
   "metadata": {
    "execution": {
     "iopub.execute_input": "2021-05-21T02:53:23.268398Z",
     "iopub.status.busy": "2021-05-21T02:53:23.268025Z",
     "iopub.status.idle": "2021-05-21T02:53:23.276798Z",
     "shell.execute_reply": "2021-05-21T02:53:23.275938Z",
     "shell.execute_reply.started": "2021-05-21T02:53:23.268359Z"
    },
    "papermill": {
     "duration": 0.008726,
     "end_time": "2021-05-22T13:08:11.611656",
     "exception": false,
     "start_time": "2021-05-22T13:08:11.602930",
     "status": "completed"
    },
    "tags": []
   },
   "outputs": [],
   "source": []
  },
  {
   "cell_type": "code",
   "execution_count": null,
   "id": "equivalent-verification",
   "metadata": {
    "papermill": {
     "duration": 0.008656,
     "end_time": "2021-05-22T13:08:11.629305",
     "exception": false,
     "start_time": "2021-05-22T13:08:11.620649",
     "status": "completed"
    },
    "tags": []
   },
   "outputs": [],
   "source": []
  }
 ],
 "metadata": {
  "kernelspec": {
   "display_name": "Python 3",
   "language": "python",
   "name": "python3"
  },
  "language_info": {
   "codemirror_mode": {
    "name": "ipython",
    "version": 3
   },
   "file_extension": ".py",
   "mimetype": "text/x-python",
   "name": "python",
   "nbconvert_exporter": "python",
   "pygments_lexer": "ipython3",
   "version": "3.7.10"
  },
  "papermill": {
   "default_parameters": {},
   "duration": 93.593973,
   "end_time": "2021-05-22T13:08:14.490792",
   "environment_variables": {},
   "exception": null,
   "input_path": "__notebook__.ipynb",
   "output_path": "__notebook__.ipynb",
   "parameters": {},
   "start_time": "2021-05-22T13:06:40.896819",
   "version": "2.3.3"
  }
 },
 "nbformat": 4,
 "nbformat_minor": 5
}
