{
 "cells": [
  {
   "cell_type": "markdown",
   "id": "clinical-cholesterol",
   "metadata": {
    "papermill": {
     "duration": 0.046885,
     "end_time": "2021-04-23T07:08:14.454008",
     "exception": false,
     "start_time": "2021-04-23T07:08:14.407123",
     "status": "completed"
    },
    "tags": []
   },
   "source": [
    "# About this Notebook\n",
    "\n",
    "After carefull considerations and doing a lot of experiments with tfidf and Bert-Based models , I strongly feel Bert-based models might do better if trained and used in the right way. [This](https://www.kaggle.com/c/shopee-product-matching/discussion/231510) dicussion thread talks about the usage of different approaches for text and discusses why BERT-base model might be better.\n",
    "\n",
    "I started with normal Hugging Face BERT type models , but I found Sentence transformers pre-trained models a better idea . As sentence transformer models were already trained in a siamese fashion especially for information retreival and semantic similarity tasks it's much better idea to start with them and then fine-tune it on our data. I have used <b> paraphrase-xlm-r-multilingual-v1 </b> from sentence transformers , one can try with other very good models also . I have uploaded all models for offline use [here](https://www.kaggle.com/tanulsingh077/sentence-transformer-models)\n",
    "\n",
    "One more additional thing which has come as a result of experimentation is to train with full data instead of splitting and then saving models on eval set. To avoid overfitting one can use strong regularizers like using fully connected layer on top of bert output , weight decay,etc\n",
    "\n",
    "This is the inference notebook , you can find the training notebook [here]()\n",
    "\n",
    "# Additional Utils\n",
    "\n",
    "I have added a function get_neighbours_cos_sim which is cosine similarity equivalent for ragnar's get_neighbours function for knn. Now one can use both to find the best threshold and see which similarity function works best for you ,<b> one thing to note however is that normalize the embeddings if you use cosine similarity</b>"
   ]
  },
  {
   "cell_type": "code",
   "execution_count": 1,
   "id": "filled-deviation",
   "metadata": {
    "execution": {
     "iopub.execute_input": "2021-04-23T07:08:14.559029Z",
     "iopub.status.busy": "2021-04-23T07:08:14.558183Z",
     "iopub.status.idle": "2021-04-23T07:08:23.041519Z",
     "shell.execute_reply": "2021-04-23T07:08:23.040422Z"
    },
    "papermill": {
     "duration": 8.540238,
     "end_time": "2021-04-23T07:08:23.041710",
     "exception": false,
     "start_time": "2021-04-23T07:08:14.501472",
     "status": "completed"
    },
    "tags": []
   },
   "outputs": [],
   "source": [
    "# Preliminaries\n",
    "from tqdm import tqdm\n",
    "import math\n",
    "import random\n",
    "import os\n",
    "import pandas as pd\n",
    "import numpy as np\n",
    "\n",
    "#torch\n",
    "import torch\n",
    "import torch.nn as nn\n",
    "from torch.nn import Parameter\n",
    "from torch.nn import functional as F\n",
    "from torch.utils.data import Dataset,DataLoader\n",
    "\n",
    "import transformers\n",
    "\n",
    "import gc\n",
    "import matplotlib.pyplot as plt\n",
    "import cudf\n",
    "import cuml\n",
    "import cupy\n",
    "from cuml import PCA\n",
    "from cuml.neighbors import NearestNeighbors\n",
    "from sklearn.preprocessing import Normalizer"
   ]
  },
  {
   "cell_type": "markdown",
   "id": "willing-athens",
   "metadata": {
    "papermill": {
     "duration": 0.025604,
     "end_time": "2021-04-23T07:08:23.093898",
     "exception": false,
     "start_time": "2021-04-23T07:08:23.068294",
     "status": "completed"
    },
    "tags": []
   },
   "source": [
    "# Test Configuration"
   ]
  },
  {
   "cell_type": "code",
   "execution_count": 2,
   "id": "durable-remainder",
   "metadata": {
    "execution": {
     "iopub.execute_input": "2021-04-23T07:08:23.155289Z",
     "iopub.status.busy": "2021-04-23T07:08:23.154657Z",
     "iopub.status.idle": "2021-04-23T07:08:26.142711Z",
     "shell.execute_reply": "2021-04-23T07:08:26.141511Z"
    },
    "papermill": {
     "duration": 3.023946,
     "end_time": "2021-04-23T07:08:26.142871",
     "exception": false,
     "start_time": "2021-04-23T07:08:23.118925",
     "status": "completed"
    },
    "tags": []
   },
   "outputs": [],
   "source": [
    "NUM_WORKERS = 4\n",
    "BATCH_SIZE = 16\n",
    "SEED = 42\n",
    "\n",
    "device = torch.device('cuda')\n",
    "\n",
    "################################################  ADJUSTING FOR CV OR SUBMIT ##############################################\n",
    "\n",
    "CHECK_SUB = False\n",
    "GET_CV = True\n",
    "\n",
    "test = pd.read_csv('../input/shopee-product-matching/test.csv')\n",
    "if len(test)>2: GET_CV = False\n",
    "else: print('this submission notebook will compute CV score, but commit notebook will not')\n",
    "\n",
    "\n",
    "################################################# MODEL ####################################################################\n",
    "\n",
    "transformer_model = '../input/sentence-transformer-models/paraphrase-xlm-r-multilingual-v1/0_Transformer'\n",
    "TOKENIZER = transformers.AutoTokenizer.from_pretrained(transformer_model)\n",
    "\n",
    "################################################ MODEL PATH ###############################################################\n",
    "\n",
    "TEXT_MODEL_PATH = '../input/best-multilingual-model/sentence_transfomer_xlm_best_loss_num_epochs_25_arcface.bin'\n",
    "\n",
    "model_params = {\n",
    "    'n_classes':11014,\n",
    "    'model_name':transformer_model,\n",
    "    'use_fc':False,\n",
    "    'fc_dim':512,\n",
    "    'dropout':0.3,\n",
    "}"
   ]
  },
  {
   "cell_type": "markdown",
   "id": "ethical-roulette",
   "metadata": {
    "papermill": {
     "duration": 0.027441,
     "end_time": "2021-04-23T07:08:26.198660",
     "exception": false,
     "start_time": "2021-04-23T07:08:26.171219",
     "status": "completed"
    },
    "tags": []
   },
   "source": [
    "# Reading Data"
   ]
  },
  {
   "cell_type": "code",
   "execution_count": 3,
   "id": "actual-transportation",
   "metadata": {
    "execution": {
     "iopub.execute_input": "2021-04-23T07:08:26.259896Z",
     "iopub.status.busy": "2021-04-23T07:08:26.258761Z",
     "iopub.status.idle": "2021-04-23T07:08:26.262805Z",
     "shell.execute_reply": "2021-04-23T07:08:26.262329Z"
    },
    "papermill": {
     "duration": 0.037029,
     "end_time": "2021-04-23T07:08:26.262933",
     "exception": false,
     "start_time": "2021-04-23T07:08:26.225904",
     "status": "completed"
    },
    "tags": []
   },
   "outputs": [],
   "source": [
    "def read_dataset():\n",
    "    if GET_CV:\n",
    "        df = pd.read_csv('../input/shopee-product-matching/train.csv')\n",
    "        tmp = df.groupby(['label_group'])['posting_id'].unique().to_dict()\n",
    "        df['matches'] = df['label_group'].map(tmp)\n",
    "        df['matches'] = df['matches'].apply(lambda x: ' '.join(x))\n",
    "        if CHECK_SUB:\n",
    "            df = pd.concat([df, df], axis = 0)\n",
    "            df.reset_index(drop = True, inplace = True)\n",
    "        df_cu = cudf.DataFrame(df)\n",
    "    else:\n",
    "        df = pd.read_csv('../input/shopee-product-matching/test.csv')\n",
    "        df_cu = cudf.DataFrame(df)\n",
    "        \n",
    "    return df, df_cu"
   ]
  },
  {
   "cell_type": "markdown",
   "id": "reasonable-pointer",
   "metadata": {
    "papermill": {
     "duration": 0.025905,
     "end_time": "2021-04-23T07:08:26.317646",
     "exception": false,
     "start_time": "2021-04-23T07:08:26.291741",
     "status": "completed"
    },
    "tags": []
   },
   "source": [
    "# Utils"
   ]
  },
  {
   "cell_type": "code",
   "execution_count": 4,
   "id": "caring-slovenia",
   "metadata": {
    "execution": {
     "iopub.execute_input": "2021-04-23T07:08:26.376976Z",
     "iopub.status.busy": "2021-04-23T07:08:26.376340Z",
     "iopub.status.idle": "2021-04-23T07:08:26.383116Z",
     "shell.execute_reply": "2021-04-23T07:08:26.382508Z"
    },
    "papermill": {
     "duration": 0.039557,
     "end_time": "2021-04-23T07:08:26.383299",
     "exception": false,
     "start_time": "2021-04-23T07:08:26.343742",
     "status": "completed"
    },
    "tags": []
   },
   "outputs": [],
   "source": [
    "def seed_torch(seed=42):\n",
    "    random.seed(seed)\n",
    "    os.environ['PYTHONHASHSEED'] = str(seed)\n",
    "    np.random.seed(seed)\n",
    "    torch.manual_seed(seed)\n",
    "    torch.cuda.manual_seed(seed)\n",
    "    torch.backends.cudnn.deterministic = True\n",
    "    \n",
    "seed_torch(SEED)"
   ]
  },
  {
   "cell_type": "code",
   "execution_count": 5,
   "id": "combined-texas",
   "metadata": {
    "execution": {
     "iopub.execute_input": "2021-04-23T07:08:26.446177Z",
     "iopub.status.busy": "2021-04-23T07:08:26.444318Z",
     "iopub.status.idle": "2021-04-23T07:08:26.446976Z",
     "shell.execute_reply": "2021-04-23T07:08:26.447590Z"
    },
    "papermill": {
     "duration": 0.038147,
     "end_time": "2021-04-23T07:08:26.447794",
     "exception": false,
     "start_time": "2021-04-23T07:08:26.409647",
     "status": "completed"
    },
    "tags": []
   },
   "outputs": [],
   "source": [
    "def f1_score(y_true, y_pred):\n",
    "    y_true = y_true.apply(lambda x: set(x.split()))\n",
    "    y_pred = y_pred.apply(lambda x: set(x.split()))\n",
    "    intersection = np.array([len(x[0] & x[1]) for x in zip(y_true, y_pred)])\n",
    "    len_y_pred = y_pred.apply(lambda x: len(x)).values\n",
    "    len_y_true = y_true.apply(lambda x: len(x)).values\n",
    "    f1 = 2 * intersection / (len_y_pred + len_y_true)\n",
    "    return f1"
   ]
  },
  {
   "cell_type": "code",
   "execution_count": 6,
   "id": "liquid-congo",
   "metadata": {
    "execution": {
     "iopub.execute_input": "2021-04-23T07:08:26.521821Z",
     "iopub.status.busy": "2021-04-23T07:08:26.519834Z",
     "iopub.status.idle": "2021-04-23T07:08:26.522475Z",
     "shell.execute_reply": "2021-04-23T07:08:26.522964Z"
    },
    "papermill": {
     "duration": 0.047094,
     "end_time": "2021-04-23T07:08:26.523246",
     "exception": false,
     "start_time": "2021-04-23T07:08:26.476152",
     "status": "completed"
    },
    "tags": []
   },
   "outputs": [],
   "source": [
    "def get_neighbors_knn(df, embeddings, KNN = 50):\n",
    "    '''\n",
    "    https://www.kaggle.com/ragnar123/unsupervised-baseline-arcface?scriptVersionId=57121538\n",
    "    '''\n",
    "\n",
    "    model = NearestNeighbors(n_neighbors = KNN)\n",
    "    model.fit(embeddings)\n",
    "    distances, indices = model.kneighbors(embeddings)\n",
    "    # Iterate through different thresholds to maximize cv, run this in interactive mode, then replace else clause with a solid threshold\n",
    "    if GET_CV:\n",
    "        thresholds = list(np.arange(0,2,0.1))\n",
    "        \n",
    "        scores = []\n",
    "        for threshold in thresholds:\n",
    "            predictions = []\n",
    "            for k in range(embeddings.shape[0]):\n",
    "                idx = np.where(distances[k,] < threshold)[0]\n",
    "                ids = indices[k,idx]\n",
    "                posting_ids = ' '.join(df['posting_id'].iloc[ids].values)\n",
    "                predictions.append(posting_ids)\n",
    "            df['pred_matches'] = predictions\n",
    "            df['f1'] = f1_score(df['matches'], df['pred_matches'])\n",
    "            score = df['f1'].mean()\n",
    "            print(f'Our f1 score for threshold {threshold} is {score}')\n",
    "            scores.append(score)\n",
    "        thresholds_scores = pd.DataFrame({'thresholds': thresholds, 'scores': scores})\n",
    "        max_score = thresholds_scores[thresholds_scores['scores'] == thresholds_scores['scores'].max()]\n",
    "        best_threshold = max_score['thresholds'].values[0]\n",
    "        best_score = max_score['scores'].values[0]\n",
    "        print(f'Our best score is {best_score} and has a threshold {best_threshold}')\n",
    "        \n",
    "        # Use threshold\n",
    "        predictions = []\n",
    "        for k in range(embeddings.shape[0]):\n",
    "            # Because we are predicting the test set that have 70K images and different label groups, confidence should be smaller\n",
    "            idx = np.where(distances[k,] < 0.60)[0]\n",
    "            ids = indices[k,idx]\n",
    "            posting_ids = ' '.join(df['posting_id'].iloc[ids].values)\n",
    "            predictions.append(posting_ids)\n",
    "    \n",
    "    # Because we are predicting the test set that have 70K images and different label groups, confidence should be smaller\n",
    "    else:\n",
    "        predictions = []\n",
    "        for k in tqdm(range(embeddings.shape[0])):\n",
    "            idx = np.where(distances[k,] < 0.60)[0]\n",
    "            ids = indices[k,idx]\n",
    "            posting_ids = df['posting_id'].iloc[ids].values\n",
    "            predictions.append(posting_ids)\n",
    "        \n",
    "    del model, distances, indices\n",
    "    gc.collect()\n",
    "    return df, predictions"
   ]
  },
  {
   "cell_type": "code",
   "execution_count": 7,
   "id": "worst-covering",
   "metadata": {
    "execution": {
     "iopub.execute_input": "2021-04-23T07:08:26.596050Z",
     "iopub.status.busy": "2021-04-23T07:08:26.595251Z",
     "iopub.status.idle": "2021-04-23T07:08:26.598938Z",
     "shell.execute_reply": "2021-04-23T07:08:26.598434Z"
    },
    "papermill": {
     "duration": 0.047238,
     "end_time": "2021-04-23T07:08:26.599146",
     "exception": false,
     "start_time": "2021-04-23T07:08:26.551908",
     "status": "completed"
    },
    "tags": []
   },
   "outputs": [],
   "source": [
    "def get_neighbours_cos_sim(df, embeddings, threshold):\n",
    "    '''\n",
    "    When using cos_sim use normalized features else use normal features\n",
    "    '''\n",
    "    embeddings = cupy.array(embeddings)\n",
    "    \n",
    "    if GET_CV:\n",
    "        thresholds = list(np.arange(0.5,0.7,0.05))\n",
    "\n",
    "        scores = []\n",
    "        for threshold in thresholds:\n",
    "            \n",
    "################################################# Code for Getting Preds #########################################\n",
    "            preds = []\n",
    "            CHUNK = 1024*4\n",
    "\n",
    "            print('Finding similar titles...for threshold :',threshold)\n",
    "            CTS = len(embeddings)//CHUNK\n",
    "            if len(embeddings)%CHUNK!=0: CTS += 1\n",
    "\n",
    "            for j in range( CTS ):\n",
    "                a = j*CHUNK\n",
    "                b = (j+1)*CHUNK\n",
    "                b = min(b,len(embeddings))\n",
    "\n",
    "                cts = cupy.matmul(embeddings,embeddings[a:b].T).T\n",
    "\n",
    "                for k in range(b-a):\n",
    "                    IDX = cupy.where(cts[k,]>threshold)[0]\n",
    "                    o = df.iloc[cupy.asnumpy(IDX)].posting_id.values\n",
    "                    o = ' '.join(o)\n",
    "                    preds.append(o)\n",
    "######################################################################################################################\n",
    "            df['pred_matches'] = preds\n",
    "            df['f1'] = f1_score(df['matches'], df['pred_matches'])\n",
    "            score = df['f1'].mean()\n",
    "            print(f'Our f1 score for threshold {threshold} is {score}')\n",
    "            scores.append(score)\n",
    "            \n",
    "        thresholds_scores = pd.DataFrame({'thresholds': thresholds, 'scores': scores})\n",
    "        max_score = thresholds_scores[thresholds_scores['scores'] == thresholds_scores['scores'].max()]\n",
    "        best_threshold = max_score['thresholds'].values[0]\n",
    "        best_score = max_score['scores'].values[0]\n",
    "        print(f'Our best score is {best_score} and has a threshold {best_threshold}')\n",
    "            \n",
    "    else:\n",
    "        preds = []\n",
    "        CHUNK = 1024*4\n",
    "\n",
    "        print('Finding similar texts...for threshold :',threshold)\n",
    "        CTS = len(embeddings)//CHUNK\n",
    "        if len(embeddings)%CHUNK!=0: CTS += 1\n",
    "\n",
    "        for j in range( CTS ):\n",
    "            a = j*CHUNK\n",
    "            b = (j+1)*CHUNK\n",
    "            b = min(b,len(embeddings))\n",
    "            print('chunk',a,'to',b)\n",
    "\n",
    "            cts = cupy.matmul(embeddings,embeddings[a:b].T).T\n",
    "\n",
    "            for k in range(b-a):\n",
    "                IDX = cupy.where(cts[k,]>threshold)[0]\n",
    "                o = df.iloc[cupy.asnumpy(IDX)].posting_id.values\n",
    "                preds.append(o)\n",
    "                    \n",
    "    return df, preds"
   ]
  },
  {
   "cell_type": "markdown",
   "id": "inner-stereo",
   "metadata": {
    "papermill": {
     "duration": 0.027097,
     "end_time": "2021-04-23T07:08:26.653918",
     "exception": false,
     "start_time": "2021-04-23T07:08:26.626821",
     "status": "completed"
    },
    "tags": []
   },
   "source": [
    "# Generating Embeddings"
   ]
  },
  {
   "cell_type": "code",
   "execution_count": 8,
   "id": "resident-luxembourg",
   "metadata": {
    "execution": {
     "iopub.execute_input": "2021-04-23T07:08:26.717061Z",
     "iopub.status.busy": "2021-04-23T07:08:26.716143Z",
     "iopub.status.idle": "2021-04-23T07:08:26.719937Z",
     "shell.execute_reply": "2021-04-23T07:08:26.719448Z"
    },
    "papermill": {
     "duration": 0.038192,
     "end_time": "2021-04-23T07:08:26.720061",
     "exception": false,
     "start_time": "2021-04-23T07:08:26.681869",
     "status": "completed"
    },
    "tags": []
   },
   "outputs": [],
   "source": [
    "class ShopeeDataset(Dataset):\n",
    "    def __init__(self, csv):\n",
    "        self.csv = csv.reset_index()\n",
    "\n",
    "    def __len__(self):\n",
    "        return self.csv.shape[0]\n",
    "\n",
    "    def __getitem__(self, index):\n",
    "        row = self.csv.iloc[index]\n",
    "        \n",
    "        text = row.title\n",
    "        \n",
    "        text = TOKENIZER(text, padding='max_length', truncation=True, max_length=128, return_tensors=\"pt\")\n",
    "        input_ids = text['input_ids'][0]\n",
    "        attention_mask = text['attention_mask'][0]  \n",
    "        \n",
    "        return input_ids, attention_mask"
   ]
  },
  {
   "cell_type": "code",
   "execution_count": 9,
   "id": "fitting-library",
   "metadata": {
    "execution": {
     "iopub.execute_input": "2021-04-23T07:08:26.785375Z",
     "iopub.status.busy": "2021-04-23T07:08:26.784470Z",
     "iopub.status.idle": "2021-04-23T07:08:26.788772Z",
     "shell.execute_reply": "2021-04-23T07:08:26.788300Z"
    },
    "papermill": {
     "duration": 0.041989,
     "end_time": "2021-04-23T07:08:26.788908",
     "exception": false,
     "start_time": "2021-04-23T07:08:26.746919",
     "status": "completed"
    },
    "tags": []
   },
   "outputs": [],
   "source": [
    "class ShopeeNet(nn.Module):\n",
    "\n",
    "    def __init__(self,\n",
    "                 n_classes,\n",
    "                 model_name='bert-base-uncased',\n",
    "                 use_fc=False,\n",
    "                 fc_dim=512,\n",
    "                 dropout=0.0):\n",
    "        \"\"\"\n",
    "        :param n_classes:\n",
    "        :param model_name: name of model from pretrainedmodels\n",
    "            e.g. resnet50, resnext101_32x4d, pnasnet5large\n",
    "        :param pooling: One of ('SPoC', 'MAC', 'RMAC', 'GeM', 'Rpool', 'Flatten', 'CompactBilinearPooling')\n",
    "        :param loss_module: One of ('arcface', 'cosface', 'softmax')\n",
    "        \"\"\"\n",
    "        super(ShopeeNet, self).__init__()\n",
    "\n",
    "        self.transformer = transformers.AutoModel.from_pretrained(model_name)\n",
    "        final_in_features = self.transformer.config.hidden_size\n",
    "        \n",
    "        self.use_fc = use_fc\n",
    "    \n",
    "        if use_fc:\n",
    "            self.dropout = nn.Dropout(p=dropout)\n",
    "            self.fc = nn.Linear(final_in_features, fc_dim)\n",
    "            self.bn = nn.BatchNorm1d(fc_dim)\n",
    "            self._init_params()\n",
    "            final_in_features = fc_dim\n",
    "\n",
    "\n",
    "    def _init_params(self):\n",
    "        nn.init.xavier_normal_(self.fc.weight)\n",
    "        nn.init.constant_(self.fc.bias, 0)\n",
    "        nn.init.constant_(self.bn.weight, 1)\n",
    "        nn.init.constant_(self.bn.bias, 0)\n",
    "\n",
    "    def forward(self, input_ids,attention_mask):\n",
    "        feature = self.extract_feat(input_ids,attention_mask)\n",
    "        return F.normalize(feature)\n",
    "\n",
    "    def extract_feat(self, input_ids,attention_mask):\n",
    "        x = self.transformer(input_ids=input_ids,attention_mask=attention_mask)\n",
    "        \n",
    "        features = x[0]\n",
    "        features = features[:,0,:]\n",
    "\n",
    "        if self.use_fc:\n",
    "            features = self.dropout(features)\n",
    "            features = self.fc(features)\n",
    "            features = self.bn(features)\n",
    "\n",
    "        return features"
   ]
  },
  {
   "cell_type": "markdown",
   "id": "worthy-rendering",
   "metadata": {
    "papermill": {
     "duration": 0.026601,
     "end_time": "2021-04-23T07:08:26.843029",
     "exception": false,
     "start_time": "2021-04-23T07:08:26.816428",
     "status": "completed"
    },
    "tags": []
   },
   "source": [
    "# Generating Submission"
   ]
  },
  {
   "cell_type": "code",
   "execution_count": 10,
   "id": "signal-meter",
   "metadata": {
    "execution": {
     "iopub.execute_input": "2021-04-23T07:08:26.910512Z",
     "iopub.status.busy": "2021-04-23T07:08:26.908599Z",
     "iopub.status.idle": "2021-04-23T07:08:26.911319Z",
     "shell.execute_reply": "2021-04-23T07:08:26.911830Z"
    },
    "papermill": {
     "duration": 0.041291,
     "end_time": "2021-04-23T07:08:26.911995",
     "exception": false,
     "start_time": "2021-04-23T07:08:26.870704",
     "status": "completed"
    },
    "tags": []
   },
   "outputs": [],
   "source": [
    "def get_text_embeddings(df):\n",
    "    embeds = []\n",
    "    \n",
    "    model = ShopeeNet(**model_params)\n",
    "    model.eval()\n",
    "    \n",
    "    model.load_state_dict(dict(list(torch.load(TEXT_MODEL_PATH).items())[:-1]))\n",
    "    model = model.to(device)\n",
    "\n",
    "    text_dataset = ShopeeDataset(df)\n",
    "    text_loader = torch.utils.data.DataLoader(\n",
    "        text_dataset,\n",
    "        batch_size=BATCH_SIZE,\n",
    "        pin_memory=True,\n",
    "        drop_last=False,\n",
    "        num_workers=NUM_WORKERS\n",
    "    )\n",
    "    \n",
    "    \n",
    "    with torch.no_grad():\n",
    "        for input_ids, attention_mask in tqdm(text_loader): \n",
    "            input_ids = input_ids.cuda()\n",
    "            attention_mask = attention_mask.cuda()\n",
    "            feat = model(input_ids, attention_mask)\n",
    "            text_embeddings = feat.detach().cpu().numpy()\n",
    "            embeds.append(text_embeddings)\n",
    "    \n",
    "    \n",
    "    del model\n",
    "    text_embeddings = np.concatenate(embeds)\n",
    "    print(f'Our text embeddings shape is {text_embeddings.shape}')\n",
    "    del embeds\n",
    "    gc.collect()\n",
    "    return text_embeddings"
   ]
  },
  {
   "cell_type": "code",
   "execution_count": 11,
   "id": "opening-renaissance",
   "metadata": {
    "execution": {
     "iopub.execute_input": "2021-04-23T07:08:26.987031Z",
     "iopub.status.busy": "2021-04-23T07:08:26.986265Z",
     "iopub.status.idle": "2021-04-23T07:08:37.654583Z",
     "shell.execute_reply": "2021-04-23T07:08:37.654079Z"
    },
    "papermill": {
     "duration": 10.713658,
     "end_time": "2021-04-23T07:08:37.654753",
     "exception": false,
     "start_time": "2021-04-23T07:08:26.941095",
     "status": "completed"
    },
    "tags": []
   },
   "outputs": [
    {
     "data": {
      "text/html": [
       "<div>\n",
       "<style scoped>\n",
       "    .dataframe tbody tr th:only-of-type {\n",
       "        vertical-align: middle;\n",
       "    }\n",
       "\n",
       "    .dataframe tbody tr th {\n",
       "        vertical-align: top;\n",
       "    }\n",
       "\n",
       "    .dataframe thead th {\n",
       "        text-align: right;\n",
       "    }\n",
       "</style>\n",
       "<table border=\"1\" class=\"dataframe\">\n",
       "  <thead>\n",
       "    <tr style=\"text-align: right;\">\n",
       "      <th></th>\n",
       "      <th>posting_id</th>\n",
       "      <th>image</th>\n",
       "      <th>image_phash</th>\n",
       "      <th>title</th>\n",
       "    </tr>\n",
       "  </thead>\n",
       "  <tbody>\n",
       "    <tr>\n",
       "      <th>0</th>\n",
       "      <td>test_2255846744</td>\n",
       "      <td>0006c8e5462ae52167402bac1c2e916e.jpg</td>\n",
       "      <td>ecc292392dc7687a</td>\n",
       "      <td>Edufuntoys - CHARACTER PHONE ada lampu dan mus...</td>\n",
       "    </tr>\n",
       "    <tr>\n",
       "      <th>1</th>\n",
       "      <td>test_3588702337</td>\n",
       "      <td>0007585c4d0f932859339129f709bfdc.jpg</td>\n",
       "      <td>e9968f60d2699e2c</td>\n",
       "      <td>(Beli 1 Free Spatula) Masker Komedo | Blackhea...</td>\n",
       "    </tr>\n",
       "    <tr>\n",
       "      <th>2</th>\n",
       "      <td>test_4015706929</td>\n",
       "      <td>0008377d3662e83ef44e1881af38b879.jpg</td>\n",
       "      <td>ba81c17e3581cabe</td>\n",
       "      <td>READY Lemonilo Mie instant sehat kuah dan goreng</td>\n",
       "    </tr>\n",
       "  </tbody>\n",
       "</table>\n",
       "</div>"
      ],
      "text/plain": [
       "        posting_id                                 image       image_phash  \\\n",
       "0  test_2255846744  0006c8e5462ae52167402bac1c2e916e.jpg  ecc292392dc7687a   \n",
       "1  test_3588702337  0007585c4d0f932859339129f709bfdc.jpg  e9968f60d2699e2c   \n",
       "2  test_4015706929  0008377d3662e83ef44e1881af38b879.jpg  ba81c17e3581cabe   \n",
       "\n",
       "                                               title  \n",
       "0  Edufuntoys - CHARACTER PHONE ada lampu dan mus...  \n",
       "1  (Beli 1 Free Spatula) Masker Komedo | Blackhea...  \n",
       "2   READY Lemonilo Mie instant sehat kuah dan goreng  "
      ]
     },
     "execution_count": 11,
     "metadata": {},
     "output_type": "execute_result"
    }
   ],
   "source": [
    "df,df_cu = read_dataset()\n",
    "df.head()"
   ]
  },
  {
   "cell_type": "code",
   "execution_count": 12,
   "id": "powered-bones",
   "metadata": {
    "execution": {
     "iopub.execute_input": "2021-04-23T07:08:37.718746Z",
     "iopub.status.busy": "2021-04-23T07:08:37.718127Z",
     "iopub.status.idle": "2021-04-23T07:09:07.593691Z",
     "shell.execute_reply": "2021-04-23T07:09:07.594375Z"
    },
    "papermill": {
     "duration": 29.909992,
     "end_time": "2021-04-23T07:09:07.594591",
     "exception": false,
     "start_time": "2021-04-23T07:08:37.684599",
     "status": "completed"
    },
    "tags": []
   },
   "outputs": [
    {
     "name": "stderr",
     "output_type": "stream",
     "text": [
      "100%|██████████| 1/1 [00:01<00:00,  1.65s/it]"
     ]
    },
    {
     "name": "stdout",
     "output_type": "stream",
     "text": [
      "Our text embeddings shape is (3, 768)\n"
     ]
    },
    {
     "name": "stderr",
     "output_type": "stream",
     "text": [
      "\n"
     ]
    }
   ],
   "source": [
    "text_embeddings = get_text_embeddings(df)"
   ]
  },
  {
   "cell_type": "code",
   "execution_count": 13,
   "id": "macro-cincinnati",
   "metadata": {
    "execution": {
     "iopub.execute_input": "2021-04-23T07:09:07.660945Z",
     "iopub.status.busy": "2021-04-23T07:09:07.659768Z",
     "iopub.status.idle": "2021-04-23T07:09:09.084646Z",
     "shell.execute_reply": "2021-04-23T07:09:09.083213Z"
    },
    "papermill": {
     "duration": 1.460707,
     "end_time": "2021-04-23T07:09:09.084885",
     "exception": false,
     "start_time": "2021-04-23T07:09:07.624178",
     "status": "completed"
    },
    "tags": []
   },
   "outputs": [
    {
     "name": "stdout",
     "output_type": "stream",
     "text": [
      "Finding similar texts...for threshold : 0.83\n",
      "chunk 0 to 3\n"
     ]
    },
    {
     "data": {
      "text/plain": [
       "20"
      ]
     },
     "execution_count": 13,
     "metadata": {},
     "output_type": "execute_result"
    }
   ],
   "source": [
    "# 12.5 and 0.70 -> 0.719 \n",
    "# 12.5 and 0.71 -> 0.721\n",
    "# 12.5 and 0.73 -> 0.724\n",
    "# 12.5 and 0.75 -> 0.725\n",
    "# 12.5 and 0.76 -> 0.726\n",
    "# 12.5 and 0.76 and tfidf -> 0.732\n",
    "# 12.5 and 0.77 and tfidf -> 0.733\n",
    "# 12.5 and 0.78 and tfidf -> 0.734\n",
    "# 12.5 and 0.79 and tfidf -> 0.734 better\n",
    "# 12.5 and 0.80 and tfidf -> 0.734 more better\n",
    "# 12.5 and 0.81 and tfidf -> 0.735\n",
    "# 12.5 and 0.82 and tfidf -> 0.735 better\n",
    "# 12.5 and 0.83 and tfidf -> 0.736\n",
    "# 12.5 and 0.84 and tfidf -> 0.735\n",
    "threshold = 0.83\n",
    "df,text_predictions = get_neighbours_cos_sim(df, text_embeddings, threshold)\n",
    "test['preds'] = text_predictions\n",
    "# print(test.head())\n",
    "del text_predictions\n",
    "gc.collect()"
   ]
  },
  {
   "cell_type": "code",
   "execution_count": 14,
   "id": "fancy-appearance",
   "metadata": {
    "execution": {
     "iopub.execute_input": "2021-04-23T07:09:09.211448Z",
     "iopub.status.busy": "2021-04-23T07:09:09.210290Z",
     "iopub.status.idle": "2021-04-23T07:09:09.219547Z",
     "shell.execute_reply": "2021-04-23T07:09:09.218898Z"
    },
    "papermill": {
     "duration": 0.081075,
     "end_time": "2021-04-23T07:09:09.219689",
     "exception": false,
     "start_time": "2021-04-23T07:09:09.138614",
     "status": "completed"
    },
    "tags": []
   },
   "outputs": [
    {
     "data": {
      "text/html": [
       "<div>\n",
       "<style scoped>\n",
       "    .dataframe tbody tr th:only-of-type {\n",
       "        vertical-align: middle;\n",
       "    }\n",
       "\n",
       "    .dataframe tbody tr th {\n",
       "        vertical-align: top;\n",
       "    }\n",
       "\n",
       "    .dataframe thead th {\n",
       "        text-align: right;\n",
       "    }\n",
       "</style>\n",
       "<table border=\"1\" class=\"dataframe\">\n",
       "  <thead>\n",
       "    <tr style=\"text-align: right;\">\n",
       "      <th></th>\n",
       "      <th>posting_id</th>\n",
       "      <th>image</th>\n",
       "      <th>image_phash</th>\n",
       "      <th>title</th>\n",
       "      <th>preds</th>\n",
       "    </tr>\n",
       "  </thead>\n",
       "  <tbody>\n",
       "    <tr>\n",
       "      <th>0</th>\n",
       "      <td>test_2255846744</td>\n",
       "      <td>0006c8e5462ae52167402bac1c2e916e.jpg</td>\n",
       "      <td>ecc292392dc7687a</td>\n",
       "      <td>Edufuntoys - CHARACTER PHONE ada lampu dan mus...</td>\n",
       "      <td>[test_2255846744]</td>\n",
       "    </tr>\n",
       "    <tr>\n",
       "      <th>1</th>\n",
       "      <td>test_3588702337</td>\n",
       "      <td>0007585c4d0f932859339129f709bfdc.jpg</td>\n",
       "      <td>e9968f60d2699e2c</td>\n",
       "      <td>(Beli 1 Free Spatula) Masker Komedo | Blackhea...</td>\n",
       "      <td>[test_3588702337]</td>\n",
       "    </tr>\n",
       "    <tr>\n",
       "      <th>2</th>\n",
       "      <td>test_4015706929</td>\n",
       "      <td>0008377d3662e83ef44e1881af38b879.jpg</td>\n",
       "      <td>ba81c17e3581cabe</td>\n",
       "      <td>READY Lemonilo Mie instant sehat kuah dan goreng</td>\n",
       "      <td>[test_4015706929]</td>\n",
       "    </tr>\n",
       "  </tbody>\n",
       "</table>\n",
       "</div>"
      ],
      "text/plain": [
       "        posting_id                                 image       image_phash  \\\n",
       "0  test_2255846744  0006c8e5462ae52167402bac1c2e916e.jpg  ecc292392dc7687a   \n",
       "1  test_3588702337  0007585c4d0f932859339129f709bfdc.jpg  e9968f60d2699e2c   \n",
       "2  test_4015706929  0008377d3662e83ef44e1881af38b879.jpg  ba81c17e3581cabe   \n",
       "\n",
       "                                               title              preds  \n",
       "0  Edufuntoys - CHARACTER PHONE ada lampu dan mus...  [test_2255846744]  \n",
       "1  (Beli 1 Free Spatula) Masker Komedo | Blackhea...  [test_3588702337]  \n",
       "2   READY Lemonilo Mie instant sehat kuah dan goreng  [test_4015706929]  "
      ]
     },
     "execution_count": 14,
     "metadata": {},
     "output_type": "execute_result"
    }
   ],
   "source": [
    "test.head()"
   ]
  },
  {
   "cell_type": "markdown",
   "id": "arbitrary-fruit",
   "metadata": {
    "papermill": {
     "duration": 0.054243,
     "end_time": "2021-04-23T07:09:09.327725",
     "exception": false,
     "start_time": "2021-04-23T07:09:09.273482",
     "status": "completed"
    },
    "tags": []
   },
   "source": [
    "# images"
   ]
  },
  {
   "cell_type": "code",
   "execution_count": 15,
   "id": "cathedral-producer",
   "metadata": {
    "execution": {
     "iopub.execute_input": "2021-04-23T07:09:09.440650Z",
     "iopub.status.busy": "2021-04-23T07:09:09.440034Z",
     "iopub.status.idle": "2021-04-23T07:09:15.525481Z",
     "shell.execute_reply": "2021-04-23T07:09:15.526104Z"
    },
    "papermill": {
     "duration": 6.145752,
     "end_time": "2021-04-23T07:09:15.526304",
     "exception": false,
     "start_time": "2021-04-23T07:09:09.380552",
     "status": "completed"
    },
    "tags": []
   },
   "outputs": [
    {
     "name": "stdout",
     "output_type": "stream",
     "text": [
      "RAPIDS 0.16.0\n",
      "TF 2.4.1\n"
     ]
    }
   ],
   "source": [
    "import numpy as np, pandas as pd, gc\n",
    "import math\n",
    "import cv2, matplotlib.pyplot as plt\n",
    "import cudf, cuml, cupy\n",
    "from cuml.feature_extraction.text import TfidfVectorizer\n",
    "from cuml.neighbors import NearestNeighbors\n",
    "import tensorflow as tf\n",
    "from tensorflow.keras.applications import EfficientNetB0\n",
    "print('RAPIDS',cuml.__version__)\n",
    "print('TF',tf.__version__)"
   ]
  },
  {
   "cell_type": "code",
   "execution_count": 16,
   "id": "coupled-alexander",
   "metadata": {
    "execution": {
     "iopub.execute_input": "2021-04-23T07:09:15.611355Z",
     "iopub.status.busy": "2021-04-23T07:09:15.610659Z",
     "iopub.status.idle": "2021-04-23T07:09:17.494841Z",
     "shell.execute_reply": "2021-04-23T07:09:17.496020Z"
    },
    "papermill": {
     "duration": 1.938966,
     "end_time": "2021-04-23T07:09:17.496229",
     "exception": false,
     "start_time": "2021-04-23T07:09:15.557263",
     "status": "completed"
    },
    "tags": []
   },
   "outputs": [
    {
     "name": "stdout",
     "output_type": "stream",
     "text": [
      "We will restrict TensorFlow to max 1GB GPU RAM\n",
      "then RAPIDS can use 15GB GPU RAM\n"
     ]
    }
   ],
   "source": [
    "# RESTRICT TENSORFLOW TO 1GB OF GPU RAM\n",
    "# SO THAT WE HAVE 15GB RAM FOR RAPIDS\n",
    "LIMIT = 1\n",
    "gpus = tf.config.experimental.list_physical_devices('GPU')\n",
    "if gpus:\n",
    "  try:\n",
    "    tf.config.experimental.set_virtual_device_configuration(\n",
    "        gpus[0],\n",
    "        [tf.config.experimental.VirtualDeviceConfiguration(memory_limit=1024*LIMIT)])\n",
    "    logical_gpus = tf.config.experimental.list_logical_devices('GPU')\n",
    "    #print(len(gpus), \"Physical GPUs,\", len(logical_gpus), \"Logical GPUs\")\n",
    "  except RuntimeError as e:\n",
    "    print(e)\n",
    "print('We will restrict TensorFlow to max %iGB GPU RAM'%LIMIT)\n",
    "print('then RAPIDS can use %iGB GPU RAM'%(16-LIMIT))"
   ]
  },
  {
   "cell_type": "code",
   "execution_count": 17,
   "id": "successful-composer",
   "metadata": {
    "execution": {
     "iopub.execute_input": "2021-04-23T07:09:17.576029Z",
     "iopub.status.busy": "2021-04-23T07:09:17.574328Z",
     "iopub.status.idle": "2021-04-23T07:09:17.576667Z",
     "shell.execute_reply": "2021-04-23T07:09:17.577083Z"
    },
    "papermill": {
     "duration": 0.049244,
     "end_time": "2021-04-23T07:09:17.577215",
     "exception": false,
     "start_time": "2021-04-23T07:09:17.527971",
     "status": "completed"
    },
    "tags": []
   },
   "outputs": [],
   "source": [
    "# Arcmarginproduct class keras layer\n",
    "class ArcMarginProduct(tf.keras.layers.Layer):\n",
    "    '''\n",
    "    Implements large margin arc distance.\n",
    "\n",
    "    Reference:\n",
    "        https://arxiv.org/pdf/1801.07698.pdf\n",
    "        https://github.com/lyakaap/Landmark2019-1st-and-3rd-Place-Solution/\n",
    "            blob/master/src/modeling/metric_learning.py\n",
    "    '''\n",
    "    def __init__(self, n_classes, s=30, m=0.50, easy_margin=False,\n",
    "                 ls_eps=0.0, **kwargs):\n",
    "\n",
    "        super(ArcMarginProduct, self).__init__(**kwargs)\n",
    "\n",
    "        self.n_classes = n_classes\n",
    "        self.s = s\n",
    "        self.m = m\n",
    "        self.ls_eps = ls_eps\n",
    "        self.easy_margin = easy_margin\n",
    "        self.cos_m = tf.math.cos(m)\n",
    "        self.sin_m = tf.math.sin(m)\n",
    "        self.th = tf.math.cos(math.pi - m)\n",
    "        self.mm = tf.math.sin(math.pi - m) * m\n",
    "\n",
    "    def get_config(self):\n",
    "\n",
    "        config = super().get_config().copy()\n",
    "        config.update({\n",
    "            'n_classes': self.n_classes,\n",
    "            's': self.s,\n",
    "            'm': self.m,\n",
    "            'ls_eps': self.ls_eps,\n",
    "            'easy_margin': self.easy_margin,\n",
    "        })\n",
    "        return config\n",
    "\n",
    "    def build(self, input_shape):\n",
    "        super(ArcMarginProduct, self).build(input_shape[0])\n",
    "\n",
    "        self.W = self.add_weight(\n",
    "            name='W',\n",
    "            shape=(int(input_shape[0][-1]), self.n_classes),\n",
    "            initializer='glorot_uniform',\n",
    "            dtype='float32',\n",
    "            trainable=True,\n",
    "            regularizer=None)\n",
    "\n",
    "    def call(self, inputs):\n",
    "        X, y = inputs\n",
    "        y = tf.cast(y, dtype=tf.int32)\n",
    "        cosine = tf.matmul(\n",
    "            tf.math.l2_normalize(X, axis=1),\n",
    "            tf.math.l2_normalize(self.W, axis=0)\n",
    "        )\n",
    "        sine = tf.math.sqrt(1.0 - tf.math.pow(cosine, 2))\n",
    "        phi = cosine * self.cos_m - sine * self.sin_m\n",
    "        if self.easy_margin:\n",
    "            phi = tf.where(cosine > 0, phi, cosine)\n",
    "        else:\n",
    "            phi = tf.where(cosine > self.th, phi, cosine - self.mm)\n",
    "        one_hot = tf.cast(\n",
    "            tf.one_hot(y, depth=self.n_classes),\n",
    "            dtype=cosine.dtype\n",
    "        )\n",
    "        if self.ls_eps > 0:\n",
    "            one_hot = (1 - self.ls_eps) * one_hot + self.ls_eps / self.n_classes\n",
    "\n",
    "        output = (one_hot * phi) + ((1.0 - one_hot) * cosine)\n",
    "        output *= self.s\n",
    "        return output"
   ]
  },
  {
   "cell_type": "code",
   "execution_count": 18,
   "id": "grand-crazy",
   "metadata": {
    "execution": {
     "iopub.execute_input": "2021-04-23T07:09:17.659228Z",
     "iopub.status.busy": "2021-04-23T07:09:17.658555Z",
     "iopub.status.idle": "2021-04-23T07:10:31.353545Z",
     "shell.execute_reply": "2021-04-23T07:10:31.352995Z"
    },
    "papermill": {
     "duration": 73.747626,
     "end_time": "2021-04-23T07:10:31.353706",
     "exception": false,
     "start_time": "2021-04-23T07:09:17.606080",
     "status": "completed"
    },
    "tags": []
   },
   "outputs": [
    {
     "name": "stdout",
     "output_type": "stream",
     "text": [
      "Looking in links: ../input/faiss170latestcpugpu/\r\n",
      "Processing /kaggle/input/faiss170latestcpugpu/faiss_gpu-1.7.0-cp37-cp37m-manylinux2014_x86_64.whl\r\n",
      "Installing collected packages: faiss-gpu\r\n",
      "Successfully installed faiss-gpu-1.7.0\r\n",
      "Processing /kaggle/input/arcface-baseline/Keras_Applications-1.0.8-py3-none-any.whl\r\n",
      "Requirement already satisfied: h5py in /opt/conda/lib/python3.7/site-packages (from Keras-Applications==1.0.8) (2.10.0)\r\n",
      "Requirement already satisfied: numpy>=1.9.1 in /opt/conda/lib/python3.7/site-packages (from Keras-Applications==1.0.8) (1.19.5)\r\n",
      "Requirement already satisfied: six in /opt/conda/lib/python3.7/site-packages (from h5py->Keras-Applications==1.0.8) (1.15.0)\r\n",
      "Installing collected packages: Keras-Applications\r\n",
      "Successfully installed Keras-Applications-1.0.8\r\n",
      "Processing /kaggle/input/arcface-baseline/efficientnet-1.1.0-py3-none-any.whl\r\n",
      "Requirement already satisfied: keras-applications<=1.0.8,>=1.0.7 in /opt/conda/lib/python3.7/site-packages (from efficientnet==1.1.0) (1.0.8)\r\n",
      "Requirement already satisfied: scikit-image in /opt/conda/lib/python3.7/site-packages (from efficientnet==1.1.0) (0.18.1)\r\n",
      "Requirement already satisfied: h5py in /opt/conda/lib/python3.7/site-packages (from keras-applications<=1.0.8,>=1.0.7->efficientnet==1.1.0) (2.10.0)\r\n",
      "Requirement already satisfied: numpy>=1.9.1 in /opt/conda/lib/python3.7/site-packages (from keras-applications<=1.0.8,>=1.0.7->efficientnet==1.1.0) (1.19.5)\r\n",
      "Requirement already satisfied: six in /opt/conda/lib/python3.7/site-packages (from h5py->keras-applications<=1.0.8,>=1.0.7->efficientnet==1.1.0) (1.15.0)\r\n",
      "Requirement already satisfied: pillow!=7.1.0,!=7.1.1,>=4.3.0 in /opt/conda/lib/python3.7/site-packages (from scikit-image->efficientnet==1.1.0) (7.2.0)\r\n",
      "Requirement already satisfied: networkx>=2.0 in /opt/conda/lib/python3.7/site-packages (from scikit-image->efficientnet==1.1.0) (2.5)\r\n",
      "Requirement already satisfied: matplotlib!=3.0.0,>=2.0.0 in /opt/conda/lib/python3.7/site-packages (from scikit-image->efficientnet==1.1.0) (3.4.1)\r\n",
      "Requirement already satisfied: tifffile>=2019.7.26 in /opt/conda/lib/python3.7/site-packages (from scikit-image->efficientnet==1.1.0) (2021.4.8)\r\n",
      "Requirement already satisfied: PyWavelets>=1.1.1 in /opt/conda/lib/python3.7/site-packages (from scikit-image->efficientnet==1.1.0) (1.1.1)\r\n",
      "Requirement already satisfied: scipy>=1.0.1 in /opt/conda/lib/python3.7/site-packages (from scikit-image->efficientnet==1.1.0) (1.5.4)\r\n",
      "Requirement already satisfied: imageio>=2.3.0 in /opt/conda/lib/python3.7/site-packages (from scikit-image->efficientnet==1.1.0) (2.9.0)\r\n",
      "Requirement already satisfied: kiwisolver>=1.0.1 in /opt/conda/lib/python3.7/site-packages (from matplotlib!=3.0.0,>=2.0.0->scikit-image->efficientnet==1.1.0) (1.3.1)\r\n",
      "Requirement already satisfied: python-dateutil>=2.7 in /opt/conda/lib/python3.7/site-packages (from matplotlib!=3.0.0,>=2.0.0->scikit-image->efficientnet==1.1.0) (2.8.1)\r\n",
      "Requirement already satisfied: pyparsing>=2.2.1 in /opt/conda/lib/python3.7/site-packages (from matplotlib!=3.0.0,>=2.0.0->scikit-image->efficientnet==1.1.0) (2.4.7)\r\n",
      "Requirement already satisfied: cycler>=0.10 in /opt/conda/lib/python3.7/site-packages (from matplotlib!=3.0.0,>=2.0.0->scikit-image->efficientnet==1.1.0) (0.10.0)\r\n",
      "Requirement already satisfied: decorator>=4.3.0 in /opt/conda/lib/python3.7/site-packages (from networkx>=2.0->scikit-image->efficientnet==1.1.0) (4.4.2)\r\n",
      "Installing collected packages: efficientnet\r\n",
      "Successfully installed efficientnet-1.1.0\r\n"
     ]
    }
   ],
   "source": [
    "# !pip install --no-index --find-links '/kaggle/input/faiss-170-latest-cpu-gpu/' faiss-cpu==1.7.0\n",
    "!pip install --no-index --find-links '../input/faiss170latestcpugpu/' faiss-gpu==1.7.0\n",
    "!pip install ../input/arcface-baseline/Keras_Applications-1.0.8-py3-none-any.whl\n",
    "!pip install ../input/arcface-baseline/efficientnet-1.1.0-py3-none-any.whl\n",
    "import efficientnet.tfkeras as efn\n",
    "import faiss\n",
    "N_CLASSES = 11011\n",
    "IMAGE_SIZE = [512, 512]\n",
    "margin = ArcMarginProduct(\n",
    "            n_classes = N_CLASSES, \n",
    "            s = 30, \n",
    "            m = 0.7, \n",
    "            name='head/arc_margin', \n",
    "            dtype='float32'\n",
    "            )\n",
    "\n",
    "inp = tf.keras.layers.Input(shape = (*IMAGE_SIZE, 3), name = 'inp1')\n",
    "label = tf.keras.layers.Input(shape = (), name = 'inp2')\n",
    "x = efn.EfficientNetB3(weights = None, include_top = False)(inp)\n",
    "x = tf.keras.layers.GlobalAveragePooling2D()(x)\n",
    "x = margin([x, label])\n",
    "\n",
    "output = tf.keras.layers.Softmax(dtype='float32')(x)\n",
    "\n",
    "model = tf.keras.models.Model(inputs = [inp, label], outputs = [output])\n",
    "#     model.load_weights('../input/shopee-efficientnetb3-arcmarginproduct/EfficientNetB3_512_42.h5')\n",
    "#     model.load_weights('../input/ragnar-best-val-score-weights/EfficientNetB3_512_42.h5')\n",
    "model.load_weights('../input/ragnar715score/EfficientNetB3_512_42.h5')\n",
    "\n",
    "model = tf.keras.models.Model(inputs = model.input[0], outputs = model.layers[-4].output)\n",
    "# model.summary()"
   ]
  },
  {
   "cell_type": "code",
   "execution_count": 19,
   "id": "second-arrangement",
   "metadata": {
    "execution": {
     "iopub.execute_input": "2021-04-23T07:10:31.437479Z",
     "iopub.status.busy": "2021-04-23T07:10:31.436662Z",
     "iopub.status.idle": "2021-04-23T07:10:31.440663Z",
     "shell.execute_reply": "2021-04-23T07:10:31.440157Z"
    },
    "papermill": {
     "duration": 0.049326,
     "end_time": "2021-04-23T07:10:31.440813",
     "exception": false,
     "start_time": "2021-04-23T07:10:31.391487",
     "status": "completed"
    },
    "tags": []
   },
   "outputs": [],
   "source": [
    "# For tf.dataset\n",
    "AUTO = tf.data.experimental.AUTOTUNE\n",
    "BATCH_SIZE =8 \n",
    "\n",
    "# Function to decode our images\n",
    "def decode_image(image_data):\n",
    "    image = tf.image.decode_jpeg(image_data, channels = 3)\n",
    "    image = tf.image.resize(image, IMAGE_SIZE)\n",
    "#     image = tf.image.resize_with_pad(image, target_width = IMAGE_SIZE[0], target_height = IMAGE_SIZE[1])\n",
    "    image = tf.cast(image, tf.float32) / 255.0\n",
    "    return image\n",
    "\n",
    "# Function to read our test image and return image\n",
    "def read_image(image):\n",
    "    image = tf.io.read_file(image)\n",
    "    image = decode_image(image)\n",
    "    return image\n",
    "# Function to get our dataset that read images\n",
    "def get_dataset(image):\n",
    "    dataset = tf.data.Dataset.from_tensor_slices(image)\n",
    "    dataset = dataset.map(read_image, num_parallel_calls = AUTO)\n",
    "    dataset = dataset.batch(BATCH_SIZE)\n",
    "    dataset = dataset.prefetch(AUTO)\n",
    "    return dataset"
   ]
  },
  {
   "cell_type": "code",
   "execution_count": 20,
   "id": "involved-tourist",
   "metadata": {
    "execution": {
     "iopub.execute_input": "2021-04-23T07:10:31.526436Z",
     "iopub.status.busy": "2021-04-23T07:10:31.525550Z",
     "iopub.status.idle": "2021-04-23T07:10:38.270292Z",
     "shell.execute_reply": "2021-04-23T07:10:38.271239Z"
    },
    "papermill": {
     "duration": 6.79282,
     "end_time": "2021-04-23T07:10:38.271462",
     "exception": false,
     "start_time": "2021-04-23T07:10:31.478642",
     "status": "completed"
    },
    "tags": []
   },
   "outputs": [
    {
     "name": "stdout",
     "output_type": "stream",
     "text": [
      "Computing image embeddings...\n",
      "chunk 0 to 3\n",
      "1/1 [==============================] - 6s 6s/step\n",
      "image embeddings shape (3, 1536)\n"
     ]
    }
   ],
   "source": [
    "BASE = '../input/shopee-product-matching/test_images/'\n",
    "if GET_CV: BASE = '../input/shopee-product-matching/train_images/'\n",
    "\n",
    "# WGT = '../input/effnetb0/efficientnetb0_notop.h5'\n",
    "# model = EfficientNetB0(weights=WGT,include_top=False, pooling='avg', input_shape=None)\n",
    "model = model\n",
    "\n",
    "embeds = []\n",
    "CHUNK = 1024*4\n",
    "\n",
    "print('Computing image embeddings...')\n",
    "CTS = len(test)//CHUNK\n",
    "if len(test)%CHUNK!=0: CTS += 1\n",
    "image_path='../input/shopee-product-matching/test_images/'+test['image']\n",
    "for i,j in enumerate( range( CTS ) ):\n",
    "    \n",
    "    a = j*CHUNK\n",
    "    b = (j+1)*CHUNK\n",
    "    b = min(b,len(test))\n",
    "    print('chunk',a,'to',b)\n",
    "    \n",
    "#     test_gen = DataGenerator(test.iloc[a:b], batch_size=32, path=BASE)\n",
    "    test_gen = get_dataset(image_path[a:b])\n",
    "    image_embeddings = model.predict(test_gen,verbose=1,use_multiprocessing=True, workers=4)\n",
    "#     image_embeddings = model.predict(test_gen)\n",
    "    embeds.append(image_embeddings)\n",
    "\n",
    "    #if i>=1: break\n",
    "    \n",
    "del model\n",
    "_ = gc.collect()\n",
    "image_embeddings = np.concatenate(embeds)\n",
    "print('image embeddings shape',image_embeddings.shape)"
   ]
  },
  {
   "cell_type": "code",
   "execution_count": 21,
   "id": "stupid-somalia",
   "metadata": {
    "execution": {
     "iopub.execute_input": "2021-04-23T07:10:38.353979Z",
     "iopub.status.busy": "2021-04-23T07:10:38.353296Z",
     "iopub.status.idle": "2021-04-23T07:10:38.357816Z",
     "shell.execute_reply": "2021-04-23T07:10:38.357340Z"
    },
    "papermill": {
     "duration": 0.047691,
     "end_time": "2021-04-23T07:10:38.357939",
     "exception": false,
     "start_time": "2021-04-23T07:10:38.310248",
     "status": "completed"
    },
    "tags": []
   },
   "outputs": [],
   "source": [
    "KNN = 50\n",
    "if len(test)==3: KNN = 2\n",
    "# model = NearestNeighbors(n_neighbors=KNN)\n",
    "# model.fit(image_embeddings)\n",
    "\n",
    "model = faiss.IndexFlatL2(image_embeddings.shape[1])   # build the index\n",
    "model.add(image_embeddings)    # add vectors to the index"
   ]
  },
  {
   "cell_type": "code",
   "execution_count": 22,
   "id": "satellite-malta",
   "metadata": {
    "execution": {
     "iopub.execute_input": "2021-04-23T07:10:38.446975Z",
     "iopub.status.busy": "2021-04-23T07:10:38.443031Z",
     "iopub.status.idle": "2021-04-23T07:10:38.454184Z",
     "shell.execute_reply": "2021-04-23T07:10:38.451240Z"
    },
    "papermill": {
     "duration": 0.058724,
     "end_time": "2021-04-23T07:10:38.454359",
     "exception": false,
     "start_time": "2021-04-23T07:10:38.395635",
     "status": "completed"
    },
    "tags": []
   },
   "outputs": [
    {
     "name": "stderr",
     "output_type": "stream",
     "text": [
      "100%|██████████| 3/3 [00:00<00:00, 1483.48it/s]"
     ]
    },
    {
     "name": "stdout",
     "output_type": "stream",
     "text": [
      "Finding similar images...\n"
     ]
    },
    {
     "name": "stderr",
     "output_type": "stream",
     "text": [
      "\n"
     ]
    }
   ],
   "source": [
    "preds = []\n",
    "CHUNK = 1024*4\n",
    "from tqdm import tqdm\n",
    "\n",
    "print('Finding similar images...')\n",
    "CTS = len(image_embeddings)//CHUNK\n",
    "if len(image_embeddings)%CHUNK!=0: CTS += 1\n",
    "# for j in range( CTS ):\n",
    "    \n",
    "#     a = j*CHUNK\n",
    "#     b = (j+1)*CHUNK\n",
    "#     b = min(b,len(image_embeddings))\n",
    "#     print('chunk',a,'to',b)\n",
    "#     distances, indices = model.kneighbors(image_embeddings[a:b,])\n",
    "    \n",
    "#     for k in range(b-a):\n",
    "#         IDX = np.where(distances[k,]<6.0)[0]\n",
    "# #         IDX = np.where(distances[k,]<3.6)[0]\n",
    "#         IDS = indices[k,IDX]\n",
    "#         o = test.iloc[IDS].posting_id.values\n",
    "#         preds.append(o)\n",
    "preds = []\n",
    "#13.75 -> 0.728\n",
    "#13 -> 0.729\n",
    "#12.5 -> 0.730\n",
    "#12 -> 0.729\n",
    "image_threshold = 12.5#13#13.75#3.6\n",
    "# distances, indices = model.kneighbors(image_embeddings)\n",
    "distances, indices = model.search(image_embeddings, KNN)\n",
    "for k in tqdm(range(image_embeddings.shape[0])):\n",
    "    idx = np.where(distances[k,] < image_threshold)[0]\n",
    "    ids = indices[k,idx]\n",
    "    posting_ids = test['posting_id'].iloc[ids].values\n",
    "    preds.append(posting_ids)"
   ]
  },
  {
   "cell_type": "code",
   "execution_count": 23,
   "id": "frank-armor",
   "metadata": {
    "execution": {
     "iopub.execute_input": "2021-04-23T07:10:38.789952Z",
     "iopub.status.busy": "2021-04-23T07:10:38.788954Z",
     "iopub.status.idle": "2021-04-23T07:10:38.792071Z",
     "shell.execute_reply": "2021-04-23T07:10:38.791521Z"
    },
    "papermill": {
     "duration": 0.297388,
     "end_time": "2021-04-23T07:10:38.792198",
     "exception": false,
     "start_time": "2021-04-23T07:10:38.494810",
     "status": "completed"
    },
    "tags": []
   },
   "outputs": [],
   "source": [
    "del model, distances, indices, image_embeddings, embeds\n",
    "_ = gc.collect()"
   ]
  },
  {
   "cell_type": "code",
   "execution_count": 24,
   "id": "suspected-scheme",
   "metadata": {
    "execution": {
     "iopub.execute_input": "2021-04-23T07:10:38.885195Z",
     "iopub.status.busy": "2021-04-23T07:10:38.881336Z",
     "iopub.status.idle": "2021-04-23T07:10:38.894375Z",
     "shell.execute_reply": "2021-04-23T07:10:38.894831Z"
    },
    "papermill": {
     "duration": 0.060687,
     "end_time": "2021-04-23T07:10:38.894979",
     "exception": false,
     "start_time": "2021-04-23T07:10:38.834292",
     "status": "completed"
    },
    "tags": []
   },
   "outputs": [
    {
     "data": {
      "text/html": [
       "<div>\n",
       "<style scoped>\n",
       "    .dataframe tbody tr th:only-of-type {\n",
       "        vertical-align: middle;\n",
       "    }\n",
       "\n",
       "    .dataframe tbody tr th {\n",
       "        vertical-align: top;\n",
       "    }\n",
       "\n",
       "    .dataframe thead th {\n",
       "        text-align: right;\n",
       "    }\n",
       "</style>\n",
       "<table border=\"1\" class=\"dataframe\">\n",
       "  <thead>\n",
       "    <tr style=\"text-align: right;\">\n",
       "      <th></th>\n",
       "      <th>posting_id</th>\n",
       "      <th>image</th>\n",
       "      <th>image_phash</th>\n",
       "      <th>title</th>\n",
       "      <th>preds</th>\n",
       "      <th>preds2</th>\n",
       "    </tr>\n",
       "  </thead>\n",
       "  <tbody>\n",
       "    <tr>\n",
       "      <th>0</th>\n",
       "      <td>test_2255846744</td>\n",
       "      <td>0006c8e5462ae52167402bac1c2e916e.jpg</td>\n",
       "      <td>ecc292392dc7687a</td>\n",
       "      <td>Edufuntoys - CHARACTER PHONE ada lampu dan mus...</td>\n",
       "      <td>[test_2255846744]</td>\n",
       "      <td>[test_2255846744]</td>\n",
       "    </tr>\n",
       "    <tr>\n",
       "      <th>1</th>\n",
       "      <td>test_3588702337</td>\n",
       "      <td>0007585c4d0f932859339129f709bfdc.jpg</td>\n",
       "      <td>e9968f60d2699e2c</td>\n",
       "      <td>(Beli 1 Free Spatula) Masker Komedo | Blackhea...</td>\n",
       "      <td>[test_3588702337]</td>\n",
       "      <td>[test_3588702337]</td>\n",
       "    </tr>\n",
       "    <tr>\n",
       "      <th>2</th>\n",
       "      <td>test_4015706929</td>\n",
       "      <td>0008377d3662e83ef44e1881af38b879.jpg</td>\n",
       "      <td>ba81c17e3581cabe</td>\n",
       "      <td>READY Lemonilo Mie instant sehat kuah dan goreng</td>\n",
       "      <td>[test_4015706929]</td>\n",
       "      <td>[test_4015706929]</td>\n",
       "    </tr>\n",
       "  </tbody>\n",
       "</table>\n",
       "</div>"
      ],
      "text/plain": [
       "        posting_id                                 image       image_phash  \\\n",
       "0  test_2255846744  0006c8e5462ae52167402bac1c2e916e.jpg  ecc292392dc7687a   \n",
       "1  test_3588702337  0007585c4d0f932859339129f709bfdc.jpg  e9968f60d2699e2c   \n",
       "2  test_4015706929  0008377d3662e83ef44e1881af38b879.jpg  ba81c17e3581cabe   \n",
       "\n",
       "                                               title              preds  \\\n",
       "0  Edufuntoys - CHARACTER PHONE ada lampu dan mus...  [test_2255846744]   \n",
       "1  (Beli 1 Free Spatula) Masker Komedo | Blackhea...  [test_3588702337]   \n",
       "2   READY Lemonilo Mie instant sehat kuah dan goreng  [test_4015706929]   \n",
       "\n",
       "              preds2  \n",
       "0  [test_2255846744]  \n",
       "1  [test_3588702337]  \n",
       "2  [test_4015706929]  "
      ]
     },
     "execution_count": 24,
     "metadata": {},
     "output_type": "execute_result"
    }
   ],
   "source": [
    "test['preds2'] = preds\n",
    "test.head()"
   ]
  },
  {
   "cell_type": "markdown",
   "id": "together-campaign",
   "metadata": {
    "papermill": {
     "duration": 0.039997,
     "end_time": "2021-04-23T07:10:38.973751",
     "exception": false,
     "start_time": "2021-04-23T07:10:38.933754",
     "status": "completed"
    },
    "tags": []
   },
   "source": [
    "# tfidf"
   ]
  },
  {
   "cell_type": "code",
   "execution_count": 25,
   "id": "enormous-wallace",
   "metadata": {
    "execution": {
     "iopub.execute_input": "2021-04-23T07:10:39.059488Z",
     "iopub.status.busy": "2021-04-23T07:10:39.058812Z",
     "iopub.status.idle": "2021-04-23T07:10:55.107866Z",
     "shell.execute_reply": "2021-04-23T07:10:55.108548Z"
    },
    "papermill": {
     "duration": 16.095612,
     "end_time": "2021-04-23T07:10:55.108790",
     "exception": false,
     "start_time": "2021-04-23T07:10:39.013178",
     "status": "completed"
    },
    "tags": []
   },
   "outputs": [
    {
     "name": "stdout",
     "output_type": "stream",
     "text": [
      "Computing text embeddings...\n",
      "text embeddings shape (3, 26)\n"
     ]
    }
   ],
   "source": [
    "print('Computing text embeddings...')\n",
    "model = TfidfVectorizer(stop_words='english', binary=True, max_features=25_000)\n",
    "test_gf = cudf.DataFrame(test)\n",
    "text_embeddings = model.fit_transform(test_gf.title).toarray()\n",
    "print('text embeddings shape',text_embeddings.shape)"
   ]
  },
  {
   "cell_type": "code",
   "execution_count": 26,
   "id": "blocked-lincoln",
   "metadata": {
    "execution": {
     "iopub.execute_input": "2021-04-23T07:10:55.201852Z",
     "iopub.status.busy": "2021-04-23T07:10:55.200876Z",
     "iopub.status.idle": "2021-04-23T07:10:55.464482Z",
     "shell.execute_reply": "2021-04-23T07:10:55.465197Z"
    },
    "papermill": {
     "duration": 0.314935,
     "end_time": "2021-04-23T07:10:55.465422",
     "exception": false,
     "start_time": "2021-04-23T07:10:55.150487",
     "status": "completed"
    },
    "tags": []
   },
   "outputs": [
    {
     "name": "stdout",
     "output_type": "stream",
     "text": [
      "Finding similar titles...\n",
      "chunk 0 to 3\n"
     ]
    }
   ],
   "source": [
    "preds = []\n",
    "CHUNK = 1024*4\n",
    "\n",
    "# 12.5 and 0.71 -> 0.731\n",
    "# 12.5 and 0.72 -> 0.731 better\n",
    "# 12.5 and 0.73 -> 0.732 \n",
    "# 12.5 and 0.74 -> 0.732\n",
    "# 12.5 and 0.75 -> 0.732\n",
    "# 12.5 and 0.76 -> 0.732 best\n",
    "text_threshold = 0.76#0.7\n",
    "\n",
    "print('Finding similar titles...')\n",
    "CTS = len(test)//CHUNK\n",
    "if len(test)%CHUNK!=0: CTS += 1\n",
    "for j in range( CTS ):\n",
    "    \n",
    "    a = j*CHUNK\n",
    "    b = (j+1)*CHUNK\n",
    "    b = min(b,len(test))\n",
    "    print('chunk',a,'to',b)\n",
    "    \n",
    "    # COSINE SIMILARITY DISTANCE\n",
    "    cts = cupy.matmul( text_embeddings, text_embeddings[a:b].T).T\n",
    "    \n",
    "    for k in range(b-a):\n",
    "        IDX = cupy.where(cts[k,]>text_threshold)[0]\n",
    "        o = test.iloc[cupy.asnumpy(IDX)].posting_id.values\n",
    "        preds.append(o)\n",
    "        \n",
    "del model, text_embeddings\n",
    "_ = gc.collect()"
   ]
  },
  {
   "cell_type": "code",
   "execution_count": 27,
   "id": "accessible-distribution",
   "metadata": {
    "execution": {
     "iopub.execute_input": "2021-04-23T07:10:55.563297Z",
     "iopub.status.busy": "2021-04-23T07:10:55.562414Z",
     "iopub.status.idle": "2021-04-23T07:10:55.565911Z",
     "shell.execute_reply": "2021-04-23T07:10:55.566383Z"
    },
    "papermill": {
     "duration": 0.059952,
     "end_time": "2021-04-23T07:10:55.566537",
     "exception": false,
     "start_time": "2021-04-23T07:10:55.506585",
     "status": "completed"
    },
    "tags": []
   },
   "outputs": [
    {
     "data": {
      "text/html": [
       "<div>\n",
       "<style scoped>\n",
       "    .dataframe tbody tr th:only-of-type {\n",
       "        vertical-align: middle;\n",
       "    }\n",
       "\n",
       "    .dataframe tbody tr th {\n",
       "        vertical-align: top;\n",
       "    }\n",
       "\n",
       "    .dataframe thead th {\n",
       "        text-align: right;\n",
       "    }\n",
       "</style>\n",
       "<table border=\"1\" class=\"dataframe\">\n",
       "  <thead>\n",
       "    <tr style=\"text-align: right;\">\n",
       "      <th></th>\n",
       "      <th>posting_id</th>\n",
       "      <th>image</th>\n",
       "      <th>image_phash</th>\n",
       "      <th>title</th>\n",
       "      <th>preds</th>\n",
       "      <th>preds2</th>\n",
       "      <th>preds4</th>\n",
       "    </tr>\n",
       "  </thead>\n",
       "  <tbody>\n",
       "    <tr>\n",
       "      <th>0</th>\n",
       "      <td>test_2255846744</td>\n",
       "      <td>0006c8e5462ae52167402bac1c2e916e.jpg</td>\n",
       "      <td>ecc292392dc7687a</td>\n",
       "      <td>Edufuntoys - CHARACTER PHONE ada lampu dan mus...</td>\n",
       "      <td>[test_2255846744]</td>\n",
       "      <td>[test_2255846744]</td>\n",
       "      <td>[test_2255846744]</td>\n",
       "    </tr>\n",
       "    <tr>\n",
       "      <th>1</th>\n",
       "      <td>test_3588702337</td>\n",
       "      <td>0007585c4d0f932859339129f709bfdc.jpg</td>\n",
       "      <td>e9968f60d2699e2c</td>\n",
       "      <td>(Beli 1 Free Spatula) Masker Komedo | Blackhea...</td>\n",
       "      <td>[test_3588702337]</td>\n",
       "      <td>[test_3588702337]</td>\n",
       "      <td>[test_3588702337]</td>\n",
       "    </tr>\n",
       "    <tr>\n",
       "      <th>2</th>\n",
       "      <td>test_4015706929</td>\n",
       "      <td>0008377d3662e83ef44e1881af38b879.jpg</td>\n",
       "      <td>ba81c17e3581cabe</td>\n",
       "      <td>READY Lemonilo Mie instant sehat kuah dan goreng</td>\n",
       "      <td>[test_4015706929]</td>\n",
       "      <td>[test_4015706929]</td>\n",
       "      <td>[test_4015706929]</td>\n",
       "    </tr>\n",
       "  </tbody>\n",
       "</table>\n",
       "</div>"
      ],
      "text/plain": [
       "        posting_id                                 image       image_phash  \\\n",
       "0  test_2255846744  0006c8e5462ae52167402bac1c2e916e.jpg  ecc292392dc7687a   \n",
       "1  test_3588702337  0007585c4d0f932859339129f709bfdc.jpg  e9968f60d2699e2c   \n",
       "2  test_4015706929  0008377d3662e83ef44e1881af38b879.jpg  ba81c17e3581cabe   \n",
       "\n",
       "                                               title              preds  \\\n",
       "0  Edufuntoys - CHARACTER PHONE ada lampu dan mus...  [test_2255846744]   \n",
       "1  (Beli 1 Free Spatula) Masker Komedo | Blackhea...  [test_3588702337]   \n",
       "2   READY Lemonilo Mie instant sehat kuah dan goreng  [test_4015706929]   \n",
       "\n",
       "              preds2             preds4  \n",
       "0  [test_2255846744]  [test_2255846744]  \n",
       "1  [test_3588702337]  [test_3588702337]  \n",
       "2  [test_4015706929]  [test_4015706929]  "
      ]
     },
     "execution_count": 27,
     "metadata": {},
     "output_type": "execute_result"
    }
   ],
   "source": [
    "test['preds4'] = preds\n",
    "test.head()"
   ]
  },
  {
   "cell_type": "markdown",
   "id": "agricultural-history",
   "metadata": {
    "papermill": {
     "duration": 0.04088,
     "end_time": "2021-04-23T07:10:55.647265",
     "exception": false,
     "start_time": "2021-04-23T07:10:55.606385",
     "status": "completed"
    },
    "tags": []
   },
   "source": [
    "# phash"
   ]
  },
  {
   "cell_type": "code",
   "execution_count": 28,
   "id": "considerable-berkeley",
   "metadata": {
    "execution": {
     "iopub.execute_input": "2021-04-23T07:10:55.759300Z",
     "iopub.status.busy": "2021-04-23T07:10:55.758454Z",
     "iopub.status.idle": "2021-04-23T07:10:55.762009Z",
     "shell.execute_reply": "2021-04-23T07:10:55.762475Z"
    },
    "papermill": {
     "duration": 0.073377,
     "end_time": "2021-04-23T07:10:55.762638",
     "exception": false,
     "start_time": "2021-04-23T07:10:55.689261",
     "status": "completed"
    },
    "tags": []
   },
   "outputs": [
    {
     "data": {
      "text/html": [
       "<div>\n",
       "<style scoped>\n",
       "    .dataframe tbody tr th:only-of-type {\n",
       "        vertical-align: middle;\n",
       "    }\n",
       "\n",
       "    .dataframe tbody tr th {\n",
       "        vertical-align: top;\n",
       "    }\n",
       "\n",
       "    .dataframe thead th {\n",
       "        text-align: right;\n",
       "    }\n",
       "</style>\n",
       "<table border=\"1\" class=\"dataframe\">\n",
       "  <thead>\n",
       "    <tr style=\"text-align: right;\">\n",
       "      <th></th>\n",
       "      <th>posting_id</th>\n",
       "      <th>image</th>\n",
       "      <th>image_phash</th>\n",
       "      <th>title</th>\n",
       "      <th>preds</th>\n",
       "      <th>preds2</th>\n",
       "      <th>preds4</th>\n",
       "      <th>preds3</th>\n",
       "    </tr>\n",
       "  </thead>\n",
       "  <tbody>\n",
       "    <tr>\n",
       "      <th>0</th>\n",
       "      <td>test_2255846744</td>\n",
       "      <td>0006c8e5462ae52167402bac1c2e916e.jpg</td>\n",
       "      <td>ecc292392dc7687a</td>\n",
       "      <td>Edufuntoys - CHARACTER PHONE ada lampu dan mus...</td>\n",
       "      <td>[test_2255846744]</td>\n",
       "      <td>[test_2255846744]</td>\n",
       "      <td>[test_2255846744]</td>\n",
       "      <td>[test_2255846744]</td>\n",
       "    </tr>\n",
       "    <tr>\n",
       "      <th>1</th>\n",
       "      <td>test_3588702337</td>\n",
       "      <td>0007585c4d0f932859339129f709bfdc.jpg</td>\n",
       "      <td>e9968f60d2699e2c</td>\n",
       "      <td>(Beli 1 Free Spatula) Masker Komedo | Blackhea...</td>\n",
       "      <td>[test_3588702337]</td>\n",
       "      <td>[test_3588702337]</td>\n",
       "      <td>[test_3588702337]</td>\n",
       "      <td>[test_3588702337]</td>\n",
       "    </tr>\n",
       "    <tr>\n",
       "      <th>2</th>\n",
       "      <td>test_4015706929</td>\n",
       "      <td>0008377d3662e83ef44e1881af38b879.jpg</td>\n",
       "      <td>ba81c17e3581cabe</td>\n",
       "      <td>READY Lemonilo Mie instant sehat kuah dan goreng</td>\n",
       "      <td>[test_4015706929]</td>\n",
       "      <td>[test_4015706929]</td>\n",
       "      <td>[test_4015706929]</td>\n",
       "      <td>[test_4015706929]</td>\n",
       "    </tr>\n",
       "  </tbody>\n",
       "</table>\n",
       "</div>"
      ],
      "text/plain": [
       "        posting_id                                 image       image_phash  \\\n",
       "0  test_2255846744  0006c8e5462ae52167402bac1c2e916e.jpg  ecc292392dc7687a   \n",
       "1  test_3588702337  0007585c4d0f932859339129f709bfdc.jpg  e9968f60d2699e2c   \n",
       "2  test_4015706929  0008377d3662e83ef44e1881af38b879.jpg  ba81c17e3581cabe   \n",
       "\n",
       "                                               title              preds  \\\n",
       "0  Edufuntoys - CHARACTER PHONE ada lampu dan mus...  [test_2255846744]   \n",
       "1  (Beli 1 Free Spatula) Masker Komedo | Blackhea...  [test_3588702337]   \n",
       "2   READY Lemonilo Mie instant sehat kuah dan goreng  [test_4015706929]   \n",
       "\n",
       "              preds2             preds4             preds3  \n",
       "0  [test_2255846744]  [test_2255846744]  [test_2255846744]  \n",
       "1  [test_3588702337]  [test_3588702337]  [test_3588702337]  \n",
       "2  [test_4015706929]  [test_4015706929]  [test_4015706929]  "
      ]
     },
     "execution_count": 28,
     "metadata": {},
     "output_type": "execute_result"
    }
   ],
   "source": [
    "tmp = test.groupby('image_phash').posting_id.agg('unique').to_dict()\n",
    "test['preds3'] = test.image_phash.map(tmp)\n",
    "test.head()"
   ]
  },
  {
   "cell_type": "markdown",
   "id": "chief-volume",
   "metadata": {
    "papermill": {
     "duration": 0.04146,
     "end_time": "2021-04-23T07:10:55.845812",
     "exception": false,
     "start_time": "2021-04-23T07:10:55.804352",
     "status": "completed"
    },
    "tags": []
   },
   "source": [
    "# Submission"
   ]
  },
  {
   "cell_type": "code",
   "execution_count": 29,
   "id": "decimal-fourth",
   "metadata": {
    "execution": {
     "iopub.execute_input": "2021-04-23T07:10:55.933762Z",
     "iopub.status.busy": "2021-04-23T07:10:55.932727Z",
     "iopub.status.idle": "2021-04-23T07:10:55.935112Z",
     "shell.execute_reply": "2021-04-23T07:10:55.935563Z"
    },
    "papermill": {
     "duration": 0.048531,
     "end_time": "2021-04-23T07:10:55.935724",
     "exception": false,
     "start_time": "2021-04-23T07:10:55.887193",
     "status": "completed"
    },
    "tags": []
   },
   "outputs": [],
   "source": [
    "# def combine_for_sub(row):\n",
    "#     x = np.concatenate([row.preds,row.preds2, row.preds3])\n",
    "#     return ' '.join( np.unique(x) )\n",
    "def combine_for_sub(row):\n",
    "    x = np.concatenate([row.preds,row.preds2, row.preds3, row.preds4])\n",
    "    return ' '.join( np.unique(x) )"
   ]
  },
  {
   "cell_type": "code",
   "execution_count": 30,
   "id": "supreme-million",
   "metadata": {
    "execution": {
     "iopub.execute_input": "2021-04-23T07:10:56.022058Z",
     "iopub.status.busy": "2021-04-23T07:10:56.020983Z",
     "iopub.status.idle": "2021-04-23T07:10:56.039119Z",
     "shell.execute_reply": "2021-04-23T07:10:56.038540Z"
    },
    "papermill": {
     "duration": 0.063295,
     "end_time": "2021-04-23T07:10:56.039264",
     "exception": false,
     "start_time": "2021-04-23T07:10:55.975969",
     "status": "completed"
    },
    "tags": []
   },
   "outputs": [],
   "source": [
    "df['matches'] = test.apply(combine_for_sub,axis=1)\n",
    "df[['posting_id','matches']].to_csv('submission.csv',index=False)"
   ]
  },
  {
   "cell_type": "code",
   "execution_count": null,
   "id": "fresh-conclusion",
   "metadata": {
    "papermill": {
     "duration": 0.041734,
     "end_time": "2021-04-23T07:10:56.123636",
     "exception": false,
     "start_time": "2021-04-23T07:10:56.081902",
     "status": "completed"
    },
    "tags": []
   },
   "outputs": [],
   "source": []
  },
  {
   "cell_type": "code",
   "execution_count": null,
   "id": "affected-moses",
   "metadata": {
    "papermill": {
     "duration": 0.041865,
     "end_time": "2021-04-23T07:10:56.207687",
     "exception": false,
     "start_time": "2021-04-23T07:10:56.165822",
     "status": "completed"
    },
    "tags": []
   },
   "outputs": [],
   "source": []
  },
  {
   "cell_type": "code",
   "execution_count": null,
   "id": "suitable-story",
   "metadata": {
    "papermill": {
     "duration": 0.043245,
     "end_time": "2021-04-23T07:10:56.295675",
     "exception": false,
     "start_time": "2021-04-23T07:10:56.252430",
     "status": "completed"
    },
    "tags": []
   },
   "outputs": [],
   "source": []
  }
 ],
 "metadata": {
  "kernelspec": {
   "display_name": "Python 3",
   "language": "python",
   "name": "python3"
  },
  "language_info": {
   "codemirror_mode": {
    "name": "ipython",
    "version": 3
   },
   "file_extension": ".py",
   "mimetype": "text/x-python",
   "name": "python",
   "nbconvert_exporter": "python",
   "pygments_lexer": "ipython3",
   "version": "3.7.10"
  },
  "papermill": {
   "default_parameters": {},
   "duration": 174.13931,
   "end_time": "2021-04-23T07:11:00.235497",
   "environment_variables": {},
   "exception": null,
   "input_path": "__notebook__.ipynb",
   "output_path": "__notebook__.ipynb",
   "parameters": {},
   "start_time": "2021-04-23T07:08:06.096187",
   "version": "2.3.3"
  }
 },
 "nbformat": 4,
 "nbformat_minor": 5
}
