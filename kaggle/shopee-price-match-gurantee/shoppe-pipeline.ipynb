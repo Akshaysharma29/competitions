{
 "cells": [
  {
   "cell_type": "code",
   "execution_count": 1,
   "metadata": {
    "execution": {
     "iopub.execute_input": "2021-04-08T02:42:17.746326Z",
     "iopub.status.busy": "2021-04-08T02:42:17.745559Z",
     "iopub.status.idle": "2021-04-08T02:42:17.748541Z",
     "shell.execute_reply": "2021-04-08T02:42:17.748071Z"
    },
    "papermill": {
     "duration": 0.024661,
     "end_time": "2021-04-08T02:42:17.748707",
     "exception": false,
     "start_time": "2021-04-08T02:42:17.724046",
     "status": "completed"
    },
    "tags": []
   },
   "outputs": [],
   "source": [
    "# Implemented Faiss to make similarity search fast\n",
    "# Tried VGG16                                                                                     0.592\n",
    "# Now trying InceptionResNetV2                                                                    0.525\n",
    "# Applied batching in prediction with Xception                                                    0.558\n",
    "# EfficientNetB0 , faiss distance threshold reduce 500 -> 25                                      0.497\n",
    "# EfficientNetB7 , faiss distance threshold reduce 25 -> 10                                       0.389\n",
    "# EfficientNetB0 , faiss distance threshold reduce 500 -> 1.1e-6  and Normalize images            0.517\n",
    "# VGG16 , faiss distance threshold = 1  and Normalized images                                     0.601\n",
    "               \n",
    "# Arcface efficientB3 threshold = 10  and Normalized images , batch size 32 gpu(0.678)   \n",
    "# Arcface efficientB3 threshold = 12  and Normalized images , batch size 32 gpu(0.687)             \n",
    "# Arcface efficientB3 threshold = 8  and Normalized images , batch size 32 gpu(0.666)              \n",
    "# Arcface efficientB3 threshold = 14  and Normalized images , batch size 32 gpu(0.691)\n",
    "# Arcface efficientB3 threshold = 16  and Normalized images , batch size 32 gpu(0.686)\n",
    "# Arcface efficientB3 threshold = 13  and Normalized images , batch size 32 gpu(0.690)\n",
    "# Arcface efficientB3 threshold = 14.5  and Normalized images , batch size 32 gpu(0.691)\n",
    "# Arcface efficientB3 threshold = 13.5  and Normalized images , batch size 32 gpu(0.692)\n",
    "# Arcface efficientB3 threshold = 15  and Normalized images , batch size 32 gpu(0.692)\n",
    "# Arcface efficientB3 threshold = 15  and Normalized images , batch size 32 gpu, resize_with_pad\n",
    "# Arcface efficientB3 threshold = 15  and Normalized images , batch size 32 gpu, resize_with_pad, latest model V5\n",
    "# Arcface efficientB3 threshold = 15  and Normalized images , batch size 32 gpu, resize_with_pad, latest model V9(0.69)\n",
    "# Arcface efficientB3 threshold = 10  and Normalized images , batch size 32 gpu, resize_with_pad, latest model V9(0.68)\n",
    "# Arcface efficientB3 threshold = 12.5  and Normalized images , batch size 32 gpu, resize_with_pad, latest model V9(0.69)\n",
    "# Arcface efficientB3 threshold = 13.75  and Normalized images , batch size 32 gpu, resize_with_pad, latest model V9\n",
    "# threshold = 13.75  and Normalized images , batch size 32 gpu, resize_with_pad, latest model ragnar715(0.693)\n",
    "# threshold = 15  and Normalized images , batch size 32 gpu, resize_with_pad, latest model ragnar715\n",
    "\n",
    "faiss_distance_threshold = 15#20#1#1.1e-6#10#25#500\n",
    "prediction_batch_size = 32"
   ]
  },
  {
   "cell_type": "code",
   "execution_count": 2,
   "metadata": {
    "execution": {
     "iopub.execute_input": "2021-04-08T02:42:17.786272Z",
     "iopub.status.busy": "2021-04-08T02:42:17.785729Z",
     "iopub.status.idle": "2021-04-08T02:43:22.235106Z",
     "shell.execute_reply": "2021-04-08T02:43:22.234587Z"
    },
    "papermill": {
     "duration": 64.470883,
     "end_time": "2021-04-08T02:43:22.235249",
     "exception": false,
     "start_time": "2021-04-08T02:42:17.764366",
     "status": "completed"
    },
    "tags": []
   },
   "outputs": [
    {
     "name": "stdout",
     "output_type": "stream",
     "text": [
      "Looking in links: /kaggle/input/faiss-170-latest-cpu-gpu/\r\n",
      "Processing /kaggle/input/faiss-170-latest-cpu-gpu/faiss_gpu-1.7.0-cp37-cp37m-manylinux2014_x86_64.whl\r\n",
      "Installing collected packages: faiss-gpu\r\n",
      "Successfully installed faiss-gpu-1.7.0\r\n",
      "Processing /kaggle/input/arcface-baseline/Keras_Applications-1.0.8-py3-none-any.whl\r\n",
      "Requirement already satisfied: h5py in /opt/conda/lib/python3.7/site-packages (from Keras-Applications==1.0.8) (2.10.0)\r\n",
      "Requirement already satisfied: numpy>=1.9.1 in /opt/conda/lib/python3.7/site-packages (from Keras-Applications==1.0.8) (1.19.5)\r\n",
      "Requirement already satisfied: six in /opt/conda/lib/python3.7/site-packages (from h5py->Keras-Applications==1.0.8) (1.15.0)\r\n",
      "Installing collected packages: Keras-Applications\r\n",
      "Successfully installed Keras-Applications-1.0.8\r\n",
      "Processing /kaggle/input/arcface-baseline/efficientnet-1.1.0-py3-none-any.whl\r\n",
      "Requirement already satisfied: keras-applications<=1.0.8,>=1.0.7 in /opt/conda/lib/python3.7/site-packages (from efficientnet==1.1.0) (1.0.8)\r\n",
      "Requirement already satisfied: scikit-image in /opt/conda/lib/python3.7/site-packages (from efficientnet==1.1.0) (0.18.1)\r\n",
      "Requirement already satisfied: numpy>=1.9.1 in /opt/conda/lib/python3.7/site-packages (from keras-applications<=1.0.8,>=1.0.7->efficientnet==1.1.0) (1.19.5)\r\n",
      "Requirement already satisfied: h5py in /opt/conda/lib/python3.7/site-packages (from keras-applications<=1.0.8,>=1.0.7->efficientnet==1.1.0) (2.10.0)\r\n",
      "Requirement already satisfied: six in /opt/conda/lib/python3.7/site-packages (from h5py->keras-applications<=1.0.8,>=1.0.7->efficientnet==1.1.0) (1.15.0)\r\n",
      "Requirement already satisfied: tifffile>=2019.7.26 in /opt/conda/lib/python3.7/site-packages (from scikit-image->efficientnet==1.1.0) (2021.2.1)\r\n",
      "Requirement already satisfied: scipy>=1.0.1 in /opt/conda/lib/python3.7/site-packages (from scikit-image->efficientnet==1.1.0) (1.5.4)\r\n",
      "Requirement already satisfied: imageio>=2.3.0 in /opt/conda/lib/python3.7/site-packages (from scikit-image->efficientnet==1.1.0) (2.9.0)\r\n",
      "Requirement already satisfied: networkx>=2.0 in /opt/conda/lib/python3.7/site-packages (from scikit-image->efficientnet==1.1.0) (2.5)\r\n",
      "Requirement already satisfied: pillow!=7.1.0,!=7.1.1,>=4.3.0 in /opt/conda/lib/python3.7/site-packages (from scikit-image->efficientnet==1.1.0) (7.2.0)\r\n",
      "Requirement already satisfied: PyWavelets>=1.1.1 in /opt/conda/lib/python3.7/site-packages (from scikit-image->efficientnet==1.1.0) (1.1.1)\r\n",
      "Requirement already satisfied: matplotlib!=3.0.0,>=2.0.0 in /opt/conda/lib/python3.7/site-packages (from scikit-image->efficientnet==1.1.0) (3.3.3)\r\n",
      "Requirement already satisfied: cycler>=0.10 in /opt/conda/lib/python3.7/site-packages (from matplotlib!=3.0.0,>=2.0.0->scikit-image->efficientnet==1.1.0) (0.10.0)\r\n",
      "Requirement already satisfied: pyparsing!=2.0.4,!=2.1.2,!=2.1.6,>=2.0.3 in /opt/conda/lib/python3.7/site-packages (from matplotlib!=3.0.0,>=2.0.0->scikit-image->efficientnet==1.1.0) (2.4.7)\r\n",
      "Requirement already satisfied: kiwisolver>=1.0.1 in /opt/conda/lib/python3.7/site-packages (from matplotlib!=3.0.0,>=2.0.0->scikit-image->efficientnet==1.1.0) (1.3.1)\r\n",
      "Requirement already satisfied: python-dateutil>=2.1 in /opt/conda/lib/python3.7/site-packages (from matplotlib!=3.0.0,>=2.0.0->scikit-image->efficientnet==1.1.0) (2.8.1)\r\n",
      "Requirement already satisfied: decorator>=4.3.0 in /opt/conda/lib/python3.7/site-packages (from networkx>=2.0->scikit-image->efficientnet==1.1.0) (4.4.2)\r\n",
      "Installing collected packages: efficientnet\r\n",
      "Successfully installed efficientnet-1.1.0\r\n"
     ]
    }
   ],
   "source": [
    "# !pip install --no-index --find-links '/kaggle/input/faiss-170-latest-cpu-gpu/' faiss-cpu==1.7.0\n",
    "!pip install --no-index --find-links '/kaggle/input/faiss-170-latest-cpu-gpu/' faiss-gpu==1.7.0\n",
    "!pip install ../input/arcface-baseline/Keras_Applications-1.0.8-py3-none-any.whl\n",
    "!pip install /kaggle/input/arcface-baseline/efficientnet-1.1.0-py3-none-any.whl"
   ]
  },
  {
   "cell_type": "code",
   "execution_count": 3,
   "metadata": {
    "execution": {
     "iopub.execute_input": "2021-04-08T02:43:22.281220Z",
     "iopub.status.busy": "2021-04-08T02:43:22.278982Z",
     "iopub.status.idle": "2021-04-08T02:43:28.448483Z",
     "shell.execute_reply": "2021-04-08T02:43:28.448938Z"
    },
    "papermill": {
     "duration": 6.194495,
     "end_time": "2021-04-08T02:43:28.449114",
     "exception": false,
     "start_time": "2021-04-08T02:43:22.254619",
     "status": "completed"
    },
    "tags": []
   },
   "outputs": [],
   "source": [
    "from tqdm import tqdm\n",
    "from keras.models import load_model, Model\n",
    "from keras.layers import Input, GlobalAveragePooling2D, Dense\n",
    "from keras.applications.resnet50 import ResNet50\n",
    "from keras.applications.vgg16 import VGG16\n",
    "from tensorflow.keras.applications import InceptionResNetV2, Xception, EfficientNetB0, EfficientNetB7\n",
    "import efficientnet.tfkeras as efn\n",
    "from PIL import Image\n",
    "import tensorflow as tf\n",
    "import faiss\n",
    "import os\n",
    "import cv2\n",
    "import time\n",
    "import math\n",
    "import matplotlib.pyplot as plt\n",
    "import numpy as np # linear algebra\n",
    "import pandas as pd # data processing"
   ]
  },
  {
   "cell_type": "code",
   "execution_count": 4,
   "metadata": {
    "execution": {
     "iopub.execute_input": "2021-04-08T02:43:28.536449Z",
     "iopub.status.busy": "2021-04-08T02:43:28.535247Z",
     "iopub.status.idle": "2021-04-08T02:43:28.538423Z",
     "shell.execute_reply": "2021-04-08T02:43:28.537469Z"
    },
    "papermill": {
     "duration": 0.045946,
     "end_time": "2021-04-08T02:43:28.538654",
     "exception": false,
     "start_time": "2021-04-08T02:43:28.492708",
     "status": "completed"
    },
    "tags": []
   },
   "outputs": [],
   "source": [
    "# model_pwd = '/kaggle/input/siamese-network-with-triplet-loss-base-model/embedding_model.h5'\n",
    "# embedding_model = load_model(model_pwd)\n",
    "# IMAGE_SIZE = [224,224]\n",
    "# image_input=Input(shape=(224,224,3))\n",
    "\n",
    "# model_pwd ='../input/keras-pretrained-models/vgg16_weights_tf_dim_ordering_tf_kernels_notop.h5'\n",
    "# model = VGG16(weights=model_pwd,input_tensor=image_input, include_top=False)\n",
    "\n",
    "# model_pwd ='../input/keras-pretrained-models/xception_weights_tf_dim_ordering_tf_kernels_notop.h5'\n",
    "# model = Xception(weights=model_pwd,input_tensor=image_input, include_top=False)\n",
    "\n",
    "# model_pwd ='../input/efficientnetb0/efficientnetb0_notop.h5'\n",
    "# model = EfficientNetB0(weights=model_pwd, input_tensor=image_input, include_top=False)\n",
    "\n",
    "# model_pwd ='../input/efficientnetb7/efficientnetb7_notop.h5'\n",
    "# model = EfficientNetB7(weights=model_pwd,input_tensor=image_input, include_top=False)\n",
    "# model = EfficientNetB7(weights='imagenet', input_tensor=image_input, include_top=False)\n",
    "\n",
    "# x=model.output\n",
    "# x=GlobalAveragePooling2D()(x)\n",
    "# x=Dense(512,activation='relu')(x)\n",
    "# embedding_model = Model(image_input,x)\n",
    "# embedding_model.summary()"
   ]
  },
  {
   "cell_type": "markdown",
   "metadata": {
    "papermill": {
     "duration": 0.03596,
     "end_time": "2021-04-08T02:43:28.615710",
     "exception": false,
     "start_time": "2021-04-08T02:43:28.579750",
     "status": "completed"
    },
    "tags": []
   },
   "source": [
    "# ArcFace"
   ]
  },
  {
   "cell_type": "code",
   "execution_count": 5,
   "metadata": {
    "execution": {
     "iopub.execute_input": "2021-04-08T02:43:28.692332Z",
     "iopub.status.busy": "2021-04-08T02:43:28.691510Z",
     "iopub.status.idle": "2021-04-08T02:43:28.708129Z",
     "shell.execute_reply": "2021-04-08T02:43:28.707121Z"
    },
    "papermill": {
     "duration": 0.057411,
     "end_time": "2021-04-08T02:43:28.708285",
     "exception": false,
     "start_time": "2021-04-08T02:43:28.650874",
     "status": "completed"
    },
    "tags": []
   },
   "outputs": [],
   "source": [
    "# Arcmarginproduct class keras layer\n",
    "class ArcMarginProduct(tf.keras.layers.Layer):\n",
    "    '''\n",
    "    Implements large margin arc distance.\n",
    "\n",
    "    Reference:\n",
    "        https://arxiv.org/pdf/1801.07698.pdf\n",
    "        https://github.com/lyakaap/Landmark2019-1st-and-3rd-Place-Solution/\n",
    "            blob/master/src/modeling/metric_learning.py\n",
    "    '''\n",
    "    def __init__(self, n_classes, s=30, m=0.50, easy_margin=False,\n",
    "                 ls_eps=0.0, **kwargs):\n",
    "\n",
    "        super(ArcMarginProduct, self).__init__(**kwargs)\n",
    "\n",
    "        self.n_classes = n_classes\n",
    "        self.s = s\n",
    "        self.m = m\n",
    "        self.ls_eps = ls_eps\n",
    "        self.easy_margin = easy_margin\n",
    "        self.cos_m = tf.math.cos(m)\n",
    "        self.sin_m = tf.math.sin(m)\n",
    "        self.th = tf.math.cos(math.pi - m)\n",
    "        self.mm = tf.math.sin(math.pi - m) * m\n",
    "\n",
    "    def get_config(self):\n",
    "\n",
    "        config = super().get_config().copy()\n",
    "        config.update({\n",
    "            'n_classes': self.n_classes,\n",
    "            's': self.s,\n",
    "            'm': self.m,\n",
    "            'ls_eps': self.ls_eps,\n",
    "            'easy_margin': self.easy_margin,\n",
    "        })\n",
    "        return config\n",
    "\n",
    "    def build(self, input_shape):\n",
    "        super(ArcMarginProduct, self).build(input_shape[0])\n",
    "\n",
    "        self.W = self.add_weight(\n",
    "            name='W',\n",
    "            shape=(int(input_shape[0][-1]), self.n_classes),\n",
    "            initializer='glorot_uniform',\n",
    "            dtype='float32',\n",
    "            trainable=True,\n",
    "            regularizer=None)\n",
    "\n",
    "    def call(self, inputs):\n",
    "        X, y = inputs\n",
    "        y = tf.cast(y, dtype=tf.int32)\n",
    "        cosine = tf.matmul(\n",
    "            tf.math.l2_normalize(X, axis=1),\n",
    "            tf.math.l2_normalize(self.W, axis=0)\n",
    "        )\n",
    "        sine = tf.math.sqrt(1.0 - tf.math.pow(cosine, 2))\n",
    "        phi = cosine * self.cos_m - sine * self.sin_m\n",
    "        if self.easy_margin:\n",
    "            phi = tf.where(cosine > 0, phi, cosine)\n",
    "        else:\n",
    "            phi = tf.where(cosine > self.th, phi, cosine - self.mm)\n",
    "        one_hot = tf.cast(\n",
    "            tf.one_hot(y, depth=self.n_classes),\n",
    "            dtype=cosine.dtype\n",
    "        )\n",
    "        if self.ls_eps > 0:\n",
    "            one_hot = (1 - self.ls_eps) * one_hot + self.ls_eps / self.n_classes\n",
    "\n",
    "        output = (one_hot * phi) + ((1.0 - one_hot) * cosine)\n",
    "        output *= self.s\n",
    "        return output"
   ]
  },
  {
   "cell_type": "code",
   "execution_count": 6,
   "metadata": {
    "execution": {
     "iopub.execute_input": "2021-04-08T02:43:28.784431Z",
     "iopub.status.busy": "2021-04-08T02:43:28.783649Z",
     "iopub.status.idle": "2021-04-08T02:43:37.994637Z",
     "shell.execute_reply": "2021-04-08T02:43:37.994196Z"
    },
    "papermill": {
     "duration": 9.253738,
     "end_time": "2021-04-08T02:43:37.994780",
     "exception": false,
     "start_time": "2021-04-08T02:43:28.741042",
     "status": "completed"
    },
    "tags": []
   },
   "outputs": [
    {
     "name": "stdout",
     "output_type": "stream",
     "text": [
      "Model: \"model\"\n",
      "__________________________________________________________________________________________________\n",
      "Layer (type)                    Output Shape         Param #     Connected to                     \n",
      "==================================================================================================\n",
      "inp1 (InputLayer)               [(None, 512, 512, 3) 0                                            \n",
      "__________________________________________________________________________________________________\n",
      "efficientnet-b3 (Functional)    (None, None, None, 1 10783528    inp1[0][0]                       \n",
      "__________________________________________________________________________________________________\n",
      "global_average_pooling2d (Globa (None, 1536)         0           efficientnet-b3[0][0]            \n",
      "__________________________________________________________________________________________________\n",
      "inp2 (InputLayer)               [(None,)]            0                                            \n",
      "__________________________________________________________________________________________________\n",
      "head/arc_margin (ArcMarginProdu (None, 11011)        16912896    global_average_pooling2d[0][0]   \n",
      "                                                                 inp2[0][0]                       \n",
      "__________________________________________________________________________________________________\n",
      "softmax (Softmax)               (None, 11011)        0           head/arc_margin[0][0]            \n",
      "==================================================================================================\n",
      "Total params: 27,696,424\n",
      "Trainable params: 27,609,128\n",
      "Non-trainable params: 87,296\n",
      "__________________________________________________________________________________________________\n"
     ]
    }
   ],
   "source": [
    "# For tf.dataset\n",
    "AUTO = tf.data.experimental.AUTOTUNE\n",
    "\n",
    "# Configuration\n",
    "BATCH_SIZE = 8\n",
    "IMAGE_SIZE = [512, 512]\n",
    "# Seed\n",
    "SEED = 42\n",
    "# Verbosity\n",
    "VERBOSE = 1\n",
    "# Number of classes\n",
    "N_CLASSES = 11011#11014\n",
    "\n",
    "\n",
    "margin = ArcMarginProduct(\n",
    "            n_classes = N_CLASSES, \n",
    "            s = 30, \n",
    "            m = 0.7, \n",
    "            name='head/arc_margin', \n",
    "            dtype='float32'\n",
    "            )\n",
    "\n",
    "inp = tf.keras.layers.Input(shape = (*IMAGE_SIZE, 3), name = 'inp1')\n",
    "label = tf.keras.layers.Input(shape = (), name = 'inp2')\n",
    "x = efn.EfficientNetB3(weights = None, include_top = False)(inp)\n",
    "x = tf.keras.layers.GlobalAveragePooling2D()(x)\n",
    "x = margin([x, label])\n",
    "\n",
    "output = tf.keras.layers.Softmax(dtype='float32')(x)\n",
    "\n",
    "model = tf.keras.models.Model(inputs = [inp, label], outputs = [output])\n",
    "# model.load_weights('../input/efficientnetb3-512-42-v9/EfficientNetB3_512_42_V9.h5')\n",
    "model.load_weights('../input/ragnar715score/EfficientNetB3_512_42.h5')\n",
    "model.summary()"
   ]
  },
  {
   "cell_type": "code",
   "execution_count": 7,
   "metadata": {
    "execution": {
     "iopub.execute_input": "2021-04-08T02:43:38.046362Z",
     "iopub.status.busy": "2021-04-08T02:43:38.039216Z",
     "iopub.status.idle": "2021-04-08T02:43:38.066611Z",
     "shell.execute_reply": "2021-04-08T02:43:38.066126Z"
    },
    "papermill": {
     "duration": 0.052255,
     "end_time": "2021-04-08T02:43:38.066720",
     "exception": false,
     "start_time": "2021-04-08T02:43:38.014465",
     "status": "completed"
    },
    "tags": []
   },
   "outputs": [
    {
     "name": "stdout",
     "output_type": "stream",
     "text": [
      "Model: \"model_1\"\n",
      "_________________________________________________________________\n",
      "Layer (type)                 Output Shape              Param #   \n",
      "=================================================================\n",
      "inp1 (InputLayer)            [(None, 512, 512, 3)]     0         \n",
      "_________________________________________________________________\n",
      "efficientnet-b3 (Functional) (None, None, None, 1536)  10783528  \n",
      "_________________________________________________________________\n",
      "global_average_pooling2d (Gl (None, 1536)              0         \n",
      "=================================================================\n",
      "Total params: 10,783,528\n",
      "Trainable params: 10,696,232\n",
      "Non-trainable params: 87,296\n",
      "_________________________________________________________________\n"
     ]
    }
   ],
   "source": [
    "embedding_model = tf.keras.models.Model(inputs = model.input[0], outputs = model.layers[-4].output)\n",
    "embedding_model.summary()"
   ]
  },
  {
   "cell_type": "code",
   "execution_count": 8,
   "metadata": {
    "execution": {
     "iopub.execute_input": "2021-04-08T02:43:38.109702Z",
     "iopub.status.busy": "2021-04-08T02:43:38.109210Z",
     "iopub.status.idle": "2021-04-08T02:43:38.113137Z",
     "shell.execute_reply": "2021-04-08T02:43:38.113542Z"
    },
    "papermill": {
     "duration": 0.027148,
     "end_time": "2021-04-08T02:43:38.113676",
     "exception": false,
     "start_time": "2021-04-08T02:43:38.086528",
     "status": "completed"
    },
    "tags": []
   },
   "outputs": [],
   "source": [
    "# from keras.datasets import mnist\n",
    "# from scipy import spatial\n",
    "# import math\n",
    "\n",
    "\n",
    "# (X_train_check, y_train_check), (X_test_check, y_test_check) = mnist.load_data()\n",
    "# x_0 = embedding_model.predict(X_train_check[0].reshape(-1,28,28,1))\n",
    "# x_3 = embedding_model.predict(X_train_check[3].reshape(-1,28,28,1))\n",
    "# x_6 = embedding_model.predict(X_train_check[6].reshape(-1,28,28,1))\n",
    "# print(x_3)\n",
    "\n",
    "# # print(spatial.distance.cosine(x_3,x_3))\n",
    "# # print(spatial.distance.cosine(x_3,x_6))\n",
    "# # print(spatial.distance.cosine(x_0,x_6))\n",
    "\n",
    "\n",
    "# # print(cosine_similarity(x_3,x_6))\n",
    "# # print(cosine_similarity(x_0,x_3))"
   ]
  },
  {
   "cell_type": "markdown",
   "metadata": {
    "papermill": {
     "duration": 0.019964,
     "end_time": "2021-04-08T02:43:38.153987",
     "exception": false,
     "start_time": "2021-04-08T02:43:38.134023",
     "status": "completed"
    },
    "tags": []
   },
   "source": [
    "# Analysing model results"
   ]
  },
  {
   "cell_type": "code",
   "execution_count": 9,
   "metadata": {
    "execution": {
     "iopub.execute_input": "2021-04-08T02:43:38.197601Z",
     "iopub.status.busy": "2021-04-08T02:43:38.196915Z",
     "iopub.status.idle": "2021-04-08T02:43:38.199325Z",
     "shell.execute_reply": "2021-04-08T02:43:38.199829Z"
    },
    "papermill": {
     "duration": 0.02611,
     "end_time": "2021-04-08T02:43:38.199956",
     "exception": false,
     "start_time": "2021-04-08T02:43:38.173846",
     "status": "completed"
    },
    "tags": []
   },
   "outputs": [],
   "source": [
    "# test_image_path = '/kaggle/input/shopee-product-matching/test_images/'\n",
    "# image_names = os.listdir(test_image_path)\n",
    "# image_embeddings = []\n",
    "# for i in image_names:\n",
    "#     img = cv2.imread(test_image_path+i, 1)\n",
    "#     img = cv2.cvtColor(img, cv2.COLOR_BGR2RGB)\n",
    "# #     print(img.shape)\n",
    "# #     plt.imshow(img)\n",
    "# #     plt.show()\n",
    "    \n",
    "#     img = cv2.cvtColor(img, cv2.COLOR_RGB2GRAY)\n",
    "#     resize_img= cv2.resize(img, (28, 28), interpolation = cv2.INTER_CUBIC)\n",
    "# #     plt.imshow(resize_img)\n",
    "# #     plt.show()\n",
    "#     image_embeddings.append(embedding_model.predict(resize_img.reshape(-1,28,28,1)))\n",
    "# #     print(embedding_model.predict(resize_img.reshape(-1,28,28,1)))\n",
    "# #     print('--------------------------')\n",
    "# print(cosine_similarity(image_embeddings[0],image_embeddings[0]))\n",
    "# print(cosine_similarity(image_embeddings[0],image_embeddings[1]))\n",
    "# print(cosine_similarity(image_embeddings[0],image_embeddings[2]))\n",
    "# print(cosine_similarity(image_embeddings[1],image_embeddings[2]))"
   ]
  },
  {
   "cell_type": "markdown",
   "metadata": {
    "papermill": {
     "duration": 0.019982,
     "end_time": "2021-04-08T02:43:38.239812",
     "exception": false,
     "start_time": "2021-04-08T02:43:38.219830",
     "status": "completed"
    },
    "tags": []
   },
   "source": [
    "# Build Knn/Embedding dictionary and Generating test image embeddings "
   ]
  },
  {
   "cell_type": "code",
   "execution_count": 10,
   "metadata": {
    "execution": {
     "iopub.execute_input": "2021-04-08T02:43:38.283827Z",
     "iopub.status.busy": "2021-04-08T02:43:38.283114Z",
     "iopub.status.idle": "2021-04-08T02:43:38.286012Z",
     "shell.execute_reply": "2021-04-08T02:43:38.285471Z"
    },
    "papermill": {
     "duration": 0.026387,
     "end_time": "2021-04-08T02:43:38.286122",
     "exception": false,
     "start_time": "2021-04-08T02:43:38.259735",
     "status": "completed"
    },
    "tags": []
   },
   "outputs": [],
   "source": [
    "# test_csv_path = '/kaggle/input/shopee-product-matching/test.csv'\n",
    "# # test_csv_path = '/kaggle/input/shopee-product-matching/train.csv'\n",
    "# test_data = pd.read_csv(test_csv_path)\n",
    "# test_data.head()"
   ]
  },
  {
   "cell_type": "code",
   "execution_count": 11,
   "metadata": {
    "execution": {
     "iopub.execute_input": "2021-04-08T02:43:38.330086Z",
     "iopub.status.busy": "2021-04-08T02:43:38.329431Z",
     "iopub.status.idle": "2021-04-08T02:43:38.331988Z",
     "shell.execute_reply": "2021-04-08T02:43:38.332371Z"
    },
    "papermill": {
     "duration": 0.026291,
     "end_time": "2021-04-08T02:43:38.332493",
     "exception": false,
     "start_time": "2021-04-08T02:43:38.306202",
     "status": "completed"
    },
    "tags": []
   },
   "outputs": [],
   "source": [
    "# start_time= time.time()\n",
    "# test_image_path = '/kaggle/input/shopee-product-matching/test_images/'\n",
    "# image_names = test_data['image'].values\n",
    "# posting_ids = test_data['posting_id'].values\n",
    "# image_embeds = []\n",
    "# for i,img_name in tqdm(enumerate(image_names)):\n",
    "#     img = cv2.imread(test_image_path+img_name, 1)\n",
    "#     img = cv2.cvtColor(img, cv2.COLOR_BGR2RGB)\n",
    "#     resize_img= cv2.resize(img, (224, 224), interpolation = cv2.INTER_CUBIC)\n",
    "#     image_embeds.append(embedding_model.predict(resize_img.reshape(-1,224,224,3)))\n",
    "# # print(time.time()-start_time)\n",
    "# # del embedding_model"
   ]
  },
  {
   "cell_type": "markdown",
   "metadata": {
    "papermill": {
     "duration": 0.020082,
     "end_time": "2021-04-08T02:43:38.375907",
     "exception": false,
     "start_time": "2021-04-08T02:43:38.355825",
     "status": "completed"
    },
    "tags": []
   },
   "source": [
    "# Batching"
   ]
  },
  {
   "cell_type": "code",
   "execution_count": 12,
   "metadata": {
    "execution": {
     "iopub.execute_input": "2021-04-08T02:43:38.420622Z",
     "iopub.status.busy": "2021-04-08T02:43:38.419917Z",
     "iopub.status.idle": "2021-04-08T02:43:38.422367Z",
     "shell.execute_reply": "2021-04-08T02:43:38.422897Z"
    },
    "papermill": {
     "duration": 0.026919,
     "end_time": "2021-04-08T02:43:38.423032",
     "exception": false,
     "start_time": "2021-04-08T02:43:38.396113",
     "status": "completed"
    },
    "tags": []
   },
   "outputs": [],
   "source": [
    "# start_time= time.time()\n",
    "# test_image_path = '/kaggle/input/shopee-product-matching/test_images/'\n",
    "# # test_image_path = '/kaggle/input/shopee-product-matching/train_images/'\n",
    "# image_names = test_data['image'].values\n",
    "# posting_ids = test_data['posting_id'].values\n",
    "# resize_images = []\n",
    "# for i,img_name in tqdm(enumerate(image_names)):\n",
    "#     img = cv2.imread(test_image_path+img_name, 1)\n",
    "#     img = cv2.cvtColor(img, cv2.COLOR_BGR2RGB)\n",
    "# #     print(img.shape)\n",
    "# #     plt.imshow(img)\n",
    "# #     plt.show()\n",
    "    \n",
    "# #     img = cv2.cvtColor(img, cv2.COLOR_RGB2GRAY)\n",
    "#     resize_img= cv2.resize(img, (224, 224), interpolation = cv2.INTER_CUBIC)\n",
    "#     resize_images.append(resize_img)\n",
    "# #     plt.imshow(resize_img)\n",
    "# #     plt.show()\n",
    "# #     print(embedding_model.predict(resize_img.reshape(-1,28,28,1)))\n",
    "# #     print('--------------------------')\n",
    "# print(time.time()-start_time)\n",
    "# print(len(resize_images),np.array(resize_images).shape)\n",
    "# del image_names"
   ]
  },
  {
   "cell_type": "code",
   "execution_count": 13,
   "metadata": {
    "execution": {
     "iopub.execute_input": "2021-04-08T02:43:38.467440Z",
     "iopub.status.busy": "2021-04-08T02:43:38.466752Z",
     "iopub.status.idle": "2021-04-08T02:43:38.469289Z",
     "shell.execute_reply": "2021-04-08T02:43:38.469792Z"
    },
    "papermill": {
     "duration": 0.026744,
     "end_time": "2021-04-08T02:43:38.469914",
     "exception": false,
     "start_time": "2021-04-08T02:43:38.443170",
     "status": "completed"
    },
    "tags": []
   },
   "outputs": [],
   "source": [
    "# #Batch implementation\n",
    "\n",
    "# start_time= time.time()\n",
    "# image_embeds = []\n",
    "# batch_size = 2#32\n",
    "# iteration = math.floor(len(resize_images)/batch_size)\n",
    "# resize_images = np.array(resize_images)\n",
    "# for i in tqdm(range(iteration)):\n",
    "#     image_embeds.append(embedding_model.predict(resize_images[batch_size*i:batch_size*(i+1)]))\n",
    "# image_embeds.append(embedding_model.predict(resize_images[batch_size*(i+1):]))\n",
    "# print(time.time()-start_time)\n",
    "# image_embeds = np.concatenate(image_embeds)\n",
    "# print(image_embeds.shape)\n",
    "# del embedding_model\n",
    "# del resize_images"
   ]
  },
  {
   "cell_type": "code",
   "execution_count": 14,
   "metadata": {
    "execution": {
     "iopub.execute_input": "2021-04-08T02:43:38.516797Z",
     "iopub.status.busy": "2021-04-08T02:43:38.516026Z",
     "iopub.status.idle": "2021-04-08T02:43:38.518978Z",
     "shell.execute_reply": "2021-04-08T02:43:38.518496Z"
    },
    "papermill": {
     "duration": 0.028094,
     "end_time": "2021-04-08T02:43:38.519089",
     "exception": false,
     "start_time": "2021-04-08T02:43:38.490995",
     "status": "completed"
    },
    "tags": []
   },
   "outputs": [],
   "source": [
    "def prepocess(image):\n",
    "#     image = tf.image.decode_jpeg(image, channels = 3)\n",
    "    image = tf.image.resize_with_pad(image, target_width = IMAGE_SIZE[0], target_height = IMAGE_SIZE[1])\n",
    "#     image = tf.image.resize(image, IMAGE_SIZE)\n",
    "    image = tf.cast(image, tf.float32) / 255.0\n",
    "    return image"
   ]
  },
  {
   "cell_type": "code",
   "execution_count": 15,
   "metadata": {
    "execution": {
     "iopub.execute_input": "2021-04-08T02:43:38.571085Z",
     "iopub.status.busy": "2021-04-08T02:43:38.570542Z",
     "iopub.status.idle": "2021-04-08T02:43:43.818043Z",
     "shell.execute_reply": "2021-04-08T02:43:43.818643Z"
    },
    "papermill": {
     "duration": 5.278619,
     "end_time": "2021-04-08T02:43:43.818846",
     "exception": false,
     "start_time": "2021-04-08T02:43:38.540227",
     "status": "completed"
    },
    "tags": []
   },
   "outputs": [
    {
     "name": "stderr",
     "output_type": "stream",
     "text": [
      "100%|██████████| 2/2 [00:05<00:00,  2.61s/it]"
     ]
    },
    {
     "name": "stdout",
     "output_type": "stream",
     "text": [
      "5.2296974658966064\n",
      "(3, 1536)\n"
     ]
    },
    {
     "name": "stderr",
     "output_type": "stream",
     "text": [
      "\n"
     ]
    }
   ],
   "source": [
    "#Batch implementation\n",
    "test_csv_path = '/kaggle/input/shopee-product-matching/test.csv'\n",
    "# test_csv_path = '/kaggle/input/shopee-product-matching/train.csv'\n",
    "test_data = pd.read_csv(test_csv_path)\n",
    "test_image_path = '/kaggle/input/shopee-product-matching/test_images/'\n",
    "# test_image_path = '/kaggle/input/shopee-product-matching/train_images/'\n",
    "image_names = test_data['image'].values\n",
    "posting_ids = test_data['posting_id'].values\n",
    "\n",
    "\n",
    "start_time= time.time()\n",
    "image_embeds = []\n",
    "total_images = len(image_names)\n",
    "if total_images==3:\n",
    "    batch_size = 2\n",
    "else:\n",
    "    batch_size = prediction_batch_size\n",
    "iteration = math.ceil(total_images/batch_size)\n",
    "for i in tqdm(range(iteration)):\n",
    "    resize_images = []\n",
    "    start = batch_size*i\n",
    "    end = min(batch_size*(i+1),total_images)\n",
    "    for img_name in image_names[batch_size*i:batch_size*(i+1)]:\n",
    "        img = cv2.imread(test_image_path+img_name, 1)\n",
    "        img = cv2.cvtColor(img, cv2.COLOR_BGR2RGB)\n",
    "#         resize_img= cv2.resize(img,(IMAGE_SIZE[0], IMAGE_SIZE[1]), interpolation = cv2.INTER_CUBIC)\n",
    "#         resize_img = resize_img/255.0\n",
    "        resize_img = prepocess(img)\n",
    "#         plt.imshow(resize_img)\n",
    "#         plt.show()\n",
    "        resize_images.append(resize_img)\n",
    "    resize_images = np.array(resize_images)\n",
    "    image_embeds.append(embedding_model.predict(resize_images))\n",
    "    del resize_images\n",
    "# image_embeds.append(embedding_model.predict(resize_images[batch_size*(i+1):]))\n",
    "print(time.time()-start_time)\n",
    "image_embeds = np.concatenate(image_embeds)\n",
    "print(image_embeds.shape)\n"
   ]
  },
  {
   "cell_type": "code",
   "execution_count": 16,
   "metadata": {
    "execution": {
     "iopub.execute_input": "2021-04-08T02:43:43.868802Z",
     "iopub.status.busy": "2021-04-08T02:43:43.868152Z",
     "iopub.status.idle": "2021-04-08T02:43:43.871113Z",
     "shell.execute_reply": "2021-04-08T02:43:43.870692Z"
    },
    "papermill": {
     "duration": 0.029469,
     "end_time": "2021-04-08T02:43:43.871222",
     "exception": false,
     "start_time": "2021-04-08T02:43:43.841753",
     "status": "completed"
    },
    "tags": []
   },
   "outputs": [],
   "source": [
    "del embedding_model\n",
    "del start_time"
   ]
  },
  {
   "cell_type": "markdown",
   "metadata": {
    "papermill": {
     "duration": 0.022288,
     "end_time": "2021-04-08T02:43:43.916299",
     "exception": false,
     "start_time": "2021-04-08T02:43:43.894011",
     "status": "completed"
    },
    "tags": []
   },
   "source": [
    "# Faiss"
   ]
  },
  {
   "cell_type": "code",
   "execution_count": 17,
   "metadata": {
    "execution": {
     "iopub.execute_input": "2021-04-08T02:43:43.966453Z",
     "iopub.status.busy": "2021-04-08T02:43:43.965618Z",
     "iopub.status.idle": "2021-04-08T02:43:43.970289Z",
     "shell.execute_reply": "2021-04-08T02:43:43.971007Z"
    },
    "papermill": {
     "duration": 0.032359,
     "end_time": "2021-04-08T02:43:43.971176",
     "exception": false,
     "start_time": "2021-04-08T02:43:43.938817",
     "status": "completed"
    },
    "tags": []
   },
   "outputs": [
    {
     "name": "stdout",
     "output_type": "stream",
     "text": [
      "True\n",
      "3\n"
     ]
    }
   ],
   "source": [
    "d = 1536#512\n",
    "# xb = np.array(image_embeds).reshape(-1,d)\n",
    "xb = image_embeds\n",
    "del image_embeds\n",
    "index = faiss.IndexFlatL2(d)   # build the index\n",
    "print(index.is_trained)\n",
    "index.add(xb)                  # add vectors to the index\n",
    "print(index.ntotal)"
   ]
  },
  {
   "cell_type": "code",
   "execution_count": 18,
   "metadata": {
    "execution": {
     "iopub.execute_input": "2021-04-08T02:43:44.020894Z",
     "iopub.status.busy": "2021-04-08T02:43:44.020321Z",
     "iopub.status.idle": "2021-04-08T02:43:44.044159Z",
     "shell.execute_reply": "2021-04-08T02:43:44.044575Z"
    },
    "papermill": {
     "duration": 0.050554,
     "end_time": "2021-04-08T02:43:44.044714",
     "exception": false,
     "start_time": "2021-04-08T02:43:43.994160",
     "status": "completed"
    },
    "tags": []
   },
   "outputs": [],
   "source": [
    "k = 50                          # we want to see 4 nearest neighbors\n",
    "# D, I = index.search(xb[:3], k) # sanity check\n",
    "D, I = index.search(xb, k) # sanity check\n",
    "# print(I)                       #indexs   \n",
    "# print(D)                       #Dictances"
   ]
  },
  {
   "cell_type": "code",
   "execution_count": 19,
   "metadata": {
    "execution": {
     "iopub.execute_input": "2021-04-08T02:43:44.096000Z",
     "iopub.status.busy": "2021-04-08T02:43:44.095381Z",
     "iopub.status.idle": "2021-04-08T02:43:44.097916Z",
     "shell.execute_reply": "2021-04-08T02:43:44.098295Z"
    },
    "papermill": {
     "duration": 0.029464,
     "end_time": "2021-04-08T02:43:44.098422",
     "exception": false,
     "start_time": "2021-04-08T02:43:44.068958",
     "status": "completed"
    },
    "tags": []
   },
   "outputs": [],
   "source": [
    "del xb\n",
    "del index"
   ]
  },
  {
   "cell_type": "code",
   "execution_count": 20,
   "metadata": {
    "execution": {
     "iopub.execute_input": "2021-04-08T02:43:44.150057Z",
     "iopub.status.busy": "2021-04-08T02:43:44.149406Z",
     "iopub.status.idle": "2021-04-08T02:43:44.152184Z",
     "shell.execute_reply": "2021-04-08T02:43:44.151697Z"
    },
    "papermill": {
     "duration": 0.030569,
     "end_time": "2021-04-08T02:43:44.152289",
     "exception": false,
     "start_time": "2021-04-08T02:43:44.121720",
     "status": "completed"
    },
    "tags": []
   },
   "outputs": [],
   "source": [
    "matched_list = []\n",
    "for i,vali in enumerate(I):\n",
    "    temp_list = ''\n",
    "    for j,valj in enumerate(vali):\n",
    "        if valj==-1:\n",
    "            break\n",
    "        if D[i][j]>faiss_distance_threshold:\n",
    "            break\n",
    "        temp_list+=posting_ids[valj]+' '\n",
    "    matched_list.append(temp_list)"
   ]
  },
  {
   "cell_type": "code",
   "execution_count": 21,
   "metadata": {
    "execution": {
     "iopub.execute_input": "2021-04-08T02:43:44.201961Z",
     "iopub.status.busy": "2021-04-08T02:43:44.201239Z",
     "iopub.status.idle": "2021-04-08T02:43:44.203892Z",
     "shell.execute_reply": "2021-04-08T02:43:44.204283Z"
    },
    "papermill": {
     "duration": 0.029064,
     "end_time": "2021-04-08T02:43:44.204404",
     "exception": false,
     "start_time": "2021-04-08T02:43:44.175340",
     "status": "completed"
    },
    "tags": []
   },
   "outputs": [],
   "source": [
    "del D\n",
    "del I"
   ]
  },
  {
   "cell_type": "markdown",
   "metadata": {
    "papermill": {
     "duration": 0.023591,
     "end_time": "2021-04-08T02:43:44.251224",
     "exception": false,
     "start_time": "2021-04-08T02:43:44.227633",
     "status": "completed"
    },
    "tags": []
   },
   "source": [
    "# Preparing submission file"
   ]
  },
  {
   "cell_type": "code",
   "execution_count": 22,
   "metadata": {
    "execution": {
     "iopub.execute_input": "2021-04-08T02:43:44.303016Z",
     "iopub.status.busy": "2021-04-08T02:43:44.302302Z",
     "iopub.status.idle": "2021-04-08T02:43:44.305006Z",
     "shell.execute_reply": "2021-04-08T02:43:44.304593Z"
    },
    "papermill": {
     "duration": 0.030606,
     "end_time": "2021-04-08T02:43:44.305119",
     "exception": false,
     "start_time": "2021-04-08T02:43:44.274513",
     "status": "completed"
    },
    "tags": []
   },
   "outputs": [],
   "source": [
    "df = pd.DataFrame({\n",
    "    'posting_id':posting_ids, \n",
    "    'matches':matched_list\n",
    "})\n",
    "del posting_ids\n",
    "del matched_list"
   ]
  },
  {
   "cell_type": "code",
   "execution_count": 23,
   "metadata": {
    "execution": {
     "iopub.execute_input": "2021-04-08T02:43:44.355498Z",
     "iopub.status.busy": "2021-04-08T02:43:44.354856Z",
     "iopub.status.idle": "2021-04-08T02:43:44.459656Z",
     "shell.execute_reply": "2021-04-08T02:43:44.459168Z"
    },
    "papermill": {
     "duration": 0.131524,
     "end_time": "2021-04-08T02:43:44.459784",
     "exception": false,
     "start_time": "2021-04-08T02:43:44.328260",
     "status": "completed"
    },
    "tags": []
   },
   "outputs": [],
   "source": [
    "df.to_csv('submission.csv',index=False)"
   ]
  },
  {
   "cell_type": "code",
   "execution_count": 24,
   "metadata": {
    "execution": {
     "iopub.execute_input": "2021-04-08T02:43:44.520351Z",
     "iopub.status.busy": "2021-04-08T02:43:44.519646Z",
     "iopub.status.idle": "2021-04-08T02:43:44.528665Z",
     "shell.execute_reply": "2021-04-08T02:43:44.529107Z"
    },
    "papermill": {
     "duration": 0.045676,
     "end_time": "2021-04-08T02:43:44.529244",
     "exception": false,
     "start_time": "2021-04-08T02:43:44.483568",
     "status": "completed"
    },
    "tags": []
   },
   "outputs": [
    {
     "data": {
      "text/html": [
       "<div>\n",
       "<style scoped>\n",
       "    .dataframe tbody tr th:only-of-type {\n",
       "        vertical-align: middle;\n",
       "    }\n",
       "\n",
       "    .dataframe tbody tr th {\n",
       "        vertical-align: top;\n",
       "    }\n",
       "\n",
       "    .dataframe thead th {\n",
       "        text-align: right;\n",
       "    }\n",
       "</style>\n",
       "<table border=\"1\" class=\"dataframe\">\n",
       "  <thead>\n",
       "    <tr style=\"text-align: right;\">\n",
       "      <th></th>\n",
       "      <th>posting_id</th>\n",
       "      <th>matches</th>\n",
       "    </tr>\n",
       "  </thead>\n",
       "  <tbody>\n",
       "    <tr>\n",
       "      <th>0</th>\n",
       "      <td>test_2255846744</td>\n",
       "      <td>test_2255846744</td>\n",
       "    </tr>\n",
       "    <tr>\n",
       "      <th>1</th>\n",
       "      <td>test_3588702337</td>\n",
       "      <td>test_3588702337</td>\n",
       "    </tr>\n",
       "    <tr>\n",
       "      <th>2</th>\n",
       "      <td>test_4015706929</td>\n",
       "      <td>test_4015706929</td>\n",
       "    </tr>\n",
       "  </tbody>\n",
       "</table>\n",
       "</div>"
      ],
      "text/plain": [
       "        posting_id           matches\n",
       "0  test_2255846744  test_2255846744 \n",
       "1  test_3588702337  test_3588702337 \n",
       "2  test_4015706929  test_4015706929 "
      ]
     },
     "execution_count": 24,
     "metadata": {},
     "output_type": "execute_result"
    }
   ],
   "source": [
    "df.head()"
   ]
  },
  {
   "cell_type": "code",
   "execution_count": null,
   "metadata": {
    "papermill": {
     "duration": 0.023628,
     "end_time": "2021-04-08T02:43:44.576708",
     "exception": false,
     "start_time": "2021-04-08T02:43:44.553080",
     "status": "completed"
    },
    "tags": []
   },
   "outputs": [],
   "source": []
  },
  {
   "cell_type": "code",
   "execution_count": null,
   "metadata": {
    "papermill": {
     "duration": 0.024169,
     "end_time": "2021-04-08T02:43:44.624519",
     "exception": false,
     "start_time": "2021-04-08T02:43:44.600350",
     "status": "completed"
    },
    "tags": []
   },
   "outputs": [],
   "source": []
  },
  {
   "cell_type": "code",
   "execution_count": null,
   "metadata": {
    "papermill": {
     "duration": 0.023408,
     "end_time": "2021-04-08T02:43:44.671603",
     "exception": false,
     "start_time": "2021-04-08T02:43:44.648195",
     "status": "completed"
    },
    "tags": []
   },
   "outputs": [],
   "source": []
  }
 ],
 "metadata": {
  "kernelspec": {
   "display_name": "Python 3",
   "language": "python",
   "name": "python3"
  },
  "language_info": {
   "codemirror_mode": {
    "name": "ipython",
    "version": 3
   },
   "file_extension": ".py",
   "mimetype": "text/x-python",
   "name": "python",
   "nbconvert_exporter": "python",
   "pygments_lexer": "ipython3",
   "version": "3.7.9"
  },
  "papermill": {
   "default_parameters": {},
   "duration": 94.754113,
   "end_time": "2021-04-08T02:43:47.615836",
   "environment_variables": {},
   "exception": null,
   "input_path": "__notebook__.ipynb",
   "output_path": "__notebook__.ipynb",
   "parameters": {},
   "start_time": "2021-04-08T02:42:12.861723",
   "version": "2.2.2"
  }
 },
 "nbformat": 4,
 "nbformat_minor": 4
}
