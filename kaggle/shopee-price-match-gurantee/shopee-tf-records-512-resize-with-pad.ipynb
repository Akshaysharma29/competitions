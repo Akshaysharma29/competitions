{
 "cells": [
  {
   "cell_type": "code",
   "execution_count": 1,
   "metadata": {
    "_cell_guid": "b1076dfc-b9ad-4769-8c92-a6c4dae69d19",
    "_uuid": "8f2839f25d086af736a60e9eeb907d3b93b6e0e5",
    "execution": {
     "iopub.execute_input": "2021-04-23T04:46:55.489630Z",
     "iopub.status.busy": "2021-04-23T04:46:55.489066Z",
     "iopub.status.idle": "2021-04-23T04:47:01.523899Z",
     "shell.execute_reply": "2021-04-23T04:47:01.523147Z"
    },
    "papermill": {
     "duration": 6.049053,
     "end_time": "2021-04-23T04:47:01.524112",
     "exception": false,
     "start_time": "2021-04-23T04:46:55.475059",
     "status": "completed"
    },
    "tags": []
   },
   "outputs": [],
   "source": [
    "import numpy as np\n",
    "import pandas as pd\n",
    "import matplotlib.pyplot as plt\n",
    "import cv2\n",
    "import tensorflow as tf\n",
    "import re\n",
    "import math\n",
    "import os\n",
    "from tqdm import tqdm\n",
    "from sklearn.model_selection import StratifiedKFold \n",
    "\n",
    "\n",
    "# Amount of tf records we want to create\n",
    "FOLDS = 15\n",
    "# FOLDS = 2\n",
    "# Random seed for stratification\n",
    "SEED = 123\n",
    "# Image size \n",
    "IMAGE_SIZE = (512, 512)"
   ]
  },
  {
   "cell_type": "code",
   "execution_count": 2,
   "metadata": {
    "execution": {
     "iopub.execute_input": "2021-04-23T04:47:01.547201Z",
     "iopub.status.busy": "2021-04-23T04:47:01.546560Z",
     "iopub.status.idle": "2021-04-23T04:47:01.549347Z",
     "shell.execute_reply": "2021-04-23T04:47:01.548841Z"
    },
    "papermill": {
     "duration": 0.01679,
     "end_time": "2021-04-23T04:47:01.549518",
     "exception": false,
     "start_time": "2021-04-23T04:47:01.532728",
     "status": "completed"
    },
    "tags": []
   },
   "outputs": [],
   "source": [
    "# Function to get our f1 score\n",
    "def f1_score(y_true, y_pred):\n",
    "    y_true = y_true.apply(lambda x: set(x.split()))\n",
    "    y_pred = y_pred.apply(lambda x: set(x.split()))\n",
    "    intersection = np.array([len(x[0] & x[1]) for x in zip(y_true, y_pred)])\n",
    "    len_y_pred = y_pred.apply(lambda x: len(x)).values\n",
    "    len_y_true = y_true.apply(lambda x: len(x)).values\n",
    "    f1 = 2 * intersection / (len_y_pred + len_y_true)\n",
    "    return f1"
   ]
  },
  {
   "cell_type": "code",
   "execution_count": 3,
   "metadata": {
    "execution": {
     "iopub.execute_input": "2021-04-23T04:47:01.573415Z",
     "iopub.status.busy": "2021-04-23T04:47:01.572836Z",
     "iopub.status.idle": "2021-04-23T04:47:01.576075Z",
     "shell.execute_reply": "2021-04-23T04:47:01.575589Z"
    },
    "papermill": {
     "duration": 0.018737,
     "end_time": "2021-04-23T04:47:01.576217",
     "exception": false,
     "start_time": "2021-04-23T04:47:01.557480",
     "status": "completed"
    },
    "tags": []
   },
   "outputs": [],
   "source": [
    "# Function to read and preprocess our data\n",
    "def preprocess():\n",
    "    # Read train and test csv\n",
    "    train = pd.read_csv('../input/shopee-product-matching/train.csv')\n",
    "    test = pd.read_csv('../input/shopee-product-matching/test.csv')\n",
    "    # Drop duplicates images to avoid leakage (dont know if this is correct)\n",
    "    train.drop_duplicates(subset = ['image'], inplace = True)\n",
    "    train.reset_index(drop = True, inplace = True)\n",
    "    label_mapper = dict(zip(train['label_group'].unique(), np.arange(len(train['label_group'].unique()))))\n",
    "    label_mapper_inv = dict(zip(np.arange(len(train['label_group'].unique())), train['label_group'].unique()))\n",
    "    train['label_group'] = train['label_group'].map(label_mapper)\n",
    "    # Number of classes\n",
    "    N_CLASSES = train['label_group'].nunique()\n",
    "    # Get ground truth labels format\n",
    "    tmp = train.groupby(['label_group'])['posting_id'].unique().to_dict()\n",
    "#     return train.groupby(['label_group'])\n",
    "#     print(train.groupby(['label_group'])['posting_id'].unique())\n",
    "    train['matches'] = train['label_group'].map(tmp)\n",
    "    train['matches'] = train['matches'].apply(lambda x: ' '.join(x))\n",
    "    # Calculate naive score using self-post\n",
    "    train['f1'] = f1_score(train['matches'], train['posting_id'])\n",
    "    score = train['f1'].mean()\n",
    "    print(f'Using the same posting id as prediction our f1 score is {score}')\n",
    "    print(f'We have a multiclass problem with {N_CLASSES} classes')\n",
    "    return train"
   ]
  },
  {
   "cell_type": "code",
   "execution_count": 4,
   "metadata": {
    "execution": {
     "iopub.execute_input": "2021-04-23T04:47:01.597460Z",
     "iopub.status.busy": "2021-04-23T04:47:01.596868Z",
     "iopub.status.idle": "2021-04-23T04:47:02.989881Z",
     "shell.execute_reply": "2021-04-23T04:47:02.990713Z"
    },
    "papermill": {
     "duration": 1.406468,
     "end_time": "2021-04-23T04:47:02.990972",
     "exception": false,
     "start_time": "2021-04-23T04:47:01.584504",
     "status": "completed"
    },
    "tags": []
   },
   "outputs": [
    {
     "name": "stdout",
     "output_type": "stream",
     "text": [
      "Using the same posting id as prediction our f1 score is 0.48310682247119097\n",
      "We have a multiclass problem with 11011 classes\n"
     ]
    }
   ],
   "source": [
    "train = preprocess()"
   ]
  },
  {
   "cell_type": "code",
   "execution_count": 5,
   "metadata": {
    "execution": {
     "iopub.execute_input": "2021-04-23T04:47:03.013929Z",
     "iopub.status.busy": "2021-04-23T04:47:03.013068Z",
     "iopub.status.idle": "2021-04-23T04:47:03.016331Z",
     "shell.execute_reply": "2021-04-23T04:47:03.015817Z"
    },
    "papermill": {
     "duration": 0.016059,
     "end_time": "2021-04-23T04:47:03.016459",
     "exception": false,
     "start_time": "2021-04-23T04:47:03.000400",
     "status": "completed"
    },
    "tags": []
   },
   "outputs": [],
   "source": [
    "# train.head()"
   ]
  },
  {
   "cell_type": "code",
   "execution_count": 6,
   "metadata": {
    "execution": {
     "iopub.execute_input": "2021-04-23T04:47:03.038003Z",
     "iopub.status.busy": "2021-04-23T04:47:03.037142Z",
     "iopub.status.idle": "2021-04-23T04:47:03.039467Z",
     "shell.execute_reply": "2021-04-23T04:47:03.039898Z"
    },
    "papermill": {
     "duration": 0.015022,
     "end_time": "2021-04-23T04:47:03.040081",
     "exception": false,
     "start_time": "2021-04-23T04:47:03.025059",
     "status": "completed"
    },
    "tags": []
   },
   "outputs": [],
   "source": [
    "# def check(row):\n",
    "#     if len(row['matches'].split())>1:\n",
    "#         return row\n",
    "#     else:\n",
    "#         row['matches'] = None\n",
    "#         return row"
   ]
  },
  {
   "cell_type": "code",
   "execution_count": 7,
   "metadata": {
    "execution": {
     "iopub.execute_input": "2021-04-23T04:47:03.060761Z",
     "iopub.status.busy": "2021-04-23T04:47:03.059913Z",
     "iopub.status.idle": "2021-04-23T04:47:03.063393Z",
     "shell.execute_reply": "2021-04-23T04:47:03.063903Z"
    },
    "papermill": {
     "duration": 0.015037,
     "end_time": "2021-04-23T04:47:03.064074",
     "exception": false,
     "start_time": "2021-04-23T04:47:03.049037",
     "status": "completed"
    },
    "tags": []
   },
   "outputs": [],
   "source": [
    "# print(train.shape)\n",
    "# data = train.apply(check, axis=1)\n",
    "# data.shape"
   ]
  },
  {
   "cell_type": "code",
   "execution_count": 8,
   "metadata": {
    "execution": {
     "iopub.execute_input": "2021-04-23T04:47:03.084897Z",
     "iopub.status.busy": "2021-04-23T04:47:03.084062Z",
     "iopub.status.idle": "2021-04-23T04:47:03.088247Z",
     "shell.execute_reply": "2021-04-23T04:47:03.088729Z"
    },
    "papermill": {
     "duration": 0.015832,
     "end_time": "2021-04-23T04:47:03.088875",
     "exception": false,
     "start_time": "2021-04-23T04:47:03.073043",
     "status": "completed"
    },
    "tags": []
   },
   "outputs": [],
   "source": [
    "# # data['matches'].isnull().values.any()\n",
    "# print(data['matches'].isnull().sum())\n",
    "# # data['matches'].isnull().values\n",
    "# print(data.shape)\n",
    "# print(data.dropna(inplace=True))\n",
    "# print(data.shape)\n",
    "# train=data\n",
    "# train.reset_index(drop = True, inplace = True)\n",
    "# print(train['label_group'].nunique())"
   ]
  },
  {
   "cell_type": "code",
   "execution_count": 9,
   "metadata": {
    "execution": {
     "iopub.execute_input": "2021-04-23T04:47:03.110657Z",
     "iopub.status.busy": "2021-04-23T04:47:03.109880Z",
     "iopub.status.idle": "2021-04-23T04:47:03.112248Z",
     "shell.execute_reply": "2021-04-23T04:47:03.112673Z"
    },
    "papermill": {
     "duration": 0.015114,
     "end_time": "2021-04-23T04:47:03.112813",
     "exception": false,
     "start_time": "2021-04-23T04:47:03.097699",
     "status": "completed"
    },
    "tags": []
   },
   "outputs": [],
   "source": [
    "# # Function to read and preprocess our data\n",
    "# def preprocess2(train):\n",
    "#     train.drop_duplicates(subset = ['image'], inplace = True)\n",
    "#     train.reset_index(drop = True, inplace = True)\n",
    "#     label_mapper = dict(zip(train['label_group'].unique(), np.arange(len(train['label_group'].unique()))))\n",
    "#     label_mapper_inv = dict(zip(np.arange(len(train['label_group'].unique())), train['label_group'].unique()))\n",
    "#     train['label_group'] = train['label_group'].map(label_mapper)\n",
    "#     # Number of classes\n",
    "#     N_CLASSES = train['label_group'].nunique()\n",
    "#     # Get ground truth labels format\n",
    "#     tmp = train.groupby(['label_group'])['posting_id'].unique().to_dict()\n",
    "# #     return train.groupby(['label_group'])\n",
    "# #     print(train.groupby(['label_group'])['posting_id'].unique())\n",
    "#     train['matches'] = train['label_group'].map(tmp)\n",
    "#     train['matches'] = train['matches'].apply(lambda x: ' '.join(x))\n",
    "#     # Calculate naive score using self-post\n",
    "#     train['f1'] = f1_score(train['matches'], train['posting_id'])\n",
    "#     score = train['f1'].mean()\n",
    "#     print(f'Using the same posting id as prediction our f1 score is {score}')\n",
    "#     print(f'We have a multiclass problem with {N_CLASSES} classes')\n",
    "#     return train"
   ]
  },
  {
   "cell_type": "code",
   "execution_count": 10,
   "metadata": {
    "execution": {
     "iopub.execute_input": "2021-04-23T04:47:03.133926Z",
     "iopub.status.busy": "2021-04-23T04:47:03.132396Z",
     "iopub.status.idle": "2021-04-23T04:47:03.136717Z",
     "shell.execute_reply": "2021-04-23T04:47:03.136249Z"
    },
    "papermill": {
     "duration": 0.015288,
     "end_time": "2021-04-23T04:47:03.136834",
     "exception": false,
     "start_time": "2021-04-23T04:47:03.121546",
     "status": "completed"
    },
    "tags": []
   },
   "outputs": [],
   "source": [
    "# train = preprocess2(train)"
   ]
  },
  {
   "cell_type": "code",
   "execution_count": 11,
   "metadata": {
    "execution": {
     "iopub.execute_input": "2021-04-23T04:47:03.159992Z",
     "iopub.status.busy": "2021-04-23T04:47:03.159188Z",
     "iopub.status.idle": "2021-04-23T04:47:03.430182Z",
     "shell.execute_reply": "2021-04-23T04:47:03.430615Z"
    },
    "papermill": {
     "duration": 0.285092,
     "end_time": "2021-04-23T04:47:03.430785",
     "exception": false,
     "start_time": "2021-04-23T04:47:03.145693",
     "status": "completed"
    },
    "tags": []
   },
   "outputs": [
    {
     "name": "stderr",
     "output_type": "stream",
     "text": [
      "/opt/conda/lib/python3.7/site-packages/sklearn/model_selection/_split.py:668: UserWarning: The least populated class in y has only 1 members, which is less than n_splits=15.\n",
      "  % (min_groups, self.n_splits)), UserWarning)\n"
     ]
    }
   ],
   "source": [
    "kfold = StratifiedKFold(n_splits = FOLDS, shuffle = True, random_state = SEED)\n",
    "for fold, (trn_ind, val_ind) in enumerate(kfold.split(train, train['label_group'])):\n",
    "#     print(trn_ind, val_ind)\n",
    "    train.loc[val_ind, 'fold'] = fold\n",
    "train['fold'] = train['fold'].astype(int)"
   ]
  },
  {
   "cell_type": "code",
   "execution_count": 12,
   "metadata": {
    "execution": {
     "iopub.execute_input": "2021-04-23T04:47:03.455065Z",
     "iopub.status.busy": "2021-04-23T04:47:03.454464Z",
     "iopub.status.idle": "2021-04-23T04:47:03.472932Z",
     "shell.execute_reply": "2021-04-23T04:47:03.472455Z"
    },
    "papermill": {
     "duration": 0.032912,
     "end_time": "2021-04-23T04:47:03.473087",
     "exception": false,
     "start_time": "2021-04-23T04:47:03.440175",
     "status": "completed"
    },
    "tags": []
   },
   "outputs": [
    {
     "data": {
      "text/html": [
       "<div>\n",
       "<style scoped>\n",
       "    .dataframe tbody tr th:only-of-type {\n",
       "        vertical-align: middle;\n",
       "    }\n",
       "\n",
       "    .dataframe tbody tr th {\n",
       "        vertical-align: top;\n",
       "    }\n",
       "\n",
       "    .dataframe thead th {\n",
       "        text-align: right;\n",
       "    }\n",
       "</style>\n",
       "<table border=\"1\" class=\"dataframe\">\n",
       "  <thead>\n",
       "    <tr style=\"text-align: right;\">\n",
       "      <th></th>\n",
       "      <th>posting_id</th>\n",
       "      <th>image</th>\n",
       "      <th>image_phash</th>\n",
       "      <th>title</th>\n",
       "      <th>label_group</th>\n",
       "      <th>matches</th>\n",
       "      <th>f1</th>\n",
       "      <th>fold</th>\n",
       "    </tr>\n",
       "  </thead>\n",
       "  <tbody>\n",
       "    <tr>\n",
       "      <th>0</th>\n",
       "      <td>train_129225211</td>\n",
       "      <td>0000a68812bc7e98c42888dfb1c07da0.jpg</td>\n",
       "      <td>94974f937d4c2433</td>\n",
       "      <td>Paper Bag Victoria Secret</td>\n",
       "      <td>0</td>\n",
       "      <td>train_129225211 train_2278313361</td>\n",
       "      <td>0.666667</td>\n",
       "      <td>1</td>\n",
       "    </tr>\n",
       "    <tr>\n",
       "      <th>1</th>\n",
       "      <td>train_3386243561</td>\n",
       "      <td>00039780dfc94d01db8676fe789ecd05.jpg</td>\n",
       "      <td>af3f9460c2838f0f</td>\n",
       "      <td>Double Tape 3M VHB 12 mm x 4,5 m ORIGINAL / DO...</td>\n",
       "      <td>1</td>\n",
       "      <td>train_3386243561 train_3423213080</td>\n",
       "      <td>0.666667</td>\n",
       "      <td>2</td>\n",
       "    </tr>\n",
       "    <tr>\n",
       "      <th>2</th>\n",
       "      <td>train_2288590299</td>\n",
       "      <td>000a190fdd715a2a36faed16e2c65df7.jpg</td>\n",
       "      <td>b94cb00ed3e50f78</td>\n",
       "      <td>Maling TTS Canned Pork Luncheon Meat 397 gr</td>\n",
       "      <td>2</td>\n",
       "      <td>train_2288590299 train_3803689425</td>\n",
       "      <td>0.666667</td>\n",
       "      <td>5</td>\n",
       "    </tr>\n",
       "    <tr>\n",
       "      <th>3</th>\n",
       "      <td>train_2406599165</td>\n",
       "      <td>00117e4fc239b1b641ff08340b429633.jpg</td>\n",
       "      <td>8514fc58eafea283</td>\n",
       "      <td>Daster Batik Lengan pendek - Motif Acak / Camp...</td>\n",
       "      <td>3</td>\n",
       "      <td>train_2406599165 train_3342059966</td>\n",
       "      <td>0.666667</td>\n",
       "      <td>7</td>\n",
       "    </tr>\n",
       "    <tr>\n",
       "      <th>4</th>\n",
       "      <td>train_3369186413</td>\n",
       "      <td>00136d1cf4edede0203f32f05f660588.jpg</td>\n",
       "      <td>a6f319f924ad708c</td>\n",
       "      <td>Nescafe \\xc3\\x89clair Latte 220ml</td>\n",
       "      <td>4</td>\n",
       "      <td>train_3369186413 train_921438619</td>\n",
       "      <td>0.666667</td>\n",
       "      <td>9</td>\n",
       "    </tr>\n",
       "  </tbody>\n",
       "</table>\n",
       "</div>"
      ],
      "text/plain": [
       "         posting_id                                 image       image_phash  \\\n",
       "0   train_129225211  0000a68812bc7e98c42888dfb1c07da0.jpg  94974f937d4c2433   \n",
       "1  train_3386243561  00039780dfc94d01db8676fe789ecd05.jpg  af3f9460c2838f0f   \n",
       "2  train_2288590299  000a190fdd715a2a36faed16e2c65df7.jpg  b94cb00ed3e50f78   \n",
       "3  train_2406599165  00117e4fc239b1b641ff08340b429633.jpg  8514fc58eafea283   \n",
       "4  train_3369186413  00136d1cf4edede0203f32f05f660588.jpg  a6f319f924ad708c   \n",
       "\n",
       "                                               title  label_group  \\\n",
       "0                          Paper Bag Victoria Secret            0   \n",
       "1  Double Tape 3M VHB 12 mm x 4,5 m ORIGINAL / DO...            1   \n",
       "2        Maling TTS Canned Pork Luncheon Meat 397 gr            2   \n",
       "3  Daster Batik Lengan pendek - Motif Acak / Camp...            3   \n",
       "4                  Nescafe \\xc3\\x89clair Latte 220ml            4   \n",
       "\n",
       "                             matches        f1  fold  \n",
       "0   train_129225211 train_2278313361  0.666667     1  \n",
       "1  train_3386243561 train_3423213080  0.666667     2  \n",
       "2  train_2288590299 train_3803689425  0.666667     5  \n",
       "3  train_2406599165 train_3342059966  0.666667     7  \n",
       "4   train_3369186413 train_921438619  0.666667     9  "
      ]
     },
     "execution_count": 12,
     "metadata": {},
     "output_type": "execute_result"
    }
   ],
   "source": [
    "train.head()"
   ]
  },
  {
   "cell_type": "code",
   "execution_count": 13,
   "metadata": {
    "execution": {
     "iopub.execute_input": "2021-04-23T04:47:03.498167Z",
     "iopub.status.busy": "2021-04-23T04:47:03.497454Z",
     "iopub.status.idle": "2021-04-23T04:47:03.500796Z",
     "shell.execute_reply": "2021-04-23T04:47:03.500349Z"
    },
    "papermill": {
     "duration": 0.017989,
     "end_time": "2021-04-23T04:47:03.500921",
     "exception": false,
     "start_time": "2021-04-23T04:47:03.482932",
     "status": "completed"
    },
    "tags": []
   },
   "outputs": [],
   "source": [
    "# train.groupby('label_group')['posting_id'].unique()"
   ]
  },
  {
   "cell_type": "code",
   "execution_count": 14,
   "metadata": {
    "execution": {
     "iopub.execute_input": "2021-04-23T04:47:03.526846Z",
     "iopub.status.busy": "2021-04-23T04:47:03.525979Z",
     "iopub.status.idle": "2021-04-23T04:47:03.545690Z",
     "shell.execute_reply": "2021-04-23T04:47:03.546250Z"
    },
    "papermill": {
     "duration": 0.03515,
     "end_time": "2021-04-23T04:47:03.546410",
     "exception": false,
     "start_time": "2021-04-23T04:47:03.511260",
     "status": "completed"
    },
    "tags": []
   },
   "outputs": [
    {
     "data": {
      "text/plain": [
       "fold\n",
       "0     [12, 39, 43, 56, 48, 86, 91, 98, 107, 110, 114...\n",
       "1     [0, 29, 34, 40, 49, 54, 62, 71, 87, 119, 121, ...\n",
       "2     [1, 30, 44, 50, 59, 66, 78, 89, 92, 99, 102, 1...\n",
       "3     [13, 17, 24, 35, 67, 75, 82, 122, 160, 166, 18...\n",
       "4     [6, 45, 57, 72, 100, 24, 123, 139, 145, 151, 1...\n",
       "5     [2, 7, 41, 51, 68, 83, 88, 93, 111, 127, 134, ...\n",
       "6     [21, 46, 63, 76, 84, 94, 103, 135, 146, 196, 2...\n",
       "7     [3, 25, 52, 115, 152, 192, 211, 227, 254, 289,...\n",
       "8     [8, 14, 18, 26, 31, 95, 112, 124, 141, 162, 16...\n",
       "9     [4, 9, 22, 36, 47, 48, 69, 79, 101, 104, 116, ...\n",
       "10    [19, 32, 37, 58, 60, 80, 96, 136, 129, 142, 14...\n",
       "11    [5, 27, 64, 77, 61, 85, 48, 90, 105, 109, 118,...\n",
       "12    [10, 20, 33, 53, 131, 143, 163, 168, 170, 194,...\n",
       "13    [11, 15, 23, 28, 38, 42, 65, 73, 81, 97, 106, ...\n",
       "14    [16, 55, 61, 70, 74, 59, 120, 137, 153, 165, 1...\n",
       "Name: label_group, dtype: object"
      ]
     },
     "execution_count": 14,
     "metadata": {},
     "output_type": "execute_result"
    }
   ],
   "source": [
    "train.groupby('fold')['label_group'].unique()"
   ]
  },
  {
   "cell_type": "code",
   "execution_count": 15,
   "metadata": {
    "execution": {
     "iopub.execute_input": "2021-04-23T04:47:03.580061Z",
     "iopub.status.busy": "2021-04-23T04:47:03.579360Z",
     "iopub.status.idle": "2021-04-23T05:00:34.383043Z",
     "shell.execute_reply": "2021-04-23T05:00:34.381936Z"
    },
    "papermill": {
     "duration": 810.826544,
     "end_time": "2021-04-23T05:00:34.383198",
     "exception": false,
     "start_time": "2021-04-23T04:47:03.556654",
     "status": "completed"
    },
    "tags": []
   },
   "outputs": [
    {
     "name": "stdout",
     "output_type": "stream",
     "text": [
      "\n",
      "\n",
      "--------------------------------------------------\n",
      "Writing TFRecord 0 of 14...\n",
      "0 , 100 , 200 , 300 , 400 , 500 , 600 , 700 , 800 , 900 , 1000 , 1100 , 1200 , 1300 , 1400 , 1500 , 1600 , 1700 , 1800 , 1900 , 2000 , 2100 , \n",
      "\n",
      "--------------------------------------------------\n",
      "Writing TFRecord 1 of 14...\n",
      "0 , 100 , 200 , 300 , 400 , 500 , 600 , 700 , 800 , 900 , 1000 , 1100 , 1200 , 1300 , 1400 , 1500 , 1600 , 1700 , 1800 , 1900 , 2000 , 2100 , \n",
      "\n",
      "--------------------------------------------------\n",
      "Writing TFRecord 2 of 14...\n",
      "0 , 100 , 200 , 300 , 400 , 500 , 600 , 700 , 800 , 900 , 1000 , 1100 , 1200 , 1300 , 1400 , 1500 , 1600 , 1700 , 1800 , 1900 , 2000 , 2100 , \n",
      "\n",
      "--------------------------------------------------\n",
      "Writing TFRecord 3 of 14...\n",
      "0 , 100 , 200 , 300 , 400 , 500 , 600 , 700 , 800 , 900 , 1000 , 1100 , 1200 , 1300 , 1400 , 1500 , 1600 , 1700 , 1800 , 1900 , 2000 , 2100 , \n",
      "\n",
      "--------------------------------------------------\n",
      "Writing TFRecord 4 of 14...\n",
      "0 , 100 , 200 , 300 , 400 , 500 , 600 , 700 , 800 , 900 , 1000 , 1100 , 1200 , 1300 , 1400 , 1500 , 1600 , 1700 , 1800 , 1900 , 2000 , 2100 , \n",
      "\n",
      "--------------------------------------------------\n",
      "Writing TFRecord 5 of 14...\n",
      "0 , 100 , 200 , 300 , 400 , 500 , 600 , 700 , 800 , 900 , 1000 , 1100 , 1200 , 1300 , 1400 , 1500 , 1600 , 1700 , 1800 , 1900 , 2000 , 2100 , \n",
      "\n",
      "--------------------------------------------------\n",
      "Writing TFRecord 6 of 14...\n",
      "0 , 100 , 200 , 300 , 400 , 500 , 600 , 700 , 800 , 900 , 1000 , 1100 , 1200 , 1300 , 1400 , 1500 , 1600 , 1700 , 1800 , 1900 , 2000 , 2100 , \n",
      "\n",
      "--------------------------------------------------\n",
      "Writing TFRecord 7 of 14...\n",
      "0 , 100 , 200 , 300 , 400 , 500 , 600 , 700 , 800 , 900 , 1000 , 1100 , 1200 , 1300 , 1400 , 1500 , 1600 , 1700 , 1800 , 1900 , 2000 , 2100 , \n",
      "\n",
      "--------------------------------------------------\n",
      "Writing TFRecord 8 of 14...\n",
      "0 , 100 , 200 , 300 , 400 , 500 , 600 , 700 , 800 , 900 , 1000 , 1100 , 1200 , 1300 , 1400 , 1500 , 1600 , 1700 , 1800 , 1900 , 2000 , 2100 , \n",
      "\n",
      "--------------------------------------------------\n",
      "Writing TFRecord 9 of 14...\n",
      "0 , 100 , 200 , 300 , 400 , 500 , 600 , 700 , 800 , 900 , 1000 , 1100 , 1200 , 1300 , 1400 , 1500 , 1600 , 1700 , 1800 , 1900 , 2000 , 2100 , \n",
      "\n",
      "--------------------------------------------------\n",
      "Writing TFRecord 10 of 14...\n",
      "0 , 100 , 200 , 300 , 400 , 500 , 600 , 700 , 800 , 900 , 1000 , 1100 , 1200 , 1300 , 1400 , 1500 , 1600 , 1700 , 1800 , 1900 , 2000 , 2100 , \n",
      "\n",
      "--------------------------------------------------\n",
      "Writing TFRecord 11 of 14...\n",
      "0 , 100 , 200 , 300 , 400 , 500 , 600 , 700 , 800 , 900 , 1000 , 1100 , 1200 , 1300 , 1400 , 1500 , 1600 , 1700 , 1800 , 1900 , 2000 , 2100 , \n",
      "\n",
      "--------------------------------------------------\n",
      "Writing TFRecord 12 of 14...\n",
      "0 , 100 , 200 , 300 , 400 , 500 , 600 , 700 , 800 , 900 , 1000 , 1100 , 1200 , 1300 , 1400 , 1500 , 1600 , 1700 , 1800 , 1900 , 2000 , 2100 , \n",
      "\n",
      "--------------------------------------------------\n",
      "Writing TFRecord 13 of 14...\n",
      "0 , 100 , 200 , 300 , 400 , 500 , 600 , 700 , 800 , 900 , 1000 , 1100 , 1200 , 1300 , 1400 , 1500 , 1600 , 1700 , 1800 , 1900 , 2000 , 2100 , \n",
      "\n",
      "--------------------------------------------------\n",
      "Writing TFRecord 14 of 14...\n",
      "0 , 100 , 200 , 300 , 400 , 500 , 600 , 700 , 800 , 900 , 1000 , 1100 , 1200 , 1300 , 1400 , 1500 , 1600 , 1700 , 1800 , 1900 , 2000 , 2100 , "
     ]
    }
   ],
   "source": [
    "def _bytes_feature(value):\n",
    "    \"\"\"Returns a bytes_list from a string / byte.\"\"\"\n",
    "    if isinstance(value, type(tf.constant(0))):\n",
    "        value = value.numpy()\n",
    "    return tf.train.Feature(bytes_list=tf.train.BytesList(value=[value]))\n",
    "\n",
    "def _float_feature(value):\n",
    "    \"\"\"Returns a float_list from a float / double.\"\"\"\n",
    "    return tf.train.Feature(float_list=tf.train.FloatList(value=[value]))\n",
    "\n",
    "def _int64_feature(value):\n",
    "    \"\"\"Returns an int64_list from a bool / enum / int / uint.\"\"\"\n",
    "    return tf.train.Feature(int64_list=tf.train.Int64List(value=[value]))\n",
    "\n",
    "def serialize_example(posting_id, image, label_group, matches):\n",
    "    feature = {\n",
    "        'posting_id': _bytes_feature(posting_id),\n",
    "        'image': _bytes_feature(image),\n",
    "        'label_group': _int64_feature(label_group),\n",
    "        'matches': _bytes_feature(matches)\n",
    "    }\n",
    "    example_proto = tf.train.Example(features=tf.train.Features(feature=feature))\n",
    "    return example_proto.SerializeToString()\n",
    "\n",
    "\n",
    "for fold in range(FOLDS):\n",
    "    print('\\n')\n",
    "    print('-'*50)\n",
    "    print(f'Writing TFRecord {fold} of {FOLDS - 1}...')\n",
    "    train_ = train[train['fold'] == fold]\n",
    "    with tf.io.TFRecordWriter('train%.2i-%i.tfrec'%(fold, train_.shape[0])) as writer:\n",
    "        for k in range(train_.shape[0]):\n",
    "            row = train_.iloc[k]\n",
    "            image = cv2.imread('../input/shopee-product-matching/train_images/' + row['image'])\n",
    "#             if image.shape[0]!=image.shape[1]:\n",
    "#                 print(image.shape)\n",
    "#                 plt.imshow(image)\n",
    "#                 plt.show()\n",
    "#                 image = tf.image.resize_with_pad(image, target_width = IMAGE_SIZE[0], target_height = IMAGE_SIZE[1])\n",
    "#                 image = tf.cast(image, tf.float32) / 255.0\n",
    "#                 image = np.array(image)\n",
    "#                 print(image.shape)\n",
    "#                 plt.imshow(image)\n",
    "#                 plt.show()\n",
    "            image = tf.image.resize_with_pad(image, target_width = IMAGE_SIZE[0], target_height = IMAGE_SIZE[1])\n",
    "            image = tf.cast(image, tf.float32) / 255.0\n",
    "            image = np.array(image)\n",
    "#             image = cv2.resize(image, IMAGE_SIZE)\n",
    "            image = cv2.imencode('.jpg', image, (cv2.IMWRITE_JPEG_QUALITY, 100))[1].tobytes()\n",
    "            posting_id = row['posting_id']\n",
    "            label_group = row['label_group']\n",
    "            matches = row['matches']\n",
    "            example = serialize_example(str.encode(posting_id),\n",
    "                                        image, \n",
    "                                        label_group,\n",
    "                                        str.encode(matches))\n",
    "            writer.write(example)\n",
    "            if k%100==0: print(k,', ',end='')"
   ]
  },
  {
   "cell_type": "code",
   "execution_count": null,
   "metadata": {
    "papermill": {
     "duration": 0.082629,
     "end_time": "2021-04-23T05:00:34.548756",
     "exception": false,
     "start_time": "2021-04-23T05:00:34.466127",
     "status": "completed"
    },
    "tags": []
   },
   "outputs": [],
   "source": []
  }
 ],
 "metadata": {
  "kernelspec": {
   "display_name": "Python 3",
   "language": "python",
   "name": "python3"
  },
  "language_info": {
   "codemirror_mode": {
    "name": "ipython",
    "version": 3
   },
   "file_extension": ".py",
   "mimetype": "text/x-python",
   "name": "python",
   "nbconvert_exporter": "python",
   "pygments_lexer": "ipython3",
   "version": "3.7.9"
  },
  "papermill": {
   "default_parameters": {},
   "duration": 825.054528,
   "end_time": "2021-04-23T05:00:35.642793",
   "environment_variables": {},
   "exception": null,
   "input_path": "__notebook__.ipynb",
   "output_path": "__notebook__.ipynb",
   "parameters": {},
   "start_time": "2021-04-23T04:46:50.588265",
   "version": "2.2.2"
  }
 },
 "nbformat": 4,
 "nbformat_minor": 4
}
