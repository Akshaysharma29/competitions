{
 "cells": [
  {
   "cell_type": "code",
   "execution_count": 1,
   "id": "exclusive-device",
   "metadata": {
    "_cell_guid": "b1076dfc-b9ad-4769-8c92-a6c4dae69d19",
    "_uuid": "8f2839f25d086af736a60e9eeb907d3b93b6e0e5",
    "execution": {
     "iopub.execute_input": "2021-05-03T09:08:07.805248Z",
     "iopub.status.busy": "2021-05-03T09:08:07.804617Z",
     "iopub.status.idle": "2021-05-03T09:08:07.808889Z",
     "shell.execute_reply": "2021-05-03T09:08:07.808114Z"
    },
    "papermill": {
     "duration": 0.015128,
     "end_time": "2021-05-03T09:08:07.809094",
     "exception": false,
     "start_time": "2021-05-03T09:08:07.793966",
     "status": "completed"
    },
    "tags": []
   },
   "outputs": [],
   "source": [
    "# # This Python 3 environment comes with many helpful analytics libraries installed\n",
    "# # It is defined by the kaggle/python Docker image: https://github.com/kaggle/docker-python\n",
    "# # For example, here's several helpful packages to load\n",
    "\n",
    "# import numpy as np # linear algebra\n",
    "# import pandas as pd # data processing, CSV file I/O (e.g. pd.read_csv)\n",
    "\n",
    "# # Input data files are available in the read-only \"../input/\" directory\n",
    "# # For example, running this (by clicking run or pressing Shift+Enter) will list all files under the input directory\n",
    "\n",
    "# import os\n",
    "# for dirname, _, filenames in os.walk('/kaggle/input'):\n",
    "#     for filename in filenames:\n",
    "#         print(os.path.join(dirname, filename))\n",
    "\n",
    "# # You can write up to 20GB to the current directory (/kaggle/working/) that gets preserved as output when you create a version using \"Save & Run All\" \n",
    "# # You can also write temporary files to /kaggle/temp/, but they won't be saved outside of the current session"
   ]
  },
  {
   "cell_type": "code",
   "execution_count": 2,
   "id": "medieval-installation",
   "metadata": {
    "execution": {
     "iopub.execute_input": "2021-05-03T09:08:07.844282Z",
     "iopub.status.busy": "2021-05-03T09:08:07.829421Z",
     "iopub.status.idle": "2021-05-03T09:09:46.981971Z",
     "shell.execute_reply": "2021-05-03T09:09:46.981344Z"
    },
    "papermill": {
     "duration": 99.168634,
     "end_time": "2021-05-03T09:09:46.982147",
     "exception": false,
     "start_time": "2021-05-03T09:08:07.813513",
     "status": "completed"
    },
    "tags": []
   },
   "outputs": [
    {
     "name": "stdout",
     "output_type": "stream",
     "text": [
      "Initialized empty Git repository in /kaggle/working/.git/\r\n",
      "Detected operating system as Ubuntu/bionic.\r\n",
      "Checking for curl...\r\n",
      "Detected curl...\r\n",
      "Checking for gpg...\r\n",
      "Detected gpg...\r\n",
      "Running apt-get update... done.\r\n",
      "Installing apt-transport-https... done.\r\n",
      "Installing /etc/apt/sources.list.d/github_git-lfs.list...done.\r\n",
      "Importing packagecloud gpg key... done.\r\n",
      "Running apt-get update... done.\r\n",
      "\r\n",
      "The repository is setup! You can now install packages.\r\n",
      "\r\n",
      "\r\n",
      "\r\n",
      "The following NEW packages will be installed:\r\n",
      "  git-lfs\r\n",
      "0 upgraded, 1 newly installed, 0 to remove and 40 not upgraded.\r\n",
      "Need to get 2129 kB of archives.\r\n",
      "After this operation, 7662 kB of additional disk space will be used.\r\n",
      "Get:1 http://archive.ubuntu.com/ubuntu bionic/universe amd64 git-lfs amd64 2.3.4-1 [2129 kB]\r\n",
      "Fetched 2129 kB in 2s (896 kB/s)\r\n",
      "debconf: delaying package configuration, since apt-utils is not installed\r\n",
      "Selecting previously unselected package git-lfs.\r\n",
      "(Reading database ... 95165 files and directories currently installed.)\r\n",
      "Preparing to unpack .../git-lfs_2.3.4-1_amd64.deb ...\r\n",
      "Unpacking git-lfs (2.3.4-1) ...\r\n",
      "Setting up git-lfs (2.3.4-1) ...\r\n",
      "Updated git hooks.\r\n",
      "Git LFS initialized.\r\n",
      "Cloning into 'paraphrase-xlm-r-multilingual-v1'...\r\n",
      "remote: Enumerating objects: 12, done.\u001b[K\r\n",
      "remote: Counting objects: 100% (12/12), done.\u001b[K\r\n",
      "remote: Compressing objects: 100% (10/10), done.\u001b[K\r\n",
      "remote: Total 12 (delta 0), reused 0 (delta 0)\u001b[K\r\n",
      "Unpacking objects: 100% (12/12), done.\r\n"
     ]
    }
   ],
   "source": [
    "!git init\n",
    "!curl -s https://packagecloud.io/install/repositories/github/git-lfs/script.deb.sh | bash\n",
    "!apt-get install git-lfs\n",
    "!git lfs install\n",
    "!git clone https://huggingface.co/sentence-transformers/paraphrase-xlm-r-multilingual-v1"
   ]
  },
  {
   "cell_type": "code",
   "execution_count": null,
   "id": "unlimited-underground",
   "metadata": {
    "papermill": {
     "duration": 0.017591,
     "end_time": "2021-05-03T09:09:47.016826",
     "exception": false,
     "start_time": "2021-05-03T09:09:46.999235",
     "status": "completed"
    },
    "tags": []
   },
   "outputs": [],
   "source": []
  }
 ],
 "metadata": {
  "kernelspec": {
   "display_name": "Python 3",
   "language": "python",
   "name": "python3"
  },
  "language_info": {
   "codemirror_mode": {
    "name": "ipython",
    "version": 3
   },
   "file_extension": ".py",
   "mimetype": "text/x-python",
   "name": "python",
   "nbconvert_exporter": "python",
   "pygments_lexer": "ipython3",
   "version": "3.7.9"
  },
  "papermill": {
   "default_parameters": {},
   "duration": 108.385934,
   "end_time": "2021-05-03T09:09:47.746645",
   "environment_variables": {},
   "exception": null,
   "input_path": "__notebook__.ipynb",
   "output_path": "__notebook__.ipynb",
   "parameters": {},
   "start_time": "2021-05-03T09:07:59.360711",
   "version": "2.3.2"
  }
 },
 "nbformat": 4,
 "nbformat_minor": 5
}
