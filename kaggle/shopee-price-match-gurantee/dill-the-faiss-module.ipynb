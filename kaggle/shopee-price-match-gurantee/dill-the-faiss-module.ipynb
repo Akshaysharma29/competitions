{
 "cells": [
  {
   "cell_type": "code",
   "execution_count": 1,
   "metadata": {
    "_cell_guid": "b1076dfc-b9ad-4769-8c92-a6c4dae69d19",
    "_uuid": "8f2839f25d086af736a60e9eeb907d3b93b6e0e5",
    "execution": {
     "iopub.execute_input": "2021-03-13T06:44:27.250575Z",
     "iopub.status.busy": "2021-03-13T06:44:27.249799Z",
     "iopub.status.idle": "2021-03-13T06:44:27.254115Z",
     "shell.execute_reply": "2021-03-13T06:44:27.254793Z"
    },
    "papermill": {
     "duration": 0.015658,
     "end_time": "2021-03-13T06:44:27.255135",
     "exception": false,
     "start_time": "2021-03-13T06:44:27.239477",
     "status": "completed"
    },
    "tags": []
   },
   "outputs": [],
   "source": [
    "# # This Python 3 environment comes with many helpful analytics libraries installed\n",
    "# # It is defined by the kaggle/python Docker image: https://github.com/kaggle/docker-python\n",
    "# # For example, here's several helpful packages to load\n",
    "\n",
    "# import numpy as np # linear algebra\n",
    "# import pandas as pd # data processing, CSV file I/O (e.g. pd.read_csv)\n",
    "\n",
    "# # Input data files are available in the read-only \"../input/\" directory\n",
    "# # For example, running this (by clicking run or pressing Shift+Enter) will list all files under the input directory\n",
    "\n",
    "# import os\n",
    "# for dirname, _, filenames in os.walk('/kaggle/input'):\n",
    "#     for filename in filenames:\n",
    "#         print(os.path.join(dirname, filename))\n",
    "\n",
    "# # You can write up to 20GB to the current directory (/kaggle/working/) that gets preserved as output when you create a version using \"Save & Run All\" \n",
    "# # You can also write temporary files to /kaggle/temp/, but they won't be saved outside of the current session"
   ]
  },
  {
   "cell_type": "code",
   "execution_count": 2,
   "metadata": {
    "execution": {
     "iopub.execute_input": "2021-03-13T06:44:27.269994Z",
     "iopub.status.busy": "2021-03-13T06:44:27.269366Z",
     "iopub.status.idle": "2021-03-13T06:44:27.370294Z",
     "shell.execute_reply": "2021-03-13T06:44:27.370879Z"
    },
    "papermill": {
     "duration": 0.109746,
     "end_time": "2021-03-13T06:44:27.371062",
     "exception": false,
     "start_time": "2021-03-13T06:44:27.261316",
     "status": "completed"
    },
    "tags": []
   },
   "outputs": [],
   "source": [
    "import numpy as np\n",
    "d = 64                           # dimension\n",
    "nb = 100000                      # database size\n",
    "nq = 10000                       # nb of queries\n",
    "np.random.seed(1234)             # make reproducible\n",
    "xb = np.random.random((nb, d)).astype('float32')\n",
    "xb[:, 0] += np.arange(nb) / 1000.\n",
    "xq = np.random.random((nq, d)).astype('float32')\n",
    "xq[:, 0] += np.arange(nq) / 1000."
   ]
  },
  {
   "cell_type": "code",
   "execution_count": 3,
   "metadata": {
    "execution": {
     "iopub.execute_input": "2021-03-13T06:44:27.385972Z",
     "iopub.status.busy": "2021-03-13T06:44:27.385335Z",
     "iopub.status.idle": "2021-03-13T06:44:36.889475Z",
     "shell.execute_reply": "2021-03-13T06:44:36.888760Z"
    },
    "papermill": {
     "duration": 9.512735,
     "end_time": "2021-03-13T06:44:36.889623",
     "exception": false,
     "start_time": "2021-03-13T06:44:27.376888",
     "status": "completed"
    },
    "tags": []
   },
   "outputs": [
    {
     "name": "stdout",
     "output_type": "stream",
     "text": [
      "Collecting faiss-cpu\r\n",
      "  Downloading faiss_cpu-1.7.0-cp37-cp37m-manylinux2014_x86_64.whl (8.1 MB)\r\n",
      "\u001b[K     |████████████████████████████████| 8.1 MB 4.4 MB/s \r\n",
      "\u001b[?25hInstalling collected packages: faiss-cpu\r\n",
      "Successfully installed faiss-cpu-1.7.0\r\n"
     ]
    }
   ],
   "source": [
    "!pip3 install faiss-cpu\n",
    "import faiss"
   ]
  },
  {
   "cell_type": "code",
   "execution_count": 4,
   "metadata": {
    "execution": {
     "iopub.execute_input": "2021-03-13T06:44:36.920747Z",
     "iopub.status.busy": "2021-03-13T06:44:36.920089Z",
     "iopub.status.idle": "2021-03-13T06:44:36.944489Z",
     "shell.execute_reply": "2021-03-13T06:44:36.944986Z"
    },
    "papermill": {
     "duration": 0.042542,
     "end_time": "2021-03-13T06:44:36.945172",
     "exception": false,
     "start_time": "2021-03-13T06:44:36.902630",
     "status": "completed"
    },
    "tags": []
   },
   "outputs": [],
   "source": [
    "import dill\n",
    "\n",
    "# Save the file\n",
    "dill.dump(faiss, file = open(\"faiss.pickle\", \"wb\"))\n",
    "\n",
    "# Reload the file\n",
    "saved_faiss = dill.load(open(\"faiss.pickle\", \"rb\"))"
   ]
  },
  {
   "cell_type": "code",
   "execution_count": 5,
   "metadata": {
    "execution": {
     "iopub.execute_input": "2021-03-13T06:44:36.976024Z",
     "iopub.status.busy": "2021-03-13T06:44:36.974917Z",
     "iopub.status.idle": "2021-03-13T06:44:36.996566Z",
     "shell.execute_reply": "2021-03-13T06:44:36.995901Z"
    },
    "papermill": {
     "duration": 0.03931,
     "end_time": "2021-03-13T06:44:36.996709",
     "exception": false,
     "start_time": "2021-03-13T06:44:36.957399",
     "status": "completed"
    },
    "tags": []
   },
   "outputs": [
    {
     "name": "stdout",
     "output_type": "stream",
     "text": [
      "True\n",
      "100000\n"
     ]
    }
   ],
   "source": [
    "index = saved_faiss.IndexFlatL2(d)   # build the index\n",
    "print(index.is_trained)\n",
    "index.add(xb)                  # add vectors to the index\n",
    "print(index.ntotal)"
   ]
  },
  {
   "cell_type": "code",
   "execution_count": 6,
   "metadata": {
    "execution": {
     "iopub.execute_input": "2021-03-13T06:44:37.027584Z",
     "iopub.status.busy": "2021-03-13T06:44:37.026690Z",
     "iopub.status.idle": "2021-03-13T06:44:37.050821Z",
     "shell.execute_reply": "2021-03-13T06:44:37.051495Z"
    },
    "papermill": {
     "duration": 0.04239,
     "end_time": "2021-03-13T06:44:37.051696",
     "exception": false,
     "start_time": "2021-03-13T06:44:37.009306",
     "status": "completed"
    },
    "tags": []
   },
   "outputs": [
    {
     "name": "stdout",
     "output_type": "stream",
     "text": [
      "[[  0 393 363  78]\n",
      " [  1 555 277 364]\n",
      " [  2 304 101  13]\n",
      " [  3 173  18 182]\n",
      " [  4 288 370 531]]\n",
      "[[0.        7.175174  7.2076287 7.251163 ]\n",
      " [0.        6.323565  6.684582  6.799944 ]\n",
      " [0.        5.7964087 6.3917365 7.2815127]\n",
      " [0.        7.277905  7.5279875 7.6628447]\n",
      " [0.        6.763804  7.295122  7.368814 ]]\n"
     ]
    }
   ],
   "source": [
    "k = 4                          # we want to see 4 nearest neighbors\n",
    "D, I = index.search(xb[:5], k) # sanity check\n",
    "print(I)                       #indexs   \n",
    "print(D)                       #Dictances"
   ]
  },
  {
   "cell_type": "code",
   "execution_count": null,
   "metadata": {
    "papermill": {
     "duration": 0.012526,
     "end_time": "2021-03-13T06:44:37.078731",
     "exception": false,
     "start_time": "2021-03-13T06:44:37.066205",
     "status": "completed"
    },
    "tags": []
   },
   "outputs": [],
   "source": []
  }
 ],
 "metadata": {
  "kernelspec": {
   "display_name": "Python 3",
   "language": "python",
   "name": "python3"
  },
  "language_info": {
   "codemirror_mode": {
    "name": "ipython",
    "version": 3
   },
   "file_extension": ".py",
   "mimetype": "text/x-python",
   "name": "python",
   "nbconvert_exporter": "python",
   "pygments_lexer": "ipython3",
   "version": "3.7.9"
  },
  "papermill": {
   "default_parameters": {},
   "duration": 16.765279,
   "end_time": "2021-03-13T06:44:37.701795",
   "environment_variables": {},
   "exception": null,
   "input_path": "__notebook__.ipynb",
   "output_path": "__notebook__.ipynb",
   "parameters": {},
   "start_time": "2021-03-13T06:44:20.936516",
   "version": "2.2.2"
  }
 },
 "nbformat": 4,
 "nbformat_minor": 4
}
