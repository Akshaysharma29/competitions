{
 "cells": [
  {
   "cell_type": "code",
   "execution_count": 1,
   "id": "confirmed-closing",
   "metadata": {
    "_cell_guid": "b1076dfc-b9ad-4769-8c92-a6c4dae69d19",
    "_uuid": "8f2839f25d086af736a60e9eeb907d3b93b6e0e5",
    "execution": {
     "iopub.execute_input": "2021-05-03T04:04:52.485684Z",
     "iopub.status.busy": "2021-05-03T04:04:52.484451Z",
     "iopub.status.idle": "2021-05-03T04:04:52.487976Z",
     "shell.execute_reply": "2021-05-03T04:04:52.487383Z"
    },
    "papermill": {
     "duration": 0.012538,
     "end_time": "2021-05-03T04:04:52.488124",
     "exception": false,
     "start_time": "2021-05-03T04:04:52.475586",
     "status": "completed"
    },
    "tags": []
   },
   "outputs": [],
   "source": [
    "# # This Python 3 environment comes with many helpful analytics libraries installed\n",
    "# # It is defined by the kaggle/python Docker image: https://github.com/kaggle/docker-python\n",
    "# # For example, here's several helpful packages to load\n",
    "\n",
    "# import numpy as np # linear algebra\n",
    "# import pandas as pd # data processing, CSV file I/O (e.g. pd.read_csv)\n",
    "\n",
    "# # Input data files are available in the read-only \"../input/\" directory\n",
    "# # For example, running this (by clicking run or pressing Shift+Enter) will list all files under the input directory\n",
    "\n",
    "# import os\n",
    "# for dirname, _, filenames in os.walk('/kaggle/input'):\n",
    "#     for filename in filenames:\n",
    "#         print(os.path.join(dirname, filename))\n",
    "\n",
    "# # You can write up to 20GB to the current directory (/kaggle/working/) that gets preserved as output when you create a version using \"Save & Run All\" \n",
    "# # You can also write temporary files to /kaggle/temp/, but they won't be saved outside of the current session"
   ]
  },
  {
   "cell_type": "code",
   "execution_count": 2,
   "id": "deluxe-trust",
   "metadata": {
    "execution": {
     "iopub.execute_input": "2021-05-03T04:04:52.499492Z",
     "iopub.status.busy": "2021-05-03T04:04:52.498907Z",
     "iopub.status.idle": "2021-05-03T04:04:53.230509Z",
     "shell.execute_reply": "2021-05-03T04:04:53.229975Z"
    },
    "papermill": {
     "duration": 0.737942,
     "end_time": "2021-05-03T04:04:53.230662",
     "exception": false,
     "start_time": "2021-05-03T04:04:52.492720",
     "status": "completed"
    },
    "tags": []
   },
   "outputs": [],
   "source": [
    "!rm -rf ./quora-distilbert-multilingual"
   ]
  },
  {
   "cell_type": "code",
   "execution_count": 3,
   "id": "native-flood",
   "metadata": {
    "execution": {
     "iopub.execute_input": "2021-05-03T04:04:53.253233Z",
     "iopub.status.busy": "2021-05-03T04:04:53.248946Z",
     "iopub.status.idle": "2021-05-03T04:05:31.329001Z",
     "shell.execute_reply": "2021-05-03T04:05:31.328185Z"
    },
    "papermill": {
     "duration": 38.094094,
     "end_time": "2021-05-03T04:05:31.329158",
     "exception": false,
     "start_time": "2021-05-03T04:04:53.235064",
     "status": "completed"
    },
    "tags": []
   },
   "outputs": [
    {
     "name": "stdout",
     "output_type": "stream",
     "text": [
      "Initialized empty Git repository in /kaggle/working/.git/\r\n",
      "Detected operating system as Ubuntu/bionic.\r\n",
      "Checking for curl...\r\n",
      "Detected curl...\r\n",
      "Checking for gpg...\r\n",
      "Detected gpg...\r\n",
      "Running apt-get update... done.\r\n",
      "Installing apt-transport-https... done.\r\n",
      "Installing /etc/apt/sources.list.d/github_git-lfs.list...done.\r\n",
      "Importing packagecloud gpg key... done.\r\n",
      "Running apt-get update... done.\r\n",
      "\r\n",
      "The repository is setup! You can now install packages.\r\n",
      "\r\n",
      "\r\n",
      "\r\n",
      "The following NEW packages will be installed:\r\n",
      "  git-lfs\r\n",
      "0 upgraded, 1 newly installed, 0 to remove and 19 not upgraded.\r\n",
      "Need to get 2129 kB of archives.\r\n",
      "After this operation, 7662 kB of additional disk space will be used.\r\n",
      "Get:1 http://archive.ubuntu.com/ubuntu bionic/universe amd64 git-lfs amd64 2.3.4-1 [2129 kB]\r\n",
      "Fetched 2129 kB in 0s (10.8 MB/s)\r\n",
      "debconf: delaying package configuration, since apt-utils is not installed\r\n",
      "Selecting previously unselected package git-lfs.\r\n",
      "(Reading database ... 95327 files and directories currently installed.)\r\n",
      "Preparing to unpack .../git-lfs_2.3.4-1_amd64.deb ...\r\n",
      "Unpacking git-lfs (2.3.4-1) ...\r\n",
      "Setting up git-lfs (2.3.4-1) ...\r\n",
      "Updated git hooks.\r\n",
      "Git LFS initialized.\r\n",
      "Cloning into 'quora-distilbert-multilingual'...\r\n",
      "remote: Enumerating objects: 12, done.\u001b[K\r\n",
      "remote: Counting objects: 100% (12/12), done.\u001b[K\r\n",
      "remote: Compressing objects: 100% (9/9), done.\u001b[K\r\n",
      "remote: Total 12 (delta 0), reused 0 (delta 0)\u001b[K\r\n",
      "Unpacking objects: 100% (12/12), done.\r\n"
     ]
    }
   ],
   "source": [
    "!git init\n",
    "!curl -s https://packagecloud.io/install/repositories/github/git-lfs/script.deb.sh | bash\n",
    "!apt-get install git-lfs\n",
    "!git lfs install\n",
    "!git clone https://huggingface.co/sentence-transformers/quora-distilbert-multilingual"
   ]
  },
  {
   "cell_type": "code",
   "execution_count": null,
   "id": "configured-atlas",
   "metadata": {
    "papermill": {
     "duration": 0.016204,
     "end_time": "2021-05-03T04:05:31.363234",
     "exception": false,
     "start_time": "2021-05-03T04:05:31.347030",
     "status": "completed"
    },
    "tags": []
   },
   "outputs": [],
   "source": []
  }
 ],
 "metadata": {
  "kernelspec": {
   "display_name": "Python 3",
   "language": "python",
   "name": "python3"
  },
  "language_info": {
   "codemirror_mode": {
    "name": "ipython",
    "version": 3
   },
   "file_extension": ".py",
   "mimetype": "text/x-python",
   "name": "python",
   "nbconvert_exporter": "python",
   "pygments_lexer": "ipython3",
   "version": "3.7.10"
  },
  "papermill": {
   "default_parameters": {},
   "duration": 47.294119,
   "end_time": "2021-05-03T04:05:31.988004",
   "environment_variables": {},
   "exception": null,
   "input_path": "__notebook__.ipynb",
   "output_path": "__notebook__.ipynb",
   "parameters": {},
   "start_time": "2021-05-03T04:04:44.693885",
   "version": "2.3.3"
  }
 },
 "nbformat": 4,
 "nbformat_minor": 5
}
