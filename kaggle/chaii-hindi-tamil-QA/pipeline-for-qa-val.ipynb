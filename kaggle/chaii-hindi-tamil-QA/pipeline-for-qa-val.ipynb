{
 "cells": [
  {
   "cell_type": "code",
   "execution_count": 1,
   "id": "23cb7ae1",
   "metadata": {
    "_cell_guid": "b1076dfc-b9ad-4769-8c92-a6c4dae69d19",
    "_uuid": "8f2839f25d086af736a60e9eeb907d3b93b6e0e5",
    "execution": {
     "iopub.execute_input": "2021-08-22T02:59:32.765121Z",
     "iopub.status.busy": "2021-08-22T02:59:32.764488Z",
     "iopub.status.idle": "2021-08-22T02:59:32.766079Z",
     "shell.execute_reply": "2021-08-22T02:59:32.765599Z",
     "shell.execute_reply.started": "2021-08-22T02:44:17.225190Z"
    },
    "papermill": {
     "duration": 0.037744,
     "end_time": "2021-08-22T02:59:32.766211",
     "exception": false,
     "start_time": "2021-08-22T02:59:32.728467",
     "status": "completed"
    },
    "tags": []
   },
   "outputs": [],
   "source": [
    "# # This Python 3 environment comes with many helpful analytics libraries installed\n",
    "# # It is defined by the kaggle/python Docker image: https://github.com/kaggle/docker-python\n",
    "# # For example, here's several helpful packages to load\n",
    "\n",
    "# import numpy as np # linear algebra\n",
    "# import pandas as pd # data processing, CSV file I/O (e.g. pd.read_csv)\n",
    "\n",
    "# # Input data files are available in the read-only \"../input/\" directory\n",
    "# # For example, running this (by clicking run or pressing Shift+Enter) will list all files under the input directory\n",
    "\n",
    "# import os\n",
    "# for dirname, _, filenames in os.walk('/kaggle/input'):\n",
    "#     for filename in filenames:\n",
    "#         print(os.path.join(dirname, filename))\n",
    "\n",
    "# # You can write up to 20GB to the current directory (/kaggle/working/) that gets preserved as output when you create a version using \"Save & Run All\" \n",
    "# # You can also write temporary files to /kaggle/temp/, but they won't be saved outside of the current session"
   ]
  },
  {
   "cell_type": "code",
   "execution_count": 2,
   "id": "647df4a1",
   "metadata": {
    "execution": {
     "iopub.execute_input": "2021-08-22T02:59:32.903852Z",
     "iopub.status.busy": "2021-08-22T02:59:32.903136Z",
     "iopub.status.idle": "2021-08-22T02:59:42.587582Z",
     "shell.execute_reply": "2021-08-22T02:59:42.586706Z",
     "shell.execute_reply.started": "2021-08-22T02:44:18.475142Z"
    },
    "papermill": {
     "duration": 9.792945,
     "end_time": "2021-08-22T02:59:42.587720",
     "exception": false,
     "start_time": "2021-08-22T02:59:32.794775",
     "status": "completed"
    },
    "tags": []
   },
   "outputs": [
    {
     "name": "stdout",
     "output_type": "stream",
     "text": [
      "\u001b[31mERROR: pip's dependency resolver does not currently take into account all the packages that are installed. This behaviour is the source of the following dependency conflicts.\r\n",
      "tensorflow-cloud 0.1.13 requires tensorflow<3.0,>=1.15.0, which is not installed.\r\n",
      "dask-cudf 21.6.1+2.g101fc0fda4 requires cupy-cuda112, which is not installed.\r\n",
      "cudf 21.6.1+2.g101fc0fda4 requires cupy-cuda110, which is not installed.\r\n",
      "s3fs 2021.6.1 requires fsspec==2021.06.1, but you have fsspec 2021.6.0 which is incompatible.\r\n",
      "pytorch-lightning 1.3.8 requires fsspec[http]!=2021.06.0,>=2021.05.0, but you have fsspec 2021.6.0 which is incompatible.\r\n",
      "dask-cudf 21.6.1+2.g101fc0fda4 requires dask<=2021.5.1,>=2021.4.0, but you have dask 2021.6.2 which is incompatible.\r\n",
      "dask-cudf 21.6.1+2.g101fc0fda4 requires distributed<=2021.5.1,>=2.22.0, but you have distributed 2021.6.2 which is incompatible.\u001b[0m\r\n"
     ]
    }
   ],
   "source": [
    "# ! pip install datasets transformers\n",
    "!pip uninstall fsspec -qq -y\n",
    "!pip install --no-index --find-links ../input/hf-datasets/wheels datasets -qq"
   ]
  },
  {
   "cell_type": "code",
   "execution_count": 3,
   "id": "5da00170",
   "metadata": {
    "execution": {
     "iopub.execute_input": "2021-08-22T02:59:42.650489Z",
     "iopub.status.busy": "2021-08-22T02:59:42.649667Z",
     "iopub.status.idle": "2021-08-22T02:59:43.080843Z",
     "shell.execute_reply": "2021-08-22T02:59:43.080151Z",
     "shell.execute_reply.started": "2021-08-22T02:44:28.689741Z"
    },
    "papermill": {
     "duration": 0.464156,
     "end_time": "2021-08-22T02:59:43.080976",
     "exception": false,
     "start_time": "2021-08-22T02:59:42.616820",
     "status": "completed"
    },
    "tags": []
   },
   "outputs": [],
   "source": [
    "from datasets import load_dataset, Dataset\n",
    "from pprint import pprint\n",
    "import pandas as pd\n",
    "import numpy as np"
   ]
  },
  {
   "cell_type": "markdown",
   "id": "d0f688d3",
   "metadata": {
    "papermill": {
     "duration": 0.028288,
     "end_time": "2021-08-22T02:59:43.138191",
     "exception": false,
     "start_time": "2021-08-22T02:59:43.109903",
     "status": "completed"
    },
    "tags": []
   },
   "source": [
    "# Preprocessing"
   ]
  },
  {
   "cell_type": "code",
   "execution_count": 4,
   "id": "c5d83352",
   "metadata": {
    "execution": {
     "iopub.execute_input": "2021-08-22T02:59:43.200774Z",
     "iopub.status.busy": "2021-08-22T02:59:43.200118Z",
     "iopub.status.idle": "2021-08-22T02:59:49.859448Z",
     "shell.execute_reply": "2021-08-22T02:59:49.858907Z",
     "shell.execute_reply.started": "2021-08-22T02:44:29.454972Z"
    },
    "papermill": {
     "duration": 6.691907,
     "end_time": "2021-08-22T02:59:49.859595",
     "exception": false,
     "start_time": "2021-08-22T02:59:43.167688",
     "status": "completed"
    },
    "tags": []
   },
   "outputs": [],
   "source": [
    "# model_checkpoint = \"distilbert-base-uncased\"\n",
    "# model_checkpoint = \"deepset/xlm-roberta-large-squad2\"\n",
    "# model_checkpoint = \"../input/xlm-roberta-squad2/deepset/xlm-roberta-base-squad2\"\n",
    "model_checkpoint = \"../input/pipeline-for-qa-train/test-chaii-trained\"\n",
    "\n",
    "from transformers import XLMTokenizer,AutoTokenizer\n",
    "# tokenizer = XLMTokenizer.from_pretrained('xlm-mlm-en-2048')\n",
    "tokenizer = AutoTokenizer.from_pretrained(model_checkpoint)"
   ]
  },
  {
   "cell_type": "code",
   "execution_count": 5,
   "id": "80ede67a",
   "metadata": {
    "execution": {
     "iopub.execute_input": "2021-08-22T02:59:49.921652Z",
     "iopub.status.busy": "2021-08-22T02:59:49.921105Z",
     "iopub.status.idle": "2021-08-22T02:59:49.929784Z",
     "shell.execute_reply": "2021-08-22T02:59:49.930189Z",
     "shell.execute_reply.started": "2021-08-22T02:44:36.893312Z"
    },
    "papermill": {
     "duration": 0.041678,
     "end_time": "2021-08-22T02:59:49.930305",
     "exception": false,
     "start_time": "2021-08-22T02:59:49.888627",
     "status": "completed"
    },
    "tags": []
   },
   "outputs": [
    {
     "data": {
      "text/plain": [
       "{'input_ids': [0, 4865, 83, 935, 9351, 32, 2, 2, 2646, 9351, 83, 100973, 21845, 5, 2], 'attention_mask': [1, 1, 1, 1, 1, 1, 1, 1, 1, 1, 1, 1, 1, 1, 1]}"
      ]
     },
     "execution_count": 5,
     "metadata": {},
     "output_type": "execute_result"
    }
   ],
   "source": [
    "tokenizer(\"What is your name?\", \"My name is Sylvain.\")"
   ]
  },
  {
   "cell_type": "markdown",
   "id": "e2fbafaf",
   "metadata": {
    "papermill": {
     "duration": 0.028502,
     "end_time": "2021-08-22T02:59:49.988170",
     "exception": false,
     "start_time": "2021-08-22T02:59:49.959668",
     "status": "completed"
    },
    "tags": []
   },
   "source": [
    "# Doc_stride is used to handle large text: tokens>512"
   ]
  },
  {
   "cell_type": "code",
   "execution_count": 6,
   "id": "7ace32d7",
   "metadata": {
    "execution": {
     "iopub.execute_input": "2021-08-22T02:59:50.049127Z",
     "iopub.status.busy": "2021-08-22T02:59:50.048620Z",
     "iopub.status.idle": "2021-08-22T02:59:50.051876Z",
     "shell.execute_reply": "2021-08-22T02:59:50.052277Z",
     "shell.execute_reply.started": "2021-08-22T02:44:36.906762Z"
    },
    "papermill": {
     "duration": 0.035509,
     "end_time": "2021-08-22T02:59:50.052432",
     "exception": false,
     "start_time": "2021-08-22T02:59:50.016923",
     "status": "completed"
    },
    "tags": []
   },
   "outputs": [],
   "source": [
    "max_length = 384 # The maximum length of a feature (question and context)\n",
    "doc_stride = 128 # The authorized overlap between two part of the context when splitting it is needed."
   ]
  },
  {
   "cell_type": "markdown",
   "id": "3581a291",
   "metadata": {
    "papermill": {
     "duration": 0.028696,
     "end_time": "2021-08-22T02:59:50.110548",
     "exception": false,
     "start_time": "2021-08-22T02:59:50.081852",
     "status": "completed"
    },
    "tags": []
   },
   "source": [
    "# Lodaing model"
   ]
  },
  {
   "cell_type": "code",
   "execution_count": 7,
   "id": "ff0883b7",
   "metadata": {
    "execution": {
     "iopub.execute_input": "2021-08-22T02:59:50.325929Z",
     "iopub.status.busy": "2021-08-22T02:59:50.324874Z",
     "iopub.status.idle": "2021-08-22T02:59:50.328174Z",
     "shell.execute_reply": "2021-08-22T02:59:50.328592Z",
     "shell.execute_reply.started": "2021-08-22T02:44:36.912947Z"
    },
    "papermill": {
     "duration": 0.189356,
     "end_time": "2021-08-22T02:59:50.328740",
     "exception": false,
     "start_time": "2021-08-22T02:59:50.139384",
     "status": "completed"
    },
    "tags": []
   },
   "outputs": [
    {
     "data": {
      "text/plain": [
       "119"
      ]
     },
     "execution_count": 7,
     "metadata": {},
     "output_type": "execute_result"
    }
   ],
   "source": [
    "import gc\n",
    "gc.collect()"
   ]
  },
  {
   "cell_type": "code",
   "execution_count": 8,
   "id": "2889c0e8",
   "metadata": {
    "execution": {
     "iopub.execute_input": "2021-08-22T02:59:50.390677Z",
     "iopub.status.busy": "2021-08-22T02:59:50.390047Z",
     "iopub.status.idle": "2021-08-22T03:00:16.165332Z",
     "shell.execute_reply": "2021-08-22T03:00:16.164675Z",
     "shell.execute_reply.started": "2021-08-22T02:44:37.079408Z"
    },
    "papermill": {
     "duration": 25.807483,
     "end_time": "2021-08-22T03:00:16.165510",
     "exception": false,
     "start_time": "2021-08-22T02:59:50.358027",
     "status": "completed"
    },
    "tags": []
   },
   "outputs": [],
   "source": [
    "from transformers import AutoModelForQuestionAnswering, TrainingArguments, Trainer\n",
    "\n",
    "model = AutoModelForQuestionAnswering.from_pretrained(model_checkpoint)"
   ]
  },
  {
   "cell_type": "code",
   "execution_count": 9,
   "id": "d44eeb85",
   "metadata": {
    "execution": {
     "iopub.execute_input": "2021-08-22T03:00:16.237521Z",
     "iopub.status.busy": "2021-08-22T03:00:16.236500Z",
     "iopub.status.idle": "2021-08-22T03:00:24.904901Z",
     "shell.execute_reply": "2021-08-22T03:00:24.903977Z",
     "shell.execute_reply.started": "2021-08-22T02:45:16.081525Z"
    },
    "papermill": {
     "duration": 8.705159,
     "end_time": "2021-08-22T03:00:24.905045",
     "exception": false,
     "start_time": "2021-08-22T03:00:16.199886",
     "status": "completed"
    },
    "tags": []
   },
   "outputs": [],
   "source": [
    "trainer = Trainer(model)"
   ]
  },
  {
   "cell_type": "markdown",
   "id": "67ac0149",
   "metadata": {
    "papermill": {
     "duration": 0.02896,
     "end_time": "2021-08-22T03:00:24.964149",
     "exception": false,
     "start_time": "2021-08-22T03:00:24.935189",
     "status": "completed"
    },
    "tags": []
   },
   "source": [
    "# Real predictions"
   ]
  },
  {
   "cell_type": "code",
   "execution_count": 10,
   "id": "0251eb98",
   "metadata": {
    "execution": {
     "iopub.execute_input": "2021-08-22T03:00:25.028116Z",
     "iopub.status.busy": "2021-08-22T03:00:25.027106Z",
     "iopub.status.idle": "2021-08-22T03:00:25.707712Z",
     "shell.execute_reply": "2021-08-22T03:00:25.706815Z",
     "shell.execute_reply.started": "2021-08-22T02:45:24.921249Z"
    },
    "papermill": {
     "duration": 0.714464,
     "end_time": "2021-08-22T03:00:25.707857",
     "exception": false,
     "start_time": "2021-08-22T03:00:24.993393",
     "status": "completed"
    },
    "tags": []
   },
   "outputs": [],
   "source": [
    "# val = pd.read_csv('../input/chaii-hindi-and-tamil-question-answering/test.csv')\n",
    "# val_dataset = Dataset.from_pandas(val)\n",
    "\n",
    "val = pd.read_csv('../input/chaii-hindi-and-tamil-question-answering/train.csv')[-64:]\n",
    "val_dataset = Dataset.from_pandas(val)"
   ]
  },
  {
   "cell_type": "code",
   "execution_count": 11,
   "id": "5862c785",
   "metadata": {
    "execution": {
     "iopub.execute_input": "2021-08-22T03:00:25.772712Z",
     "iopub.status.busy": "2021-08-22T03:00:25.772049Z",
     "iopub.status.idle": "2021-08-22T03:00:25.775162Z",
     "shell.execute_reply": "2021-08-22T03:00:25.775571Z",
     "shell.execute_reply.started": "2021-08-22T02:45:25.735251Z"
    },
    "papermill": {
     "duration": 0.038134,
     "end_time": "2021-08-22T03:00:25.775696",
     "exception": false,
     "start_time": "2021-08-22T03:00:25.737562",
     "status": "completed"
    },
    "tags": []
   },
   "outputs": [
    {
     "data": {
      "text/plain": [
       "Dataset({\n",
       "    features: ['id', 'context', 'question', 'answer_text', 'answer_start', 'language'],\n",
       "    num_rows: 64\n",
       "})"
      ]
     },
     "execution_count": 11,
     "metadata": {},
     "output_type": "execute_result"
    }
   ],
   "source": [
    "val_dataset"
   ]
  },
  {
   "cell_type": "code",
   "execution_count": 12,
   "id": "9aa9f7b0",
   "metadata": {
    "execution": {
     "iopub.execute_input": "2021-08-22T03:00:25.837923Z",
     "iopub.status.busy": "2021-08-22T03:00:25.837427Z",
     "iopub.status.idle": "2021-08-22T03:00:25.841109Z",
     "shell.execute_reply": "2021-08-22T03:00:25.840715Z",
     "shell.execute_reply.started": "2021-08-22T02:45:25.746808Z"
    },
    "papermill": {
     "duration": 0.036009,
     "end_time": "2021-08-22T03:00:25.841212",
     "exception": false,
     "start_time": "2021-08-22T03:00:25.805203",
     "status": "completed"
    },
    "tags": []
   },
   "outputs": [],
   "source": [
    "# len(tokenized_example['input_ids'])"
   ]
  },
  {
   "cell_type": "code",
   "execution_count": 13,
   "id": "6ca43810",
   "metadata": {
    "execution": {
     "iopub.execute_input": "2021-08-22T03:00:25.908485Z",
     "iopub.status.busy": "2021-08-22T03:00:25.907854Z",
     "iopub.status.idle": "2021-08-22T03:00:25.911559Z",
     "shell.execute_reply": "2021-08-22T03:00:25.911150Z",
     "shell.execute_reply.started": "2021-08-22T02:45:25.755619Z"
    },
    "papermill": {
     "duration": 0.040802,
     "end_time": "2021-08-22T03:00:25.911660",
     "exception": false,
     "start_time": "2021-08-22T03:00:25.870858",
     "status": "completed"
    },
    "tags": []
   },
   "outputs": [],
   "source": [
    "# In some padding required on left side\n",
    "pad_on_right = tokenizer.padding_side == \"right\"\n",
    "def prepare_validation_features(examples):\n",
    "    # Some of the questions have lots of whitespace on the left, which is not useful and will make the\n",
    "    # truncation of the context fail (the tokenized question will take a lots of space). So we remove that\n",
    "    # left whitespace\n",
    "    examples[\"question\"] = [q.lstrip() for q in examples[\"question\"]]\n",
    "\n",
    "    # Tokenize our examples with truncation and maybe padding, but keep the overflows using a stride. This results\n",
    "    # in one example possible giving several features when a context is long, each of those features having a\n",
    "    # context that overlaps a bit the context of the previous feature.\n",
    "    tokenized_examples = tokenizer(\n",
    "        examples[\"question\" if pad_on_right else \"context\"],\n",
    "        examples[\"context\" if pad_on_right else \"question\"],\n",
    "        truncation=\"only_second\" if pad_on_right else \"only_first\",\n",
    "        max_length=max_length,\n",
    "        stride=doc_stride,\n",
    "        return_overflowing_tokens=True,\n",
    "        return_offsets_mapping=True,\n",
    "        padding=\"max_length\",\n",
    "    )\n",
    "\n",
    "    # Since one example might give us several features if it has a long context, we need a map from a feature to\n",
    "    # its corresponding example. This key gives us just that.\n",
    "    sample_mapping = tokenized_examples.pop(\"overflow_to_sample_mapping\")\n",
    "\n",
    "    # We keep the example_id that gave us this feature and we will store the offset mappings.\n",
    "    tokenized_examples[\"example_id\"] = []\n",
    "\n",
    "    for i in range(len(tokenized_examples[\"input_ids\"])):\n",
    "        # Grab the sequence corresponding to that example (to know what is the context and what is the question).\n",
    "        sequence_ids = tokenized_examples.sequence_ids(i)\n",
    "        context_index = 1 if pad_on_right else 0\n",
    "\n",
    "        # One example can give several spans, this is the index of the example containing this span of text.\n",
    "        sample_index = sample_mapping[i]\n",
    "        tokenized_examples[\"example_id\"].append(examples[\"id\"][sample_index])\n",
    "\n",
    "        # Set to None the offset_mapping that are not part of the context so it's easy to determine if a token\n",
    "        # position is part of the context or not.\n",
    "        tokenized_examples[\"offset_mapping\"][i] = [\n",
    "            (o if sequence_ids[k] == context_index else None)\n",
    "            for k, o in enumerate(tokenized_examples[\"offset_mapping\"][i])\n",
    "        ]\n",
    "\n",
    "    return tokenized_examples"
   ]
  },
  {
   "cell_type": "code",
   "execution_count": 14,
   "id": "e639b745",
   "metadata": {
    "execution": {
     "iopub.execute_input": "2021-08-22T03:00:25.986161Z",
     "iopub.status.busy": "2021-08-22T03:00:25.985310Z",
     "iopub.status.idle": "2021-08-22T03:00:26.162815Z",
     "shell.execute_reply": "2021-08-22T03:00:26.162064Z",
     "shell.execute_reply.started": "2021-08-22T02:45:25.769606Z"
    },
    "papermill": {
     "duration": 0.22153,
     "end_time": "2021-08-22T03:00:26.162936",
     "exception": false,
     "start_time": "2021-08-22T03:00:25.941406",
     "status": "completed"
    },
    "tags": []
   },
   "outputs": [
    {
     "name": "stdout",
     "output_type": "stream",
     "text": [
      "dict_keys(['input_ids', 'attention_mask', 'offset_mapping', 'example_id'])\n"
     ]
    }
   ],
   "source": [
    "features = prepare_validation_features(val_dataset[:5])\n",
    "print(features.keys())"
   ]
  },
  {
   "cell_type": "code",
   "execution_count": 15,
   "id": "ac218f0f",
   "metadata": {
    "execution": {
     "iopub.execute_input": "2021-08-22T03:00:26.261240Z",
     "iopub.status.busy": "2021-08-22T03:00:26.260505Z",
     "iopub.status.idle": "2021-08-22T03:00:30.481949Z",
     "shell.execute_reply": "2021-08-22T03:00:30.481380Z",
     "shell.execute_reply.started": "2021-08-22T02:45:25.975361Z"
    },
    "papermill": {
     "duration": 4.288756,
     "end_time": "2021-08-22T03:00:30.482114",
     "exception": false,
     "start_time": "2021-08-22T03:00:26.193358",
     "status": "completed"
    },
    "tags": []
   },
   "outputs": [
    {
     "data": {
      "application/vnd.jupyter.widget-view+json": {
       "model_id": "45c712729cd14d9d87dc2a996efa31ed",
       "version_major": 2,
       "version_minor": 0
      },
      "text/plain": [
       "HBox(children=(FloatProgress(value=0.0, max=1.0), HTML(value='')))"
      ]
     },
     "metadata": {},
     "output_type": "display_data"
    },
    {
     "name": "stdout",
     "output_type": "stream",
     "text": [
      "\n"
     ]
    }
   ],
   "source": [
    "validation_features = val_dataset.map(\n",
    "    prepare_validation_features,\n",
    "    batched=True,\n",
    "    remove_columns=val_dataset.column_names\n",
    ")"
   ]
  },
  {
   "cell_type": "code",
   "execution_count": 16,
   "id": "1aafdb24",
   "metadata": {
    "execution": {
     "iopub.execute_input": "2021-08-22T03:00:30.549073Z",
     "iopub.status.busy": "2021-08-22T03:00:30.548385Z",
     "iopub.status.idle": "2021-08-22T03:00:30.551554Z",
     "shell.execute_reply": "2021-08-22T03:00:30.551939Z",
     "shell.execute_reply.started": "2021-08-22T02:45:30.276614Z"
    },
    "papermill": {
     "duration": 0.038324,
     "end_time": "2021-08-22T03:00:30.552057",
     "exception": false,
     "start_time": "2021-08-22T03:00:30.513733",
     "status": "completed"
    },
    "tags": []
   },
   "outputs": [
    {
     "data": {
      "text/plain": [
       "822"
      ]
     },
     "execution_count": 16,
     "metadata": {},
     "output_type": "execute_result"
    }
   ],
   "source": [
    "len(validation_features)"
   ]
  },
  {
   "cell_type": "code",
   "execution_count": 17,
   "id": "827389cc",
   "metadata": {
    "execution": {
     "iopub.execute_input": "2021-08-22T03:00:30.618808Z",
     "iopub.status.busy": "2021-08-22T03:00:30.618019Z",
     "iopub.status.idle": "2021-08-22T03:00:30.621378Z",
     "shell.execute_reply": "2021-08-22T03:00:30.621820Z",
     "shell.execute_reply.started": "2021-08-22T02:45:30.286353Z"
    },
    "papermill": {
     "duration": 0.039085,
     "end_time": "2021-08-22T03:00:30.621932",
     "exception": false,
     "start_time": "2021-08-22T03:00:30.582847",
     "status": "completed"
    },
    "tags": []
   },
   "outputs": [
    {
     "data": {
      "text/plain": [
       "Dataset({\n",
       "    features: ['attention_mask', 'example_id', 'input_ids', 'offset_mapping'],\n",
       "    num_rows: 822\n",
       "})"
      ]
     },
     "execution_count": 17,
     "metadata": {},
     "output_type": "execute_result"
    }
   ],
   "source": [
    "validation_features"
   ]
  },
  {
   "cell_type": "code",
   "execution_count": 18,
   "id": "109204b8",
   "metadata": {
    "execution": {
     "iopub.execute_input": "2021-08-22T03:00:30.868017Z",
     "iopub.status.busy": "2021-08-22T03:00:30.867159Z",
     "iopub.status.idle": "2021-08-22T03:01:07.728262Z",
     "shell.execute_reply": "2021-08-22T03:01:07.728748Z",
     "shell.execute_reply.started": "2021-08-22T02:45:30.296258Z"
    },
    "papermill": {
     "duration": 37.075711,
     "end_time": "2021-08-22T03:01:07.728915",
     "exception": false,
     "start_time": "2021-08-22T03:00:30.653204",
     "status": "completed"
    },
    "tags": []
   },
   "outputs": [
    {
     "data": {
      "text/html": [
       "\n",
       "    <div>\n",
       "      \n",
       "      <progress value='103' max='103' style='width:300px; height:20px; vertical-align: middle;'></progress>\n",
       "      [103/103 00:35]\n",
       "    </div>\n",
       "    "
      ],
      "text/plain": [
       "<IPython.core.display.HTML object>"
      ]
     },
     "metadata": {},
     "output_type": "display_data"
    }
   ],
   "source": [
    "raw_predictions = trainer.predict(validation_features)"
   ]
  },
  {
   "cell_type": "code",
   "execution_count": 19,
   "id": "4b934a3f",
   "metadata": {
    "execution": {
     "iopub.execute_input": "2021-08-22T03:01:07.796365Z",
     "iopub.status.busy": "2021-08-22T03:01:07.795837Z",
     "iopub.status.idle": "2021-08-22T03:01:07.799646Z",
     "shell.execute_reply": "2021-08-22T03:01:07.799227Z",
     "shell.execute_reply.started": "2021-08-22T02:46:07.448681Z"
    },
    "papermill": {
     "duration": 0.038895,
     "end_time": "2021-08-22T03:01:07.799750",
     "exception": false,
     "start_time": "2021-08-22T03:01:07.760855",
     "status": "completed"
    },
    "tags": []
   },
   "outputs": [],
   "source": [
    "validation_features.set_format(type=validation_features.format[\"type\"], columns=list(validation_features.features.keys()))"
   ]
  },
  {
   "cell_type": "markdown",
   "id": "c4e1fa8d",
   "metadata": {
    "papermill": {
     "duration": 0.031059,
     "end_time": "2021-08-22T03:01:07.861918",
     "exception": false,
     "start_time": "2021-08-22T03:01:07.830859",
     "status": "completed"
    },
    "tags": []
   },
   "source": [
    "# Top 1"
   ]
  },
  {
   "cell_type": "code",
   "execution_count": 20,
   "id": "cb0316cf",
   "metadata": {
    "execution": {
     "iopub.execute_input": "2021-08-22T03:01:07.938132Z",
     "iopub.status.busy": "2021-08-22T03:01:07.937603Z",
     "iopub.status.idle": "2021-08-22T03:01:07.940894Z",
     "shell.execute_reply": "2021-08-22T03:01:07.941265Z",
     "shell.execute_reply.started": "2021-08-22T02:47:12.048550Z"
    },
    "papermill": {
     "duration": 0.047547,
     "end_time": "2021-08-22T03:01:07.941397",
     "exception": false,
     "start_time": "2021-08-22T03:01:07.893850",
     "status": "completed"
    },
    "tags": []
   },
   "outputs": [],
   "source": [
    "from tqdm.auto import tqdm\n",
    "import collections\n",
    "\n",
    "\n",
    "def postprocess_qa_predictions(examples, features, raw_predictions, n_best_size = 20, max_answer_length = 30):\n",
    "    all_start_logits, all_end_logits = raw_predictions\n",
    "    # Build a map example to its corresponding features.\n",
    "    example_id_to_index = {k: i for i, k in enumerate(examples[\"id\"])}\n",
    "    features_per_example = collections.defaultdict(list)\n",
    "    for i, feature in enumerate(features):\n",
    "        features_per_example[example_id_to_index[feature[\"example_id\"]]].append(i)\n",
    "\n",
    "    # The dictionaries we have to fill.\n",
    "    predictions = collections.OrderedDict()\n",
    "\n",
    "    # Logging.\n",
    "    print(f\"Post-processing {len(examples)} example predictions split into {len(features)} features.\")\n",
    "\n",
    "    # Let's loop over all the examples!\n",
    "    for example_index, example in enumerate(tqdm(examples)):\n",
    "        # Those are the indices of the features associated to the current example.\n",
    "        feature_indices = features_per_example[example_index]\n",
    "\n",
    "        min_null_score = None # Only used if squad_v2 is True.\n",
    "        valid_answers = []\n",
    "        \n",
    "        context = example[\"context\"]\n",
    "        # Looping through all the features associated to the current example.\n",
    "        for feature_index in feature_indices:\n",
    "            # We grab the predictions of the model for this feature.\n",
    "            start_logits = all_start_logits[feature_index]\n",
    "            end_logits = all_end_logits[feature_index]\n",
    "            # This is what will allow us to map some the positions in our logits to span of texts in the original\n",
    "            # context.\n",
    "            offset_mapping = features[feature_index][\"offset_mapping\"]\n",
    "\n",
    "            # Update minimum null prediction.\n",
    "            cls_index = features[feature_index][\"input_ids\"].index(tokenizer.cls_token_id)\n",
    "            feature_null_score = start_logits[cls_index] + end_logits[cls_index]\n",
    "            if min_null_score is None or min_null_score < feature_null_score:\n",
    "                min_null_score = feature_null_score\n",
    "\n",
    "            # Go through all possibilities for the `n_best_size` greater start and end logits.\n",
    "            start_indexes = np.argsort(start_logits)[-1 : -n_best_size - 1 : -1].tolist()\n",
    "            end_indexes = np.argsort(end_logits)[-1 : -n_best_size - 1 : -1].tolist()\n",
    "            for start_index in start_indexes:\n",
    "                for end_index in end_indexes:\n",
    "                    # Don't consider out-of-scope answers, either because the indices are out of bounds or correspond\n",
    "                    # to part of the input_ids that are not in the context.\n",
    "                    if (\n",
    "                        start_index >= len(offset_mapping)\n",
    "                        or end_index >= len(offset_mapping)\n",
    "                        or offset_mapping[start_index] is None\n",
    "                        or offset_mapping[end_index] is None\n",
    "                    ):\n",
    "                        continue\n",
    "                    # Don't consider answers with a length that is either < 0 or > max_answer_length.\n",
    "                    if end_index < start_index or end_index - start_index + 1 > max_answer_length:\n",
    "                        continue\n",
    "\n",
    "                    start_char = offset_mapping[start_index][0]\n",
    "                    end_char = offset_mapping[end_index][1]\n",
    "                    valid_answers.append(\n",
    "                        {\n",
    "                            \"score\": start_logits[start_index] + end_logits[end_index],\n",
    "                            \"text\": context[start_char: end_char]\n",
    "                        }\n",
    "                    )\n",
    "        \n",
    "        if len(valid_answers) > 0:\n",
    "            best_answer = sorted(valid_answers, key=lambda x: x[\"score\"], reverse=True)[0]\n",
    "        else:\n",
    "            # In the very rare edge case we have not a single non-null prediction, we create a fake prediction to avoid\n",
    "            # failure.\n",
    "            best_answer = {\"text\": \"\", \"score\": 0.0}\n",
    "        \n",
    "        # Let's pick our final answer: the best one or the null answer (only for squad_v2)\n",
    "#         if not squad_v2:\n",
    "        predictions[example[\"id\"]] = best_answer[\"text\"]\n",
    "#         else:\n",
    "#             answer = best_answer[\"text\"] if best_answer[\"score\"] > min_null_score else \"\"\n",
    "#             predictions[example[\"id\"]] = answer\n",
    "\n",
    "    return predictions"
   ]
  },
  {
   "cell_type": "code",
   "execution_count": 21,
   "id": "2fea5668",
   "metadata": {
    "execution": {
     "iopub.execute_input": "2021-08-22T03:01:09.316496Z",
     "iopub.status.busy": "2021-08-22T03:01:09.315699Z",
     "iopub.status.idle": "2021-08-22T03:01:12.108641Z",
     "shell.execute_reply": "2021-08-22T03:01:12.108199Z",
     "shell.execute_reply.started": "2021-08-22T02:47:12.313547Z"
    },
    "papermill": {
     "duration": 4.135348,
     "end_time": "2021-08-22T03:01:12.108756",
     "exception": false,
     "start_time": "2021-08-22T03:01:07.973408",
     "status": "completed"
    },
    "tags": []
   },
   "outputs": [
    {
     "name": "stdout",
     "output_type": "stream",
     "text": [
      "Post-processing 64 example predictions split into 822 features.\n"
     ]
    },
    {
     "data": {
      "application/vnd.jupyter.widget-view+json": {
       "model_id": "8a2b55a721e9439895e555e4122daf4e",
       "version_major": 2,
       "version_minor": 0
      },
      "text/plain": [
       "HBox(children=(FloatProgress(value=0.0, max=64.0), HTML(value='')))"
      ]
     },
     "metadata": {},
     "output_type": "display_data"
    },
    {
     "name": "stdout",
     "output_type": "stream",
     "text": [
      "\n"
     ]
    }
   ],
   "source": [
    "final_predictions = postprocess_qa_predictions(val_dataset, validation_features, raw_predictions.predictions)"
   ]
  },
  {
   "cell_type": "code",
   "execution_count": 22,
   "id": "a08b0faf",
   "metadata": {
    "execution": {
     "iopub.execute_input": "2021-08-22T03:01:12.177698Z",
     "iopub.status.busy": "2021-08-22T03:01:12.177159Z",
     "iopub.status.idle": "2021-08-22T03:01:12.181540Z",
     "shell.execute_reply": "2021-08-22T03:01:12.181137Z",
     "shell.execute_reply.started": "2021-08-22T02:54:03.395839Z"
    },
    "papermill": {
     "duration": 0.040249,
     "end_time": "2021-08-22T03:01:12.181650",
     "exception": false,
     "start_time": "2021-08-22T03:01:12.141401",
     "status": "completed"
    },
    "tags": []
   },
   "outputs": [
    {
     "name": "stdout",
     "output_type": "stream",
     "text": [
      "64\n"
     ]
    }
   ],
   "source": [
    "final_list = list(final_predictions.values())\n",
    "print(len(final_list))\n",
    "# final_list"
   ]
  },
  {
   "cell_type": "code",
   "execution_count": 23,
   "id": "da756dc7",
   "metadata": {
    "execution": {
     "iopub.execute_input": "2021-08-22T03:01:12.251061Z",
     "iopub.status.busy": "2021-08-22T03:01:12.250586Z",
     "iopub.status.idle": "2021-08-22T03:01:12.268667Z",
     "shell.execute_reply": "2021-08-22T03:01:12.267962Z",
     "shell.execute_reply.started": "2021-08-22T02:54:13.973411Z"
    },
    "papermill": {
     "duration": 0.054361,
     "end_time": "2021-08-22T03:01:12.268768",
     "exception": false,
     "start_time": "2021-08-22T03:01:12.214407",
     "status": "completed"
    },
    "tags": []
   },
   "outputs": [
    {
     "data": {
      "text/html": [
       "<div>\n",
       "<style scoped>\n",
       "    .dataframe tbody tr th:only-of-type {\n",
       "        vertical-align: middle;\n",
       "    }\n",
       "\n",
       "    .dataframe tbody tr th {\n",
       "        vertical-align: top;\n",
       "    }\n",
       "\n",
       "    .dataframe thead th {\n",
       "        text-align: right;\n",
       "    }\n",
       "</style>\n",
       "<table border=\"1\" class=\"dataframe\">\n",
       "  <thead>\n",
       "    <tr style=\"text-align: right;\">\n",
       "      <th></th>\n",
       "      <th>id</th>\n",
       "      <th>context</th>\n",
       "      <th>question</th>\n",
       "      <th>answer_text</th>\n",
       "      <th>answer_start</th>\n",
       "      <th>language</th>\n",
       "    </tr>\n",
       "  </thead>\n",
       "  <tbody>\n",
       "    <tr>\n",
       "      <th>1050</th>\n",
       "      <td>60b6c1051</td>\n",
       "      <td>मणिपाल उच्च शिक्षा अकादमी भारत का एक समविश्ववि...</td>\n",
       "      <td>मणिपाल विश्वविद्यालय कहाँ स्तिथ है?</td>\n",
       "      <td>मणिपाल</td>\n",
       "      <td>0</td>\n",
       "      <td>hindi</td>\n",
       "    </tr>\n",
       "    <tr>\n",
       "      <th>1051</th>\n",
       "      <td>932c30d34</td>\n",
       "      <td>प्रोटीन या प्रोभूजिन एक जटिल भूयाति युक्त कार्...</td>\n",
       "      <td>सरल प्रोटीन का गठन किसके द्वारा होता है?</td>\n",
       "      <td>अमीनो अम्ल द्वारा</td>\n",
       "      <td>511</td>\n",
       "      <td>hindi</td>\n",
       "    </tr>\n",
       "    <tr>\n",
       "      <th>1052</th>\n",
       "      <td>78a4ff63f</td>\n",
       "      <td>गाम्बिया (आधिकारिक रूप से इस्लामी गणराज्य गाम्...</td>\n",
       "      <td>गाम्बिया' किस महाद्वीप में स्थित एक देश है?</td>\n",
       "      <td>अफ्रीकी</td>\n",
       "      <td>99</td>\n",
       "      <td>hindi</td>\n",
       "    </tr>\n",
       "    <tr>\n",
       "      <th>1053</th>\n",
       "      <td>01ae1bdd3</td>\n",
       "      <td>भारतीय विज्ञान की परंपरा विश्व की प्राचीनतम वै...</td>\n",
       "      <td>हरगोविंद खुराना, किस पेशे से सम्बंधित थे?</td>\n",
       "      <td>भारतीय वैज्ञानिक</td>\n",
       "      <td>1932</td>\n",
       "      <td>hindi</td>\n",
       "    </tr>\n",
       "    <tr>\n",
       "      <th>1054</th>\n",
       "      <td>1acb37c63</td>\n",
       "      <td>क़ुस्तुंतुनिया या कांस्टैंटिनोपुल (यूनानी: Κων...</td>\n",
       "      <td>कांस्टैंटिनोपुल की स्थापना किस वर्ष में हुई थी?</td>\n",
       "      <td>328 ई.</td>\n",
       "      <td>596</td>\n",
       "      <td>hindi</td>\n",
       "    </tr>\n",
       "  </tbody>\n",
       "</table>\n",
       "</div>"
      ],
      "text/plain": [
       "             id                                            context  \\\n",
       "1050  60b6c1051  मणिपाल उच्च शिक्षा अकादमी भारत का एक समविश्ववि...   \n",
       "1051  932c30d34  प्रोटीन या प्रोभूजिन एक जटिल भूयाति युक्त कार्...   \n",
       "1052  78a4ff63f  गाम्बिया (आधिकारिक रूप से इस्लामी गणराज्य गाम्...   \n",
       "1053  01ae1bdd3  भारतीय विज्ञान की परंपरा विश्व की प्राचीनतम वै...   \n",
       "1054  1acb37c63  क़ुस्तुंतुनिया या कांस्टैंटिनोपुल (यूनानी: Κων...   \n",
       "\n",
       "                                             question        answer_text  \\\n",
       "1050              मणिपाल विश्वविद्यालय कहाँ स्तिथ है?             मणिपाल   \n",
       "1051         सरल प्रोटीन का गठन किसके द्वारा होता है?  अमीनो अम्ल द्वारा   \n",
       "1052      गाम्बिया' किस महाद्वीप में स्थित एक देश है?            अफ्रीकी   \n",
       "1053        हरगोविंद खुराना, किस पेशे से सम्बंधित थे?   भारतीय वैज्ञानिक   \n",
       "1054  कांस्टैंटिनोपुल की स्थापना किस वर्ष में हुई थी?             328 ई.   \n",
       "\n",
       "      answer_start language  \n",
       "1050             0    hindi  \n",
       "1051           511    hindi  \n",
       "1052            99    hindi  \n",
       "1053          1932    hindi  \n",
       "1054           596    hindi  "
      ]
     },
     "execution_count": 23,
     "metadata": {},
     "output_type": "execute_result"
    }
   ],
   "source": [
    "val.head()"
   ]
  },
  {
   "cell_type": "code",
   "execution_count": 24,
   "id": "d7934b52",
   "metadata": {
    "execution": {
     "iopub.execute_input": "2021-08-22T03:01:12.339552Z",
     "iopub.status.busy": "2021-08-22T03:01:12.338782Z",
     "iopub.status.idle": "2021-08-22T03:01:12.341549Z",
     "shell.execute_reply": "2021-08-22T03:01:12.341033Z",
     "shell.execute_reply.started": "2021-08-22T02:54:04.969541Z"
    },
    "papermill": {
     "duration": 0.039649,
     "end_time": "2021-08-22T03:01:12.341646",
     "exception": false,
     "start_time": "2021-08-22T03:01:12.301997",
     "status": "completed"
    },
    "tags": []
   },
   "outputs": [],
   "source": [
    "val['PredictionString']=final_list"
   ]
  },
  {
   "cell_type": "code",
   "execution_count": 25,
   "id": "1442a857",
   "metadata": {
    "execution": {
     "iopub.execute_input": "2021-08-22T03:01:12.419127Z",
     "iopub.status.busy": "2021-08-22T03:01:12.418268Z",
     "iopub.status.idle": "2021-08-22T03:01:12.421592Z",
     "shell.execute_reply": "2021-08-22T03:01:12.421955Z",
     "shell.execute_reply.started": "2021-08-22T02:47:16.502231Z"
    },
    "papermill": {
     "duration": 0.047318,
     "end_time": "2021-08-22T03:01:12.422073",
     "exception": false,
     "start_time": "2021-08-22T03:01:12.374755",
     "status": "completed"
    },
    "tags": []
   },
   "outputs": [
    {
     "data": {
      "text/html": [
       "<div>\n",
       "<style scoped>\n",
       "    .dataframe tbody tr th:only-of-type {\n",
       "        vertical-align: middle;\n",
       "    }\n",
       "\n",
       "    .dataframe tbody tr th {\n",
       "        vertical-align: top;\n",
       "    }\n",
       "\n",
       "    .dataframe thead th {\n",
       "        text-align: right;\n",
       "    }\n",
       "</style>\n",
       "<table border=\"1\" class=\"dataframe\">\n",
       "  <thead>\n",
       "    <tr style=\"text-align: right;\">\n",
       "      <th></th>\n",
       "      <th>id</th>\n",
       "      <th>context</th>\n",
       "      <th>question</th>\n",
       "      <th>answer_text</th>\n",
       "      <th>answer_start</th>\n",
       "      <th>language</th>\n",
       "      <th>PredictionString</th>\n",
       "    </tr>\n",
       "  </thead>\n",
       "  <tbody>\n",
       "    <tr>\n",
       "      <th>1050</th>\n",
       "      <td>60b6c1051</td>\n",
       "      <td>मणिपाल उच्च शिक्षा अकादमी भारत का एक समविश्ववि...</td>\n",
       "      <td>मणिपाल विश्वविद्यालय कहाँ स्तिथ है?</td>\n",
       "      <td>मणिपाल</td>\n",
       "      <td>0</td>\n",
       "      <td>hindi</td>\n",
       "      <td>कर्नाटक के मणिपाल</td>\n",
       "    </tr>\n",
       "    <tr>\n",
       "      <th>1051</th>\n",
       "      <td>932c30d34</td>\n",
       "      <td>प्रोटीन या प्रोभूजिन एक जटिल भूयाति युक्त कार्...</td>\n",
       "      <td>सरल प्रोटीन का गठन किसके द्वारा होता है?</td>\n",
       "      <td>अमीनो अम्ल द्वारा</td>\n",
       "      <td>511</td>\n",
       "      <td>hindi</td>\n",
       "      <td>अमीनो अम्ल</td>\n",
       "    </tr>\n",
       "    <tr>\n",
       "      <th>1052</th>\n",
       "      <td>78a4ff63f</td>\n",
       "      <td>गाम्बिया (आधिकारिक रूप से इस्लामी गणराज्य गाम्...</td>\n",
       "      <td>गाम्बिया' किस महाद्वीप में स्थित एक देश है?</td>\n",
       "      <td>अफ्रीकी</td>\n",
       "      <td>99</td>\n",
       "      <td>hindi</td>\n",
       "      <td>पश्चिमी अफ्रीका</td>\n",
       "    </tr>\n",
       "    <tr>\n",
       "      <th>1053</th>\n",
       "      <td>01ae1bdd3</td>\n",
       "      <td>भारतीय विज्ञान की परंपरा विश्व की प्राचीनतम वै...</td>\n",
       "      <td>हरगोविंद खुराना, किस पेशे से सम्बंधित थे?</td>\n",
       "      <td>भारतीय वैज्ञानिक</td>\n",
       "      <td>1932</td>\n",
       "      <td>hindi</td>\n",
       "      <td>वैज्ञानिकों</td>\n",
       "    </tr>\n",
       "    <tr>\n",
       "      <th>1054</th>\n",
       "      <td>1acb37c63</td>\n",
       "      <td>क़ुस्तुंतुनिया या कांस्टैंटिनोपुल (यूनानी: Κων...</td>\n",
       "      <td>कांस्टैंटिनोपुल की स्थापना किस वर्ष में हुई थी?</td>\n",
       "      <td>328 ई.</td>\n",
       "      <td>596</td>\n",
       "      <td>hindi</td>\n",
       "      <td>328 ई.</td>\n",
       "    </tr>\n",
       "  </tbody>\n",
       "</table>\n",
       "</div>"
      ],
      "text/plain": [
       "             id                                            context  \\\n",
       "1050  60b6c1051  मणिपाल उच्च शिक्षा अकादमी भारत का एक समविश्ववि...   \n",
       "1051  932c30d34  प्रोटीन या प्रोभूजिन एक जटिल भूयाति युक्त कार्...   \n",
       "1052  78a4ff63f  गाम्बिया (आधिकारिक रूप से इस्लामी गणराज्य गाम्...   \n",
       "1053  01ae1bdd3  भारतीय विज्ञान की परंपरा विश्व की प्राचीनतम वै...   \n",
       "1054  1acb37c63  क़ुस्तुंतुनिया या कांस्टैंटिनोपुल (यूनानी: Κων...   \n",
       "\n",
       "                                             question        answer_text  \\\n",
       "1050              मणिपाल विश्वविद्यालय कहाँ स्तिथ है?             मणिपाल   \n",
       "1051         सरल प्रोटीन का गठन किसके द्वारा होता है?  अमीनो अम्ल द्वारा   \n",
       "1052      गाम्बिया' किस महाद्वीप में स्थित एक देश है?            अफ्रीकी   \n",
       "1053        हरगोविंद खुराना, किस पेशे से सम्बंधित थे?   भारतीय वैज्ञानिक   \n",
       "1054  कांस्टैंटिनोपुल की स्थापना किस वर्ष में हुई थी?             328 ई.   \n",
       "\n",
       "      answer_start language    PredictionString  \n",
       "1050             0    hindi   कर्नाटक के मणिपाल  \n",
       "1051           511    hindi          अमीनो अम्ल  \n",
       "1052            99    hindi     पश्चिमी अफ्रीका  \n",
       "1053          1932    hindi         वैज्ञानिकों  \n",
       "1054           596    hindi              328 ई.  "
      ]
     },
     "execution_count": 25,
     "metadata": {},
     "output_type": "execute_result"
    }
   ],
   "source": [
    "val.head()"
   ]
  },
  {
   "cell_type": "code",
   "execution_count": 26,
   "id": "06796ddb",
   "metadata": {
    "execution": {
     "iopub.execute_input": "2021-08-22T03:01:12.495246Z",
     "iopub.status.busy": "2021-08-22T03:01:12.494038Z",
     "iopub.status.idle": "2021-08-22T03:01:12.496760Z",
     "shell.execute_reply": "2021-08-22T03:01:12.496357Z",
     "shell.execute_reply.started": "2021-08-22T02:47:17.078655Z"
    },
    "papermill": {
     "duration": 0.041041,
     "end_time": "2021-08-22T03:01:12.496863",
     "exception": false,
     "start_time": "2021-08-22T03:01:12.455822",
     "status": "completed"
    },
    "tags": []
   },
   "outputs": [],
   "source": [
    "def jaccard(row): \n",
    "    str1 = row['PredictionString']\n",
    "    str2 = row['answer_text']\n",
    "    a = set(str1.lower().split()) \n",
    "    b = set(str2.lower().split())\n",
    "    c = a.intersection(b)\n",
    "    return float(len(c)) / (len(a) + len(b) - len(c))"
   ]
  },
  {
   "cell_type": "code",
   "execution_count": 27,
   "id": "d78b0617",
   "metadata": {
    "execution": {
     "iopub.execute_input": "2021-08-22T03:01:12.567540Z",
     "iopub.status.busy": "2021-08-22T03:01:12.567009Z",
     "iopub.status.idle": "2021-08-22T03:01:12.575812Z",
     "shell.execute_reply": "2021-08-22T03:01:12.575409Z",
     "shell.execute_reply.started": "2021-08-22T02:47:17.889510Z"
    },
    "papermill": {
     "duration": 0.04551,
     "end_time": "2021-08-22T03:01:12.575913",
     "exception": false,
     "start_time": "2021-08-22T03:01:12.530403",
     "status": "completed"
    },
    "tags": []
   },
   "outputs": [],
   "source": [
    "val['jaccard_score']=val.apply(jaccard,axis=1)"
   ]
  },
  {
   "cell_type": "code",
   "execution_count": 28,
   "id": "135f1111",
   "metadata": {
    "execution": {
     "iopub.execute_input": "2021-08-22T03:01:12.657714Z",
     "iopub.status.busy": "2021-08-22T03:01:12.656821Z",
     "iopub.status.idle": "2021-08-22T03:01:12.661155Z",
     "shell.execute_reply": "2021-08-22T03:01:12.660738Z",
     "shell.execute_reply.started": "2021-08-22T02:47:18.091012Z"
    },
    "papermill": {
     "duration": 0.051646,
     "end_time": "2021-08-22T03:01:12.661252",
     "exception": false,
     "start_time": "2021-08-22T03:01:12.609606",
     "status": "completed"
    },
    "tags": []
   },
   "outputs": [
    {
     "data": {
      "text/html": [
       "<div>\n",
       "<style scoped>\n",
       "    .dataframe tbody tr th:only-of-type {\n",
       "        vertical-align: middle;\n",
       "    }\n",
       "\n",
       "    .dataframe tbody tr th {\n",
       "        vertical-align: top;\n",
       "    }\n",
       "\n",
       "    .dataframe thead th {\n",
       "        text-align: right;\n",
       "    }\n",
       "</style>\n",
       "<table border=\"1\" class=\"dataframe\">\n",
       "  <thead>\n",
       "    <tr style=\"text-align: right;\">\n",
       "      <th></th>\n",
       "      <th>id</th>\n",
       "      <th>context</th>\n",
       "      <th>question</th>\n",
       "      <th>answer_text</th>\n",
       "      <th>answer_start</th>\n",
       "      <th>language</th>\n",
       "      <th>PredictionString</th>\n",
       "      <th>jaccard_score</th>\n",
       "    </tr>\n",
       "  </thead>\n",
       "  <tbody>\n",
       "    <tr>\n",
       "      <th>1050</th>\n",
       "      <td>60b6c1051</td>\n",
       "      <td>मणिपाल उच्च शिक्षा अकादमी भारत का एक समविश्ववि...</td>\n",
       "      <td>मणिपाल विश्वविद्यालय कहाँ स्तिथ है?</td>\n",
       "      <td>मणिपाल</td>\n",
       "      <td>0</td>\n",
       "      <td>hindi</td>\n",
       "      <td>कर्नाटक के मणिपाल</td>\n",
       "      <td>0.333333</td>\n",
       "    </tr>\n",
       "    <tr>\n",
       "      <th>1051</th>\n",
       "      <td>932c30d34</td>\n",
       "      <td>प्रोटीन या प्रोभूजिन एक जटिल भूयाति युक्त कार्...</td>\n",
       "      <td>सरल प्रोटीन का गठन किसके द्वारा होता है?</td>\n",
       "      <td>अमीनो अम्ल द्वारा</td>\n",
       "      <td>511</td>\n",
       "      <td>hindi</td>\n",
       "      <td>अमीनो अम्ल</td>\n",
       "      <td>0.666667</td>\n",
       "    </tr>\n",
       "    <tr>\n",
       "      <th>1052</th>\n",
       "      <td>78a4ff63f</td>\n",
       "      <td>गाम्बिया (आधिकारिक रूप से इस्लामी गणराज्य गाम्...</td>\n",
       "      <td>गाम्बिया' किस महाद्वीप में स्थित एक देश है?</td>\n",
       "      <td>अफ्रीकी</td>\n",
       "      <td>99</td>\n",
       "      <td>hindi</td>\n",
       "      <td>पश्चिमी अफ्रीका</td>\n",
       "      <td>0.000000</td>\n",
       "    </tr>\n",
       "    <tr>\n",
       "      <th>1053</th>\n",
       "      <td>01ae1bdd3</td>\n",
       "      <td>भारतीय विज्ञान की परंपरा विश्व की प्राचीनतम वै...</td>\n",
       "      <td>हरगोविंद खुराना, किस पेशे से सम्बंधित थे?</td>\n",
       "      <td>भारतीय वैज्ञानिक</td>\n",
       "      <td>1932</td>\n",
       "      <td>hindi</td>\n",
       "      <td>वैज्ञानिकों</td>\n",
       "      <td>0.000000</td>\n",
       "    </tr>\n",
       "    <tr>\n",
       "      <th>1054</th>\n",
       "      <td>1acb37c63</td>\n",
       "      <td>क़ुस्तुंतुनिया या कांस्टैंटिनोपुल (यूनानी: Κων...</td>\n",
       "      <td>कांस्टैंटिनोपुल की स्थापना किस वर्ष में हुई थी?</td>\n",
       "      <td>328 ई.</td>\n",
       "      <td>596</td>\n",
       "      <td>hindi</td>\n",
       "      <td>328 ई.</td>\n",
       "      <td>1.000000</td>\n",
       "    </tr>\n",
       "    <tr>\n",
       "      <th>1055</th>\n",
       "      <td>6ee60fcfb</td>\n",
       "      <td>गांजा (Cannabis या marijuana), एक मादक पदार्थ ...</td>\n",
       "      <td>'गांजा'' व्यसन को अंग्रेज़ी में क्या कहा जाता है?</td>\n",
       "      <td>Cannabis या marijuana</td>\n",
       "      <td>7</td>\n",
       "      <td>hindi</td>\n",
       "      <td>marijuana</td>\n",
       "      <td>0.333333</td>\n",
       "    </tr>\n",
       "    <tr>\n",
       "      <th>1056</th>\n",
       "      <td>49accd67e</td>\n",
       "      <td>कुसुम (Carthamus tinctorius एल) एक अत्यधिक bra...</td>\n",
       "      <td>कुसुम पौधें का वैज्ञानिक नाम क्या है?</td>\n",
       "      <td>Carthamus tinctorius एल</td>\n",
       "      <td>7</td>\n",
       "      <td>hindi</td>\n",
       "      <td>Carthamus tinctorius एल</td>\n",
       "      <td>1.000000</td>\n",
       "    </tr>\n",
       "    <tr>\n",
       "      <th>1057</th>\n",
       "      <td>3f3c2c4c5</td>\n",
       "      <td>बिल्ली के कुल (विडाल) में आने वाला चीता (एसीनो...</td>\n",
       "      <td>चीता का वैज्ञानिक नाम क्या है?</td>\n",
       "      <td>एसीनोनिक्स जुबेटस</td>\n",
       "      <td>41</td>\n",
       "      <td>hindi</td>\n",
       "      <td>एसीनोनिक्स जुबेटस</td>\n",
       "      <td>1.000000</td>\n",
       "    </tr>\n",
       "    <tr>\n",
       "      <th>1058</th>\n",
       "      <td>ebe48c5e6</td>\n",
       "      <td>इन्फोसिस लिमिटेड (BSE:, Nasdaq:) एक बहुराष्ट्र...</td>\n",
       "      <td>इंफोसिस लिमिटेड की स्थापना किस वर्ष में हुई थी?</td>\n",
       "      <td>२ जुलाई, १९८१</td>\n",
       "      <td>475</td>\n",
       "      <td>hindi</td>\n",
       "      <td>२ जुलाई, १९८१</td>\n",
       "      <td>1.000000</td>\n",
       "    </tr>\n",
       "    <tr>\n",
       "      <th>1059</th>\n",
       "      <td>9cf59a35c</td>\n",
       "      <td>एशियन पेंट्स लिमिटेड एक भारतीय बहुराष्ट्रीय कम...</td>\n",
       "      <td>एशियन पेंट्स कंपनी की स्थापना कब हुई?</td>\n",
       "      <td>फरवरी १९४२</td>\n",
       "      <td>521</td>\n",
       "      <td>hindi</td>\n",
       "      <td>\\nफरवरी १९४२</td>\n",
       "      <td>1.000000</td>\n",
       "    </tr>\n",
       "  </tbody>\n",
       "</table>\n",
       "</div>"
      ],
      "text/plain": [
       "             id                                            context  \\\n",
       "1050  60b6c1051  मणिपाल उच्च शिक्षा अकादमी भारत का एक समविश्ववि...   \n",
       "1051  932c30d34  प्रोटीन या प्रोभूजिन एक जटिल भूयाति युक्त कार्...   \n",
       "1052  78a4ff63f  गाम्बिया (आधिकारिक रूप से इस्लामी गणराज्य गाम्...   \n",
       "1053  01ae1bdd3  भारतीय विज्ञान की परंपरा विश्व की प्राचीनतम वै...   \n",
       "1054  1acb37c63  क़ुस्तुंतुनिया या कांस्टैंटिनोपुल (यूनानी: Κων...   \n",
       "1055  6ee60fcfb  गांजा (Cannabis या marijuana), एक मादक पदार्थ ...   \n",
       "1056  49accd67e  कुसुम (Carthamus tinctorius एल) एक अत्यधिक bra...   \n",
       "1057  3f3c2c4c5  बिल्ली के कुल (विडाल) में आने वाला चीता (एसीनो...   \n",
       "1058  ebe48c5e6  इन्फोसिस लिमिटेड (BSE:, Nasdaq:) एक बहुराष्ट्र...   \n",
       "1059  9cf59a35c  एशियन पेंट्स लिमिटेड एक भारतीय बहुराष्ट्रीय कम...   \n",
       "\n",
       "                                              question  \\\n",
       "1050               मणिपाल विश्वविद्यालय कहाँ स्तिथ है?   \n",
       "1051          सरल प्रोटीन का गठन किसके द्वारा होता है?   \n",
       "1052       गाम्बिया' किस महाद्वीप में स्थित एक देश है?   \n",
       "1053         हरगोविंद खुराना, किस पेशे से सम्बंधित थे?   \n",
       "1054   कांस्टैंटिनोपुल की स्थापना किस वर्ष में हुई थी?   \n",
       "1055  'गांजा'' व्यसन को अंग्रेज़ी में क्या कहा जाता है?   \n",
       "1056             कुसुम पौधें का वैज्ञानिक नाम क्या है?   \n",
       "1057                    चीता का वैज्ञानिक नाम क्या है?   \n",
       "1058   इंफोसिस लिमिटेड की स्थापना किस वर्ष में हुई थी?   \n",
       "1059             एशियन पेंट्स कंपनी की स्थापना कब हुई?   \n",
       "\n",
       "                  answer_text  answer_start language         PredictionString  \\\n",
       "1050                   मणिपाल             0    hindi        कर्नाटक के मणिपाल   \n",
       "1051        अमीनो अम्ल द्वारा           511    hindi               अमीनो अम्ल   \n",
       "1052                  अफ्रीकी            99    hindi          पश्चिमी अफ्रीका   \n",
       "1053         भारतीय वैज्ञानिक          1932    hindi              वैज्ञानिकों   \n",
       "1054                   328 ई.           596    hindi                   328 ई.   \n",
       "1055    Cannabis या marijuana             7    hindi                marijuana   \n",
       "1056  Carthamus tinctorius एल             7    hindi  Carthamus tinctorius एल   \n",
       "1057        एसीनोनिक्स जुबेटस            41    hindi        एसीनोनिक्स जुबेटस   \n",
       "1058            २ जुलाई, १९८१           475    hindi            २ जुलाई, १९८१   \n",
       "1059               फरवरी १९४२           521    hindi             \\nफरवरी १९४२   \n",
       "\n",
       "      jaccard_score  \n",
       "1050       0.333333  \n",
       "1051       0.666667  \n",
       "1052       0.000000  \n",
       "1053       0.000000  \n",
       "1054       1.000000  \n",
       "1055       0.333333  \n",
       "1056       1.000000  \n",
       "1057       1.000000  \n",
       "1058       1.000000  \n",
       "1059       1.000000  "
      ]
     },
     "execution_count": 28,
     "metadata": {},
     "output_type": "execute_result"
    }
   ],
   "source": [
    "val.head(n=10)"
   ]
  },
  {
   "cell_type": "code",
   "execution_count": 29,
   "id": "11589fbf",
   "metadata": {
    "execution": {
     "iopub.execute_input": "2021-08-22T03:01:12.734778Z",
     "iopub.status.busy": "2021-08-22T03:01:12.734134Z",
     "iopub.status.idle": "2021-08-22T03:01:12.736759Z",
     "shell.execute_reply": "2021-08-22T03:01:12.737245Z",
     "shell.execute_reply.started": "2021-08-22T02:47:18.400020Z"
    },
    "papermill": {
     "duration": 0.041799,
     "end_time": "2021-08-22T03:01:12.737406",
     "exception": false,
     "start_time": "2021-08-22T03:01:12.695607",
     "status": "completed"
    },
    "tags": []
   },
   "outputs": [
    {
     "data": {
      "text/plain": [
       "0.7109375"
      ]
     },
     "execution_count": 29,
     "metadata": {},
     "output_type": "execute_result"
    }
   ],
   "source": [
    "val['jaccard_score'].mean()"
   ]
  },
  {
   "cell_type": "code",
   "execution_count": 30,
   "id": "5d33ca9c",
   "metadata": {
    "execution": {
     "iopub.execute_input": "2021-08-22T03:01:12.811622Z",
     "iopub.status.busy": "2021-08-22T03:01:12.811104Z",
     "iopub.status.idle": "2021-08-22T03:01:12.846680Z",
     "shell.execute_reply": "2021-08-22T03:01:12.846009Z",
     "shell.execute_reply.started": "2021-08-22T02:47:19.580090Z"
    },
    "papermill": {
     "duration": 0.073988,
     "end_time": "2021-08-22T03:01:12.846784",
     "exception": false,
     "start_time": "2021-08-22T03:01:12.772796",
     "status": "completed"
    },
    "tags": []
   },
   "outputs": [],
   "source": [
    "val.to_csv('jaccard_score.csv',index=False)"
   ]
  },
  {
   "cell_type": "markdown",
   "id": "52a3e04a",
   "metadata": {
    "papermill": {
     "duration": 0.034356,
     "end_time": "2021-08-22T03:01:12.916144",
     "exception": false,
     "start_time": "2021-08-22T03:01:12.881788",
     "status": "completed"
    },
    "tags": []
   },
   "source": [
    "# Top 5"
   ]
  },
  {
   "cell_type": "code",
   "execution_count": 31,
   "id": "64ae62e6",
   "metadata": {
    "execution": {
     "iopub.execute_input": "2021-08-22T03:01:12.988966Z",
     "iopub.status.busy": "2021-08-22T03:01:12.988157Z",
     "iopub.status.idle": "2021-08-22T03:01:13.001059Z",
     "shell.execute_reply": "2021-08-22T03:01:13.001491Z",
     "shell.execute_reply.started": "2021-08-22T02:52:35.074787Z"
    },
    "papermill": {
     "duration": 0.050961,
     "end_time": "2021-08-22T03:01:13.001605",
     "exception": false,
     "start_time": "2021-08-22T03:01:12.950644",
     "status": "completed"
    },
    "tags": []
   },
   "outputs": [],
   "source": [
    "from tqdm.auto import tqdm\n",
    "import collections\n",
    "\n",
    "\n",
    "def postprocess_qa_predictions_topn(examples, features, raw_predictions, n_best_size = 20, max_answer_length = 30,top=1):\n",
    "    all_start_logits, all_end_logits = raw_predictions\n",
    "    # Build a map example to its corresponding features.\n",
    "    example_id_to_index = {k: i for i, k in enumerate(examples[\"id\"])}\n",
    "    features_per_example = collections.defaultdict(list)\n",
    "    for i, feature in enumerate(features):\n",
    "        features_per_example[example_id_to_index[feature[\"example_id\"]]].append(i)\n",
    "\n",
    "    # The dictionaries we have to fill.\n",
    "    predictions = collections.OrderedDict()\n",
    "\n",
    "    # Logging.\n",
    "    print(f\"Post-processing {len(examples)} example predictions split into {len(features)} features.\")\n",
    "\n",
    "    # Let's loop over all the examples!\n",
    "    for example_index, example in enumerate(tqdm(examples)):\n",
    "        # Those are the indices of the features associated to the current example.\n",
    "        feature_indices = features_per_example[example_index]\n",
    "\n",
    "        min_null_score = None # Only used if squad_v2 is True.\n",
    "        valid_answers = []\n",
    "        \n",
    "        context = example[\"context\"]\n",
    "        # Looping through all the features associated to the current example.\n",
    "        for feature_index in feature_indices:\n",
    "            # We grab the predictions of the model for this feature.\n",
    "            start_logits = all_start_logits[feature_index]\n",
    "            end_logits = all_end_logits[feature_index]\n",
    "            # This is what will allow us to map some the positions in our logits to span of texts in the original\n",
    "            # context.\n",
    "            offset_mapping = features[feature_index][\"offset_mapping\"]\n",
    "\n",
    "            # Update minimum null prediction.\n",
    "            cls_index = features[feature_index][\"input_ids\"].index(tokenizer.cls_token_id)\n",
    "            feature_null_score = start_logits[cls_index] + end_logits[cls_index]\n",
    "            if min_null_score is None or min_null_score < feature_null_score:\n",
    "                min_null_score = feature_null_score\n",
    "\n",
    "            # Go through all possibilities for the `n_best_size` greater start and end logits.\n",
    "            start_indexes = np.argsort(start_logits)[-1 : -n_best_size - 1 : -1].tolist()\n",
    "            end_indexes = np.argsort(end_logits)[-1 : -n_best_size - 1 : -1].tolist()\n",
    "            for start_index in start_indexes:\n",
    "                for end_index in end_indexes:\n",
    "                    # Don't consider out-of-scope answers, either because the indices are out of bounds or correspond\n",
    "                    # to part of the input_ids that are not in the context.\n",
    "                    if (\n",
    "                        start_index >= len(offset_mapping)\n",
    "                        or end_index >= len(offset_mapping)\n",
    "                        or offset_mapping[start_index] is None\n",
    "                        or offset_mapping[end_index] is None\n",
    "                    ):\n",
    "                        continue\n",
    "                    # Don't consider answers with a length that is either < 0 or > max_answer_length.\n",
    "                    if end_index < start_index or end_index - start_index + 1 > max_answer_length:\n",
    "                        continue\n",
    "\n",
    "                    start_char = offset_mapping[start_index][0]\n",
    "                    end_char = offset_mapping[end_index][1]\n",
    "                    valid_answers.append(\n",
    "                        {\n",
    "                            \"score\": start_logits[start_index] + end_logits[end_index],\n",
    "                            \"text\": context[start_char: end_char]\n",
    "                        }\n",
    "                    )\n",
    "        \n",
    "        if len(valid_answers) > 0:\n",
    "            best_answer = sorted(valid_answers, key=lambda x: x[\"score\"], reverse=True)[:top]\n",
    "            best_answers = []\n",
    "            for ans in best_answer:\n",
    "                best_answers.append(ans['text'])\n",
    "        else:\n",
    "            # In the very rare edge case we have not a single non-null prediction, we create a fake prediction to avoid\n",
    "            # failure.\n",
    "            best_answers = [\"\"]\n",
    "        \n",
    "        # Let's pick our final answer: the best one or the null answer (only for squad_v2)\n",
    "#         if not squad_v2:\n",
    "#         print(best_answers)\n",
    "        predictions[example[\"id\"]] = best_answers\n",
    "#         else:\n",
    "#             answer = best_answer[\"text\"] if best_answer[\"score\"] > min_null_score else \"\"\n",
    "#             predictions[example[\"id\"]] = answer\n",
    "\n",
    "    return predictions"
   ]
  },
  {
   "cell_type": "code",
   "execution_count": 32,
   "id": "d8f68f3f",
   "metadata": {
    "execution": {
     "iopub.execute_input": "2021-08-22T03:01:13.085914Z",
     "iopub.status.busy": "2021-08-22T03:01:13.074610Z",
     "iopub.status.idle": "2021-08-22T03:01:17.908431Z",
     "shell.execute_reply": "2021-08-22T03:01:17.909027Z",
     "shell.execute_reply.started": "2021-08-22T02:52:43.623673Z"
    },
    "papermill": {
     "duration": 4.873508,
     "end_time": "2021-08-22T03:01:17.909247",
     "exception": false,
     "start_time": "2021-08-22T03:01:13.035739",
     "status": "completed"
    },
    "tags": []
   },
   "outputs": [
    {
     "name": "stdout",
     "output_type": "stream",
     "text": [
      "Post-processing 64 example predictions split into 822 features.\n"
     ]
    },
    {
     "data": {
      "application/vnd.jupyter.widget-view+json": {
       "model_id": "dbbc30d0e75e4739bd789f1b9ac00777",
       "version_major": 2,
       "version_minor": 0
      },
      "text/plain": [
       "HBox(children=(FloatProgress(value=0.0, max=64.0), HTML(value='')))"
      ]
     },
     "metadata": {},
     "output_type": "display_data"
    },
    {
     "name": "stdout",
     "output_type": "stream",
     "text": [
      "\n"
     ]
    }
   ],
   "source": [
    "final_topn_predictions = postprocess_qa_predictions_topn(val_dataset, validation_features, raw_predictions.predictions,\n",
    "                                                   top=5)"
   ]
  },
  {
   "cell_type": "code",
   "execution_count": 33,
   "id": "c922dc32",
   "metadata": {
    "execution": {
     "iopub.execute_input": "2021-08-22T03:01:17.988513Z",
     "iopub.status.busy": "2021-08-22T03:01:17.987926Z",
     "iopub.status.idle": "2021-08-22T03:01:17.991365Z",
     "shell.execute_reply": "2021-08-22T03:01:17.991740Z",
     "shell.execute_reply.started": "2021-08-22T02:54:46.327119Z"
    },
    "papermill": {
     "duration": 0.045081,
     "end_time": "2021-08-22T03:01:17.991861",
     "exception": false,
     "start_time": "2021-08-22T03:01:17.946780",
     "status": "completed"
    },
    "tags": []
   },
   "outputs": [
    {
     "name": "stdout",
     "output_type": "stream",
     "text": [
      "64\n"
     ]
    }
   ],
   "source": [
    "topn_final_list = list(final_topn_predictions.values())\n",
    "print(len(topn_final_list))\n",
    "val['topn_PredictionString']=topn_final_list"
   ]
  },
  {
   "cell_type": "code",
   "execution_count": 34,
   "id": "ef31a8fb",
   "metadata": {
    "execution": {
     "iopub.execute_input": "2021-08-22T03:01:18.077435Z",
     "iopub.status.busy": "2021-08-22T03:01:18.076888Z",
     "iopub.status.idle": "2021-08-22T03:01:18.081515Z",
     "shell.execute_reply": "2021-08-22T03:01:18.081912Z",
     "shell.execute_reply.started": "2021-08-22T02:54:50.031385Z"
    },
    "papermill": {
     "duration": 0.054816,
     "end_time": "2021-08-22T03:01:18.082029",
     "exception": false,
     "start_time": "2021-08-22T03:01:18.027213",
     "status": "completed"
    },
    "tags": []
   },
   "outputs": [
    {
     "data": {
      "text/html": [
       "<div>\n",
       "<style scoped>\n",
       "    .dataframe tbody tr th:only-of-type {\n",
       "        vertical-align: middle;\n",
       "    }\n",
       "\n",
       "    .dataframe tbody tr th {\n",
       "        vertical-align: top;\n",
       "    }\n",
       "\n",
       "    .dataframe thead th {\n",
       "        text-align: right;\n",
       "    }\n",
       "</style>\n",
       "<table border=\"1\" class=\"dataframe\">\n",
       "  <thead>\n",
       "    <tr style=\"text-align: right;\">\n",
       "      <th></th>\n",
       "      <th>id</th>\n",
       "      <th>context</th>\n",
       "      <th>question</th>\n",
       "      <th>answer_text</th>\n",
       "      <th>answer_start</th>\n",
       "      <th>language</th>\n",
       "      <th>PredictionString</th>\n",
       "      <th>jaccard_score</th>\n",
       "      <th>topn_PredictionString</th>\n",
       "    </tr>\n",
       "  </thead>\n",
       "  <tbody>\n",
       "    <tr>\n",
       "      <th>1050</th>\n",
       "      <td>60b6c1051</td>\n",
       "      <td>मणिपाल उच्च शिक्षा अकादमी भारत का एक समविश्ववि...</td>\n",
       "      <td>मणिपाल विश्वविद्यालय कहाँ स्तिथ है?</td>\n",
       "      <td>मणिपाल</td>\n",
       "      <td>0</td>\n",
       "      <td>hindi</td>\n",
       "      <td>कर्नाटक के मणिपाल</td>\n",
       "      <td>0.333333</td>\n",
       "      <td>[ कर्नाटक के मणिपाल,  कर्नाटक,  कर्नाटक के मणि...</td>\n",
       "    </tr>\n",
       "    <tr>\n",
       "      <th>1051</th>\n",
       "      <td>932c30d34</td>\n",
       "      <td>प्रोटीन या प्रोभूजिन एक जटिल भूयाति युक्त कार्...</td>\n",
       "      <td>सरल प्रोटीन का गठन किसके द्वारा होता है?</td>\n",
       "      <td>अमीनो अम्ल द्वारा</td>\n",
       "      <td>511</td>\n",
       "      <td>hindi</td>\n",
       "      <td>अमीनो अम्ल</td>\n",
       "      <td>0.666667</td>\n",
       "      <td>[ अमीनो अम्ल,  केवल अमीनो अम्ल,  अमीनो अम्ल द्...</td>\n",
       "    </tr>\n",
       "    <tr>\n",
       "      <th>1052</th>\n",
       "      <td>78a4ff63f</td>\n",
       "      <td>गाम्बिया (आधिकारिक रूप से इस्लामी गणराज्य गाम्...</td>\n",
       "      <td>गाम्बिया' किस महाद्वीप में स्थित एक देश है?</td>\n",
       "      <td>अफ्रीकी</td>\n",
       "      <td>99</td>\n",
       "      <td>hindi</td>\n",
       "      <td>पश्चिमी अफ्रीका</td>\n",
       "      <td>0.000000</td>\n",
       "      <td>[ पश्चिमी अफ्रीका,  अफ्रीका,  पश्चिमी अफ्रीका ...</td>\n",
       "    </tr>\n",
       "    <tr>\n",
       "      <th>1053</th>\n",
       "      <td>01ae1bdd3</td>\n",
       "      <td>भारतीय विज्ञान की परंपरा विश्व की प्राचीनतम वै...</td>\n",
       "      <td>हरगोविंद खुराना, किस पेशे से सम्बंधित थे?</td>\n",
       "      <td>भारतीय वैज्ञानिक</td>\n",
       "      <td>1932</td>\n",
       "      <td>hindi</td>\n",
       "      <td>वैज्ञानिकों</td>\n",
       "      <td>0.000000</td>\n",
       "      <td>[ वैज्ञानिकों,  प्रमुख वैज्ञानिकों,  विज्ञान, ...</td>\n",
       "    </tr>\n",
       "    <tr>\n",
       "      <th>1054</th>\n",
       "      <td>1acb37c63</td>\n",
       "      <td>क़ुस्तुंतुनिया या कांस्टैंटिनोपुल (यूनानी: Κων...</td>\n",
       "      <td>कांस्टैंटिनोपुल की स्थापना किस वर्ष में हुई थी?</td>\n",
       "      <td>328 ई.</td>\n",
       "      <td>596</td>\n",
       "      <td>hindi</td>\n",
       "      <td>328 ई.</td>\n",
       "      <td>1.000000</td>\n",
       "      <td>[ 328 ई.,  328,  11 मई 330 ई.,  328 ई. में,  3...</td>\n",
       "    </tr>\n",
       "  </tbody>\n",
       "</table>\n",
       "</div>"
      ],
      "text/plain": [
       "             id                                            context  \\\n",
       "1050  60b6c1051  मणिपाल उच्च शिक्षा अकादमी भारत का एक समविश्ववि...   \n",
       "1051  932c30d34  प्रोटीन या प्रोभूजिन एक जटिल भूयाति युक्त कार्...   \n",
       "1052  78a4ff63f  गाम्बिया (आधिकारिक रूप से इस्लामी गणराज्य गाम्...   \n",
       "1053  01ae1bdd3  भारतीय विज्ञान की परंपरा विश्व की प्राचीनतम वै...   \n",
       "1054  1acb37c63  क़ुस्तुंतुनिया या कांस्टैंटिनोपुल (यूनानी: Κων...   \n",
       "\n",
       "                                             question        answer_text  \\\n",
       "1050              मणिपाल विश्वविद्यालय कहाँ स्तिथ है?             मणिपाल   \n",
       "1051         सरल प्रोटीन का गठन किसके द्वारा होता है?  अमीनो अम्ल द्वारा   \n",
       "1052      गाम्बिया' किस महाद्वीप में स्थित एक देश है?            अफ्रीकी   \n",
       "1053        हरगोविंद खुराना, किस पेशे से सम्बंधित थे?   भारतीय वैज्ञानिक   \n",
       "1054  कांस्टैंटिनोपुल की स्थापना किस वर्ष में हुई थी?             328 ई.   \n",
       "\n",
       "      answer_start language    PredictionString  jaccard_score  \\\n",
       "1050             0    hindi   कर्नाटक के मणिपाल       0.333333   \n",
       "1051           511    hindi          अमीनो अम्ल       0.666667   \n",
       "1052            99    hindi     पश्चिमी अफ्रीका       0.000000   \n",
       "1053          1932    hindi         वैज्ञानिकों       0.000000   \n",
       "1054           596    hindi              328 ई.       1.000000   \n",
       "\n",
       "                                  topn_PredictionString  \n",
       "1050  [ कर्नाटक के मणिपाल,  कर्नाटक,  कर्नाटक के मणि...  \n",
       "1051  [ अमीनो अम्ल,  केवल अमीनो अम्ल,  अमीनो अम्ल द्...  \n",
       "1052  [ पश्चिमी अफ्रीका,  अफ्रीका,  पश्चिमी अफ्रीका ...  \n",
       "1053  [ वैज्ञानिकों,  प्रमुख वैज्ञानिकों,  विज्ञान, ...  \n",
       "1054  [ 328 ई.,  328,  11 मई 330 ई.,  328 ई. में,  3...  "
      ]
     },
     "execution_count": 34,
     "metadata": {},
     "output_type": "execute_result"
    }
   ],
   "source": [
    "val.head()"
   ]
  },
  {
   "cell_type": "code",
   "execution_count": 35,
   "id": "b41b67a9",
   "metadata": {
    "execution": {
     "iopub.execute_input": "2021-08-22T03:01:18.160742Z",
     "iopub.status.busy": "2021-08-22T03:01:18.159873Z",
     "iopub.status.idle": "2021-08-22T03:01:18.163155Z",
     "shell.execute_reply": "2021-08-22T03:01:18.163590Z",
     "shell.execute_reply.started": "2021-08-22T02:56:47.317532Z"
    },
    "papermill": {
     "duration": 0.044437,
     "end_time": "2021-08-22T03:01:18.163710",
     "exception": false,
     "start_time": "2021-08-22T03:01:18.119273",
     "status": "completed"
    },
    "tags": []
   },
   "outputs": [],
   "source": [
    "def topn_jaccard(row): \n",
    "    strs = row['topn_PredictionString']\n",
    "    str2 = row['answer_text']\n",
    "    mx_score=0.0\n",
    "    for str1 in strs:\n",
    "        a = set(str1.lower().split()) \n",
    "        b = set(str2.lower().split())\n",
    "        c = a.intersection(b)\n",
    "        mx_score = max(float(len(c)) / (len(a) + len(b) - len(c)),mx_score)\n",
    "    return mx_score"
   ]
  },
  {
   "cell_type": "code",
   "execution_count": 36,
   "id": "a72825b1",
   "metadata": {
    "execution": {
     "iopub.execute_input": "2021-08-22T03:01:18.258663Z",
     "iopub.status.busy": "2021-08-22T03:01:18.257753Z",
     "iopub.status.idle": "2021-08-22T03:01:18.261442Z",
     "shell.execute_reply": "2021-08-22T03:01:18.261846Z",
     "shell.execute_reply.started": "2021-08-22T02:58:45.659837Z"
    },
    "papermill": {
     "duration": 0.06187,
     "end_time": "2021-08-22T03:01:18.261961",
     "exception": false,
     "start_time": "2021-08-22T03:01:18.200091",
     "status": "completed"
    },
    "tags": []
   },
   "outputs": [
    {
     "data": {
      "text/html": [
       "<div>\n",
       "<style scoped>\n",
       "    .dataframe tbody tr th:only-of-type {\n",
       "        vertical-align: middle;\n",
       "    }\n",
       "\n",
       "    .dataframe tbody tr th {\n",
       "        vertical-align: top;\n",
       "    }\n",
       "\n",
       "    .dataframe thead th {\n",
       "        text-align: right;\n",
       "    }\n",
       "</style>\n",
       "<table border=\"1\" class=\"dataframe\">\n",
       "  <thead>\n",
       "    <tr style=\"text-align: right;\">\n",
       "      <th></th>\n",
       "      <th>id</th>\n",
       "      <th>context</th>\n",
       "      <th>question</th>\n",
       "      <th>answer_text</th>\n",
       "      <th>answer_start</th>\n",
       "      <th>language</th>\n",
       "      <th>PredictionString</th>\n",
       "      <th>jaccard_score</th>\n",
       "      <th>topn_PredictionString</th>\n",
       "      <th>topn_jaccard_score</th>\n",
       "    </tr>\n",
       "  </thead>\n",
       "  <tbody>\n",
       "    <tr>\n",
       "      <th>1050</th>\n",
       "      <td>60b6c1051</td>\n",
       "      <td>मणिपाल उच्च शिक्षा अकादमी भारत का एक समविश्ववि...</td>\n",
       "      <td>मणिपाल विश्वविद्यालय कहाँ स्तिथ है?</td>\n",
       "      <td>मणिपाल</td>\n",
       "      <td>0</td>\n",
       "      <td>hindi</td>\n",
       "      <td>कर्नाटक के मणिपाल</td>\n",
       "      <td>0.333333</td>\n",
       "      <td>[ कर्नाटक के मणिपाल,  कर्नाटक,  कर्नाटक के मणि...</td>\n",
       "      <td>0.333333</td>\n",
       "    </tr>\n",
       "    <tr>\n",
       "      <th>1051</th>\n",
       "      <td>932c30d34</td>\n",
       "      <td>प्रोटीन या प्रोभूजिन एक जटिल भूयाति युक्त कार्...</td>\n",
       "      <td>सरल प्रोटीन का गठन किसके द्वारा होता है?</td>\n",
       "      <td>अमीनो अम्ल द्वारा</td>\n",
       "      <td>511</td>\n",
       "      <td>hindi</td>\n",
       "      <td>अमीनो अम्ल</td>\n",
       "      <td>0.666667</td>\n",
       "      <td>[ अमीनो अम्ल,  केवल अमीनो अम्ल,  अमीनो अम्ल द्...</td>\n",
       "      <td>1.000000</td>\n",
       "    </tr>\n",
       "    <tr>\n",
       "      <th>1052</th>\n",
       "      <td>78a4ff63f</td>\n",
       "      <td>गाम्बिया (आधिकारिक रूप से इस्लामी गणराज्य गाम्...</td>\n",
       "      <td>गाम्बिया' किस महाद्वीप में स्थित एक देश है?</td>\n",
       "      <td>अफ्रीकी</td>\n",
       "      <td>99</td>\n",
       "      <td>hindi</td>\n",
       "      <td>पश्चिमी अफ्रीका</td>\n",
       "      <td>0.000000</td>\n",
       "      <td>[ पश्चिमी अफ्रीका,  अफ्रीका,  पश्चिमी अफ्रीका ...</td>\n",
       "      <td>0.000000</td>\n",
       "    </tr>\n",
       "    <tr>\n",
       "      <th>1053</th>\n",
       "      <td>01ae1bdd3</td>\n",
       "      <td>भारतीय विज्ञान की परंपरा विश्व की प्राचीनतम वै...</td>\n",
       "      <td>हरगोविंद खुराना, किस पेशे से सम्बंधित थे?</td>\n",
       "      <td>भारतीय वैज्ञानिक</td>\n",
       "      <td>1932</td>\n",
       "      <td>hindi</td>\n",
       "      <td>वैज्ञानिकों</td>\n",
       "      <td>0.000000</td>\n",
       "      <td>[ वैज्ञानिकों,  प्रमुख वैज्ञानिकों,  विज्ञान, ...</td>\n",
       "      <td>0.500000</td>\n",
       "    </tr>\n",
       "    <tr>\n",
       "      <th>1054</th>\n",
       "      <td>1acb37c63</td>\n",
       "      <td>क़ुस्तुंतुनिया या कांस्टैंटिनोपुल (यूनानी: Κων...</td>\n",
       "      <td>कांस्टैंटिनोपुल की स्थापना किस वर्ष में हुई थी?</td>\n",
       "      <td>328 ई.</td>\n",
       "      <td>596</td>\n",
       "      <td>hindi</td>\n",
       "      <td>328 ई.</td>\n",
       "      <td>1.000000</td>\n",
       "      <td>[ 328 ई.,  328,  11 मई 330 ई.,  328 ई. में,  3...</td>\n",
       "      <td>1.000000</td>\n",
       "    </tr>\n",
       "    <tr>\n",
       "      <th>1055</th>\n",
       "      <td>6ee60fcfb</td>\n",
       "      <td>गांजा (Cannabis या marijuana), एक मादक पदार्थ ...</td>\n",
       "      <td>'गांजा'' व्यसन को अंग्रेज़ी में क्या कहा जाता है?</td>\n",
       "      <td>Cannabis या marijuana</td>\n",
       "      <td>7</td>\n",
       "      <td>hindi</td>\n",
       "      <td>marijuana</td>\n",
       "      <td>0.333333</td>\n",
       "      <td>[ marijuana, Cannabis या marijuana, Cannabis, ...</td>\n",
       "      <td>1.000000</td>\n",
       "    </tr>\n",
       "    <tr>\n",
       "      <th>1056</th>\n",
       "      <td>49accd67e</td>\n",
       "      <td>कुसुम (Carthamus tinctorius एल) एक अत्यधिक bra...</td>\n",
       "      <td>कुसुम पौधें का वैज्ञानिक नाम क्या है?</td>\n",
       "      <td>Carthamus tinctorius एल</td>\n",
       "      <td>7</td>\n",
       "      <td>hindi</td>\n",
       "      <td>Carthamus tinctorius एल</td>\n",
       "      <td>1.000000</td>\n",
       "      <td>[Carthamus tinctorius एल,  एल, Carthamus tinct...</td>\n",
       "      <td>1.000000</td>\n",
       "    </tr>\n",
       "    <tr>\n",
       "      <th>1057</th>\n",
       "      <td>3f3c2c4c5</td>\n",
       "      <td>बिल्ली के कुल (विडाल) में आने वाला चीता (एसीनो...</td>\n",
       "      <td>चीता का वैज्ञानिक नाम क्या है?</td>\n",
       "      <td>एसीनोनिक्स जुबेटस</td>\n",
       "      <td>41</td>\n",
       "      <td>hindi</td>\n",
       "      <td>एसीनोनिक्स जुबेटस</td>\n",
       "      <td>1.000000</td>\n",
       "      <td>[एसीनोनिक्स जुबेटस,  जुबेटस, एसीनोनिक्स जुबेटस...</td>\n",
       "      <td>1.000000</td>\n",
       "    </tr>\n",
       "    <tr>\n",
       "      <th>1058</th>\n",
       "      <td>ebe48c5e6</td>\n",
       "      <td>इन्फोसिस लिमिटेड (BSE:, Nasdaq:) एक बहुराष्ट्र...</td>\n",
       "      <td>इंफोसिस लिमिटेड की स्थापना किस वर्ष में हुई थी?</td>\n",
       "      <td>२ जुलाई, १९८१</td>\n",
       "      <td>475</td>\n",
       "      <td>hindi</td>\n",
       "      <td>२ जुलाई, १९८१</td>\n",
       "      <td>1.000000</td>\n",
       "      <td>[ २ जुलाई, १९८१, \\n1981, ८१,  १९८१,  जुलाई, १९८१]</td>\n",
       "      <td>1.000000</td>\n",
       "    </tr>\n",
       "    <tr>\n",
       "      <th>1059</th>\n",
       "      <td>9cf59a35c</td>\n",
       "      <td>एशियन पेंट्स लिमिटेड एक भारतीय बहुराष्ट्रीय कम...</td>\n",
       "      <td>एशियन पेंट्स कंपनी की स्थापना कब हुई?</td>\n",
       "      <td>फरवरी १९४२</td>\n",
       "      <td>521</td>\n",
       "      <td>hindi</td>\n",
       "      <td>\\nफरवरी १९४२</td>\n",
       "      <td>1.000000</td>\n",
       "      <td>[\\nफरवरी १९४२, ४२,  १९४२, \\nफरवरी,  इतिहास \\nफ...</td>\n",
       "      <td>1.000000</td>\n",
       "    </tr>\n",
       "  </tbody>\n",
       "</table>\n",
       "</div>"
      ],
      "text/plain": [
       "             id                                            context  \\\n",
       "1050  60b6c1051  मणिपाल उच्च शिक्षा अकादमी भारत का एक समविश्ववि...   \n",
       "1051  932c30d34  प्रोटीन या प्रोभूजिन एक जटिल भूयाति युक्त कार्...   \n",
       "1052  78a4ff63f  गाम्बिया (आधिकारिक रूप से इस्लामी गणराज्य गाम्...   \n",
       "1053  01ae1bdd3  भारतीय विज्ञान की परंपरा विश्व की प्राचीनतम वै...   \n",
       "1054  1acb37c63  क़ुस्तुंतुनिया या कांस्टैंटिनोपुल (यूनानी: Κων...   \n",
       "1055  6ee60fcfb  गांजा (Cannabis या marijuana), एक मादक पदार्थ ...   \n",
       "1056  49accd67e  कुसुम (Carthamus tinctorius एल) एक अत्यधिक bra...   \n",
       "1057  3f3c2c4c5  बिल्ली के कुल (विडाल) में आने वाला चीता (एसीनो...   \n",
       "1058  ebe48c5e6  इन्फोसिस लिमिटेड (BSE:, Nasdaq:) एक बहुराष्ट्र...   \n",
       "1059  9cf59a35c  एशियन पेंट्स लिमिटेड एक भारतीय बहुराष्ट्रीय कम...   \n",
       "\n",
       "                                              question  \\\n",
       "1050               मणिपाल विश्वविद्यालय कहाँ स्तिथ है?   \n",
       "1051          सरल प्रोटीन का गठन किसके द्वारा होता है?   \n",
       "1052       गाम्बिया' किस महाद्वीप में स्थित एक देश है?   \n",
       "1053         हरगोविंद खुराना, किस पेशे से सम्बंधित थे?   \n",
       "1054   कांस्टैंटिनोपुल की स्थापना किस वर्ष में हुई थी?   \n",
       "1055  'गांजा'' व्यसन को अंग्रेज़ी में क्या कहा जाता है?   \n",
       "1056             कुसुम पौधें का वैज्ञानिक नाम क्या है?   \n",
       "1057                    चीता का वैज्ञानिक नाम क्या है?   \n",
       "1058   इंफोसिस लिमिटेड की स्थापना किस वर्ष में हुई थी?   \n",
       "1059             एशियन पेंट्स कंपनी की स्थापना कब हुई?   \n",
       "\n",
       "                  answer_text  answer_start language         PredictionString  \\\n",
       "1050                   मणिपाल             0    hindi        कर्नाटक के मणिपाल   \n",
       "1051        अमीनो अम्ल द्वारा           511    hindi               अमीनो अम्ल   \n",
       "1052                  अफ्रीकी            99    hindi          पश्चिमी अफ्रीका   \n",
       "1053         भारतीय वैज्ञानिक          1932    hindi              वैज्ञानिकों   \n",
       "1054                   328 ई.           596    hindi                   328 ई.   \n",
       "1055    Cannabis या marijuana             7    hindi                marijuana   \n",
       "1056  Carthamus tinctorius एल             7    hindi  Carthamus tinctorius एल   \n",
       "1057        एसीनोनिक्स जुबेटस            41    hindi        एसीनोनिक्स जुबेटस   \n",
       "1058            २ जुलाई, १९८१           475    hindi            २ जुलाई, १९८१   \n",
       "1059               फरवरी १९४२           521    hindi             \\nफरवरी १९४२   \n",
       "\n",
       "      jaccard_score                              topn_PredictionString  \\\n",
       "1050       0.333333  [ कर्नाटक के मणिपाल,  कर्नाटक,  कर्नाटक के मणि...   \n",
       "1051       0.666667  [ अमीनो अम्ल,  केवल अमीनो अम्ल,  अमीनो अम्ल द्...   \n",
       "1052       0.000000  [ पश्चिमी अफ्रीका,  अफ्रीका,  पश्चिमी अफ्रीका ...   \n",
       "1053       0.000000  [ वैज्ञानिकों,  प्रमुख वैज्ञानिकों,  विज्ञान, ...   \n",
       "1054       1.000000  [ 328 ई.,  328,  11 मई 330 ई.,  328 ई. में,  3...   \n",
       "1055       0.333333  [ marijuana, Cannabis या marijuana, Cannabis, ...   \n",
       "1056       1.000000  [Carthamus tinctorius एल,  एल, Carthamus tinct...   \n",
       "1057       1.000000  [एसीनोनिक्स जुबेटस,  जुबेटस, एसीनोनिक्स जुबेटस...   \n",
       "1058       1.000000  [ २ जुलाई, १९८१, \\n1981, ८१,  १९८१,  जुलाई, १९८१]   \n",
       "1059       1.000000  [\\nफरवरी १९४२, ४२,  १९४२, \\nफरवरी,  इतिहास \\nफ...   \n",
       "\n",
       "      topn_jaccard_score  \n",
       "1050            0.333333  \n",
       "1051            1.000000  \n",
       "1052            0.000000  \n",
       "1053            0.500000  \n",
       "1054            1.000000  \n",
       "1055            1.000000  \n",
       "1056            1.000000  \n",
       "1057            1.000000  \n",
       "1058            1.000000  \n",
       "1059            1.000000  "
      ]
     },
     "execution_count": 36,
     "metadata": {},
     "output_type": "execute_result"
    }
   ],
   "source": [
    "val['topn_jaccard_score']=val.apply(topn_jaccard,axis=1)\n",
    "val.head(n=10)"
   ]
  },
  {
   "cell_type": "code",
   "execution_count": 37,
   "id": "5a353ba5",
   "metadata": {
    "execution": {
     "iopub.execute_input": "2021-08-22T03:01:18.339993Z",
     "iopub.status.busy": "2021-08-22T03:01:18.339335Z",
     "iopub.status.idle": "2021-08-22T03:01:18.342738Z",
     "shell.execute_reply": "2021-08-22T03:01:18.342305Z",
     "shell.execute_reply.started": "2021-08-22T02:58:03.799464Z"
    },
    "papermill": {
     "duration": 0.043989,
     "end_time": "2021-08-22T03:01:18.342835",
     "exception": false,
     "start_time": "2021-08-22T03:01:18.298846",
     "status": "completed"
    },
    "tags": []
   },
   "outputs": [
    {
     "data": {
      "text/plain": [
       "0.8895833333333334"
      ]
     },
     "execution_count": 37,
     "metadata": {},
     "output_type": "execute_result"
    }
   ],
   "source": [
    "val['topn_jaccard_score'].mean()"
   ]
  },
  {
   "cell_type": "code",
   "execution_count": 38,
   "id": "fa3485cd",
   "metadata": {
    "execution": {
     "iopub.execute_input": "2021-08-22T03:01:18.421467Z",
     "iopub.status.busy": "2021-08-22T03:01:18.420721Z",
     "iopub.status.idle": "2021-08-22T03:01:18.454188Z",
     "shell.execute_reply": "2021-08-22T03:01:18.453788Z",
     "shell.execute_reply.started": "2021-08-22T02:59:12.515885Z"
    },
    "papermill": {
     "duration": 0.074184,
     "end_time": "2021-08-22T03:01:18.454292",
     "exception": false,
     "start_time": "2021-08-22T03:01:18.380108",
     "status": "completed"
    },
    "tags": []
   },
   "outputs": [],
   "source": [
    "val.to_csv('topn_jaccard_score.csv',index=False)"
   ]
  },
  {
   "cell_type": "code",
   "execution_count": null,
   "id": "f4a3e270",
   "metadata": {
    "papermill": {
     "duration": 0.036968,
     "end_time": "2021-08-22T03:01:18.528262",
     "exception": false,
     "start_time": "2021-08-22T03:01:18.491294",
     "status": "completed"
    },
    "tags": []
   },
   "outputs": [],
   "source": []
  }
 ],
 "metadata": {
  "kernelspec": {
   "display_name": "Python 3",
   "language": "python",
   "name": "python3"
  },
  "language_info": {
   "codemirror_mode": {
    "name": "ipython",
    "version": 3
   },
   "file_extension": ".py",
   "mimetype": "text/x-python",
   "name": "python",
   "nbconvert_exporter": "python",
   "pygments_lexer": "ipython3",
   "version": "3.7.10"
  },
  "papermill": {
   "default_parameters": {},
   "duration": 114.690127,
   "end_time": "2021-08-22T03:01:20.970683",
   "environment_variables": {},
   "exception": null,
   "input_path": "__notebook__.ipynb",
   "output_path": "__notebook__.ipynb",
   "parameters": {},
   "start_time": "2021-08-22T02:59:26.280556",
   "version": "2.3.3"
  },
  "widgets": {
   "application/vnd.jupyter.widget-state+json": {
    "state": {
     "075b266381e947929977cc1f0f29e756": {
      "model_module": "@jupyter-widgets/controls",
      "model_module_version": "1.5.0",
      "model_name": "FloatProgressModel",
      "state": {
       "_dom_classes": [],
       "_model_module": "@jupyter-widgets/controls",
       "_model_module_version": "1.5.0",
       "_model_name": "FloatProgressModel",
       "_view_count": null,
       "_view_module": "@jupyter-widgets/controls",
       "_view_module_version": "1.5.0",
       "_view_name": "ProgressView",
       "bar_style": "success",
       "description": "",
       "description_tooltip": null,
       "layout": "IPY_MODEL_fe4d8cdcbaf74525bf0b9edad6918647",
       "max": 64.0,
       "min": 0.0,
       "orientation": "horizontal",
       "style": "IPY_MODEL_768e23e6ccc044f3a8ef2627c6836ef3",
       "value": 64.0
      }
     },
     "0993e7752e1d47dbba928006e3705787": {
      "model_module": "@jupyter-widgets/base",
      "model_module_version": "1.2.0",
      "model_name": "LayoutModel",
      "state": {
       "_model_module": "@jupyter-widgets/base",
       "_model_module_version": "1.2.0",
       "_model_name": "LayoutModel",
       "_view_count": null,
       "_view_module": "@jupyter-widgets/base",
       "_view_module_version": "1.2.0",
       "_view_name": "LayoutView",
       "align_content": null,
       "align_items": null,
       "align_self": null,
       "border": null,
       "bottom": null,
       "display": null,
       "flex": null,
       "flex_flow": null,
       "grid_area": null,
       "grid_auto_columns": null,
       "grid_auto_flow": null,
       "grid_auto_rows": null,
       "grid_column": null,
       "grid_gap": null,
       "grid_row": null,
       "grid_template_areas": null,
       "grid_template_columns": null,
       "grid_template_rows": null,
       "height": null,
       "justify_content": null,
       "justify_items": null,
       "left": null,
       "margin": null,
       "max_height": null,
       "max_width": null,
       "min_height": null,
       "min_width": null,
       "object_fit": null,
       "object_position": null,
       "order": null,
       "overflow": null,
       "overflow_x": null,
       "overflow_y": null,
       "padding": null,
       "right": null,
       "top": null,
       "visibility": null,
       "width": null
      }
     },
     "10610b2dcf99467abdbd63734b521e56": {
      "model_module": "@jupyter-widgets/controls",
      "model_module_version": "1.5.0",
      "model_name": "ProgressStyleModel",
      "state": {
       "_model_module": "@jupyter-widgets/controls",
       "_model_module_version": "1.5.0",
       "_model_name": "ProgressStyleModel",
       "_view_count": null,
       "_view_module": "@jupyter-widgets/base",
       "_view_module_version": "1.2.0",
       "_view_name": "StyleView",
       "bar_color": null,
       "description_width": "initial"
      }
     },
     "11b18e2c68204bef88eed6a6195485f1": {
      "model_module": "@jupyter-widgets/controls",
      "model_module_version": "1.5.0",
      "model_name": "FloatProgressModel",
      "state": {
       "_dom_classes": [],
       "_model_module": "@jupyter-widgets/controls",
       "_model_module_version": "1.5.0",
       "_model_name": "FloatProgressModel",
       "_view_count": null,
       "_view_module": "@jupyter-widgets/controls",
       "_view_module_version": "1.5.0",
       "_view_name": "ProgressView",
       "bar_style": "success",
       "description": "",
       "description_tooltip": null,
       "layout": "IPY_MODEL_cc8fc72017a64f67bbb89e39389d1d1d",
       "max": 64.0,
       "min": 0.0,
       "orientation": "horizontal",
       "style": "IPY_MODEL_10610b2dcf99467abdbd63734b521e56",
       "value": 64.0
      }
     },
     "1cc70149f4c84542baa46a15a5b06663": {
      "model_module": "@jupyter-widgets/controls",
      "model_module_version": "1.5.0",
      "model_name": "HTMLModel",
      "state": {
       "_dom_classes": [],
       "_model_module": "@jupyter-widgets/controls",
       "_model_module_version": "1.5.0",
       "_model_name": "HTMLModel",
       "_view_count": null,
       "_view_module": "@jupyter-widgets/controls",
       "_view_module_version": "1.5.0",
       "_view_name": "HTMLView",
       "description": "",
       "description_tooltip": null,
       "layout": "IPY_MODEL_6d4cf374f42546fca186dcf0218d5465",
       "placeholder": "​",
       "style": "IPY_MODEL_c9c878743bdf40fd9ced3f1e21d6f22b",
       "value": "&lt;tqdm.auto.tqdm object at 0x7f4ba70402d0&gt;"
      }
     },
     "2875fd22fce54555ac0530cf45aa588a": {
      "model_module": "@jupyter-widgets/controls",
      "model_module_version": "1.5.0",
      "model_name": "DescriptionStyleModel",
      "state": {
       "_model_module": "@jupyter-widgets/controls",
       "_model_module_version": "1.5.0",
       "_model_name": "DescriptionStyleModel",
       "_view_count": null,
       "_view_module": "@jupyter-widgets/base",
       "_view_module_version": "1.2.0",
       "_view_name": "StyleView",
       "description_width": ""
      }
     },
     "2d94702a2b5b42db91173c9e09e6d8c2": {
      "model_module": "@jupyter-widgets/controls",
      "model_module_version": "1.5.0",
      "model_name": "FloatProgressModel",
      "state": {
       "_dom_classes": [],
       "_model_module": "@jupyter-widgets/controls",
       "_model_module_version": "1.5.0",
       "_model_name": "FloatProgressModel",
       "_view_count": null,
       "_view_module": "@jupyter-widgets/controls",
       "_view_module_version": "1.5.0",
       "_view_name": "ProgressView",
       "bar_style": "success",
       "description": "",
       "description_tooltip": null,
       "layout": "IPY_MODEL_e697ae5df76542f9b6b3ee2444e321f6",
       "max": 1.0,
       "min": 0.0,
       "orientation": "horizontal",
       "style": "IPY_MODEL_87ae891f7d454bdcb427a086d37be3ef",
       "value": 1.0
      }
     },
     "45c712729cd14d9d87dc2a996efa31ed": {
      "model_module": "@jupyter-widgets/controls",
      "model_module_version": "1.5.0",
      "model_name": "HBoxModel",
      "state": {
       "_dom_classes": [],
       "_model_module": "@jupyter-widgets/controls",
       "_model_module_version": "1.5.0",
       "_model_name": "HBoxModel",
       "_view_count": null,
       "_view_module": "@jupyter-widgets/controls",
       "_view_module_version": "1.5.0",
       "_view_name": "HBoxView",
       "box_style": "",
       "children": [
        "IPY_MODEL_2d94702a2b5b42db91173c9e09e6d8c2",
        "IPY_MODEL_8c76815a23284d12afefef666750ea71"
       ],
       "layout": "IPY_MODEL_0993e7752e1d47dbba928006e3705787"
      }
     },
     "691ed15969b84d8084e597e556a6bffa": {
      "model_module": "@jupyter-widgets/base",
      "model_module_version": "1.2.0",
      "model_name": "LayoutModel",
      "state": {
       "_model_module": "@jupyter-widgets/base",
       "_model_module_version": "1.2.0",
       "_model_name": "LayoutModel",
       "_view_count": null,
       "_view_module": "@jupyter-widgets/base",
       "_view_module_version": "1.2.0",
       "_view_name": "LayoutView",
       "align_content": null,
       "align_items": null,
       "align_self": null,
       "border": null,
       "bottom": null,
       "display": null,
       "flex": null,
       "flex_flow": null,
       "grid_area": null,
       "grid_auto_columns": null,
       "grid_auto_flow": null,
       "grid_auto_rows": null,
       "grid_column": null,
       "grid_gap": null,
       "grid_row": null,
       "grid_template_areas": null,
       "grid_template_columns": null,
       "grid_template_rows": null,
       "height": null,
       "justify_content": null,
       "justify_items": null,
       "left": null,
       "margin": null,
       "max_height": null,
       "max_width": null,
       "min_height": null,
       "min_width": null,
       "object_fit": null,
       "object_position": null,
       "order": null,
       "overflow": null,
       "overflow_x": null,
       "overflow_y": null,
       "padding": null,
       "right": null,
       "top": null,
       "visibility": null,
       "width": null
      }
     },
     "6d4cf374f42546fca186dcf0218d5465": {
      "model_module": "@jupyter-widgets/base",
      "model_module_version": "1.2.0",
      "model_name": "LayoutModel",
      "state": {
       "_model_module": "@jupyter-widgets/base",
       "_model_module_version": "1.2.0",
       "_model_name": "LayoutModel",
       "_view_count": null,
       "_view_module": "@jupyter-widgets/base",
       "_view_module_version": "1.2.0",
       "_view_name": "LayoutView",
       "align_content": null,
       "align_items": null,
       "align_self": null,
       "border": null,
       "bottom": null,
       "display": null,
       "flex": null,
       "flex_flow": null,
       "grid_area": null,
       "grid_auto_columns": null,
       "grid_auto_flow": null,
       "grid_auto_rows": null,
       "grid_column": null,
       "grid_gap": null,
       "grid_row": null,
       "grid_template_areas": null,
       "grid_template_columns": null,
       "grid_template_rows": null,
       "height": null,
       "justify_content": null,
       "justify_items": null,
       "left": null,
       "margin": null,
       "max_height": null,
       "max_width": null,
       "min_height": null,
       "min_width": null,
       "object_fit": null,
       "object_position": null,
       "order": null,
       "overflow": null,
       "overflow_x": null,
       "overflow_y": null,
       "padding": null,
       "right": null,
       "top": null,
       "visibility": null,
       "width": null
      }
     },
     "768e23e6ccc044f3a8ef2627c6836ef3": {
      "model_module": "@jupyter-widgets/controls",
      "model_module_version": "1.5.0",
      "model_name": "ProgressStyleModel",
      "state": {
       "_model_module": "@jupyter-widgets/controls",
       "_model_module_version": "1.5.0",
       "_model_name": "ProgressStyleModel",
       "_view_count": null,
       "_view_module": "@jupyter-widgets/base",
       "_view_module_version": "1.2.0",
       "_view_name": "StyleView",
       "bar_color": null,
       "description_width": "initial"
      }
     },
     "87ae891f7d454bdcb427a086d37be3ef": {
      "model_module": "@jupyter-widgets/controls",
      "model_module_version": "1.5.0",
      "model_name": "ProgressStyleModel",
      "state": {
       "_model_module": "@jupyter-widgets/controls",
       "_model_module_version": "1.5.0",
       "_model_name": "ProgressStyleModel",
       "_view_count": null,
       "_view_module": "@jupyter-widgets/base",
       "_view_module_version": "1.2.0",
       "_view_name": "StyleView",
       "bar_color": null,
       "description_width": "initial"
      }
     },
     "8a2b55a721e9439895e555e4122daf4e": {
      "model_module": "@jupyter-widgets/controls",
      "model_module_version": "1.5.0",
      "model_name": "HBoxModel",
      "state": {
       "_dom_classes": [],
       "_model_module": "@jupyter-widgets/controls",
       "_model_module_version": "1.5.0",
       "_model_name": "HBoxModel",
       "_view_count": null,
       "_view_module": "@jupyter-widgets/controls",
       "_view_module_version": "1.5.0",
       "_view_name": "HBoxView",
       "box_style": "",
       "children": [
        "IPY_MODEL_075b266381e947929977cc1f0f29e756",
        "IPY_MODEL_1cc70149f4c84542baa46a15a5b06663"
       ],
       "layout": "IPY_MODEL_691ed15969b84d8084e597e556a6bffa"
      }
     },
     "8c76815a23284d12afefef666750ea71": {
      "model_module": "@jupyter-widgets/controls",
      "model_module_version": "1.5.0",
      "model_name": "HTMLModel",
      "state": {
       "_dom_classes": [],
       "_model_module": "@jupyter-widgets/controls",
       "_model_module_version": "1.5.0",
       "_model_name": "HTMLModel",
       "_view_count": null,
       "_view_module": "@jupyter-widgets/controls",
       "_view_module_version": "1.5.0",
       "_view_name": "HTMLView",
       "description": "",
       "description_tooltip": null,
       "layout": "IPY_MODEL_bf8603a9c062426e82fd16c7cda1e167",
       "placeholder": "​",
       "style": "IPY_MODEL_ed5681f9e7874065acd786d2e365398a",
       "value": "&lt;tqdm.auto.tqdm object at 0x7f4ba70400d0&gt;"
      }
     },
     "aa47b46bbca74e98aaaf5dc51d01f73a": {
      "model_module": "@jupyter-widgets/base",
      "model_module_version": "1.2.0",
      "model_name": "LayoutModel",
      "state": {
       "_model_module": "@jupyter-widgets/base",
       "_model_module_version": "1.2.0",
       "_model_name": "LayoutModel",
       "_view_count": null,
       "_view_module": "@jupyter-widgets/base",
       "_view_module_version": "1.2.0",
       "_view_name": "LayoutView",
       "align_content": null,
       "align_items": null,
       "align_self": null,
       "border": null,
       "bottom": null,
       "display": null,
       "flex": null,
       "flex_flow": null,
       "grid_area": null,
       "grid_auto_columns": null,
       "grid_auto_flow": null,
       "grid_auto_rows": null,
       "grid_column": null,
       "grid_gap": null,
       "grid_row": null,
       "grid_template_areas": null,
       "grid_template_columns": null,
       "grid_template_rows": null,
       "height": null,
       "justify_content": null,
       "justify_items": null,
       "left": null,
       "margin": null,
       "max_height": null,
       "max_width": null,
       "min_height": null,
       "min_width": null,
       "object_fit": null,
       "object_position": null,
       "order": null,
       "overflow": null,
       "overflow_x": null,
       "overflow_y": null,
       "padding": null,
       "right": null,
       "top": null,
       "visibility": null,
       "width": null
      }
     },
     "beddf5c84c7e4873a5325c0aa5821867": {
      "model_module": "@jupyter-widgets/controls",
      "model_module_version": "1.5.0",
      "model_name": "HTMLModel",
      "state": {
       "_dom_classes": [],
       "_model_module": "@jupyter-widgets/controls",
       "_model_module_version": "1.5.0",
       "_model_name": "HTMLModel",
       "_view_count": null,
       "_view_module": "@jupyter-widgets/controls",
       "_view_module_version": "1.5.0",
       "_view_name": "HTMLView",
       "description": "",
       "description_tooltip": null,
       "layout": "IPY_MODEL_cfa14714fc964f22b2701cfdbd4cd577",
       "placeholder": "​",
       "style": "IPY_MODEL_2875fd22fce54555ac0530cf45aa588a",
       "value": "&lt;tqdm.auto.tqdm object at 0x7f4ba70400d0&gt;"
      }
     },
     "bf8603a9c062426e82fd16c7cda1e167": {
      "model_module": "@jupyter-widgets/base",
      "model_module_version": "1.2.0",
      "model_name": "LayoutModel",
      "state": {
       "_model_module": "@jupyter-widgets/base",
       "_model_module_version": "1.2.0",
       "_model_name": "LayoutModel",
       "_view_count": null,
       "_view_module": "@jupyter-widgets/base",
       "_view_module_version": "1.2.0",
       "_view_name": "LayoutView",
       "align_content": null,
       "align_items": null,
       "align_self": null,
       "border": null,
       "bottom": null,
       "display": null,
       "flex": null,
       "flex_flow": null,
       "grid_area": null,
       "grid_auto_columns": null,
       "grid_auto_flow": null,
       "grid_auto_rows": null,
       "grid_column": null,
       "grid_gap": null,
       "grid_row": null,
       "grid_template_areas": null,
       "grid_template_columns": null,
       "grid_template_rows": null,
       "height": null,
       "justify_content": null,
       "justify_items": null,
       "left": null,
       "margin": null,
       "max_height": null,
       "max_width": null,
       "min_height": null,
       "min_width": null,
       "object_fit": null,
       "object_position": null,
       "order": null,
       "overflow": null,
       "overflow_x": null,
       "overflow_y": null,
       "padding": null,
       "right": null,
       "top": null,
       "visibility": null,
       "width": null
      }
     },
     "c9c878743bdf40fd9ced3f1e21d6f22b": {
      "model_module": "@jupyter-widgets/controls",
      "model_module_version": "1.5.0",
      "model_name": "DescriptionStyleModel",
      "state": {
       "_model_module": "@jupyter-widgets/controls",
       "_model_module_version": "1.5.0",
       "_model_name": "DescriptionStyleModel",
       "_view_count": null,
       "_view_module": "@jupyter-widgets/base",
       "_view_module_version": "1.2.0",
       "_view_name": "StyleView",
       "description_width": ""
      }
     },
     "cc8fc72017a64f67bbb89e39389d1d1d": {
      "model_module": "@jupyter-widgets/base",
      "model_module_version": "1.2.0",
      "model_name": "LayoutModel",
      "state": {
       "_model_module": "@jupyter-widgets/base",
       "_model_module_version": "1.2.0",
       "_model_name": "LayoutModel",
       "_view_count": null,
       "_view_module": "@jupyter-widgets/base",
       "_view_module_version": "1.2.0",
       "_view_name": "LayoutView",
       "align_content": null,
       "align_items": null,
       "align_self": null,
       "border": null,
       "bottom": null,
       "display": null,
       "flex": null,
       "flex_flow": null,
       "grid_area": null,
       "grid_auto_columns": null,
       "grid_auto_flow": null,
       "grid_auto_rows": null,
       "grid_column": null,
       "grid_gap": null,
       "grid_row": null,
       "grid_template_areas": null,
       "grid_template_columns": null,
       "grid_template_rows": null,
       "height": null,
       "justify_content": null,
       "justify_items": null,
       "left": null,
       "margin": null,
       "max_height": null,
       "max_width": null,
       "min_height": null,
       "min_width": null,
       "object_fit": null,
       "object_position": null,
       "order": null,
       "overflow": null,
       "overflow_x": null,
       "overflow_y": null,
       "padding": null,
       "right": null,
       "top": null,
       "visibility": null,
       "width": null
      }
     },
     "cfa14714fc964f22b2701cfdbd4cd577": {
      "model_module": "@jupyter-widgets/base",
      "model_module_version": "1.2.0",
      "model_name": "LayoutModel",
      "state": {
       "_model_module": "@jupyter-widgets/base",
       "_model_module_version": "1.2.0",
       "_model_name": "LayoutModel",
       "_view_count": null,
       "_view_module": "@jupyter-widgets/base",
       "_view_module_version": "1.2.0",
       "_view_name": "LayoutView",
       "align_content": null,
       "align_items": null,
       "align_self": null,
       "border": null,
       "bottom": null,
       "display": null,
       "flex": null,
       "flex_flow": null,
       "grid_area": null,
       "grid_auto_columns": null,
       "grid_auto_flow": null,
       "grid_auto_rows": null,
       "grid_column": null,
       "grid_gap": null,
       "grid_row": null,
       "grid_template_areas": null,
       "grid_template_columns": null,
       "grid_template_rows": null,
       "height": null,
       "justify_content": null,
       "justify_items": null,
       "left": null,
       "margin": null,
       "max_height": null,
       "max_width": null,
       "min_height": null,
       "min_width": null,
       "object_fit": null,
       "object_position": null,
       "order": null,
       "overflow": null,
       "overflow_x": null,
       "overflow_y": null,
       "padding": null,
       "right": null,
       "top": null,
       "visibility": null,
       "width": null
      }
     },
     "dbbc30d0e75e4739bd789f1b9ac00777": {
      "model_module": "@jupyter-widgets/controls",
      "model_module_version": "1.5.0",
      "model_name": "HBoxModel",
      "state": {
       "_dom_classes": [],
       "_model_module": "@jupyter-widgets/controls",
       "_model_module_version": "1.5.0",
       "_model_name": "HBoxModel",
       "_view_count": null,
       "_view_module": "@jupyter-widgets/controls",
       "_view_module_version": "1.5.0",
       "_view_name": "HBoxView",
       "box_style": "",
       "children": [
        "IPY_MODEL_11b18e2c68204bef88eed6a6195485f1",
        "IPY_MODEL_beddf5c84c7e4873a5325c0aa5821867"
       ],
       "layout": "IPY_MODEL_aa47b46bbca74e98aaaf5dc51d01f73a"
      }
     },
     "e697ae5df76542f9b6b3ee2444e321f6": {
      "model_module": "@jupyter-widgets/base",
      "model_module_version": "1.2.0",
      "model_name": "LayoutModel",
      "state": {
       "_model_module": "@jupyter-widgets/base",
       "_model_module_version": "1.2.0",
       "_model_name": "LayoutModel",
       "_view_count": null,
       "_view_module": "@jupyter-widgets/base",
       "_view_module_version": "1.2.0",
       "_view_name": "LayoutView",
       "align_content": null,
       "align_items": null,
       "align_self": null,
       "border": null,
       "bottom": null,
       "display": null,
       "flex": null,
       "flex_flow": null,
       "grid_area": null,
       "grid_auto_columns": null,
       "grid_auto_flow": null,
       "grid_auto_rows": null,
       "grid_column": null,
       "grid_gap": null,
       "grid_row": null,
       "grid_template_areas": null,
       "grid_template_columns": null,
       "grid_template_rows": null,
       "height": null,
       "justify_content": null,
       "justify_items": null,
       "left": null,
       "margin": null,
       "max_height": null,
       "max_width": null,
       "min_height": null,
       "min_width": null,
       "object_fit": null,
       "object_position": null,
       "order": null,
       "overflow": null,
       "overflow_x": null,
       "overflow_y": null,
       "padding": null,
       "right": null,
       "top": null,
       "visibility": null,
       "width": null
      }
     },
     "ed5681f9e7874065acd786d2e365398a": {
      "model_module": "@jupyter-widgets/controls",
      "model_module_version": "1.5.0",
      "model_name": "DescriptionStyleModel",
      "state": {
       "_model_module": "@jupyter-widgets/controls",
       "_model_module_version": "1.5.0",
       "_model_name": "DescriptionStyleModel",
       "_view_count": null,
       "_view_module": "@jupyter-widgets/base",
       "_view_module_version": "1.2.0",
       "_view_name": "StyleView",
       "description_width": ""
      }
     },
     "fe4d8cdcbaf74525bf0b9edad6918647": {
      "model_module": "@jupyter-widgets/base",
      "model_module_version": "1.2.0",
      "model_name": "LayoutModel",
      "state": {
       "_model_module": "@jupyter-widgets/base",
       "_model_module_version": "1.2.0",
       "_model_name": "LayoutModel",
       "_view_count": null,
       "_view_module": "@jupyter-widgets/base",
       "_view_module_version": "1.2.0",
       "_view_name": "LayoutView",
       "align_content": null,
       "align_items": null,
       "align_self": null,
       "border": null,
       "bottom": null,
       "display": null,
       "flex": null,
       "flex_flow": null,
       "grid_area": null,
       "grid_auto_columns": null,
       "grid_auto_flow": null,
       "grid_auto_rows": null,
       "grid_column": null,
       "grid_gap": null,
       "grid_row": null,
       "grid_template_areas": null,
       "grid_template_columns": null,
       "grid_template_rows": null,
       "height": null,
       "justify_content": null,
       "justify_items": null,
       "left": null,
       "margin": null,
       "max_height": null,
       "max_width": null,
       "min_height": null,
       "min_width": null,
       "object_fit": null,
       "object_position": null,
       "order": null,
       "overflow": null,
       "overflow_x": null,
       "overflow_y": null,
       "padding": null,
       "right": null,
       "top": null,
       "visibility": null,
       "width": null
      }
     }
    },
    "version_major": 2,
    "version_minor": 0
   }
  }
 },
 "nbformat": 4,
 "nbformat_minor": 5
}
