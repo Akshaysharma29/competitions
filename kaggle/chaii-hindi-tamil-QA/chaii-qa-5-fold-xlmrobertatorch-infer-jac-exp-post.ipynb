{
 "cells": [
  {
   "cell_type": "markdown",
   "id": "9c91784d",
   "metadata": {
    "papermill": {
     "duration": 0.022089,
     "end_time": "2021-09-08T15:37:31.870725",
     "exception": false,
     "start_time": "2021-09-08T15:37:31.848636",
     "status": "completed"
    },
    "tags": []
   },
   "source": [
    "<h2>chaii QA - 5 Fold XLMRoberta Inference in Torch w/o Trainer API</h2>\n",
    "    \n",
    "<h3><span style=\"color:#444\">Introduction</span></h3>\n",
    "\n",
    "The kernel implements inference for 5-Fold XLMRoberta QA Model without using the Trainer API from HuggingFace.\n",
    "\n",
    "This is a three part kernel, for more information visit Finetuning (FIT) notebook,\n",
    "\n",
    "- [External Data - MLQA, XQUAD Preprocessing](https://www.kaggle.com/rhtsingh/external-data-mlqa-xquad-preprocessing) which preprocesses the Hindi Corpus of MLQA and XQUAD. I have used these data for training.\n",
    "\n",
    "- [chaii QA - 5 Fold XLMRoberta Torch | FIT](https://www.kaggle.com/rhtsingh/chaii-qa-5-fold-xlmroberta-torch-fit/edit) This kernel showcases Finetuning (FIT) combining several techniques on competition + external data.\n",
    "\n",
    "- [chaii QA - 5 Fold XLMRoberta Torch | Infer](#xyz) The Inference kernel where we ensemble our 5 Fold XLMRoberta Models and do the submission."
   ]
  },
  {
   "cell_type": "markdown",
   "id": "45de48c1",
   "metadata": {
    "papermill": {
     "duration": 0.020471,
     "end_time": "2021-09-08T15:37:31.912431",
     "exception": false,
     "start_time": "2021-09-08T15:37:31.891960",
     "status": "completed"
    },
    "tags": []
   },
   "source": [
    "### Import Dependencies"
   ]
  },
  {
   "cell_type": "code",
   "execution_count": 1,
   "id": "0b8f7523",
   "metadata": {
    "_cell_guid": "b1076dfc-b9ad-4769-8c92-a6c4dae69d19",
    "_uuid": "8f2839f25d086af736a60e9eeb907d3b93b6e0e5",
    "execution": {
     "iopub.execute_input": "2021-09-08T15:37:31.972970Z",
     "iopub.status.busy": "2021-09-08T15:37:31.963849Z",
     "iopub.status.idle": "2021-09-08T15:37:38.624087Z",
     "shell.execute_reply": "2021-09-08T15:37:38.623374Z",
     "shell.execute_reply.started": "2021-09-08T15:24:46.383916Z"
    },
    "papermill": {
     "duration": 6.689914,
     "end_time": "2021-09-08T15:37:38.624290",
     "exception": false,
     "start_time": "2021-09-08T15:37:31.934376",
     "status": "completed"
    },
    "tags": []
   },
   "outputs": [
    {
     "name": "stdout",
     "output_type": "stream",
     "text": [
      "Apex AMP Installed :: False\n"
     ]
    }
   ],
   "source": [
    "import os\n",
    "import gc\n",
    "gc.enable()\n",
    "import math\n",
    "import json\n",
    "import time\n",
    "import random\n",
    "import multiprocessing\n",
    "import warnings\n",
    "warnings.filterwarnings(\"ignore\", category=UserWarning)\n",
    "\n",
    "import numpy as np\n",
    "import pandas as pd\n",
    "from tqdm import tqdm, trange\n",
    "from sklearn import model_selection\n",
    "\n",
    "import torch\n",
    "import torch.nn as nn\n",
    "import torch.nn.functional as F\n",
    "from torch.nn import Parameter\n",
    "import torch.optim as optim\n",
    "from torch.utils.data import (\n",
    "    Dataset, DataLoader,\n",
    "    SequentialSampler, RandomSampler\n",
    ")\n",
    "from torch.utils.data.distributed import DistributedSampler\n",
    "\n",
    "try:\n",
    "    from apex import amp\n",
    "    APEX_INSTALLED = True\n",
    "except ImportError:\n",
    "    APEX_INSTALLED = False\n",
    "\n",
    "import transformers\n",
    "from transformers import (\n",
    "    WEIGHTS_NAME,\n",
    "    AdamW,\n",
    "    AutoConfig,\n",
    "    AutoModel,\n",
    "    AutoTokenizer,\n",
    "    get_cosine_schedule_with_warmup,\n",
    "    get_linear_schedule_with_warmup,\n",
    "    logging,\n",
    "    MODEL_FOR_QUESTION_ANSWERING_MAPPING,\n",
    ")\n",
    "logging.set_verbosity_warning()\n",
    "logging.set_verbosity_error()\n",
    "\n",
    "def fix_all_seeds(seed):\n",
    "    np.random.seed(seed)\n",
    "    random.seed(seed)\n",
    "    os.environ['PYTHONHASHSEED'] = str(seed)\n",
    "    torch.manual_seed(seed)\n",
    "    torch.cuda.manual_seed(seed)\n",
    "    torch.cuda.manual_seed_all(seed)\n",
    "\n",
    "def optimal_num_of_loader_workers():\n",
    "    num_cpus = multiprocessing.cpu_count()\n",
    "    num_gpus = torch.cuda.device_count()\n",
    "    optimal_value = min(num_cpus, num_gpus*4) if num_gpus else num_cpus - 1\n",
    "    return optimal_value\n",
    "\n",
    "print(f\"Apex AMP Installed :: {APEX_INSTALLED}\")\n",
    "MODEL_CONFIG_CLASSES = list(MODEL_FOR_QUESTION_ANSWERING_MAPPING.keys())\n",
    "MODEL_TYPES = tuple(conf.model_type for conf in MODEL_CONFIG_CLASSES)"
   ]
  },
  {
   "cell_type": "markdown",
   "id": "a307a785",
   "metadata": {
    "papermill": {
     "duration": 0.020766,
     "end_time": "2021-09-08T15:37:38.666928",
     "exception": false,
     "start_time": "2021-09-08T15:37:38.646162",
     "status": "completed"
    },
    "tags": []
   },
   "source": [
    "### Configuration"
   ]
  },
  {
   "cell_type": "code",
   "execution_count": 2,
   "id": "ae1ce38b",
   "metadata": {
    "execution": {
     "iopub.execute_input": "2021-09-08T15:37:38.716166Z",
     "iopub.status.busy": "2021-09-08T15:37:38.714639Z",
     "iopub.status.idle": "2021-09-08T15:37:38.716980Z",
     "shell.execute_reply": "2021-09-08T15:37:38.717438Z",
     "shell.execute_reply.started": "2021-09-08T15:24:53.221216Z"
    },
    "papermill": {
     "duration": 0.029446,
     "end_time": "2021-09-08T15:37:38.717564",
     "exception": false,
     "start_time": "2021-09-08T15:37:38.688118",
     "status": "completed"
    },
    "tags": []
   },
   "outputs": [],
   "source": [
    "class Config:\n",
    "    # model\n",
    "    model_type = 'xlm_roberta'\n",
    "    model_name_or_path = \"../input/xlm-roberta-squad2/deepset/xlm-roberta-large-squad2/\"\n",
    "    config_name = \"../input/xlm-roberta-squad2/deepset/xlm-roberta-large-squad2/\"\n",
    "    fp16 = True if APEX_INSTALLED else False\n",
    "    fp16_opt_level = \"O1\"\n",
    "    gradient_accumulation_steps = 2\n",
    "\n",
    "    # tokenizer\n",
    "    tokenizer_name = \"../input/xlm-roberta-squad2/deepset/xlm-roberta-large-squad2/\"\n",
    "    max_seq_length = 384\n",
    "    doc_stride = 128\n",
    "\n",
    "    # train\n",
    "    epochs = 1\n",
    "    train_batch_size = 4\n",
    "    eval_batch_size = 16#8\n",
    "\n",
    "    # optimizer\n",
    "    optimizer_type = 'AdamW'\n",
    "    learning_rate = 1.5e-5\n",
    "    weight_decay = 1e-2\n",
    "    epsilon = 1e-8\n",
    "    max_grad_norm = 1.0\n",
    "\n",
    "    # scheduler\n",
    "    decay_name = 'linear-warmup'\n",
    "    warmup_ratio = 0.1\n",
    "\n",
    "    # logging\n",
    "    logging_steps = 10\n",
    "\n",
    "    # evaluate\n",
    "    output_dir = 'output'\n",
    "    seed = 2021"
   ]
  },
  {
   "cell_type": "markdown",
   "id": "77a55d14",
   "metadata": {
    "papermill": {
     "duration": 0.020541,
     "end_time": "2021-09-08T15:37:38.758519",
     "exception": false,
     "start_time": "2021-09-08T15:37:38.737978",
     "status": "completed"
    },
    "tags": []
   },
   "source": [
    "### Dataset Retriever"
   ]
  },
  {
   "cell_type": "code",
   "execution_count": 3,
   "id": "85fea149",
   "metadata": {
    "execution": {
     "iopub.execute_input": "2021-09-08T15:37:38.810173Z",
     "iopub.status.busy": "2021-09-08T15:37:38.809637Z",
     "iopub.status.idle": "2021-09-08T15:37:38.813500Z",
     "shell.execute_reply": "2021-09-08T15:37:38.813071Z",
     "shell.execute_reply.started": "2021-09-08T15:24:53.231162Z"
    },
    "papermill": {
     "duration": 0.034085,
     "end_time": "2021-09-08T15:37:38.813613",
     "exception": false,
     "start_time": "2021-09-08T15:37:38.779528",
     "status": "completed"
    },
    "tags": []
   },
   "outputs": [],
   "source": [
    "class DatasetRetriever(Dataset):\n",
    "    def __init__(self, features, mode='train'):\n",
    "        super(DatasetRetriever, self).__init__()\n",
    "        self.features = features\n",
    "        self.mode = mode\n",
    "        \n",
    "    def __len__(self):\n",
    "        return len(self.features)\n",
    "    \n",
    "    def __getitem__(self, item):   \n",
    "        feature = self.features[item]\n",
    "        if self.mode == 'train':\n",
    "            return {\n",
    "                'input_ids':torch.tensor(feature['input_ids'], dtype=torch.long),\n",
    "                'attention_mask':torch.tensor(feature['attention_mask'], dtype=torch.long),\n",
    "                'offset_mapping':torch.tensor(feature['offset_mapping'], dtype=torch.long),\n",
    "                'start_position':torch.tensor(feature['start_position'], dtype=torch.long),\n",
    "                'end_position':torch.tensor(feature['end_position'], dtype=torch.long)\n",
    "            }\n",
    "        else:\n",
    "            return {\n",
    "                'input_ids':torch.tensor(feature['input_ids'], dtype=torch.long),\n",
    "                'attention_mask':torch.tensor(feature['attention_mask'], dtype=torch.long),\n",
    "                'offset_mapping':feature['offset_mapping'],\n",
    "                'sequence_ids':feature['sequence_ids'],\n",
    "                'id':feature['example_id'],\n",
    "                'context': feature['context'],\n",
    "                'question': feature['question']\n",
    "            }"
   ]
  },
  {
   "cell_type": "markdown",
   "id": "91b47aea",
   "metadata": {
    "papermill": {
     "duration": 0.021522,
     "end_time": "2021-09-08T15:37:38.856302",
     "exception": false,
     "start_time": "2021-09-08T15:37:38.834780",
     "status": "completed"
    },
    "tags": []
   },
   "source": [
    "### Model"
   ]
  },
  {
   "cell_type": "code",
   "execution_count": 4,
   "id": "46fe83f2",
   "metadata": {
    "execution": {
     "iopub.execute_input": "2021-09-08T15:37:38.908598Z",
     "iopub.status.busy": "2021-09-08T15:37:38.907727Z",
     "iopub.status.idle": "2021-09-08T15:37:38.910384Z",
     "shell.execute_reply": "2021-09-08T15:37:38.909928Z",
     "shell.execute_reply.started": "2021-09-08T15:24:53.245630Z"
    },
    "papermill": {
     "duration": 0.032515,
     "end_time": "2021-09-08T15:37:38.910500",
     "exception": false,
     "start_time": "2021-09-08T15:37:38.877985",
     "status": "completed"
    },
    "tags": []
   },
   "outputs": [],
   "source": [
    "class Model(nn.Module):\n",
    "    def __init__(self, modelname_or_path, config):\n",
    "        super(Model, self).__init__()\n",
    "        self.config = config\n",
    "        self.xlm_roberta = AutoModel.from_pretrained(modelname_or_path, config=config)\n",
    "        self.qa_outputs = nn.Linear(config.hidden_size, 2)\n",
    "        self.dropout = nn.Dropout(config.hidden_dropout_prob)\n",
    "        self._init_weights(self.qa_outputs)\n",
    "        \n",
    "    def _init_weights(self, module):\n",
    "        if isinstance(module, nn.Linear):\n",
    "            module.weight.data.normal_(mean=0.0, std=self.config.initializer_range)\n",
    "            if module.bias is not None:\n",
    "                module.bias.data.zero_()\n",
    "\n",
    "    def forward(\n",
    "        self, \n",
    "        input_ids, \n",
    "        attention_mask=None, \n",
    "    ):\n",
    "        outputs = self.xlm_roberta(\n",
    "            input_ids,\n",
    "            attention_mask=attention_mask,\n",
    "        )\n",
    "\n",
    "        sequence_output = outputs[0]\n",
    "        pooled_output = outputs[1]\n",
    "        \n",
    "        # sequence_output = self.dropout(sequence_output)\n",
    "        qa_logits = self.qa_outputs(sequence_output)\n",
    "        \n",
    "        start_logits, end_logits = qa_logits.split(1, dim=-1)\n",
    "        start_logits = start_logits.squeeze(-1)\n",
    "        end_logits = end_logits.squeeze(-1)\n",
    "    \n",
    "        return start_logits, end_logits"
   ]
  },
  {
   "cell_type": "markdown",
   "id": "805da62f",
   "metadata": {
    "papermill": {
     "duration": 0.021015,
     "end_time": "2021-09-08T15:37:38.952636",
     "exception": false,
     "start_time": "2021-09-08T15:37:38.931621",
     "status": "completed"
    },
    "tags": []
   },
   "source": [
    "### Utilities"
   ]
  },
  {
   "cell_type": "code",
   "execution_count": 5,
   "id": "f1e04df0",
   "metadata": {
    "execution": {
     "iopub.execute_input": "2021-09-08T15:37:38.999208Z",
     "iopub.status.busy": "2021-09-08T15:37:38.998388Z",
     "iopub.status.idle": "2021-09-08T15:37:39.001043Z",
     "shell.execute_reply": "2021-09-08T15:37:39.000641Z",
     "shell.execute_reply.started": "2021-09-08T15:24:53.258818Z"
    },
    "papermill": {
     "duration": 0.027881,
     "end_time": "2021-09-08T15:37:39.001165",
     "exception": false,
     "start_time": "2021-09-08T15:37:38.973284",
     "status": "completed"
    },
    "tags": []
   },
   "outputs": [],
   "source": [
    "def make_model(args):\n",
    "    config = AutoConfig.from_pretrained(args.config_name)\n",
    "    tokenizer = AutoTokenizer.from_pretrained(args.tokenizer_name)\n",
    "    model = Model(args.model_name_or_path, config=config)\n",
    "    return config, tokenizer, model"
   ]
  },
  {
   "cell_type": "markdown",
   "id": "2673ff31",
   "metadata": {
    "papermill": {
     "duration": 0.020831,
     "end_time": "2021-09-08T15:37:39.042559",
     "exception": false,
     "start_time": "2021-09-08T15:37:39.021728",
     "status": "completed"
    },
    "tags": []
   },
   "source": [
    "### Covert Examples to Features (Preprocess)"
   ]
  },
  {
   "cell_type": "code",
   "execution_count": 6,
   "id": "7922c1a7",
   "metadata": {
    "execution": {
     "iopub.execute_input": "2021-09-08T15:37:39.093447Z",
     "iopub.status.busy": "2021-09-08T15:37:39.092661Z",
     "iopub.status.idle": "2021-09-08T15:37:39.095155Z",
     "shell.execute_reply": "2021-09-08T15:37:39.094746Z",
     "shell.execute_reply.started": "2021-09-08T15:24:53.270992Z"
    },
    "papermill": {
     "duration": 0.03166,
     "end_time": "2021-09-08T15:37:39.095265",
     "exception": false,
     "start_time": "2021-09-08T15:37:39.063605",
     "status": "completed"
    },
    "tags": []
   },
   "outputs": [],
   "source": [
    "def prepare_test_features(args, example, tokenizer):\n",
    "    example[\"question\"] = example[\"question\"].lstrip()\n",
    "    \n",
    "    tokenized_example = tokenizer(\n",
    "        example[\"question\"],\n",
    "        example[\"context\"],\n",
    "        truncation=\"only_second\",\n",
    "        max_length=args.max_seq_length,\n",
    "        stride=args.doc_stride,\n",
    "        return_overflowing_tokens=True,\n",
    "        return_offsets_mapping=True,\n",
    "        padding=\"max_length\",\n",
    "    )\n",
    "\n",
    "    features = []\n",
    "    for i in range(len(tokenized_example[\"input_ids\"])):\n",
    "        feature = {}\n",
    "        feature[\"example_id\"] = example['id']\n",
    "        feature['context'] = example['context']\n",
    "        feature['question'] = example['question']\n",
    "        feature['input_ids'] = tokenized_example['input_ids'][i]\n",
    "        feature['attention_mask'] = tokenized_example['attention_mask'][i]\n",
    "        feature['offset_mapping'] = tokenized_example['offset_mapping'][i]\n",
    "        feature['sequence_ids'] = [0 if i is None else i for i in tokenized_example.sequence_ids(i)]\n",
    "        features.append(feature)\n",
    "    return features"
   ]
  },
  {
   "cell_type": "markdown",
   "id": "c813fd34",
   "metadata": {
    "papermill": {
     "duration": 0.020826,
     "end_time": "2021-09-08T15:37:39.136601",
     "exception": false,
     "start_time": "2021-09-08T15:37:39.115775",
     "status": "completed"
    },
    "tags": []
   },
   "source": [
    "### Postprocess QA Predictions"
   ]
  },
  {
   "cell_type": "code",
   "execution_count": 7,
   "id": "c1ef4d2e",
   "metadata": {
    "execution": {
     "iopub.execute_input": "2021-09-08T15:37:39.193265Z",
     "iopub.status.busy": "2021-09-08T15:37:39.192405Z",
     "iopub.status.idle": "2021-09-08T15:37:39.194546Z",
     "shell.execute_reply": "2021-09-08T15:37:39.195026Z",
     "shell.execute_reply.started": "2021-09-08T15:24:53.282228Z"
    },
    "papermill": {
     "duration": 0.037471,
     "end_time": "2021-09-08T15:37:39.195179",
     "exception": false,
     "start_time": "2021-09-08T15:37:39.157708",
     "status": "completed"
    },
    "tags": []
   },
   "outputs": [],
   "source": [
    "import collections\n",
    "\n",
    "def postprocess_qa_predictions(examples, features, raw_predictions, topk, n_best_size = 20, max_answer_length = 30):\n",
    "    all_start_logits, all_end_logits = raw_predictions\n",
    "    \n",
    "    example_id_to_index = {k: i for i, k in enumerate(examples[\"id\"])}\n",
    "    features_per_example = collections.defaultdict(list)\n",
    "    for i, feature in enumerate(features):\n",
    "        features_per_example[example_id_to_index[feature[\"example_id\"]]].append(i)\n",
    "\n",
    "    predictions = collections.OrderedDict()\n",
    "\n",
    "    print(f\"Post-processing {len(examples)} example predictions split into {len(features)} features.\")\n",
    "\n",
    "    for example_index, example in examples.iterrows():\n",
    "        feature_indices = features_per_example[example_index]\n",
    "\n",
    "        min_null_score = None\n",
    "        valid_answers = []\n",
    "        \n",
    "        context = example[\"context\"]\n",
    "        for feature_index in feature_indices:\n",
    "            start_logits = all_start_logits[feature_index]\n",
    "            end_logits = all_end_logits[feature_index]\n",
    "\n",
    "            sequence_ids = features[feature_index][\"sequence_ids\"]\n",
    "            context_index = 1\n",
    "\n",
    "            features[feature_index][\"offset_mapping\"] = [\n",
    "                (o if sequence_ids[k] == context_index else None)\n",
    "                for k, o in enumerate(features[feature_index][\"offset_mapping\"])\n",
    "            ]\n",
    "            offset_mapping = features[feature_index][\"offset_mapping\"]\n",
    "            cls_index = features[feature_index][\"input_ids\"].index(tokenizer.cls_token_id)\n",
    "            feature_null_score = start_logits[cls_index] + end_logits[cls_index]\n",
    "            if min_null_score is None or min_null_score < feature_null_score:\n",
    "                min_null_score = feature_null_score\n",
    "\n",
    "            start_indexes = np.argsort(start_logits)[-1 : -n_best_size - 1 : -1].tolist()\n",
    "            end_indexes = np.argsort(end_logits)[-1 : -n_best_size - 1 : -1].tolist()\n",
    "            for start_index in start_indexes:\n",
    "                for end_index in end_indexes:\n",
    "                    if (\n",
    "                        start_index >= len(offset_mapping)\n",
    "                        or end_index >= len(offset_mapping)\n",
    "                        or offset_mapping[start_index] is None\n",
    "                        or offset_mapping[end_index] is None\n",
    "                    ):\n",
    "                        continue\n",
    "                    # Don't consider answers with a length that is either < 0 or > max_answer_length.\n",
    "                    if end_index < start_index or end_index - start_index + 1 > max_answer_length:\n",
    "                        continue\n",
    "\n",
    "                    start_char = offset_mapping[start_index][0]\n",
    "                    end_char = offset_mapping[end_index][1]\n",
    "                    valid_answers.append(\n",
    "                        {\n",
    "                            \"score\": start_logits[start_index] + end_logits[end_index],\n",
    "                            \"text\": context[start_char: end_char]\n",
    "                        }\n",
    "                    )\n",
    "        \n",
    "        if len(valid_answers) > 0:\n",
    "            best_answer = sorted(valid_answers, key=lambda x: x[\"score\"], reverse=True)[:topk]\n",
    "        else:\n",
    "            best_answer = [{\"text\": \"\", \"score\": 0.0}]\n",
    "        \n",
    "        predictions[example[\"id\"]] = best_answer#[\"text\"]\n",
    "        \n",
    "        \n",
    "    return predictions"
   ]
  },
  {
   "cell_type": "markdown",
   "id": "12d69654",
   "metadata": {
    "papermill": {
     "duration": 0.021298,
     "end_time": "2021-09-08T15:37:39.237331",
     "exception": false,
     "start_time": "2021-09-08T15:37:39.216033",
     "status": "completed"
    },
    "tags": []
   },
   "source": [
    "### Data Factory"
   ]
  },
  {
   "cell_type": "code",
   "execution_count": 8,
   "id": "fce15256",
   "metadata": {
    "execution": {
     "iopub.execute_input": "2021-09-08T15:37:39.285366Z",
     "iopub.status.busy": "2021-09-08T15:37:39.284648Z",
     "iopub.status.idle": "2021-09-08T15:37:40.365182Z",
     "shell.execute_reply": "2021-09-08T15:37:40.364680Z",
     "shell.execute_reply.started": "2021-09-08T15:24:53.305263Z"
    },
    "papermill": {
     "duration": 1.106753,
     "end_time": "2021-09-08T15:37:40.365309",
     "exception": false,
     "start_time": "2021-09-08T15:37:39.258556",
     "status": "completed"
    },
    "tags": []
   },
   "outputs": [],
   "source": [
    "test = pd.read_csv('../input/chaii-hindi-and-tamil-question-answering/test.csv')\n",
    "base_model_path = '../input/chaii-xlmroberta-large-v6/output/'\n",
    "\n",
    "tokenizer = AutoTokenizer.from_pretrained(Config().tokenizer_name)\n",
    "\n",
    "test_features = []\n",
    "for i, row in test.iterrows():\n",
    "    test_features += prepare_test_features(Config(), row, tokenizer)\n",
    "\n",
    "args = Config()\n",
    "test_dataset = DatasetRetriever(test_features, mode='test')\n",
    "test_dataloader = DataLoader(\n",
    "    test_dataset,\n",
    "    batch_size=args.eval_batch_size, \n",
    "    sampler=SequentialSampler(test_dataset),\n",
    "    num_workers=optimal_num_of_loader_workers(),\n",
    "    pin_memory=True, \n",
    "    drop_last=False\n",
    ")"
   ]
  },
  {
   "cell_type": "markdown",
   "id": "17a77151",
   "metadata": {
    "papermill": {
     "duration": 0.020351,
     "end_time": "2021-09-08T15:37:40.406519",
     "exception": false,
     "start_time": "2021-09-08T15:37:40.386168",
     "status": "completed"
    },
    "tags": []
   },
   "source": [
    "### Intialize Inference"
   ]
  },
  {
   "cell_type": "code",
   "execution_count": 9,
   "id": "05feeb95",
   "metadata": {
    "execution": {
     "iopub.execute_input": "2021-09-08T15:37:40.454870Z",
     "iopub.status.busy": "2021-09-08T15:37:40.454104Z",
     "iopub.status.idle": "2021-09-08T15:37:40.456340Z",
     "shell.execute_reply": "2021-09-08T15:37:40.456744Z",
     "shell.execute_reply.started": "2021-09-08T15:24:54.431854Z"
    },
    "papermill": {
     "duration": 0.02961,
     "end_time": "2021-09-08T15:37:40.456866",
     "exception": false,
     "start_time": "2021-09-08T15:37:40.427256",
     "status": "completed"
    },
    "tags": []
   },
   "outputs": [],
   "source": [
    "def get_predictions(checkpoint_path):\n",
    "    config, tokenizer, model = make_model(Config())\n",
    "    model.cuda();\n",
    "    model.load_state_dict(\n",
    "        torch.load(base_model_path + checkpoint_path)\n",
    "    );\n",
    "    \n",
    "    start_logits = []\n",
    "    end_logits = []\n",
    "    for batch in test_dataloader:\n",
    "        with torch.no_grad():\n",
    "            outputs_start, outputs_end = model(batch['input_ids'].cuda(), batch['attention_mask'].cuda())\n",
    "            start_logits.append(outputs_start.cpu().numpy().tolist())\n",
    "            end_logits.append(outputs_end.cpu().numpy().tolist())\n",
    "            del outputs_start, outputs_end\n",
    "    del model, tokenizer, config\n",
    "    gc.collect()\n",
    "    return np.vstack(start_logits), np.vstack(end_logits)"
   ]
  },
  {
   "cell_type": "markdown",
   "id": "20bfe3cb",
   "metadata": {
    "papermill": {
     "duration": 0.02089,
     "end_time": "2021-09-08T15:37:40.498412",
     "exception": false,
     "start_time": "2021-09-08T15:37:40.477522",
     "status": "completed"
    },
    "tags": []
   },
   "source": [
    "### Ensemble 5-Folds"
   ]
  },
  {
   "cell_type": "code",
   "execution_count": 10,
   "id": "36dd2f08",
   "metadata": {
    "execution": {
     "iopub.execute_input": "2021-09-08T15:37:40.545097Z",
     "iopub.status.busy": "2021-09-08T15:37:40.544357Z",
     "iopub.status.idle": "2021-09-08T15:40:54.307523Z",
     "shell.execute_reply": "2021-09-08T15:40:54.306967Z",
     "shell.execute_reply.started": "2021-09-08T15:24:54.442158Z"
    },
    "papermill": {
     "duration": 193.788278,
     "end_time": "2021-09-08T15:40:54.307688",
     "exception": false,
     "start_time": "2021-09-08T15:37:40.519410",
     "status": "completed"
    },
    "tags": []
   },
   "outputs": [],
   "source": [
    "start_logits1, end_logits1 = get_predictions('checkpoint-fold-0/pytorch_model.bin')\n",
    "start_logits2, end_logits2 = get_predictions('checkpoint-fold-1/pytorch_model.bin')\n",
    "start_logits3, end_logits3 = get_predictions('checkpoint-fold-2/pytorch_model.bin')\n",
    "start_logits4, end_logits4 = get_predictions('checkpoint-fold-3/pytorch_model.bin')\n",
    "start_logits5, end_logits5 = get_predictions('checkpoint-fold-4/pytorch_model.bin')\n",
    "\n",
    "start_logits = (start_logits1 + start_logits2 + start_logits3 + start_logits4 + start_logits5) / 5\n",
    "end_logits = (end_logits1 + end_logits2 + end_logits3 + end_logits4 + end_logits5) / 5\n",
    "\n"
   ]
  },
  {
   "cell_type": "code",
   "execution_count": 11,
   "id": "87ac0b9f",
   "metadata": {
    "execution": {
     "iopub.execute_input": "2021-09-08T15:40:54.363453Z",
     "iopub.status.busy": "2021-09-08T15:40:54.362849Z",
     "iopub.status.idle": "2021-09-08T15:40:54.403012Z",
     "shell.execute_reply": "2021-09-08T15:40:54.403518Z",
     "shell.execute_reply.started": "2021-09-08T15:36:23.303443Z"
    },
    "papermill": {
     "duration": 0.071964,
     "end_time": "2021-09-08T15:40:54.403679",
     "exception": false,
     "start_time": "2021-09-08T15:40:54.331715",
     "status": "completed"
    },
    "tags": []
   },
   "outputs": [
    {
     "name": "stdout",
     "output_type": "stream",
     "text": [
      "Post-processing 5 example predictions split into 67 features.\n"
     ]
    }
   ],
   "source": [
    "topk = 3\n",
    "\n",
    "predictions = postprocess_qa_predictions(test, test_features, (start_logits, end_logits), topk=topk)"
   ]
  },
  {
   "cell_type": "code",
   "execution_count": 12,
   "id": "44f9895c",
   "metadata": {
    "execution": {
     "iopub.execute_input": "2021-09-08T15:40:54.469344Z",
     "iopub.status.busy": "2021-09-08T15:40:54.454640Z",
     "iopub.status.idle": "2021-09-08T15:40:54.488425Z",
     "shell.execute_reply": "2021-09-08T15:40:54.488004Z",
     "shell.execute_reply.started": "2021-09-08T15:36:24.055603Z"
    },
    "papermill": {
     "duration": 0.063706,
     "end_time": "2021-09-08T15:40:54.488537",
     "exception": false,
     "start_time": "2021-09-08T15:40:54.424831",
     "status": "completed"
    },
    "tags": []
   },
   "outputs": [
    {
     "name": "stdout",
     "output_type": "stream",
     "text": [
      "          id                              Top5_PredictionString\n",
      "0  22bff3dec  [{'score': 11.72312593460083, 'text': ' येलन'}...\n",
      "1  282758170  [{'score': 7.753389894962311, 'text': ' 28 नवम...\n",
      "2  d60987e0e  [{'score': 13.116224193572998, 'text': '१२ मार...\n",
      "3  f99c770dc  [{'score': 11.76670150756836, 'text': ' 13'}, ...\n",
      "4  40dec1964  [{'score': 11.590853786468507, 'text': 'சுவாமி...\n"
     ]
    }
   ],
   "source": [
    "test['Top5_PredictionString'] = test['id'].map(predictions)\n",
    "test[['id', 'Top5_PredictionString']].to_csv('sample.csv', index=False)\n",
    "print(test[['id', 'Top5_PredictionString']])"
   ]
  },
  {
   "cell_type": "code",
   "execution_count": 13,
   "id": "bc238bce",
   "metadata": {
    "execution": {
     "iopub.execute_input": "2021-09-08T15:40:54.538570Z",
     "iopub.status.busy": "2021-09-08T15:40:54.537883Z",
     "iopub.status.idle": "2021-09-08T15:40:54.542656Z",
     "shell.execute_reply": "2021-09-08T15:40:54.542217Z",
     "shell.execute_reply.started": "2021-09-08T15:36:24.309046Z"
    },
    "papermill": {
     "duration": 0.03258,
     "end_time": "2021-09-08T15:40:54.542760",
     "exception": false,
     "start_time": "2021-09-08T15:40:54.510180",
     "status": "completed"
    },
    "tags": []
   },
   "outputs": [
    {
     "data": {
      "text/plain": [
       "[{'score': 11.72312593460083, 'text': ' येलन'},\n",
       " {'score': 10.902552175521851,\n",
       "  'text': ' येलन चीन से हैं। उनकी मां येलन गुट्टा'},\n",
       " {'score': 10.344226121902466, 'text': ' येलन गुट्टा'}]"
      ]
     },
     "execution_count": 13,
     "metadata": {},
     "output_type": "execute_result"
    }
   ],
   "source": [
    "test['Top5_PredictionString'][0]"
   ]
  },
  {
   "cell_type": "markdown",
   "id": "077adfb2",
   "metadata": {
    "papermill": {
     "duration": 0.021508,
     "end_time": "2021-09-08T15:40:54.585881",
     "exception": false,
     "start_time": "2021-09-08T15:40:54.564373",
     "status": "completed"
    },
    "tags": []
   },
   "source": [
    "# jaccard expectation maximization"
   ]
  },
  {
   "cell_type": "code",
   "execution_count": 14,
   "id": "ef74b0fb",
   "metadata": {
    "execution": {
     "iopub.execute_input": "2021-09-08T15:40:54.635429Z",
     "iopub.status.busy": "2021-09-08T15:40:54.634117Z",
     "iopub.status.idle": "2021-09-08T15:40:54.636533Z",
     "shell.execute_reply": "2021-09-08T15:40:54.636929Z",
     "shell.execute_reply.started": "2021-09-08T15:36:25.161950Z"
    },
    "papermill": {
     "duration": 0.029511,
     "end_time": "2021-09-08T15:40:54.637049",
     "exception": false,
     "start_time": "2021-09-08T15:40:54.607538",
     "status": "completed"
    },
    "tags": []
   },
   "outputs": [],
   "source": [
    "def jaccard(str1, str2): \n",
    "    a = set(str1.lower().split()) \n",
    "    b = set(str2.lower().split())\n",
    "    c = a.intersection(b)\n",
    "    return float(len(c)) / (len(a) + len(b) - len(c))"
   ]
  },
  {
   "cell_type": "code",
   "execution_count": 15,
   "id": "d2f6f41d",
   "metadata": {
    "execution": {
     "iopub.execute_input": "2021-09-08T15:40:54.685561Z",
     "iopub.status.busy": "2021-09-08T15:40:54.684801Z",
     "iopub.status.idle": "2021-09-08T15:40:54.687051Z",
     "shell.execute_reply": "2021-09-08T15:40:54.687435Z",
     "shell.execute_reply.started": "2021-09-08T15:36:25.963240Z"
    },
    "papermill": {
     "duration": 0.028723,
     "end_time": "2021-09-08T15:40:54.687575",
     "exception": false,
     "start_time": "2021-09-08T15:40:54.658852",
     "status": "completed"
    },
    "tags": []
   },
   "outputs": [],
   "source": [
    "def cal_jacc_exp(gt, i):\n",
    "    jac_exp = 0\n",
    "    for res in i:\n",
    "        jac_exp += res['score']*jaccard(gt, res['text'])\n",
    "#         print(gt+'->'+res['text'])\n",
    "    return jac_exp"
   ]
  },
  {
   "cell_type": "code",
   "execution_count": 16,
   "id": "680214b2",
   "metadata": {
    "execution": {
     "iopub.execute_input": "2021-09-08T15:40:54.737408Z",
     "iopub.status.busy": "2021-09-08T15:40:54.736759Z",
     "iopub.status.idle": "2021-09-08T15:40:54.740044Z",
     "shell.execute_reply": "2021-09-08T15:40:54.740425Z",
     "shell.execute_reply.started": "2021-09-08T15:37:10.818431Z"
    },
    "papermill": {
     "duration": 0.031323,
     "end_time": "2021-09-08T15:40:54.740559",
     "exception": false,
     "start_time": "2021-09-08T15:40:54.709236",
     "status": "completed"
    },
    "tags": []
   },
   "outputs": [],
   "source": [
    "final_ans = []\n",
    "for i in test['Top5_PredictionString']:\n",
    "#     print(i)\n",
    "    conf = []\n",
    "    for j in range(topk):\n",
    "        gt = i[j]['text']\n",
    "        jac_exp_score = cal_jacc_exp(gt, i)\n",
    "#         conf.append(jac_exp_score)\n",
    "        conf.append((0.2*jac_exp_score + 0.8*i[j]['score']))\n",
    "#     print(conf)\n",
    "    final_ans.append(i[np.array(conf).argmax()]['text'])\n",
    "#     break"
   ]
  },
  {
   "cell_type": "code",
   "execution_count": 17,
   "id": "36b3563f",
   "metadata": {
    "execution": {
     "iopub.execute_input": "2021-09-08T15:40:54.796431Z",
     "iopub.status.busy": "2021-09-08T15:40:54.795863Z",
     "iopub.status.idle": "2021-09-08T15:40:54.808482Z",
     "shell.execute_reply": "2021-09-08T15:40:54.808054Z",
     "shell.execute_reply.started": "2021-09-08T15:37:12.737101Z"
    },
    "papermill": {
     "duration": 0.046034,
     "end_time": "2021-09-08T15:40:54.808595",
     "exception": false,
     "start_time": "2021-09-08T15:40:54.762561",
     "status": "completed"
    },
    "tags": []
   },
   "outputs": [
    {
     "data": {
      "text/html": [
       "<div>\n",
       "<style scoped>\n",
       "    .dataframe tbody tr th:only-of-type {\n",
       "        vertical-align: middle;\n",
       "    }\n",
       "\n",
       "    .dataframe tbody tr th {\n",
       "        vertical-align: top;\n",
       "    }\n",
       "\n",
       "    .dataframe thead th {\n",
       "        text-align: right;\n",
       "    }\n",
       "</style>\n",
       "<table border=\"1\" class=\"dataframe\">\n",
       "  <thead>\n",
       "    <tr style=\"text-align: right;\">\n",
       "      <th></th>\n",
       "      <th>id</th>\n",
       "      <th>context</th>\n",
       "      <th>question</th>\n",
       "      <th>language</th>\n",
       "      <th>Top5_PredictionString</th>\n",
       "      <th>PredictionString</th>\n",
       "    </tr>\n",
       "  </thead>\n",
       "  <tbody>\n",
       "    <tr>\n",
       "      <th>0</th>\n",
       "      <td>22bff3dec</td>\n",
       "      <td>ज्वाला गुट्टा (जन्म: 7 सितंबर 1983; वर्धा, महा...</td>\n",
       "      <td>ज्वाला गुट्टा की माँ का नाम क्या है</td>\n",
       "      <td>hindi</td>\n",
       "      <td>[{'score': 11.72312593460083, 'text': ' येलन'}...</td>\n",
       "      <td>येलन</td>\n",
       "    </tr>\n",
       "    <tr>\n",
       "      <th>1</th>\n",
       "      <td>282758170</td>\n",
       "      <td>गूगल मानचित्र (Google Maps) (पूर्व में गूगल लो...</td>\n",
       "      <td>गूगल मैप्स कब लॉन्च किया गया था?</td>\n",
       "      <td>hindi</td>\n",
       "      <td>[{'score': 7.753389894962311, 'text': ' 28 नवम...</td>\n",
       "      <td>28 नवम्बर 2007</td>\n",
       "    </tr>\n",
       "    <tr>\n",
       "      <th>2</th>\n",
       "      <td>d60987e0e</td>\n",
       "      <td>गुस्ताव रॉबर्ट किरचॉफ़ (१२ मार्च १८२४ - १७ अक्...</td>\n",
       "      <td>गुस्ताव किरचॉफ का जन्म कब हुआ था?</td>\n",
       "      <td>hindi</td>\n",
       "      <td>[{'score': 13.116224193572998, 'text': '१२ मार...</td>\n",
       "      <td>१२ मार्च १८२४</td>\n",
       "    </tr>\n",
       "    <tr>\n",
       "      <th>3</th>\n",
       "      <td>f99c770dc</td>\n",
       "      <td>அலுமினியம் (ஆங்கிலம்: அலுமினியம்; வட அமெரிக்க ...</td>\n",
       "      <td>அலுமினியத்தின் அணு எண் என்ன?</td>\n",
       "      <td>tamil</td>\n",
       "      <td>[{'score': 11.76670150756836, 'text': ' 13'}, ...</td>\n",
       "      <td>13</td>\n",
       "    </tr>\n",
       "    <tr>\n",
       "      <th>4</th>\n",
       "      <td>40dec1964</td>\n",
       "      <td>கூட்டுறவு இயக்க வரலாறு, இங்கிலாந்து  நாட்டில் ...</td>\n",
       "      <td>இந்தியாவில் பசுமை புரட்சியின் தந்தை என்று கருத...</td>\n",
       "      <td>tamil</td>\n",
       "      <td>[{'score': 11.590853786468507, 'text': 'சுவாமி...</td>\n",
       "      <td>சுவாமிநாதன் மற்றும் வர்கீஸ் குரியன்</td>\n",
       "    </tr>\n",
       "  </tbody>\n",
       "</table>\n",
       "</div>"
      ],
      "text/plain": [
       "          id                                            context  \\\n",
       "0  22bff3dec  ज्वाला गुट्टा (जन्म: 7 सितंबर 1983; वर्धा, महा...   \n",
       "1  282758170  गूगल मानचित्र (Google Maps) (पूर्व में गूगल लो...   \n",
       "2  d60987e0e  गुस्ताव रॉबर्ट किरचॉफ़ (१२ मार्च १८२४ - १७ अक्...   \n",
       "3  f99c770dc  அலுமினியம் (ஆங்கிலம்: அலுமினியம்; வட அமெரிக்க ...   \n",
       "4  40dec1964  கூட்டுறவு இயக்க வரலாறு, இங்கிலாந்து  நாட்டில் ...   \n",
       "\n",
       "                                            question language  \\\n",
       "0                ज्वाला गुट्टा की माँ का नाम क्या है    hindi   \n",
       "1                   गूगल मैप्स कब लॉन्च किया गया था?    hindi   \n",
       "2                  गुस्ताव किरचॉफ का जन्म कब हुआ था?    hindi   \n",
       "3                       அலுமினியத்தின் அணு எண் என்ன?    tamil   \n",
       "4  இந்தியாவில் பசுமை புரட்சியின் தந்தை என்று கருத...    tamil   \n",
       "\n",
       "                               Top5_PredictionString  \\\n",
       "0  [{'score': 11.72312593460083, 'text': ' येलन'}...   \n",
       "1  [{'score': 7.753389894962311, 'text': ' 28 नवम...   \n",
       "2  [{'score': 13.116224193572998, 'text': '१२ मार...   \n",
       "3  [{'score': 11.76670150756836, 'text': ' 13'}, ...   \n",
       "4  [{'score': 11.590853786468507, 'text': 'சுவாமி...   \n",
       "\n",
       "                      PredictionString  \n",
       "0                                 येलन  \n",
       "1                       28 नवम्बर 2007  \n",
       "2                        १२ मार्च १८२४  \n",
       "3                                   13  \n",
       "4  சுவாமிநாதன் மற்றும் வர்கீஸ் குரியன்  "
      ]
     },
     "execution_count": 17,
     "metadata": {},
     "output_type": "execute_result"
    }
   ],
   "source": [
    "test['PredictionString'] = final_ans\n",
    "test.head()"
   ]
  },
  {
   "cell_type": "markdown",
   "id": "1e846700",
   "metadata": {
    "papermill": {
     "duration": 0.022304,
     "end_time": "2021-09-08T15:40:54.853346",
     "exception": false,
     "start_time": "2021-09-08T15:40:54.831042",
     "status": "completed"
    },
    "tags": []
   },
   "source": [
    "# Post-Processing"
   ]
  },
  {
   "cell_type": "code",
   "execution_count": 18,
   "id": "70ee78c6",
   "metadata": {
    "execution": {
     "iopub.execute_input": "2021-09-08T15:40:54.908068Z",
     "iopub.status.busy": "2021-09-08T15:40:54.907526Z",
     "iopub.status.idle": "2021-09-08T15:40:54.911525Z",
     "shell.execute_reply": "2021-09-08T15:40:54.910973Z",
     "shell.execute_reply.started": "2021-09-08T15:37:13.872547Z"
    },
    "papermill": {
     "duration": 0.036054,
     "end_time": "2021-09-08T15:40:54.911649",
     "exception": false,
     "start_time": "2021-09-08T15:40:54.875595",
     "status": "completed"
    },
    "tags": []
   },
   "outputs": [],
   "source": [
    "bad_starts = [\".\", \",\", \"(\", \")\", \"-\", \"–\",  \",\", \";\"]\n",
    "bad_endings = [\"...\", \"-\", \"(\", \")\", \"–\", \",\", \";\"]\n",
    "\n",
    "tamil_ad = \"கி.பி\"\n",
    "tamil_bc = \"கி.மு\"\n",
    "tamil_km = \"கி.மீ\"\n",
    "hindi_ad = \"ई\"\n",
    "hindi_bc = \"ई.पू\"\n",
    "\n",
    "\n",
    "cleaned_preds = []\n",
    "for pred, context in test[[\"PredictionString\", \"context\"]].to_numpy():\n",
    "    if pred == \"\":\n",
    "        cleaned_preds.append(pred)\n",
    "        continue\n",
    "    while any([pred.startswith(y) for y in bad_starts]):\n",
    "        pred = pred[1:]\n",
    "    while any([pred.endswith(y) for y in bad_endings]):\n",
    "        if pred.endswith(\"...\"):\n",
    "            pred = pred[:-3]\n",
    "        else:\n",
    "            pred = pred[:-1]\n",
    "    \n",
    "    if any([pred.endswith(tamil_ad), pred.endswith(tamil_bc), pred.endswith(tamil_km), pred.endswith(hindi_ad), pred.endswith(hindi_bc)]) and pred+\".\" in context:\n",
    "        pred = pred+\".\"\n",
    "\n",
    "    cleaned_preds.append(pred)\n",
    "\n",
    "test[\"PredictionString\"] = cleaned_preds"
   ]
  },
  {
   "cell_type": "code",
   "execution_count": 19,
   "id": "c7f3f682",
   "metadata": {
    "execution": {
     "iopub.execute_input": "2021-09-08T15:40:54.960862Z",
     "iopub.status.busy": "2021-09-08T15:40:54.959632Z",
     "iopub.status.idle": "2021-09-08T15:40:54.961971Z",
     "shell.execute_reply": "2021-09-08T15:40:54.962349Z",
     "shell.execute_reply.started": "2021-09-08T15:37:14.064459Z"
    },
    "papermill": {
     "duration": 0.028128,
     "end_time": "2021-09-08T15:40:54.962482",
     "exception": false,
     "start_time": "2021-09-08T15:40:54.934354",
     "status": "completed"
    },
    "tags": []
   },
   "outputs": [],
   "source": [
    "# test.head()"
   ]
  },
  {
   "cell_type": "code",
   "execution_count": 20,
   "id": "146bcd4d",
   "metadata": {
    "execution": {
     "iopub.execute_input": "2021-09-08T15:40:55.012435Z",
     "iopub.status.busy": "2021-09-08T15:40:55.011078Z",
     "iopub.status.idle": "2021-09-08T15:40:55.014800Z",
     "shell.execute_reply": "2021-09-08T15:40:55.014392Z",
     "shell.execute_reply.started": "2021-09-08T15:37:14.697137Z"
    },
    "papermill": {
     "duration": 0.030299,
     "end_time": "2021-09-08T15:40:55.014904",
     "exception": false,
     "start_time": "2021-09-08T15:40:54.984605",
     "status": "completed"
    },
    "tags": []
   },
   "outputs": [],
   "source": [
    "test[['id', 'PredictionString']].to_csv('submission.csv', index=False)"
   ]
  },
  {
   "cell_type": "code",
   "execution_count": null,
   "id": "ce124805",
   "metadata": {
    "papermill": {
     "duration": 0.022113,
     "end_time": "2021-09-08T15:40:55.059196",
     "exception": false,
     "start_time": "2021-09-08T15:40:55.037083",
     "status": "completed"
    },
    "tags": []
   },
   "outputs": [],
   "source": []
  },
  {
   "cell_type": "code",
   "execution_count": null,
   "id": "42fd5bdd",
   "metadata": {
    "papermill": {
     "duration": 0.022444,
     "end_time": "2021-09-08T15:40:55.103790",
     "exception": false,
     "start_time": "2021-09-08T15:40:55.081346",
     "status": "completed"
    },
    "tags": []
   },
   "outputs": [],
   "source": []
  }
 ],
 "metadata": {
  "kernelspec": {
   "display_name": "Python 3",
   "language": "python",
   "name": "python3"
  },
  "language_info": {
   "codemirror_mode": {
    "name": "ipython",
    "version": 3
   },
   "file_extension": ".py",
   "mimetype": "text/x-python",
   "name": "python",
   "nbconvert_exporter": "python",
   "pygments_lexer": "ipython3",
   "version": "3.7.10"
  },
  "papermill": {
   "default_parameters": {},
   "duration": 212.712929,
   "end_time": "2021-09-08T15:40:57.933750",
   "environment_variables": {},
   "exception": null,
   "input_path": "__notebook__.ipynb",
   "output_path": "__notebook__.ipynb",
   "parameters": {},
   "start_time": "2021-09-08T15:37:25.220821",
   "version": "2.3.3"
  }
 },
 "nbformat": 4,
 "nbformat_minor": 5
}
