{
 "cells": [
  {
   "cell_type": "markdown",
   "id": "d40ae199",
   "metadata": {
    "papermill": {
     "duration": 0.019253,
     "end_time": "2021-09-07T10:28:31.204831",
     "exception": false,
     "start_time": "2021-09-07T10:28:31.185578",
     "status": "completed"
    },
    "tags": []
   },
   "source": [
    "# Adding post-processing to add +0.01 to Torch's model\n",
    "\n",
    "###  This code is nearly identical to @rhtsingh's work here: https://www.kaggle.com/rhtsingh/chaii-qa-5-fold-xlmroberta-torch-infer\n",
    "\n",
    "### I just added some basic post-processing that helped improve the leaderboard score. I'm sure there are more rules that can lead to even better performance."
   ]
  },
  {
   "cell_type": "markdown",
   "id": "52f9b408",
   "metadata": {
    "papermill": {
     "duration": 0.017762,
     "end_time": "2021-09-07T10:28:31.240591",
     "exception": false,
     "start_time": "2021-09-07T10:28:31.222829",
     "status": "completed"
    },
    "tags": []
   },
   "source": [
    "### Import Dependencies"
   ]
  },
  {
   "cell_type": "code",
   "execution_count": 1,
   "id": "0defefef",
   "metadata": {
    "_cell_guid": "b1076dfc-b9ad-4769-8c92-a6c4dae69d19",
    "_uuid": "8f2839f25d086af736a60e9eeb907d3b93b6e0e5",
    "execution": {
     "iopub.execute_input": "2021-09-07T10:28:31.282668Z",
     "iopub.status.busy": "2021-09-07T10:28:31.280754Z",
     "iopub.status.idle": "2021-09-07T10:28:39.966381Z",
     "shell.execute_reply": "2021-09-07T10:28:39.964342Z",
     "shell.execute_reply.started": "2021-09-07T02:38:31.088316Z"
    },
    "papermill": {
     "duration": 8.708487,
     "end_time": "2021-09-07T10:28:39.966653",
     "exception": false,
     "start_time": "2021-09-07T10:28:31.258166",
     "status": "completed"
    },
    "tags": []
   },
   "outputs": [
    {
     "name": "stdout",
     "output_type": "stream",
     "text": [
      "Apex AMP Installed :: False\n"
     ]
    }
   ],
   "source": [
    "import os\n",
    "import gc\n",
    "gc.enable()\n",
    "import math\n",
    "import json\n",
    "import time\n",
    "import random\n",
    "import multiprocessing\n",
    "import warnings\n",
    "warnings.filterwarnings(\"ignore\", category=UserWarning)\n",
    "\n",
    "import numpy as np\n",
    "import pandas as pd\n",
    "from tqdm import tqdm, trange\n",
    "from sklearn import model_selection\n",
    "\n",
    "import torch\n",
    "import torch.nn as nn\n",
    "import torch.nn.functional as F\n",
    "from torch.nn import Parameter\n",
    "import torch.optim as optim\n",
    "from torch.utils.data import (\n",
    "    Dataset, DataLoader,\n",
    "    SequentialSampler, RandomSampler\n",
    ")\n",
    "from torch.utils.data.distributed import DistributedSampler\n",
    "\n",
    "try:\n",
    "    from apex import amp\n",
    "    APEX_INSTALLED = True\n",
    "except ImportError:\n",
    "    APEX_INSTALLED = False\n",
    "\n",
    "import transformers\n",
    "from transformers import (\n",
    "    WEIGHTS_NAME,\n",
    "    AdamW,\n",
    "    AutoConfig,\n",
    "    AutoModel,\n",
    "    AutoTokenizer,\n",
    "    get_cosine_schedule_with_warmup,\n",
    "    get_linear_schedule_with_warmup,\n",
    "    logging,\n",
    "    MODEL_FOR_QUESTION_ANSWERING_MAPPING,\n",
    ")\n",
    "logging.set_verbosity_warning()\n",
    "logging.set_verbosity_error()\n",
    "\n",
    "def fix_all_seeds(seed):\n",
    "    np.random.seed(seed)\n",
    "    random.seed(seed)\n",
    "    os.environ['PYTHONHASHSEED'] = str(seed)\n",
    "    torch.manual_seed(seed)\n",
    "    torch.cuda.manual_seed(seed)\n",
    "    torch.cuda.manual_seed_all(seed)\n",
    "\n",
    "def optimal_num_of_loader_workers():\n",
    "    num_cpus = multiprocessing.cpu_count()\n",
    "    num_gpus = torch.cuda.device_count()\n",
    "    optimal_value = min(num_cpus, num_gpus*4) if num_gpus else num_cpus - 1\n",
    "    return optimal_value\n",
    "\n",
    "print(f\"Apex AMP Installed :: {APEX_INSTALLED}\")\n",
    "MODEL_CONFIG_CLASSES = list(MODEL_FOR_QUESTION_ANSWERING_MAPPING.keys())\n",
    "MODEL_TYPES = tuple(conf.model_type for conf in MODEL_CONFIG_CLASSES)"
   ]
  },
  {
   "cell_type": "markdown",
   "id": "cb9eebf4",
   "metadata": {
    "papermill": {
     "duration": 0.018999,
     "end_time": "2021-09-07T10:28:40.005470",
     "exception": false,
     "start_time": "2021-09-07T10:28:39.986471",
     "status": "completed"
    },
    "tags": []
   },
   "source": [
    "### Configuration"
   ]
  },
  {
   "cell_type": "code",
   "execution_count": 2,
   "id": "1d6165e2",
   "metadata": {
    "execution": {
     "iopub.execute_input": "2021-09-07T10:28:40.050725Z",
     "iopub.status.busy": "2021-09-07T10:28:40.049665Z",
     "iopub.status.idle": "2021-09-07T10:28:40.053184Z",
     "shell.execute_reply": "2021-09-07T10:28:40.052436Z",
     "shell.execute_reply.started": "2021-09-07T02:38:31.490055Z"
    },
    "papermill": {
     "duration": 0.029353,
     "end_time": "2021-09-07T10:28:40.053334",
     "exception": false,
     "start_time": "2021-09-07T10:28:40.023981",
     "status": "completed"
    },
    "tags": []
   },
   "outputs": [],
   "source": [
    "class Config:\n",
    "    # model\n",
    "    model_type = 'xlm_roberta'\n",
    "    model_name_or_path = \"../input/xlm-roberta-squad2/deepset/xlm-roberta-large-squad2/\"\n",
    "    config_name = \"../input/xlm-roberta-squad2/deepset/xlm-roberta-large-squad2/\"\n",
    "    fp16 = True if APEX_INSTALLED else False\n",
    "    fp16_opt_level = \"O1\"\n",
    "    gradient_accumulation_steps = 8#2\n",
    "\n",
    "    # tokenizer\n",
    "    tokenizer_name = \"../input/xlm-roberta-squad2/deepset/xlm-roberta-large-squad2/\"\n",
    "    max_seq_length = 384\n",
    "    doc_stride = 128\n",
    "\n",
    "    # train\n",
    "    epochs = 1\n",
    "    train_batch_size = 4\n",
    "    eval_batch_size = 16#4#8\n",
    "\n",
    "    # optimizer\n",
    "    optimizer_type = 'AdamW'\n",
    "    learning_rate = 1.5e-5\n",
    "    weight_decay = 1e-2\n",
    "    epsilon = 1e-8\n",
    "    max_grad_norm = 1.0\n",
    "\n",
    "    # scheduler\n",
    "    decay_name = 'linear-warmup'\n",
    "    warmup_ratio = 0.1\n",
    "\n",
    "    # logging\n",
    "    logging_steps = 10\n",
    "\n",
    "    # evaluate\n",
    "    output_dir = 'output'\n",
    "    seed = 2021"
   ]
  },
  {
   "cell_type": "markdown",
   "id": "5f8ea323",
   "metadata": {
    "papermill": {
     "duration": 0.01812,
     "end_time": "2021-09-07T10:28:40.090354",
     "exception": false,
     "start_time": "2021-09-07T10:28:40.072234",
     "status": "completed"
    },
    "tags": []
   },
   "source": [
    "### Dataset Retriever"
   ]
  },
  {
   "cell_type": "code",
   "execution_count": 3,
   "id": "f7863198",
   "metadata": {
    "execution": {
     "iopub.execute_input": "2021-09-07T10:28:40.153698Z",
     "iopub.status.busy": "2021-09-07T10:28:40.152688Z",
     "iopub.status.idle": "2021-09-07T10:28:40.155874Z",
     "shell.execute_reply": "2021-09-07T10:28:40.156383Z",
     "shell.execute_reply.started": "2021-09-07T02:38:31.903493Z"
    },
    "papermill": {
     "duration": 0.034614,
     "end_time": "2021-09-07T10:28:40.156550",
     "exception": false,
     "start_time": "2021-09-07T10:28:40.121936",
     "status": "completed"
    },
    "tags": []
   },
   "outputs": [],
   "source": [
    "class DatasetRetriever(Dataset):\n",
    "    def __init__(self, features, mode='train'):\n",
    "        super(DatasetRetriever, self).__init__()\n",
    "        self.features = features\n",
    "        self.mode = mode\n",
    "        \n",
    "    def __len__(self):\n",
    "        return len(self.features)\n",
    "    \n",
    "    def __getitem__(self, item):   \n",
    "        feature = self.features[item]\n",
    "        if self.mode == 'train':\n",
    "            return {\n",
    "                'input_ids':torch.tensor(feature['input_ids'], dtype=torch.long),\n",
    "                'attention_mask':torch.tensor(feature['attention_mask'], dtype=torch.long),\n",
    "                'offset_mapping':torch.tensor(feature['offset_mapping'], dtype=torch.long),\n",
    "                'start_position':torch.tensor(feature['start_position'], dtype=torch.long),\n",
    "                'end_position':torch.tensor(feature['end_position'], dtype=torch.long)\n",
    "            }\n",
    "        else:\n",
    "            return {\n",
    "                'input_ids':torch.tensor(feature['input_ids'], dtype=torch.long),\n",
    "                'attention_mask':torch.tensor(feature['attention_mask'], dtype=torch.long),\n",
    "                'offset_mapping':feature['offset_mapping'],\n",
    "                'sequence_ids':feature['sequence_ids'],\n",
    "                'id':feature['example_id'],\n",
    "                'context': feature['context'],\n",
    "                'question': feature['question']\n",
    "            }"
   ]
  },
  {
   "cell_type": "markdown",
   "id": "e9cc9921",
   "metadata": {
    "papermill": {
     "duration": 0.017669,
     "end_time": "2021-09-07T10:28:40.192845",
     "exception": false,
     "start_time": "2021-09-07T10:28:40.175176",
     "status": "completed"
    },
    "tags": []
   },
   "source": [
    "### Model"
   ]
  },
  {
   "cell_type": "code",
   "execution_count": 4,
   "id": "7d01b52e",
   "metadata": {
    "execution": {
     "iopub.execute_input": "2021-09-07T10:28:40.239123Z",
     "iopub.status.busy": "2021-09-07T10:28:40.238164Z",
     "iopub.status.idle": "2021-09-07T10:28:40.241905Z",
     "shell.execute_reply": "2021-09-07T10:28:40.241325Z",
     "shell.execute_reply.started": "2021-09-07T02:38:32.314868Z"
    },
    "papermill": {
     "duration": 0.031336,
     "end_time": "2021-09-07T10:28:40.242049",
     "exception": false,
     "start_time": "2021-09-07T10:28:40.210713",
     "status": "completed"
    },
    "tags": []
   },
   "outputs": [],
   "source": [
    "class Model(nn.Module):\n",
    "    def __init__(self, modelname_or_path, config):\n",
    "        super(Model, self).__init__()\n",
    "        self.config = config\n",
    "        self.xlm_roberta = AutoModel.from_pretrained(modelname_or_path, config=config)\n",
    "        self.qa_outputs = nn.Linear(config.hidden_size, 2)\n",
    "        self.dropout = nn.Dropout(config.hidden_dropout_prob)\n",
    "        self._init_weights(self.qa_outputs)\n",
    "        \n",
    "    def _init_weights(self, module):\n",
    "        if isinstance(module, nn.Linear):\n",
    "            module.weight.data.normal_(mean=0.0, std=self.config.initializer_range)\n",
    "            if module.bias is not None:\n",
    "                module.bias.data.zero_()\n",
    "\n",
    "    def forward(\n",
    "        self, \n",
    "        input_ids, \n",
    "        attention_mask=None, \n",
    "    ):\n",
    "        outputs = self.xlm_roberta(\n",
    "            input_ids,\n",
    "            attention_mask=attention_mask,\n",
    "        )\n",
    "\n",
    "        sequence_output = outputs[0]\n",
    "        pooled_output = outputs[1]\n",
    "        \n",
    "        # sequence_output = self.dropout(sequence_output)\n",
    "        qa_logits = self.qa_outputs(sequence_output)\n",
    "        \n",
    "        start_logits, end_logits = qa_logits.split(1, dim=-1)\n",
    "        start_logits = start_logits.squeeze(-1)\n",
    "        end_logits = end_logits.squeeze(-1)\n",
    "    \n",
    "        return start_logits, end_logits"
   ]
  },
  {
   "cell_type": "markdown",
   "id": "896cffaf",
   "metadata": {
    "papermill": {
     "duration": 0.018631,
     "end_time": "2021-09-07T10:28:40.278195",
     "exception": false,
     "start_time": "2021-09-07T10:28:40.259564",
     "status": "completed"
    },
    "tags": []
   },
   "source": [
    "### Utilities"
   ]
  },
  {
   "cell_type": "code",
   "execution_count": 5,
   "id": "f0a14f72",
   "metadata": {
    "execution": {
     "iopub.execute_input": "2021-09-07T10:28:40.319522Z",
     "iopub.status.busy": "2021-09-07T10:28:40.318617Z",
     "iopub.status.idle": "2021-09-07T10:28:40.321685Z",
     "shell.execute_reply": "2021-09-07T10:28:40.322377Z",
     "shell.execute_reply.started": "2021-09-07T02:38:32.682473Z"
    },
    "papermill": {
     "duration": 0.026425,
     "end_time": "2021-09-07T10:28:40.322549",
     "exception": false,
     "start_time": "2021-09-07T10:28:40.296124",
     "status": "completed"
    },
    "tags": []
   },
   "outputs": [],
   "source": [
    "def make_model(args):\n",
    "    config = AutoConfig.from_pretrained(args.config_name)\n",
    "    tokenizer = AutoTokenizer.from_pretrained(args.tokenizer_name)\n",
    "    model = Model(args.model_name_or_path, config=config)\n",
    "    return config, tokenizer, model"
   ]
  },
  {
   "cell_type": "markdown",
   "id": "eaac043e",
   "metadata": {
    "papermill": {
     "duration": 0.017663,
     "end_time": "2021-09-07T10:28:40.358711",
     "exception": false,
     "start_time": "2021-09-07T10:28:40.341048",
     "status": "completed"
    },
    "tags": []
   },
   "source": [
    "### Covert Examples to Features (Preprocess)"
   ]
  },
  {
   "cell_type": "code",
   "execution_count": 6,
   "id": "e7358a76",
   "metadata": {
    "execution": {
     "iopub.execute_input": "2021-09-07T10:28:40.404570Z",
     "iopub.status.busy": "2021-09-07T10:28:40.403693Z",
     "iopub.status.idle": "2021-09-07T10:28:40.407166Z",
     "shell.execute_reply": "2021-09-07T10:28:40.406599Z",
     "shell.execute_reply.started": "2021-09-07T02:38:33.077353Z"
    },
    "papermill": {
     "duration": 0.029719,
     "end_time": "2021-09-07T10:28:40.407287",
     "exception": false,
     "start_time": "2021-09-07T10:28:40.377568",
     "status": "completed"
    },
    "tags": []
   },
   "outputs": [],
   "source": [
    "def prepare_test_features(args, example, tokenizer):\n",
    "    example[\"question\"] = example[\"question\"].lstrip()\n",
    "    \n",
    "    tokenized_example = tokenizer(\n",
    "        example[\"question\"],\n",
    "        example[\"context\"],\n",
    "        truncation=\"only_second\",\n",
    "        max_length=args.max_seq_length,\n",
    "        stride=args.doc_stride,\n",
    "        return_overflowing_tokens=True,\n",
    "        return_offsets_mapping=True,\n",
    "        padding=\"max_length\",\n",
    "    )\n",
    "\n",
    "    features = []\n",
    "    for i in range(len(tokenized_example[\"input_ids\"])):\n",
    "        feature = {}\n",
    "        feature[\"example_id\"] = example['id']\n",
    "        feature['context'] = example['context']\n",
    "        feature['question'] = example['question']\n",
    "        feature['input_ids'] = tokenized_example['input_ids'][i]\n",
    "        feature['attention_mask'] = tokenized_example['attention_mask'][i]\n",
    "        feature['offset_mapping'] = tokenized_example['offset_mapping'][i]\n",
    "        feature['sequence_ids'] = [0 if i is None else i for i in tokenized_example.sequence_ids(i)]\n",
    "        features.append(feature)\n",
    "    return features"
   ]
  },
  {
   "cell_type": "markdown",
   "id": "6512a024",
   "metadata": {
    "papermill": {
     "duration": 0.017536,
     "end_time": "2021-09-07T10:28:40.443502",
     "exception": false,
     "start_time": "2021-09-07T10:28:40.425966",
     "status": "completed"
    },
    "tags": []
   },
   "source": [
    "### Postprocess QA Predictions"
   ]
  },
  {
   "cell_type": "code",
   "execution_count": 7,
   "id": "6e32be4c",
   "metadata": {
    "execution": {
     "iopub.execute_input": "2021-09-07T10:28:40.496230Z",
     "iopub.status.busy": "2021-09-07T10:28:40.495201Z",
     "iopub.status.idle": "2021-09-07T10:28:40.498332Z",
     "shell.execute_reply": "2021-09-07T10:28:40.497749Z",
     "shell.execute_reply.started": "2021-09-07T02:38:33.461056Z"
    },
    "papermill": {
     "duration": 0.036696,
     "end_time": "2021-09-07T10:28:40.498451",
     "exception": false,
     "start_time": "2021-09-07T10:28:40.461755",
     "status": "completed"
    },
    "tags": []
   },
   "outputs": [],
   "source": [
    "import collections\n",
    "\n",
    "def postprocess_qa_predictions(examples, features, raw_predictions, n_best_size = 20, max_answer_length = 30):\n",
    "    all_start_logits, all_end_logits = raw_predictions\n",
    "    \n",
    "    example_id_to_index = {k: i for i, k in enumerate(examples[\"id\"])}\n",
    "    features_per_example = collections.defaultdict(list)\n",
    "    for i, feature in enumerate(features):\n",
    "        features_per_example[example_id_to_index[feature[\"example_id\"]]].append(i)\n",
    "\n",
    "    predictions = collections.OrderedDict()\n",
    "\n",
    "    print(f\"Post-processing {len(examples)} example predictions split into {len(features)} features.\")\n",
    "\n",
    "    for example_index, example in examples.iterrows():\n",
    "        feature_indices = features_per_example[example_index]\n",
    "\n",
    "        min_null_score = None\n",
    "        valid_answers = []\n",
    "        \n",
    "        context = example[\"context\"]\n",
    "        for feature_index in feature_indices:\n",
    "            start_logits = all_start_logits[feature_index]\n",
    "            end_logits = all_end_logits[feature_index]\n",
    "\n",
    "            sequence_ids = features[feature_index][\"sequence_ids\"]\n",
    "            context_index = 1\n",
    "\n",
    "            features[feature_index][\"offset_mapping\"] = [\n",
    "                (o if sequence_ids[k] == context_index else None)\n",
    "                for k, o in enumerate(features[feature_index][\"offset_mapping\"])\n",
    "            ]\n",
    "            offset_mapping = features[feature_index][\"offset_mapping\"]\n",
    "            cls_index = features[feature_index][\"input_ids\"].index(tokenizer.cls_token_id)\n",
    "            feature_null_score = start_logits[cls_index] + end_logits[cls_index]\n",
    "            if min_null_score is None or min_null_score < feature_null_score:\n",
    "                min_null_score = feature_null_score\n",
    "\n",
    "            start_indexes = np.argsort(start_logits)[-1 : -n_best_size - 1 : -1].tolist()\n",
    "            end_indexes = np.argsort(end_logits)[-1 : -n_best_size - 1 : -1].tolist()\n",
    "            for start_index in start_indexes:\n",
    "                for end_index in end_indexes:\n",
    "                    if (\n",
    "                        start_index >= len(offset_mapping)\n",
    "                        or end_index >= len(offset_mapping)\n",
    "                        or offset_mapping[start_index] is None\n",
    "                        or offset_mapping[end_index] is None\n",
    "                    ):\n",
    "                        continue\n",
    "                    # Don't consider answers with a length that is either < 0 or > max_answer_length.\n",
    "                    if end_index < start_index or end_index - start_index + 1 > max_answer_length:\n",
    "                        continue\n",
    "\n",
    "                    start_char = offset_mapping[start_index][0]\n",
    "                    end_char = offset_mapping[end_index][1]\n",
    "                    valid_answers.append(\n",
    "                        {\n",
    "                            \"score\": start_logits[start_index] + end_logits[end_index],\n",
    "                            \"text\": context[start_char: end_char]\n",
    "                        }\n",
    "                    )\n",
    "        \n",
    "        if len(valid_answers) > 0:\n",
    "            best_answer = sorted(valid_answers, key=lambda x: x[\"score\"], reverse=True)[0]\n",
    "        else:\n",
    "            best_answer = {\"text\": \"\", \"score\": 0.0}\n",
    "        \n",
    "        predictions[example[\"id\"]] = best_answer[\"text\"]\n",
    "        \n",
    "        \n",
    "    return predictions"
   ]
  },
  {
   "cell_type": "markdown",
   "id": "d00f128c",
   "metadata": {
    "papermill": {
     "duration": 0.017474,
     "end_time": "2021-09-07T10:28:40.534054",
     "exception": false,
     "start_time": "2021-09-07T10:28:40.516580",
     "status": "completed"
    },
    "tags": []
   },
   "source": [
    "### Data Factory"
   ]
  },
  {
   "cell_type": "code",
   "execution_count": 8,
   "id": "e7331679",
   "metadata": {
    "execution": {
     "iopub.execute_input": "2021-09-07T10:28:40.576342Z",
     "iopub.status.busy": "2021-09-07T10:28:40.575475Z",
     "iopub.status.idle": "2021-09-07T10:28:42.188538Z",
     "shell.execute_reply": "2021-09-07T10:28:42.187936Z",
     "shell.execute_reply.started": "2021-09-07T02:38:33.862418Z"
    },
    "papermill": {
     "duration": 1.63662,
     "end_time": "2021-09-07T10:28:42.188714",
     "exception": false,
     "start_time": "2021-09-07T10:28:40.552094",
     "status": "completed"
    },
    "tags": []
   },
   "outputs": [],
   "source": [
    "test = pd.read_csv('../input/chaii-hindi-and-tamil-question-answering/test.csv')\n",
    "# base_model_path = '../input/chaii-xlmroberta-large-v6/output/'\n",
    "base_model_path = '../input/chaii-qa-5-fold-xlmroberta-torch-fit/output/'\n",
    "\n",
    "tokenizer = AutoTokenizer.from_pretrained(Config().tokenizer_name)\n",
    "\n",
    "test_features = []\n",
    "for i, row in test.iterrows():\n",
    "    test_features += prepare_test_features(Config(), row, tokenizer)\n",
    "\n",
    "args = Config()\n",
    "test_dataset = DatasetRetriever(test_features, mode='test')\n",
    "test_dataloader = DataLoader(\n",
    "    test_dataset,\n",
    "    batch_size=args.eval_batch_size, \n",
    "    sampler=SequentialSampler(test_dataset),\n",
    "    num_workers=optimal_num_of_loader_workers(),\n",
    "    pin_memory=True, \n",
    "    drop_last=False\n",
    ")"
   ]
  },
  {
   "cell_type": "markdown",
   "id": "c450f6b2",
   "metadata": {
    "papermill": {
     "duration": 0.018511,
     "end_time": "2021-09-07T10:28:42.225479",
     "exception": false,
     "start_time": "2021-09-07T10:28:42.206968",
     "status": "completed"
    },
    "tags": []
   },
   "source": [
    "### Intialize Inference"
   ]
  },
  {
   "cell_type": "code",
   "execution_count": 9,
   "id": "ba51c3b6",
   "metadata": {
    "execution": {
     "iopub.execute_input": "2021-09-07T10:28:42.269299Z",
     "iopub.status.busy": "2021-09-07T10:28:42.268374Z",
     "iopub.status.idle": "2021-09-07T10:28:42.272101Z",
     "shell.execute_reply": "2021-09-07T10:28:42.271408Z",
     "shell.execute_reply.started": "2021-09-07T02:38:35.006866Z"
    },
    "papermill": {
     "duration": 0.028742,
     "end_time": "2021-09-07T10:28:42.272221",
     "exception": false,
     "start_time": "2021-09-07T10:28:42.243479",
     "status": "completed"
    },
    "tags": []
   },
   "outputs": [],
   "source": [
    "def get_predictions(checkpoint_path):\n",
    "    config, tokenizer, model = make_model(Config())\n",
    "    model.cuda();\n",
    "    model.load_state_dict(\n",
    "        torch.load(base_model_path + checkpoint_path)\n",
    "    );\n",
    "    \n",
    "    start_logits = []\n",
    "    end_logits = []\n",
    "    for batch in test_dataloader:\n",
    "        with torch.no_grad():\n",
    "            outputs_start, outputs_end = model(batch['input_ids'].cuda(), batch['attention_mask'].cuda())\n",
    "            start_logits.append(outputs_start.cpu().numpy().tolist())\n",
    "            end_logits.append(outputs_end.cpu().numpy().tolist())\n",
    "            del outputs_start, outputs_end\n",
    "    del model, tokenizer, config\n",
    "    gc.collect()\n",
    "    return np.vstack(start_logits), np.vstack(end_logits)"
   ]
  },
  {
   "cell_type": "markdown",
   "id": "83ea9730",
   "metadata": {
    "papermill": {
     "duration": 0.018715,
     "end_time": "2021-09-07T10:28:42.309131",
     "exception": false,
     "start_time": "2021-09-07T10:28:42.290416",
     "status": "completed"
    },
    "tags": []
   },
   "source": [
    "### Ensemble 5-Folds"
   ]
  },
  {
   "cell_type": "code",
   "execution_count": 10,
   "id": "30db6c9e",
   "metadata": {
    "execution": {
     "iopub.execute_input": "2021-09-07T10:28:42.385377Z",
     "iopub.status.busy": "2021-09-07T10:28:42.384331Z",
     "iopub.status.idle": "2021-09-07T10:32:16.026068Z",
     "shell.execute_reply": "2021-09-07T10:32:16.026782Z",
     "shell.execute_reply.started": "2021-09-07T02:38:35.019332Z"
    },
    "papermill": {
     "duration": 213.685224,
     "end_time": "2021-09-07T10:32:16.027020",
     "exception": false,
     "start_time": "2021-09-07T10:28:42.341796",
     "status": "completed"
    },
    "tags": []
   },
   "outputs": [
    {
     "name": "stdout",
     "output_type": "stream",
     "text": [
      "Post-processing 5 example predictions split into 67 features.\n"
     ]
    }
   ],
   "source": [
    "start_logits1, end_logits1 = get_predictions('checkpoint-fold-0/pytorch_model.bin')\n",
    "start_logits2, end_logits2 = get_predictions('checkpoint-fold-1/pytorch_model.bin')\n",
    "start_logits3, end_logits3 = get_predictions('checkpoint-fold-2/pytorch_model.bin')\n",
    "start_logits4, end_logits4 = get_predictions('checkpoint-fold-3/pytorch_model.bin')\n",
    "start_logits5, end_logits5 = get_predictions('checkpoint-fold-4/pytorch_model.bin')\n",
    "\n",
    "start_logits = (start_logits1 + start_logits2 + start_logits3 + start_logits4 + start_logits5) / 5\n",
    "end_logits = (end_logits1 + end_logits2 + end_logits3 + end_logits4 + end_logits5) / 5\n",
    "\n",
    "predictions = postprocess_qa_predictions(test, test_features, (start_logits, end_logits))\n",
    "\n",
    "test['PredictionString'] = test['id'].map(predictions)"
   ]
  },
  {
   "cell_type": "markdown",
   "id": "c62d1713",
   "metadata": {
    "papermill": {
     "duration": 0.016667,
     "end_time": "2021-09-07T10:32:16.062017",
     "exception": false,
     "start_time": "2021-09-07T10:32:16.045350",
     "status": "completed"
    },
    "tags": []
   },
   "source": [
    "# Post-Processing\n",
    "\n",
    "## Based on my EDA ([notebook here](https://www.kaggle.com/nbroad/chaii-qa-character-token-languages-eda)), I came up with simple rules that seem to slightly help scores\n",
    "\n",
    "Basically, if the answer ends in AD, BC, or km, it should probably have a period. This checks if such a span exists in the context, and if so it will correct the prediction.\n",
    "\n",
    "Other than that, this is just getting rid of punctuation and other characters at the beginning and end of words that will ruin the jaccard score."
   ]
  },
  {
   "cell_type": "code",
   "execution_count": 11,
   "id": "cd743f20",
   "metadata": {
    "execution": {
     "iopub.execute_input": "2021-09-07T10:32:16.113059Z",
     "iopub.status.busy": "2021-09-07T10:32:16.112256Z",
     "iopub.status.idle": "2021-09-07T10:32:16.116116Z",
     "shell.execute_reply": "2021-09-07T10:32:16.115412Z",
     "shell.execute_reply.started": "2021-09-07T02:42:15.229728Z"
    },
    "papermill": {
     "duration": 0.036724,
     "end_time": "2021-09-07T10:32:16.116256",
     "exception": false,
     "start_time": "2021-09-07T10:32:16.079532",
     "status": "completed"
    },
    "tags": []
   },
   "outputs": [],
   "source": [
    "bad_starts = [\".\", \",\", \"(\", \")\", \"-\", \"–\",  \",\", \";\"]\n",
    "bad_endings = [\"...\", \"-\", \"(\", \")\", \"–\", \",\", \";\"]\n",
    "\n",
    "tamil_ad = \"கி.பி\"\n",
    "tamil_bc = \"கி.மு\"\n",
    "tamil_km = \"கி.மீ\"\n",
    "hindi_ad = \"ई\"\n",
    "hindi_bc = \"ई.पू\"\n",
    "\n",
    "\n",
    "cleaned_preds = []\n",
    "for pred, context in test[[\"PredictionString\", \"context\"]].to_numpy():\n",
    "    if pred == \"\":\n",
    "        cleaned_preds.append(pred)\n",
    "        continue\n",
    "    while any([pred.startswith(y) for y in bad_starts]):\n",
    "        pred = pred[1:]\n",
    "    while any([pred.endswith(y) for y in bad_endings]):\n",
    "        if pred.endswith(\"...\"):\n",
    "            pred = pred[:-3]\n",
    "        else:\n",
    "            pred = pred[:-1]\n",
    "    \n",
    "    if any([pred.endswith(tamil_ad), pred.endswith(tamil_bc), pred.endswith(tamil_km), pred.endswith(hindi_ad), pred.endswith(hindi_bc)]) and pred+\".\" in context:\n",
    "        pred = pred+\".\"\n",
    "\n",
    "    cleaned_preds.append(pred)\n",
    "\n",
    "test[\"PredictionString\"] = cleaned_preds"
   ]
  },
  {
   "cell_type": "code",
   "execution_count": 12,
   "id": "bd2c1fe2",
   "metadata": {
    "execution": {
     "iopub.execute_input": "2021-09-07T10:32:16.156370Z",
     "iopub.status.busy": "2021-09-07T10:32:16.155626Z",
     "iopub.status.idle": "2021-09-07T10:32:16.175480Z",
     "shell.execute_reply": "2021-09-07T10:32:16.175012Z",
     "shell.execute_reply.started": "2021-09-07T02:42:15.245441Z"
    },
    "papermill": {
     "duration": 0.041804,
     "end_time": "2021-09-07T10:32:16.175596",
     "exception": false,
     "start_time": "2021-09-07T10:32:16.133792",
     "status": "completed"
    },
    "tags": []
   },
   "outputs": [
    {
     "name": "stdout",
     "output_type": "stream",
     "text": [
      "          id                     PredictionString\n",
      "0  22bff3dec                                 येलन\n",
      "1  282758170                       28 नवम्बर 2007\n",
      "2  d60987e0e                        १२ मार्च १८२४\n",
      "3  f99c770dc                                   13\n",
      "4  40dec1964  சுவாமிநாதன் மற்றும் வர்கீஸ் குரியன்\n"
     ]
    }
   ],
   "source": [
    "test[['id', 'PredictionString']].to_csv('submission.csv', index=False)\n",
    "\n",
    "print(test[['id', 'PredictionString']])"
   ]
  },
  {
   "cell_type": "code",
   "execution_count": null,
   "id": "2e2e69ca",
   "metadata": {
    "papermill": {
     "duration": 0.016659,
     "end_time": "2021-09-07T10:32:16.209440",
     "exception": false,
     "start_time": "2021-09-07T10:32:16.192781",
     "status": "completed"
    },
    "tags": []
   },
   "outputs": [],
   "source": []
  }
 ],
 "metadata": {
  "kernelspec": {
   "display_name": "Python 3",
   "language": "python",
   "name": "python3"
  },
  "language_info": {
   "codemirror_mode": {
    "name": "ipython",
    "version": 3
   },
   "file_extension": ".py",
   "mimetype": "text/x-python",
   "name": "python",
   "nbconvert_exporter": "python",
   "pygments_lexer": "ipython3",
   "version": "3.7.10"
  },
  "papermill": {
   "default_parameters": {},
   "duration": 235.9591,
   "end_time": "2021-09-07T10:32:18.869019",
   "environment_variables": {},
   "exception": null,
   "input_path": "__notebook__.ipynb",
   "output_path": "__notebook__.ipynb",
   "parameters": {},
   "start_time": "2021-09-07T10:28:22.909919",
   "version": "2.3.3"
  }
 },
 "nbformat": 4,
 "nbformat_minor": 5
}
