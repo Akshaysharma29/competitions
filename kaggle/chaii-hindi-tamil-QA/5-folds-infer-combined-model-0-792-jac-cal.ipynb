{
 "cells": [
  {
   "cell_type": "markdown",
   "id": "2938aab1",
   "metadata": {
    "execution": {
     "iopub.execute_input": "2021-09-30T21:49:49.137083Z",
     "iopub.status.busy": "2021-09-30T21:49:49.136675Z",
     "iopub.status.idle": "2021-09-30T21:49:49.243477Z",
     "shell.execute_reply": "2021-09-30T21:49:49.242351Z",
     "shell.execute_reply.started": "2021-09-30T21:49:49.136976Z"
    },
    "papermill": {
     "duration": 0.02685,
     "end_time": "2021-11-03T13:34:10.591799",
     "exception": false,
     "start_time": "2021-11-03T13:34:10.564949",
     "status": "completed"
    },
    "tags": []
   },
   "source": [
    "# Making the 0.792 model : \n",
    "\n",
    "### Making the model and Inferencing steps:\n",
    "\n",
    "<ul>  \n",
    "    <li>Using the datasets : chaii, mlqa, squad, tamil_xquad </li>\n",
    "    <li>Training for 2 epochs : <a href=\"https://www.kaggle.com/kishalmandal/chaii-fit-2-epochs-mlqa-xquad-chaii/\">chaii | FIT - 2 epochs | mlqa, xquad, chaii</a> </li>\n",
    "    <li>Training for 7 epochs with tamil_xquad: <a href=\"https://www.kaggle.com/kishalmandal/chaii-fit-7-epochs-extra-tamil-data/\">chaii | FIT - 7 epochs | Extra Tamil Data</a> </li>\n",
    "    <li>Inferencing from 5 folds | fold-0 and fold-1 (7-epochs) | fold-2, fold-3 and fold-4 (2-epochs)| based on cross validation scores and a little bit of experimentation 😜: <a href=\"https://www.kaggle.com/kishalmandal/5-epochs-infer-combined-model-0-792/\">5 epochs | INFER | combined model (0.792)</a></li>\n",
    "    \n",
    "    \n",
    "</ul>\n",
    "\n",
    "### References : \n",
    "\n",
    "<ul> \n",
    "    <li>For training: <a href=\"https://www.kaggle.com/rhtsingh/chaii-qa-5-fold-xlmroberta-torch-fit\">chaii QA - 5 Fold XLMRoberta Torch | FIT</a> by <a href=\"https://www.kaggle.com/rhtsingh\">torch</a></li>\n",
    "    <li>For Inference: <a href=\"https://www.kaggle.com/rhtsingh/chaii-qa-5-fold-xlmroberta-torch-infer\">chaii QA - 5 Fold XLMRoberta Torch | Infer</a> by <a href=\"https://www.kaggle.com/rhtsingh\">torch</a></li>\n",
    "    <li>For post processing outputs: <a href=\"https://www.kaggle.com/nbroad/chaii-qa-torch-5-fold-with-post-processing-765\">chaii QA-Torch 5 fold with post-processing (.765)</a> by <a href=\"https://www.kaggle.com/nbroad\">Nicholas Broad 🟢</a></li>\n",
    "</ul>\n",
    "\n",
    "\n",
    "### Important Notes:\n",
    "\n",
    "<ul>\n",
    "    <li>Some one experimented with the max_seq_length and doc_stride to bring my previous 0.785 to 0.792. Then I performed some more experiments and saw more than 400 decreases the score (~0.3-0.4) while decreasing below 400 upto around 384 does not change the score by much (~0.2)</li>\n",
    "    <li>Vigourous change or lr and decay rates reduces the performance.</li>\n",
    "    <li>I took weighted average based on the validation loss increased score by (~0.01)</li>\n",
    "</ul>"
   ]
  },
  {
   "cell_type": "code",
   "execution_count": 1,
   "id": "dc6d55ec",
   "metadata": {
    "execution": {
     "iopub.execute_input": "2021-11-03T13:34:10.651157Z",
     "iopub.status.busy": "2021-11-03T13:34:10.648954Z",
     "iopub.status.idle": "2021-11-03T13:34:22.433803Z",
     "shell.execute_reply": "2021-11-03T13:34:22.434779Z",
     "shell.execute_reply.started": "2021-11-03T13:21:25.335151Z"
    },
    "papermill": {
     "duration": 11.816166,
     "end_time": "2021-11-03T13:34:22.435225",
     "exception": false,
     "start_time": "2021-11-03T13:34:10.619059",
     "status": "completed"
    },
    "tags": []
   },
   "outputs": [
    {
     "name": "stderr",
     "output_type": "stream",
     "text": [
      "2021-11-03 13:34:17.035882: I tensorflow/stream_executor/platform/default/dso_loader.cc:49] Successfully opened dynamic library libcudart.so.11.0\n"
     ]
    },
    {
     "name": "stdout",
     "output_type": "stream",
     "text": [
      "Apex AMP Installed :: False\n"
     ]
    }
   ],
   "source": [
    "import os\n",
    "os.environ[\"TOKENIZERS_PARALLELISM\"] = \"false\"\n",
    "import gc\n",
    "gc.enable()\n",
    "import math\n",
    "import json\n",
    "import time\n",
    "import random\n",
    "import multiprocessing\n",
    "import warnings\n",
    "warnings.filterwarnings(\"ignore\", category=UserWarning)\n",
    "\n",
    "import numpy as np\n",
    "import pandas as pd\n",
    "from tqdm import tqdm, trange\n",
    "from sklearn import model_selection\n",
    "from string import punctuation\n",
    "\n",
    "import torch\n",
    "import torch.nn as nn\n",
    "import torch.nn.functional as F\n",
    "from torch.nn import Parameter\n",
    "import torch.optim as optim\n",
    "from torch.utils.data import (\n",
    "    Dataset, DataLoader,\n",
    "    SequentialSampler, RandomSampler\n",
    ")\n",
    "from torch.utils.data.distributed import DistributedSampler\n",
    "\n",
    "try:\n",
    "    from apex import amp\n",
    "    APEX_INSTALLED = True\n",
    "except ImportError:\n",
    "    APEX_INSTALLED = False\n",
    "\n",
    "import transformers\n",
    "from transformers import (\n",
    "    WEIGHTS_NAME,\n",
    "    AdamW,\n",
    "    AutoConfig,\n",
    "    AutoModel,\n",
    "    AutoTokenizer,\n",
    "    get_cosine_schedule_with_warmup,\n",
    "    get_linear_schedule_with_warmup,\n",
    "    logging,\n",
    "    MODEL_FOR_QUESTION_ANSWERING_MAPPING,\n",
    ")\n",
    "logging.set_verbosity_warning()\n",
    "logging.set_verbosity_error()\n",
    "\n",
    "def fix_all_seeds(seed):\n",
    "    np.random.seed(seed)\n",
    "    random.seed(seed)\n",
    "    os.environ['PYTHONHASHSEED'] = str(seed)\n",
    "    torch.manual_seed(seed)\n",
    "    torch.cuda.manual_seed(seed)\n",
    "    torch.cuda.manual_seed_all(seed)\n",
    "\n",
    "def optimal_num_of_loader_workers():\n",
    "    num_cpus = multiprocessing.cpu_count()\n",
    "    num_gpus = torch.cuda.device_count()\n",
    "    optimal_value = min(num_cpus, num_gpus*4) if num_gpus else num_cpus - 1\n",
    "    return optimal_value\n",
    "\n",
    "print(f\"Apex AMP Installed :: {APEX_INSTALLED}\")\n",
    "MODEL_CONFIG_CLASSES = list(MODEL_FOR_QUESTION_ANSWERING_MAPPING.keys())\n",
    "MODEL_TYPES = tuple(conf.model_type for conf in MODEL_CONFIG_CLASSES)"
   ]
  },
  {
   "cell_type": "code",
   "execution_count": 2,
   "id": "34993a31",
   "metadata": {
    "execution": {
     "iopub.execute_input": "2021-11-03T13:34:22.494954Z",
     "iopub.status.busy": "2021-11-03T13:34:22.493778Z",
     "iopub.status.idle": "2021-11-03T13:34:22.497209Z",
     "shell.execute_reply": "2021-11-03T13:34:22.496728Z",
     "shell.execute_reply.started": "2021-11-03T13:21:35.858246Z"
    },
    "papermill": {
     "duration": 0.035286,
     "end_time": "2021-11-03T13:34:22.497332",
     "exception": false,
     "start_time": "2021-11-03T13:34:22.462046",
     "status": "completed"
    },
    "tags": []
   },
   "outputs": [],
   "source": [
    "class Config:\n",
    "    # model\n",
    "    model_type = 'xlm_roberta'\n",
    "    model_name_or_path = \"../input/5foldsroberta/output/checkpoint-fold-0\"#\"../input/xlm-roberta-large-squad-v2\"\n",
    "    config_name = \"../input/5foldsroberta/output/checkpoint-fold-0\"#\"../input/xlm-roberta-large-squad-v2\"\n",
    "    fp16 = True if APEX_INSTALLED else False\n",
    "    fp16_opt_level = \"O1\"\n",
    "    gradient_accumulation_steps = 2\n",
    "\n",
    "    # tokenizer\n",
    "    tokenizer_name = \"../input/5foldsroberta/output/checkpoint-fold-0\"#\"../input/xlm-roberta-large-squad-v2\"\n",
    "    max_seq_length = 400\n",
    "    doc_stride = 135\n",
    "\n",
    "    # train\n",
    "    epochs = 1\n",
    "    train_batch_size = 4\n",
    "    eval_batch_size = 128\n",
    "\n",
    "    # optimzer\n",
    "    optimizer_type = 'AdamW'\n",
    "    learning_rate = 1e-5\n",
    "    weight_decay = 1e-2\n",
    "    epsilon = 1e-8\n",
    "    max_grad_norm = 1.0\n",
    "\n",
    "    # scheduler\n",
    "    decay_name = 'linear-warmup'\n",
    "    warmup_ratio = 0.1\n",
    "\n",
    "    # logging\n",
    "    logging_steps = 10\n",
    "\n",
    "    # evaluate\n",
    "    output_dir = 'output'\n",
    "    seed = 2021"
   ]
  },
  {
   "cell_type": "code",
   "execution_count": 3,
   "id": "a8859fb2",
   "metadata": {
    "execution": {
     "iopub.execute_input": "2021-11-03T13:34:22.560290Z",
     "iopub.status.busy": "2021-11-03T13:34:22.559248Z",
     "iopub.status.idle": "2021-11-03T13:34:22.562185Z",
     "shell.execute_reply": "2021-11-03T13:34:22.562908Z",
     "shell.execute_reply.started": "2021-11-03T13:21:35.867331Z"
    },
    "papermill": {
     "duration": 0.040104,
     "end_time": "2021-11-03T13:34:22.563049",
     "exception": false,
     "start_time": "2021-11-03T13:34:22.522945",
     "status": "completed"
    },
    "tags": []
   },
   "outputs": [],
   "source": [
    "class DatasetRetriever(Dataset):\n",
    "    def __init__(self, features, mode='train'):\n",
    "        super(DatasetRetriever, self).__init__()\n",
    "        self.features = features\n",
    "        self.mode = mode\n",
    "        \n",
    "    def __len__(self):\n",
    "        return len(self.features)\n",
    "    \n",
    "    def __getitem__(self, item):   \n",
    "        feature = self.features[item]\n",
    "        if self.mode == 'train':\n",
    "            return {\n",
    "                'input_ids':torch.tensor(feature['input_ids'], dtype=torch.long),\n",
    "                'attention_mask':torch.tensor(feature['attention_mask'], dtype=torch.long),\n",
    "                'offset_mapping':torch.tensor(feature['offset_mapping'], dtype=torch.long),\n",
    "                'start_position':torch.tensor(feature['start_position'], dtype=torch.long),\n",
    "                'end_position':torch.tensor(feature['end_position'], dtype=torch.long)\n",
    "            }\n",
    "        else:\n",
    "            return {\n",
    "                'input_ids':torch.tensor(feature['input_ids'], dtype=torch.long),\n",
    "                'attention_mask':torch.tensor(feature['attention_mask'], dtype=torch.long),\n",
    "                'offset_mapping':feature['offset_mapping'],\n",
    "                'sequence_ids':feature['sequence_ids'],\n",
    "                'id':feature['example_id'],\n",
    "                'context': feature['context'],\n",
    "                'question': feature['question']\n",
    "            }"
   ]
  },
  {
   "cell_type": "code",
   "execution_count": 4,
   "id": "1adb02fe",
   "metadata": {
    "execution": {
     "iopub.execute_input": "2021-11-03T13:34:22.624932Z",
     "iopub.status.busy": "2021-11-03T13:34:22.623909Z",
     "iopub.status.idle": "2021-11-03T13:34:22.626954Z",
     "shell.execute_reply": "2021-11-03T13:34:22.627576Z",
     "shell.execute_reply.started": "2021-11-03T13:21:35.883736Z"
    },
    "papermill": {
     "duration": 0.039923,
     "end_time": "2021-11-03T13:34:22.627780",
     "exception": false,
     "start_time": "2021-11-03T13:34:22.587857",
     "status": "completed"
    },
    "tags": []
   },
   "outputs": [],
   "source": [
    "class Model(nn.Module):\n",
    "    def __init__(self, modelname_or_path, config):\n",
    "        super(Model, self).__init__()\n",
    "        self.config = config\n",
    "        self.xlm_roberta = AutoModel.from_pretrained(modelname_or_path, config=config)\n",
    "        self.qa_outputs = nn.Linear(config.hidden_size, 2)\n",
    "        self.dropout = nn.Dropout(config.hidden_dropout_prob)\n",
    "        self._init_weights(self.qa_outputs)\n",
    "        \n",
    "    def _init_weights(self, module):\n",
    "        if isinstance(module, nn.Linear):\n",
    "            module.weight.data.normal_(mean=0.0, std=self.config.initializer_range)\n",
    "            if module.bias is not None:\n",
    "                module.bias.data.zero_()\n",
    "\n",
    "    def forward(\n",
    "        self, \n",
    "        input_ids, \n",
    "        attention_mask=None, \n",
    "    ):\n",
    "        outputs = self.xlm_roberta(\n",
    "            input_ids,\n",
    "            attention_mask=attention_mask,\n",
    "        )\n",
    "\n",
    "        sequence_output = outputs[0]\n",
    "        pooled_output = outputs[1]\n",
    "        \n",
    "        # sequence_output = self.dropout(sequence_output)\n",
    "        qa_logits = self.qa_outputs(sequence_output)\n",
    "        \n",
    "        start_logits, end_logits = qa_logits.split(1, dim=-1)\n",
    "        start_logits = start_logits.squeeze(-1)\n",
    "        end_logits = end_logits.squeeze(-1)\n",
    "    \n",
    "        return start_logits, end_logits"
   ]
  },
  {
   "cell_type": "code",
   "execution_count": 5,
   "id": "a04ffcc1",
   "metadata": {
    "execution": {
     "iopub.execute_input": "2021-11-03T13:34:22.683755Z",
     "iopub.status.busy": "2021-11-03T13:34:22.682734Z",
     "iopub.status.idle": "2021-11-03T13:34:22.685238Z",
     "shell.execute_reply": "2021-11-03T13:34:22.685746Z",
     "shell.execute_reply.started": "2021-11-03T13:21:35.894994Z"
    },
    "papermill": {
     "duration": 0.033127,
     "end_time": "2021-11-03T13:34:22.685884",
     "exception": false,
     "start_time": "2021-11-03T13:34:22.652757",
     "status": "completed"
    },
    "tags": []
   },
   "outputs": [],
   "source": [
    "def make_model(args):\n",
    "    config = AutoConfig.from_pretrained(args.config_name)\n",
    "    tokenizer = AutoTokenizer.from_pretrained(args.tokenizer_name)\n",
    "    model = Model(args.model_name_or_path, config=config)\n",
    "    return config, tokenizer, model"
   ]
  },
  {
   "cell_type": "code",
   "execution_count": 6,
   "id": "24ca7284",
   "metadata": {
    "execution": {
     "iopub.execute_input": "2021-11-03T13:34:22.741529Z",
     "iopub.status.busy": "2021-11-03T13:34:22.740402Z",
     "iopub.status.idle": "2021-11-03T13:34:22.750215Z",
     "shell.execute_reply": "2021-11-03T13:34:22.749638Z",
     "shell.execute_reply.started": "2021-11-03T13:21:35.905945Z"
    },
    "papermill": {
     "duration": 0.038423,
     "end_time": "2021-11-03T13:34:22.750342",
     "exception": false,
     "start_time": "2021-11-03T13:34:22.711919",
     "status": "completed"
    },
    "tags": []
   },
   "outputs": [],
   "source": [
    "def prepare_test_features(args, example, tokenizer):\n",
    "    example[\"question\"] = example[\"question\"].lstrip()\n",
    "    \n",
    "    tokenized_example = tokenizer(\n",
    "        example[\"question\"],\n",
    "        example[\"context\"],\n",
    "        truncation=\"only_second\",\n",
    "        max_length=args.max_seq_length,\n",
    "        stride=args.doc_stride,\n",
    "        return_overflowing_tokens=True,\n",
    "        return_offsets_mapping=True,\n",
    "        padding=\"max_length\",\n",
    "    )\n",
    "\n",
    "    features = []\n",
    "    for i in range(len(tokenized_example[\"input_ids\"])):\n",
    "        feature = {}\n",
    "        feature[\"example_id\"] = example['id']\n",
    "        feature['context'] = example['context']\n",
    "        feature['question'] = example['question']\n",
    "        feature['input_ids'] = tokenized_example['input_ids'][i]\n",
    "        feature['attention_mask'] = tokenized_example['attention_mask'][i]\n",
    "        feature['offset_mapping'] = tokenized_example['offset_mapping'][i]\n",
    "        feature['sequence_ids'] = [0 if i is None else i for i in tokenized_example.sequence_ids(i)]\n",
    "        features.append(feature)\n",
    "    return features"
   ]
  },
  {
   "cell_type": "code",
   "execution_count": 7,
   "id": "0fac9d21",
   "metadata": {
    "execution": {
     "iopub.execute_input": "2021-11-03T13:34:22.809976Z",
     "iopub.status.busy": "2021-11-03T13:34:22.809277Z",
     "iopub.status.idle": "2021-11-03T13:35:36.557280Z",
     "shell.execute_reply": "2021-11-03T13:35:36.556309Z",
     "shell.execute_reply.started": "2021-11-03T13:21:35.916402Z"
    },
    "papermill": {
     "duration": 73.781929,
     "end_time": "2021-11-03T13:35:36.557445",
     "exception": false,
     "start_time": "2021-11-03T13:34:22.775516",
     "status": "completed"
    },
    "tags": []
   },
   "outputs": [],
   "source": [
    "# test = pd.read_csv('../input/chaii-hindi-and-tamil-question-answering/test.csv')\n",
    "test = pd.read_csv('../input/chaii-hindi-and-tamil-question-answering/train.csv')#[:1]\n",
    "\n",
    "test['context'] = test['context'].apply(lambda x: ' '.join(x.split()))\n",
    "test['question'] = test['question'].apply(lambda x: ' '.join(x.split()))\n",
    "\n",
    "#base_model_path = '../input/chaii-qa-5-fold-xlmroberta-torch-fit'\n",
    "\n",
    "tokenizer = AutoTokenizer.from_pretrained(Config().tokenizer_name)\n",
    "\n",
    "test_features = []\n",
    "for i, row in test.iterrows():\n",
    "    test_features += prepare_test_features(Config(), row, tokenizer)\n",
    "\n",
    "args = Config()\n",
    "test_dataset = DatasetRetriever(test_features, mode='test')\n",
    "test_dataloader = DataLoader(\n",
    "    test_dataset,\n",
    "    batch_size=args.eval_batch_size, \n",
    "    sampler=SequentialSampler(test_dataset),\n",
    "    num_workers=optimal_num_of_loader_workers(),\n",
    "    pin_memory=True, \n",
    "    drop_last=False\n",
    ")"
   ]
  },
  {
   "cell_type": "code",
   "execution_count": 8,
   "id": "316455c1",
   "metadata": {
    "execution": {
     "iopub.execute_input": "2021-11-03T13:35:36.612212Z",
     "iopub.status.busy": "2021-11-03T13:35:36.610336Z",
     "iopub.status.idle": "2021-11-03T13:35:36.615444Z",
     "shell.execute_reply": "2021-11-03T13:35:36.614884Z",
     "shell.execute_reply.started": "2021-11-03T13:21:37.791676Z"
    },
    "papermill": {
     "duration": 0.032745,
     "end_time": "2021-11-03T13:35:36.615579",
     "exception": false,
     "start_time": "2021-11-03T13:35:36.582834",
     "status": "completed"
    },
    "tags": []
   },
   "outputs": [],
   "source": [
    "base_model = '../input/5foldsroberta/output/'"
   ]
  },
  {
   "cell_type": "code",
   "execution_count": 9,
   "id": "30d91a89",
   "metadata": {
    "execution": {
     "iopub.execute_input": "2021-11-03T13:35:36.674662Z",
     "iopub.status.busy": "2021-11-03T13:35:36.673645Z",
     "iopub.status.idle": "2021-11-03T13:35:36.676413Z",
     "shell.execute_reply": "2021-11-03T13:35:36.676978Z",
     "shell.execute_reply.started": "2021-11-03T13:21:37.802919Z"
    },
    "papermill": {
     "duration": 0.035822,
     "end_time": "2021-11-03T13:35:36.677148",
     "exception": false,
     "start_time": "2021-11-03T13:35:36.641326",
     "status": "completed"
    },
    "tags": []
   },
   "outputs": [],
   "source": [
    "def get_predictions(checkpoint_path):\n",
    "    config, tokenizer, model = make_model(Config())\n",
    "    model.cuda();\n",
    "    model.load_state_dict(\n",
    "        torch.load(checkpoint_path)\n",
    "    );\n",
    "    \n",
    "    start_logits = []\n",
    "    end_logits = []\n",
    "    for batch in test_dataloader:\n",
    "        with torch.no_grad():\n",
    "            outputs_start, outputs_end = model(batch['input_ids'].cuda(), batch['attention_mask'].cuda())\n",
    "            start_logits.append(outputs_start.cpu().numpy().tolist())\n",
    "            end_logits.append(outputs_end.cpu().numpy().tolist())\n",
    "            del outputs_start, outputs_end\n",
    "    del model, tokenizer, config\n",
    "    gc.collect()\n",
    "    return np.vstack(start_logits), np.vstack(end_logits)"
   ]
  },
  {
   "cell_type": "code",
   "execution_count": 10,
   "id": "2dbae3d0",
   "metadata": {
    "execution": {
     "iopub.execute_input": "2021-11-03T13:35:36.734478Z",
     "iopub.status.busy": "2021-11-03T13:35:36.733858Z",
     "iopub.status.idle": "2021-11-03T14:27:58.210761Z",
     "shell.execute_reply": "2021-11-03T14:27:58.208671Z",
     "shell.execute_reply.started": "2021-11-03T13:21:37.813993Z"
    },
    "papermill": {
     "duration": 3141.508608,
     "end_time": "2021-11-03T14:27:58.211007",
     "exception": false,
     "start_time": "2021-11-03T13:35:36.702399",
     "status": "completed"
    },
    "tags": []
   },
   "outputs": [],
   "source": [
    "start_logits1, end_logits1 = get_predictions('../input/5foldsroberta/output/checkpoint-fold-0/pytorch_model.bin')\n",
    "start_logits2, end_logits2 = get_predictions('../input/5foldsroberta/output/checkpoint-fold-1/pytorch_model.bin')\n",
    "start_logits3, end_logits3 = get_predictions('../input/5foldsroberta/output/checkpoint-fold-2/pytorch_model.bin')\n",
    "start_logits4, end_logits4 = get_predictions('../input/5foldsroberta/output/checkpoint-fold-3/pytorch_model.bin')\n",
    "start_logits5, end_logits5 = get_predictions('../input/5foldsroberta/output/checkpoint-fold-4/pytorch_model.bin')\n",
    "\n",
    "\n",
    "\n",
    "\n",
    "start_logits = (start_logits1 + start_logits2 + start_logits3 +start_logits4+ start_logits5 )/5\n",
    "end_logits = (end_logits1 + end_logits2 + end_logits3 +end_logits4 + end_logits5)/5"
   ]
  },
  {
   "cell_type": "code",
   "execution_count": 11,
   "id": "3dd9049f",
   "metadata": {
    "execution": {
     "iopub.execute_input": "2021-11-03T14:27:58.287434Z",
     "iopub.status.busy": "2021-11-03T14:27:58.286380Z",
     "iopub.status.idle": "2021-11-03T14:27:58.289279Z",
     "shell.execute_reply": "2021-11-03T14:27:58.289835Z",
     "shell.execute_reply.started": "2021-11-03T13:30:50.868013Z"
    },
    "papermill": {
     "duration": 0.050497,
     "end_time": "2021-11-03T14:27:58.290017",
     "exception": false,
     "start_time": "2021-11-03T14:27:58.239520",
     "status": "completed"
    },
    "tags": []
   },
   "outputs": [],
   "source": [
    "import collections\n",
    "\n",
    "def postprocess_qa_predictions(examples, features, raw_predictions, n_best_size = 20, max_answer_length = 30, n = 1):\n",
    "    all_start_logits, all_end_logits = raw_predictions\n",
    "    \n",
    "    example_id_to_index = {k: i for i, k in enumerate(examples[\"id\"])}\n",
    "    features_per_example = collections.defaultdict(list)\n",
    "    for i, feature in enumerate(features):\n",
    "        features_per_example[example_id_to_index[feature[\"example_id\"]]].append(i)\n",
    "\n",
    "    predictions = collections.OrderedDict()\n",
    "\n",
    "    print(f\"Post-processing {len(examples)} example predictions split into {len(features)} features.\")\n",
    "\n",
    "    for example_index, example in examples.iterrows():\n",
    "        feature_indices = features_per_example[example_index]\n",
    "\n",
    "        min_null_score = None\n",
    "        valid_answers = []\n",
    "        \n",
    "        context = example[\"context\"]\n",
    "        for feature_index in feature_indices:\n",
    "            start_logits = all_start_logits[feature_index]\n",
    "            end_logits = all_end_logits[feature_index]\n",
    "\n",
    "            sequence_ids = features[feature_index][\"sequence_ids\"]\n",
    "            context_index = 1\n",
    "\n",
    "            features[feature_index][\"offset_mapping\"] = [\n",
    "                (o if sequence_ids[k] == context_index else None)\n",
    "                for k, o in enumerate(features[feature_index][\"offset_mapping\"])\n",
    "            ]\n",
    "            offset_mapping = features[feature_index][\"offset_mapping\"]\n",
    "            cls_index = features[feature_index][\"input_ids\"].index(tokenizer.cls_token_id)\n",
    "            feature_null_score = start_logits[cls_index] + end_logits[cls_index]\n",
    "            if min_null_score is None or min_null_score < feature_null_score:\n",
    "                min_null_score = feature_null_score\n",
    "\n",
    "            start_indexes = np.argsort(start_logits)[-1 : -n_best_size - 1 : -1].tolist()\n",
    "            end_indexes = np.argsort(end_logits)[-1 : -n_best_size - 1 : -1].tolist()\n",
    "            for start_index in start_indexes:\n",
    "                for end_index in end_indexes:\n",
    "                    if (\n",
    "                        start_index >= len(offset_mapping)\n",
    "                        or end_index >= len(offset_mapping)\n",
    "                        or offset_mapping[start_index] is None\n",
    "                        or offset_mapping[end_index] is None\n",
    "                    ):\n",
    "                        continue\n",
    "                    # Don't consider answers with a length that is either < 0 or > max_answer_length.\n",
    "                    if end_index < start_index or end_index - start_index + 1 > max_answer_length:\n",
    "                        continue\n",
    "\n",
    "                    start_char = offset_mapping[start_index][0]\n",
    "                    end_char = offset_mapping[end_index][1]\n",
    "                    valid_answers.append(\n",
    "                        {\n",
    "                            \"score\": (start_logits[start_index] + end_logits[end_index])/2,\n",
    "                            \"text\": context[start_char: end_char],\n",
    "#                             \"example\": example\n",
    "#                             \"feature_index\":feature_index,\n",
    "#                             \"features\":features[feature_index],\n",
    "#                             \"start_index\":start_index,\n",
    "#                             \"end_index\":end_index,\n",
    "#                             \"offset_mapping\":offset_mapping,\n",
    "#                             \"context\":context\n",
    "                        }\n",
    "                    )\n",
    "        \n",
    "        if len(valid_answers) > 0:\n",
    "            answers = sorted(valid_answers, key=lambda x: x[\"score\"], reverse=True)\n",
    "#             print(answers)\n",
    "            best_answer = []\n",
    "            for ans in  answers[:n]:\n",
    "                best_answer.append(ans[\"text\"])\n",
    "#             best_answer = answers[:5]\n",
    "        else:\n",
    "            best_answer = [\"\"]\n",
    "        \n",
    "        predictions[example[\"id\"]] = best_answer#[\"text\"]\n",
    "        \n",
    "        \n",
    "    return predictions"
   ]
  },
  {
   "cell_type": "code",
   "execution_count": 12,
   "id": "07c84f0c",
   "metadata": {
    "execution": {
     "iopub.execute_input": "2021-11-03T14:27:58.347792Z",
     "iopub.status.busy": "2021-11-03T14:27:58.346888Z",
     "iopub.status.idle": "2021-11-03T14:27:58.350538Z",
     "shell.execute_reply": "2021-11-03T14:27:58.350016Z",
     "shell.execute_reply.started": "2021-11-03T13:30:51.601315Z"
    },
    "papermill": {
     "duration": 0.034381,
     "end_time": "2021-11-03T14:27:58.350695",
     "exception": false,
     "start_time": "2021-11-03T14:27:58.316314",
     "status": "completed"
    },
    "tags": []
   },
   "outputs": [],
   "source": [
    "# len(test)"
   ]
  },
  {
   "cell_type": "code",
   "execution_count": 13,
   "id": "8e0362f9",
   "metadata": {
    "execution": {
     "iopub.execute_input": "2021-11-03T14:27:58.423317Z",
     "iopub.status.busy": "2021-11-03T14:27:58.418025Z",
     "iopub.status.idle": "2021-11-03T14:28:13.583661Z",
     "shell.execute_reply": "2021-11-03T14:28:13.582564Z",
     "shell.execute_reply.started": "2021-11-03T13:30:51.792500Z"
    },
    "papermill": {
     "duration": 15.207257,
     "end_time": "2021-11-03T14:28:13.583846",
     "exception": false,
     "start_time": "2021-11-03T14:27:58.376589",
     "status": "completed"
    },
    "tags": []
   },
   "outputs": [
    {
     "name": "stdout",
     "output_type": "stream",
     "text": [
      "Post-processing 1114 example predictions split into 14188 features.\n",
      "Post-processing 1114 example predictions split into 14188 features.\n"
     ]
    }
   ],
   "source": [
    "fin_preds = postprocess_qa_predictions(test, test_features, (start_logits, end_logits), n = 1)\n",
    "\n",
    "fin_preds_5 = postprocess_qa_predictions(test, test_features, (start_logits, end_logits), n = 5)"
   ]
  },
  {
   "cell_type": "code",
   "execution_count": 14,
   "id": "93a4e7e3",
   "metadata": {
    "execution": {
     "iopub.execute_input": "2021-11-03T14:28:13.644115Z",
     "iopub.status.busy": "2021-11-03T14:28:13.643009Z",
     "iopub.status.idle": "2021-11-03T14:28:13.645874Z",
     "shell.execute_reply": "2021-11-03T14:28:13.646399Z",
     "shell.execute_reply.started": "2021-11-03T13:30:59.237524Z"
    },
    "papermill": {
     "duration": 0.035201,
     "end_time": "2021-11-03T14:28:13.646555",
     "exception": false,
     "start_time": "2021-11-03T14:28:13.611354",
     "status": "completed"
    },
    "tags": []
   },
   "outputs": [],
   "source": [
    "# fin_preds"
   ]
  },
  {
   "cell_type": "code",
   "execution_count": 15,
   "id": "af4243ee",
   "metadata": {
    "execution": {
     "iopub.execute_input": "2021-11-03T14:28:13.705522Z",
     "iopub.status.busy": "2021-11-03T14:28:13.704565Z",
     "iopub.status.idle": "2021-11-03T14:28:13.708208Z",
     "shell.execute_reply": "2021-11-03T14:28:13.707670Z",
     "shell.execute_reply.started": "2021-11-03T13:31:05.577999Z"
    },
    "papermill": {
     "duration": 0.03522,
     "end_time": "2021-11-03T14:28:13.708349",
     "exception": false,
     "start_time": "2021-11-03T14:28:13.673129",
     "status": "completed"
    },
    "tags": []
   },
   "outputs": [],
   "source": [
    "# fin_preds_5"
   ]
  },
  {
   "cell_type": "code",
   "execution_count": 16,
   "id": "a5aa4e4b",
   "metadata": {
    "execution": {
     "iopub.execute_input": "2021-11-03T14:28:13.772072Z",
     "iopub.status.busy": "2021-11-03T14:28:13.771178Z",
     "iopub.status.idle": "2021-11-03T14:28:13.808907Z",
     "shell.execute_reply": "2021-11-03T14:28:13.809442Z",
     "shell.execute_reply.started": "2021-11-03T13:31:12.588517Z"
    },
    "papermill": {
     "duration": 0.074609,
     "end_time": "2021-11-03T14:28:13.809619",
     "exception": false,
     "start_time": "2021-11-03T14:28:13.735010",
     "status": "completed"
    },
    "tags": []
   },
   "outputs": [
    {
     "data": {
      "text/html": [
       "<div>\n",
       "<style scoped>\n",
       "    .dataframe tbody tr th:only-of-type {\n",
       "        vertical-align: middle;\n",
       "    }\n",
       "\n",
       "    .dataframe tbody tr th {\n",
       "        vertical-align: top;\n",
       "    }\n",
       "\n",
       "    .dataframe thead th {\n",
       "        text-align: right;\n",
       "    }\n",
       "</style>\n",
       "<table border=\"1\" class=\"dataframe\">\n",
       "  <thead>\n",
       "    <tr style=\"text-align: right;\">\n",
       "      <th></th>\n",
       "      <th>id</th>\n",
       "      <th>context</th>\n",
       "      <th>question</th>\n",
       "      <th>answer_text</th>\n",
       "      <th>answer_start</th>\n",
       "      <th>language</th>\n",
       "    </tr>\n",
       "  </thead>\n",
       "  <tbody>\n",
       "    <tr>\n",
       "      <th>0</th>\n",
       "      <td>903deec17</td>\n",
       "      <td>ஒரு சாதாரண வளர்ந்த மனிதனுடைய எலும்புக்கூடு பின...</td>\n",
       "      <td>மனித உடலில் எத்தனை எலும்புகள் உள்ளன?</td>\n",
       "      <td>206</td>\n",
       "      <td>53</td>\n",
       "      <td>tamil</td>\n",
       "    </tr>\n",
       "    <tr>\n",
       "      <th>1</th>\n",
       "      <td>d9841668c</td>\n",
       "      <td>காளிதாசன் (தேவநாகரி: कालिदास) சமஸ்கிருத இலக்கி...</td>\n",
       "      <td>காளிதாசன் எங்கு பிறந்தார்?</td>\n",
       "      <td>காசுமீரில்</td>\n",
       "      <td>2358</td>\n",
       "      <td>tamil</td>\n",
       "    </tr>\n",
       "    <tr>\n",
       "      <th>2</th>\n",
       "      <td>29d154b56</td>\n",
       "      <td>சர் அலெக்ஸாண்டர் ஃபிளெமிங் (Sir Alexander Flem...</td>\n",
       "      <td>பென்சிலின் கண்டுபிடித்தவர் யார்?</td>\n",
       "      <td>சர் அலெக்ஸாண்டர் ஃபிளெமிங்</td>\n",
       "      <td>0</td>\n",
       "      <td>tamil</td>\n",
       "    </tr>\n",
       "    <tr>\n",
       "      <th>3</th>\n",
       "      <td>41660850a</td>\n",
       "      <td>குழந்தையின் அழுகையை நிறுத்தவும், தூங்க வைக்கவு...</td>\n",
       "      <td>தமிழ்நாட்டில் குழந்தைகளை தூங்க வைக்க பாடும் பா...</td>\n",
       "      <td>தாலாட்டு</td>\n",
       "      <td>68</td>\n",
       "      <td>tamil</td>\n",
       "    </tr>\n",
       "    <tr>\n",
       "      <th>4</th>\n",
       "      <td>b29c82c22</td>\n",
       "      <td>சூரியக் குடும்பம் சூரியக் குடும்பம் (Solar Sys...</td>\n",
       "      <td>பூமியின் அருகில் உள்ள விண்மீன் எது?</td>\n",
       "      <td>சூரியனும்</td>\n",
       "      <td>585</td>\n",
       "      <td>tamil</td>\n",
       "    </tr>\n",
       "  </tbody>\n",
       "</table>\n",
       "</div>"
      ],
      "text/plain": [
       "          id                                            context  \\\n",
       "0  903deec17  ஒரு சாதாரண வளர்ந்த மனிதனுடைய எலும்புக்கூடு பின...   \n",
       "1  d9841668c  காளிதாசன் (தேவநாகரி: कालिदास) சமஸ்கிருத இலக்கி...   \n",
       "2  29d154b56  சர் அலெக்ஸாண்டர் ஃபிளெமிங் (Sir Alexander Flem...   \n",
       "3  41660850a  குழந்தையின் அழுகையை நிறுத்தவும், தூங்க வைக்கவு...   \n",
       "4  b29c82c22  சூரியக் குடும்பம் சூரியக் குடும்பம் (Solar Sys...   \n",
       "\n",
       "                                            question  \\\n",
       "0               மனித உடலில் எத்தனை எலும்புகள் உள்ளன?   \n",
       "1                         காளிதாசன் எங்கு பிறந்தார்?   \n",
       "2                   பென்சிலின் கண்டுபிடித்தவர் யார்?   \n",
       "3  தமிழ்நாட்டில் குழந்தைகளை தூங்க வைக்க பாடும் பா...   \n",
       "4                பூமியின் அருகில் உள்ள விண்மீன் எது?   \n",
       "\n",
       "                  answer_text  answer_start language  \n",
       "0                         206            53    tamil  \n",
       "1                  காசுமீரில்          2358    tamil  \n",
       "2  சர் அலெக்ஸாண்டர் ஃபிளெமிங்             0    tamil  \n",
       "3                    தாலாட்டு            68    tamil  \n",
       "4                   சூரியனும்           585    tamil  "
      ]
     },
     "execution_count": 16,
     "metadata": {},
     "output_type": "execute_result"
    }
   ],
   "source": [
    "test.head()"
   ]
  },
  {
   "cell_type": "code",
   "execution_count": 17,
   "id": "26193844",
   "metadata": {
    "execution": {
     "iopub.execute_input": "2021-11-03T14:28:13.875358Z",
     "iopub.status.busy": "2021-11-03T14:28:13.874269Z",
     "iopub.status.idle": "2021-11-03T14:28:13.877497Z",
     "shell.execute_reply": "2021-11-03T14:28:13.876979Z",
     "shell.execute_reply.started": "2021-11-03T13:31:20.295290Z"
    },
    "papermill": {
     "duration": 0.041171,
     "end_time": "2021-11-03T14:28:13.877638",
     "exception": false,
     "start_time": "2021-11-03T14:28:13.836467",
     "status": "completed"
    },
    "tags": []
   },
   "outputs": [],
   "source": [
    "def top5_jaccard(row): \n",
    "    strs = row[f'top5_PredictionString']\n",
    "    str2 = row['answer_text']\n",
    "    mx_score=0.0\n",
    "    for str1 in strs:\n",
    "        a = set(str1.lower().split()) \n",
    "        b = set(str2.lower().split())\n",
    "        c = a.intersection(b)\n",
    "        mx_score = max(float(len(c)) / (len(a) + len(b) - len(c)),mx_score)\n",
    "    return mx_score\n",
    "\n",
    "def top1_jaccard(row): \n",
    "    strs = row[f'top1_PredictionString']\n",
    "    str2 = row['answer_text']\n",
    "    mx_score=0.0\n",
    "    for str1 in strs:\n",
    "        a = set(str1.lower().split()) \n",
    "        b = set(str2.lower().split())\n",
    "        c = a.intersection(b)\n",
    "        mx_score = max(float(len(c)) / (len(a) + len(b) - len(c)),mx_score)\n",
    "    return mx_score"
   ]
  },
  {
   "cell_type": "code",
   "execution_count": 18,
   "id": "8a0bcbdd",
   "metadata": {
    "execution": {
     "iopub.execute_input": "2021-11-03T14:28:13.938976Z",
     "iopub.status.busy": "2021-11-03T14:28:13.937975Z",
     "iopub.status.idle": "2021-11-03T14:28:13.941223Z",
     "shell.execute_reply": "2021-11-03T14:28:13.940680Z",
     "shell.execute_reply.started": "2021-11-03T13:31:21.509425Z"
    },
    "papermill": {
     "duration": 0.036935,
     "end_time": "2021-11-03T14:28:13.941359",
     "exception": false,
     "start_time": "2021-11-03T14:28:13.904424",
     "status": "completed"
    },
    "tags": []
   },
   "outputs": [],
   "source": [
    "def cal_jac_topn(final_predictions, val, n):\n",
    "    topn_final_list = list(final_predictions.values())\n",
    "#     print(len(topn_final_list))\n",
    "    val[f'top{n}_PredictionString']=topn_final_list\n",
    "    if n==5:\n",
    "        val[f'top{n}_jaccard_score']=val.apply(top5_jaccard,axis=1)\n",
    "    if n==1:\n",
    "        val[f'top{n}_jaccard_score']=val.apply(top1_jaccard,axis=1)\n",
    "#     print('topn_jaccard_score: ',val['topn_jaccard_score'].mean())\n",
    "    val.to_csv(f'top{n}_jaccard_score.csv',index=False)\n",
    "    return val[f'top{n}_jaccard_score'].mean()"
   ]
  },
  {
   "cell_type": "code",
   "execution_count": 19,
   "id": "f56d3aa6",
   "metadata": {
    "execution": {
     "iopub.execute_input": "2021-11-03T14:28:14.007254Z",
     "iopub.status.busy": "2021-11-03T14:28:14.006420Z",
     "iopub.status.idle": "2021-11-03T14:28:14.564617Z",
     "shell.execute_reply": "2021-11-03T14:28:14.565226Z",
     "shell.execute_reply.started": "2021-11-03T13:31:25.130010Z"
    },
    "papermill": {
     "duration": 0.597449,
     "end_time": "2021-11-03T14:28:14.565405",
     "exception": false,
     "start_time": "2021-11-03T14:28:13.967956",
     "status": "completed"
    },
    "tags": []
   },
   "outputs": [
    {
     "data": {
      "text/plain": [
       "0.760518606916722"
      ]
     },
     "execution_count": 19,
     "metadata": {},
     "output_type": "execute_result"
    }
   ],
   "source": [
    "cal_jac_topn(fin_preds,test,1)"
   ]
  },
  {
   "cell_type": "code",
   "execution_count": 20,
   "id": "88f77beb",
   "metadata": {
    "execution": {
     "iopub.execute_input": "2021-11-03T14:28:14.630857Z",
     "iopub.status.busy": "2021-11-03T14:28:14.629759Z",
     "iopub.status.idle": "2021-11-03T14:28:15.206055Z",
     "shell.execute_reply": "2021-11-03T14:28:15.206616Z",
     "shell.execute_reply.started": "2021-11-03T13:31:32.832296Z"
    },
    "papermill": {
     "duration": 0.611366,
     "end_time": "2021-11-03T14:28:15.206845",
     "exception": false,
     "start_time": "2021-11-03T14:28:14.595479",
     "status": "completed"
    },
    "tags": []
   },
   "outputs": [
    {
     "data": {
      "text/plain": [
       "0.9181961104425197"
      ]
     },
     "execution_count": 20,
     "metadata": {},
     "output_type": "execute_result"
    }
   ],
   "source": [
    "cal_jac_topn(fin_preds_5,test,5)"
   ]
  },
  {
   "cell_type": "code",
   "execution_count": 21,
   "id": "e2797502",
   "metadata": {
    "execution": {
     "iopub.execute_input": "2021-11-03T14:28:15.282190Z",
     "iopub.status.busy": "2021-11-03T14:28:15.280855Z",
     "iopub.status.idle": "2021-11-03T14:28:15.296114Z",
     "shell.execute_reply": "2021-11-03T14:28:15.296683Z",
     "shell.execute_reply.started": "2021-11-03T13:31:42.028696Z"
    },
    "papermill": {
     "duration": 0.06179,
     "end_time": "2021-11-03T14:28:15.296880",
     "exception": false,
     "start_time": "2021-11-03T14:28:15.235090",
     "status": "completed"
    },
    "tags": []
   },
   "outputs": [
    {
     "data": {
      "text/html": [
       "<div>\n",
       "<style scoped>\n",
       "    .dataframe tbody tr th:only-of-type {\n",
       "        vertical-align: middle;\n",
       "    }\n",
       "\n",
       "    .dataframe tbody tr th {\n",
       "        vertical-align: top;\n",
       "    }\n",
       "\n",
       "    .dataframe thead th {\n",
       "        text-align: right;\n",
       "    }\n",
       "</style>\n",
       "<table border=\"1\" class=\"dataframe\">\n",
       "  <thead>\n",
       "    <tr style=\"text-align: right;\">\n",
       "      <th></th>\n",
       "      <th>id</th>\n",
       "      <th>context</th>\n",
       "      <th>question</th>\n",
       "      <th>answer_text</th>\n",
       "      <th>answer_start</th>\n",
       "      <th>language</th>\n",
       "      <th>top1_PredictionString</th>\n",
       "      <th>top1_jaccard_score</th>\n",
       "      <th>top5_PredictionString</th>\n",
       "      <th>top5_jaccard_score</th>\n",
       "    </tr>\n",
       "  </thead>\n",
       "  <tbody>\n",
       "    <tr>\n",
       "      <th>0</th>\n",
       "      <td>903deec17</td>\n",
       "      <td>ஒரு சாதாரண வளர்ந்த மனிதனுடைய எலும்புக்கூடு பின...</td>\n",
       "      <td>மனித உடலில் எத்தனை எலும்புகள் உள்ளன?</td>\n",
       "      <td>206</td>\n",
       "      <td>53</td>\n",
       "      <td>tamil</td>\n",
       "      <td>[ 206]</td>\n",
       "      <td>1.0</td>\n",
       "      <td>[ 206,  206 (மார்பெலும்பு மூன்று பகுதிகளாகக் க...</td>\n",
       "      <td>1.0</td>\n",
       "    </tr>\n",
       "    <tr>\n",
       "      <th>1</th>\n",
       "      <td>d9841668c</td>\n",
       "      <td>காளிதாசன் (தேவநாகரி: कालिदास) சமஸ்கிருத இலக்கி...</td>\n",
       "      <td>காளிதாசன் எங்கு பிறந்தார்?</td>\n",
       "      <td>காசுமீரில்</td>\n",
       "      <td>2358</td>\n",
       "      <td>tamil</td>\n",
       "      <td>[ காசுமீரில்]</td>\n",
       "      <td>1.0</td>\n",
       "      <td>[ காசுமீரில்,  இந்திய,  காளிதாசர் காசுமீரில், ...</td>\n",
       "      <td>1.0</td>\n",
       "    </tr>\n",
       "    <tr>\n",
       "      <th>2</th>\n",
       "      <td>29d154b56</td>\n",
       "      <td>சர் அலெக்ஸாண்டர் ஃபிளெமிங் (Sir Alexander Flem...</td>\n",
       "      <td>பென்சிலின் கண்டுபிடித்தவர் யார்?</td>\n",
       "      <td>சர் அலெக்ஸாண்டர் ஃபிளெமிங்</td>\n",
       "      <td>0</td>\n",
       "      <td>tamil</td>\n",
       "      <td>[சர் அலெக்ஸாண்டர் ஃபிளெமிங்]</td>\n",
       "      <td>1.0</td>\n",
       "      <td>[சர் அலெக்ஸாண்டர் ஃபிளெமிங்,  அலெக்ஸாண்டர் ஃபி...</td>\n",
       "      <td>1.0</td>\n",
       "    </tr>\n",
       "    <tr>\n",
       "      <th>3</th>\n",
       "      <td>41660850a</td>\n",
       "      <td>குழந்தையின் அழுகையை நிறுத்தவும், தூங்க வைக்கவு...</td>\n",
       "      <td>தமிழ்நாட்டில் குழந்தைகளை தூங்க வைக்க பாடும் பா...</td>\n",
       "      <td>தாலாட்டு</td>\n",
       "      <td>68</td>\n",
       "      <td>tamil</td>\n",
       "      <td>[ தாலாட்டு]</td>\n",
       "      <td>1.0</td>\n",
       "      <td>[ தாலாட்டு,  தாலாட்டு (Lullaby),  தாலாட்டு (Lu...</td>\n",
       "      <td>1.0</td>\n",
       "    </tr>\n",
       "    <tr>\n",
       "      <th>4</th>\n",
       "      <td>b29c82c22</td>\n",
       "      <td>சூரியக் குடும்பம் சூரியக் குடும்பம் (Solar Sys...</td>\n",
       "      <td>பூமியின் அருகில் உள்ள விண்மீன் எது?</td>\n",
       "      <td>சூரியனும்</td>\n",
       "      <td>585</td>\n",
       "      <td>tamil</td>\n",
       "      <td>[ சூரியன்]</td>\n",
       "      <td>0.0</td>\n",
       "      <td>[ சூரியன்,  சூரியன் சூரியனும்,  சூரியனும்,  வெ...</td>\n",
       "      <td>1.0</td>\n",
       "    </tr>\n",
       "  </tbody>\n",
       "</table>\n",
       "</div>"
      ],
      "text/plain": [
       "          id                                            context  \\\n",
       "0  903deec17  ஒரு சாதாரண வளர்ந்த மனிதனுடைய எலும்புக்கூடு பின...   \n",
       "1  d9841668c  காளிதாசன் (தேவநாகரி: कालिदास) சமஸ்கிருத இலக்கி...   \n",
       "2  29d154b56  சர் அலெக்ஸாண்டர் ஃபிளெமிங் (Sir Alexander Flem...   \n",
       "3  41660850a  குழந்தையின் அழுகையை நிறுத்தவும், தூங்க வைக்கவு...   \n",
       "4  b29c82c22  சூரியக் குடும்பம் சூரியக் குடும்பம் (Solar Sys...   \n",
       "\n",
       "                                            question  \\\n",
       "0               மனித உடலில் எத்தனை எலும்புகள் உள்ளன?   \n",
       "1                         காளிதாசன் எங்கு பிறந்தார்?   \n",
       "2                   பென்சிலின் கண்டுபிடித்தவர் யார்?   \n",
       "3  தமிழ்நாட்டில் குழந்தைகளை தூங்க வைக்க பாடும் பா...   \n",
       "4                பூமியின் அருகில் உள்ள விண்மீன் எது?   \n",
       "\n",
       "                  answer_text  answer_start language  \\\n",
       "0                         206            53    tamil   \n",
       "1                  காசுமீரில்          2358    tamil   \n",
       "2  சர் அலெக்ஸாண்டர் ஃபிளெமிங்             0    tamil   \n",
       "3                    தாலாட்டு            68    tamil   \n",
       "4                   சூரியனும்           585    tamil   \n",
       "\n",
       "          top1_PredictionString  top1_jaccard_score  \\\n",
       "0                        [ 206]                 1.0   \n",
       "1                 [ காசுமீரில்]                 1.0   \n",
       "2  [சர் அலெக்ஸாண்டர் ஃபிளெமிங்]                 1.0   \n",
       "3                   [ தாலாட்டு]                 1.0   \n",
       "4                    [ சூரியன்]                 0.0   \n",
       "\n",
       "                               top5_PredictionString  top5_jaccard_score  \n",
       "0  [ 206,  206 (மார்பெலும்பு மூன்று பகுதிகளாகக் க...                 1.0  \n",
       "1  [ காசுமீரில்,  இந்திய,  காளிதாசர் காசுமீரில், ...                 1.0  \n",
       "2  [சர் அலெக்ஸாண்டர் ஃபிளெமிங்,  அலெக்ஸாண்டர் ஃபி...                 1.0  \n",
       "3  [ தாலாட்டு,  தாலாட்டு (Lullaby),  தாலாட்டு (Lu...                 1.0  \n",
       "4  [ சூரியன்,  சூரியன் சூரியனும்,  சூரியனும்,  வெ...                 1.0  "
      ]
     },
     "execution_count": 21,
     "metadata": {},
     "output_type": "execute_result"
    }
   ],
   "source": [
    "test.head()"
   ]
  },
  {
   "cell_type": "code",
   "execution_count": 22,
   "id": "47644d7b",
   "metadata": {
    "execution": {
     "iopub.execute_input": "2021-11-03T14:28:15.358095Z",
     "iopub.status.busy": "2021-11-03T14:28:15.357043Z",
     "iopub.status.idle": "2021-11-03T14:28:15.889320Z",
     "shell.execute_reply": "2021-11-03T14:28:15.888538Z",
     "shell.execute_reply.started": "2021-11-03T13:32:30.292071Z"
    },
    "papermill": {
     "duration": 0.564316,
     "end_time": "2021-11-03T14:28:15.889473",
     "exception": false,
     "start_time": "2021-11-03T14:28:15.325157",
     "status": "completed"
    },
    "tags": []
   },
   "outputs": [],
   "source": [
    "test.to_csv('jac_score.csv',index=False)"
   ]
  },
  {
   "cell_type": "code",
   "execution_count": 23,
   "id": "a1af07cd",
   "metadata": {
    "execution": {
     "iopub.execute_input": "2021-11-03T14:28:15.952887Z",
     "iopub.status.busy": "2021-11-03T14:28:15.952053Z",
     "iopub.status.idle": "2021-11-03T14:28:15.956138Z",
     "shell.execute_reply": "2021-11-03T14:28:15.955455Z",
     "shell.execute_reply.started": "2021-11-03T13:31:52.560311Z"
    },
    "papermill": {
     "duration": 0.037295,
     "end_time": "2021-11-03T14:28:15.956271",
     "exception": false,
     "start_time": "2021-11-03T14:28:15.918976",
     "status": "completed"
    },
    "tags": []
   },
   "outputs": [],
   "source": [
    "# submission = []\n",
    "# for p1 in fin_preds:\n",
    "#     submission.append(p1)\n",
    "# test[\"PredictionString\"]=submission\n",
    "# test.head()"
   ]
  },
  {
   "cell_type": "code",
   "execution_count": 24,
   "id": "7f7b351c",
   "metadata": {
    "execution": {
     "iopub.execute_input": "2021-11-03T14:28:16.017135Z",
     "iopub.status.busy": "2021-11-03T14:28:16.016054Z",
     "iopub.status.idle": "2021-11-03T14:28:16.022102Z",
     "shell.execute_reply": "2021-11-03T14:28:16.021529Z",
     "shell.execute_reply.started": "2021-11-03T13:31:54.916884Z"
    },
    "papermill": {
     "duration": 0.037413,
     "end_time": "2021-11-03T14:28:16.022243",
     "exception": false,
     "start_time": "2021-11-03T14:28:15.984830",
     "status": "completed"
    },
    "tags": []
   },
   "outputs": [],
   "source": [
    "# bad_starts = [\".\", \",\", \"(\", \")\", \"-\", \"–\",  \",\", \";\"]\n",
    "# bad_endings = [\"...\", \"-\", \"(\", \")\", \"–\", \",\", \";\"]\n",
    "\n",
    "# tamil_ad = \"கி.பி\"\n",
    "# tamil_bc = \"கி.மு\"\n",
    "# tamil_km = \"கி.மீ\"\n",
    "# hindi_ad = \"ई\"\n",
    "# hindi_bc = \"ई.पू\"\n",
    "\n",
    "\n",
    "# cleaned_preds = []\n",
    "# for pred, context in test_data[[\"PredictionString\", \"context\"]].to_numpy():\n",
    "#     if pred == \"\":\n",
    "#         cleaned_preds.append(pred)\n",
    "#         continue\n",
    "#     while any([pred.startswith(y) for y in bad_starts]):\n",
    "#         pred = pred[1:]\n",
    "#     while any([pred.endswith(y) for y in bad_endings]):\n",
    "#         if pred.endswith(\"...\"):\n",
    "#             pred = pred[:-3]\n",
    "#         else:\n",
    "#             pred = pred[:-1]\n",
    "#     if pred.endswith(\"...\"):\n",
    "#             pred = pred[:-3]\n",
    "    \n",
    "#     if any([pred.endswith(tamil_ad), pred.endswith(tamil_bc), pred.endswith(tamil_km), pred.endswith(hindi_ad), pred.endswith(hindi_bc)]) and pred+\".\" in context:\n",
    "#         pred = pred+\".\"\n",
    "        \n",
    "#     cleaned_preds.append(pred)\n",
    "\n",
    "# test_data[\"PredictionString\"] = cleaned_preds\n",
    "# test_data[['id', 'PredictionString']].to_csv('submission.csv', index=False)"
   ]
  },
  {
   "cell_type": "code",
   "execution_count": 25,
   "id": "c103a43c",
   "metadata": {
    "execution": {
     "iopub.execute_input": "2021-11-03T14:28:16.084118Z",
     "iopub.status.busy": "2021-11-03T14:28:16.082853Z",
     "iopub.status.idle": "2021-11-03T14:28:16.088093Z",
     "shell.execute_reply": "2021-11-03T14:28:16.087431Z",
     "shell.execute_reply.started": "2021-11-03T13:31:56.932557Z"
    },
    "papermill": {
     "duration": 0.037353,
     "end_time": "2021-11-03T14:28:16.088229",
     "exception": false,
     "start_time": "2021-11-03T14:28:16.050876",
     "status": "completed"
    },
    "tags": []
   },
   "outputs": [],
   "source": [
    "# test_data[['id', 'PredictionString']]"
   ]
  },
  {
   "cell_type": "code",
   "execution_count": null,
   "id": "2c258421",
   "metadata": {
    "papermill": {
     "duration": 0.028619,
     "end_time": "2021-11-03T14:28:16.145448",
     "exception": false,
     "start_time": "2021-11-03T14:28:16.116829",
     "status": "completed"
    },
    "tags": []
   },
   "outputs": [],
   "source": []
  },
  {
   "cell_type": "code",
   "execution_count": null,
   "id": "92d2ccdb",
   "metadata": {
    "papermill": {
     "duration": 0.028049,
     "end_time": "2021-11-03T14:28:16.202140",
     "exception": false,
     "start_time": "2021-11-03T14:28:16.174091",
     "status": "completed"
    },
    "tags": []
   },
   "outputs": [],
   "source": []
  }
 ],
 "metadata": {
  "kernelspec": {
   "display_name": "Python 3",
   "language": "python",
   "name": "python3"
  },
  "language_info": {
   "codemirror_mode": {
    "name": "ipython",
    "version": 3
   },
   "file_extension": ".py",
   "mimetype": "text/x-python",
   "name": "python",
   "nbconvert_exporter": "python",
   "pygments_lexer": "ipython3",
   "version": "3.7.10"
  },
  "papermill": {
   "default_parameters": {},
   "duration": 3256.725476,
   "end_time": "2021-11-03T14:28:19.585661",
   "environment_variables": {},
   "exception": null,
   "input_path": "__notebook__.ipynb",
   "output_path": "__notebook__.ipynb",
   "parameters": {},
   "start_time": "2021-11-03T13:34:02.860185",
   "version": "2.3.3"
  }
 },
 "nbformat": 4,
 "nbformat_minor": 5
}
