{
 "cells": [
  {
   "cell_type": "code",
   "execution_count": 1,
   "id": "6e6c5e53",
   "metadata": {
    "_cell_guid": "b1076dfc-b9ad-4769-8c92-a6c4dae69d19",
    "_uuid": "8f2839f25d086af736a60e9eeb907d3b93b6e0e5",
    "execution": {
     "iopub.execute_input": "2021-08-19T04:49:35.564789Z",
     "iopub.status.busy": "2021-08-19T04:49:35.563365Z",
     "iopub.status.idle": "2021-08-19T04:49:35.567453Z",
     "shell.execute_reply": "2021-08-19T04:49:35.566955Z",
     "shell.execute_reply.started": "2021-08-19T04:43:13.766565Z"
    },
    "papermill": {
     "duration": 0.059173,
     "end_time": "2021-08-19T04:49:35.567587",
     "exception": false,
     "start_time": "2021-08-19T04:49:35.508414",
     "status": "completed"
    },
    "tags": []
   },
   "outputs": [],
   "source": [
    "# # This Python 3 environment comes with many helpful analytics libraries installed\n",
    "# # It is defined by the kaggle/python Docker image: https://github.com/kaggle/docker-python\n",
    "# # For example, here's several helpful packages to load\n",
    "\n",
    "# import numpy as np # linear algebra\n",
    "# import pandas as pd # data processing, CSV file I/O (e.g. pd.read_csv)\n",
    "\n",
    "# # Input data files are available in the read-only \"../input/\" directory\n",
    "# # For example, running this (by clicking run or pressing Shift+Enter) will list all files under the input directory\n",
    "\n",
    "# import os\n",
    "# for dirname, _, filenames in os.walk('/kaggle/input'):\n",
    "#     for filename in filenames:\n",
    "#         print(os.path.join(dirname, filename))\n",
    "\n",
    "# # You can write up to 20GB to the current directory (/kaggle/working/) that gets preserved as output when you create a version using \"Save & Run All\" \n",
    "# # You can also write temporary files to /kaggle/temp/, but they won't be saved outside of the current session"
   ]
  },
  {
   "cell_type": "markdown",
   "id": "b3b41fa5",
   "metadata": {
    "papermill": {
     "duration": 0.049336,
     "end_time": "2021-08-19T04:49:35.667587",
     "exception": false,
     "start_time": "2021-08-19T04:49:35.618251",
     "status": "completed"
    },
    "tags": []
   },
   "source": [
    "# Reading data"
   ]
  },
  {
   "cell_type": "code",
   "execution_count": 2,
   "id": "9b08ff5e",
   "metadata": {
    "execution": {
     "iopub.execute_input": "2021-08-19T04:49:35.846067Z",
     "iopub.status.busy": "2021-08-19T04:49:35.845339Z",
     "iopub.status.idle": "2021-08-19T04:49:36.648296Z",
     "shell.execute_reply": "2021-08-19T04:49:36.648682Z",
     "shell.execute_reply.started": "2021-08-19T04:43:16.244216Z"
    },
    "papermill": {
     "duration": 0.932139,
     "end_time": "2021-08-19T04:49:36.648831",
     "exception": false,
     "start_time": "2021-08-19T04:49:35.716692",
     "status": "completed"
    },
    "tags": []
   },
   "outputs": [
    {
     "data": {
      "text/html": [
       "<div>\n",
       "<style scoped>\n",
       "    .dataframe tbody tr th:only-of-type {\n",
       "        vertical-align: middle;\n",
       "    }\n",
       "\n",
       "    .dataframe tbody tr th {\n",
       "        vertical-align: top;\n",
       "    }\n",
       "\n",
       "    .dataframe thead th {\n",
       "        text-align: right;\n",
       "    }\n",
       "</style>\n",
       "<table border=\"1\" class=\"dataframe\">\n",
       "  <thead>\n",
       "    <tr style=\"text-align: right;\">\n",
       "      <th></th>\n",
       "      <th>id</th>\n",
       "      <th>context</th>\n",
       "      <th>question</th>\n",
       "      <th>answer_text</th>\n",
       "      <th>answer_start</th>\n",
       "      <th>language</th>\n",
       "    </tr>\n",
       "  </thead>\n",
       "  <tbody>\n",
       "    <tr>\n",
       "      <th>0</th>\n",
       "      <td>903deec17</td>\n",
       "      <td>ஒரு சாதாரண வளர்ந்த மனிதனுடைய எலும்புக்கூடு பின...</td>\n",
       "      <td>மனித உடலில் எத்தனை எலும்புகள் உள்ளன?</td>\n",
       "      <td>206</td>\n",
       "      <td>53</td>\n",
       "      <td>tamil</td>\n",
       "    </tr>\n",
       "    <tr>\n",
       "      <th>1</th>\n",
       "      <td>d9841668c</td>\n",
       "      <td>காளிதாசன் (தேவநாகரி: कालिदास) சமஸ்கிருத இலக்கி...</td>\n",
       "      <td>காளிதாசன் எங்கு பிறந்தார்?</td>\n",
       "      <td>காசுமீரில்</td>\n",
       "      <td>2358</td>\n",
       "      <td>tamil</td>\n",
       "    </tr>\n",
       "    <tr>\n",
       "      <th>2</th>\n",
       "      <td>29d154b56</td>\n",
       "      <td>சர் அலெக்ஸாண்டர் ஃபிளெமிங் (Sir Alexander Flem...</td>\n",
       "      <td>பென்சிலின் கண்டுபிடித்தவர் யார்?</td>\n",
       "      <td>சர் அலெக்ஸாண்டர் ஃபிளெமிங்</td>\n",
       "      <td>0</td>\n",
       "      <td>tamil</td>\n",
       "    </tr>\n",
       "    <tr>\n",
       "      <th>3</th>\n",
       "      <td>41660850a</td>\n",
       "      <td>குழந்தையின் அழுகையை  நிறுத்தவும், தூங்க வைக்கவ...</td>\n",
       "      <td>தமிழ்நாட்டில் குழந்தைகளை தூங்க வைக்க பாடும் பா...</td>\n",
       "      <td>தாலாட்டு</td>\n",
       "      <td>68</td>\n",
       "      <td>tamil</td>\n",
       "    </tr>\n",
       "    <tr>\n",
       "      <th>4</th>\n",
       "      <td>b29c82c22</td>\n",
       "      <td>சூரியக் குடும்பம் \\nசூரியக் குடும்பம் (Solar S...</td>\n",
       "      <td>பூமியின் அருகில் உள்ள விண்மீன் எது?</td>\n",
       "      <td>சூரியனும்</td>\n",
       "      <td>585</td>\n",
       "      <td>tamil</td>\n",
       "    </tr>\n",
       "  </tbody>\n",
       "</table>\n",
       "</div>"
      ],
      "text/plain": [
       "          id                                            context  \\\n",
       "0  903deec17  ஒரு சாதாரண வளர்ந்த மனிதனுடைய எலும்புக்கூடு பின...   \n",
       "1  d9841668c  காளிதாசன் (தேவநாகரி: कालिदास) சமஸ்கிருத இலக்கி...   \n",
       "2  29d154b56  சர் அலெக்ஸாண்டர் ஃபிளெமிங் (Sir Alexander Flem...   \n",
       "3  41660850a  குழந்தையின் அழுகையை  நிறுத்தவும், தூங்க வைக்கவ...   \n",
       "4  b29c82c22  சூரியக் குடும்பம் \\nசூரியக் குடும்பம் (Solar S...   \n",
       "\n",
       "                                            question  \\\n",
       "0               மனித உடலில் எத்தனை எலும்புகள் உள்ளன?   \n",
       "1                         காளிதாசன் எங்கு பிறந்தார்?   \n",
       "2                   பென்சிலின் கண்டுபிடித்தவர் யார்?   \n",
       "3  தமிழ்நாட்டில் குழந்தைகளை தூங்க வைக்க பாடும் பா...   \n",
       "4                பூமியின் அருகில் உள்ள விண்மீன் எது?   \n",
       "\n",
       "                  answer_text  answer_start language  \n",
       "0                         206            53    tamil  \n",
       "1                  காசுமீரில்          2358    tamil  \n",
       "2  சர் அலெக்ஸாண்டர் ஃபிளெமிங்             0    tamil  \n",
       "3                    தாலாட்டு            68    tamil  \n",
       "4                   சூரியனும்           585    tamil  "
      ]
     },
     "execution_count": 2,
     "metadata": {},
     "output_type": "execute_result"
    }
   ],
   "source": [
    "import pandas as pd\n",
    "\n",
    "train = pd.read_csv('../input/chaii-hindi-and-tamil-question-answering/train.csv')\n",
    "train.head()"
   ]
  },
  {
   "cell_type": "code",
   "execution_count": 3,
   "id": "c594eba2",
   "metadata": {
    "execution": {
     "iopub.execute_input": "2021-08-19T04:49:36.757782Z",
     "iopub.status.busy": "2021-08-19T04:49:36.757264Z",
     "iopub.status.idle": "2021-08-19T04:49:36.762473Z",
     "shell.execute_reply": "2021-08-19T04:49:36.762846Z",
     "shell.execute_reply.started": "2021-08-19T04:43:17.617833Z"
    },
    "papermill": {
     "duration": 0.063114,
     "end_time": "2021-08-19T04:49:36.762987",
     "exception": false,
     "start_time": "2021-08-19T04:49:36.699873",
     "status": "completed"
    },
    "tags": []
   },
   "outputs": [
    {
     "data": {
      "text/plain": [
       "hindi    746\n",
       "tamil    368\n",
       "Name: language, dtype: int64"
      ]
     },
     "execution_count": 3,
     "metadata": {},
     "output_type": "execute_result"
    }
   ],
   "source": [
    "train.language.value_counts()"
   ]
  },
  {
   "cell_type": "code",
   "execution_count": 4,
   "id": "83f92e68",
   "metadata": {
    "execution": {
     "iopub.execute_input": "2021-08-19T04:49:36.867741Z",
     "iopub.status.busy": "2021-08-19T04:49:36.866521Z",
     "iopub.status.idle": "2021-08-19T04:49:36.869183Z",
     "shell.execute_reply": "2021-08-19T04:49:36.868762Z",
     "shell.execute_reply.started": "2021-08-19T04:43:18.627730Z"
    },
    "papermill": {
     "duration": 0.056538,
     "end_time": "2021-08-19T04:49:36.869289",
     "exception": false,
     "start_time": "2021-08-19T04:49:36.812751",
     "status": "completed"
    },
    "tags": []
   },
   "outputs": [],
   "source": [
    "def convert_answers(r):\n",
    "    start = r[0]\n",
    "    text = r[1]\n",
    "    return {\n",
    "        'answer_start': [start],\n",
    "        'text': [text]\n",
    "    }"
   ]
  },
  {
   "cell_type": "code",
   "execution_count": 5,
   "id": "e39ad301",
   "metadata": {
    "execution": {
     "iopub.execute_input": "2021-08-19T04:49:36.979071Z",
     "iopub.status.busy": "2021-08-19T04:49:36.978299Z",
     "iopub.status.idle": "2021-08-19T04:49:37.008108Z",
     "shell.execute_reply": "2021-08-19T04:49:37.008594Z",
     "shell.execute_reply.started": "2021-08-19T04:43:19.426987Z"
    },
    "papermill": {
     "duration": 0.086863,
     "end_time": "2021-08-19T04:49:37.008714",
     "exception": false,
     "start_time": "2021-08-19T04:49:36.921851",
     "status": "completed"
    },
    "tags": []
   },
   "outputs": [
    {
     "data": {
      "text/html": [
       "<div>\n",
       "<style scoped>\n",
       "    .dataframe tbody tr th:only-of-type {\n",
       "        vertical-align: middle;\n",
       "    }\n",
       "\n",
       "    .dataframe tbody tr th {\n",
       "        vertical-align: top;\n",
       "    }\n",
       "\n",
       "    .dataframe thead th {\n",
       "        text-align: right;\n",
       "    }\n",
       "</style>\n",
       "<table border=\"1\" class=\"dataframe\">\n",
       "  <thead>\n",
       "    <tr style=\"text-align: right;\">\n",
       "      <th></th>\n",
       "      <th>id</th>\n",
       "      <th>context</th>\n",
       "      <th>question</th>\n",
       "      <th>answer_text</th>\n",
       "      <th>answer_start</th>\n",
       "      <th>language</th>\n",
       "      <th>answers</th>\n",
       "    </tr>\n",
       "  </thead>\n",
       "  <tbody>\n",
       "    <tr>\n",
       "      <th>0</th>\n",
       "      <td>903deec17</td>\n",
       "      <td>ஒரு சாதாரண வளர்ந்த மனிதனுடைய எலும்புக்கூடு பின...</td>\n",
       "      <td>மனித உடலில் எத்தனை எலும்புகள் உள்ளன?</td>\n",
       "      <td>206</td>\n",
       "      <td>53</td>\n",
       "      <td>tamil</td>\n",
       "      <td>{'answer_start': [53], 'text': ['206']}</td>\n",
       "    </tr>\n",
       "    <tr>\n",
       "      <th>1</th>\n",
       "      <td>d9841668c</td>\n",
       "      <td>காளிதாசன் (தேவநாகரி: कालिदास) சமஸ்கிருத இலக்கி...</td>\n",
       "      <td>காளிதாசன் எங்கு பிறந்தார்?</td>\n",
       "      <td>காசுமீரில்</td>\n",
       "      <td>2358</td>\n",
       "      <td>tamil</td>\n",
       "      <td>{'answer_start': [2358], 'text': ['காசுமீரில்']}</td>\n",
       "    </tr>\n",
       "    <tr>\n",
       "      <th>2</th>\n",
       "      <td>29d154b56</td>\n",
       "      <td>சர் அலெக்ஸாண்டர் ஃபிளெமிங் (Sir Alexander Flem...</td>\n",
       "      <td>பென்சிலின் கண்டுபிடித்தவர் யார்?</td>\n",
       "      <td>சர் அலெக்ஸாண்டர் ஃபிளெமிங்</td>\n",
       "      <td>0</td>\n",
       "      <td>tamil</td>\n",
       "      <td>{'answer_start': [0], 'text': ['சர் அலெக்ஸாண்ட...</td>\n",
       "    </tr>\n",
       "    <tr>\n",
       "      <th>3</th>\n",
       "      <td>41660850a</td>\n",
       "      <td>குழந்தையின் அழுகையை  நிறுத்தவும், தூங்க வைக்கவ...</td>\n",
       "      <td>தமிழ்நாட்டில் குழந்தைகளை தூங்க வைக்க பாடும் பா...</td>\n",
       "      <td>தாலாட்டு</td>\n",
       "      <td>68</td>\n",
       "      <td>tamil</td>\n",
       "      <td>{'answer_start': [68], 'text': ['தாலாட்டு']}</td>\n",
       "    </tr>\n",
       "    <tr>\n",
       "      <th>4</th>\n",
       "      <td>b29c82c22</td>\n",
       "      <td>சூரியக் குடும்பம் \\nசூரியக் குடும்பம் (Solar S...</td>\n",
       "      <td>பூமியின் அருகில் உள்ள விண்மீன் எது?</td>\n",
       "      <td>சூரியனும்</td>\n",
       "      <td>585</td>\n",
       "      <td>tamil</td>\n",
       "      <td>{'answer_start': [585], 'text': ['சூரியனும்']}</td>\n",
       "    </tr>\n",
       "  </tbody>\n",
       "</table>\n",
       "</div>"
      ],
      "text/plain": [
       "          id                                            context  \\\n",
       "0  903deec17  ஒரு சாதாரண வளர்ந்த மனிதனுடைய எலும்புக்கூடு பின...   \n",
       "1  d9841668c  காளிதாசன் (தேவநாகரி: कालिदास) சமஸ்கிருத இலக்கி...   \n",
       "2  29d154b56  சர் அலெக்ஸாண்டர் ஃபிளெமிங் (Sir Alexander Flem...   \n",
       "3  41660850a  குழந்தையின் அழுகையை  நிறுத்தவும், தூங்க வைக்கவ...   \n",
       "4  b29c82c22  சூரியக் குடும்பம் \\nசூரியக் குடும்பம் (Solar S...   \n",
       "\n",
       "                                            question  \\\n",
       "0               மனித உடலில் எத்தனை எலும்புகள் உள்ளன?   \n",
       "1                         காளிதாசன் எங்கு பிறந்தார்?   \n",
       "2                   பென்சிலின் கண்டுபிடித்தவர் யார்?   \n",
       "3  தமிழ்நாட்டில் குழந்தைகளை தூங்க வைக்க பாடும் பா...   \n",
       "4                பூமியின் அருகில் உள்ள விண்மீன் எது?   \n",
       "\n",
       "                  answer_text  answer_start language  \\\n",
       "0                         206            53    tamil   \n",
       "1                  காசுமீரில்          2358    tamil   \n",
       "2  சர் அலெக்ஸாண்டர் ஃபிளெமிங்             0    tamil   \n",
       "3                    தாலாட்டு            68    tamil   \n",
       "4                   சூரியனும்           585    tamil   \n",
       "\n",
       "                                             answers  \n",
       "0            {'answer_start': [53], 'text': ['206']}  \n",
       "1   {'answer_start': [2358], 'text': ['காசுமீரில்']}  \n",
       "2  {'answer_start': [0], 'text': ['சர் அலெக்ஸாண்ட...  \n",
       "3       {'answer_start': [68], 'text': ['தாலாட்டு']}  \n",
       "4     {'answer_start': [585], 'text': ['சூரியனும்']}  "
      ]
     },
     "execution_count": 5,
     "metadata": {},
     "output_type": "execute_result"
    }
   ],
   "source": [
    "train['answers'] = train[['answer_start', 'answer_text']].apply(convert_answers, axis=1)\n",
    "train.head()"
   ]
  },
  {
   "cell_type": "code",
   "execution_count": 6,
   "id": "7e076d50",
   "metadata": {
    "execution": {
     "iopub.execute_input": "2021-08-19T04:49:37.114662Z",
     "iopub.status.busy": "2021-08-19T04:49:37.113967Z",
     "iopub.status.idle": "2021-08-19T04:49:37.116302Z",
     "shell.execute_reply": "2021-08-19T04:49:37.116673Z",
     "shell.execute_reply.started": "2021-08-19T04:43:20.360953Z"
    },
    "papermill": {
     "duration": 0.057094,
     "end_time": "2021-08-19T04:49:37.116797",
     "exception": false,
     "start_time": "2021-08-19T04:49:37.059703",
     "status": "completed"
    },
    "tags": []
   },
   "outputs": [],
   "source": [
    "# train.to_csv('train.csv',index=False)"
   ]
  },
  {
   "cell_type": "markdown",
   "id": "bebfd225",
   "metadata": {
    "papermill": {
     "duration": 0.056952,
     "end_time": "2021-08-19T04:49:37.224424",
     "exception": false,
     "start_time": "2021-08-19T04:49:37.167472",
     "status": "completed"
    },
    "tags": []
   },
   "source": [
    "# Loading custom data in hugging face datasets lib"
   ]
  },
  {
   "cell_type": "code",
   "execution_count": 7,
   "id": "4324e577",
   "metadata": {
    "execution": {
     "iopub.execute_input": "2021-08-19T04:49:37.348413Z",
     "iopub.status.busy": "2021-08-19T04:49:37.347803Z",
     "iopub.status.idle": "2021-08-19T04:49:46.638691Z",
     "shell.execute_reply": "2021-08-19T04:49:46.638229Z",
     "shell.execute_reply.started": "2021-08-19T04:43:21.669988Z"
    },
    "papermill": {
     "duration": 9.35351,
     "end_time": "2021-08-19T04:49:46.638819",
     "exception": false,
     "start_time": "2021-08-19T04:49:37.285309",
     "status": "completed"
    },
    "tags": []
   },
   "outputs": [
    {
     "name": "stdout",
     "output_type": "stream",
     "text": [
      "\u001b[31mERROR: pip's dependency resolver does not currently take into account all the packages that are installed. This behaviour is the source of the following dependency conflicts.\r\n",
      "tensorflow-cloud 0.1.13 requires tensorflow<3.0,>=1.15.0, which is not installed.\r\n",
      "dask-cudf 21.6.1+2.g101fc0fda4 requires cupy-cuda112, which is not installed.\r\n",
      "cudf 21.6.1+2.g101fc0fda4 requires cupy-cuda110, which is not installed.\r\n",
      "s3fs 2021.6.1 requires fsspec==2021.06.1, but you have fsspec 2021.6.0 which is incompatible.\r\n",
      "pytorch-lightning 1.3.8 requires fsspec[http]!=2021.06.0,>=2021.05.0, but you have fsspec 2021.6.0 which is incompatible.\r\n",
      "dask-cudf 21.6.1+2.g101fc0fda4 requires dask<=2021.5.1,>=2021.4.0, but you have dask 2021.6.2 which is incompatible.\r\n",
      "dask-cudf 21.6.1+2.g101fc0fda4 requires distributed<=2021.5.1,>=2.22.0, but you have distributed 2021.6.2 which is incompatible.\u001b[0m\r\n"
     ]
    }
   ],
   "source": [
    "# ! pip install datasets transformers\n",
    "!pip uninstall fsspec -qq -y\n",
    "!pip install --no-index --find-links ../input/hf-datasets/wheels datasets -qq"
   ]
  },
  {
   "cell_type": "code",
   "execution_count": 8,
   "id": "389bf71c",
   "metadata": {
    "execution": {
     "iopub.execute_input": "2021-08-19T04:49:46.747346Z",
     "iopub.status.busy": "2021-08-19T04:49:46.746584Z",
     "iopub.status.idle": "2021-08-19T04:49:47.184353Z",
     "shell.execute_reply": "2021-08-19T04:49:47.183832Z",
     "shell.execute_reply.started": "2021-08-19T04:43:30.994147Z"
    },
    "papermill": {
     "duration": 0.493707,
     "end_time": "2021-08-19T04:49:47.184484",
     "exception": false,
     "start_time": "2021-08-19T04:49:46.690777",
     "status": "completed"
    },
    "tags": []
   },
   "outputs": [],
   "source": [
    "from datasets import load_dataset, Dataset\n",
    "from pprint import pprint"
   ]
  },
  {
   "cell_type": "code",
   "execution_count": 9,
   "id": "26fcc1e5",
   "metadata": {
    "execution": {
     "iopub.execute_input": "2021-08-19T04:49:47.292563Z",
     "iopub.status.busy": "2021-08-19T04:49:47.291751Z",
     "iopub.status.idle": "2021-08-19T04:49:48.885525Z",
     "shell.execute_reply": "2021-08-19T04:49:48.885025Z",
     "shell.execute_reply.started": "2021-08-19T04:43:31.653084Z"
    },
    "papermill": {
     "duration": 1.649231,
     "end_time": "2021-08-19T04:49:48.885653",
     "exception": false,
     "start_time": "2021-08-19T04:49:47.236422",
     "status": "completed"
    },
    "tags": []
   },
   "outputs": [],
   "source": [
    "# train_csv = './train.csv'\n",
    "# dataset = load_dataset('csv', data_files=[train_csv])\n",
    "dataset = Dataset.from_pandas(train)"
   ]
  },
  {
   "cell_type": "code",
   "execution_count": 10,
   "id": "d70b0ce9",
   "metadata": {
    "execution": {
     "iopub.execute_input": "2021-08-19T04:49:49.065523Z",
     "iopub.status.busy": "2021-08-19T04:49:49.064202Z",
     "iopub.status.idle": "2021-08-19T04:49:49.069210Z",
     "shell.execute_reply": "2021-08-19T04:49:49.070333Z",
     "shell.execute_reply.started": "2021-08-19T04:43:33.140560Z"
    },
    "papermill": {
     "duration": 0.110039,
     "end_time": "2021-08-19T04:49:49.070698",
     "exception": false,
     "start_time": "2021-08-19T04:49:48.960659",
     "status": "completed"
    },
    "tags": []
   },
   "outputs": [
    {
     "name": "stdout",
     "output_type": "stream",
     "text": [
      "Dataset({\n",
      "    features: ['id', 'context', 'question', 'answer_text', 'answer_start', 'language', 'answers'],\n",
      "    num_rows: 1114\n",
      "})\n"
     ]
    }
   ],
   "source": [
    "print(dataset)"
   ]
  },
  {
   "cell_type": "code",
   "execution_count": 11,
   "id": "382f30a2",
   "metadata": {
    "execution": {
     "iopub.execute_input": "2021-08-19T04:49:49.299644Z",
     "iopub.status.busy": "2021-08-19T04:49:49.298594Z",
     "iopub.status.idle": "2021-08-19T04:49:49.303234Z",
     "shell.execute_reply": "2021-08-19T04:49:49.300396Z",
     "shell.execute_reply.started": "2021-08-19T04:43:33.149789Z"
    },
    "papermill": {
     "duration": 0.1213,
     "end_time": "2021-08-19T04:49:49.303442",
     "exception": false,
     "start_time": "2021-08-19T04:49:49.182142",
     "status": "completed"
    },
    "tags": []
   },
   "outputs": [
    {
     "name": "stdout",
     "output_type": "stream",
     "text": [
      "{'answer_start': 14,\n",
      " 'answer_text': 'दुबई',\n",
      " 'answers': {'answer_start': [14], 'text': ['दुबई']},\n",
      " 'context': 'बुर्ज ख़लीफ़ा दुबई में आठ अरब डॉलर की लागत से छह साल में निर्मित '\n",
      "            '८२८ मीटर ऊँची १६८ मंज़िला दुनिया की सबसे ऊँची इमारत है (जनवरी, '\n",
      "            'सन् २०१० में)। इसका लोकार्पण ४ जनवरी, २०१० को भव्य उद्घाटन समारोह '\n",
      "            'के साथ किया गया। इसमें तैराकी का स्थान, खरीदारी की व्यवस्था, '\n",
      "            'दफ़्तर, सिनेमा घर सहित सारी सुविधाएँ मौजूद हैं। इसकी ७६ वीं मंजिल '\n",
      "            'पर एक मस्जिद भी बनायी गयी है। इसे ९६ किलोमीटर दूर से भी साफ़-साफ़ '\n",
      "            'देखा जा सकता है। इसमें लगायी गयी लिफ़्ट दुनिया की सबसे तेज़ चलने '\n",
      "            'वाली लिफ़्ट है। “ऐट द टॉप” नामक एक दरवाज़े के बाहर अवलोकन डेक, '\n",
      "            '124 वीं मंजिल पर, 5 जनवरी 2010 पर खुला। यह 452 मीटर (1,483 फुट) '\n",
      "            'पर, दुनिया में तीसरे सर्वोच्च अवलोकन डेक और दुनिया में दूसरा सबसे '\n",
      "            'बड़ा दरवाज़े के बाहर अवलोकन डेक है।\\n'\n",
      "            ' निर्माण  \\n'\n",
      "            ' विशेषता \\n'\n",
      "            '\\n'\n",
      "            'सन्दर्भ\\n'\n",
      "            '\\n'\n",
      "            'बाहरी\\xa0कड़ियाँ\\n'\n",
      "            '\\n'\n",
      "            ' No URL found. Please specify a URL here or add one to Wikidata.\\n'\n",
      "            '\\n'\n",
      "            'श्रेणी: गगनचुम्बी इमारतें\\n'\n",
      "            'श्रेणी: सर्वोच्च गगनचुम्बी',\n",
      " 'id': 'bd211f005',\n",
      " 'language': 'hindi',\n",
      " 'question': 'बुर्ज खलीफ़ा किस देश में स्थित है?'}\n"
     ]
    }
   ],
   "source": [
    "# pprint(dataset['train'][1000])\n",
    "pprint(dataset[1000])"
   ]
  },
  {
   "cell_type": "markdown",
   "id": "4c99ab8a",
   "metadata": {
    "papermill": {
     "duration": 0.092025,
     "end_time": "2021-08-19T04:49:49.490113",
     "exception": false,
     "start_time": "2021-08-19T04:49:49.398088",
     "status": "completed"
    },
    "tags": []
   },
   "source": [
    "# Random Picks"
   ]
  },
  {
   "cell_type": "code",
   "execution_count": 12,
   "id": "ae71d7df",
   "metadata": {
    "execution": {
     "iopub.execute_input": "2021-08-19T04:49:49.607454Z",
     "iopub.status.busy": "2021-08-19T04:49:49.606644Z",
     "iopub.status.idle": "2021-08-19T04:49:49.608659Z",
     "shell.execute_reply": "2021-08-19T04:49:49.609146Z",
     "shell.execute_reply.started": "2021-08-19T04:43:37.781728Z"
    },
    "papermill": {
     "duration": 0.061897,
     "end_time": "2021-08-19T04:49:49.609279",
     "exception": false,
     "start_time": "2021-08-19T04:49:49.547382",
     "status": "completed"
    },
    "tags": []
   },
   "outputs": [],
   "source": [
    "from datasets import ClassLabel, Sequence\n",
    "import random\n",
    "import pandas as pd\n",
    "from IPython.display import display, HTML\n",
    "\n",
    "def show_random_elements(dataset, num_examples=10):\n",
    "    assert num_examples <= len(dataset), \"Can't pick more elements than there are in the dataset.\"\n",
    "    picks = []\n",
    "    for _ in range(num_examples):\n",
    "        pick = random.randint(0, len(dataset)-1)\n",
    "        while pick in picks:\n",
    "            pick = random.randint(0, len(dataset)-1)\n",
    "        picks.append(pick)\n",
    "    \n",
    "    df = pd.DataFrame(dataset[picks])\n",
    "    for column, typ in dataset.features.items():\n",
    "        if isinstance(typ, ClassLabel):\n",
    "            df[column] = df[column].transform(lambda i: typ.names[i])\n",
    "        elif isinstance(typ, Sequence) and isinstance(typ.feature, ClassLabel):\n",
    "            df[column] = df[column].transform(lambda x: [typ.feature.names[i] for i in x])\n",
    "    display(HTML(df.to_html()))"
   ]
  },
  {
   "cell_type": "code",
   "execution_count": 13,
   "id": "47b6f395",
   "metadata": {
    "execution": {
     "iopub.execute_input": "2021-08-19T04:49:49.723189Z",
     "iopub.status.busy": "2021-08-19T04:49:49.722341Z",
     "iopub.status.idle": "2021-08-19T04:49:49.725784Z",
     "shell.execute_reply": "2021-08-19T04:49:49.726230Z",
     "shell.execute_reply.started": "2021-08-19T04:43:38.273738Z"
    },
    "papermill": {
     "duration": 0.065333,
     "end_time": "2021-08-19T04:49:49.726360",
     "exception": false,
     "start_time": "2021-08-19T04:49:49.661027",
     "status": "completed"
    },
    "tags": []
   },
   "outputs": [
    {
     "data": {
      "text/html": [
       "<table border=\"1\" class=\"dataframe\">\n",
       "  <thead>\n",
       "    <tr style=\"text-align: right;\">\n",
       "      <th></th>\n",
       "      <th>id</th>\n",
       "      <th>context</th>\n",
       "      <th>question</th>\n",
       "      <th>answer_text</th>\n",
       "      <th>answer_start</th>\n",
       "      <th>language</th>\n",
       "      <th>answers</th>\n",
       "    </tr>\n",
       "  </thead>\n",
       "  <tbody>\n",
       "    <tr>\n",
       "      <th>0</th>\n",
       "      <td>33bf6b51c</td>\n",
       "      <td>अगरतला (Bengali: আগরতলা) भारत के त्रिपुरा प्रान्त की राजधानी है। अगरतला की स्थापना 1850 में महाराज राधा कृष्ण किशोर माणिक्य बहादुर द्वारा की गई थी।\\nबांग्लादेश से केवल दो किमी दूर स्थित यह शहर सांस्कृतिक रूप से काफी समृद्ध है। अगरतला त्रिपुरा के पश्चिमी भाग में स्थित है और हरोआ नदी शहर से होकर गुजरती है। पर्यटन की दृष्टि से यह एक ऐसा शहर है, जहां मनोरंजन के तमाम साधन हैं, एंडवेंचर के ढेरों विकल्प हैं और सांस्कृतिक रूप से भी बेहद समृद्ध है। इसके अलावा यहां पाए जाने वाले अलग-अलग प्रकार के जीव-जन्तु और पेड़-पौधे अगरतला पर्यटन को और भी रोचक बना देते हैं।\\nअगरतला उस समय प्रकाश में आया जब माणिक्य वंश ने इसे अपनी राजधानी बनाया। 19वीं शताब्दी में कुकी के लगातार हमलों से परेशान होकर महाराज कृष्ण माणिक्य ने उत्तरी त्रिपुरा के उदयपुर स्थित रंगामाटी से अपनी राजधानी को अगरतला स्थानान्तरित कर दिया। राजधानी बदलने का एक और कारण यह भी था कि महाराज अपने साम्राज्य और पड़ोस में स्थित ब्रिटिश बांग्लादेश के साथ संपर्क बनाने चाहते थे। आज अगरतला जिस रूप में दिखाई देता है, दरअसल इसकी परिकल्पना 1940 में महाराज वीर बिक्रम किशोर माणिक्य बहादुर ने की थी। उन्होंने उस समय सड़क, मार्केट बिल्डिंग और नगरनिगम की योजना बनाई। उनके इस योगदान को देखते हुए ही अगरतला को ‘बीर बिक्रम सिंह माणिक्य बहादुर का शहर’ भी कहा जाता है। शाही राजधानी और बांग्लादेश से नजदीकी होने के कारण अतीत में कई बड़ी नामचीन हस्तियों ने अगरतला का भ्रमण किया। रविन्द्रनाथ टैगोर कई बार अगरतला आए थे। उनके बारे में कहा जाता है कि त्रिपुरा के राजाओं से उनके काफी गहरे संबंध थे।\\n पर्यटन स्थल \\n\\n1901 में निर्मित उज्जयंत पैलेस, अगरतला का मुख्य स्मारक है जो मुगल-यूरोपीय मिश्रित शैली में निर्मित है। 800 एकड़ में फैला यह विशाल परिसर अब राज्य की विधान सभा के रूप में प्रयुक्त होता है। इसमें बगीचे और मानव-निर्मित झीलें है। आमतौर पर इसे जनता के लिए नहीं खोला जाता परंतु यदि आप सायं 3 से 4 बजे के बीत मुख्य द्वार पर जाएं तो आप यहां प्रवेश के लिए प्रवेश-पास प्राप्त कर सकते हैं।\\n\\nपैलेस के मैदान में नारंगी रंग के दो मंदिर अर्थात् उम्मेनश्वर मंदिर और जगन्नाथ मंदिर स्थित है, जिनमें कोई भी व्यक्ति दर्शानार्थ जा सकता है।\\nएयरपोर्ट रोड पर लगभग 1 कि॰मी॰ उत्तर में वेणुबन विहार नामक एक बौद्ध मंदिर है। गेदू मियां मस्जिद, जो अनोखे तकीके से क्राकरी के टूटे हुए टुकड़ों से बनी है, भी दर्शनीय है।\\nएचजीबी रोड पर स्थित स्टेट म्यूजियम में एथनोग्राफिकल और आर्कियोलॉजी संबंधी वस्तुएं प्रदर्शित की गई हैं। यह सोमवार से शनिवार तक प्रात: 10 से सायं 5 बजे तक खुलता है, इसमें प्रवेश निशुल्क है। पर्यटन कार्यालय के पीछे स्थित ट्राइबल म्यूजियम त्रिपुरा के 19 आदिवासी समूहों की स्मृति के रूप में बनाया गया है।\\nपुराना अगरतला पूर्व में 5 कि॰मी॰ दूर है। यहां चौदह मूर्तियों वाला मंदिर है जहां जुलाई माह में श्रद्धालु कड़छी-पूजा के लिए एकत्र होते हैं। यहां आटोरिक्शा, बस और जीप द्वारा पहुंचा जा सकता है।\\nउज्जयंत महल\\nइस महल को महाराजा राधा किशोर माणिक्य ने बनवाया था। अगरतला जाने पर इस महल को जरूर घूमना चाहिए। इसका निर्माण कार्य 1901 में पूरा हुआ था और फिलहाल इसका इस्तेमाल राज्य विधानसभा के रूप में किया जा रहा है।\\nनीरमहल\\nमुख्य शहर से 53 किमी दूर स्थित इस खूबसूतर महल को महाराजा बीर बिक्रम किशोर माणिक्य ने बनवाया था। रुद्रसागर झील के बीच में स्थित इस महल में महाराजा गर्मियों के समय ठहरते थे। महल निर्माण में इस्लामिक और हिंदू वास्तुशिल्प का मिला-जुला रूप देखने को मिलता है, जिससे इसे काफी ख्याति भी मिली है।\\nजगन्नाथ मंदिर\\nअगरतला के सर्वाधिक पूजनीय मंदिरों में से एक जन्नाथ मंदिर अपनी अनूठी वास्तुशिल्पीय शैली के लिए जाना जाता है। यह एक अष्टभुजीय संरचना है और मंदिर के पवित्र स्थल के चारों ओर आकर्षक प्रधक्षण पठ है।\\nमहाराजा बीर बिक्रम कॉलेज\\nजैसा कि नाम से ही जाहिर है, इस कॉलेज को महाराजा बीर बिक्रम सिंह ने बनवाया था। 1947 में इस कॉलेज को बनवाने पीछे महाराजा कि मंशा स्थानीय युवाओं को व्यवसायिक और गुणवत्तायुक्त शिक्षा उपलब्ध कराना था।\\nलक्ष्मीनारायण मंदिर\\n\\nइस मंदिर में हिंदू धर्म को मानने वाले नियमित रूप से जाते हैं। साथ ही यह अगरतला का एक लोकप्रिय पर्यटन स्थल भी है। इस मंदिर को कृष्णानंद सेवायत ने बनवाया था।\\nरविन्द्र कानन\\nराज भवन के बगल में स्थित रविन्द्र कानन एक बड़ा सा हरा-भरा गार्डन है। यहां हर उम्र के लोग आते हैं। कुछ तो यहां मौज मस्ती के मकसद से आते हैं, वहीं कुछ इसका इस्तेमाल प्ले ग्राउंड के तौर पर भी करते हैं।\\nपिछले कुछ सालों में चावल, तिलहन, चाय और जूट के नियमित व्यापार से अगरतला पूर्वोत्तर भारत के एक व्यवसायिक गढ़ के रूप में भी उभरा है। शहर में कुछ फलते-फूलते बाजार हैं, जिन्हें घूमना बेकार नहीं जाएगा। इन बाजारों में बड़े पैमाने पर हस्तशिल्प और ऊन से बने वस्त्र आपको मिल जाएंगे।</td>\n",
       "      <td>भारत में नीरमहल कहाँ स्थित है?</td>\n",
       "      <td>रुद्रसागर झील के बीच में स्थित</td>\n",
       "      <td>2931</td>\n",
       "      <td>hindi</td>\n",
       "      <td>{'answer_start': [2931], 'text': ['रुद्रसागर झील के बीच में स्थित']}</td>\n",
       "    </tr>\n",
       "  </tbody>\n",
       "</table>"
      ],
      "text/plain": [
       "<IPython.core.display.HTML object>"
      ]
     },
     "metadata": {},
     "output_type": "display_data"
    }
   ],
   "source": [
    "# show_random_elements(dataset[\"train\"],num_examples=2)\n",
    "show_random_elements(dataset,num_examples=1)"
   ]
  },
  {
   "cell_type": "markdown",
   "id": "0a68cd11",
   "metadata": {
    "papermill": {
     "duration": 0.051903,
     "end_time": "2021-08-19T04:49:49.830572",
     "exception": false,
     "start_time": "2021-08-19T04:49:49.778669",
     "status": "completed"
    },
    "tags": []
   },
   "source": [
    "# Preprocessing"
   ]
  },
  {
   "cell_type": "code",
   "execution_count": 14,
   "id": "3f4987ab",
   "metadata": {
    "execution": {
     "iopub.execute_input": "2021-08-19T04:49:49.939874Z",
     "iopub.status.busy": "2021-08-19T04:49:49.939247Z",
     "iopub.status.idle": "2021-08-19T04:49:55.239718Z",
     "shell.execute_reply": "2021-08-19T04:49:55.239126Z",
     "shell.execute_reply.started": "2021-08-19T04:47:13.709822Z"
    },
    "papermill": {
     "duration": 5.357001,
     "end_time": "2021-08-19T04:49:55.239847",
     "exception": false,
     "start_time": "2021-08-19T04:49:49.882846",
     "status": "completed"
    },
    "tags": []
   },
   "outputs": [],
   "source": [
    "# model_checkpoint = \"distilbert-base-uncased\"\n",
    "# model_checkpoint = \"deepset/xlm-roberta-large-squad2\"\n",
    "# model_checkpoint = \"../input/xlm-roberta-squad2/deepset/xlm-roberta-base-squad2\"\n",
    "model_checkpoint = \"../input/xlm-roberta-squad2/deepset/xlm-roberta-large-squad2\"\n",
    "\n",
    "from transformers import XLMTokenizer,AutoTokenizer\n",
    "# tokenizer = XLMTokenizer.from_pretrained('xlm-mlm-en-2048')\n",
    "tokenizer = AutoTokenizer.from_pretrained(model_checkpoint)"
   ]
  },
  {
   "cell_type": "code",
   "execution_count": 15,
   "id": "aca4e1cd",
   "metadata": {
    "execution": {
     "iopub.execute_input": "2021-08-19T04:49:55.350566Z",
     "iopub.status.busy": "2021-08-19T04:49:55.350033Z",
     "iopub.status.idle": "2021-08-19T04:49:55.357513Z",
     "shell.execute_reply": "2021-08-19T04:49:55.357880Z",
     "shell.execute_reply.started": "2021-08-19T04:47:15.532892Z"
    },
    "papermill": {
     "duration": 0.064263,
     "end_time": "2021-08-19T04:49:55.358025",
     "exception": false,
     "start_time": "2021-08-19T04:49:55.293762",
     "status": "completed"
    },
    "tags": []
   },
   "outputs": [
    {
     "data": {
      "text/plain": [
       "{'input_ids': [0, 4865, 83, 935, 9351, 32, 2, 2, 2646, 9351, 83, 100973, 21845, 5, 2], 'attention_mask': [1, 1, 1, 1, 1, 1, 1, 1, 1, 1, 1, 1, 1, 1, 1]}"
      ]
     },
     "execution_count": 15,
     "metadata": {},
     "output_type": "execute_result"
    }
   ],
   "source": [
    "tokenizer(\"What is your name?\", \"My name is Sylvain.\")"
   ]
  },
  {
   "cell_type": "markdown",
   "id": "2556389c",
   "metadata": {
    "papermill": {
     "duration": 0.052915,
     "end_time": "2021-08-19T04:49:55.464175",
     "exception": false,
     "start_time": "2021-08-19T04:49:55.411260",
     "status": "completed"
    },
    "tags": []
   },
   "source": [
    "# Doc_stride is used to handle large text: tokens>512"
   ]
  },
  {
   "cell_type": "code",
   "execution_count": 16,
   "id": "e3f749cb",
   "metadata": {
    "execution": {
     "iopub.execute_input": "2021-08-19T04:49:55.574716Z",
     "iopub.status.busy": "2021-08-19T04:49:55.573987Z",
     "iopub.status.idle": "2021-08-19T04:49:55.576369Z",
     "shell.execute_reply": "2021-08-19T04:49:55.576776Z",
     "shell.execute_reply.started": "2021-08-19T04:47:15.981291Z"
    },
    "papermill": {
     "duration": 0.06049,
     "end_time": "2021-08-19T04:49:55.576914",
     "exception": false,
     "start_time": "2021-08-19T04:49:55.516424",
     "status": "completed"
    },
    "tags": []
   },
   "outputs": [],
   "source": [
    "max_length = 384 # The maximum length of a feature (question and context)\n",
    "doc_stride = 128 # The authorized overlap between two part of the context when splitting it is needed."
   ]
  },
  {
   "cell_type": "markdown",
   "id": "c5343f33",
   "metadata": {
    "papermill": {
     "duration": 0.051959,
     "end_time": "2021-08-19T04:49:55.681296",
     "exception": false,
     "start_time": "2021-08-19T04:49:55.629337",
     "status": "completed"
    },
    "tags": []
   },
   "source": [
    "# Checking one example"
   ]
  },
  {
   "cell_type": "code",
   "execution_count": 17,
   "id": "286fc945",
   "metadata": {
    "execution": {
     "iopub.execute_input": "2021-08-19T04:49:55.791691Z",
     "iopub.status.busy": "2021-08-19T04:49:55.790718Z",
     "iopub.status.idle": "2021-08-19T04:49:55.808040Z",
     "shell.execute_reply": "2021-08-19T04:49:55.808428Z",
     "shell.execute_reply.started": "2021-08-19T04:47:16.439313Z"
    },
    "papermill": {
     "duration": 0.074926,
     "end_time": "2021-08-19T04:49:55.808551",
     "exception": false,
     "start_time": "2021-08-19T04:49:55.733625",
     "status": "completed"
    },
    "tags": []
   },
   "outputs": [
    {
     "name": "stderr",
     "output_type": "stream",
     "text": [
      "Token indices sequence length is longer than the specified maximum sequence length for this model (1504 > 512). Running this sequence through the model will result in indexing errors\n"
     ]
    },
    {
     "data": {
      "text/plain": [
       "1504"
      ]
     },
     "execution_count": 17,
     "metadata": {},
     "output_type": "execute_result"
    }
   ],
   "source": [
    "# for i, example in enumerate(dataset[\"train\"]):\n",
    "for i, example in enumerate(dataset):\n",
    "    if len(tokenizer(example[\"question\"], example[\"context\"])[\"input_ids\"]) > 384:\n",
    "        break\n",
    "# example = dataset[\"train\"][i]\n",
    "example = dataset[i]\n",
    "# One example of length greater than 512\n",
    "len(tokenizer(example[\"question\"], example[\"context\"])[\"input_ids\"])"
   ]
  },
  {
   "cell_type": "code",
   "execution_count": 18,
   "id": "100aa31c",
   "metadata": {
    "execution": {
     "iopub.execute_input": "2021-08-19T04:49:55.923797Z",
     "iopub.status.busy": "2021-08-19T04:49:55.923043Z",
     "iopub.status.idle": "2021-08-19T04:49:55.933669Z",
     "shell.execute_reply": "2021-08-19T04:49:55.933266Z",
     "shell.execute_reply.started": "2021-08-19T04:47:16.911383Z"
    },
    "papermill": {
     "duration": 0.072353,
     "end_time": "2021-08-19T04:49:55.933774",
     "exception": false,
     "start_time": "2021-08-19T04:49:55.861421",
     "status": "completed"
    },
    "tags": []
   },
   "outputs": [
    {
     "data": {
      "text/plain": [
       "384"
      ]
     },
     "execution_count": 18,
     "metadata": {},
     "output_type": "execute_result"
    }
   ],
   "source": [
    "len(tokenizer(example[\"question\"], example[\"context\"], max_length=max_length, truncation=\"only_second\")[\"input_ids\"])"
   ]
  },
  {
   "cell_type": "code",
   "execution_count": 19,
   "id": "41a96d88",
   "metadata": {
    "execution": {
     "iopub.execute_input": "2021-08-19T04:49:56.044342Z",
     "iopub.status.busy": "2021-08-19T04:49:56.043494Z",
     "iopub.status.idle": "2021-08-19T04:49:56.051616Z",
     "shell.execute_reply": "2021-08-19T04:49:56.052129Z",
     "shell.execute_reply.started": "2021-08-19T04:47:17.042125Z"
    },
    "papermill": {
     "duration": 0.065269,
     "end_time": "2021-08-19T04:49:56.052247",
     "exception": false,
     "start_time": "2021-08-19T04:49:55.986978",
     "status": "completed"
    },
    "tags": []
   },
   "outputs": [
    {
     "data": {
      "text/plain": [
       "6"
      ]
     },
     "execution_count": 19,
     "metadata": {},
     "output_type": "execute_result"
    }
   ],
   "source": [
    "tokenized_example = tokenizer(\n",
    "    example[\"question\"],\n",
    "    example[\"context\"],\n",
    "    max_length=max_length,\n",
    "    truncation=\"only_second\",\n",
    "    return_overflowing_tokens=True,\n",
    "    stride=doc_stride\n",
    ")\n",
    "len(tokenized_example[\"input_ids\"])"
   ]
  },
  {
   "cell_type": "code",
   "execution_count": 20,
   "id": "74ea48bd",
   "metadata": {
    "execution": {
     "iopub.execute_input": "2021-08-19T04:49:56.164883Z",
     "iopub.status.busy": "2021-08-19T04:49:56.164161Z",
     "iopub.status.idle": "2021-08-19T04:49:56.167780Z",
     "shell.execute_reply": "2021-08-19T04:49:56.167284Z",
     "shell.execute_reply.started": "2021-08-19T04:47:17.200847Z"
    },
    "papermill": {
     "duration": 0.061856,
     "end_time": "2021-08-19T04:49:56.167880",
     "exception": false,
     "start_time": "2021-08-19T04:49:56.106024",
     "status": "completed"
    },
    "tags": []
   },
   "outputs": [
    {
     "data": {
      "text/plain": [
       "[384, 384, 384, 384, 384, 294]"
      ]
     },
     "execution_count": 20,
     "metadata": {},
     "output_type": "execute_result"
    }
   ],
   "source": [
    "[len(x) for x in tokenized_example[\"input_ids\"]]"
   ]
  },
  {
   "cell_type": "code",
   "execution_count": 21,
   "id": "93e49bd1",
   "metadata": {
    "execution": {
     "iopub.execute_input": "2021-08-19T04:49:56.281402Z",
     "iopub.status.busy": "2021-08-19T04:49:56.280770Z",
     "iopub.status.idle": "2021-08-19T04:49:56.286044Z",
     "shell.execute_reply": "2021-08-19T04:49:56.285445Z",
     "shell.execute_reply.started": "2021-08-19T04:47:17.361395Z"
    },
    "papermill": {
     "duration": 0.064438,
     "end_time": "2021-08-19T04:49:56.286200",
     "exception": false,
     "start_time": "2021-08-19T04:49:56.221762",
     "status": "completed"
    },
    "tags": []
   },
   "outputs": [
    {
     "name": "stdout",
     "output_type": "stream",
     "text": [
      "<s> மனித உடலில் எத்தனை எலும்புகள் உள்ளன?</s></s> ஒரு சாதாரண வளர்ந்த மனிதனுடைய எலும்புக்கூடு பின்வரும் 206 (மார்பெலும்பு மூன்று பகுதிகளாகக் கருதப்பட்டால் 208) எண்ணிக்கையான எலும்புகளைக் கொண்டிருக்கும். இந்த எண்ணிக்கை உடற்கூட்டியல் வேறுபாடுகளைப் பொறுத்து மாறுபடக்கூடும். எடுத்துக்காட்டாக, மிகக் குறைந்த எண்ணிக்கையான மனிதர்களில், ஒரு மேலதிக விலா எலும்பு (கழுத்துவில்) அல்லது ஒரு மேலதிகமான கீழ் முதுகெலும்பு காணப்படுவதுண்டு; இணைந்த சில எலும்புகளைத் தனி எலும்பாகக் கருதாவிடின், ஐந்து இணைந்த திருவெலும்பு; மூன்று (3 - 5) குயிலலகு எலும்புகள் சேர்ந்து 26 எண்ணிக்கையிலான முதுகெலும்புகள் 33 ஆகக் கருதப்படலாம். மனித மண்டையோட்டில் 22 எலும்புகள் (காதுச் சிற்றென்புகளைத் தவிர) உள்ளன; இவை எட்டு மண்டையறை (cranium) எலும்புகளாகவும் 14 முக எலும்புகளாகவும் (facial bones) பிரிக்கப்பட்டுள்ளன. (தடித்த எண்கள் அருகிலுள்ள படத்தில் காணும் எண்களைக் குறிக்கின்றன.) மண்டையறை எலும்புகள் (8) 1 நுதலெலும்பு (frontal bone) 2 சுவரெலும்பு (parietal bone) (2) 3 கடைநுதலெலும்பு (temporal bone) (2) 4 பிடர் எலும்பு (occipital bone) ஆப்புரு எலும்பு (sphenoid bone) நெய்யரியெலும்பு (ethmoid bone) முக எலும்புகள் (14) 7 கீழ்த்தாடை எலும்பு (mandible) 6 மேற்றாடை எலும்பு (maxilla) (2) அண்ணவெலும்பு (palatine bone) (2) 5 கன்ன எலும்பு (zygomatic bone</s>\n",
      "<s> மனித உடலில் எத்தனை எலும்புகள் உள்ளன?</s></s>கள் (8) 1 நுதலெலும்பு (frontal bone) 2 சுவரெலும்பு (parietal bone) (2) 3 கடைநுதலெலும்பு (temporal bone) (2) 4 பிடர் எலும்பு (occipital bone) ஆப்புரு எலும்பு (sphenoid bone) நெய்யரியெலும்பு (ethmoid bone) முக எலும்புகள் (14) 7 கீழ்த்தாடை எலும்பு (mandible) 6 மேற்றாடை எலும்பு (maxilla) (2) அண்ணவெலும்பு (palatine bone) (2) 5 கன்ன எலும்பு (zygomatic bone) (2) 9 நாசி எலும்பு (nasal bone) (2) கண்ணீர் எலும்பு (lacrimal bone) (2) மூக்குச் சுவர் எலும்பு (vomer) கீழ் மூக்குத் தடுப்பெலும்பு (inferior nasal conchae) (2) நடுக்காதுகளில் (6): சம்மட்டியுரு (malleus) பட்டையுரு (incus) ஏந்தியுரு (stapes) தொண்டையில் (1): தொண்டை எலும்பு (நாவடி எலும்பு) (hyoid) தோள் பட்டையில் (4): 25. காறை எலும்பு (clavicle) 29. தோள் எலும்பு (scapula) மார்புக்கூட்டில் thorax(25): 10. மார்பெலும்பு (sternum) (1) மேலும் மூன்று என்புகளாகக் கருதப்படலாம்: பிடியுரு (manubrium), உடல் மார்பெலும்பு (body of sternum), வாள்வடிவ நீட்டம் (xiphoid process) 28. விலா எலும்புகள் (rib) (24) முதுகெலும்புத் தூண் (vertebral column) (33): 8. கழுத்து முள்ளெலும்புகள்</s>\n"
     ]
    }
   ],
   "source": [
    "for x in tokenized_example[\"input_ids\"][:2]:\n",
    "    print(tokenizer.decode(x))"
   ]
  },
  {
   "cell_type": "code",
   "execution_count": 22,
   "id": "2dd64314",
   "metadata": {
    "execution": {
     "iopub.execute_input": "2021-08-19T04:49:56.403636Z",
     "iopub.status.busy": "2021-08-19T04:49:56.402793Z",
     "iopub.status.idle": "2021-08-19T04:49:56.412035Z",
     "shell.execute_reply": "2021-08-19T04:49:56.412715Z",
     "shell.execute_reply.started": "2021-08-19T04:47:17.590811Z"
    },
    "papermill": {
     "duration": 0.069687,
     "end_time": "2021-08-19T04:49:56.412873",
     "exception": false,
     "start_time": "2021-08-19T04:49:56.343186",
     "status": "completed"
    },
    "tags": []
   },
   "outputs": [
    {
     "name": "stdout",
     "output_type": "stream",
     "text": [
      "384\n",
      "[(0, 0), (0, 4), (4, 7), (7, 11), (11, 18), (18, 20), (20, 24), (24, 26), (26, 29), (29, 35), (35, 36), (0, 0), (0, 0), (0, 3), (3, 10), (10, 15), (15, 18), (18, 23), (23, 24), (24, 28), (28, 30), (30, 34), (34, 36), (36, 41), (41, 42), (42, 47), (47, 52), (52, 56), (56, 58), (58, 60), (60, 62), (62, 64), (64, 68), (68, 70), (70, 77), (77, 83), (83, 87), (87, 89), (89, 94), (94, 100), (100, 103), (103, 107), (107, 108), (108, 118), (118, 121), (121, 123), (123, 127), (127, 129), (129, 134), (134, 140), (140, 149), (149, 150), (150, 155), (155, 165), (165, 168), (168, 170), (170, 172), (172, 175), (175, 179), (179, 184), (184, 188), (188, 193), (193, 201), (201, 202), (202, 205), (205, 207), (207, 209), (209, 214), (214, 217), (217, 218), (218, 228), (228, 230), (230, 234), (234, 235), (235, 236), (236, 240), (240, 242), (242, 250), (250, 260), (260, 263), (263, 270), (270, 275), (275, 276), (276, 280), (280, 284), (284, 286), (286, 287), (287, 290), (290, 292), (292, 294), (294, 298), (298, 300), (300, 302), (302, 303), (303, 305), (305, 309), (309, 313), (313, 314), (314, 321), (321, 325)]\n"
     ]
    }
   ],
   "source": [
    "tokenized_example = tokenizer(\n",
    "    example[\"question\"],\n",
    "    example[\"context\"],\n",
    "    max_length=max_length,\n",
    "    truncation=\"only_second\",\n",
    "    return_overflowing_tokens=True,\n",
    "    return_offsets_mapping=True,\n",
    "    stride=doc_stride\n",
    ")\n",
    "print(len(tokenized_example[\"offset_mapping\"][0]))\n",
    "print(tokenized_example[\"offset_mapping\"][0][:100])"
   ]
  },
  {
   "cell_type": "code",
   "execution_count": 23,
   "id": "401ea356",
   "metadata": {
    "execution": {
     "iopub.execute_input": "2021-08-19T04:49:56.525742Z",
     "iopub.status.busy": "2021-08-19T04:49:56.525051Z",
     "iopub.status.idle": "2021-08-19T04:49:56.527445Z",
     "shell.execute_reply": "2021-08-19T04:49:56.527908Z",
     "shell.execute_reply.started": "2021-08-19T04:47:17.749503Z"
    },
    "papermill": {
     "duration": 0.059961,
     "end_time": "2021-08-19T04:49:56.528050",
     "exception": false,
     "start_time": "2021-08-19T04:49:56.468089",
     "status": "completed"
    },
    "tags": []
   },
   "outputs": [],
   "source": [
    "# first_token_id = tokenized_example[\"input_ids\"][0][1]\n",
    "# offsets = tokenized_example[\"offset_mapping\"][0][1]\n",
    "# print(tokenizer.convert_ids_to_tokens([first_token_id])[0], example[\"question\"][offsets[0]:offsets[1]])"
   ]
  },
  {
   "cell_type": "code",
   "execution_count": 24,
   "id": "47faa5d8",
   "metadata": {
    "execution": {
     "iopub.execute_input": "2021-08-19T04:49:56.640035Z",
     "iopub.status.busy": "2021-08-19T04:49:56.639310Z",
     "iopub.status.idle": "2021-08-19T04:49:56.641933Z",
     "shell.execute_reply": "2021-08-19T04:49:56.641513Z",
     "shell.execute_reply.started": "2021-08-19T04:47:17.947395Z"
    },
    "papermill": {
     "duration": 0.059486,
     "end_time": "2021-08-19T04:49:56.642038",
     "exception": false,
     "start_time": "2021-08-19T04:49:56.582552",
     "status": "completed"
    },
    "tags": []
   },
   "outputs": [],
   "source": [
    "# tokenized_example"
   ]
  },
  {
   "cell_type": "code",
   "execution_count": 25,
   "id": "8addc1bf",
   "metadata": {
    "execution": {
     "iopub.execute_input": "2021-08-19T04:49:56.754360Z",
     "iopub.status.busy": "2021-08-19T04:49:56.753770Z",
     "iopub.status.idle": "2021-08-19T04:49:56.756804Z",
     "shell.execute_reply": "2021-08-19T04:49:56.757397Z",
     "shell.execute_reply.started": "2021-08-19T04:47:18.152070Z"
    },
    "papermill": {
     "duration": 0.061354,
     "end_time": "2021-08-19T04:49:56.757549",
     "exception": false,
     "start_time": "2021-08-19T04:49:56.696195",
     "status": "completed"
    },
    "tags": []
   },
   "outputs": [
    {
     "name": "stdout",
     "output_type": "stream",
     "text": [
      "384\n",
      "[None, 0, 0, 0, 0, 0, 0, 0, 0, 0, 0, None, None, 1, 1, 1, 1, 1, 1, 1, 1, 1, 1, 1, 1, 1, 1, 1, 1, 1, 1, 1, 1, 1, 1, 1, 1, 1, 1, 1, 1, 1, 1, 1, 1, 1, 1, 1, 1, 1, 1, 1, 1, 1, 1, 1, 1, 1, 1, 1, 1, 1, 1, 1, 1, 1, 1, 1, 1, 1, 1, 1, 1, 1, 1, 1, 1, 1, 1, 1, 1, 1, 1, 1, 1, 1, 1, 1, 1, 1, 1, 1, 1, 1, 1, 1, 1, 1, 1, 1, 1, 1, 1, 1, 1, 1, 1, 1, 1, 1, 1, 1, 1, 1, 1, 1, 1, 1, 1, 1, 1, 1, 1, 1, 1, 1, 1, 1, 1, 1, 1, 1, 1, 1, 1, 1, 1, 1, 1, 1, 1, 1, 1, 1, 1, 1, 1, 1, 1, 1, 1, 1, 1, 1, 1, 1, 1, 1, 1, 1, 1, 1, 1, 1, 1, 1, 1, 1, 1, 1, 1, 1, 1, 1, 1, 1, 1, 1, 1, 1, 1, 1, 1, 1, 1, 1, 1, 1, 1, 1, 1, 1, 1, 1, 1, 1, 1, 1, 1, 1, 1, 1, 1, 1, 1, 1, 1, 1, 1, 1, 1, 1, 1, 1, 1, 1, 1, 1, 1, 1, 1, 1, 1, 1, 1, 1, 1, 1, 1, 1, 1, 1, 1, 1, 1, 1, 1, 1, 1, 1, 1, 1, 1, 1, 1, 1, 1, 1, 1, 1, 1, 1, 1, 1, 1, 1, 1, 1, 1, 1, 1, 1, 1, 1, 1, 1, 1, 1, 1, 1, 1, 1, 1, 1, 1, 1, 1, 1, 1, 1, 1, 1, 1, 1, 1, 1, 1, 1, 1, 1, 1, 1, 1, 1, 1, 1, 1, 1, 1, 1, 1, 1, 1, 1, 1, 1, 1, 1, 1, 1, 1, 1, 1, 1, 1, 1, 1, 1, 1, 1, 1, 1, 1, 1, 1, 1, 1, 1, 1, 1, 1, 1, 1, 1, 1, 1, 1, 1, 1, 1, 1, 1, 1, 1, 1, 1, 1, 1, 1, 1, 1, 1, 1, 1, 1, 1, 1, 1, 1, 1, 1, 1, 1, 1, 1, 1, 1, 1, 1, 1, 1, 1, 1, 1, 1, 1, 1, 1, 1, 1, 1, 1, 1, None]\n"
     ]
    }
   ],
   "source": [
    "sequence_ids = tokenized_example.sequence_ids()\n",
    "print(len(sequence_ids))\n",
    "print(sequence_ids)    "
   ]
  },
  {
   "cell_type": "code",
   "execution_count": 26,
   "id": "3842c482",
   "metadata": {
    "execution": {
     "iopub.execute_input": "2021-08-19T04:49:56.871768Z",
     "iopub.status.busy": "2021-08-19T04:49:56.871063Z",
     "iopub.status.idle": "2021-08-19T04:49:56.874398Z",
     "shell.execute_reply": "2021-08-19T04:49:56.875037Z",
     "shell.execute_reply.started": "2021-08-19T04:47:18.379369Z"
    },
    "papermill": {
     "duration": 0.062226,
     "end_time": "2021-08-19T04:49:56.875190",
     "exception": false,
     "start_time": "2021-08-19T04:49:56.812964",
     "status": "completed"
    },
    "tags": []
   },
   "outputs": [
    {
     "name": "stdout",
     "output_type": "stream",
     "text": [
      "dict_keys(['id', 'context', 'question', 'answer_text', 'answer_start', 'language', 'answers'])\n"
     ]
    }
   ],
   "source": [
    "pprint(example.keys())"
   ]
  },
  {
   "cell_type": "code",
   "execution_count": 27,
   "id": "b7a3f32b",
   "metadata": {
    "execution": {
     "iopub.execute_input": "2021-08-19T04:49:56.999408Z",
     "iopub.status.busy": "2021-08-19T04:49:56.998798Z",
     "iopub.status.idle": "2021-08-19T04:49:57.001726Z",
     "shell.execute_reply": "2021-08-19T04:49:57.002381Z",
     "shell.execute_reply.started": "2021-08-19T04:47:18.607815Z"
    },
    "papermill": {
     "duration": 0.066326,
     "end_time": "2021-08-19T04:49:57.002566",
     "exception": false,
     "start_time": "2021-08-19T04:49:56.936240",
     "status": "completed"
    },
    "tags": []
   },
   "outputs": [
    {
     "name": "stdout",
     "output_type": "stream",
     "text": [
      "27 27\n"
     ]
    }
   ],
   "source": [
    "answers = example[\"answers\"]\n",
    "start_char = answers[\"answer_start\"][0]\n",
    "end_char = start_char + len(answers[\"text\"][0])\n",
    "\n",
    "# Start token index of the current span in the text.\n",
    "token_start_index = 0\n",
    "while sequence_ids[token_start_index] != 1:\n",
    "    token_start_index += 1\n",
    "\n",
    "# End token index of the current span in the text.\n",
    "token_end_index = len(tokenized_example[\"input_ids\"][0]) - 1\n",
    "while sequence_ids[token_end_index] != 1:\n",
    "    token_end_index -= 1\n",
    "\n",
    "# Detect if the answer is out of the span (in which case this feature is labeled with the CLS index).\n",
    "offsets = tokenized_example[\"offset_mapping\"][0]\n",
    "if (offsets[token_start_index][0] <= start_char and offsets[token_end_index][1] >= end_char):\n",
    "    # Move the token_start_index and token_end_index to the two ends of the answer.\n",
    "    # Note: we could go after the last offset if the answer is the last word (edge case).\n",
    "    while token_start_index < len(offsets) and offsets[token_start_index][0] <= start_char:\n",
    "        token_start_index += 1\n",
    "    start_position = token_start_index - 1\n",
    "    while offsets[token_end_index][1] >= end_char:\n",
    "        token_end_index -= 1\n",
    "    end_position = token_end_index + 1\n",
    "    print(start_position, end_position)\n",
    "else:\n",
    "    print(\"The answer is not in this feature.\")"
   ]
  },
  {
   "cell_type": "code",
   "execution_count": 28,
   "id": "aafa88c6",
   "metadata": {
    "execution": {
     "iopub.execute_input": "2021-08-19T04:49:57.119167Z",
     "iopub.status.busy": "2021-08-19T04:49:57.118490Z",
     "iopub.status.idle": "2021-08-19T04:49:57.121393Z",
     "shell.execute_reply": "2021-08-19T04:49:57.120913Z",
     "shell.execute_reply.started": "2021-08-19T04:47:18.761478Z"
    },
    "papermill": {
     "duration": 0.061074,
     "end_time": "2021-08-19T04:49:57.121499",
     "exception": false,
     "start_time": "2021-08-19T04:49:57.060425",
     "status": "completed"
    },
    "tags": []
   },
   "outputs": [],
   "source": [
    "# print(tokenizer.decode(tokenized_example[\"input_ids\"][0][35]))\n",
    "# print(tokenizer.decode(tokenized_example[\"input_ids\"][0]))"
   ]
  },
  {
   "cell_type": "code",
   "execution_count": 29,
   "id": "7b41f56b",
   "metadata": {
    "execution": {
     "iopub.execute_input": "2021-08-19T04:49:57.236289Z",
     "iopub.status.busy": "2021-08-19T04:49:57.235748Z",
     "iopub.status.idle": "2021-08-19T04:49:57.238682Z",
     "shell.execute_reply": "2021-08-19T04:49:57.239269Z",
     "shell.execute_reply.started": "2021-08-19T04:47:18.946248Z"
    },
    "papermill": {
     "duration": 0.062685,
     "end_time": "2021-08-19T04:49:57.239433",
     "exception": false,
     "start_time": "2021-08-19T04:49:57.176748",
     "status": "completed"
    },
    "tags": []
   },
   "outputs": [
    {
     "name": "stdout",
     "output_type": "stream",
     "text": [
      "206\n",
      "206\n"
     ]
    }
   ],
   "source": [
    "print(tokenizer.decode(tokenized_example[\"input_ids\"][0][start_position: end_position+1]))\n",
    "print(example[\"answer_text\"])"
   ]
  },
  {
   "cell_type": "code",
   "execution_count": 30,
   "id": "14111ff8",
   "metadata": {
    "execution": {
     "iopub.execute_input": "2021-08-19T04:49:57.356422Z",
     "iopub.status.busy": "2021-08-19T04:49:57.355699Z",
     "iopub.status.idle": "2021-08-19T04:49:57.358554Z",
     "shell.execute_reply": "2021-08-19T04:49:57.358068Z",
     "shell.execute_reply.started": "2021-08-19T04:47:19.132319Z"
    },
    "papermill": {
     "duration": 0.062553,
     "end_time": "2021-08-19T04:49:57.358670",
     "exception": false,
     "start_time": "2021-08-19T04:49:57.296117",
     "status": "completed"
    },
    "tags": []
   },
   "outputs": [],
   "source": [
    "# In some padding required on left side\n",
    "pad_on_right = tokenizer.padding_side == \"right\""
   ]
  },
  {
   "cell_type": "markdown",
   "id": "282019e5",
   "metadata": {
    "papermill": {
     "duration": 0.055464,
     "end_time": "2021-08-19T04:49:57.470603",
     "exception": false,
     "start_time": "2021-08-19T04:49:57.415139",
     "status": "completed"
    },
    "tags": []
   },
   "source": [
    "# putting all together"
   ]
  },
  {
   "cell_type": "code",
   "execution_count": 31,
   "id": "b051ade2",
   "metadata": {
    "execution": {
     "iopub.execute_input": "2021-08-19T04:49:57.595040Z",
     "iopub.status.busy": "2021-08-19T04:49:57.589467Z",
     "iopub.status.idle": "2021-08-19T04:49:57.597103Z",
     "shell.execute_reply": "2021-08-19T04:49:57.597536Z",
     "shell.execute_reply.started": "2021-08-19T04:47:19.516184Z"
    },
    "papermill": {
     "duration": 0.071412,
     "end_time": "2021-08-19T04:49:57.597665",
     "exception": false,
     "start_time": "2021-08-19T04:49:57.526253",
     "status": "completed"
    },
    "tags": []
   },
   "outputs": [],
   "source": [
    "def prepare_train_features(examples):\n",
    "    # Some of the questions have lots of whitespace on the left, which is not useful and will make the\n",
    "    # truncation of the context fail (the tokenized question will take a lots of space). So we remove that\n",
    "    # left whitespace\n",
    "    examples[\"question\"] = [q.lstrip() for q in examples[\"question\"]]\n",
    "\n",
    "    # Tokenize our examples with truncation and padding, but keep the overflows using a stride. This results\n",
    "    # in one example possible giving several features when a context is long, each of those features having a\n",
    "    # context that overlaps a bit the context of the previous feature.\n",
    "    tokenized_examples = tokenizer(\n",
    "        examples[\"question\" if pad_on_right else \"context\"],\n",
    "        examples[\"context\" if pad_on_right else \"question\"],\n",
    "        truncation=\"only_second\" if pad_on_right else \"only_first\",\n",
    "        max_length=max_length,\n",
    "        stride=doc_stride,\n",
    "        return_overflowing_tokens=True,\n",
    "        return_offsets_mapping=True,\n",
    "        padding=\"max_length\",\n",
    "    )\n",
    "\n",
    "    # Since one example might give us several features if it has a long context, we need a map from a feature to\n",
    "    # its corresponding example. This key gives us just that.\n",
    "    sample_mapping = tokenized_examples.pop(\"overflow_to_sample_mapping\")\n",
    "    # The offset mappings will give us a map from token to character position in the original context. This will\n",
    "    # help us compute the start_positions and end_positions.\n",
    "    offset_mapping = tokenized_examples.pop(\"offset_mapping\")\n",
    "#     print(len(offset_mapping))\n",
    "\n",
    "    # Let's label those examples!\n",
    "    tokenized_examples[\"start_positions\"] = []\n",
    "    tokenized_examples[\"end_positions\"] = []\n",
    "\n",
    "    for i, offsets in enumerate(offset_mapping):\n",
    "        # We will label impossible answers with the index of the CLS token.\n",
    "        input_ids = tokenized_examples[\"input_ids\"][i]\n",
    "        cls_index = input_ids.index(tokenizer.cls_token_id)\n",
    "\n",
    "        # Grab the sequence corresponding to that example (to know what is the context and what is the question).\n",
    "        sequence_ids = tokenized_examples.sequence_ids(i)\n",
    "\n",
    "        # One example can give several spans, this is the index of the example containing this span of text.\n",
    "        sample_index = sample_mapping[i]\n",
    "        answers = examples[\"answers\"][sample_index]\n",
    "        # If no answers are given, set the cls_index as answer.\n",
    "        if len(answers[\"answer_start\"]) == 0:\n",
    "            tokenized_examples[\"start_positions\"].append(cls_index)\n",
    "            tokenized_examples[\"end_positions\"].append(cls_index)\n",
    "        else:\n",
    "            # Start/end character index of the answer in the text.\n",
    "            start_char = answers[\"answer_start\"][0]\n",
    "            end_char = start_char + len(answers[\"text\"][0])\n",
    "\n",
    "            # Start token index of the current span in the text.\n",
    "            token_start_index = 0\n",
    "            while sequence_ids[token_start_index] != (1 if pad_on_right else 0):\n",
    "                token_start_index += 1\n",
    "\n",
    "            # End token index of the current span in the text.\n",
    "            token_end_index = len(input_ids) - 1\n",
    "            while sequence_ids[token_end_index] != (1 if pad_on_right else 0):\n",
    "                token_end_index -= 1\n",
    "\n",
    "            # Detect if the answer is out of the span (in which case this feature is labeled with the CLS index).\n",
    "            if not (offsets[token_start_index][0] <= start_char and offsets[token_end_index][1] >= end_char):\n",
    "                tokenized_examples[\"start_positions\"].append(cls_index)\n",
    "                tokenized_examples[\"end_positions\"].append(cls_index)\n",
    "            else:\n",
    "                # Otherwise move the token_start_index and token_end_index to the two ends of the answer.\n",
    "                # Note: we could go after the last offset if the answer is the last word (edge case).\n",
    "                while token_start_index < len(offsets) and offsets[token_start_index][0] <= start_char:\n",
    "                    token_start_index += 1\n",
    "                tokenized_examples[\"start_positions\"].append(token_start_index - 1)\n",
    "                while offsets[token_end_index][1] >= end_char:\n",
    "                    token_end_index -= 1\n",
    "                tokenized_examples[\"end_positions\"].append(token_end_index + 1)\n",
    "\n",
    "    return tokenized_examples"
   ]
  },
  {
   "cell_type": "code",
   "execution_count": 32,
   "id": "fada21ad",
   "metadata": {
    "execution": {
     "iopub.execute_input": "2021-08-19T04:49:57.720465Z",
     "iopub.status.busy": "2021-08-19T04:49:57.719684Z",
     "iopub.status.idle": "2021-08-19T04:49:57.761792Z",
     "shell.execute_reply": "2021-08-19T04:49:57.762248Z",
     "shell.execute_reply.started": "2021-08-19T04:47:19.729910Z"
    },
    "papermill": {
     "duration": 0.10965,
     "end_time": "2021-08-19T04:49:57.762368",
     "exception": false,
     "start_time": "2021-08-19T04:49:57.652718",
     "status": "completed"
    },
    "tags": []
   },
   "outputs": [],
   "source": [
    "# features = prepare_train_features(dataset['train'][:5])\n",
    "features = prepare_train_features(dataset[:5])"
   ]
  },
  {
   "cell_type": "code",
   "execution_count": 33,
   "id": "b54c5d54",
   "metadata": {
    "execution": {
     "iopub.execute_input": "2021-08-19T04:49:57.878005Z",
     "iopub.status.busy": "2021-08-19T04:49:57.877183Z",
     "iopub.status.idle": "2021-08-19T04:49:57.881055Z",
     "shell.execute_reply": "2021-08-19T04:49:57.881508Z",
     "shell.execute_reply.started": "2021-08-19T04:47:19.959086Z"
    },
    "papermill": {
     "duration": 0.063995,
     "end_time": "2021-08-19T04:49:57.881625",
     "exception": false,
     "start_time": "2021-08-19T04:49:57.817630",
     "status": "completed"
    },
    "tags": []
   },
   "outputs": [
    {
     "name": "stdout",
     "output_type": "stream",
     "text": [
      "dict_keys(['input_ids', 'attention_mask', 'start_positions', 'end_positions'])\n"
     ]
    },
    {
     "data": {
      "text/plain": [
       "45"
      ]
     },
     "execution_count": 33,
     "metadata": {},
     "output_type": "execute_result"
    }
   ],
   "source": [
    "print(features.keys())\n",
    "len(features['input_ids'])"
   ]
  },
  {
   "cell_type": "markdown",
   "id": "99bad568",
   "metadata": {
    "papermill": {
     "duration": 0.055685,
     "end_time": "2021-08-19T04:49:57.993194",
     "exception": false,
     "start_time": "2021-08-19T04:49:57.937509",
     "status": "completed"
    },
    "tags": []
   },
   "source": [
    "# Apply on all in one go"
   ]
  },
  {
   "cell_type": "code",
   "execution_count": 34,
   "id": "4902befa",
   "metadata": {
    "execution": {
     "iopub.execute_input": "2021-08-19T04:49:58.112005Z",
     "iopub.status.busy": "2021-08-19T04:49:58.111116Z",
     "iopub.status.idle": "2021-08-19T04:49:58.162857Z",
     "shell.execute_reply": "2021-08-19T04:49:58.162239Z",
     "shell.execute_reply.started": "2021-08-19T04:47:20.366154Z"
    },
    "papermill": {
     "duration": 0.113671,
     "end_time": "2021-08-19T04:49:58.162993",
     "exception": false,
     "start_time": "2021-08-19T04:49:58.049322",
     "status": "completed"
    },
    "tags": []
   },
   "outputs": [],
   "source": [
    "dataset = Dataset.from_pandas(train[:-64])\n",
    "eval_dataset = Dataset.from_pandas(train[-64:])\n",
    "\n",
    "#just to verify pipeline\n",
    "# dataset = Dataset.from_pandas(train[:32])\n",
    "# eval_dataset = Dataset.from_pandas(train[32:48])"
   ]
  },
  {
   "cell_type": "code",
   "execution_count": 35,
   "id": "d35cced4",
   "metadata": {
    "execution": {
     "iopub.execute_input": "2021-08-19T04:49:58.309932Z",
     "iopub.status.busy": "2021-08-19T04:49:58.308805Z",
     "iopub.status.idle": "2021-08-19T04:50:34.053602Z",
     "shell.execute_reply": "2021-08-19T04:50:34.054187Z",
     "shell.execute_reply.started": "2021-08-19T04:47:20.602045Z"
    },
    "papermill": {
     "duration": 35.83426,
     "end_time": "2021-08-19T04:50:34.054392",
     "exception": false,
     "start_time": "2021-08-19T04:49:58.220132",
     "status": "completed"
    },
    "tags": []
   },
   "outputs": [
    {
     "data": {
      "application/vnd.jupyter.widget-view+json": {
       "model_id": "b678e3157eef4ee8b3a318cbed0346d6",
       "version_major": 2,
       "version_minor": 0
      },
      "text/plain": [
       "HBox(children=(FloatProgress(value=0.0, max=2.0), HTML(value='')))"
      ]
     },
     "metadata": {},
     "output_type": "display_data"
    },
    {
     "name": "stdout",
     "output_type": "stream",
     "text": [
      "\n"
     ]
    },
    {
     "data": {
      "application/vnd.jupyter.widget-view+json": {
       "model_id": "8f38362825cb40d5bae5f2717bdd2974",
       "version_major": 2,
       "version_minor": 0
      },
      "text/plain": [
       "HBox(children=(FloatProgress(value=0.0, max=1.0), HTML(value='')))"
      ]
     },
     "metadata": {},
     "output_type": "display_data"
    },
    {
     "name": "stdout",
     "output_type": "stream",
     "text": [
      "\n"
     ]
    }
   ],
   "source": [
    "tokenized_train_datasets = dataset.map(prepare_train_features, batched=True, remove_columns=dataset.column_names)\n",
    "tokenized_eval_datasets = eval_dataset.map(prepare_train_features, batched=True, remove_columns=dataset.column_names)"
   ]
  },
  {
   "cell_type": "code",
   "execution_count": 36,
   "id": "dd05ce06",
   "metadata": {
    "execution": {
     "iopub.execute_input": "2021-08-19T04:50:34.175343Z",
     "iopub.status.busy": "2021-08-19T04:50:34.174598Z",
     "iopub.status.idle": "2021-08-19T04:50:34.178051Z",
     "shell.execute_reply": "2021-08-19T04:50:34.177636Z",
     "shell.execute_reply.started": "2021-08-19T04:47:57.840844Z"
    },
    "papermill": {
     "duration": 0.064525,
     "end_time": "2021-08-19T04:50:34.178170",
     "exception": false,
     "start_time": "2021-08-19T04:50:34.113645",
     "status": "completed"
    },
    "tags": []
   },
   "outputs": [
    {
     "data": {
      "text/plain": [
       "Dataset({\n",
       "    features: ['attention_mask', 'end_positions', 'input_ids', 'start_positions'],\n",
       "    num_rows: 13919\n",
       "})"
      ]
     },
     "execution_count": 36,
     "metadata": {},
     "output_type": "execute_result"
    }
   ],
   "source": [
    "# Here you observe that number of rows increase -> that is due to doc_stride\n",
    "tokenized_train_datasets"
   ]
  },
  {
   "cell_type": "code",
   "execution_count": 37,
   "id": "147875ed",
   "metadata": {
    "execution": {
     "iopub.execute_input": "2021-08-19T04:50:34.297641Z",
     "iopub.status.busy": "2021-08-19T04:50:34.296962Z",
     "iopub.status.idle": "2021-08-19T04:50:34.299936Z",
     "shell.execute_reply": "2021-08-19T04:50:34.300317Z",
     "shell.execute_reply.started": "2021-08-19T04:47:57.848637Z"
    },
    "papermill": {
     "duration": 0.064827,
     "end_time": "2021-08-19T04:50:34.300437",
     "exception": false,
     "start_time": "2021-08-19T04:50:34.235610",
     "status": "completed"
    },
    "tags": []
   },
   "outputs": [
    {
     "data": {
      "text/plain": [
       "Dataset({\n",
       "    features: ['attention_mask', 'end_positions', 'input_ids', 'start_positions'],\n",
       "    num_rows: 822\n",
       "})"
      ]
     },
     "execution_count": 37,
     "metadata": {},
     "output_type": "execute_result"
    }
   ],
   "source": [
    "tokenized_eval_datasets"
   ]
  },
  {
   "cell_type": "markdown",
   "id": "96e59b5a",
   "metadata": {
    "papermill": {
     "duration": 0.058196,
     "end_time": "2021-08-19T04:50:34.417024",
     "exception": false,
     "start_time": "2021-08-19T04:50:34.358828",
     "status": "completed"
    },
    "tags": []
   },
   "source": [
    "# Finetune start"
   ]
  },
  {
   "cell_type": "code",
   "execution_count": 38,
   "id": "5e883dca",
   "metadata": {
    "execution": {
     "iopub.execute_input": "2021-08-19T04:50:34.693309Z",
     "iopub.status.busy": "2021-08-19T04:50:34.692059Z",
     "iopub.status.idle": "2021-08-19T04:50:34.695409Z",
     "shell.execute_reply": "2021-08-19T04:50:34.695815Z",
     "shell.execute_reply.started": "2021-08-19T04:47:57.862853Z"
    },
    "papermill": {
     "duration": 0.220799,
     "end_time": "2021-08-19T04:50:34.695973",
     "exception": false,
     "start_time": "2021-08-19T04:50:34.475174",
     "status": "completed"
    },
    "tags": []
   },
   "outputs": [
    {
     "data": {
      "text/plain": [
       "106"
      ]
     },
     "execution_count": 38,
     "metadata": {},
     "output_type": "execute_result"
    }
   ],
   "source": [
    "import gc\n",
    "gc.collect()"
   ]
  },
  {
   "cell_type": "code",
   "execution_count": 39,
   "id": "4bd3fb1f",
   "metadata": {
    "execution": {
     "iopub.execute_input": "2021-08-19T04:50:34.816884Z",
     "iopub.status.busy": "2021-08-19T04:50:34.816406Z",
     "iopub.status.idle": "2021-08-19T04:51:03.669657Z",
     "shell.execute_reply": "2021-08-19T04:51:03.669197Z",
     "shell.execute_reply.started": "2021-08-19T04:47:58.048816Z"
    },
    "papermill": {
     "duration": 28.915228,
     "end_time": "2021-08-19T04:51:03.669785",
     "exception": false,
     "start_time": "2021-08-19T04:50:34.754557",
     "status": "completed"
    },
    "tags": []
   },
   "outputs": [],
   "source": [
    "from transformers import AutoModelForQuestionAnswering, TrainingArguments, Trainer\n",
    "\n",
    "model = AutoModelForQuestionAnswering.from_pretrained(model_checkpoint)"
   ]
  },
  {
   "cell_type": "code",
   "execution_count": 40,
   "id": "00a95939",
   "metadata": {
    "execution": {
     "iopub.execute_input": "2021-08-19T04:51:03.791332Z",
     "iopub.status.busy": "2021-08-19T04:51:03.790761Z",
     "iopub.status.idle": "2021-08-19T04:51:03.795271Z",
     "shell.execute_reply": "2021-08-19T04:51:03.794820Z",
     "shell.execute_reply.started": "2021-08-19T04:48:23.225249Z"
    },
    "papermill": {
     "duration": 0.066849,
     "end_time": "2021-08-19T04:51:03.795378",
     "exception": false,
     "start_time": "2021-08-19T04:51:03.728529",
     "status": "completed"
    },
    "tags": []
   },
   "outputs": [
    {
     "name": "stdout",
     "output_type": "stream",
     "text": [
      "env: WANDB_DISABLED=True\n"
     ]
    }
   ],
   "source": [
    "%env WANDB_DISABLED=True"
   ]
  },
  {
   "cell_type": "code",
   "execution_count": 41,
   "id": "3507993b",
   "metadata": {
    "execution": {
     "iopub.execute_input": "2021-08-19T04:51:04.156106Z",
     "iopub.status.busy": "2021-08-19T04:51:04.155126Z",
     "iopub.status.idle": "2021-08-19T04:51:04.208267Z",
     "shell.execute_reply": "2021-08-19T04:51:04.207782Z",
     "shell.execute_reply.started": "2021-08-19T04:48:23.231171Z"
    },
    "papermill": {
     "duration": 0.354179,
     "end_time": "2021-08-19T04:51:04.208404",
     "exception": false,
     "start_time": "2021-08-19T04:51:03.854225",
     "status": "completed"
    },
    "tags": []
   },
   "outputs": [
    {
     "name": "stderr",
     "output_type": "stream",
     "text": [
      "Using the `WAND_DISABLED` environment variable is deprecated and will be removed in v5. Use the --report_to flag to control the integrations used for logging result (for instance --report_to none).\n"
     ]
    }
   ],
   "source": [
    "import gc\n",
    "gc.collect()\n",
    "batch_size = 8#4#16\n",
    "model_name = model_checkpoint.split(\"/\")[-1]\n",
    "args = TrainingArguments(\n",
    "    f\"test-chaii\",\n",
    "    evaluation_strategy = \"epoch\",\n",
    "    learning_rate=2e-5,\n",
    "    per_device_train_batch_size=batch_size,\n",
    "    per_device_eval_batch_size=batch_size,\n",
    "    num_train_epochs=3,#1,# make it 3\n",
    "    weight_decay=0.01,\n",
    ")"
   ]
  },
  {
   "cell_type": "code",
   "execution_count": 42,
   "id": "862c7f98",
   "metadata": {
    "execution": {
     "iopub.execute_input": "2021-08-19T04:51:04.332498Z",
     "iopub.status.busy": "2021-08-19T04:51:04.331247Z",
     "iopub.status.idle": "2021-08-19T04:51:04.333619Z",
     "shell.execute_reply": "2021-08-19T04:51:04.334068Z",
     "shell.execute_reply.started": "2021-08-19T04:48:23.461363Z"
    },
    "papermill": {
     "duration": 0.066264,
     "end_time": "2021-08-19T04:51:04.334213",
     "exception": false,
     "start_time": "2021-08-19T04:51:04.267949",
     "status": "completed"
    },
    "tags": []
   },
   "outputs": [],
   "source": [
    "from transformers import default_data_collator\n",
    "\n",
    "data_collator = default_data_collator"
   ]
  },
  {
   "cell_type": "code",
   "execution_count": 43,
   "id": "8c82a2d8",
   "metadata": {
    "execution": {
     "iopub.execute_input": "2021-08-19T04:51:04.457627Z",
     "iopub.status.busy": "2021-08-19T04:51:04.456830Z",
     "iopub.status.idle": "2021-08-19T04:51:12.563946Z",
     "shell.execute_reply": "2021-08-19T04:51:12.563409Z",
     "shell.execute_reply.started": "2021-08-19T04:48:23.468260Z"
    },
    "papermill": {
     "duration": 8.170177,
     "end_time": "2021-08-19T04:51:12.564083",
     "exception": false,
     "start_time": "2021-08-19T04:51:04.393906",
     "status": "completed"
    },
    "tags": []
   },
   "outputs": [],
   "source": [
    "trainer = Trainer(\n",
    "    model,\n",
    "    args,\n",
    "    train_dataset=tokenized_train_datasets,\n",
    "    eval_dataset=tokenized_eval_datasets,\n",
    "    data_collator=data_collator,\n",
    "    tokenizer=tokenizer,\n",
    ")"
   ]
  },
  {
   "cell_type": "code",
   "execution_count": 44,
   "id": "8a229c41",
   "metadata": {
    "execution": {
     "iopub.execute_input": "2021-08-19T04:51:12.685854Z",
     "iopub.status.busy": "2021-08-19T04:51:12.685348Z",
     "iopub.status.idle": "2021-08-19T04:51:12.689202Z",
     "shell.execute_reply": "2021-08-19T04:51:12.688779Z",
     "shell.execute_reply.started": "2021-08-19T04:48:24.661431Z"
    },
    "papermill": {
     "duration": 0.065811,
     "end_time": "2021-08-19T04:51:12.689314",
     "exception": false,
     "start_time": "2021-08-19T04:51:12.623503",
     "status": "completed"
    },
    "tags": []
   },
   "outputs": [],
   "source": [
    "# trainer.train()"
   ]
  },
  {
   "cell_type": "code",
   "execution_count": 45,
   "id": "fbb768fe",
   "metadata": {
    "execution": {
     "iopub.execute_input": "2021-08-19T04:51:12.809687Z",
     "iopub.status.busy": "2021-08-19T04:51:12.809190Z",
     "iopub.status.idle": "2021-08-19T04:51:20.857782Z",
     "shell.execute_reply": "2021-08-19T04:51:20.857236Z",
     "shell.execute_reply.started": "2021-08-19T04:48:24.667866Z"
    },
    "papermill": {
     "duration": 8.110216,
     "end_time": "2021-08-19T04:51:20.857944",
     "exception": false,
     "start_time": "2021-08-19T04:51:12.747728",
     "status": "completed"
    },
    "tags": []
   },
   "outputs": [],
   "source": [
    "trainer.save_model(\"test-chaii-trained\")"
   ]
  },
  {
   "cell_type": "markdown",
   "id": "43730677",
   "metadata": {
    "papermill": {
     "duration": 0.063229,
     "end_time": "2021-08-19T04:51:20.984208",
     "exception": false,
     "start_time": "2021-08-19T04:51:20.920979",
     "status": "completed"
    },
    "tags": []
   },
   "source": [
    "# Evaluation"
   ]
  },
  {
   "cell_type": "code",
   "execution_count": 46,
   "id": "f73e9b21",
   "metadata": {
    "execution": {
     "iopub.execute_input": "2021-08-19T04:51:21.114684Z",
     "iopub.status.busy": "2021-08-19T04:51:21.114137Z",
     "iopub.status.idle": "2021-08-19T04:51:22.121909Z",
     "shell.execute_reply": "2021-08-19T04:51:22.122335Z",
     "shell.execute_reply.started": "2021-08-19T04:48:40.262012Z"
    },
    "papermill": {
     "duration": 1.075558,
     "end_time": "2021-08-19T04:51:22.122479",
     "exception": false,
     "start_time": "2021-08-19T04:51:21.046921",
     "status": "completed"
    },
    "tags": []
   },
   "outputs": [
    {
     "data": {
      "text/plain": [
       "odict_keys(['loss', 'start_logits', 'end_logits'])"
      ]
     },
     "execution_count": 46,
     "metadata": {},
     "output_type": "execute_result"
    }
   ],
   "source": [
    "import torch\n",
    "\n",
    "for batch in trainer.get_eval_dataloader():\n",
    "    break\n",
    "batch = {k: v.to(trainer.args.device) for k, v in batch.items()}\n",
    "with torch.no_grad():\n",
    "    output = trainer.model(**batch)\n",
    "output.keys()"
   ]
  },
  {
   "cell_type": "code",
   "execution_count": 47,
   "id": "1e81343a",
   "metadata": {
    "execution": {
     "iopub.execute_input": "2021-08-19T04:51:22.256784Z",
     "iopub.status.busy": "2021-08-19T04:51:22.256245Z",
     "iopub.status.idle": "2021-08-19T04:51:22.262874Z",
     "shell.execute_reply": "2021-08-19T04:51:22.262453Z",
     "shell.execute_reply.started": "2021-08-19T04:48:40.302950Z"
    },
    "papermill": {
     "duration": 0.077051,
     "end_time": "2021-08-19T04:51:22.263009",
     "exception": false,
     "start_time": "2021-08-19T04:51:22.185958",
     "status": "completed"
    },
    "tags": []
   },
   "outputs": [
    {
     "data": {
      "text/plain": [
       "(torch.Size([8, 384]), torch.Size([8, 384]))"
      ]
     },
     "execution_count": 47,
     "metadata": {},
     "output_type": "execute_result"
    }
   ],
   "source": [
    "output.start_logits.shape, output.end_logits.shape"
   ]
  },
  {
   "cell_type": "code",
   "execution_count": 48,
   "id": "8abdcebd",
   "metadata": {
    "execution": {
     "iopub.execute_input": "2021-08-19T04:51:22.398979Z",
     "iopub.status.busy": "2021-08-19T04:51:22.398274Z",
     "iopub.status.idle": "2021-08-19T04:51:22.425052Z",
     "shell.execute_reply": "2021-08-19T04:51:22.425474Z",
     "shell.execute_reply.started": "2021-08-19T04:48:44.977642Z"
    },
    "papermill": {
     "duration": 0.098967,
     "end_time": "2021-08-19T04:51:22.425612",
     "exception": false,
     "start_time": "2021-08-19T04:51:22.326645",
     "status": "completed"
    },
    "tags": []
   },
   "outputs": [
    {
     "data": {
      "text/plain": [
       "(tensor([ 44, 173,   0,   0,   0,   0,   0,   0], device='cuda:0'),\n",
       " tensor([ 48, 177,   0,   0,   0,   0,   0,   0], device='cuda:0'))"
      ]
     },
     "execution_count": 48,
     "metadata": {},
     "output_type": "execute_result"
    }
   ],
   "source": [
    "output.start_logits.argmax(dim=-1), output.end_logits.argmax(dim=-1)"
   ]
  },
  {
   "cell_type": "markdown",
   "id": "9cae029c",
   "metadata": {
    "papermill": {
     "duration": 0.070145,
     "end_time": "2021-08-19T04:51:22.564605",
     "exception": false,
     "start_time": "2021-08-19T04:51:22.494460",
     "status": "completed"
    },
    "tags": []
   },
   "source": [
    "# Post processing output"
   ]
  },
  {
   "cell_type": "code",
   "execution_count": 49,
   "id": "463f1bd3",
   "metadata": {
    "execution": {
     "iopub.execute_input": "2021-08-19T04:51:22.710827Z",
     "iopub.status.busy": "2021-08-19T04:51:22.710057Z",
     "iopub.status.idle": "2021-08-19T04:51:22.713290Z",
     "shell.execute_reply": "2021-08-19T04:51:22.713768Z",
     "shell.execute_reply.started": "2021-08-19T04:48:47.592989Z"
    },
    "papermill": {
     "duration": 0.078863,
     "end_time": "2021-08-19T04:51:22.713931",
     "exception": false,
     "start_time": "2021-08-19T04:51:22.635068",
     "status": "completed"
    },
    "tags": []
   },
   "outputs": [
    {
     "data": {
      "text/plain": [
       "torch.Size([8, 384])"
      ]
     },
     "execution_count": 49,
     "metadata": {},
     "output_type": "execute_result"
    }
   ],
   "source": [
    "output.start_logits.shape"
   ]
  },
  {
   "cell_type": "code",
   "execution_count": 50,
   "id": "805a74d5",
   "metadata": {
    "execution": {
     "iopub.execute_input": "2021-08-19T04:51:22.857735Z",
     "iopub.status.busy": "2021-08-19T04:51:22.856989Z",
     "iopub.status.idle": "2021-08-19T04:51:22.864157Z",
     "shell.execute_reply": "2021-08-19T04:51:22.863436Z",
     "shell.execute_reply.started": "2021-08-19T04:48:47.610254Z"
    },
    "papermill": {
     "duration": 0.083369,
     "end_time": "2021-08-19T04:51:22.864326",
     "exception": false,
     "start_time": "2021-08-19T04:51:22.780957",
     "status": "completed"
    },
    "tags": []
   },
   "outputs": [
    {
     "name": "stdout",
     "output_type": "stream",
     "text": [
      "(384,)\n",
      "[44, 43, 47, 32, 0, 14, 21, 45, 31, 71, 2, 59, 50, 55, 112, 42, 30, 24, 85, 18]\n"
     ]
    }
   ],
   "source": [
    "import numpy as np\n",
    "n_best_size = 20\n",
    "\n",
    "start_logits = output.start_logits[0].cpu().numpy()\n",
    "print(start_logits.shape)\n",
    "start_indexes = np.argsort(start_logits)[-1 : -n_best_size - 1 : -1].tolist()\n",
    "print(start_indexes)"
   ]
  },
  {
   "cell_type": "code",
   "execution_count": 51,
   "id": "fe003904",
   "metadata": {
    "execution": {
     "iopub.execute_input": "2021-08-19T04:51:36.060361Z",
     "iopub.status.busy": "2021-08-19T04:51:36.059107Z",
     "iopub.status.idle": "2021-08-19T04:51:36.063144Z",
     "shell.execute_reply": "2021-08-19T04:51:36.062699Z",
     "shell.execute_reply.started": "2021-08-19T04:48:47.619565Z"
    },
    "papermill": {
     "duration": 13.125093,
     "end_time": "2021-08-19T04:51:36.063258",
     "exception": false,
     "start_time": "2021-08-19T04:51:22.938165",
     "status": "completed"
    },
    "tags": []
   },
   "outputs": [],
   "source": [
    "import numpy as np\n",
    "\n",
    "n_best_size = 20\n",
    "start_logits = output.start_logits[0].cpu().numpy()\n",
    "end_logits = output.end_logits[0].cpu().numpy()\n",
    "# Gather the indices the best start/end logits:\n",
    "start_indexes = np.argsort(start_logits)[-1 : -n_best_size - 1 : -1].tolist()\n",
    "end_indexes = np.argsort(end_logits)[-1 : -n_best_size - 1 : -1].tolist()\n",
    "valid_answers = []\n",
    "for start_index in start_indexes:\n",
    "    for end_index in end_indexes:\n",
    "        if start_index <= end_index: # We need to refine that test to check the answer is inside the context\n",
    "            valid_answers.append(\n",
    "                {\n",
    "                    \"score\": start_logits[start_index] + end_logits[end_index],\n",
    "                    \"text\": \"\" # We need to find a way to get back the original substring corresponding to the answer in the context\n",
    "                }\n",
    "            )"
   ]
  },
  {
   "cell_type": "code",
   "execution_count": 52,
   "id": "31dbbb15",
   "metadata": {
    "execution": {
     "iopub.execute_input": "2021-08-19T04:51:36.189980Z",
     "iopub.status.busy": "2021-08-19T04:51:36.189433Z",
     "iopub.status.idle": "2021-08-19T04:51:36.195335Z",
     "shell.execute_reply": "2021-08-19T04:51:36.194798Z",
     "shell.execute_reply.started": "2021-08-19T04:48:47.630683Z"
    },
    "papermill": {
     "duration": 0.071075,
     "end_time": "2021-08-19T04:51:36.195441",
     "exception": false,
     "start_time": "2021-08-19T04:51:36.124366",
     "status": "completed"
    },
    "tags": []
   },
   "outputs": [
    {
     "name": "stdout",
     "output_type": "stream",
     "text": [
      "237\n"
     ]
    },
    {
     "data": {
      "text/plain": [
       "[{'score': 6.7611074, 'text': ''},\n",
       " {'score': 4.7389364, 'text': ''},\n",
       " {'score': 4.380503, 'text': ''},\n",
       " {'score': 3.4943097, 'text': ''},\n",
       " {'score': 2.5578058, 'text': ''},\n",
       " {'score': 2.3897574, 'text': ''},\n",
       " {'score': 1.333066, 'text': ''},\n",
       " {'score': 0.8856802, 'text': ''},\n",
       " {'score': 0.58700466, 'text': ''},\n",
       " {'score': 0.1802845, 'text': ''}]"
      ]
     },
     "execution_count": 52,
     "metadata": {},
     "output_type": "execute_result"
    }
   ],
   "source": [
    "print(len(valid_answers))\n",
    "valid_answers[:10]"
   ]
  },
  {
   "cell_type": "markdown",
   "id": "8a8f48d0",
   "metadata": {
    "papermill": {
     "duration": 0.060934,
     "end_time": "2021-08-19T04:51:36.317456",
     "exception": false,
     "start_time": "2021-08-19T04:51:36.256522",
     "status": "completed"
    },
    "tags": []
   },
   "source": [
    "# Real predictions"
   ]
  },
  {
   "cell_type": "code",
   "execution_count": 53,
   "id": "4d72decb",
   "metadata": {
    "execution": {
     "iopub.execute_input": "2021-08-19T04:51:36.444930Z",
     "iopub.status.busy": "2021-08-19T04:51:36.444377Z",
     "iopub.status.idle": "2021-08-19T04:51:36.463493Z",
     "shell.execute_reply": "2021-08-19T04:51:36.463071Z",
     "shell.execute_reply.started": "2021-08-19T04:48:47.642166Z"
    },
    "papermill": {
     "duration": 0.085066,
     "end_time": "2021-08-19T04:51:36.463602",
     "exception": false,
     "start_time": "2021-08-19T04:51:36.378536",
     "status": "completed"
    },
    "tags": []
   },
   "outputs": [],
   "source": [
    "test = pd.read_csv('../input/chaii-hindi-and-tamil-question-answering/test.csv')\n",
    "test_dataset = Dataset.from_pandas(test)"
   ]
  },
  {
   "cell_type": "code",
   "execution_count": 54,
   "id": "dd6d910d",
   "metadata": {
    "execution": {
     "iopub.execute_input": "2021-08-19T04:51:36.591533Z",
     "iopub.status.busy": "2021-08-19T04:51:36.590765Z",
     "iopub.status.idle": "2021-08-19T04:51:36.594445Z",
     "shell.execute_reply": "2021-08-19T04:51:36.594022Z",
     "shell.execute_reply.started": "2021-08-19T04:48:47.662015Z"
    },
    "papermill": {
     "duration": 0.069889,
     "end_time": "2021-08-19T04:51:36.594559",
     "exception": false,
     "start_time": "2021-08-19T04:51:36.524670",
     "status": "completed"
    },
    "tags": []
   },
   "outputs": [
    {
     "data": {
      "text/plain": [
       "Dataset({\n",
       "    features: ['id', 'context', 'question', 'language'],\n",
       "    num_rows: 5\n",
       "})"
      ]
     },
     "execution_count": 54,
     "metadata": {},
     "output_type": "execute_result"
    }
   ],
   "source": [
    "test_dataset"
   ]
  },
  {
   "cell_type": "code",
   "execution_count": 55,
   "id": "16919a2f",
   "metadata": {
    "execution": {
     "iopub.execute_input": "2021-08-19T04:51:36.721231Z",
     "iopub.status.busy": "2021-08-19T04:51:36.720534Z",
     "iopub.status.idle": "2021-08-19T04:51:36.723318Z",
     "shell.execute_reply": "2021-08-19T04:51:36.722868Z",
     "shell.execute_reply.started": "2021-08-19T04:48:47.670564Z"
    },
    "papermill": {
     "duration": 0.06697,
     "end_time": "2021-08-19T04:51:36.723420",
     "exception": false,
     "start_time": "2021-08-19T04:51:36.656450",
     "status": "completed"
    },
    "tags": []
   },
   "outputs": [],
   "source": [
    "# len(tokenized_example['input_ids'])"
   ]
  },
  {
   "cell_type": "code",
   "execution_count": 56,
   "id": "e22d8d73",
   "metadata": {
    "execution": {
     "iopub.execute_input": "2021-08-19T04:51:36.854121Z",
     "iopub.status.busy": "2021-08-19T04:51:36.853348Z",
     "iopub.status.idle": "2021-08-19T04:51:36.855957Z",
     "shell.execute_reply": "2021-08-19T04:51:36.855448Z",
     "shell.execute_reply.started": "2021-08-19T04:48:47.677222Z"
    },
    "papermill": {
     "duration": 0.071671,
     "end_time": "2021-08-19T04:51:36.856058",
     "exception": false,
     "start_time": "2021-08-19T04:51:36.784387",
     "status": "completed"
    },
    "tags": []
   },
   "outputs": [],
   "source": [
    "def prepare_validation_features(examples):\n",
    "    # Some of the questions have lots of whitespace on the left, which is not useful and will make the\n",
    "    # truncation of the context fail (the tokenized question will take a lots of space). So we remove that\n",
    "    # left whitespace\n",
    "    examples[\"question\"] = [q.lstrip() for q in examples[\"question\"]]\n",
    "\n",
    "    # Tokenize our examples with truncation and maybe padding, but keep the overflows using a stride. This results\n",
    "    # in one example possible giving several features when a context is long, each of those features having a\n",
    "    # context that overlaps a bit the context of the previous feature.\n",
    "    tokenized_examples = tokenizer(\n",
    "        examples[\"question\" if pad_on_right else \"context\"],\n",
    "        examples[\"context\" if pad_on_right else \"question\"],\n",
    "        truncation=\"only_second\" if pad_on_right else \"only_first\",\n",
    "        max_length=max_length,\n",
    "        stride=doc_stride,\n",
    "        return_overflowing_tokens=True,\n",
    "        return_offsets_mapping=True,\n",
    "        padding=\"max_length\",\n",
    "    )\n",
    "\n",
    "    # Since one example might give us several features if it has a long context, we need a map from a feature to\n",
    "    # its corresponding example. This key gives us just that.\n",
    "    sample_mapping = tokenized_examples.pop(\"overflow_to_sample_mapping\")\n",
    "\n",
    "    # We keep the example_id that gave us this feature and we will store the offset mappings.\n",
    "    tokenized_examples[\"example_id\"] = []\n",
    "\n",
    "    for i in range(len(tokenized_examples[\"input_ids\"])):\n",
    "        # Grab the sequence corresponding to that example (to know what is the context and what is the question).\n",
    "        sequence_ids = tokenized_examples.sequence_ids(i)\n",
    "        context_index = 1 if pad_on_right else 0\n",
    "\n",
    "        # One example can give several spans, this is the index of the example containing this span of text.\n",
    "        sample_index = sample_mapping[i]\n",
    "        tokenized_examples[\"example_id\"].append(examples[\"id\"][sample_index])\n",
    "\n",
    "        # Set to None the offset_mapping that are not part of the context so it's easy to determine if a token\n",
    "        # position is part of the context or not.\n",
    "        tokenized_examples[\"offset_mapping\"][i] = [\n",
    "            (o if sequence_ids[k] == context_index else None)\n",
    "            for k, o in enumerate(tokenized_examples[\"offset_mapping\"][i])\n",
    "        ]\n",
    "\n",
    "    return tokenized_examples"
   ]
  },
  {
   "cell_type": "code",
   "execution_count": 57,
   "id": "6d51a53c",
   "metadata": {
    "execution": {
     "iopub.execute_input": "2021-08-19T04:51:36.991731Z",
     "iopub.status.busy": "2021-08-19T04:51:36.991005Z",
     "iopub.status.idle": "2021-08-19T04:51:37.216230Z",
     "shell.execute_reply": "2021-08-19T04:51:37.216848Z",
     "shell.execute_reply.started": "2021-08-19T04:48:47.692138Z"
    },
    "papermill": {
     "duration": 0.299767,
     "end_time": "2021-08-19T04:51:37.217060",
     "exception": false,
     "start_time": "2021-08-19T04:51:36.917293",
     "status": "completed"
    },
    "tags": []
   },
   "outputs": [
    {
     "name": "stdout",
     "output_type": "stream",
     "text": [
      "dict_keys(['input_ids', 'attention_mask', 'offset_mapping', 'example_id'])\n"
     ]
    }
   ],
   "source": [
    "features = prepare_validation_features(test_dataset[:5])\n",
    "print(features.keys())"
   ]
  },
  {
   "cell_type": "code",
   "execution_count": 58,
   "id": "878cf771",
   "metadata": {
    "execution": {
     "iopub.execute_input": "2021-08-19T04:51:37.384301Z",
     "iopub.status.busy": "2021-08-19T04:51:37.383262Z",
     "iopub.status.idle": "2021-08-19T04:51:37.769132Z",
     "shell.execute_reply": "2021-08-19T04:51:37.768352Z",
     "shell.execute_reply.started": "2021-08-19T04:48:47.945383Z"
    },
    "papermill": {
     "duration": 0.489193,
     "end_time": "2021-08-19T04:51:37.769266",
     "exception": false,
     "start_time": "2021-08-19T04:51:37.280073",
     "status": "completed"
    },
    "tags": []
   },
   "outputs": [
    {
     "data": {
      "application/vnd.jupyter.widget-view+json": {
       "model_id": "906db3dac55048b2af49c7fcc3e14c21",
       "version_major": 2,
       "version_minor": 0
      },
      "text/plain": [
       "HBox(children=(FloatProgress(value=0.0, max=1.0), HTML(value='')))"
      ]
     },
     "metadata": {},
     "output_type": "display_data"
    },
    {
     "name": "stdout",
     "output_type": "stream",
     "text": [
      "\n"
     ]
    }
   ],
   "source": [
    "validation_features = test_dataset.map(\n",
    "    prepare_validation_features,\n",
    "    batched=True,\n",
    "    remove_columns=test_dataset.column_names\n",
    ")"
   ]
  },
  {
   "cell_type": "code",
   "execution_count": 59,
   "id": "bcfa57ab",
   "metadata": {
    "execution": {
     "iopub.execute_input": "2021-08-19T04:51:38.077022Z",
     "iopub.status.busy": "2021-08-19T04:51:38.076410Z",
     "iopub.status.idle": "2021-08-19T04:51:41.219094Z",
     "shell.execute_reply": "2021-08-19T04:51:41.218598Z",
     "shell.execute_reply.started": "2021-08-19T04:48:48.377875Z"
    },
    "papermill": {
     "duration": 3.386774,
     "end_time": "2021-08-19T04:51:41.219247",
     "exception": false,
     "start_time": "2021-08-19T04:51:37.832473",
     "status": "completed"
    },
    "tags": []
   },
   "outputs": [
    {
     "data": {
      "text/html": [
       "\n",
       "    <div>\n",
       "      \n",
       "      <progress value='9' max='9' style='width:300px; height:20px; vertical-align: middle;'></progress>\n",
       "      [9/9 00:02]\n",
       "    </div>\n",
       "    "
      ],
      "text/plain": [
       "<IPython.core.display.HTML object>"
      ]
     },
     "metadata": {},
     "output_type": "display_data"
    }
   ],
   "source": [
    "raw_predictions = trainer.predict(validation_features)"
   ]
  },
  {
   "cell_type": "code",
   "execution_count": 60,
   "id": "7544e874",
   "metadata": {
    "execution": {
     "iopub.execute_input": "2021-08-19T04:51:41.443521Z",
     "iopub.status.busy": "2021-08-19T04:51:41.440845Z",
     "iopub.status.idle": "2021-08-19T04:51:41.445856Z",
     "shell.execute_reply": "2021-08-19T04:51:41.446550Z",
     "shell.execute_reply.started": "2021-08-19T04:48:51.727119Z"
    },
    "papermill": {
     "duration": 0.122043,
     "end_time": "2021-08-19T04:51:41.446750",
     "exception": false,
     "start_time": "2021-08-19T04:51:41.324707",
     "status": "completed"
    },
    "tags": []
   },
   "outputs": [],
   "source": [
    "validation_features.set_format(type=validation_features.format[\"type\"], columns=list(validation_features.features.keys()))"
   ]
  },
  {
   "cell_type": "code",
   "execution_count": 61,
   "id": "52f0ccbc",
   "metadata": {
    "execution": {
     "iopub.execute_input": "2021-08-19T04:51:41.719623Z",
     "iopub.status.busy": "2021-08-19T04:51:41.718819Z",
     "iopub.status.idle": "2021-08-19T04:51:41.734719Z",
     "shell.execute_reply": "2021-08-19T04:51:41.735276Z",
     "shell.execute_reply.started": "2021-08-19T04:48:51.734208Z"
    },
    "papermill": {
     "duration": 0.131407,
     "end_time": "2021-08-19T04:51:41.735451",
     "exception": false,
     "start_time": "2021-08-19T04:51:41.604044",
     "status": "completed"
    },
    "tags": []
   },
   "outputs": [],
   "source": [
    "from tqdm.auto import tqdm\n",
    "import collections\n",
    "\n",
    "\n",
    "def postprocess_qa_predictions(examples, features, raw_predictions, n_best_size = 20, max_answer_length = 30):\n",
    "    all_start_logits, all_end_logits = raw_predictions\n",
    "    # Build a map example to its corresponding features.\n",
    "    example_id_to_index = {k: i for i, k in enumerate(examples[\"id\"])}\n",
    "    features_per_example = collections.defaultdict(list)\n",
    "    for i, feature in enumerate(features):\n",
    "        features_per_example[example_id_to_index[feature[\"example_id\"]]].append(i)\n",
    "\n",
    "    # The dictionaries we have to fill.\n",
    "    predictions = collections.OrderedDict()\n",
    "\n",
    "    # Logging.\n",
    "    print(f\"Post-processing {len(examples)} example predictions split into {len(features)} features.\")\n",
    "\n",
    "    # Let's loop over all the examples!\n",
    "    for example_index, example in enumerate(tqdm(examples)):\n",
    "        # Those are the indices of the features associated to the current example.\n",
    "        feature_indices = features_per_example[example_index]\n",
    "\n",
    "        min_null_score = None # Only used if squad_v2 is True.\n",
    "        valid_answers = []\n",
    "        \n",
    "        context = example[\"context\"]\n",
    "        # Looping through all the features associated to the current example.\n",
    "        for feature_index in feature_indices:\n",
    "            # We grab the predictions of the model for this feature.\n",
    "            start_logits = all_start_logits[feature_index]\n",
    "            end_logits = all_end_logits[feature_index]\n",
    "            # This is what will allow us to map some the positions in our logits to span of texts in the original\n",
    "            # context.\n",
    "            offset_mapping = features[feature_index][\"offset_mapping\"]\n",
    "\n",
    "            # Update minimum null prediction.\n",
    "            cls_index = features[feature_index][\"input_ids\"].index(tokenizer.cls_token_id)\n",
    "            feature_null_score = start_logits[cls_index] + end_logits[cls_index]\n",
    "            if min_null_score is None or min_null_score < feature_null_score:\n",
    "                min_null_score = feature_null_score\n",
    "\n",
    "            # Go through all possibilities for the `n_best_size` greater start and end logits.\n",
    "            start_indexes = np.argsort(start_logits)[-1 : -n_best_size - 1 : -1].tolist()\n",
    "            end_indexes = np.argsort(end_logits)[-1 : -n_best_size - 1 : -1].tolist()\n",
    "            for start_index in start_indexes:\n",
    "                for end_index in end_indexes:\n",
    "                    # Don't consider out-of-scope answers, either because the indices are out of bounds or correspond\n",
    "                    # to part of the input_ids that are not in the context.\n",
    "                    if (\n",
    "                        start_index >= len(offset_mapping)\n",
    "                        or end_index >= len(offset_mapping)\n",
    "                        or offset_mapping[start_index] is None\n",
    "                        or offset_mapping[end_index] is None\n",
    "                    ):\n",
    "                        continue\n",
    "                    # Don't consider answers with a length that is either < 0 or > max_answer_length.\n",
    "                    if end_index < start_index or end_index - start_index + 1 > max_answer_length:\n",
    "                        continue\n",
    "\n",
    "                    start_char = offset_mapping[start_index][0]\n",
    "                    end_char = offset_mapping[end_index][1]\n",
    "                    valid_answers.append(\n",
    "                        {\n",
    "                            \"score\": start_logits[start_index] + end_logits[end_index],\n",
    "                            \"text\": context[start_char: end_char]\n",
    "                        }\n",
    "                    )\n",
    "        \n",
    "        if len(valid_answers) > 0:\n",
    "            best_answer = sorted(valid_answers, key=lambda x: x[\"score\"], reverse=True)[0]\n",
    "        else:\n",
    "            # In the very rare edge case we have not a single non-null prediction, we create a fake prediction to avoid\n",
    "            # failure.\n",
    "            best_answer = {\"text\": \"\", \"score\": 0.0}\n",
    "        \n",
    "        # Let's pick our final answer: the best one or the null answer (only for squad_v2)\n",
    "#         if not squad_v2:\n",
    "        predictions[example[\"id\"]] = best_answer[\"text\"]\n",
    "#         else:\n",
    "#             answer = best_answer[\"text\"] if best_answer[\"score\"] > min_null_score else \"\"\n",
    "#             predictions[example[\"id\"]] = answer\n",
    "\n",
    "    return predictions"
   ]
  },
  {
   "cell_type": "code",
   "execution_count": 62,
   "id": "fb164ced",
   "metadata": {
    "execution": {
     "iopub.execute_input": "2021-08-19T04:51:41.964103Z",
     "iopub.status.busy": "2021-08-19T04:51:41.963320Z",
     "iopub.status.idle": "2021-08-19T04:51:42.503084Z",
     "shell.execute_reply": "2021-08-19T04:51:42.503702Z",
     "shell.execute_reply.started": "2021-08-19T04:48:51.752053Z"
    },
    "papermill": {
     "duration": 0.663968,
     "end_time": "2021-08-19T04:51:42.503914",
     "exception": false,
     "start_time": "2021-08-19T04:51:41.839946",
     "status": "completed"
    },
    "tags": []
   },
   "outputs": [
    {
     "name": "stdout",
     "output_type": "stream",
     "text": [
      "Post-processing 5 example predictions split into 67 features.\n"
     ]
    },
    {
     "data": {
      "application/vnd.jupyter.widget-view+json": {
       "model_id": "ea62a5761c5c492fa577c36e157c4b4f",
       "version_major": 2,
       "version_minor": 0
      },
      "text/plain": [
       "HBox(children=(FloatProgress(value=0.0, max=5.0), HTML(value='')))"
      ]
     },
     "metadata": {},
     "output_type": "display_data"
    },
    {
     "name": "stdout",
     "output_type": "stream",
     "text": [
      "\n"
     ]
    }
   ],
   "source": [
    "final_predictions = postprocess_qa_predictions(test_dataset, validation_features, raw_predictions.predictions)"
   ]
  },
  {
   "cell_type": "code",
   "execution_count": 63,
   "id": "3189aa28",
   "metadata": {
    "execution": {
     "iopub.execute_input": "2021-08-19T04:51:42.638756Z",
     "iopub.status.busy": "2021-08-19T04:51:42.637840Z",
     "iopub.status.idle": "2021-08-19T04:51:42.642344Z",
     "shell.execute_reply": "2021-08-19T04:51:42.641911Z",
     "shell.execute_reply.started": "2021-08-19T04:48:52.146219Z"
    },
    "papermill": {
     "duration": 0.072652,
     "end_time": "2021-08-19T04:51:42.642448",
     "exception": false,
     "start_time": "2021-08-19T04:51:42.569796",
     "status": "completed"
    },
    "tags": []
   },
   "outputs": [
    {
     "data": {
      "text/plain": [
       "[' येलन चीन से हैं। उनकी मां येलन गुट्टा',\n",
       " ' 28 नवम्बर 2007',\n",
       " '१२ मार्च १८२४',\n",
       " ' 13',\n",
       " 'சுவாமிநாதன்']"
      ]
     },
     "execution_count": 63,
     "metadata": {},
     "output_type": "execute_result"
    }
   ],
   "source": [
    "final_list = list(final_predictions.values())\n",
    "final_list"
   ]
  },
  {
   "cell_type": "code",
   "execution_count": 64,
   "id": "15cc11f2",
   "metadata": {
    "execution": {
     "iopub.execute_input": "2021-08-19T04:51:42.782582Z",
     "iopub.status.busy": "2021-08-19T04:51:42.782080Z",
     "iopub.status.idle": "2021-08-19T04:51:42.787583Z",
     "shell.execute_reply": "2021-08-19T04:51:42.786999Z",
     "shell.execute_reply.started": "2021-08-19T04:48:52.154922Z"
    },
    "papermill": {
     "duration": 0.080657,
     "end_time": "2021-08-19T04:51:42.787686",
     "exception": false,
     "start_time": "2021-08-19T04:51:42.707029",
     "status": "completed"
    },
    "tags": []
   },
   "outputs": [
    {
     "data": {
      "text/html": [
       "<div>\n",
       "<style scoped>\n",
       "    .dataframe tbody tr th:only-of-type {\n",
       "        vertical-align: middle;\n",
       "    }\n",
       "\n",
       "    .dataframe tbody tr th {\n",
       "        vertical-align: top;\n",
       "    }\n",
       "\n",
       "    .dataframe thead th {\n",
       "        text-align: right;\n",
       "    }\n",
       "</style>\n",
       "<table border=\"1\" class=\"dataframe\">\n",
       "  <thead>\n",
       "    <tr style=\"text-align: right;\">\n",
       "      <th></th>\n",
       "      <th>id</th>\n",
       "      <th>context</th>\n",
       "      <th>question</th>\n",
       "      <th>language</th>\n",
       "    </tr>\n",
       "  </thead>\n",
       "  <tbody>\n",
       "    <tr>\n",
       "      <th>0</th>\n",
       "      <td>22bff3dec</td>\n",
       "      <td>ज्वाला गुट्टा (जन्म: 7 सितंबर 1983; वर्धा, महा...</td>\n",
       "      <td>ज्वाला गुट्टा की माँ का नाम क्या है</td>\n",
       "      <td>hindi</td>\n",
       "    </tr>\n",
       "    <tr>\n",
       "      <th>1</th>\n",
       "      <td>282758170</td>\n",
       "      <td>गूगल मानचित्र (Google Maps) (पूर्व में गूगल लो...</td>\n",
       "      <td>गूगल मैप्स कब लॉन्च किया गया था?</td>\n",
       "      <td>hindi</td>\n",
       "    </tr>\n",
       "    <tr>\n",
       "      <th>2</th>\n",
       "      <td>d60987e0e</td>\n",
       "      <td>गुस्ताव रॉबर्ट किरचॉफ़ (१२ मार्च १८२४ - १७ अक्...</td>\n",
       "      <td>गुस्ताव किरचॉफ का जन्म कब हुआ था?</td>\n",
       "      <td>hindi</td>\n",
       "    </tr>\n",
       "    <tr>\n",
       "      <th>3</th>\n",
       "      <td>f99c770dc</td>\n",
       "      <td>அலுமினியம் (ஆங்கிலம்: அலுமினியம்; வட அமெரிக்க ...</td>\n",
       "      <td>அலுமினியத்தின் அணு எண் என்ன?</td>\n",
       "      <td>tamil</td>\n",
       "    </tr>\n",
       "    <tr>\n",
       "      <th>4</th>\n",
       "      <td>40dec1964</td>\n",
       "      <td>கூட்டுறவு இயக்க வரலாறு, இங்கிலாந்து  நாட்டில் ...</td>\n",
       "      <td>இந்தியாவில் பசுமை புரட்சியின் தந்தை என்று கருத...</td>\n",
       "      <td>tamil</td>\n",
       "    </tr>\n",
       "  </tbody>\n",
       "</table>\n",
       "</div>"
      ],
      "text/plain": [
       "          id                                            context  \\\n",
       "0  22bff3dec  ज्वाला गुट्टा (जन्म: 7 सितंबर 1983; वर्धा, महा...   \n",
       "1  282758170  गूगल मानचित्र (Google Maps) (पूर्व में गूगल लो...   \n",
       "2  d60987e0e  गुस्ताव रॉबर्ट किरचॉफ़ (१२ मार्च १८२४ - १७ अक्...   \n",
       "3  f99c770dc  அலுமினியம் (ஆங்கிலம்: அலுமினியம்; வட அமெரிக்க ...   \n",
       "4  40dec1964  கூட்டுறவு இயக்க வரலாறு, இங்கிலாந்து  நாட்டில் ...   \n",
       "\n",
       "                                            question language  \n",
       "0                ज्वाला गुट्टा की माँ का नाम क्या है    hindi  \n",
       "1                   गूगल मैप्स कब लॉन्च किया गया था?    hindi  \n",
       "2                  गुस्ताव किरचॉफ का जन्म कब हुआ था?    hindi  \n",
       "3                       அலுமினியத்தின் அணு எண் என்ன?    tamil  \n",
       "4  இந்தியாவில் பசுமை புரட்சியின் தந்தை என்று கருத...    tamil  "
      ]
     },
     "execution_count": 64,
     "metadata": {},
     "output_type": "execute_result"
    }
   ],
   "source": [
    "test"
   ]
  },
  {
   "cell_type": "code",
   "execution_count": 65,
   "id": "f65c4e20",
   "metadata": {
    "execution": {
     "iopub.execute_input": "2021-08-19T04:51:42.924618Z",
     "iopub.status.busy": "2021-08-19T04:51:42.924085Z",
     "iopub.status.idle": "2021-08-19T04:51:42.928369Z",
     "shell.execute_reply": "2021-08-19T04:51:42.927935Z",
     "shell.execute_reply.started": "2021-08-19T04:48:52.172353Z"
    },
    "papermill": {
     "duration": 0.075175,
     "end_time": "2021-08-19T04:51:42.928479",
     "exception": false,
     "start_time": "2021-08-19T04:51:42.853304",
     "status": "completed"
    },
    "tags": []
   },
   "outputs": [],
   "source": [
    "test['PredictionString']=final_list"
   ]
  },
  {
   "cell_type": "code",
   "execution_count": 66,
   "id": "ff48b639",
   "metadata": {
    "execution": {
     "iopub.execute_input": "2021-08-19T04:51:43.070944Z",
     "iopub.status.busy": "2021-08-19T04:51:43.069793Z",
     "iopub.status.idle": "2021-08-19T04:51:43.073644Z",
     "shell.execute_reply": "2021-08-19T04:51:43.074056Z",
     "shell.execute_reply.started": "2021-08-19T04:48:52.179253Z"
    },
    "papermill": {
     "duration": 0.080729,
     "end_time": "2021-08-19T04:51:43.074193",
     "exception": false,
     "start_time": "2021-08-19T04:51:42.993464",
     "status": "completed"
    },
    "tags": []
   },
   "outputs": [
    {
     "data": {
      "text/html": [
       "<div>\n",
       "<style scoped>\n",
       "    .dataframe tbody tr th:only-of-type {\n",
       "        vertical-align: middle;\n",
       "    }\n",
       "\n",
       "    .dataframe tbody tr th {\n",
       "        vertical-align: top;\n",
       "    }\n",
       "\n",
       "    .dataframe thead th {\n",
       "        text-align: right;\n",
       "    }\n",
       "</style>\n",
       "<table border=\"1\" class=\"dataframe\">\n",
       "  <thead>\n",
       "    <tr style=\"text-align: right;\">\n",
       "      <th></th>\n",
       "      <th>id</th>\n",
       "      <th>context</th>\n",
       "      <th>question</th>\n",
       "      <th>language</th>\n",
       "      <th>PredictionString</th>\n",
       "    </tr>\n",
       "  </thead>\n",
       "  <tbody>\n",
       "    <tr>\n",
       "      <th>0</th>\n",
       "      <td>22bff3dec</td>\n",
       "      <td>ज्वाला गुट्टा (जन्म: 7 सितंबर 1983; वर्धा, महा...</td>\n",
       "      <td>ज्वाला गुट्टा की माँ का नाम क्या है</td>\n",
       "      <td>hindi</td>\n",
       "      <td>येलन चीन से हैं। उनकी मां येलन गुट्टा</td>\n",
       "    </tr>\n",
       "    <tr>\n",
       "      <th>1</th>\n",
       "      <td>282758170</td>\n",
       "      <td>गूगल मानचित्र (Google Maps) (पूर्व में गूगल लो...</td>\n",
       "      <td>गूगल मैप्स कब लॉन्च किया गया था?</td>\n",
       "      <td>hindi</td>\n",
       "      <td>28 नवम्बर 2007</td>\n",
       "    </tr>\n",
       "    <tr>\n",
       "      <th>2</th>\n",
       "      <td>d60987e0e</td>\n",
       "      <td>गुस्ताव रॉबर्ट किरचॉफ़ (१२ मार्च १८२४ - १७ अक्...</td>\n",
       "      <td>गुस्ताव किरचॉफ का जन्म कब हुआ था?</td>\n",
       "      <td>hindi</td>\n",
       "      <td>१२ मार्च १८२४</td>\n",
       "    </tr>\n",
       "    <tr>\n",
       "      <th>3</th>\n",
       "      <td>f99c770dc</td>\n",
       "      <td>அலுமினியம் (ஆங்கிலம்: அலுமினியம்; வட அமெரிக்க ...</td>\n",
       "      <td>அலுமினியத்தின் அணு எண் என்ன?</td>\n",
       "      <td>tamil</td>\n",
       "      <td>13</td>\n",
       "    </tr>\n",
       "    <tr>\n",
       "      <th>4</th>\n",
       "      <td>40dec1964</td>\n",
       "      <td>கூட்டுறவு இயக்க வரலாறு, இங்கிலாந்து  நாட்டில் ...</td>\n",
       "      <td>இந்தியாவில் பசுமை புரட்சியின் தந்தை என்று கருத...</td>\n",
       "      <td>tamil</td>\n",
       "      <td>சுவாமிநாதன்</td>\n",
       "    </tr>\n",
       "  </tbody>\n",
       "</table>\n",
       "</div>"
      ],
      "text/plain": [
       "          id                                            context  \\\n",
       "0  22bff3dec  ज्वाला गुट्टा (जन्म: 7 सितंबर 1983; वर्धा, महा...   \n",
       "1  282758170  गूगल मानचित्र (Google Maps) (पूर्व में गूगल लो...   \n",
       "2  d60987e0e  गुस्ताव रॉबर्ट किरचॉफ़ (१२ मार्च १८२४ - १७ अक्...   \n",
       "3  f99c770dc  அலுமினியம் (ஆங்கிலம்: அலுமினியம்; வட அமெரிக்க ...   \n",
       "4  40dec1964  கூட்டுறவு இயக்க வரலாறு, இங்கிலாந்து  நாட்டில் ...   \n",
       "\n",
       "                                            question language  \\\n",
       "0                ज्वाला गुट्टा की माँ का नाम क्या है    hindi   \n",
       "1                   गूगल मैप्स कब लॉन्च किया गया था?    hindi   \n",
       "2                  गुस्ताव किरचॉफ का जन्म कब हुआ था?    hindi   \n",
       "3                       அலுமினியத்தின் அணு எண் என்ன?    tamil   \n",
       "4  இந்தியாவில் பசுமை புரட்சியின் தந்தை என்று கருத...    tamil   \n",
       "\n",
       "                         PredictionString  \n",
       "0   येलन चीन से हैं। उनकी मां येलन गुट्टा  \n",
       "1                          28 नवम्बर 2007  \n",
       "2                           १२ मार्च १८२४  \n",
       "3                                      13  \n",
       "4                             சுவாமிநாதன்  "
      ]
     },
     "execution_count": 66,
     "metadata": {},
     "output_type": "execute_result"
    }
   ],
   "source": [
    "test.head()"
   ]
  },
  {
   "cell_type": "code",
   "execution_count": 67,
   "id": "742107f5",
   "metadata": {
    "execution": {
     "iopub.execute_input": "2021-08-19T04:51:43.215273Z",
     "iopub.status.busy": "2021-08-19T04:51:43.214528Z",
     "iopub.status.idle": "2021-08-19T04:51:43.224078Z",
     "shell.execute_reply": "2021-08-19T04:51:43.223285Z",
     "shell.execute_reply.started": "2021-08-19T04:48:52.196460Z"
    },
    "papermill": {
     "duration": 0.083943,
     "end_time": "2021-08-19T04:51:43.224276",
     "exception": false,
     "start_time": "2021-08-19T04:51:43.140333",
     "status": "completed"
    },
    "tags": []
   },
   "outputs": [],
   "source": [
    "test[['id','PredictionString']].to_csv('submission.csv',index=False)"
   ]
  },
  {
   "cell_type": "code",
   "execution_count": null,
   "id": "f8c24319",
   "metadata": {
    "papermill": {
     "duration": 0.069827,
     "end_time": "2021-08-19T04:51:43.365779",
     "exception": false,
     "start_time": "2021-08-19T04:51:43.295952",
     "status": "completed"
    },
    "tags": []
   },
   "outputs": [],
   "source": []
  },
  {
   "cell_type": "code",
   "execution_count": null,
   "id": "83ded6b7",
   "metadata": {
    "papermill": {
     "duration": 0.065839,
     "end_time": "2021-08-19T04:51:43.499460",
     "exception": false,
     "start_time": "2021-08-19T04:51:43.433621",
     "status": "completed"
    },
    "tags": []
   },
   "outputs": [],
   "source": []
  }
 ],
 "metadata": {
  "kernelspec": {
   "display_name": "Python 3",
   "language": "python",
   "name": "python3"
  },
  "language_info": {
   "codemirror_mode": {
    "name": "ipython",
    "version": 3
   },
   "file_extension": ".py",
   "mimetype": "text/x-python",
   "name": "python",
   "nbconvert_exporter": "python",
   "pygments_lexer": "ipython3",
   "version": "3.7.10"
  },
  "papermill": {
   "default_parameters": {},
   "duration": 137.827496,
   "end_time": "2021-08-19T04:51:46.404018",
   "environment_variables": {},
   "exception": null,
   "input_path": "__notebook__.ipynb",
   "output_path": "__notebook__.ipynb",
   "parameters": {},
   "start_time": "2021-08-19T04:49:28.576522",
   "version": "2.3.3"
  },
  "widgets": {
   "application/vnd.jupyter.widget-state+json": {
    "state": {
     "03d4c01b6060448d80bc37299cbb7431": {
      "model_module": "@jupyter-widgets/controls",
      "model_module_version": "1.5.0",
      "model_name": "FloatProgressModel",
      "state": {
       "_dom_classes": [],
       "_model_module": "@jupyter-widgets/controls",
       "_model_module_version": "1.5.0",
       "_model_name": "FloatProgressModel",
       "_view_count": null,
       "_view_module": "@jupyter-widgets/controls",
       "_view_module_version": "1.5.0",
       "_view_name": "ProgressView",
       "bar_style": "success",
       "description": "",
       "description_tooltip": null,
       "layout": "IPY_MODEL_60c7e97f96eb4978adb0a2143dc7dc0c",
       "max": 2.0,
       "min": 0.0,
       "orientation": "horizontal",
       "style": "IPY_MODEL_8de456b9a2db4b9e8c7a70ad5753c588",
       "value": 2.0
      }
     },
     "2b4b2ac0638b48f08fbb777ecae4d27d": {
      "model_module": "@jupyter-widgets/base",
      "model_module_version": "1.2.0",
      "model_name": "LayoutModel",
      "state": {
       "_model_module": "@jupyter-widgets/base",
       "_model_module_version": "1.2.0",
       "_model_name": "LayoutModel",
       "_view_count": null,
       "_view_module": "@jupyter-widgets/base",
       "_view_module_version": "1.2.0",
       "_view_name": "LayoutView",
       "align_content": null,
       "align_items": null,
       "align_self": null,
       "border": null,
       "bottom": null,
       "display": null,
       "flex": null,
       "flex_flow": null,
       "grid_area": null,
       "grid_auto_columns": null,
       "grid_auto_flow": null,
       "grid_auto_rows": null,
       "grid_column": null,
       "grid_gap": null,
       "grid_row": null,
       "grid_template_areas": null,
       "grid_template_columns": null,
       "grid_template_rows": null,
       "height": null,
       "justify_content": null,
       "justify_items": null,
       "left": null,
       "margin": null,
       "max_height": null,
       "max_width": null,
       "min_height": null,
       "min_width": null,
       "object_fit": null,
       "object_position": null,
       "order": null,
       "overflow": null,
       "overflow_x": null,
       "overflow_y": null,
       "padding": null,
       "right": null,
       "top": null,
       "visibility": null,
       "width": null
      }
     },
     "2fe51ca944d9492e8d6036d507311ac2": {
      "model_module": "@jupyter-widgets/base",
      "model_module_version": "1.2.0",
      "model_name": "LayoutModel",
      "state": {
       "_model_module": "@jupyter-widgets/base",
       "_model_module_version": "1.2.0",
       "_model_name": "LayoutModel",
       "_view_count": null,
       "_view_module": "@jupyter-widgets/base",
       "_view_module_version": "1.2.0",
       "_view_name": "LayoutView",
       "align_content": null,
       "align_items": null,
       "align_self": null,
       "border": null,
       "bottom": null,
       "display": null,
       "flex": null,
       "flex_flow": null,
       "grid_area": null,
       "grid_auto_columns": null,
       "grid_auto_flow": null,
       "grid_auto_rows": null,
       "grid_column": null,
       "grid_gap": null,
       "grid_row": null,
       "grid_template_areas": null,
       "grid_template_columns": null,
       "grid_template_rows": null,
       "height": null,
       "justify_content": null,
       "justify_items": null,
       "left": null,
       "margin": null,
       "max_height": null,
       "max_width": null,
       "min_height": null,
       "min_width": null,
       "object_fit": null,
       "object_position": null,
       "order": null,
       "overflow": null,
       "overflow_x": null,
       "overflow_y": null,
       "padding": null,
       "right": null,
       "top": null,
       "visibility": null,
       "width": null
      }
     },
     "3290a14fe3ed4664bc4686a915919ccd": {
      "model_module": "@jupyter-widgets/controls",
      "model_module_version": "1.5.0",
      "model_name": "FloatProgressModel",
      "state": {
       "_dom_classes": [],
       "_model_module": "@jupyter-widgets/controls",
       "_model_module_version": "1.5.0",
       "_model_name": "FloatProgressModel",
       "_view_count": null,
       "_view_module": "@jupyter-widgets/controls",
       "_view_module_version": "1.5.0",
       "_view_name": "ProgressView",
       "bar_style": "success",
       "description": "",
       "description_tooltip": null,
       "layout": "IPY_MODEL_7129a38b8bd94200a3d52c1f94469a71",
       "max": 5.0,
       "min": 0.0,
       "orientation": "horizontal",
       "style": "IPY_MODEL_9b2528d63c9d4aeaba933c6d5d15b6ee",
       "value": 5.0
      }
     },
     "4135c7ebf38c47e2ba0af9d3399614fd": {
      "model_module": "@jupyter-widgets/controls",
      "model_module_version": "1.5.0",
      "model_name": "HTMLModel",
      "state": {
       "_dom_classes": [],
       "_model_module": "@jupyter-widgets/controls",
       "_model_module_version": "1.5.0",
       "_model_name": "HTMLModel",
       "_view_count": null,
       "_view_module": "@jupyter-widgets/controls",
       "_view_module_version": "1.5.0",
       "_view_name": "HTMLView",
       "description": "",
       "description_tooltip": null,
       "layout": "IPY_MODEL_98b037cd3a9c4369b462ec2580f9d070",
       "placeholder": "​",
       "style": "IPY_MODEL_4c0af705ff2e452aa5313fe7151830c2",
       "value": "&lt;tqdm.auto.tqdm object at 0x7fc9802fcd10&gt;"
      }
     },
     "4c0af705ff2e452aa5313fe7151830c2": {
      "model_module": "@jupyter-widgets/controls",
      "model_module_version": "1.5.0",
      "model_name": "DescriptionStyleModel",
      "state": {
       "_model_module": "@jupyter-widgets/controls",
       "_model_module_version": "1.5.0",
       "_model_name": "DescriptionStyleModel",
       "_view_count": null,
       "_view_module": "@jupyter-widgets/base",
       "_view_module_version": "1.2.0",
       "_view_name": "StyleView",
       "description_width": ""
      }
     },
     "4c67422c092643e483800bf9f7250981": {
      "model_module": "@jupyter-widgets/controls",
      "model_module_version": "1.5.0",
      "model_name": "DescriptionStyleModel",
      "state": {
       "_model_module": "@jupyter-widgets/controls",
       "_model_module_version": "1.5.0",
       "_model_name": "DescriptionStyleModel",
       "_view_count": null,
       "_view_module": "@jupyter-widgets/base",
       "_view_module_version": "1.2.0",
       "_view_name": "StyleView",
       "description_width": ""
      }
     },
     "4fedd60363d14d5e92050256af9db188": {
      "model_module": "@jupyter-widgets/controls",
      "model_module_version": "1.5.0",
      "model_name": "HTMLModel",
      "state": {
       "_dom_classes": [],
       "_model_module": "@jupyter-widgets/controls",
       "_model_module_version": "1.5.0",
       "_model_name": "HTMLModel",
       "_view_count": null,
       "_view_module": "@jupyter-widgets/controls",
       "_view_module_version": "1.5.0",
       "_view_name": "HTMLView",
       "description": "",
       "description_tooltip": null,
       "layout": "IPY_MODEL_2fe51ca944d9492e8d6036d507311ac2",
       "placeholder": "​",
       "style": "IPY_MODEL_5b5899a97ec1469685a3ee469b9ec4ff",
       "value": "&lt;tqdm.auto.tqdm object at 0x7fc9740100d0&gt;"
      }
     },
     "552dc150b5a14fdf8e8af039e42fb67f": {
      "model_module": "@jupyter-widgets/controls",
      "model_module_version": "1.5.0",
      "model_name": "HTMLModel",
      "state": {
       "_dom_classes": [],
       "_model_module": "@jupyter-widgets/controls",
       "_model_module_version": "1.5.0",
       "_model_name": "HTMLModel",
       "_view_count": null,
       "_view_module": "@jupyter-widgets/controls",
       "_view_module_version": "1.5.0",
       "_view_name": "HTMLView",
       "description": "",
       "description_tooltip": null,
       "layout": "IPY_MODEL_c71c246aa4604e27b98c1f56c0c0bec4",
       "placeholder": "​",
       "style": "IPY_MODEL_bacd3e13e9844405971701bd1f8155ce",
       "value": "&lt;tqdm.auto.tqdm object at 0x7fc97403eb50&gt;"
      }
     },
     "55b3164ae3304efa821119fa25055ad6": {
      "model_module": "@jupyter-widgets/controls",
      "model_module_version": "1.5.0",
      "model_name": "ProgressStyleModel",
      "state": {
       "_model_module": "@jupyter-widgets/controls",
       "_model_module_version": "1.5.0",
       "_model_name": "ProgressStyleModel",
       "_view_count": null,
       "_view_module": "@jupyter-widgets/base",
       "_view_module_version": "1.2.0",
       "_view_name": "StyleView",
       "bar_color": null,
       "description_width": "initial"
      }
     },
     "5b5899a97ec1469685a3ee469b9ec4ff": {
      "model_module": "@jupyter-widgets/controls",
      "model_module_version": "1.5.0",
      "model_name": "DescriptionStyleModel",
      "state": {
       "_model_module": "@jupyter-widgets/controls",
       "_model_module_version": "1.5.0",
       "_model_name": "DescriptionStyleModel",
       "_view_count": null,
       "_view_module": "@jupyter-widgets/base",
       "_view_module_version": "1.2.0",
       "_view_name": "StyleView",
       "description_width": ""
      }
     },
     "5f5b2181fb9743e48c664b310dfda7df": {
      "model_module": "@jupyter-widgets/base",
      "model_module_version": "1.2.0",
      "model_name": "LayoutModel",
      "state": {
       "_model_module": "@jupyter-widgets/base",
       "_model_module_version": "1.2.0",
       "_model_name": "LayoutModel",
       "_view_count": null,
       "_view_module": "@jupyter-widgets/base",
       "_view_module_version": "1.2.0",
       "_view_name": "LayoutView",
       "align_content": null,
       "align_items": null,
       "align_self": null,
       "border": null,
       "bottom": null,
       "display": null,
       "flex": null,
       "flex_flow": null,
       "grid_area": null,
       "grid_auto_columns": null,
       "grid_auto_flow": null,
       "grid_auto_rows": null,
       "grid_column": null,
       "grid_gap": null,
       "grid_row": null,
       "grid_template_areas": null,
       "grid_template_columns": null,
       "grid_template_rows": null,
       "height": null,
       "justify_content": null,
       "justify_items": null,
       "left": null,
       "margin": null,
       "max_height": null,
       "max_width": null,
       "min_height": null,
       "min_width": null,
       "object_fit": null,
       "object_position": null,
       "order": null,
       "overflow": null,
       "overflow_x": null,
       "overflow_y": null,
       "padding": null,
       "right": null,
       "top": null,
       "visibility": null,
       "width": null
      }
     },
     "60c7e97f96eb4978adb0a2143dc7dc0c": {
      "model_module": "@jupyter-widgets/base",
      "model_module_version": "1.2.0",
      "model_name": "LayoutModel",
      "state": {
       "_model_module": "@jupyter-widgets/base",
       "_model_module_version": "1.2.0",
       "_model_name": "LayoutModel",
       "_view_count": null,
       "_view_module": "@jupyter-widgets/base",
       "_view_module_version": "1.2.0",
       "_view_name": "LayoutView",
       "align_content": null,
       "align_items": null,
       "align_self": null,
       "border": null,
       "bottom": null,
       "display": null,
       "flex": null,
       "flex_flow": null,
       "grid_area": null,
       "grid_auto_columns": null,
       "grid_auto_flow": null,
       "grid_auto_rows": null,
       "grid_column": null,
       "grid_gap": null,
       "grid_row": null,
       "grid_template_areas": null,
       "grid_template_columns": null,
       "grid_template_rows": null,
       "height": null,
       "justify_content": null,
       "justify_items": null,
       "left": null,
       "margin": null,
       "max_height": null,
       "max_width": null,
       "min_height": null,
       "min_width": null,
       "object_fit": null,
       "object_position": null,
       "order": null,
       "overflow": null,
       "overflow_x": null,
       "overflow_y": null,
       "padding": null,
       "right": null,
       "top": null,
       "visibility": null,
       "width": null
      }
     },
     "639f52172d1c4c59995112f4cea6a295": {
      "model_module": "@jupyter-widgets/controls",
      "model_module_version": "1.5.0",
      "model_name": "ProgressStyleModel",
      "state": {
       "_model_module": "@jupyter-widgets/controls",
       "_model_module_version": "1.5.0",
       "_model_name": "ProgressStyleModel",
       "_view_count": null,
       "_view_module": "@jupyter-widgets/base",
       "_view_module_version": "1.2.0",
       "_view_name": "StyleView",
       "bar_color": null,
       "description_width": "initial"
      }
     },
     "7129a38b8bd94200a3d52c1f94469a71": {
      "model_module": "@jupyter-widgets/base",
      "model_module_version": "1.2.0",
      "model_name": "LayoutModel",
      "state": {
       "_model_module": "@jupyter-widgets/base",
       "_model_module_version": "1.2.0",
       "_model_name": "LayoutModel",
       "_view_count": null,
       "_view_module": "@jupyter-widgets/base",
       "_view_module_version": "1.2.0",
       "_view_name": "LayoutView",
       "align_content": null,
       "align_items": null,
       "align_self": null,
       "border": null,
       "bottom": null,
       "display": null,
       "flex": null,
       "flex_flow": null,
       "grid_area": null,
       "grid_auto_columns": null,
       "grid_auto_flow": null,
       "grid_auto_rows": null,
       "grid_column": null,
       "grid_gap": null,
       "grid_row": null,
       "grid_template_areas": null,
       "grid_template_columns": null,
       "grid_template_rows": null,
       "height": null,
       "justify_content": null,
       "justify_items": null,
       "left": null,
       "margin": null,
       "max_height": null,
       "max_width": null,
       "min_height": null,
       "min_width": null,
       "object_fit": null,
       "object_position": null,
       "order": null,
       "overflow": null,
       "overflow_x": null,
       "overflow_y": null,
       "padding": null,
       "right": null,
       "top": null,
       "visibility": null,
       "width": null
      }
     },
     "7dd16d8e8f004fd98a06538d171806d1": {
      "model_module": "@jupyter-widgets/controls",
      "model_module_version": "1.5.0",
      "model_name": "FloatProgressModel",
      "state": {
       "_dom_classes": [],
       "_model_module": "@jupyter-widgets/controls",
       "_model_module_version": "1.5.0",
       "_model_name": "FloatProgressModel",
       "_view_count": null,
       "_view_module": "@jupyter-widgets/controls",
       "_view_module_version": "1.5.0",
       "_view_name": "ProgressView",
       "bar_style": "success",
       "description": "",
       "description_tooltip": null,
       "layout": "IPY_MODEL_add07f3e6d314635939829a402018ca7",
       "max": 1.0,
       "min": 0.0,
       "orientation": "horizontal",
       "style": "IPY_MODEL_55b3164ae3304efa821119fa25055ad6",
       "value": 1.0
      }
     },
     "8937ded3c80442a3a17750593740005b": {
      "model_module": "@jupyter-widgets/base",
      "model_module_version": "1.2.0",
      "model_name": "LayoutModel",
      "state": {
       "_model_module": "@jupyter-widgets/base",
       "_model_module_version": "1.2.0",
       "_model_name": "LayoutModel",
       "_view_count": null,
       "_view_module": "@jupyter-widgets/base",
       "_view_module_version": "1.2.0",
       "_view_name": "LayoutView",
       "align_content": null,
       "align_items": null,
       "align_self": null,
       "border": null,
       "bottom": null,
       "display": null,
       "flex": null,
       "flex_flow": null,
       "grid_area": null,
       "grid_auto_columns": null,
       "grid_auto_flow": null,
       "grid_auto_rows": null,
       "grid_column": null,
       "grid_gap": null,
       "grid_row": null,
       "grid_template_areas": null,
       "grid_template_columns": null,
       "grid_template_rows": null,
       "height": null,
       "justify_content": null,
       "justify_items": null,
       "left": null,
       "margin": null,
       "max_height": null,
       "max_width": null,
       "min_height": null,
       "min_width": null,
       "object_fit": null,
       "object_position": null,
       "order": null,
       "overflow": null,
       "overflow_x": null,
       "overflow_y": null,
       "padding": null,
       "right": null,
       "top": null,
       "visibility": null,
       "width": null
      }
     },
     "8de456b9a2db4b9e8c7a70ad5753c588": {
      "model_module": "@jupyter-widgets/controls",
      "model_module_version": "1.5.0",
      "model_name": "ProgressStyleModel",
      "state": {
       "_model_module": "@jupyter-widgets/controls",
       "_model_module_version": "1.5.0",
       "_model_name": "ProgressStyleModel",
       "_view_count": null,
       "_view_module": "@jupyter-widgets/base",
       "_view_module_version": "1.2.0",
       "_view_name": "StyleView",
       "bar_color": null,
       "description_width": "initial"
      }
     },
     "8f38362825cb40d5bae5f2717bdd2974": {
      "model_module": "@jupyter-widgets/controls",
      "model_module_version": "1.5.0",
      "model_name": "HBoxModel",
      "state": {
       "_dom_classes": [],
       "_model_module": "@jupyter-widgets/controls",
       "_model_module_version": "1.5.0",
       "_model_name": "HBoxModel",
       "_view_count": null,
       "_view_module": "@jupyter-widgets/controls",
       "_view_module_version": "1.5.0",
       "_view_name": "HBoxView",
       "box_style": "",
       "children": [
        "IPY_MODEL_7dd16d8e8f004fd98a06538d171806d1",
        "IPY_MODEL_4135c7ebf38c47e2ba0af9d3399614fd"
       ],
       "layout": "IPY_MODEL_bc5fbd64ac624b2a99356c7c5fa16c2e"
      }
     },
     "906db3dac55048b2af49c7fcc3e14c21": {
      "model_module": "@jupyter-widgets/controls",
      "model_module_version": "1.5.0",
      "model_name": "HBoxModel",
      "state": {
       "_dom_classes": [],
       "_model_module": "@jupyter-widgets/controls",
       "_model_module_version": "1.5.0",
       "_model_name": "HBoxModel",
       "_view_count": null,
       "_view_module": "@jupyter-widgets/controls",
       "_view_module_version": "1.5.0",
       "_view_name": "HBoxView",
       "box_style": "",
       "children": [
        "IPY_MODEL_e12a21af8b6a45abbe6e760bcb02acae",
        "IPY_MODEL_4fedd60363d14d5e92050256af9db188"
       ],
       "layout": "IPY_MODEL_8937ded3c80442a3a17750593740005b"
      }
     },
     "98b037cd3a9c4369b462ec2580f9d070": {
      "model_module": "@jupyter-widgets/base",
      "model_module_version": "1.2.0",
      "model_name": "LayoutModel",
      "state": {
       "_model_module": "@jupyter-widgets/base",
       "_model_module_version": "1.2.0",
       "_model_name": "LayoutModel",
       "_view_count": null,
       "_view_module": "@jupyter-widgets/base",
       "_view_module_version": "1.2.0",
       "_view_name": "LayoutView",
       "align_content": null,
       "align_items": null,
       "align_self": null,
       "border": null,
       "bottom": null,
       "display": null,
       "flex": null,
       "flex_flow": null,
       "grid_area": null,
       "grid_auto_columns": null,
       "grid_auto_flow": null,
       "grid_auto_rows": null,
       "grid_column": null,
       "grid_gap": null,
       "grid_row": null,
       "grid_template_areas": null,
       "grid_template_columns": null,
       "grid_template_rows": null,
       "height": null,
       "justify_content": null,
       "justify_items": null,
       "left": null,
       "margin": null,
       "max_height": null,
       "max_width": null,
       "min_height": null,
       "min_width": null,
       "object_fit": null,
       "object_position": null,
       "order": null,
       "overflow": null,
       "overflow_x": null,
       "overflow_y": null,
       "padding": null,
       "right": null,
       "top": null,
       "visibility": null,
       "width": null
      }
     },
     "9b2528d63c9d4aeaba933c6d5d15b6ee": {
      "model_module": "@jupyter-widgets/controls",
      "model_module_version": "1.5.0",
      "model_name": "ProgressStyleModel",
      "state": {
       "_model_module": "@jupyter-widgets/controls",
       "_model_module_version": "1.5.0",
       "_model_name": "ProgressStyleModel",
       "_view_count": null,
       "_view_module": "@jupyter-widgets/base",
       "_view_module_version": "1.2.0",
       "_view_name": "StyleView",
       "bar_color": null,
       "description_width": "initial"
      }
     },
     "a8808becc20642c586e19870e63d6c69": {
      "model_module": "@jupyter-widgets/controls",
      "model_module_version": "1.5.0",
      "model_name": "HTMLModel",
      "state": {
       "_dom_classes": [],
       "_model_module": "@jupyter-widgets/controls",
       "_model_module_version": "1.5.0",
       "_model_name": "HTMLModel",
       "_view_count": null,
       "_view_module": "@jupyter-widgets/controls",
       "_view_module_version": "1.5.0",
       "_view_name": "HTMLView",
       "description": "",
       "description_tooltip": null,
       "layout": "IPY_MODEL_e935d90337f340c480948b8fc09dcda7",
       "placeholder": "​",
       "style": "IPY_MODEL_4c67422c092643e483800bf9f7250981",
       "value": "&lt;tqdm.auto.tqdm object at 0x7fc9802fc990&gt;"
      }
     },
     "add07f3e6d314635939829a402018ca7": {
      "model_module": "@jupyter-widgets/base",
      "model_module_version": "1.2.0",
      "model_name": "LayoutModel",
      "state": {
       "_model_module": "@jupyter-widgets/base",
       "_model_module_version": "1.2.0",
       "_model_name": "LayoutModel",
       "_view_count": null,
       "_view_module": "@jupyter-widgets/base",
       "_view_module_version": "1.2.0",
       "_view_name": "LayoutView",
       "align_content": null,
       "align_items": null,
       "align_self": null,
       "border": null,
       "bottom": null,
       "display": null,
       "flex": null,
       "flex_flow": null,
       "grid_area": null,
       "grid_auto_columns": null,
       "grid_auto_flow": null,
       "grid_auto_rows": null,
       "grid_column": null,
       "grid_gap": null,
       "grid_row": null,
       "grid_template_areas": null,
       "grid_template_columns": null,
       "grid_template_rows": null,
       "height": null,
       "justify_content": null,
       "justify_items": null,
       "left": null,
       "margin": null,
       "max_height": null,
       "max_width": null,
       "min_height": null,
       "min_width": null,
       "object_fit": null,
       "object_position": null,
       "order": null,
       "overflow": null,
       "overflow_x": null,
       "overflow_y": null,
       "padding": null,
       "right": null,
       "top": null,
       "visibility": null,
       "width": null
      }
     },
     "b678e3157eef4ee8b3a318cbed0346d6": {
      "model_module": "@jupyter-widgets/controls",
      "model_module_version": "1.5.0",
      "model_name": "HBoxModel",
      "state": {
       "_dom_classes": [],
       "_model_module": "@jupyter-widgets/controls",
       "_model_module_version": "1.5.0",
       "_model_name": "HBoxModel",
       "_view_count": null,
       "_view_module": "@jupyter-widgets/controls",
       "_view_module_version": "1.5.0",
       "_view_name": "HBoxView",
       "box_style": "",
       "children": [
        "IPY_MODEL_03d4c01b6060448d80bc37299cbb7431",
        "IPY_MODEL_a8808becc20642c586e19870e63d6c69"
       ],
       "layout": "IPY_MODEL_5f5b2181fb9743e48c664b310dfda7df"
      }
     },
     "bacd3e13e9844405971701bd1f8155ce": {
      "model_module": "@jupyter-widgets/controls",
      "model_module_version": "1.5.0",
      "model_name": "DescriptionStyleModel",
      "state": {
       "_model_module": "@jupyter-widgets/controls",
       "_model_module_version": "1.5.0",
       "_model_name": "DescriptionStyleModel",
       "_view_count": null,
       "_view_module": "@jupyter-widgets/base",
       "_view_module_version": "1.2.0",
       "_view_name": "StyleView",
       "description_width": ""
      }
     },
     "bc5fbd64ac624b2a99356c7c5fa16c2e": {
      "model_module": "@jupyter-widgets/base",
      "model_module_version": "1.2.0",
      "model_name": "LayoutModel",
      "state": {
       "_model_module": "@jupyter-widgets/base",
       "_model_module_version": "1.2.0",
       "_model_name": "LayoutModel",
       "_view_count": null,
       "_view_module": "@jupyter-widgets/base",
       "_view_module_version": "1.2.0",
       "_view_name": "LayoutView",
       "align_content": null,
       "align_items": null,
       "align_self": null,
       "border": null,
       "bottom": null,
       "display": null,
       "flex": null,
       "flex_flow": null,
       "grid_area": null,
       "grid_auto_columns": null,
       "grid_auto_flow": null,
       "grid_auto_rows": null,
       "grid_column": null,
       "grid_gap": null,
       "grid_row": null,
       "grid_template_areas": null,
       "grid_template_columns": null,
       "grid_template_rows": null,
       "height": null,
       "justify_content": null,
       "justify_items": null,
       "left": null,
       "margin": null,
       "max_height": null,
       "max_width": null,
       "min_height": null,
       "min_width": null,
       "object_fit": null,
       "object_position": null,
       "order": null,
       "overflow": null,
       "overflow_x": null,
       "overflow_y": null,
       "padding": null,
       "right": null,
       "top": null,
       "visibility": null,
       "width": null
      }
     },
     "c71c246aa4604e27b98c1f56c0c0bec4": {
      "model_module": "@jupyter-widgets/base",
      "model_module_version": "1.2.0",
      "model_name": "LayoutModel",
      "state": {
       "_model_module": "@jupyter-widgets/base",
       "_model_module_version": "1.2.0",
       "_model_name": "LayoutModel",
       "_view_count": null,
       "_view_module": "@jupyter-widgets/base",
       "_view_module_version": "1.2.0",
       "_view_name": "LayoutView",
       "align_content": null,
       "align_items": null,
       "align_self": null,
       "border": null,
       "bottom": null,
       "display": null,
       "flex": null,
       "flex_flow": null,
       "grid_area": null,
       "grid_auto_columns": null,
       "grid_auto_flow": null,
       "grid_auto_rows": null,
       "grid_column": null,
       "grid_gap": null,
       "grid_row": null,
       "grid_template_areas": null,
       "grid_template_columns": null,
       "grid_template_rows": null,
       "height": null,
       "justify_content": null,
       "justify_items": null,
       "left": null,
       "margin": null,
       "max_height": null,
       "max_width": null,
       "min_height": null,
       "min_width": null,
       "object_fit": null,
       "object_position": null,
       "order": null,
       "overflow": null,
       "overflow_x": null,
       "overflow_y": null,
       "padding": null,
       "right": null,
       "top": null,
       "visibility": null,
       "width": null
      }
     },
     "d18b803eafd34b1cae699dbc07299677": {
      "model_module": "@jupyter-widgets/base",
      "model_module_version": "1.2.0",
      "model_name": "LayoutModel",
      "state": {
       "_model_module": "@jupyter-widgets/base",
       "_model_module_version": "1.2.0",
       "_model_name": "LayoutModel",
       "_view_count": null,
       "_view_module": "@jupyter-widgets/base",
       "_view_module_version": "1.2.0",
       "_view_name": "LayoutView",
       "align_content": null,
       "align_items": null,
       "align_self": null,
       "border": null,
       "bottom": null,
       "display": null,
       "flex": null,
       "flex_flow": null,
       "grid_area": null,
       "grid_auto_columns": null,
       "grid_auto_flow": null,
       "grid_auto_rows": null,
       "grid_column": null,
       "grid_gap": null,
       "grid_row": null,
       "grid_template_areas": null,
       "grid_template_columns": null,
       "grid_template_rows": null,
       "height": null,
       "justify_content": null,
       "justify_items": null,
       "left": null,
       "margin": null,
       "max_height": null,
       "max_width": null,
       "min_height": null,
       "min_width": null,
       "object_fit": null,
       "object_position": null,
       "order": null,
       "overflow": null,
       "overflow_x": null,
       "overflow_y": null,
       "padding": null,
       "right": null,
       "top": null,
       "visibility": null,
       "width": null
      }
     },
     "e12a21af8b6a45abbe6e760bcb02acae": {
      "model_module": "@jupyter-widgets/controls",
      "model_module_version": "1.5.0",
      "model_name": "FloatProgressModel",
      "state": {
       "_dom_classes": [],
       "_model_module": "@jupyter-widgets/controls",
       "_model_module_version": "1.5.0",
       "_model_name": "FloatProgressModel",
       "_view_count": null,
       "_view_module": "@jupyter-widgets/controls",
       "_view_module_version": "1.5.0",
       "_view_name": "ProgressView",
       "bar_style": "success",
       "description": "",
       "description_tooltip": null,
       "layout": "IPY_MODEL_d18b803eafd34b1cae699dbc07299677",
       "max": 1.0,
       "min": 0.0,
       "orientation": "horizontal",
       "style": "IPY_MODEL_639f52172d1c4c59995112f4cea6a295",
       "value": 1.0
      }
     },
     "e935d90337f340c480948b8fc09dcda7": {
      "model_module": "@jupyter-widgets/base",
      "model_module_version": "1.2.0",
      "model_name": "LayoutModel",
      "state": {
       "_model_module": "@jupyter-widgets/base",
       "_model_module_version": "1.2.0",
       "_model_name": "LayoutModel",
       "_view_count": null,
       "_view_module": "@jupyter-widgets/base",
       "_view_module_version": "1.2.0",
       "_view_name": "LayoutView",
       "align_content": null,
       "align_items": null,
       "align_self": null,
       "border": null,
       "bottom": null,
       "display": null,
       "flex": null,
       "flex_flow": null,
       "grid_area": null,
       "grid_auto_columns": null,
       "grid_auto_flow": null,
       "grid_auto_rows": null,
       "grid_column": null,
       "grid_gap": null,
       "grid_row": null,
       "grid_template_areas": null,
       "grid_template_columns": null,
       "grid_template_rows": null,
       "height": null,
       "justify_content": null,
       "justify_items": null,
       "left": null,
       "margin": null,
       "max_height": null,
       "max_width": null,
       "min_height": null,
       "min_width": null,
       "object_fit": null,
       "object_position": null,
       "order": null,
       "overflow": null,
       "overflow_x": null,
       "overflow_y": null,
       "padding": null,
       "right": null,
       "top": null,
       "visibility": null,
       "width": null
      }
     },
     "ea62a5761c5c492fa577c36e157c4b4f": {
      "model_module": "@jupyter-widgets/controls",
      "model_module_version": "1.5.0",
      "model_name": "HBoxModel",
      "state": {
       "_dom_classes": [],
       "_model_module": "@jupyter-widgets/controls",
       "_model_module_version": "1.5.0",
       "_model_name": "HBoxModel",
       "_view_count": null,
       "_view_module": "@jupyter-widgets/controls",
       "_view_module_version": "1.5.0",
       "_view_name": "HBoxView",
       "box_style": "",
       "children": [
        "IPY_MODEL_3290a14fe3ed4664bc4686a915919ccd",
        "IPY_MODEL_552dc150b5a14fdf8e8af039e42fb67f"
       ],
       "layout": "IPY_MODEL_2b4b2ac0638b48f08fbb777ecae4d27d"
      }
     }
    },
    "version_major": 2,
    "version_minor": 0
   }
  }
 },
 "nbformat": 4,
 "nbformat_minor": 5
}
