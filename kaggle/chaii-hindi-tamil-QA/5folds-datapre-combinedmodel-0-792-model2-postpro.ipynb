{
 "cells": [
  {
   "cell_type": "markdown",
   "id": "c380f519",
   "metadata": {
    "editable": false,
    "execution": {
     "iopub.execute_input": "2021-09-30T21:49:49.137083Z",
     "iopub.status.busy": "2021-09-30T21:49:49.136675Z",
     "iopub.status.idle": "2021-09-30T21:49:49.243477Z",
     "shell.execute_reply": "2021-09-30T21:49:49.242351Z",
     "shell.execute_reply.started": "2021-09-30T21:49:49.136976Z"
    },
    "papermill": {
     "duration": 0.025696,
     "end_time": "2021-11-13T13:56:29.229125",
     "exception": false,
     "start_time": "2021-11-13T13:56:29.203429",
     "status": "completed"
    },
    "tags": []
   },
   "source": [
    "# Making the 0.792 model : \n",
    "\n",
    "### Making the model and Inferencing steps:\n",
    "\n",
    "<ul>  \n",
    "    <li>Using the datasets : chaii, mlqa, squad, tamil_xquad </li>\n",
    "    <li>Training for 2 epochs : <a href=\"https://www.kaggle.com/kishalmandal/chaii-fit-2-epochs-mlqa-xquad-chaii/\">chaii | FIT - 2 epochs | mlqa, xquad, chaii</a> </li>\n",
    "    <li>Training for 7 epochs with tamil_xquad: <a href=\"https://www.kaggle.com/kishalmandal/chaii-fit-7-epochs-extra-tamil-data/\">chaii | FIT - 7 epochs | Extra Tamil Data</a> </li>\n",
    "    <li>Inferencing from 5 folds | fold-0 and fold-1 (7-epochs) | fold-2, fold-3 and fold-4 (2-epochs)| based on cross validation scores and a little bit of experimentation 😜: <a href=\"https://www.kaggle.com/kishalmandal/5-epochs-infer-combined-model-0-792/\">5 epochs | INFER | combined model (0.792)</a></li>\n",
    "    \n",
    "    \n",
    "</ul>\n",
    "\n",
    "### References : \n",
    "\n",
    "<ul> \n",
    "    <li>For training: <a href=\"https://www.kaggle.com/rhtsingh/chaii-qa-5-fold-xlmroberta-torch-fit\">chaii QA - 5 Fold XLMRoberta Torch | FIT</a> by <a href=\"https://www.kaggle.com/rhtsingh\">torch</a></li>\n",
    "    <li>For Inference: <a href=\"https://www.kaggle.com/rhtsingh/chaii-qa-5-fold-xlmroberta-torch-infer\">chaii QA - 5 Fold XLMRoberta Torch | Infer</a> by <a href=\"https://www.kaggle.com/rhtsingh\">torch</a></li>\n",
    "    <li>For post processing outputs: <a href=\"https://www.kaggle.com/nbroad/chaii-qa-torch-5-fold-with-post-processing-765\">chaii QA-Torch 5 fold with post-processing (.765)</a> by <a href=\"https://www.kaggle.com/nbroad\">Nicholas Broad 🟢</a></li>\n",
    "</ul>\n",
    "\n",
    "\n",
    "### Important Notes:\n",
    "\n",
    "<ul>\n",
    "    <li>Some one experimented with the max_seq_length and doc_stride to bring my previous 0.785 to 0.792. Then I performed some more experiments and saw more than 400 decreases the score (~0.3-0.4) while decreasing below 400 upto around 384 does not change the score by much (~0.2)</li>\n",
    "    <li>Vigourous change or lr and decay rates reduces the performance.</li>\n",
    "    <li>I took weighted average based on the validation loss increased score by (~0.01)</li>\n",
    "</ul>"
   ]
  },
  {
   "cell_type": "code",
   "execution_count": 1,
   "id": "a425094d",
   "metadata": {
    "editable": false,
    "execution": {
     "iopub.execute_input": "2021-11-13T13:56:29.371028Z",
     "iopub.status.busy": "2021-11-13T13:56:29.364549Z",
     "iopub.status.idle": "2021-11-13T13:56:40.058920Z",
     "shell.execute_reply": "2021-11-13T13:56:40.059648Z",
     "shell.execute_reply.started": "2021-11-13T12:42:43.617388Z"
    },
    "papermill": {
     "duration": 10.804502,
     "end_time": "2021-11-13T13:56:40.059983",
     "exception": false,
     "start_time": "2021-11-13T13:56:29.255481",
     "status": "completed"
    },
    "tags": []
   },
   "outputs": [
    {
     "name": "stderr",
     "output_type": "stream",
     "text": [
      "2021-11-13 13:56:35.344699: I tensorflow/stream_executor/platform/default/dso_loader.cc:49] Successfully opened dynamic library libcudart.so.11.0\n"
     ]
    },
    {
     "name": "stdout",
     "output_type": "stream",
     "text": [
      "Apex AMP Installed :: False\n"
     ]
    }
   ],
   "source": [
    "import os\n",
    "os.environ[\"TOKENIZERS_PARALLELISM\"] = \"false\"\n",
    "import gc\n",
    "gc.enable()\n",
    "import math\n",
    "import json\n",
    "import time\n",
    "import random\n",
    "import multiprocessing\n",
    "import warnings\n",
    "warnings.filterwarnings(\"ignore\", category=UserWarning)\n",
    "\n",
    "import numpy as np\n",
    "import pandas as pd\n",
    "from tqdm import tqdm, trange\n",
    "from sklearn import model_selection\n",
    "from string import punctuation\n",
    "\n",
    "import torch\n",
    "import torch.nn as nn\n",
    "import torch.nn.functional as F\n",
    "from torch.nn import Parameter\n",
    "import torch.optim as optim\n",
    "from torch.utils.data import (\n",
    "    Dataset, DataLoader,\n",
    "    SequentialSampler, RandomSampler\n",
    ")\n",
    "from torch.utils.data.distributed import DistributedSampler\n",
    "\n",
    "try:\n",
    "    from apex import amp\n",
    "    APEX_INSTALLED = True\n",
    "except ImportError:\n",
    "    APEX_INSTALLED = False\n",
    "\n",
    "import transformers\n",
    "from transformers import (\n",
    "    WEIGHTS_NAME,\n",
    "    AdamW,\n",
    "    AutoConfig,\n",
    "    AutoModel,\n",
    "    AutoTokenizer,\n",
    "    get_cosine_schedule_with_warmup,\n",
    "    get_linear_schedule_with_warmup,\n",
    "    logging,\n",
    "    MODEL_FOR_QUESTION_ANSWERING_MAPPING,\n",
    ")\n",
    "logging.set_verbosity_warning()\n",
    "logging.set_verbosity_error()\n",
    "\n",
    "def fix_all_seeds(seed):\n",
    "    np.random.seed(seed)\n",
    "    random.seed(seed)\n",
    "    os.environ['PYTHONHASHSEED'] = str(seed)\n",
    "    torch.manual_seed(seed)\n",
    "    torch.cuda.manual_seed(seed)\n",
    "    torch.cuda.manual_seed_all(seed)\n",
    "\n",
    "def optimal_num_of_loader_workers():\n",
    "    num_cpus = multiprocessing.cpu_count()\n",
    "    num_gpus = torch.cuda.device_count()\n",
    "    optimal_value = min(num_cpus, num_gpus*4) if num_gpus else num_cpus - 1\n",
    "    return optimal_value\n",
    "\n",
    "print(f\"Apex AMP Installed :: {APEX_INSTALLED}\")\n",
    "MODEL_CONFIG_CLASSES = list(MODEL_FOR_QUESTION_ANSWERING_MAPPING.keys())\n",
    "MODEL_TYPES = tuple(conf.model_type for conf in MODEL_CONFIG_CLASSES)"
   ]
  },
  {
   "cell_type": "code",
   "execution_count": 2,
   "id": "1e43279b",
   "metadata": {
    "editable": false,
    "execution": {
     "iopub.execute_input": "2021-11-13T13:56:40.118213Z",
     "iopub.status.busy": "2021-11-13T13:56:40.115586Z",
     "iopub.status.idle": "2021-11-13T13:56:40.120610Z",
     "shell.execute_reply": "2021-11-13T13:56:40.120212Z",
     "shell.execute_reply.started": "2021-11-13T12:42:43.645149Z"
    },
    "papermill": {
     "duration": 0.033446,
     "end_time": "2021-11-13T13:56:40.120721",
     "exception": false,
     "start_time": "2021-11-13T13:56:40.087275",
     "status": "completed"
    },
    "tags": []
   },
   "outputs": [],
   "source": [
    "class Config:\n",
    "    # model\n",
    "    model_type = 'xlm_roberta'\n",
    "    model_name_or_path = \"../input/5foldsroberta/output/checkpoint-fold-0\"#\"../input/xlm-roberta-large-squad-v2\"\n",
    "    config_name = \"../input/5foldsroberta/output/checkpoint-fold-0\"#\"../input/xlm-roberta-large-squad-v2\"\n",
    "    fp16 = True if APEX_INSTALLED else False\n",
    "    fp16_opt_level = \"O1\"\n",
    "    gradient_accumulation_steps = 2\n",
    "\n",
    "    # tokenizer\n",
    "    tokenizer_name = \"../input/5foldsroberta/output/checkpoint-fold-0\"#\"../input/xlm-roberta-large-squad-v2\"\n",
    "    max_seq_length = 400\n",
    "    doc_stride = 135\n",
    "\n",
    "    # train\n",
    "    epochs = 1\n",
    "    train_batch_size = 4\n",
    "    eval_batch_size = 128\n",
    "\n",
    "    # optimzer\n",
    "    optimizer_type = 'AdamW'\n",
    "    learning_rate = 1e-5\n",
    "    weight_decay = 1e-2\n",
    "    epsilon = 1e-8\n",
    "    max_grad_norm = 1.0\n",
    "\n",
    "    # scheduler\n",
    "    decay_name = 'linear-warmup'\n",
    "    warmup_ratio = 0.1\n",
    "\n",
    "    # logging\n",
    "    logging_steps = 10\n",
    "\n",
    "    # evaluate\n",
    "    output_dir = 'output'\n",
    "    seed = 2021"
   ]
  },
  {
   "cell_type": "code",
   "execution_count": 3,
   "id": "b712b9ae",
   "metadata": {
    "editable": false,
    "execution": {
     "iopub.execute_input": "2021-11-13T13:56:40.179520Z",
     "iopub.status.busy": "2021-11-13T13:56:40.178765Z",
     "iopub.status.idle": "2021-11-13T13:56:40.181368Z",
     "shell.execute_reply": "2021-11-13T13:56:40.180970Z",
     "shell.execute_reply.started": "2021-11-13T12:42:43.660802Z"
    },
    "papermill": {
     "duration": 0.03619,
     "end_time": "2021-11-13T13:56:40.181485",
     "exception": false,
     "start_time": "2021-11-13T13:56:40.145295",
     "status": "completed"
    },
    "tags": []
   },
   "outputs": [],
   "source": [
    "class DatasetRetriever(Dataset):\n",
    "    def __init__(self, features, mode='train'):\n",
    "        super(DatasetRetriever, self).__init__()\n",
    "        self.features = features\n",
    "        self.mode = mode\n",
    "        \n",
    "    def __len__(self):\n",
    "        return len(self.features)\n",
    "    \n",
    "    def __getitem__(self, item):   \n",
    "        feature = self.features[item]\n",
    "        if self.mode == 'train':\n",
    "            return {\n",
    "                'input_ids':torch.tensor(feature['input_ids'], dtype=torch.long),\n",
    "                'attention_mask':torch.tensor(feature['attention_mask'], dtype=torch.long),\n",
    "                'offset_mapping':torch.tensor(feature['offset_mapping'], dtype=torch.long),\n",
    "                'start_position':torch.tensor(feature['start_position'], dtype=torch.long),\n",
    "                'end_position':torch.tensor(feature['end_position'], dtype=torch.long)\n",
    "            }\n",
    "        else:\n",
    "            return {\n",
    "                'input_ids':torch.tensor(feature['input_ids'], dtype=torch.long),\n",
    "                'attention_mask':torch.tensor(feature['attention_mask'], dtype=torch.long),\n",
    "                'offset_mapping':feature['offset_mapping'],\n",
    "                'sequence_ids':feature['sequence_ids'],\n",
    "                'id':feature['example_id'],\n",
    "                'context': feature['context'],\n",
    "                'question': feature['question']\n",
    "            }"
   ]
  },
  {
   "cell_type": "code",
   "execution_count": 4,
   "id": "f4d8b859",
   "metadata": {
    "editable": false,
    "execution": {
     "iopub.execute_input": "2021-11-13T13:56:40.240169Z",
     "iopub.status.busy": "2021-11-13T13:56:40.239417Z",
     "iopub.status.idle": "2021-11-13T13:56:40.242227Z",
     "shell.execute_reply": "2021-11-13T13:56:40.241820Z",
     "shell.execute_reply.started": "2021-11-13T12:42:43.679150Z"
    },
    "papermill": {
     "duration": 0.036247,
     "end_time": "2021-11-13T13:56:40.242336",
     "exception": false,
     "start_time": "2021-11-13T13:56:40.206089",
     "status": "completed"
    },
    "tags": []
   },
   "outputs": [],
   "source": [
    "class Model(nn.Module):\n",
    "    def __init__(self, modelname_or_path, config):\n",
    "        super(Model, self).__init__()\n",
    "        self.config = config\n",
    "        self.xlm_roberta = AutoModel.from_pretrained(modelname_or_path, config=config)\n",
    "        self.qa_outputs = nn.Linear(config.hidden_size, 2)\n",
    "        self.dropout = nn.Dropout(config.hidden_dropout_prob)\n",
    "        self._init_weights(self.qa_outputs)\n",
    "        \n",
    "    def _init_weights(self, module):\n",
    "        if isinstance(module, nn.Linear):\n",
    "            module.weight.data.normal_(mean=0.0, std=self.config.initializer_range)\n",
    "            if module.bias is not None:\n",
    "                module.bias.data.zero_()\n",
    "\n",
    "    def forward(\n",
    "        self, \n",
    "        input_ids, \n",
    "        attention_mask=None, \n",
    "    ):\n",
    "        outputs = self.xlm_roberta(\n",
    "            input_ids,\n",
    "            attention_mask=attention_mask,\n",
    "        )\n",
    "\n",
    "        sequence_output = outputs[0]\n",
    "        pooled_output = outputs[1]\n",
    "        \n",
    "        # sequence_output = self.dropout(sequence_output)\n",
    "        qa_logits = self.qa_outputs(sequence_output)\n",
    "        \n",
    "        start_logits, end_logits = qa_logits.split(1, dim=-1)\n",
    "        start_logits = start_logits.squeeze(-1)\n",
    "        end_logits = end_logits.squeeze(-1)\n",
    "    \n",
    "        return start_logits, end_logits"
   ]
  },
  {
   "cell_type": "code",
   "execution_count": 5,
   "id": "a98a6ea8",
   "metadata": {
    "editable": false,
    "execution": {
     "iopub.execute_input": "2021-11-13T13:56:40.296326Z",
     "iopub.status.busy": "2021-11-13T13:56:40.295572Z",
     "iopub.status.idle": "2021-11-13T13:56:40.298057Z",
     "shell.execute_reply": "2021-11-13T13:56:40.297599Z",
     "shell.execute_reply.started": "2021-11-13T12:42:43.694759Z"
    },
    "papermill": {
     "duration": 0.03109,
     "end_time": "2021-11-13T13:56:40.298168",
     "exception": false,
     "start_time": "2021-11-13T13:56:40.267078",
     "status": "completed"
    },
    "tags": []
   },
   "outputs": [],
   "source": [
    "def make_model(args):\n",
    "    config = AutoConfig.from_pretrained(args.config_name)\n",
    "    tokenizer = AutoTokenizer.from_pretrained(args.tokenizer_name)\n",
    "    model = Model(args.model_name_or_path, config=config)\n",
    "    return config, tokenizer, model"
   ]
  },
  {
   "cell_type": "code",
   "execution_count": 6,
   "id": "071bccf3",
   "metadata": {
    "editable": false,
    "execution": {
     "iopub.execute_input": "2021-11-13T13:56:40.354985Z",
     "iopub.status.busy": "2021-11-13T13:56:40.354229Z",
     "iopub.status.idle": "2021-11-13T13:56:40.356814Z",
     "shell.execute_reply": "2021-11-13T13:56:40.356374Z",
     "shell.execute_reply.started": "2021-11-13T12:42:46.981260Z"
    },
    "papermill": {
     "duration": 0.034629,
     "end_time": "2021-11-13T13:56:40.356934",
     "exception": false,
     "start_time": "2021-11-13T13:56:40.322305",
     "status": "completed"
    },
    "tags": []
   },
   "outputs": [],
   "source": [
    "def prepare_test_features(args, example, tokenizer):\n",
    "    example[\"question\"] = example[\"question\"].lstrip()\n",
    "    \n",
    "    tokenized_example = tokenizer(\n",
    "        example[\"question\"],\n",
    "        example[\"context\"],\n",
    "        truncation=\"only_second\",\n",
    "        max_length=args.max_seq_length,\n",
    "        stride=args.doc_stride,\n",
    "        return_overflowing_tokens=True,\n",
    "        return_offsets_mapping=True,\n",
    "        padding=\"max_length\",\n",
    "    )\n",
    "\n",
    "    features = []\n",
    "    for i in range(len(tokenized_example[\"input_ids\"])):\n",
    "        feature = {}\n",
    "        feature[\"example_id\"] = example['id']\n",
    "        feature['context'] = example['context']\n",
    "        feature['question'] = example['question']\n",
    "        feature['input_ids'] = tokenized_example['input_ids'][i]\n",
    "        feature['attention_mask'] = tokenized_example['attention_mask'][i]\n",
    "        feature['offset_mapping'] = tokenized_example['offset_mapping'][i]\n",
    "        feature['sequence_ids'] = [0 if i is None else i for i in tokenized_example.sequence_ids(i)]\n",
    "        features.append(feature)\n",
    "    return features"
   ]
  },
  {
   "cell_type": "markdown",
   "id": "19cf5140",
   "metadata": {
    "editable": false,
    "papermill": {
     "duration": 0.02461,
     "end_time": "2021-11-13T13:56:40.406020",
     "exception": false,
     "start_time": "2021-11-13T13:56:40.381410",
     "status": "completed"
    },
    "tags": []
   },
   "source": [
    "# Combining different data"
   ]
  },
  {
   "cell_type": "code",
   "execution_count": 7,
   "id": "ed67a500",
   "metadata": {
    "execution": {
     "iopub.execute_input": "2021-11-13T13:56:40.458619Z",
     "iopub.status.busy": "2021-11-13T13:56:40.457857Z",
     "iopub.status.idle": "2021-11-13T13:56:40.460376Z",
     "shell.execute_reply": "2021-11-13T13:56:40.459894Z"
    },
    "papermill": {
     "duration": 0.030104,
     "end_time": "2021-11-13T13:56:40.460489",
     "exception": false,
     "start_time": "2021-11-13T13:56:40.430385",
     "status": "completed"
    },
    "tags": []
   },
   "outputs": [],
   "source": [
    "# test0 = pd.read_csv('../input/mlqa-hindi-processed/mlqa_hindi.csv')\n",
    "# print(len(test0))\n",
    "# test0.head()"
   ]
  },
  {
   "cell_type": "code",
   "execution_count": 8,
   "id": "ad6e6e3b",
   "metadata": {
    "execution": {
     "iopub.execute_input": "2021-11-13T13:56:40.513081Z",
     "iopub.status.busy": "2021-11-13T13:56:40.512384Z",
     "iopub.status.idle": "2021-11-13T13:56:40.514972Z",
     "shell.execute_reply": "2021-11-13T13:56:40.514533Z"
    },
    "papermill": {
     "duration": 0.03004,
     "end_time": "2021-11-13T13:56:40.515082",
     "exception": false,
     "start_time": "2021-11-13T13:56:40.485042",
     "status": "completed"
    },
    "tags": []
   },
   "outputs": [],
   "source": [
    "# test1 = pd.read_csv('../input/mlqa-hindi-processed/xquad.csv')\n",
    "# print(len(test1))\n",
    "# test1.head()"
   ]
  },
  {
   "cell_type": "code",
   "execution_count": 9,
   "id": "f9886d68",
   "metadata": {
    "execution": {
     "iopub.execute_input": "2021-11-13T13:56:40.568083Z",
     "iopub.status.busy": "2021-11-13T13:56:40.567323Z",
     "iopub.status.idle": "2021-11-13T13:56:40.569725Z",
     "shell.execute_reply": "2021-11-13T13:56:40.569314Z"
    },
    "papermill": {
     "duration": 0.030333,
     "end_time": "2021-11-13T13:56:40.569846",
     "exception": false,
     "start_time": "2021-11-13T13:56:40.539513",
     "status": "completed"
    },
    "tags": []
   },
   "outputs": [],
   "source": [
    "# test2 = pd.read_csv('../input/squad-translated-to-tamil-for-chaii/squad_translated_tamil.csv')\n",
    "# print(len(test2))\n",
    "# test2.loc[:,'language']='tamil'\n",
    "# test2.head()"
   ]
  },
  {
   "cell_type": "code",
   "execution_count": 10,
   "id": "bb397983",
   "metadata": {
    "execution": {
     "iopub.execute_input": "2021-11-13T13:56:40.624243Z",
     "iopub.status.busy": "2021-11-13T13:56:40.623355Z",
     "iopub.status.idle": "2021-11-13T13:56:40.625502Z",
     "shell.execute_reply": "2021-11-13T13:56:40.625921Z",
     "shell.execute_reply.started": "2021-11-13T05:01:13.684035Z"
    },
    "papermill": {
     "duration": 0.031773,
     "end_time": "2021-11-13T13:56:40.626049",
     "exception": false,
     "start_time": "2021-11-13T13:56:40.594276",
     "status": "completed"
    },
    "tags": []
   },
   "outputs": [],
   "source": [
    "# # result = pd.concat([test0,test1,test2])\n",
    "# result = pd.concat([test1,test2[:1500]])\n",
    "# print(len(result))\n",
    "# result['answer_start']= result['answer_start'].astype(float).astype(int)\n",
    "# id_column_value=[]\n",
    "# for i in range(len(result)):\n",
    "#     id_column_value.append(str(i))\n",
    "# result['id']=id_column_value\n",
    "# result.head()"
   ]
  },
  {
   "cell_type": "markdown",
   "id": "da045d1f",
   "metadata": {
    "editable": false,
    "papermill": {
     "duration": 0.024621,
     "end_time": "2021-11-13T13:56:40.675210",
     "exception": false,
     "start_time": "2021-11-13T13:56:40.650589",
     "status": "completed"
    },
    "tags": []
   },
   "source": [
    "# Processing data"
   ]
  },
  {
   "cell_type": "code",
   "execution_count": 11,
   "id": "2bf70de3",
   "metadata": {
    "execution": {
     "iopub.execute_input": "2021-11-13T13:56:40.733749Z",
     "iopub.status.busy": "2021-11-13T13:56:40.733185Z",
     "iopub.status.idle": "2021-11-13T13:57:24.118512Z",
     "shell.execute_reply": "2021-11-13T13:57:24.117970Z",
     "shell.execute_reply.started": "2021-11-13T12:43:47.169090Z"
    },
    "papermill": {
     "duration": 43.418603,
     "end_time": "2021-11-13T13:57:24.118658",
     "exception": false,
     "start_time": "2021-11-13T13:56:40.700055",
     "status": "completed"
    },
    "tags": []
   },
   "outputs": [],
   "source": [
    "# test = pd.read_csv('../input/chaii-hindi-and-tamil-question-answering/test.csv')\n",
    "test = pd.read_csv('../input/chaii-hindi-and-tamil-question-answering/train.csv')#[:1]\n",
    "# test = pd.concat([test,result[:1]])\n",
    "# test = pd.concat([test,result])\n",
    "\n",
    "test['context'] = test['context'].apply(lambda x: ' '.join(x.split()))\n",
    "test['question'] = test['question'].apply(lambda x: ' '.join(x.split()))\n",
    "\n",
    "#base_model_path = '../input/chaii-qa-5-fold-xlmroberta-torch-fit'\n",
    "\n",
    "tokenizer = AutoTokenizer.from_pretrained(Config().tokenizer_name)\n",
    "\n",
    "test_features = []\n",
    "for i, row in test.iterrows():\n",
    "    test_features += prepare_test_features(Config(), row, tokenizer)\n",
    "\n",
    "args = Config()\n",
    "test_dataset = DatasetRetriever(test_features, mode='test')\n",
    "test_dataloader = DataLoader(\n",
    "    test_dataset,\n",
    "    batch_size=args.eval_batch_size, \n",
    "    sampler=SequentialSampler(test_dataset),\n",
    "    num_workers=optimal_num_of_loader_workers(),\n",
    "    pin_memory=True, \n",
    "    drop_last=False\n",
    ")"
   ]
  },
  {
   "cell_type": "code",
   "execution_count": 12,
   "id": "26928ca6",
   "metadata": {
    "editable": false,
    "execution": {
     "iopub.execute_input": "2021-11-13T13:57:24.176438Z",
     "iopub.status.busy": "2021-11-13T13:57:24.175809Z",
     "iopub.status.idle": "2021-11-13T13:57:24.178853Z",
     "shell.execute_reply": "2021-11-13T13:57:24.179249Z",
     "shell.execute_reply.started": "2021-11-13T12:43:52.383097Z"
    },
    "papermill": {
     "duration": 0.035005,
     "end_time": "2021-11-13T13:57:24.179380",
     "exception": false,
     "start_time": "2021-11-13T13:57:24.144375",
     "status": "completed"
    },
    "tags": []
   },
   "outputs": [
    {
     "data": {
      "text/plain": [
       "1114"
      ]
     },
     "execution_count": 12,
     "metadata": {},
     "output_type": "execute_result"
    }
   ],
   "source": [
    "len(test)"
   ]
  },
  {
   "cell_type": "code",
   "execution_count": 13,
   "id": "28c6bc36",
   "metadata": {
    "editable": false,
    "execution": {
     "iopub.execute_input": "2021-11-13T13:57:24.234050Z",
     "iopub.status.busy": "2021-11-13T13:57:24.233328Z",
     "iopub.status.idle": "2021-11-13T13:57:24.235571Z",
     "shell.execute_reply": "2021-11-13T13:57:24.235984Z",
     "shell.execute_reply.started": "2021-11-13T12:43:52.828700Z"
    },
    "papermill": {
     "duration": 0.03147,
     "end_time": "2021-11-13T13:57:24.236116",
     "exception": false,
     "start_time": "2021-11-13T13:57:24.204646",
     "status": "completed"
    },
    "tags": []
   },
   "outputs": [],
   "source": [
    "base_model = '../input/5foldsroberta/output/'"
   ]
  },
  {
   "cell_type": "code",
   "execution_count": 14,
   "id": "73a0f595",
   "metadata": {
    "editable": false,
    "execution": {
     "iopub.execute_input": "2021-11-13T13:57:24.292055Z",
     "iopub.status.busy": "2021-11-13T13:57:24.291348Z",
     "iopub.status.idle": "2021-11-13T13:57:24.293438Z",
     "shell.execute_reply": "2021-11-13T13:57:24.293828Z",
     "shell.execute_reply.started": "2021-11-13T12:43:54.506317Z"
    },
    "papermill": {
     "duration": 0.033359,
     "end_time": "2021-11-13T13:57:24.293976",
     "exception": false,
     "start_time": "2021-11-13T13:57:24.260617",
     "status": "completed"
    },
    "tags": []
   },
   "outputs": [],
   "source": [
    "def get_predictions(checkpoint_path):\n",
    "    config, tokenizer, model = make_model(Config())\n",
    "    model.cuda();\n",
    "    model.load_state_dict(\n",
    "        torch.load(checkpoint_path)\n",
    "    );\n",
    "    \n",
    "    start_logits = []\n",
    "    end_logits = []\n",
    "    for batch in test_dataloader:\n",
    "        with torch.no_grad():\n",
    "            outputs_start, outputs_end = model(batch['input_ids'].cuda(), batch['attention_mask'].cuda())\n",
    "            start_logits.append(outputs_start.cpu().numpy().tolist())\n",
    "            end_logits.append(outputs_end.cpu().numpy().tolist())\n",
    "            del outputs_start, outputs_end\n",
    "    del model, tokenizer, config\n",
    "    gc.collect()\n",
    "    return np.vstack(start_logits), np.vstack(end_logits)"
   ]
  },
  {
   "cell_type": "code",
   "execution_count": 15,
   "id": "2dece687",
   "metadata": {
    "editable": false,
    "execution": {
     "iopub.execute_input": "2021-11-13T13:57:24.348833Z",
     "iopub.status.busy": "2021-11-13T13:57:24.346650Z",
     "iopub.status.idle": "2021-11-13T14:49:05.427183Z",
     "shell.execute_reply": "2021-11-13T14:49:05.427690Z",
     "shell.execute_reply.started": "2021-11-13T12:43:55.015160Z"
    },
    "papermill": {
     "duration": 3101.109394,
     "end_time": "2021-11-13T14:49:05.427921",
     "exception": false,
     "start_time": "2021-11-13T13:57:24.318527",
     "status": "completed"
    },
    "tags": []
   },
   "outputs": [
    {
     "name": "stdout",
     "output_type": "stream",
     "text": [
      "pred1 complete\n",
      "pred2 complete\n",
      "pred3 complete\n",
      "pred4 complete\n",
      "pred5 complete\n"
     ]
    }
   ],
   "source": [
    "start_logits1, end_logits1 = get_predictions('../input/5foldsroberta/output/checkpoint-fold-0/pytorch_model.bin')\n",
    "print('pred1 complete')\n",
    "start_logits2, end_logits2 = get_predictions('../input/5foldsroberta/output/checkpoint-fold-1/pytorch_model.bin')\n",
    "print('pred2 complete')\n",
    "start_logits3, end_logits3 = get_predictions('../input/5foldsroberta/output/checkpoint-fold-2/pytorch_model.bin')\n",
    "print('pred3 complete')\n",
    "start_logits4, end_logits4 = get_predictions('../input/5foldsroberta/output/checkpoint-fold-3/pytorch_model.bin')\n",
    "print('pred4 complete')\n",
    "start_logits5, end_logits5 = get_predictions('../input/5foldsroberta/output/checkpoint-fold-4/pytorch_model.bin')\n",
    "print('pred5 complete')\n",
    "\n",
    "\n",
    "\n",
    "\n",
    "start_logits = (start_logits1 + start_logits2 + start_logits3 +start_logits4+ start_logits5 )/5\n",
    "end_logits = (end_logits1 + end_logits2 + end_logits3 +end_logits4 + end_logits5)/5"
   ]
  },
  {
   "cell_type": "code",
   "execution_count": 16,
   "id": "1a4a3d9a",
   "metadata": {
    "editable": false,
    "execution": {
     "iopub.execute_input": "2021-11-13T14:49:05.485423Z",
     "iopub.status.busy": "2021-11-13T14:49:05.484767Z",
     "iopub.status.idle": "2021-11-13T14:49:05.544479Z",
     "shell.execute_reply": "2021-11-13T14:49:05.544012Z",
     "shell.execute_reply.started": "2021-11-13T12:47:48.290549Z"
    },
    "papermill": {
     "duration": 0.090469,
     "end_time": "2021-11-13T14:49:05.544598",
     "exception": false,
     "start_time": "2021-11-13T14:49:05.454129",
     "status": "completed"
    },
    "tags": []
   },
   "outputs": [],
   "source": [
    "# normalize\n",
    "normalizer = torch.nn.Softmax(dim=1)\n",
    "\n",
    "start_logits = normalizer(torch.from_numpy(start_logits))\n",
    "end_logits = normalizer(torch.from_numpy(end_logits))\n",
    "\n",
    "start_logits = start_logits.numpy()\n",
    "end_logits = end_logits.numpy()"
   ]
  },
  {
   "cell_type": "code",
   "execution_count": 17,
   "id": "17b5e2e9",
   "metadata": {
    "editable": false,
    "execution": {
     "iopub.execute_input": "2021-11-13T14:49:05.614796Z",
     "iopub.status.busy": "2021-11-13T14:49:05.613927Z",
     "iopub.status.idle": "2021-11-13T14:49:05.616005Z",
     "shell.execute_reply": "2021-11-13T14:49:05.616678Z",
     "shell.execute_reply.started": "2021-11-13T12:47:48.309134Z"
    },
    "papermill": {
     "duration": 0.045994,
     "end_time": "2021-11-13T14:49:05.616846",
     "exception": false,
     "start_time": "2021-11-13T14:49:05.570852",
     "status": "completed"
    },
    "tags": []
   },
   "outputs": [],
   "source": [
    "import collections\n",
    "\n",
    "def postprocess_qa_predictions(examples, features, raw_predictions, n_best_size = 20, max_answer_length = 30, n = 1, extension=20):\n",
    "    all_start_logits, all_end_logits = raw_predictions\n",
    "    \n",
    "    example_id_to_index = {k: i for i, k in enumerate(examples[\"id\"])}\n",
    "    features_per_example = collections.defaultdict(list)\n",
    "    for i, feature in enumerate(features):\n",
    "        features_per_example[example_id_to_index[feature[\"example_id\"]]].append(i)\n",
    "\n",
    "    predictions = collections.OrderedDict()\n",
    "\n",
    "    print(f\"Post-processing {len(examples)} example predictions split into {len(features)} features.\")\n",
    "\n",
    "    for example_index, example in examples.iterrows():\n",
    "        feature_indices = features_per_example[example_index]\n",
    "\n",
    "        min_null_score = None\n",
    "        valid_answers = []\n",
    "        \n",
    "        context = example[\"context\"]\n",
    "        for feature_index in feature_indices:\n",
    "            start_logits = all_start_logits[feature_index]\n",
    "            end_logits = all_end_logits[feature_index]\n",
    "\n",
    "            sequence_ids = features[feature_index][\"sequence_ids\"]\n",
    "            context_index = 1\n",
    "\n",
    "            features[feature_index][\"offset_mapping\"] = [\n",
    "                (o if sequence_ids[k] == context_index else None)\n",
    "                for k, o in enumerate(features[feature_index][\"offset_mapping\"])\n",
    "            ]\n",
    "            offset_mapping = features[feature_index][\"offset_mapping\"]\n",
    "            cls_index = features[feature_index][\"input_ids\"].index(tokenizer.cls_token_id)\n",
    "            feature_null_score = start_logits[cls_index] + end_logits[cls_index]\n",
    "            if min_null_score is None or min_null_score < feature_null_score:\n",
    "                min_null_score = feature_null_score\n",
    "\n",
    "            start_indexes = np.argsort(start_logits)[-1 : -n_best_size - 1 : -1].tolist()\n",
    "            end_indexes = np.argsort(end_logits)[-1 : -n_best_size - 1 : -1].tolist()\n",
    "            for start_index in start_indexes:\n",
    "                for end_index in end_indexes:\n",
    "                    if (\n",
    "                        start_index >= len(offset_mapping)\n",
    "                        or end_index >= len(offset_mapping)\n",
    "                        or offset_mapping[start_index] is None\n",
    "                        or offset_mapping[end_index] is None\n",
    "                    ):\n",
    "                        continue\n",
    "                    # Don't consider answers with a length that is either < 0 or > max_answer_length.\n",
    "                    if end_index < start_index or end_index - start_index + 1 > max_answer_length:\n",
    "                        continue\n",
    "\n",
    "                    start_char = offset_mapping[start_index][0]\n",
    "                    end_char = offset_mapping[end_index][1]\n",
    "                    \n",
    "                    re_start_char = max(0,start_char-extension)\n",
    "                    re_end_char = min(len(context),end_char+extension)\n",
    "#                     try:\n",
    "#                         re_start_char = offset_mapping[start_index-extension][0]\n",
    "#                     except:\n",
    "#                         re_start_char=0\n",
    "#                     try:\n",
    "#                         re_end_char = offset_mapping[end_index+extension][1]\n",
    "#                     except:\n",
    "#                         re_end_char=len(context)\n",
    "#                     print(re_start_char)\n",
    "                    valid_answers.append(\n",
    "                        {\n",
    "                            \"score\": (start_logits[start_index] + end_logits[end_index])/2,\n",
    "                            \"text\": context[start_char: end_char],\n",
    "#                             \"example\": example\n",
    "#                             \"feature_index\":feature_index,\n",
    "#                             \"features\":features[feature_index],\n",
    "#                             \"offset_mapping\":offset_mapping,\n",
    "#                             \"context\":context,\n",
    "#                             \"start_index\":start_index,\n",
    "#                             \"end_index\":end_index,\n",
    "#                             \"start_char\":start_char,\n",
    "#                             \"end_char\":end_char,\n",
    "#                             \"re_start_char\":re_start_char,\n",
    "#                             \"re_end_char\":re_end_char,\n",
    "                            \"required_text\": context[re_start_char: re_end_char]\n",
    "                        }\n",
    "                    )\n",
    "#         print(valid_answers)\n",
    "        if len(valid_answers) > 0:\n",
    "            answers = sorted(valid_answers, key=lambda x: x[\"score\"], reverse=True)\n",
    "#             print(answers)\n",
    "            best_answer = []\n",
    "            for ans in  answers[:n]:\n",
    "                best_answer.append(ans)\n",
    "#             best_answer = answers[:5]\n",
    "        else:\n",
    "            best_answer = [\"\"]\n",
    "        \n",
    "        predictions[example[\"id\"]] = best_answer#[\"text\"]\n",
    "        \n",
    "        \n",
    "    return predictions"
   ]
  },
  {
   "cell_type": "code",
   "execution_count": 18,
   "id": "d33963a1",
   "metadata": {
    "editable": false,
    "execution": {
     "iopub.execute_input": "2021-11-13T14:49:05.687899Z",
     "iopub.status.busy": "2021-11-13T14:49:05.682816Z",
     "iopub.status.idle": "2021-11-13T14:49:13.708662Z",
     "shell.execute_reply": "2021-11-13T14:49:13.707881Z",
     "shell.execute_reply.started": "2021-11-13T12:47:48.332887Z"
    },
    "papermill": {
     "duration": 8.065959,
     "end_time": "2021-11-13T14:49:13.708812",
     "exception": false,
     "start_time": "2021-11-13T14:49:05.642853",
     "status": "completed"
    },
    "tags": []
   },
   "outputs": [
    {
     "name": "stdout",
     "output_type": "stream",
     "text": [
      "Post-processing 1114 example predictions split into 14188 features.\n"
     ]
    }
   ],
   "source": [
    "fin_preds = postprocess_qa_predictions(test, test_features, (start_logits, end_logits),\n",
    "                                       n=5, extension=128)"
   ]
  },
  {
   "cell_type": "code",
   "execution_count": 19,
   "id": "e7740132",
   "metadata": {
    "editable": false,
    "execution": {
     "iopub.execute_input": "2021-11-13T14:49:13.769014Z",
     "iopub.status.busy": "2021-11-13T14:49:13.768048Z",
     "iopub.status.idle": "2021-11-13T14:49:13.769897Z",
     "shell.execute_reply": "2021-11-13T14:49:13.770346Z",
     "shell.execute_reply.started": "2021-11-13T12:47:48.369556Z"
    },
    "papermill": {
     "duration": 0.034329,
     "end_time": "2021-11-13T14:49:13.770482",
     "exception": false,
     "start_time": "2021-11-13T14:49:13.736153",
     "status": "completed"
    },
    "tags": []
   },
   "outputs": [],
   "source": [
    "# fin_preds"
   ]
  },
  {
   "cell_type": "code",
   "execution_count": 20,
   "id": "d88af195",
   "metadata": {
    "editable": false,
    "execution": {
     "iopub.execute_input": "2021-11-13T14:49:13.829711Z",
     "iopub.status.busy": "2021-11-13T14:49:13.829204Z",
     "iopub.status.idle": "2021-11-13T14:49:13.833030Z",
     "shell.execute_reply": "2021-11-13T14:49:13.832489Z",
     "shell.execute_reply.started": "2021-11-13T12:47:48.376150Z"
    },
    "papermill": {
     "duration": 0.035116,
     "end_time": "2021-11-13T14:49:13.833147",
     "exception": false,
     "start_time": "2021-11-13T14:49:13.798031",
     "status": "completed"
    },
    "tags": []
   },
   "outputs": [],
   "source": [
    "z = list(fin_preds.values())"
   ]
  },
  {
   "cell_type": "code",
   "execution_count": 21,
   "id": "54cd1aa3",
   "metadata": {
    "editable": false,
    "execution": {
     "iopub.execute_input": "2021-11-13T14:49:13.892727Z",
     "iopub.status.busy": "2021-11-13T14:49:13.892019Z",
     "iopub.status.idle": "2021-11-13T14:49:13.894909Z",
     "shell.execute_reply": "2021-11-13T14:49:13.895313Z",
     "shell.execute_reply.started": "2021-11-13T12:47:48.384300Z"
    },
    "papermill": {
     "duration": 0.035465,
     "end_time": "2021-11-13T14:49:13.895439",
     "exception": false,
     "start_time": "2021-11-13T14:49:13.859974",
     "status": "completed"
    },
    "tags": []
   },
   "outputs": [
    {
     "data": {
      "text/plain": [
       "[[{'score': 0.4730992010815208,\n",
       "   'text': ' 206',\n",
       "   'required_text': 'ஒரு சாதாரண வளர்ந்த மனிதனுடைய எலும்புக்கூடு பின்வரும் 206 (மார்பெலும்பு மூன்று பகுதிகளாகக் கருதப்பட்டால் 208) எண்ணிக்கையான எலும்புகளைக் கொண்டிருக்கும். இந்த எண்ணிக்கை உடற்கூட்டியல் வேறு'},\n",
       "  {'score': 0.3805177074233963,\n",
       "   'text': ' 206 (மார்பெலும்பு மூன்று பகுதிகளாகக் கருதப்பட்டால் 208',\n",
       "   'required_text': 'ஒரு சாதாரண வளர்ந்த மனிதனுடைய எலும்புக்கூடு பின்வரும் 206 (மார்பெலும்பு மூன்று பகுதிகளாகக் கருதப்பட்டால் 208) எண்ணிக்கையான எலும்புகளைக் கொண்டிருக்கும். இந்த எண்ணிக்கை உடற்கூட்டியல் வேறுபாடுகளைப் பொறுத்து மாறுபடக்கூடும். எடுத்துக்காட்டாக'},\n",
       "  {'score': 0.29871564877508694,\n",
       "   'text': ' 208',\n",
       "   'required_text': 'ஒரு சாதாரண வளர்ந்த மனிதனுடைய எலும்புக்கூடு பின்வரும் 206 (மார்பெலும்பு மூன்று பகுதிகளாகக் கருதப்பட்டால் 208) எண்ணிக்கையான எலும்புகளைக் கொண்டிருக்கும். இந்த எண்ணிக்கை உடற்கூட்டியல் வேறுபாடுகளைப் பொறுத்து மாறுபடக்கூடும். எடுத்துக்காட்டாக'},\n",
       "  {'score': 0.2743517333214154,\n",
       "   'text': ' 206 (மார்பெலும்பு மூன்று பகுதிகளாகக் கருதப்பட்டால் 208)',\n",
       "   'required_text': 'ஒரு சாதாரண வளர்ந்த மனிதனுடைய எலும்புக்கூடு பின்வரும் 206 (மார்பெலும்பு மூன்று பகுதிகளாகக் கருதப்பட்டால் 208) எண்ணிக்கையான எலும்புகளைக் கொண்டிருக்கும். இந்த எண்ணிக்கை உடற்கூட்டியல் வேறுபாடுகளைப் பொறுத்து மாறுபடக்கூடும். எடுத்துக்காட்டாக,'},\n",
       "  {'score': 0.24633059178339528,\n",
       "   'text': ' 206 (மார்பெலும்பு மூன்று பகுதிகளாகக் கருதப்பட்டால் 208) எண்ணிக்கையான',\n",
       "   'required_text': 'ஒரு சாதாரண வளர்ந்த மனிதனுடைய எலும்புக்கூடு பின்வரும் 206 (மார்பெலும்பு மூன்று பகுதிகளாகக் கருதப்பட்டால் 208) எண்ணிக்கையான எலும்புகளைக் கொண்டிருக்கும். இந்த எண்ணிக்கை உடற்கூட்டியல் வேறுபாடுகளைப் பொறுத்து மாறுபடக்கூடும். எடுத்துக்காட்டாக, மிகக் குறைந்'}]]"
      ]
     },
     "execution_count": 21,
     "metadata": {},
     "output_type": "execute_result"
    }
   ],
   "source": [
    "z[:1]"
   ]
  },
  {
   "cell_type": "code",
   "execution_count": 22,
   "id": "399670ab",
   "metadata": {
    "execution": {
     "iopub.execute_input": "2021-11-13T14:49:13.955037Z",
     "iopub.status.busy": "2021-11-13T14:49:13.954295Z",
     "iopub.status.idle": "2021-11-13T14:49:13.956708Z",
     "shell.execute_reply": "2021-11-13T14:49:13.956290Z"
    },
    "papermill": {
     "duration": 0.03346,
     "end_time": "2021-11-13T14:49:13.956837",
     "exception": false,
     "start_time": "2021-11-13T14:49:13.923377",
     "status": "completed"
    },
    "tags": []
   },
   "outputs": [],
   "source": [
    "questions = test['question'].values\n",
    "answers = test['answer_text'].values\n",
    "contexts = test['context'].values"
   ]
  },
  {
   "cell_type": "markdown",
   "id": "9fab4374",
   "metadata": {
    "papermill": {
     "duration": 0.02695,
     "end_time": "2021-11-13T14:49:14.010470",
     "exception": false,
     "start_time": "2021-11-13T14:49:13.983520",
     "status": "completed"
    },
    "tags": []
   },
   "source": [
    "# Postprocess added in this version"
   ]
  },
  {
   "cell_type": "code",
   "execution_count": 23,
   "id": "58b5eaec",
   "metadata": {
    "execution": {
     "iopub.execute_input": "2021-11-13T14:49:14.073167Z",
     "iopub.status.busy": "2021-11-13T14:49:14.072334Z",
     "iopub.status.idle": "2021-11-13T14:49:14.074774Z",
     "shell.execute_reply": "2021-11-13T14:49:14.074245Z",
     "shell.execute_reply.started": "2021-11-13T12:50:16.747100Z"
    },
    "papermill": {
     "duration": 0.037691,
     "end_time": "2021-11-13T14:49:14.074884",
     "exception": false,
     "start_time": "2021-11-13T14:49:14.037193",
     "status": "completed"
    },
    "tags": []
   },
   "outputs": [],
   "source": [
    "bad_starts = [\".\", \",\", \"(\", \")\", \"-\", \"–\",  \",\", \";\"]\n",
    "bad_endings = [\"...\", \"-\", \"(\", \")\", \"–\", \",\", \";\"]\n",
    "\n",
    "tamil_ad = \"கி.பி\"\n",
    "tamil_bc = \"கி.மு\"\n",
    "tamil_km = \"கி.மீ\"\n",
    "hindi_ad = \"ई\"\n",
    "hindi_bc = \"ई.पू\"\n",
    "\n",
    "def postprocess(pred,context):\n",
    "    if pred == \"\":\n",
    "        return pred\n",
    "        \n",
    "    while any([pred.startswith(y) for y in bad_starts]):\n",
    "        pred = pred[1:]\n",
    "    while any([pred.endswith(y) for y in bad_endings]):\n",
    "        if pred.endswith(\"...\"):\n",
    "            pred = pred[:-3]\n",
    "        else:\n",
    "            pred = pred[:-1]\n",
    "    \n",
    "    if any([pred.endswith(tamil_ad), pred.endswith(tamil_bc), pred.endswith(tamil_km), pred.endswith(hindi_ad), pred.endswith(hindi_bc)]) and pred+\".\" in context:\n",
    "        pred = pred+\".\"\n",
    "    \n",
    "    return pred"
   ]
  },
  {
   "cell_type": "code",
   "execution_count": 24,
   "id": "52668659",
   "metadata": {
    "editable": false,
    "execution": {
     "iopub.execute_input": "2021-11-13T14:49:14.133889Z",
     "iopub.status.busy": "2021-11-13T14:49:14.133106Z",
     "iopub.status.idle": "2021-11-13T14:49:14.135084Z",
     "shell.execute_reply": "2021-11-13T14:49:14.135458Z",
     "shell.execute_reply.started": "2021-11-13T12:50:23.050123Z"
    },
    "papermill": {
     "duration": 0.034069,
     "end_time": "2021-11-13T14:49:14.135585",
     "exception": false,
     "start_time": "2021-11-13T14:49:14.101516",
     "status": "completed"
    },
    "tags": []
   },
   "outputs": [],
   "source": [
    "def cal_jac(str1, str2): \n",
    "    a = set(str1.lower().split()) \n",
    "    b = set(str2.lower().split())\n",
    "    c = a.intersection(b)\n",
    "    mx_score = float(len(c)) / (len(a) + len(b) - len(c))\n",
    "    return mx_score"
   ]
  },
  {
   "cell_type": "code",
   "execution_count": 25,
   "id": "cb9aa329",
   "metadata": {
    "execution": {
     "iopub.execute_input": "2021-11-13T14:49:14.195957Z",
     "iopub.status.busy": "2021-11-13T14:49:14.195319Z",
     "iopub.status.idle": "2021-11-13T14:49:14.278994Z",
     "shell.execute_reply": "2021-11-13T14:49:14.278515Z",
     "shell.execute_reply.started": "2021-11-13T12:53:16.512837Z"
    },
    "papermill": {
     "duration": 0.116925,
     "end_time": "2021-11-13T14:49:14.279120",
     "exception": false,
     "start_time": "2021-11-13T14:49:14.162195",
     "status": "completed"
    },
    "tags": []
   },
   "outputs": [
    {
     "name": "stderr",
     "output_type": "stream",
     "text": [
      "100%|██████████| 1114/1114 [00:00<00:00, 14921.53it/s]\n"
     ]
    }
   ],
   "source": [
    "final_ans = []\n",
    "final_ques = []\n",
    "final_pre = []\n",
    "final_req_text = []\n",
    "jac_score =[]\n",
    "for i, val in enumerate(tqdm(z)):\n",
    "#     print(i)\n",
    "    for j in val:\n",
    "#         print(j)\n",
    "        pred_text = postprocess(j['text'],contexts[i])\n",
    "        postprocess_answer = postprocess(answers[i],contexts[i])\n",
    "        \n",
    "        final_ans.append(postprocess_answer)\n",
    "        final_ques.append(questions[i])        \n",
    "        final_pre.append(pred_text)\n",
    "        final_req_text.append(j['required_text'])\n",
    "        jac_score.append(cal_jac(postprocess_answer,pred_text))"
   ]
  },
  {
   "cell_type": "code",
   "execution_count": 26,
   "id": "3692de9f",
   "metadata": {
    "editable": false,
    "execution": {
     "iopub.execute_input": "2021-11-13T14:49:14.341786Z",
     "iopub.status.busy": "2021-11-13T14:49:14.340885Z",
     "iopub.status.idle": "2021-11-13T14:49:14.342763Z",
     "shell.execute_reply": "2021-11-13T14:49:14.343221Z",
     "shell.execute_reply.started": "2021-11-13T12:53:18.961085Z"
    },
    "papermill": {
     "duration": 0.035442,
     "end_time": "2021-11-13T14:49:14.343349",
     "exception": false,
     "start_time": "2021-11-13T14:49:14.307907",
     "status": "completed"
    },
    "tags": []
   },
   "outputs": [],
   "source": [
    "final_df = pd.DataFrame()"
   ]
  },
  {
   "cell_type": "code",
   "execution_count": 27,
   "id": "94bb1d3d",
   "metadata": {
    "editable": false,
    "execution": {
     "iopub.execute_input": "2021-11-13T14:49:14.407586Z",
     "iopub.status.busy": "2021-11-13T14:49:14.406971Z",
     "iopub.status.idle": "2021-11-13T14:49:14.437387Z",
     "shell.execute_reply": "2021-11-13T14:49:14.436946Z",
     "shell.execute_reply.started": "2021-11-13T12:53:19.271559Z"
    },
    "papermill": {
     "duration": 0.066165,
     "end_time": "2021-11-13T14:49:14.437499",
     "exception": false,
     "start_time": "2021-11-13T14:49:14.371334",
     "status": "completed"
    },
    "tags": []
   },
   "outputs": [
    {
     "data": {
      "text/html": [
       "<div>\n",
       "<style scoped>\n",
       "    .dataframe tbody tr th:only-of-type {\n",
       "        vertical-align: middle;\n",
       "    }\n",
       "\n",
       "    .dataframe tbody tr th {\n",
       "        vertical-align: top;\n",
       "    }\n",
       "\n",
       "    .dataframe thead th {\n",
       "        text-align: right;\n",
       "    }\n",
       "</style>\n",
       "<table border=\"1\" class=\"dataframe\">\n",
       "  <thead>\n",
       "    <tr style=\"text-align: right;\">\n",
       "      <th></th>\n",
       "      <th>id</th>\n",
       "      <th>context</th>\n",
       "      <th>question</th>\n",
       "      <th>answer_text</th>\n",
       "      <th>answer_start</th>\n",
       "      <th>language</th>\n",
       "    </tr>\n",
       "  </thead>\n",
       "  <tbody>\n",
       "    <tr>\n",
       "      <th>0</th>\n",
       "      <td>903deec17</td>\n",
       "      <td>ஒரு சாதாரண வளர்ந்த மனிதனுடைய எலும்புக்கூடு பின...</td>\n",
       "      <td>மனித உடலில் எத்தனை எலும்புகள் உள்ளன?</td>\n",
       "      <td>206</td>\n",
       "      <td>53</td>\n",
       "      <td>tamil</td>\n",
       "    </tr>\n",
       "    <tr>\n",
       "      <th>1</th>\n",
       "      <td>d9841668c</td>\n",
       "      <td>காளிதாசன் (தேவநாகரி: कालिदास) சமஸ்கிருத இலக்கி...</td>\n",
       "      <td>காளிதாசன் எங்கு பிறந்தார்?</td>\n",
       "      <td>காசுமீரில்</td>\n",
       "      <td>2358</td>\n",
       "      <td>tamil</td>\n",
       "    </tr>\n",
       "    <tr>\n",
       "      <th>2</th>\n",
       "      <td>29d154b56</td>\n",
       "      <td>சர் அலெக்ஸாண்டர் ஃபிளெமிங் (Sir Alexander Flem...</td>\n",
       "      <td>பென்சிலின் கண்டுபிடித்தவர் யார்?</td>\n",
       "      <td>சர் அலெக்ஸாண்டர் ஃபிளெமிங்</td>\n",
       "      <td>0</td>\n",
       "      <td>tamil</td>\n",
       "    </tr>\n",
       "    <tr>\n",
       "      <th>3</th>\n",
       "      <td>41660850a</td>\n",
       "      <td>குழந்தையின் அழுகையை நிறுத்தவும், தூங்க வைக்கவு...</td>\n",
       "      <td>தமிழ்நாட்டில் குழந்தைகளை தூங்க வைக்க பாடும் பா...</td>\n",
       "      <td>தாலாட்டு</td>\n",
       "      <td>68</td>\n",
       "      <td>tamil</td>\n",
       "    </tr>\n",
       "    <tr>\n",
       "      <th>4</th>\n",
       "      <td>b29c82c22</td>\n",
       "      <td>சூரியக் குடும்பம் சூரியக் குடும்பம் (Solar Sys...</td>\n",
       "      <td>பூமியின் அருகில் உள்ள விண்மீன் எது?</td>\n",
       "      <td>சூரியனும்</td>\n",
       "      <td>585</td>\n",
       "      <td>tamil</td>\n",
       "    </tr>\n",
       "  </tbody>\n",
       "</table>\n",
       "</div>"
      ],
      "text/plain": [
       "          id                                            context  \\\n",
       "0  903deec17  ஒரு சாதாரண வளர்ந்த மனிதனுடைய எலும்புக்கூடு பின...   \n",
       "1  d9841668c  காளிதாசன் (தேவநாகரி: कालिदास) சமஸ்கிருத இலக்கி...   \n",
       "2  29d154b56  சர் அலெக்ஸாண்டர் ஃபிளெமிங் (Sir Alexander Flem...   \n",
       "3  41660850a  குழந்தையின் அழுகையை நிறுத்தவும், தூங்க வைக்கவு...   \n",
       "4  b29c82c22  சூரியக் குடும்பம் சூரியக் குடும்பம் (Solar Sys...   \n",
       "\n",
       "                                            question  \\\n",
       "0               மனித உடலில் எத்தனை எலும்புகள் உள்ளன?   \n",
       "1                         காளிதாசன் எங்கு பிறந்தார்?   \n",
       "2                   பென்சிலின் கண்டுபிடித்தவர் யார்?   \n",
       "3  தமிழ்நாட்டில் குழந்தைகளை தூங்க வைக்க பாடும் பா...   \n",
       "4                பூமியின் அருகில் உள்ள விண்மீன் எது?   \n",
       "\n",
       "                  answer_text  answer_start language  \n",
       "0                         206            53    tamil  \n",
       "1                  காசுமீரில்          2358    tamil  \n",
       "2  சர் அலெக்ஸாண்டர் ஃபிளெமிங்             0    tamil  \n",
       "3                    தாலாட்டு            68    tamil  \n",
       "4                   சூரியனும்           585    tamil  "
      ]
     },
     "execution_count": 27,
     "metadata": {},
     "output_type": "execute_result"
    }
   ],
   "source": [
    "test.head()"
   ]
  },
  {
   "cell_type": "code",
   "execution_count": 28,
   "id": "e4db33bf",
   "metadata": {
    "editable": false,
    "execution": {
     "iopub.execute_input": "2021-11-13T14:49:14.526647Z",
     "iopub.status.busy": "2021-11-13T14:49:14.525609Z",
     "iopub.status.idle": "2021-11-13T14:49:14.530107Z",
     "shell.execute_reply": "2021-11-13T14:49:14.529601Z",
     "shell.execute_reply.started": "2021-11-13T12:53:24.793507Z"
    },
    "papermill": {
     "duration": 0.064221,
     "end_time": "2021-11-13T14:49:14.530234",
     "exception": false,
     "start_time": "2021-11-13T14:49:14.466013",
     "status": "completed"
    },
    "tags": []
   },
   "outputs": [
    {
     "data": {
      "text/html": [
       "<div>\n",
       "<style scoped>\n",
       "    .dataframe tbody tr th:only-of-type {\n",
       "        vertical-align: middle;\n",
       "    }\n",
       "\n",
       "    .dataframe tbody tr th {\n",
       "        vertical-align: top;\n",
       "    }\n",
       "\n",
       "    .dataframe thead th {\n",
       "        text-align: right;\n",
       "    }\n",
       "</style>\n",
       "<table border=\"1\" class=\"dataframe\">\n",
       "  <thead>\n",
       "    <tr style=\"text-align: right;\">\n",
       "      <th></th>\n",
       "      <th>answer_text</th>\n",
       "      <th>question</th>\n",
       "      <th>pred_text</th>\n",
       "      <th>require_text</th>\n",
       "      <th>jac_score</th>\n",
       "    </tr>\n",
       "  </thead>\n",
       "  <tbody>\n",
       "    <tr>\n",
       "      <th>0</th>\n",
       "      <td>206</td>\n",
       "      <td>மனித உடலில் எத்தனை எலும்புகள் உள்ளன?</td>\n",
       "      <td>206</td>\n",
       "      <td>ஒரு சாதாரண வளர்ந்த மனிதனுடைய எலும்புக்கூடு பின...</td>\n",
       "      <td>1.000000</td>\n",
       "    </tr>\n",
       "    <tr>\n",
       "      <th>1</th>\n",
       "      <td>206</td>\n",
       "      <td>மனித உடலில் எத்தனை எலும்புகள் உள்ளன?</td>\n",
       "      <td>206 (மார்பெலும்பு மூன்று பகுதிகளாகக் கருதப்பட...</td>\n",
       "      <td>ஒரு சாதாரண வளர்ந்த மனிதனுடைய எலும்புக்கூடு பின...</td>\n",
       "      <td>0.166667</td>\n",
       "    </tr>\n",
       "    <tr>\n",
       "      <th>2</th>\n",
       "      <td>206</td>\n",
       "      <td>மனித உடலில் எத்தனை எலும்புகள் உள்ளன?</td>\n",
       "      <td>208</td>\n",
       "      <td>ஒரு சாதாரண வளர்ந்த மனிதனுடைய எலும்புக்கூடு பின...</td>\n",
       "      <td>0.000000</td>\n",
       "    </tr>\n",
       "    <tr>\n",
       "      <th>3</th>\n",
       "      <td>206</td>\n",
       "      <td>மனித உடலில் எத்தனை எலும்புகள் உள்ளன?</td>\n",
       "      <td>206 (மார்பெலும்பு மூன்று பகுதிகளாகக் கருதப்பட...</td>\n",
       "      <td>ஒரு சாதாரண வளர்ந்த மனிதனுடைய எலும்புக்கூடு பின...</td>\n",
       "      <td>0.166667</td>\n",
       "    </tr>\n",
       "    <tr>\n",
       "      <th>4</th>\n",
       "      <td>206</td>\n",
       "      <td>மனித உடலில் எத்தனை எலும்புகள் உள்ளன?</td>\n",
       "      <td>206 (மார்பெலும்பு மூன்று பகுதிகளாகக் கருதப்பட...</td>\n",
       "      <td>ஒரு சாதாரண வளர்ந்த மனிதனுடைய எலும்புக்கூடு பின...</td>\n",
       "      <td>0.142857</td>\n",
       "    </tr>\n",
       "  </tbody>\n",
       "</table>\n",
       "</div>"
      ],
      "text/plain": [
       "  answer_text                              question  \\\n",
       "0         206  மனித உடலில் எத்தனை எலும்புகள் உள்ளன?   \n",
       "1         206  மனித உடலில் எத்தனை எலும்புகள் உள்ளன?   \n",
       "2         206  மனித உடலில் எத்தனை எலும்புகள் உள்ளன?   \n",
       "3         206  மனித உடலில் எத்தனை எலும்புகள் உள்ளன?   \n",
       "4         206  மனித உடலில் எத்தனை எலும்புகள் உள்ளன?   \n",
       "\n",
       "                                           pred_text  \\\n",
       "0                                                206   \n",
       "1   206 (மார்பெலும்பு மூன்று பகுதிகளாகக் கருதப்பட...   \n",
       "2                                                208   \n",
       "3   206 (மார்பெலும்பு மூன்று பகுதிகளாகக் கருதப்பட...   \n",
       "4   206 (மார்பெலும்பு மூன்று பகுதிகளாகக் கருதப்பட...   \n",
       "\n",
       "                                        require_text  jac_score  \n",
       "0  ஒரு சாதாரண வளர்ந்த மனிதனுடைய எலும்புக்கூடு பின...   1.000000  \n",
       "1  ஒரு சாதாரண வளர்ந்த மனிதனுடைய எலும்புக்கூடு பின...   0.166667  \n",
       "2  ஒரு சாதாரண வளர்ந்த மனிதனுடைய எலும்புக்கூடு பின...   0.000000  \n",
       "3  ஒரு சாதாரண வளர்ந்த மனிதனுடைய எலும்புக்கூடு பின...   0.166667  \n",
       "4  ஒரு சாதாரண வளர்ந்த மனிதனுடைய எலும்புக்கூடு பின...   0.142857  "
      ]
     },
     "execution_count": 28,
     "metadata": {},
     "output_type": "execute_result"
    }
   ],
   "source": [
    "final_df['answer_text'] = final_ans\n",
    "final_df['question'] = final_ques\n",
    "final_df['pred_text'] = final_pre\n",
    "final_df['require_text'] = final_req_text\n",
    "final_df['jac_score'] = jac_score\n",
    "final_df.head()"
   ]
  },
  {
   "cell_type": "code",
   "execution_count": 29,
   "id": "81f7e431",
   "metadata": {
    "editable": false,
    "execution": {
     "iopub.execute_input": "2021-11-13T14:49:14.594178Z",
     "iopub.status.busy": "2021-11-13T14:49:14.593594Z",
     "iopub.status.idle": "2021-11-13T14:49:14.703966Z",
     "shell.execute_reply": "2021-11-13T14:49:14.703397Z",
     "shell.execute_reply.started": "2021-11-13T12:57:05.605545Z"
    },
    "papermill": {
     "duration": 0.144059,
     "end_time": "2021-11-13T14:49:14.704123",
     "exception": false,
     "start_time": "2021-11-13T14:49:14.560064",
     "status": "completed"
    },
    "tags": []
   },
   "outputs": [],
   "source": [
    "final_df.to_csv('training.csv',index=False)"
   ]
  },
  {
   "cell_type": "code",
   "execution_count": 30,
   "id": "18ef7eea",
   "metadata": {
    "editable": false,
    "execution": {
     "iopub.execute_input": "2021-11-13T14:49:14.768010Z",
     "iopub.status.busy": "2021-11-13T14:49:14.766282Z",
     "iopub.status.idle": "2021-11-13T14:49:14.768602Z",
     "shell.execute_reply": "2021-11-13T14:49:14.769033Z",
     "shell.execute_reply.started": "2021-11-13T05:05:14.082359Z"
    },
    "papermill": {
     "duration": 0.035921,
     "end_time": "2021-11-13T14:49:14.769176",
     "exception": false,
     "start_time": "2021-11-13T14:49:14.733255",
     "status": "completed"
    },
    "tags": []
   },
   "outputs": [],
   "source": [
    "# final_df"
   ]
  },
  {
   "cell_type": "code",
   "execution_count": 31,
   "id": "c18caec5",
   "metadata": {
    "editable": false,
    "execution": {
     "iopub.execute_input": "2021-11-13T14:49:14.832391Z",
     "iopub.status.busy": "2021-11-13T14:49:14.831563Z",
     "iopub.status.idle": "2021-11-13T14:49:14.834288Z",
     "shell.execute_reply": "2021-11-13T14:49:14.833849Z",
     "shell.execute_reply.started": "2021-11-13T05:05:14.088126Z"
    },
    "papermill": {
     "duration": 0.035651,
     "end_time": "2021-11-13T14:49:14.834412",
     "exception": false,
     "start_time": "2021-11-13T14:49:14.798761",
     "status": "completed"
    },
    "tags": []
   },
   "outputs": [],
   "source": [
    "# final_pre"
   ]
  },
  {
   "cell_type": "code",
   "execution_count": null,
   "id": "cdcc53a2",
   "metadata": {
    "editable": false,
    "papermill": {
     "duration": 0.029103,
     "end_time": "2021-11-13T14:49:14.893188",
     "exception": false,
     "start_time": "2021-11-13T14:49:14.864085",
     "status": "completed"
    },
    "tags": []
   },
   "outputs": [],
   "source": []
  },
  {
   "cell_type": "markdown",
   "id": "86097304",
   "metadata": {
    "papermill": {
     "duration": 0.029765,
     "end_time": "2021-11-13T14:49:14.952025",
     "exception": false,
     "start_time": "2021-11-13T14:49:14.922260",
     "status": "completed"
    },
    "tags": []
   },
   "source": []
  }
 ],
 "metadata": {
  "kernelspec": {
   "display_name": "Python 3",
   "language": "python",
   "name": "python3"
  },
  "language_info": {
   "codemirror_mode": {
    "name": "ipython",
    "version": 3
   },
   "file_extension": ".py",
   "mimetype": "text/x-python",
   "name": "python",
   "nbconvert_exporter": "python",
   "pygments_lexer": "ipython3",
   "version": "3.7.10"
  },
  "papermill": {
   "default_parameters": {},
   "duration": 3175.483062,
   "end_time": "2021-11-13T14:49:17.893541",
   "environment_variables": {},
   "exception": null,
   "input_path": "__notebook__.ipynb",
   "output_path": "__notebook__.ipynb",
   "parameters": {},
   "start_time": "2021-11-13T13:56:22.410479",
   "version": "2.3.3"
  }
 },
 "nbformat": 4,
 "nbformat_minor": 5
}
