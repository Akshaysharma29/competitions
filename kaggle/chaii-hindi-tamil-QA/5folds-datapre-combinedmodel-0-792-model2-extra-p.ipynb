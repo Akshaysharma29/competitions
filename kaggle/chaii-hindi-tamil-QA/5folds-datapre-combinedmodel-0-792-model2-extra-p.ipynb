{
 "cells": [
  {
   "cell_type": "markdown",
   "id": "658357a4",
   "metadata": {
    "editable": false,
    "execution": {
     "iopub.execute_input": "2021-09-30T21:49:49.137083Z",
     "iopub.status.busy": "2021-09-30T21:49:49.136675Z",
     "iopub.status.idle": "2021-09-30T21:49:49.243477Z",
     "shell.execute_reply": "2021-09-30T21:49:49.242351Z",
     "shell.execute_reply.started": "2021-09-30T21:49:49.136976Z"
    },
    "papermill": {
     "duration": 0.023832,
     "end_time": "2021-11-15T05:42:25.918489",
     "exception": false,
     "start_time": "2021-11-15T05:42:25.894657",
     "status": "completed"
    },
    "tags": []
   },
   "source": [
    "# Making the 0.792 model : \n",
    "\n",
    "### Making the model and Inferencing steps:\n",
    "\n",
    "<ul>  \n",
    "    <li>Using the datasets : chaii, mlqa, squad, tamil_xquad </li>\n",
    "    <li>Training for 2 epochs : <a href=\"https://www.kaggle.com/kishalmandal/chaii-fit-2-epochs-mlqa-xquad-chaii/\">chaii | FIT - 2 epochs | mlqa, xquad, chaii</a> </li>\n",
    "    <li>Training for 7 epochs with tamil_xquad: <a href=\"https://www.kaggle.com/kishalmandal/chaii-fit-7-epochs-extra-tamil-data/\">chaii | FIT - 7 epochs | Extra Tamil Data</a> </li>\n",
    "    <li>Inferencing from 5 folds | fold-0 and fold-1 (7-epochs) | fold-2, fold-3 and fold-4 (2-epochs)| based on cross validation scores and a little bit of experimentation 😜: <a href=\"https://www.kaggle.com/kishalmandal/5-epochs-infer-combined-model-0-792/\">5 epochs | INFER | combined model (0.792)</a></li>\n",
    "    \n",
    "    \n",
    "</ul>\n",
    "\n",
    "### References : \n",
    "\n",
    "<ul> \n",
    "    <li>For training: <a href=\"https://www.kaggle.com/rhtsingh/chaii-qa-5-fold-xlmroberta-torch-fit\">chaii QA - 5 Fold XLMRoberta Torch | FIT</a> by <a href=\"https://www.kaggle.com/rhtsingh\">torch</a></li>\n",
    "    <li>For Inference: <a href=\"https://www.kaggle.com/rhtsingh/chaii-qa-5-fold-xlmroberta-torch-infer\">chaii QA - 5 Fold XLMRoberta Torch | Infer</a> by <a href=\"https://www.kaggle.com/rhtsingh\">torch</a></li>\n",
    "    <li>For post processing outputs: <a href=\"https://www.kaggle.com/nbroad/chaii-qa-torch-5-fold-with-post-processing-765\">chaii QA-Torch 5 fold with post-processing (.765)</a> by <a href=\"https://www.kaggle.com/nbroad\">Nicholas Broad 🟢</a></li>\n",
    "</ul>\n",
    "\n",
    "\n",
    "### Important Notes:\n",
    "\n",
    "<ul>\n",
    "    <li>Some one experimented with the max_seq_length and doc_stride to bring my previous 0.785 to 0.792. Then I performed some more experiments and saw more than 400 decreases the score (~0.3-0.4) while decreasing below 400 upto around 384 does not change the score by much (~0.2)</li>\n",
    "    <li>Vigourous change or lr and decay rates reduces the performance.</li>\n",
    "    <li>I took weighted average based on the validation loss increased score by (~0.01)</li>\n",
    "</ul>"
   ]
  },
  {
   "cell_type": "code",
   "execution_count": 1,
   "id": "2e29f4b0",
   "metadata": {
    "editable": false,
    "execution": {
     "iopub.execute_input": "2021-11-15T05:42:25.969892Z",
     "iopub.status.busy": "2021-11-15T05:42:25.968385Z",
     "iopub.status.idle": "2021-11-15T05:42:36.323581Z",
     "shell.execute_reply": "2021-11-15T05:42:36.324014Z",
     "shell.execute_reply.started": "2021-11-15T05:40:40.950735Z"
    },
    "papermill": {
     "duration": 10.381866,
     "end_time": "2021-11-15T05:42:36.324258",
     "exception": false,
     "start_time": "2021-11-15T05:42:25.942392",
     "status": "completed"
    },
    "tags": []
   },
   "outputs": [
    {
     "name": "stderr",
     "output_type": "stream",
     "text": [
      "2021-11-15 05:42:31.898676: I tensorflow/stream_executor/platform/default/dso_loader.cc:49] Successfully opened dynamic library libcudart.so.11.0\n"
     ]
    },
    {
     "name": "stdout",
     "output_type": "stream",
     "text": [
      "Apex AMP Installed :: False\n"
     ]
    }
   ],
   "source": [
    "import os\n",
    "os.environ[\"TOKENIZERS_PARALLELISM\"] = \"false\"\n",
    "import gc\n",
    "gc.enable()\n",
    "import math\n",
    "import json\n",
    "import time\n",
    "import random\n",
    "import multiprocessing\n",
    "import warnings\n",
    "warnings.filterwarnings(\"ignore\", category=UserWarning)\n",
    "\n",
    "import numpy as np\n",
    "import pandas as pd\n",
    "from tqdm import tqdm, trange\n",
    "from sklearn import model_selection\n",
    "from string import punctuation\n",
    "\n",
    "import torch\n",
    "import torch.nn as nn\n",
    "import torch.nn.functional as F\n",
    "from torch.nn import Parameter\n",
    "import torch.optim as optim\n",
    "from torch.utils.data import (\n",
    "    Dataset, DataLoader,\n",
    "    SequentialSampler, RandomSampler\n",
    ")\n",
    "from torch.utils.data.distributed import DistributedSampler\n",
    "\n",
    "try:\n",
    "    from apex import amp\n",
    "    APEX_INSTALLED = True\n",
    "except ImportError:\n",
    "    APEX_INSTALLED = False\n",
    "\n",
    "import transformers\n",
    "from transformers import (\n",
    "    WEIGHTS_NAME,\n",
    "    AdamW,\n",
    "    AutoConfig,\n",
    "    AutoModel,\n",
    "    AutoTokenizer,\n",
    "    get_cosine_schedule_with_warmup,\n",
    "    get_linear_schedule_with_warmup,\n",
    "    logging,\n",
    "    MODEL_FOR_QUESTION_ANSWERING_MAPPING,\n",
    ")\n",
    "logging.set_verbosity_warning()\n",
    "logging.set_verbosity_error()\n",
    "\n",
    "def fix_all_seeds(seed):\n",
    "    np.random.seed(seed)\n",
    "    random.seed(seed)\n",
    "    os.environ['PYTHONHASHSEED'] = str(seed)\n",
    "    torch.manual_seed(seed)\n",
    "    torch.cuda.manual_seed(seed)\n",
    "    torch.cuda.manual_seed_all(seed)\n",
    "\n",
    "def optimal_num_of_loader_workers():\n",
    "    num_cpus = multiprocessing.cpu_count()\n",
    "    num_gpus = torch.cuda.device_count()\n",
    "    optimal_value = min(num_cpus, num_gpus*4) if num_gpus else num_cpus - 1\n",
    "    return optimal_value\n",
    "\n",
    "print(f\"Apex AMP Installed :: {APEX_INSTALLED}\")\n",
    "MODEL_CONFIG_CLASSES = list(MODEL_FOR_QUESTION_ANSWERING_MAPPING.keys())\n",
    "MODEL_TYPES = tuple(conf.model_type for conf in MODEL_CONFIG_CLASSES)"
   ]
  },
  {
   "cell_type": "code",
   "execution_count": 2,
   "id": "d263951c",
   "metadata": {
    "editable": false,
    "execution": {
     "iopub.execute_input": "2021-11-15T05:42:36.379281Z",
     "iopub.status.busy": "2021-11-15T05:42:36.378461Z",
     "iopub.status.idle": "2021-11-15T05:42:36.380939Z",
     "shell.execute_reply": "2021-11-15T05:42:36.380422Z",
     "shell.execute_reply.started": "2021-11-15T05:40:51.762956Z"
    },
    "papermill": {
     "duration": 0.031745,
     "end_time": "2021-11-15T05:42:36.381078",
     "exception": false,
     "start_time": "2021-11-15T05:42:36.349333",
     "status": "completed"
    },
    "tags": []
   },
   "outputs": [],
   "source": [
    "class Config:\n",
    "    # model\n",
    "    model_type = 'xlm_roberta'\n",
    "    model_name_or_path = \"../input/5foldsroberta/output/checkpoint-fold-0\"#\"../input/xlm-roberta-large-squad-v2\"\n",
    "    config_name = \"../input/5foldsroberta/output/checkpoint-fold-0\"#\"../input/xlm-roberta-large-squad-v2\"\n",
    "    fp16 = True if APEX_INSTALLED else False\n",
    "    fp16_opt_level = \"O1\"\n",
    "    gradient_accumulation_steps = 2\n",
    "\n",
    "    # tokenizer\n",
    "    tokenizer_name = \"../input/5foldsroberta/output/checkpoint-fold-0\"#\"../input/xlm-roberta-large-squad-v2\"\n",
    "    max_seq_length = 400\n",
    "    doc_stride = 135\n",
    "\n",
    "    # train\n",
    "    epochs = 1\n",
    "    train_batch_size = 4\n",
    "    eval_batch_size = 128\n",
    "\n",
    "    # optimzer\n",
    "    optimizer_type = 'AdamW'\n",
    "    learning_rate = 1e-5\n",
    "    weight_decay = 1e-2\n",
    "    epsilon = 1e-8\n",
    "    max_grad_norm = 1.0\n",
    "\n",
    "    # scheduler\n",
    "    decay_name = 'linear-warmup'\n",
    "    warmup_ratio = 0.1\n",
    "\n",
    "    # logging\n",
    "    logging_steps = 10\n",
    "\n",
    "    # evaluate\n",
    "    output_dir = 'output'\n",
    "    seed = 2021"
   ]
  },
  {
   "cell_type": "code",
   "execution_count": 3,
   "id": "39a6b5cd",
   "metadata": {
    "editable": false,
    "execution": {
     "iopub.execute_input": "2021-11-15T05:42:36.436750Z",
     "iopub.status.busy": "2021-11-15T05:42:36.435999Z",
     "iopub.status.idle": "2021-11-15T05:42:36.438555Z",
     "shell.execute_reply": "2021-11-15T05:42:36.438141Z",
     "shell.execute_reply.started": "2021-11-15T05:40:51.772689Z"
    },
    "papermill": {
     "duration": 0.034546,
     "end_time": "2021-11-15T05:42:36.438660",
     "exception": false,
     "start_time": "2021-11-15T05:42:36.404114",
     "status": "completed"
    },
    "tags": []
   },
   "outputs": [],
   "source": [
    "class DatasetRetriever(Dataset):\n",
    "    def __init__(self, features, mode='train'):\n",
    "        super(DatasetRetriever, self).__init__()\n",
    "        self.features = features\n",
    "        self.mode = mode\n",
    "        \n",
    "    def __len__(self):\n",
    "        return len(self.features)\n",
    "    \n",
    "    def __getitem__(self, item):   \n",
    "        feature = self.features[item]\n",
    "        if self.mode == 'train':\n",
    "            return {\n",
    "                'input_ids':torch.tensor(feature['input_ids'], dtype=torch.long),\n",
    "                'attention_mask':torch.tensor(feature['attention_mask'], dtype=torch.long),\n",
    "                'offset_mapping':torch.tensor(feature['offset_mapping'], dtype=torch.long),\n",
    "                'start_position':torch.tensor(feature['start_position'], dtype=torch.long),\n",
    "                'end_position':torch.tensor(feature['end_position'], dtype=torch.long)\n",
    "            }\n",
    "        else:\n",
    "            return {\n",
    "                'input_ids':torch.tensor(feature['input_ids'], dtype=torch.long),\n",
    "                'attention_mask':torch.tensor(feature['attention_mask'], dtype=torch.long),\n",
    "                'offset_mapping':feature['offset_mapping'],\n",
    "                'sequence_ids':feature['sequence_ids'],\n",
    "                'id':feature['example_id'],\n",
    "                'context': feature['context'],\n",
    "                'question': feature['question']\n",
    "            }"
   ]
  },
  {
   "cell_type": "code",
   "execution_count": 4,
   "id": "79f383d0",
   "metadata": {
    "editable": false,
    "execution": {
     "iopub.execute_input": "2021-11-15T05:42:36.493407Z",
     "iopub.status.busy": "2021-11-15T05:42:36.492682Z",
     "iopub.status.idle": "2021-11-15T05:42:36.495272Z",
     "shell.execute_reply": "2021-11-15T05:42:36.494712Z",
     "shell.execute_reply.started": "2021-11-15T05:40:51.787414Z"
    },
    "papermill": {
     "duration": 0.033721,
     "end_time": "2021-11-15T05:42:36.495382",
     "exception": false,
     "start_time": "2021-11-15T05:42:36.461661",
     "status": "completed"
    },
    "tags": []
   },
   "outputs": [],
   "source": [
    "class Model(nn.Module):\n",
    "    def __init__(self, modelname_or_path, config):\n",
    "        super(Model, self).__init__()\n",
    "        self.config = config\n",
    "        self.xlm_roberta = AutoModel.from_pretrained(modelname_or_path, config=config)\n",
    "        self.qa_outputs = nn.Linear(config.hidden_size, 2)\n",
    "        self.dropout = nn.Dropout(config.hidden_dropout_prob)\n",
    "        self._init_weights(self.qa_outputs)\n",
    "        \n",
    "    def _init_weights(self, module):\n",
    "        if isinstance(module, nn.Linear):\n",
    "            module.weight.data.normal_(mean=0.0, std=self.config.initializer_range)\n",
    "            if module.bias is not None:\n",
    "                module.bias.data.zero_()\n",
    "\n",
    "    def forward(\n",
    "        self, \n",
    "        input_ids, \n",
    "        attention_mask=None, \n",
    "    ):\n",
    "        outputs = self.xlm_roberta(\n",
    "            input_ids,\n",
    "            attention_mask=attention_mask,\n",
    "        )\n",
    "\n",
    "        sequence_output = outputs[0]\n",
    "        pooled_output = outputs[1]\n",
    "        \n",
    "        # sequence_output = self.dropout(sequence_output)\n",
    "        qa_logits = self.qa_outputs(sequence_output)\n",
    "        \n",
    "        start_logits, end_logits = qa_logits.split(1, dim=-1)\n",
    "        start_logits = start_logits.squeeze(-1)\n",
    "        end_logits = end_logits.squeeze(-1)\n",
    "    \n",
    "        return start_logits, end_logits"
   ]
  },
  {
   "cell_type": "code",
   "execution_count": 5,
   "id": "80812022",
   "metadata": {
    "editable": false,
    "execution": {
     "iopub.execute_input": "2021-11-15T05:42:36.546024Z",
     "iopub.status.busy": "2021-11-15T05:42:36.545245Z",
     "iopub.status.idle": "2021-11-15T05:42:36.547640Z",
     "shell.execute_reply": "2021-11-15T05:42:36.547223Z",
     "shell.execute_reply.started": "2021-11-15T05:40:51.799909Z"
    },
    "papermill": {
     "duration": 0.02951,
     "end_time": "2021-11-15T05:42:36.547738",
     "exception": false,
     "start_time": "2021-11-15T05:42:36.518228",
     "status": "completed"
    },
    "tags": []
   },
   "outputs": [],
   "source": [
    "def make_model(args):\n",
    "    config = AutoConfig.from_pretrained(args.config_name)\n",
    "    tokenizer = AutoTokenizer.from_pretrained(args.tokenizer_name)\n",
    "    model = Model(args.model_name_or_path, config=config)\n",
    "    return config, tokenizer, model"
   ]
  },
  {
   "cell_type": "code",
   "execution_count": 6,
   "id": "d78e7a15",
   "metadata": {
    "editable": false,
    "execution": {
     "iopub.execute_input": "2021-11-15T05:42:36.601426Z",
     "iopub.status.busy": "2021-11-15T05:42:36.600644Z",
     "iopub.status.idle": "2021-11-15T05:42:36.603157Z",
     "shell.execute_reply": "2021-11-15T05:42:36.602606Z",
     "shell.execute_reply.started": "2021-11-15T05:40:51.811412Z"
    },
    "papermill": {
     "duration": 0.032551,
     "end_time": "2021-11-15T05:42:36.603269",
     "exception": false,
     "start_time": "2021-11-15T05:42:36.570718",
     "status": "completed"
    },
    "tags": []
   },
   "outputs": [],
   "source": [
    "def prepare_test_features(args, example, tokenizer):\n",
    "    example[\"question\"] = example[\"question\"].lstrip()\n",
    "    \n",
    "    tokenized_example = tokenizer(\n",
    "        example[\"question\"],\n",
    "        example[\"context\"],\n",
    "        truncation=\"only_second\",\n",
    "        max_length=args.max_seq_length,\n",
    "        stride=args.doc_stride,\n",
    "        return_overflowing_tokens=True,\n",
    "        return_offsets_mapping=True,\n",
    "        padding=\"max_length\",\n",
    "    )\n",
    "\n",
    "    features = []\n",
    "    for i in range(len(tokenized_example[\"input_ids\"])):\n",
    "        feature = {}\n",
    "        feature[\"example_id\"] = example['id']\n",
    "        feature['context'] = example['context']\n",
    "        feature['question'] = example['question']\n",
    "        feature['input_ids'] = tokenized_example['input_ids'][i]\n",
    "        feature['attention_mask'] = tokenized_example['attention_mask'][i]\n",
    "        feature['offset_mapping'] = tokenized_example['offset_mapping'][i]\n",
    "        feature['sequence_ids'] = [0 if i is None else i for i in tokenized_example.sequence_ids(i)]\n",
    "        features.append(feature)\n",
    "    return features"
   ]
  },
  {
   "cell_type": "markdown",
   "id": "0f84a5f8",
   "metadata": {
    "editable": false,
    "papermill": {
     "duration": 0.023326,
     "end_time": "2021-11-15T05:42:36.650368",
     "exception": false,
     "start_time": "2021-11-15T05:42:36.627042",
     "status": "completed"
    },
    "tags": []
   },
   "source": [
    "# Combining different data"
   ]
  },
  {
   "cell_type": "code",
   "execution_count": 7,
   "id": "51ad33bc",
   "metadata": {
    "execution": {
     "iopub.execute_input": "2021-11-15T05:42:36.701049Z",
     "iopub.status.busy": "2021-11-15T05:42:36.700399Z",
     "iopub.status.idle": "2021-11-15T05:42:37.087791Z",
     "shell.execute_reply": "2021-11-15T05:42:37.087328Z",
     "shell.execute_reply.started": "2021-11-15T05:40:51.824454Z"
    },
    "papermill": {
     "duration": 0.414509,
     "end_time": "2021-11-15T05:42:37.087909",
     "exception": false,
     "start_time": "2021-11-15T05:42:36.673400",
     "status": "completed"
    },
    "tags": []
   },
   "outputs": [
    {
     "name": "stdout",
     "output_type": "stream",
     "text": [
      "5425\n"
     ]
    },
    {
     "data": {
      "text/html": [
       "<div>\n",
       "<style scoped>\n",
       "    .dataframe tbody tr th:only-of-type {\n",
       "        vertical-align: middle;\n",
       "    }\n",
       "\n",
       "    .dataframe tbody tr th {\n",
       "        vertical-align: top;\n",
       "    }\n",
       "\n",
       "    .dataframe thead th {\n",
       "        text-align: right;\n",
       "    }\n",
       "</style>\n",
       "<table border=\"1\" class=\"dataframe\">\n",
       "  <thead>\n",
       "    <tr style=\"text-align: right;\">\n",
       "      <th></th>\n",
       "      <th>context</th>\n",
       "      <th>question</th>\n",
       "      <th>answer_text</th>\n",
       "      <th>answer_start</th>\n",
       "      <th>language</th>\n",
       "    </tr>\n",
       "  </thead>\n",
       "  <tbody>\n",
       "    <tr>\n",
       "      <th>0</th>\n",
       "      <td>पैरेनकाइमा कोशिकाएं वे जीवित कोशिकाएं हैं जो स...</td>\n",
       "      <td>एक प्रकार की रस्सी का नाम बताईए जो सेलेरी के क...</td>\n",
       "      <td>कोलेन्काइमा</td>\n",
       "      <td>2267</td>\n",
       "      <td>hindi</td>\n",
       "    </tr>\n",
       "    <tr>\n",
       "      <th>1</th>\n",
       "      <td>पैरेनकाइमा कोशिकाएं वे जीवित कोशिकाएं हैं जो स...</td>\n",
       "      <td>क्या चीज पूरी तरह से पैरेनकाइमा कोशिकाओं से बन...</td>\n",
       "      <td>पत्तियां</td>\n",
       "      <td>158</td>\n",
       "      <td>hindi</td>\n",
       "    </tr>\n",
       "    <tr>\n",
       "      <th>2</th>\n",
       "      <td>जाइलेम कोशिकाएं कोशिका भित्तियों की लिग्निकृत ...</td>\n",
       "      <td>जाइलेम किस प्रकार के पौधों में पाया जाता है?</td>\n",
       "      <td>ट्रेकियोफाइटों</td>\n",
       "      <td>292</td>\n",
       "      <td>hindi</td>\n",
       "    </tr>\n",
       "    <tr>\n",
       "      <th>3</th>\n",
       "      <td>फ्लोएम उच्चतर पौधों में आहार का संवहन करने वाल...</td>\n",
       "      <td>लेप्टोम क्या है?\\n</td>\n",
       "      <td>समान कार्य करने वाला एक अधिक सरल ऊतक</td>\n",
       "      <td>969</td>\n",
       "      <td>hindi</td>\n",
       "    </tr>\n",
       "    <tr>\n",
       "      <th>4</th>\n",
       "      <td>सभी हवाई अवयवों की बाह्यत्वचा, जड़ों को छोड़कर...</td>\n",
       "      <td>बाह्यत्वचा की कोशिकाएं क्या कर सकती हैं?</td>\n",
       "      <td>क्यटिन का संश्लेषण</td>\n",
       "      <td>433</td>\n",
       "      <td>hindi</td>\n",
       "    </tr>\n",
       "  </tbody>\n",
       "</table>\n",
       "</div>"
      ],
      "text/plain": [
       "                                             context  \\\n",
       "0  पैरेनकाइमा कोशिकाएं वे जीवित कोशिकाएं हैं जो स...   \n",
       "1  पैरेनकाइमा कोशिकाएं वे जीवित कोशिकाएं हैं जो स...   \n",
       "2  जाइलेम कोशिकाएं कोशिका भित्तियों की लिग्निकृत ...   \n",
       "3  फ्लोएम उच्चतर पौधों में आहार का संवहन करने वाल...   \n",
       "4  सभी हवाई अवयवों की बाह्यत्वचा, जड़ों को छोड़कर...   \n",
       "\n",
       "                                            question  \\\n",
       "0  एक प्रकार की रस्सी का नाम बताईए जो सेलेरी के क...   \n",
       "1  क्या चीज पूरी तरह से पैरेनकाइमा कोशिकाओं से बन...   \n",
       "2       जाइलेम किस प्रकार के पौधों में पाया जाता है?   \n",
       "3                                 लेप्टोम क्या है?\\n   \n",
       "4           बाह्यत्वचा की कोशिकाएं क्या कर सकती हैं?   \n",
       "\n",
       "                            answer_text  answer_start language  \n",
       "0                           कोलेन्काइमा          2267    hindi  \n",
       "1                              पत्तियां           158    hindi  \n",
       "2                        ट्रेकियोफाइटों           292    hindi  \n",
       "3  समान कार्य करने वाला एक अधिक सरल ऊतक           969    hindi  \n",
       "4                    क्यटिन का संश्लेषण           433    hindi  "
      ]
     },
     "execution_count": 7,
     "metadata": {},
     "output_type": "execute_result"
    }
   ],
   "source": [
    "test0 = pd.read_csv('../input/mlqa-hindi-processed/mlqa_hindi.csv')\n",
    "print(len(test0))\n",
    "test0.head()"
   ]
  },
  {
   "cell_type": "code",
   "execution_count": 8,
   "id": "3265f37b",
   "metadata": {
    "execution": {
     "iopub.execute_input": "2021-11-15T05:42:37.139821Z",
     "iopub.status.busy": "2021-11-15T05:42:37.139308Z",
     "iopub.status.idle": "2021-11-15T05:42:37.205751Z",
     "shell.execute_reply": "2021-11-15T05:42:37.206504Z",
     "shell.execute_reply.started": "2021-11-15T05:40:52.195212Z"
    },
    "papermill": {
     "duration": 0.09478,
     "end_time": "2021-11-15T05:42:37.206689",
     "exception": false,
     "start_time": "2021-11-15T05:42:37.111909",
     "status": "completed"
    },
    "tags": []
   },
   "outputs": [
    {
     "name": "stdout",
     "output_type": "stream",
     "text": [
      "1190\n"
     ]
    },
    {
     "data": {
      "text/html": [
       "<div>\n",
       "<style scoped>\n",
       "    .dataframe tbody tr th:only-of-type {\n",
       "        vertical-align: middle;\n",
       "    }\n",
       "\n",
       "    .dataframe tbody tr th {\n",
       "        vertical-align: top;\n",
       "    }\n",
       "\n",
       "    .dataframe thead th {\n",
       "        text-align: right;\n",
       "    }\n",
       "</style>\n",
       "<table border=\"1\" class=\"dataframe\">\n",
       "  <thead>\n",
       "    <tr style=\"text-align: right;\">\n",
       "      <th></th>\n",
       "      <th>context</th>\n",
       "      <th>question</th>\n",
       "      <th>answer_text</th>\n",
       "      <th>answer_start</th>\n",
       "      <th>language</th>\n",
       "    </tr>\n",
       "  </thead>\n",
       "  <tbody>\n",
       "    <tr>\n",
       "      <th>0</th>\n",
       "      <td>पैंथर्स की डिफ़ेन्स ने लीग में केवल 308 अंक दिए...</td>\n",
       "      <td>पैंथर्स डिफ़ेंस ने कितने अंक दिए?</td>\n",
       "      <td>308</td>\n",
       "      <td>35</td>\n",
       "      <td>hindi</td>\n",
       "    </tr>\n",
       "    <tr>\n",
       "      <th>1</th>\n",
       "      <td>पैंथर्स की डिफ़ेन्स ने लीग में केवल 308 अंक दिए...</td>\n",
       "      <td>जेरेड एलन के पास कितने करियर सैक थे?</td>\n",
       "      <td>136</td>\n",
       "      <td>380</td>\n",
       "      <td>hindi</td>\n",
       "    </tr>\n",
       "    <tr>\n",
       "      <th>2</th>\n",
       "      <td>पैंथर्स की डिफ़ेन्स ने लीग में केवल 308 अंक दिए...</td>\n",
       "      <td>ल्यूक कुएक्ली ने कितने टैकल रजिस्टर किए?</td>\n",
       "      <td>118</td>\n",
       "      <td>743</td>\n",
       "      <td>hindi</td>\n",
       "    </tr>\n",
       "    <tr>\n",
       "      <th>3</th>\n",
       "      <td>पैंथर्स की डिफ़ेन्स ने लीग में केवल 308 अंक दिए...</td>\n",
       "      <td>जोश नॉर्मन ने कितने बॉल को इंटरसेप्ट किया?</td>\n",
       "      <td>चार</td>\n",
       "      <td>90</td>\n",
       "      <td>hindi</td>\n",
       "    </tr>\n",
       "    <tr>\n",
       "      <th>4</th>\n",
       "      <td>पैंथर्स की डिफ़ेन्स ने लीग में केवल 308 अंक दिए...</td>\n",
       "      <td>इस सीज़न में टीम से किसने सबसे अधिक सैक रजिस्टर...</td>\n",
       "      <td>कावन शॉर्ट</td>\n",
       "      <td>169</td>\n",
       "      <td>hindi</td>\n",
       "    </tr>\n",
       "  </tbody>\n",
       "</table>\n",
       "</div>"
      ],
      "text/plain": [
       "                                             context  \\\n",
       "0  पैंथर्स की डिफ़ेन्स ने लीग में केवल 308 अंक दिए...   \n",
       "1  पैंथर्स की डिफ़ेन्स ने लीग में केवल 308 अंक दिए...   \n",
       "2  पैंथर्स की डिफ़ेन्स ने लीग में केवल 308 अंक दिए...   \n",
       "3  पैंथर्स की डिफ़ेन्स ने लीग में केवल 308 अंक दिए...   \n",
       "4  पैंथर्स की डिफ़ेन्स ने लीग में केवल 308 अंक दिए...   \n",
       "\n",
       "                                            question answer_text  \\\n",
       "0                   पैंथर्स डिफ़ेंस ने कितने अंक दिए?         308   \n",
       "1               जेरेड एलन के पास कितने करियर सैक थे?         136   \n",
       "2           ल्यूक कुएक्ली ने कितने टैकल रजिस्टर किए?         118   \n",
       "3         जोश नॉर्मन ने कितने बॉल को इंटरसेप्ट किया?         चार   \n",
       "4  इस सीज़न में टीम से किसने सबसे अधिक सैक रजिस्टर...  कावन शॉर्ट   \n",
       "\n",
       "   answer_start language  \n",
       "0            35    hindi  \n",
       "1           380    hindi  \n",
       "2           743    hindi  \n",
       "3            90    hindi  \n",
       "4           169    hindi  "
      ]
     },
     "execution_count": 8,
     "metadata": {},
     "output_type": "execute_result"
    }
   ],
   "source": [
    "test1 = pd.read_csv('../input/mlqa-hindi-processed/xquad.csv')\n",
    "print(len(test1))\n",
    "test1.head()"
   ]
  },
  {
   "cell_type": "code",
   "execution_count": 9,
   "id": "6857a1e2",
   "metadata": {
    "execution": {
     "iopub.execute_input": "2021-11-15T05:42:37.260932Z",
     "iopub.status.busy": "2021-11-15T05:42:37.260308Z",
     "iopub.status.idle": "2021-11-15T05:42:37.471310Z",
     "shell.execute_reply": "2021-11-15T05:42:37.471890Z",
     "shell.execute_reply.started": "2021-11-15T05:40:52.268710Z"
    },
    "papermill": {
     "duration": 0.240173,
     "end_time": "2021-11-15T05:42:37.472082",
     "exception": false,
     "start_time": "2021-11-15T05:42:37.231909",
     "status": "completed"
    },
    "tags": []
   },
   "outputs": [
    {
     "name": "stdout",
     "output_type": "stream",
     "text": [
      "3567\n"
     ]
    },
    {
     "data": {
      "text/html": [
       "<div>\n",
       "<style scoped>\n",
       "    .dataframe tbody tr th:only-of-type {\n",
       "        vertical-align: middle;\n",
       "    }\n",
       "\n",
       "    .dataframe tbody tr th {\n",
       "        vertical-align: top;\n",
       "    }\n",
       "\n",
       "    .dataframe thead th {\n",
       "        text-align: right;\n",
       "    }\n",
       "</style>\n",
       "<table border=\"1\" class=\"dataframe\">\n",
       "  <thead>\n",
       "    <tr style=\"text-align: right;\">\n",
       "      <th></th>\n",
       "      <th>context</th>\n",
       "      <th>question</th>\n",
       "      <th>answer_text</th>\n",
       "      <th>answer_start</th>\n",
       "      <th>language</th>\n",
       "    </tr>\n",
       "  </thead>\n",
       "  <tbody>\n",
       "    <tr>\n",
       "      <th>0</th>\n",
       "      <td>மாகாணமானது பாரம்பரியமாக \"மீன் மற்றும் அரிசி நி...</td>\n",
       "      <td>மாகாணத்தின் இரண்டாவது முக்கிய பயிர் என்ன?</td>\n",
       "      <td>கோதுமை</td>\n",
       "      <td>133.0</td>\n",
       "      <td>tamil</td>\n",
       "    </tr>\n",
       "    <tr>\n",
       "      <th>1</th>\n",
       "      <td>Gregorian சீர்திருத்தம் இரண்டு பகுதிகளைக் கொண்...</td>\n",
       "      <td>சந்திர காலண்டரைப் பயன்படுத்தி என்ன கணக்கிடப்பட...</td>\n",
       "      <td>ஈஸ்டர் தேதி</td>\n",
       "      <td>219.0</td>\n",
       "      <td>tamil</td>\n",
       "    </tr>\n",
       "    <tr>\n",
       "      <th>2</th>\n",
       "      <td>அ. டோங்க்கோபா மிங் நீதிமன்றத்தில் தோன்றும் மறு...</td>\n",
       "      <td>மிங் நீதிமன்றம் சாங்க்கபாவிற்கு இரண்டாவது கோரி...</td>\n",
       "      <td>1413</td>\n",
       "      <td>352.0</td>\n",
       "      <td>tamil</td>\n",
       "    </tr>\n",
       "    <tr>\n",
       "      <th>3</th>\n",
       "      <td>1919 ஆம் ஆண்டில், ஐரிஷ் ஹோம் ஆட்சிக்கு தாமதங்க...</td>\n",
       "      <td>அயர்லாந்தின் எத்தனை மாவட்டங்கள் வட அயர்லாந்தில...</td>\n",
       "      <td>ஆறு</td>\n",
       "      <td>816.0</td>\n",
       "      <td>tamil</td>\n",
       "    </tr>\n",
       "    <tr>\n",
       "      <th>4</th>\n",
       "      <td>அந்த யுத்தம் தவிர்க்க முடியாதது என்பதை உணர்ந்த...</td>\n",
       "      <td>ஆஸ்திரியா என்ன பிராந்தியத்தை திரும்பப் பெற முட...</td>\n",
       "      <td>ஆஸ்திரியா பிரான்சுடன் ஒரு கூட்டணியை உருவாக்கிய...</td>\n",
       "      <td>213.0</td>\n",
       "      <td>tamil</td>\n",
       "    </tr>\n",
       "  </tbody>\n",
       "</table>\n",
       "</div>"
      ],
      "text/plain": [
       "                                             context  \\\n",
       "0  மாகாணமானது பாரம்பரியமாக \"மீன் மற்றும் அரிசி நி...   \n",
       "1  Gregorian சீர்திருத்தம் இரண்டு பகுதிகளைக் கொண்...   \n",
       "2  அ. டோங்க்கோபா மிங் நீதிமன்றத்தில் தோன்றும் மறு...   \n",
       "3  1919 ஆம் ஆண்டில், ஐரிஷ் ஹோம் ஆட்சிக்கு தாமதங்க...   \n",
       "4  அந்த யுத்தம் தவிர்க்க முடியாதது என்பதை உணர்ந்த...   \n",
       "\n",
       "                                            question  \\\n",
       "0          மாகாணத்தின் இரண்டாவது முக்கிய பயிர் என்ன?   \n",
       "1  சந்திர காலண்டரைப் பயன்படுத்தி என்ன கணக்கிடப்பட...   \n",
       "2  மிங் நீதிமன்றம் சாங்க்கபாவிற்கு இரண்டாவது கோரி...   \n",
       "3  அயர்லாந்தின் எத்தனை மாவட்டங்கள் வட அயர்லாந்தில...   \n",
       "4  ஆஸ்திரியா என்ன பிராந்தியத்தை திரும்பப் பெற முட...   \n",
       "\n",
       "                                         answer_text  answer_start language  \n",
       "0                                             கோதுமை         133.0    tamil  \n",
       "1                                        ஈஸ்டர் தேதி         219.0    tamil  \n",
       "2                                               1413         352.0    tamil  \n",
       "3                                                ஆறு         816.0    tamil  \n",
       "4  ஆஸ்திரியா பிரான்சுடன் ஒரு கூட்டணியை உருவாக்கிய...         213.0    tamil  "
      ]
     },
     "execution_count": 9,
     "metadata": {},
     "output_type": "execute_result"
    }
   ],
   "source": [
    "test2 = pd.read_csv('../input/squad-translated-to-tamil-for-chaii/squad_translated_tamil.csv')\n",
    "print(len(test2))\n",
    "test2.loc[:,'language']='tamil'\n",
    "test2.head()"
   ]
  },
  {
   "cell_type": "code",
   "execution_count": 10,
   "id": "19b48aad",
   "metadata": {
    "execution": {
     "iopub.execute_input": "2021-11-15T05:42:37.545297Z",
     "iopub.status.busy": "2021-11-15T05:42:37.533814Z",
     "iopub.status.idle": "2021-11-15T05:42:37.549351Z",
     "shell.execute_reply": "2021-11-15T05:42:37.549929Z",
     "shell.execute_reply.started": "2021-11-15T05:40:52.481886Z"
    },
    "papermill": {
     "duration": 0.049963,
     "end_time": "2021-11-15T05:42:37.550116",
     "exception": false,
     "start_time": "2021-11-15T05:42:37.500153",
     "status": "completed"
    },
    "tags": []
   },
   "outputs": [
    {
     "name": "stdout",
     "output_type": "stream",
     "text": [
      "2690\n"
     ]
    },
    {
     "data": {
      "text/html": [
       "<div>\n",
       "<style scoped>\n",
       "    .dataframe tbody tr th:only-of-type {\n",
       "        vertical-align: middle;\n",
       "    }\n",
       "\n",
       "    .dataframe tbody tr th {\n",
       "        vertical-align: top;\n",
       "    }\n",
       "\n",
       "    .dataframe thead th {\n",
       "        text-align: right;\n",
       "    }\n",
       "</style>\n",
       "<table border=\"1\" class=\"dataframe\">\n",
       "  <thead>\n",
       "    <tr style=\"text-align: right;\">\n",
       "      <th></th>\n",
       "      <th>context</th>\n",
       "      <th>question</th>\n",
       "      <th>answer_text</th>\n",
       "      <th>answer_start</th>\n",
       "      <th>language</th>\n",
       "      <th>id</th>\n",
       "    </tr>\n",
       "  </thead>\n",
       "  <tbody>\n",
       "    <tr>\n",
       "      <th>0</th>\n",
       "      <td>पैंथर्स की डिफ़ेन्स ने लीग में केवल 308 अंक दिए...</td>\n",
       "      <td>पैंथर्स डिफ़ेंस ने कितने अंक दिए?</td>\n",
       "      <td>308</td>\n",
       "      <td>35</td>\n",
       "      <td>hindi</td>\n",
       "      <td>0</td>\n",
       "    </tr>\n",
       "    <tr>\n",
       "      <th>1</th>\n",
       "      <td>पैंथर्स की डिफ़ेन्स ने लीग में केवल 308 अंक दिए...</td>\n",
       "      <td>जेरेड एलन के पास कितने करियर सैक थे?</td>\n",
       "      <td>136</td>\n",
       "      <td>380</td>\n",
       "      <td>hindi</td>\n",
       "      <td>1</td>\n",
       "    </tr>\n",
       "    <tr>\n",
       "      <th>2</th>\n",
       "      <td>पैंथर्स की डिफ़ेन्स ने लीग में केवल 308 अंक दिए...</td>\n",
       "      <td>ल्यूक कुएक्ली ने कितने टैकल रजिस्टर किए?</td>\n",
       "      <td>118</td>\n",
       "      <td>743</td>\n",
       "      <td>hindi</td>\n",
       "      <td>2</td>\n",
       "    </tr>\n",
       "    <tr>\n",
       "      <th>3</th>\n",
       "      <td>पैंथर्स की डिफ़ेन्स ने लीग में केवल 308 अंक दिए...</td>\n",
       "      <td>जोश नॉर्मन ने कितने बॉल को इंटरसेप्ट किया?</td>\n",
       "      <td>चार</td>\n",
       "      <td>90</td>\n",
       "      <td>hindi</td>\n",
       "      <td>3</td>\n",
       "    </tr>\n",
       "    <tr>\n",
       "      <th>4</th>\n",
       "      <td>पैंथर्स की डिफ़ेन्स ने लीग में केवल 308 अंक दिए...</td>\n",
       "      <td>इस सीज़न में टीम से किसने सबसे अधिक सैक रजिस्टर...</td>\n",
       "      <td>कावन शॉर्ट</td>\n",
       "      <td>169</td>\n",
       "      <td>hindi</td>\n",
       "      <td>4</td>\n",
       "    </tr>\n",
       "  </tbody>\n",
       "</table>\n",
       "</div>"
      ],
      "text/plain": [
       "                                             context  \\\n",
       "0  पैंथर्स की डिफ़ेन्स ने लीग में केवल 308 अंक दिए...   \n",
       "1  पैंथर्स की डिफ़ेन्स ने लीग में केवल 308 अंक दिए...   \n",
       "2  पैंथर्स की डिफ़ेन्स ने लीग में केवल 308 अंक दिए...   \n",
       "3  पैंथर्स की डिफ़ेन्स ने लीग में केवल 308 अंक दिए...   \n",
       "4  पैंथर्स की डिफ़ेन्स ने लीग में केवल 308 अंक दिए...   \n",
       "\n",
       "                                            question answer_text  \\\n",
       "0                   पैंथर्स डिफ़ेंस ने कितने अंक दिए?         308   \n",
       "1               जेरेड एलन के पास कितने करियर सैक थे?         136   \n",
       "2           ल्यूक कुएक्ली ने कितने टैकल रजिस्टर किए?         118   \n",
       "3         जोश नॉर्मन ने कितने बॉल को इंटरसेप्ट किया?         चार   \n",
       "4  इस सीज़न में टीम से किसने सबसे अधिक सैक रजिस्टर...  कावन शॉर्ट   \n",
       "\n",
       "   answer_start language id  \n",
       "0            35    hindi  0  \n",
       "1           380    hindi  1  \n",
       "2           743    hindi  2  \n",
       "3            90    hindi  3  \n",
       "4           169    hindi  4  "
      ]
     },
     "execution_count": 10,
     "metadata": {},
     "output_type": "execute_result"
    }
   ],
   "source": [
    "# result = pd.concat([test0,test1,test2])\n",
    "result = pd.concat([test1,test2[:1500]])\n",
    "print(len(result))\n",
    "result['answer_start']= result['answer_start'].astype(float).astype(int)\n",
    "id_column_value=[]\n",
    "for i in range(len(result)):\n",
    "    id_column_value.append(str(i))\n",
    "result['id']=id_column_value\n",
    "result.head()"
   ]
  },
  {
   "cell_type": "markdown",
   "id": "4cf64572",
   "metadata": {
    "editable": false,
    "papermill": {
     "duration": 0.025741,
     "end_time": "2021-11-15T05:42:37.602241",
     "exception": false,
     "start_time": "2021-11-15T05:42:37.576500",
     "status": "completed"
    },
    "tags": []
   },
   "source": [
    "# Processing data"
   ]
  },
  {
   "cell_type": "code",
   "execution_count": 11,
   "id": "f7a8b605",
   "metadata": {
    "execution": {
     "iopub.execute_input": "2021-11-15T05:42:37.661658Z",
     "iopub.status.busy": "2021-11-15T05:42:37.661018Z",
     "iopub.status.idle": "2021-11-15T05:43:25.796152Z",
     "shell.execute_reply": "2021-11-15T05:43:25.795571Z",
     "shell.execute_reply.started": "2021-11-15T05:40:52.504869Z"
    },
    "papermill": {
     "duration": 48.167745,
     "end_time": "2021-11-15T05:43:25.796283",
     "exception": false,
     "start_time": "2021-11-15T05:42:37.628538",
     "status": "completed"
    },
    "tags": []
   },
   "outputs": [],
   "source": [
    "# test = pd.read_csv('../input/chaii-hindi-and-tamil-question-answering/test.csv')\n",
    "test = pd.read_csv('../input/chaii-hindi-and-tamil-question-answering/train.csv')#[:1]\n",
    "# test = pd.concat([test,result[:1]])\n",
    "test = pd.concat([test,result])\n",
    "\n",
    "test['context'] = test['context'].apply(lambda x: ' '.join(x.split()))\n",
    "test['question'] = test['question'].apply(lambda x: ' '.join(x.split()))\n",
    "\n",
    "#base_model_path = '../input/chaii-qa-5-fold-xlmroberta-torch-fit'\n",
    "\n",
    "tokenizer = AutoTokenizer.from_pretrained(Config().tokenizer_name)\n",
    "\n",
    "test_features = []\n",
    "for i, row in test.iterrows():\n",
    "    test_features += prepare_test_features(Config(), row, tokenizer)\n",
    "\n",
    "args = Config()\n",
    "test_dataset = DatasetRetriever(test_features, mode='test')\n",
    "test_dataloader = DataLoader(\n",
    "    test_dataset,\n",
    "    batch_size=args.eval_batch_size, \n",
    "    sampler=SequentialSampler(test_dataset),\n",
    "    num_workers=optimal_num_of_loader_workers(),\n",
    "    pin_memory=True, \n",
    "    drop_last=False\n",
    ")"
   ]
  },
  {
   "cell_type": "code",
   "execution_count": 12,
   "id": "809c1f5c",
   "metadata": {
    "editable": false,
    "execution": {
     "iopub.execute_input": "2021-11-15T05:43:25.859478Z",
     "iopub.status.busy": "2021-11-15T05:43:25.858616Z",
     "iopub.status.idle": "2021-11-15T05:43:25.861679Z",
     "shell.execute_reply": "2021-11-15T05:43:25.862170Z",
     "shell.execute_reply.started": "2021-11-15T05:40:59.456161Z"
    },
    "papermill": {
     "duration": 0.037278,
     "end_time": "2021-11-15T05:43:25.862326",
     "exception": false,
     "start_time": "2021-11-15T05:43:25.825048",
     "status": "completed"
    },
    "tags": []
   },
   "outputs": [
    {
     "data": {
      "text/plain": [
       "3804"
      ]
     },
     "execution_count": 12,
     "metadata": {},
     "output_type": "execute_result"
    }
   ],
   "source": [
    "len(test)"
   ]
  },
  {
   "cell_type": "code",
   "execution_count": 13,
   "id": "a143b005",
   "metadata": {
    "editable": false,
    "execution": {
     "iopub.execute_input": "2021-11-15T05:43:25.929316Z",
     "iopub.status.busy": "2021-11-15T05:43:25.928477Z",
     "iopub.status.idle": "2021-11-15T05:43:25.931096Z",
     "shell.execute_reply": "2021-11-15T05:43:25.930632Z",
     "shell.execute_reply.started": "2021-11-15T05:40:59.877073Z"
    },
    "papermill": {
     "duration": 0.036558,
     "end_time": "2021-11-15T05:43:25.931220",
     "exception": false,
     "start_time": "2021-11-15T05:43:25.894662",
     "status": "completed"
    },
    "tags": []
   },
   "outputs": [],
   "source": [
    "base_model = '../input/5foldsroberta/output/'"
   ]
  },
  {
   "cell_type": "code",
   "execution_count": 14,
   "id": "cf62d649",
   "metadata": {
    "editable": false,
    "execution": {
     "iopub.execute_input": "2021-11-15T05:43:25.992609Z",
     "iopub.status.busy": "2021-11-15T05:43:25.991799Z",
     "iopub.status.idle": "2021-11-15T05:43:25.994552Z",
     "shell.execute_reply": "2021-11-15T05:43:25.994010Z",
     "shell.execute_reply.started": "2021-11-15T05:41:00.724480Z"
    },
    "papermill": {
     "duration": 0.036019,
     "end_time": "2021-11-15T05:43:25.994687",
     "exception": false,
     "start_time": "2021-11-15T05:43:25.958668",
     "status": "completed"
    },
    "tags": []
   },
   "outputs": [],
   "source": [
    "def get_predictions(checkpoint_path):\n",
    "    config, tokenizer, model = make_model(Config())\n",
    "    model.cuda();\n",
    "    model.load_state_dict(\n",
    "        torch.load(checkpoint_path)\n",
    "    );\n",
    "    \n",
    "    start_logits = []\n",
    "    end_logits = []\n",
    "    for batch in test_dataloader:\n",
    "        with torch.no_grad():\n",
    "            outputs_start, outputs_end = model(batch['input_ids'].cuda(), batch['attention_mask'].cuda())\n",
    "            start_logits.append(outputs_start.cpu().numpy().tolist())\n",
    "            end_logits.append(outputs_end.cpu().numpy().tolist())\n",
    "            del outputs_start, outputs_end\n",
    "    del model, tokenizer, config\n",
    "    gc.collect()\n",
    "    return np.vstack(start_logits), np.vstack(end_logits)"
   ]
  },
  {
   "cell_type": "code",
   "execution_count": 15,
   "id": "482404cc",
   "metadata": {
    "editable": false,
    "execution": {
     "iopub.execute_input": "2021-11-15T05:43:26.053632Z",
     "iopub.status.busy": "2021-11-15T05:43:26.053057Z",
     "iopub.status.idle": "2021-11-15T06:44:53.274768Z",
     "shell.execute_reply": "2021-11-15T06:44:53.275248Z"
    },
    "papermill": {
     "duration": 3687.254137,
     "end_time": "2021-11-15T06:44:53.275427",
     "exception": false,
     "start_time": "2021-11-15T05:43:26.021290",
     "status": "completed"
    },
    "tags": []
   },
   "outputs": [
    {
     "name": "stdout",
     "output_type": "stream",
     "text": [
      "pred1 complete\n",
      "pred2 complete\n",
      "pred3 complete\n",
      "pred4 complete\n",
      "pred5 complete\n"
     ]
    }
   ],
   "source": [
    "start_logits1, end_logits1 = get_predictions('../input/5foldsroberta/output/checkpoint-fold-0/pytorch_model.bin')\n",
    "print('pred1 complete')\n",
    "start_logits2, end_logits2 = get_predictions('../input/5foldsroberta/output/checkpoint-fold-1/pytorch_model.bin')\n",
    "print('pred2 complete')\n",
    "start_logits3, end_logits3 = get_predictions('../input/5foldsroberta/output/checkpoint-fold-2/pytorch_model.bin')\n",
    "print('pred3 complete')\n",
    "start_logits4, end_logits4 = get_predictions('../input/5foldsroberta/output/checkpoint-fold-3/pytorch_model.bin')\n",
    "print('pred4 complete')\n",
    "start_logits5, end_logits5 = get_predictions('../input/5foldsroberta/output/checkpoint-fold-4/pytorch_model.bin')\n",
    "print('pred5 complete')\n",
    "\n",
    "\n",
    "\n",
    "\n",
    "start_logits = (start_logits1 + start_logits2 + start_logits3 +start_logits4+ start_logits5 )/5\n",
    "end_logits = (end_logits1 + end_logits2 + end_logits3 +end_logits4 + end_logits5)/5"
   ]
  },
  {
   "cell_type": "code",
   "execution_count": 16,
   "id": "12272971",
   "metadata": {
    "editable": false,
    "execution": {
     "iopub.execute_input": "2021-11-15T06:44:53.335548Z",
     "iopub.status.busy": "2021-11-15T06:44:53.335025Z",
     "iopub.status.idle": "2021-11-15T06:44:53.461941Z",
     "shell.execute_reply": "2021-11-15T06:44:53.461483Z"
    },
    "papermill": {
     "duration": 0.158995,
     "end_time": "2021-11-15T06:44:53.462093",
     "exception": false,
     "start_time": "2021-11-15T06:44:53.303098",
     "status": "completed"
    },
    "tags": []
   },
   "outputs": [],
   "source": [
    "# normalize\n",
    "normalizer = torch.nn.Softmax(dim=1)\n",
    "\n",
    "start_logits = normalizer(torch.from_numpy(start_logits))\n",
    "end_logits = normalizer(torch.from_numpy(end_logits))\n",
    "\n",
    "start_logits = start_logits.numpy()\n",
    "end_logits = end_logits.numpy()"
   ]
  },
  {
   "cell_type": "code",
   "execution_count": 17,
   "id": "d29256bd",
   "metadata": {
    "editable": false,
    "execution": {
     "iopub.execute_input": "2021-11-15T06:44:53.534991Z",
     "iopub.status.busy": "2021-11-15T06:44:53.530986Z",
     "iopub.status.idle": "2021-11-15T06:44:53.537415Z",
     "shell.execute_reply": "2021-11-15T06:44:53.537005Z"
    },
    "papermill": {
     "duration": 0.047382,
     "end_time": "2021-11-15T06:44:53.537525",
     "exception": false,
     "start_time": "2021-11-15T06:44:53.490143",
     "status": "completed"
    },
    "tags": []
   },
   "outputs": [],
   "source": [
    "import collections\n",
    "\n",
    "def postprocess_qa_predictions(examples, features, raw_predictions, n_best_size = 20, max_answer_length = 30, n = 1, extension=20):\n",
    "    all_start_logits, all_end_logits = raw_predictions\n",
    "    \n",
    "    example_id_to_index = {k: i for i, k in enumerate(examples[\"id\"])}\n",
    "    features_per_example = collections.defaultdict(list)\n",
    "    for i, feature in enumerate(features):\n",
    "        features_per_example[example_id_to_index[feature[\"example_id\"]]].append(i)\n",
    "\n",
    "    predictions = collections.OrderedDict()\n",
    "\n",
    "    print(f\"Post-processing {len(examples)} example predictions split into {len(features)} features.\")\n",
    "\n",
    "    for example_index, example in examples.iterrows():\n",
    "        feature_indices = features_per_example[example_index]\n",
    "\n",
    "        min_null_score = None\n",
    "        valid_answers = []\n",
    "        \n",
    "        context = example[\"context\"]\n",
    "        for feature_index in feature_indices:\n",
    "            start_logits = all_start_logits[feature_index]\n",
    "            end_logits = all_end_logits[feature_index]\n",
    "\n",
    "            sequence_ids = features[feature_index][\"sequence_ids\"]\n",
    "            context_index = 1\n",
    "\n",
    "            features[feature_index][\"offset_mapping\"] = [\n",
    "                (o if sequence_ids[k] == context_index else None)\n",
    "                for k, o in enumerate(features[feature_index][\"offset_mapping\"])\n",
    "            ]\n",
    "            offset_mapping = features[feature_index][\"offset_mapping\"]\n",
    "            cls_index = features[feature_index][\"input_ids\"].index(tokenizer.cls_token_id)\n",
    "            feature_null_score = start_logits[cls_index] + end_logits[cls_index]\n",
    "            if min_null_score is None or min_null_score < feature_null_score:\n",
    "                min_null_score = feature_null_score\n",
    "\n",
    "            start_indexes = np.argsort(start_logits)[-1 : -n_best_size - 1 : -1].tolist()\n",
    "            end_indexes = np.argsort(end_logits)[-1 : -n_best_size - 1 : -1].tolist()\n",
    "            for start_index in start_indexes:\n",
    "                for end_index in end_indexes:\n",
    "                    if (\n",
    "                        start_index >= len(offset_mapping)\n",
    "                        or end_index >= len(offset_mapping)\n",
    "                        or offset_mapping[start_index] is None\n",
    "                        or offset_mapping[end_index] is None\n",
    "                    ):\n",
    "                        continue\n",
    "                    # Don't consider answers with a length that is either < 0 or > max_answer_length.\n",
    "                    if end_index < start_index or end_index - start_index + 1 > max_answer_length:\n",
    "                        continue\n",
    "\n",
    "                    start_char = offset_mapping[start_index][0]\n",
    "                    end_char = offset_mapping[end_index][1]\n",
    "                    \n",
    "                    re_start_char = max(0,start_char-extension)\n",
    "                    re_end_char = min(len(context),end_char+extension)\n",
    "#                     try:\n",
    "#                         re_start_char = offset_mapping[start_index-extension][0]\n",
    "#                     except:\n",
    "#                         re_start_char=0\n",
    "#                     try:\n",
    "#                         re_end_char = offset_mapping[end_index+extension][1]\n",
    "#                     except:\n",
    "#                         re_end_char=len(context)\n",
    "#                     print(re_start_char)\n",
    "                    valid_answers.append(\n",
    "                        {\n",
    "                            \"score\": (start_logits[start_index] + end_logits[end_index])/2,\n",
    "                            \"text\": context[start_char: end_char],\n",
    "#                             \"example\": example\n",
    "#                             \"feature_index\":feature_index,\n",
    "#                             \"features\":features[feature_index],\n",
    "#                             \"offset_mapping\":offset_mapping,\n",
    "#                             \"context\":context,\n",
    "#                             \"start_index\":start_index,\n",
    "#                             \"end_index\":end_index,\n",
    "#                             \"start_char\":start_char,\n",
    "#                             \"end_char\":end_char,\n",
    "#                             \"re_start_char\":re_start_char,\n",
    "#                             \"re_end_char\":re_end_char,\n",
    "                            \"required_text\": context[re_start_char: re_end_char]\n",
    "                        }\n",
    "                    )\n",
    "#         print(valid_answers)\n",
    "        if len(valid_answers) > 0:\n",
    "            answers = sorted(valid_answers, key=lambda x: x[\"score\"], reverse=True)\n",
    "#             print(answers)\n",
    "            best_answer = []\n",
    "            for ans in  answers[:n]:\n",
    "                best_answer.append(ans)\n",
    "#             best_answer = answers[:5]\n",
    "        else:\n",
    "            best_answer = [\"\"]\n",
    "        \n",
    "        predictions[example[\"id\"]] = best_answer#[\"text\"]\n",
    "        \n",
    "        \n",
    "    return predictions"
   ]
  },
  {
   "cell_type": "code",
   "execution_count": 18,
   "id": "ad3b682d",
   "metadata": {
    "editable": false,
    "execution": {
     "iopub.execute_input": "2021-11-15T06:44:53.629721Z",
     "iopub.status.busy": "2021-11-15T06:44:53.619563Z",
     "iopub.status.idle": "2021-11-15T06:45:15.848280Z",
     "shell.execute_reply": "2021-11-15T06:45:15.847716Z"
    },
    "papermill": {
     "duration": 22.281576,
     "end_time": "2021-11-15T06:45:15.848429",
     "exception": false,
     "start_time": "2021-11-15T06:44:53.566853",
     "status": "completed"
    },
    "tags": []
   },
   "outputs": [
    {
     "name": "stdout",
     "output_type": "stream",
     "text": [
      "Post-processing 3804 example predictions split into 17071 features.\n"
     ]
    }
   ],
   "source": [
    "fin_preds = postprocess_qa_predictions(test, test_features, (start_logits, end_logits),\n",
    "                                       n=5, extension=128)"
   ]
  },
  {
   "cell_type": "code",
   "execution_count": 19,
   "id": "bb74ce3e",
   "metadata": {
    "editable": false,
    "execution": {
     "iopub.execute_input": "2021-11-15T06:45:15.912683Z",
     "iopub.status.busy": "2021-11-15T06:45:15.911859Z",
     "iopub.status.idle": "2021-11-15T06:45:15.913862Z",
     "shell.execute_reply": "2021-11-15T06:45:15.914273Z"
    },
    "papermill": {
     "duration": 0.035317,
     "end_time": "2021-11-15T06:45:15.914411",
     "exception": false,
     "start_time": "2021-11-15T06:45:15.879094",
     "status": "completed"
    },
    "tags": []
   },
   "outputs": [],
   "source": [
    "# fin_preds"
   ]
  },
  {
   "cell_type": "code",
   "execution_count": 20,
   "id": "ae9fd1c7",
   "metadata": {
    "editable": false,
    "execution": {
     "iopub.execute_input": "2021-11-15T06:45:15.976979Z",
     "iopub.status.busy": "2021-11-15T06:45:15.976165Z",
     "iopub.status.idle": "2021-11-15T06:45:15.978574Z",
     "shell.execute_reply": "2021-11-15T06:45:15.978179Z"
    },
    "papermill": {
     "duration": 0.035215,
     "end_time": "2021-11-15T06:45:15.978690",
     "exception": false,
     "start_time": "2021-11-15T06:45:15.943475",
     "status": "completed"
    },
    "tags": []
   },
   "outputs": [],
   "source": [
    "z = list(fin_preds.values())"
   ]
  },
  {
   "cell_type": "code",
   "execution_count": 21,
   "id": "0e53b857",
   "metadata": {
    "editable": false,
    "execution": {
     "iopub.execute_input": "2021-11-15T06:45:16.042341Z",
     "iopub.status.busy": "2021-11-15T06:45:16.041699Z",
     "iopub.status.idle": "2021-11-15T06:45:16.044806Z",
     "shell.execute_reply": "2021-11-15T06:45:16.045243Z"
    },
    "papermill": {
     "duration": 0.037597,
     "end_time": "2021-11-15T06:45:16.045374",
     "exception": false,
     "start_time": "2021-11-15T06:45:16.007777",
     "status": "completed"
    },
    "tags": []
   },
   "outputs": [
    {
     "data": {
      "text/plain": [
       "[[{'score': 0.4730992010815208,\n",
       "   'text': ' 206',\n",
       "   'required_text': 'ஒரு சாதாரண வளர்ந்த மனிதனுடைய எலும்புக்கூடு பின்வரும் 206 (மார்பெலும்பு மூன்று பகுதிகளாகக் கருதப்பட்டால் 208) எண்ணிக்கையான எலும்புகளைக் கொண்டிருக்கும். இந்த எண்ணிக்கை உடற்கூட்டியல் வேறு'},\n",
       "  {'score': 0.3805177074233963,\n",
       "   'text': ' 206 (மார்பெலும்பு மூன்று பகுதிகளாகக் கருதப்பட்டால் 208',\n",
       "   'required_text': 'ஒரு சாதாரண வளர்ந்த மனிதனுடைய எலும்புக்கூடு பின்வரும் 206 (மார்பெலும்பு மூன்று பகுதிகளாகக் கருதப்பட்டால் 208) எண்ணிக்கையான எலும்புகளைக் கொண்டிருக்கும். இந்த எண்ணிக்கை உடற்கூட்டியல் வேறுபாடுகளைப் பொறுத்து மாறுபடக்கூடும். எடுத்துக்காட்டாக'},\n",
       "  {'score': 0.29871564877508694,\n",
       "   'text': ' 208',\n",
       "   'required_text': 'ஒரு சாதாரண வளர்ந்த மனிதனுடைய எலும்புக்கூடு பின்வரும் 206 (மார்பெலும்பு மூன்று பகுதிகளாகக் கருதப்பட்டால் 208) எண்ணிக்கையான எலும்புகளைக் கொண்டிருக்கும். இந்த எண்ணிக்கை உடற்கூட்டியல் வேறுபாடுகளைப் பொறுத்து மாறுபடக்கூடும். எடுத்துக்காட்டாக'},\n",
       "  {'score': 0.2743517333214154,\n",
       "   'text': ' 206 (மார்பெலும்பு மூன்று பகுதிகளாகக் கருதப்பட்டால் 208)',\n",
       "   'required_text': 'ஒரு சாதாரண வளர்ந்த மனிதனுடைய எலும்புக்கூடு பின்வரும் 206 (மார்பெலும்பு மூன்று பகுதிகளாகக் கருதப்பட்டால் 208) எண்ணிக்கையான எலும்புகளைக் கொண்டிருக்கும். இந்த எண்ணிக்கை உடற்கூட்டியல் வேறுபாடுகளைப் பொறுத்து மாறுபடக்கூடும். எடுத்துக்காட்டாக,'},\n",
       "  {'score': 0.24633059178339528,\n",
       "   'text': ' 206 (மார்பெலும்பு மூன்று பகுதிகளாகக் கருதப்பட்டால் 208) எண்ணிக்கையான',\n",
       "   'required_text': 'ஒரு சாதாரண வளர்ந்த மனிதனுடைய எலும்புக்கூடு பின்வரும் 206 (மார்பெலும்பு மூன்று பகுதிகளாகக் கருதப்பட்டால் 208) எண்ணிக்கையான எலும்புகளைக் கொண்டிருக்கும். இந்த எண்ணிக்கை உடற்கூட்டியல் வேறுபாடுகளைப் பொறுத்து மாறுபடக்கூடும். எடுத்துக்காட்டாக, மிகக் குறைந்'}]]"
      ]
     },
     "execution_count": 21,
     "metadata": {},
     "output_type": "execute_result"
    }
   ],
   "source": [
    "z[:1]"
   ]
  },
  {
   "cell_type": "code",
   "execution_count": 22,
   "id": "a5795671",
   "metadata": {
    "execution": {
     "iopub.execute_input": "2021-11-15T06:45:16.108151Z",
     "iopub.status.busy": "2021-11-15T06:45:16.107322Z",
     "iopub.status.idle": "2021-11-15T06:45:16.109371Z",
     "shell.execute_reply": "2021-11-15T06:45:16.109798Z"
    },
    "papermill": {
     "duration": 0.035643,
     "end_time": "2021-11-15T06:45:16.109984",
     "exception": false,
     "start_time": "2021-11-15T06:45:16.074341",
     "status": "completed"
    },
    "tags": []
   },
   "outputs": [],
   "source": [
    "questions = test['question'].values\n",
    "answers = test['answer_text'].values\n",
    "contexts = test['context'].values"
   ]
  },
  {
   "cell_type": "markdown",
   "id": "53c49700",
   "metadata": {
    "papermill": {
     "duration": 0.028868,
     "end_time": "2021-11-15T06:45:16.168612",
     "exception": false,
     "start_time": "2021-11-15T06:45:16.139744",
     "status": "completed"
    },
    "tags": []
   },
   "source": [
    "# Postprocess added in this version"
   ]
  },
  {
   "cell_type": "code",
   "execution_count": 23,
   "id": "0c2f96c1",
   "metadata": {
    "execution": {
     "iopub.execute_input": "2021-11-15T06:45:16.235556Z",
     "iopub.status.busy": "2021-11-15T06:45:16.234807Z",
     "iopub.status.idle": "2021-11-15T06:45:16.237455Z",
     "shell.execute_reply": "2021-11-15T06:45:16.237044Z"
    },
    "papermill": {
     "duration": 0.039839,
     "end_time": "2021-11-15T06:45:16.237563",
     "exception": false,
     "start_time": "2021-11-15T06:45:16.197724",
     "status": "completed"
    },
    "tags": []
   },
   "outputs": [],
   "source": [
    "bad_starts = [\".\", \",\", \"(\", \")\", \"-\", \"–\",  \",\", \";\"]\n",
    "bad_endings = [\"...\", \"-\", \"(\", \")\", \"–\", \",\", \";\"]\n",
    "\n",
    "tamil_ad = \"கி.பி\"\n",
    "tamil_bc = \"கி.மு\"\n",
    "tamil_km = \"கி.மீ\"\n",
    "hindi_ad = \"ई\"\n",
    "hindi_bc = \"ई.पू\"\n",
    "\n",
    "def postprocess(pred,context):\n",
    "    if pred == \"\":\n",
    "        return pred\n",
    "        \n",
    "    while any([pred.startswith(y) for y in bad_starts]):\n",
    "        pred = pred[1:]\n",
    "    while any([pred.endswith(y) for y in bad_endings]):\n",
    "        if pred.endswith(\"...\"):\n",
    "            pred = pred[:-3]\n",
    "        else:\n",
    "            pred = pred[:-1]\n",
    "    \n",
    "    if any([pred.endswith(tamil_ad), pred.endswith(tamil_bc), pred.endswith(tamil_km), pred.endswith(hindi_ad), pred.endswith(hindi_bc)]) and pred+\".\" in context:\n",
    "        pred = pred+\".\"\n",
    "    \n",
    "    return pred"
   ]
  },
  {
   "cell_type": "code",
   "execution_count": 24,
   "id": "1ec2f761",
   "metadata": {
    "editable": false,
    "execution": {
     "iopub.execute_input": "2021-11-15T06:45:16.301978Z",
     "iopub.status.busy": "2021-11-15T06:45:16.301126Z",
     "iopub.status.idle": "2021-11-15T06:45:16.303122Z",
     "shell.execute_reply": "2021-11-15T06:45:16.303594Z"
    },
    "papermill": {
     "duration": 0.036396,
     "end_time": "2021-11-15T06:45:16.303745",
     "exception": false,
     "start_time": "2021-11-15T06:45:16.267349",
     "status": "completed"
    },
    "tags": []
   },
   "outputs": [],
   "source": [
    "def cal_jac(str1, str2): \n",
    "    a = set(str1.lower().split()) \n",
    "    b = set(str2.lower().split())\n",
    "    c = a.intersection(b)\n",
    "    mx_score = float(len(c)) / (len(a) + len(b) - len(c))\n",
    "    return mx_score"
   ]
  },
  {
   "cell_type": "code",
   "execution_count": 25,
   "id": "d5b6f2ae",
   "metadata": {
    "execution": {
     "iopub.execute_input": "2021-11-15T06:45:16.370507Z",
     "iopub.status.busy": "2021-11-15T06:45:16.369868Z",
     "iopub.status.idle": "2021-11-15T06:45:16.612349Z",
     "shell.execute_reply": "2021-11-15T06:45:16.611551Z"
    },
    "papermill": {
     "duration": 0.278464,
     "end_time": "2021-11-15T06:45:16.612521",
     "exception": false,
     "start_time": "2021-11-15T06:45:16.334057",
     "status": "completed"
    },
    "tags": []
   },
   "outputs": [
    {
     "name": "stderr",
     "output_type": "stream",
     "text": [
      "100%|██████████| 3804/3804 [00:00<00:00, 16288.63it/s]\n"
     ]
    }
   ],
   "source": [
    "final_ans = []\n",
    "final_ques = []\n",
    "final_pre = []\n",
    "final_req_text = []\n",
    "jac_score =[]\n",
    "for i, val in enumerate(tqdm(z)):\n",
    "#     print(i)\n",
    "    for j in val:\n",
    "#         print(j)\n",
    "        pred_text = postprocess(j['text'],contexts[i])\n",
    "        postprocess_answer = postprocess(answers[i],contexts[i])\n",
    "        \n",
    "        final_ans.append(postprocess_answer)\n",
    "        final_ques.append(questions[i])        \n",
    "        final_pre.append(pred_text)\n",
    "        final_req_text.append(j['required_text'])\n",
    "        jac_score.append(cal_jac(postprocess_answer,pred_text))"
   ]
  },
  {
   "cell_type": "code",
   "execution_count": 26,
   "id": "1f63c6a6",
   "metadata": {
    "editable": false,
    "execution": {
     "iopub.execute_input": "2021-11-15T06:45:16.682199Z",
     "iopub.status.busy": "2021-11-15T06:45:16.681332Z",
     "iopub.status.idle": "2021-11-15T06:45:16.683402Z",
     "shell.execute_reply": "2021-11-15T06:45:16.683885Z"
    },
    "papermill": {
     "duration": 0.039469,
     "end_time": "2021-11-15T06:45:16.684048",
     "exception": false,
     "start_time": "2021-11-15T06:45:16.644579",
     "status": "completed"
    },
    "tags": []
   },
   "outputs": [],
   "source": [
    "final_df = pd.DataFrame()"
   ]
  },
  {
   "cell_type": "code",
   "execution_count": 27,
   "id": "cefa0c86",
   "metadata": {
    "editable": false,
    "execution": {
     "iopub.execute_input": "2021-11-15T06:45:16.765579Z",
     "iopub.status.busy": "2021-11-15T06:45:16.757431Z",
     "iopub.status.idle": "2021-11-15T06:45:16.772781Z",
     "shell.execute_reply": "2021-11-15T06:45:16.773226Z"
    },
    "papermill": {
     "duration": 0.058505,
     "end_time": "2021-11-15T06:45:16.773366",
     "exception": false,
     "start_time": "2021-11-15T06:45:16.714861",
     "status": "completed"
    },
    "tags": []
   },
   "outputs": [
    {
     "data": {
      "text/html": [
       "<div>\n",
       "<style scoped>\n",
       "    .dataframe tbody tr th:only-of-type {\n",
       "        vertical-align: middle;\n",
       "    }\n",
       "\n",
       "    .dataframe tbody tr th {\n",
       "        vertical-align: top;\n",
       "    }\n",
       "\n",
       "    .dataframe thead th {\n",
       "        text-align: right;\n",
       "    }\n",
       "</style>\n",
       "<table border=\"1\" class=\"dataframe\">\n",
       "  <thead>\n",
       "    <tr style=\"text-align: right;\">\n",
       "      <th></th>\n",
       "      <th>id</th>\n",
       "      <th>context</th>\n",
       "      <th>question</th>\n",
       "      <th>answer_text</th>\n",
       "      <th>answer_start</th>\n",
       "      <th>language</th>\n",
       "    </tr>\n",
       "  </thead>\n",
       "  <tbody>\n",
       "    <tr>\n",
       "      <th>0</th>\n",
       "      <td>903deec17</td>\n",
       "      <td>ஒரு சாதாரண வளர்ந்த மனிதனுடைய எலும்புக்கூடு பின...</td>\n",
       "      <td>மனித உடலில் எத்தனை எலும்புகள் உள்ளன?</td>\n",
       "      <td>206</td>\n",
       "      <td>53</td>\n",
       "      <td>tamil</td>\n",
       "    </tr>\n",
       "    <tr>\n",
       "      <th>1</th>\n",
       "      <td>d9841668c</td>\n",
       "      <td>காளிதாசன் (தேவநாகரி: कालिदास) சமஸ்கிருத இலக்கி...</td>\n",
       "      <td>காளிதாசன் எங்கு பிறந்தார்?</td>\n",
       "      <td>காசுமீரில்</td>\n",
       "      <td>2358</td>\n",
       "      <td>tamil</td>\n",
       "    </tr>\n",
       "    <tr>\n",
       "      <th>2</th>\n",
       "      <td>29d154b56</td>\n",
       "      <td>சர் அலெக்ஸாண்டர் ஃபிளெமிங் (Sir Alexander Flem...</td>\n",
       "      <td>பென்சிலின் கண்டுபிடித்தவர் யார்?</td>\n",
       "      <td>சர் அலெக்ஸாண்டர் ஃபிளெமிங்</td>\n",
       "      <td>0</td>\n",
       "      <td>tamil</td>\n",
       "    </tr>\n",
       "    <tr>\n",
       "      <th>3</th>\n",
       "      <td>41660850a</td>\n",
       "      <td>குழந்தையின் அழுகையை நிறுத்தவும், தூங்க வைக்கவு...</td>\n",
       "      <td>தமிழ்நாட்டில் குழந்தைகளை தூங்க வைக்க பாடும் பா...</td>\n",
       "      <td>தாலாட்டு</td>\n",
       "      <td>68</td>\n",
       "      <td>tamil</td>\n",
       "    </tr>\n",
       "    <tr>\n",
       "      <th>4</th>\n",
       "      <td>b29c82c22</td>\n",
       "      <td>சூரியக் குடும்பம் சூரியக் குடும்பம் (Solar Sys...</td>\n",
       "      <td>பூமியின் அருகில் உள்ள விண்மீன் எது?</td>\n",
       "      <td>சூரியனும்</td>\n",
       "      <td>585</td>\n",
       "      <td>tamil</td>\n",
       "    </tr>\n",
       "  </tbody>\n",
       "</table>\n",
       "</div>"
      ],
      "text/plain": [
       "          id                                            context  \\\n",
       "0  903deec17  ஒரு சாதாரண வளர்ந்த மனிதனுடைய எலும்புக்கூடு பின...   \n",
       "1  d9841668c  காளிதாசன் (தேவநாகரி: कालिदास) சமஸ்கிருத இலக்கி...   \n",
       "2  29d154b56  சர் அலெக்ஸாண்டர் ஃபிளெமிங் (Sir Alexander Flem...   \n",
       "3  41660850a  குழந்தையின் அழுகையை நிறுத்தவும், தூங்க வைக்கவு...   \n",
       "4  b29c82c22  சூரியக் குடும்பம் சூரியக் குடும்பம் (Solar Sys...   \n",
       "\n",
       "                                            question  \\\n",
       "0               மனித உடலில் எத்தனை எலும்புகள் உள்ளன?   \n",
       "1                         காளிதாசன் எங்கு பிறந்தார்?   \n",
       "2                   பென்சிலின் கண்டுபிடித்தவர் யார்?   \n",
       "3  தமிழ்நாட்டில் குழந்தைகளை தூங்க வைக்க பாடும் பா...   \n",
       "4                பூமியின் அருகில் உள்ள விண்மீன் எது?   \n",
       "\n",
       "                  answer_text  answer_start language  \n",
       "0                         206            53    tamil  \n",
       "1                  காசுமீரில்          2358    tamil  \n",
       "2  சர் அலெக்ஸாண்டர் ஃபிளெமிங்             0    tamil  \n",
       "3                    தாலாட்டு            68    tamil  \n",
       "4                   சூரியனும்           585    tamil  "
      ]
     },
     "execution_count": 27,
     "metadata": {},
     "output_type": "execute_result"
    }
   ],
   "source": [
    "test.head()"
   ]
  },
  {
   "cell_type": "code",
   "execution_count": 28,
   "id": "75af6890",
   "metadata": {
    "editable": false,
    "execution": {
     "iopub.execute_input": "2021-11-15T06:45:16.871742Z",
     "iopub.status.busy": "2021-11-15T06:45:16.846620Z",
     "iopub.status.idle": "2021-11-15T06:45:16.884983Z",
     "shell.execute_reply": "2021-11-15T06:45:16.885408Z"
    },
    "papermill": {
     "duration": 0.080582,
     "end_time": "2021-11-15T06:45:16.885556",
     "exception": false,
     "start_time": "2021-11-15T06:45:16.804974",
     "status": "completed"
    },
    "tags": []
   },
   "outputs": [
    {
     "data": {
      "text/html": [
       "<div>\n",
       "<style scoped>\n",
       "    .dataframe tbody tr th:only-of-type {\n",
       "        vertical-align: middle;\n",
       "    }\n",
       "\n",
       "    .dataframe tbody tr th {\n",
       "        vertical-align: top;\n",
       "    }\n",
       "\n",
       "    .dataframe thead th {\n",
       "        text-align: right;\n",
       "    }\n",
       "</style>\n",
       "<table border=\"1\" class=\"dataframe\">\n",
       "  <thead>\n",
       "    <tr style=\"text-align: right;\">\n",
       "      <th></th>\n",
       "      <th>answer_text</th>\n",
       "      <th>question</th>\n",
       "      <th>pred_text</th>\n",
       "      <th>require_text</th>\n",
       "      <th>jac_score</th>\n",
       "    </tr>\n",
       "  </thead>\n",
       "  <tbody>\n",
       "    <tr>\n",
       "      <th>0</th>\n",
       "      <td>206</td>\n",
       "      <td>மனித உடலில் எத்தனை எலும்புகள் உள்ளன?</td>\n",
       "      <td>206</td>\n",
       "      <td>ஒரு சாதாரண வளர்ந்த மனிதனுடைய எலும்புக்கூடு பின...</td>\n",
       "      <td>1.000000</td>\n",
       "    </tr>\n",
       "    <tr>\n",
       "      <th>1</th>\n",
       "      <td>206</td>\n",
       "      <td>மனித உடலில் எத்தனை எலும்புகள் உள்ளன?</td>\n",
       "      <td>206 (மார்பெலும்பு மூன்று பகுதிகளாகக் கருதப்பட...</td>\n",
       "      <td>ஒரு சாதாரண வளர்ந்த மனிதனுடைய எலும்புக்கூடு பின...</td>\n",
       "      <td>0.166667</td>\n",
       "    </tr>\n",
       "    <tr>\n",
       "      <th>2</th>\n",
       "      <td>206</td>\n",
       "      <td>மனித உடலில் எத்தனை எலும்புகள் உள்ளன?</td>\n",
       "      <td>208</td>\n",
       "      <td>ஒரு சாதாரண வளர்ந்த மனிதனுடைய எலும்புக்கூடு பின...</td>\n",
       "      <td>0.000000</td>\n",
       "    </tr>\n",
       "    <tr>\n",
       "      <th>3</th>\n",
       "      <td>206</td>\n",
       "      <td>மனித உடலில் எத்தனை எலும்புகள் உள்ளன?</td>\n",
       "      <td>206 (மார்பெலும்பு மூன்று பகுதிகளாகக் கருதப்பட...</td>\n",
       "      <td>ஒரு சாதாரண வளர்ந்த மனிதனுடைய எலும்புக்கூடு பின...</td>\n",
       "      <td>0.166667</td>\n",
       "    </tr>\n",
       "    <tr>\n",
       "      <th>4</th>\n",
       "      <td>206</td>\n",
       "      <td>மனித உடலில் எத்தனை எலும்புகள் உள்ளன?</td>\n",
       "      <td>206 (மார்பெலும்பு மூன்று பகுதிகளாகக் கருதப்பட...</td>\n",
       "      <td>ஒரு சாதாரண வளர்ந்த மனிதனுடைய எலும்புக்கூடு பின...</td>\n",
       "      <td>0.142857</td>\n",
       "    </tr>\n",
       "  </tbody>\n",
       "</table>\n",
       "</div>"
      ],
      "text/plain": [
       "  answer_text                              question  \\\n",
       "0         206  மனித உடலில் எத்தனை எலும்புகள் உள்ளன?   \n",
       "1         206  மனித உடலில் எத்தனை எலும்புகள் உள்ளன?   \n",
       "2         206  மனித உடலில் எத்தனை எலும்புகள் உள்ளன?   \n",
       "3         206  மனித உடலில் எத்தனை எலும்புகள் உள்ளன?   \n",
       "4         206  மனித உடலில் எத்தனை எலும்புகள் உள்ளன?   \n",
       "\n",
       "                                           pred_text  \\\n",
       "0                                                206   \n",
       "1   206 (மார்பெலும்பு மூன்று பகுதிகளாகக் கருதப்பட...   \n",
       "2                                                208   \n",
       "3   206 (மார்பெலும்பு மூன்று பகுதிகளாகக் கருதப்பட...   \n",
       "4   206 (மார்பெலும்பு மூன்று பகுதிகளாகக் கருதப்பட...   \n",
       "\n",
       "                                        require_text  jac_score  \n",
       "0  ஒரு சாதாரண வளர்ந்த மனிதனுடைய எலும்புக்கூடு பின...   1.000000  \n",
       "1  ஒரு சாதாரண வளர்ந்த மனிதனுடைய எலும்புக்கூடு பின...   0.166667  \n",
       "2  ஒரு சாதாரண வளர்ந்த மனிதனுடைய எலும்புக்கூடு பின...   0.000000  \n",
       "3  ஒரு சாதாரண வளர்ந்த மனிதனுடைய எலும்புக்கூடு பின...   0.166667  \n",
       "4  ஒரு சாதாரண வளர்ந்த மனிதனுடைய எலும்புக்கூடு பின...   0.142857  "
      ]
     },
     "execution_count": 28,
     "metadata": {},
     "output_type": "execute_result"
    }
   ],
   "source": [
    "final_df['answer_text'] = final_ans\n",
    "final_df['question'] = final_ques\n",
    "final_df['pred_text'] = final_pre\n",
    "final_df['require_text'] = final_req_text\n",
    "final_df['jac_score'] = jac_score\n",
    "final_df.head()"
   ]
  },
  {
   "cell_type": "code",
   "execution_count": 29,
   "id": "309b07a5",
   "metadata": {
    "editable": false,
    "execution": {
     "iopub.execute_input": "2021-11-15T06:45:16.955732Z",
     "iopub.status.busy": "2021-11-15T06:45:16.955204Z",
     "iopub.status.idle": "2021-11-15T06:45:17.278084Z",
     "shell.execute_reply": "2021-11-15T06:45:17.278509Z"
    },
    "papermill": {
     "duration": 0.359329,
     "end_time": "2021-11-15T06:45:17.278679",
     "exception": false,
     "start_time": "2021-11-15T06:45:16.919350",
     "status": "completed"
    },
    "tags": []
   },
   "outputs": [],
   "source": [
    "final_df.to_csv('training.csv',index=False)"
   ]
  },
  {
   "cell_type": "code",
   "execution_count": 30,
   "id": "fdc5a9a0",
   "metadata": {
    "editable": false,
    "execution": {
     "iopub.execute_input": "2021-11-15T06:45:17.350553Z",
     "iopub.status.busy": "2021-11-15T06:45:17.349665Z",
     "iopub.status.idle": "2021-11-15T06:45:17.352408Z",
     "shell.execute_reply": "2021-11-15T06:45:17.351989Z",
     "shell.execute_reply.started": "2021-11-13T05:05:14.082359Z"
    },
    "papermill": {
     "duration": 0.041091,
     "end_time": "2021-11-15T06:45:17.352521",
     "exception": false,
     "start_time": "2021-11-15T06:45:17.311430",
     "status": "completed"
    },
    "tags": []
   },
   "outputs": [],
   "source": [
    "# final_df"
   ]
  },
  {
   "cell_type": "code",
   "execution_count": 31,
   "id": "a329d813",
   "metadata": {
    "editable": false,
    "execution": {
     "iopub.execute_input": "2021-11-15T06:45:17.422853Z",
     "iopub.status.busy": "2021-11-15T06:45:17.421933Z",
     "iopub.status.idle": "2021-11-15T06:45:17.424602Z",
     "shell.execute_reply": "2021-11-15T06:45:17.424177Z",
     "shell.execute_reply.started": "2021-11-13T05:05:14.088126Z"
    },
    "papermill": {
     "duration": 0.038789,
     "end_time": "2021-11-15T06:45:17.424709",
     "exception": false,
     "start_time": "2021-11-15T06:45:17.385920",
     "status": "completed"
    },
    "tags": []
   },
   "outputs": [],
   "source": [
    "# final_pre"
   ]
  },
  {
   "cell_type": "code",
   "execution_count": null,
   "id": "7bbefa89",
   "metadata": {
    "editable": false,
    "papermill": {
     "duration": 0.032649,
     "end_time": "2021-11-15T06:45:17.489388",
     "exception": false,
     "start_time": "2021-11-15T06:45:17.456739",
     "status": "completed"
    },
    "tags": []
   },
   "outputs": [],
   "source": []
  },
  {
   "cell_type": "markdown",
   "id": "7d878156",
   "metadata": {
    "papermill": {
     "duration": 0.032119,
     "end_time": "2021-11-15T06:45:17.553947",
     "exception": false,
     "start_time": "2021-11-15T06:45:17.521828",
     "status": "completed"
    },
    "tags": []
   },
   "source": []
  }
 ],
 "metadata": {
  "kernelspec": {
   "display_name": "Python 3",
   "language": "python",
   "name": "python3"
  },
  "language_info": {
   "codemirror_mode": {
    "name": "ipython",
    "version": 3
   },
   "file_extension": ".py",
   "mimetype": "text/x-python",
   "name": "python",
   "nbconvert_exporter": "python",
   "pygments_lexer": "ipython3",
   "version": "3.7.10"
  },
  "papermill": {
   "default_parameters": {},
   "duration": 3781.569437,
   "end_time": "2021-11-15T06:45:20.877348",
   "environment_variables": {},
   "exception": null,
   "input_path": "__notebook__.ipynb",
   "output_path": "__notebook__.ipynb",
   "parameters": {},
   "start_time": "2021-11-15T05:42:19.307911",
   "version": "2.3.3"
  }
 },
 "nbformat": 4,
 "nbformat_minor": 5
}
