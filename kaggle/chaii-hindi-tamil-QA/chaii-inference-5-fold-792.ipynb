{
 "cells": [
  {
   "cell_type": "markdown",
   "id": "76125c05",
   "metadata": {
    "papermill": {
     "duration": 0.00941,
     "end_time": "2021-10-02T02:29:26.256964",
     "exception": false,
     "start_time": "2021-10-02T02:29:26.247554",
     "status": "completed"
    },
    "tags": []
   },
   "source": [
    "Special thanks to @abhishek and @nbroad and @rhtsingh for their notebooks:\n",
    "\n",
    "https://www.kaggle.com/abhishek/hello-friends-chaii-pi-lo\n",
    "\n",
    "https://www.kaggle.com/nbroad/chaii-qa-torch-5-fold-with-post-processing-765\n",
    "\n",
    "https://www.kaggle.com/rhtsingh/chaii-qa-5-fold-xlmroberta-torch-fit"
   ]
  },
  {
   "cell_type": "code",
   "execution_count": 1,
   "id": "71917a1b",
   "metadata": {
    "execution": {
     "iopub.execute_input": "2021-10-02T02:29:26.280292Z",
     "iopub.status.busy": "2021-10-02T02:29:26.278816Z",
     "iopub.status.idle": "2021-10-02T02:29:36.795200Z",
     "shell.execute_reply": "2021-10-02T02:29:36.795635Z"
    },
    "papermill": {
     "duration": 10.529334,
     "end_time": "2021-10-02T02:29:36.795910",
     "exception": false,
     "start_time": "2021-10-02T02:29:26.266576",
     "status": "completed"
    },
    "tags": []
   },
   "outputs": [
    {
     "name": "stderr",
     "output_type": "stream",
     "text": [
      "2021-10-02 02:29:32.258740: I tensorflow/stream_executor/platform/default/dso_loader.cc:49] Successfully opened dynamic library libcudart.so.11.0\n"
     ]
    },
    {
     "name": "stdout",
     "output_type": "stream",
     "text": [
      "Apex AMP Installed :: False\n"
     ]
    }
   ],
   "source": [
    "import os\n",
    "os.environ[\"TOKENIZERS_PARALLELISM\"] = \"false\"\n",
    "import gc\n",
    "gc.enable()\n",
    "import math\n",
    "import json\n",
    "import time\n",
    "import random\n",
    "import multiprocessing\n",
    "import warnings\n",
    "warnings.filterwarnings(\"ignore\", category=UserWarning)\n",
    "\n",
    "import numpy as np\n",
    "import pandas as pd\n",
    "from tqdm import tqdm, trange\n",
    "from sklearn import model_selection\n",
    "from string import punctuation\n",
    "\n",
    "import torch\n",
    "import torch.nn as nn\n",
    "import torch.nn.functional as F\n",
    "from torch.nn import Parameter\n",
    "import torch.optim as optim\n",
    "from torch.utils.data import (\n",
    "    Dataset, DataLoader,\n",
    "    SequentialSampler, RandomSampler\n",
    ")\n",
    "from torch.utils.data.distributed import DistributedSampler\n",
    "\n",
    "try:\n",
    "    from apex import amp\n",
    "    APEX_INSTALLED = True\n",
    "except ImportError:\n",
    "    APEX_INSTALLED = False\n",
    "\n",
    "import transformers\n",
    "from transformers import (\n",
    "    WEIGHTS_NAME,\n",
    "    AdamW,\n",
    "    AutoConfig,\n",
    "    AutoModel,\n",
    "    AutoTokenizer,\n",
    "    get_cosine_schedule_with_warmup,\n",
    "    get_linear_schedule_with_warmup,\n",
    "    logging,\n",
    "    MODEL_FOR_QUESTION_ANSWERING_MAPPING,\n",
    ")\n",
    "logging.set_verbosity_warning()\n",
    "logging.set_verbosity_error()\n",
    "\n",
    "def fix_all_seeds(seed):\n",
    "    np.random.seed(seed)\n",
    "    random.seed(seed)\n",
    "    os.environ['PYTHONHASHSEED'] = str(seed)\n",
    "    torch.manual_seed(seed)\n",
    "    torch.cuda.manual_seed(seed)\n",
    "    torch.cuda.manual_seed_all(seed)\n",
    "\n",
    "def optimal_num_of_loader_workers():\n",
    "    num_cpus = multiprocessing.cpu_count()\n",
    "    num_gpus = torch.cuda.device_count()\n",
    "    optimal_value = min(num_cpus, num_gpus*4) if num_gpus else num_cpus - 1\n",
    "    return optimal_value\n",
    "\n",
    "print(f\"Apex AMP Installed :: {APEX_INSTALLED}\")\n",
    "MODEL_CONFIG_CLASSES = list(MODEL_FOR_QUESTION_ANSWERING_MAPPING.keys())\n",
    "MODEL_TYPES = tuple(conf.model_type for conf in MODEL_CONFIG_CLASSES)"
   ]
  },
  {
   "cell_type": "code",
   "execution_count": 2,
   "id": "fb170e63",
   "metadata": {
    "execution": {
     "iopub.execute_input": "2021-10-02T02:29:36.820649Z",
     "iopub.status.busy": "2021-10-02T02:29:36.816614Z",
     "iopub.status.idle": "2021-10-02T02:29:36.822843Z",
     "shell.execute_reply": "2021-10-02T02:29:36.822424Z"
    },
    "papermill": {
     "duration": 0.017446,
     "end_time": "2021-10-02T02:29:36.822953",
     "exception": false,
     "start_time": "2021-10-02T02:29:36.805507",
     "status": "completed"
    },
    "tags": []
   },
   "outputs": [],
   "source": [
    "class Config:\n",
    "    # model\n",
    "    model_type = 'xlm_roberta'\n",
    "    model_name_or_path = \"../input/xlm-roberta-large-squad-v2\"\n",
    "    config_name = \"../input/xlm-roberta-large-squad-v2\"\n",
    "    fp16 = True if APEX_INSTALLED else False\n",
    "    fp16_opt_level = \"O1\"\n",
    "    gradient_accumulation_steps = 2\n",
    "\n",
    "    # tokenizer\n",
    "    tokenizer_name = \"../input/xlm-roberta-large-squad-v2\"\n",
    "    max_seq_length = 384#400\n",
    "    doc_stride = 128#135\n",
    "\n",
    "    # train\n",
    "    epochs = 1\n",
    "    train_batch_size = 4\n",
    "    eval_batch_size = 128\n",
    "\n",
    "    # optimzer\n",
    "    optimizer_type = 'AdamW'\n",
    "    learning_rate = 1e-5\n",
    "    weight_decay = 1e-2\n",
    "    epsilon = 1e-8\n",
    "    max_grad_norm = 1.0\n",
    "\n",
    "    # scheduler\n",
    "    decay_name = 'linear-warmup'\n",
    "    warmup_ratio = 0.1\n",
    "\n",
    "    # logging\n",
    "    logging_steps = 10\n",
    "\n",
    "    # evaluate\n",
    "    output_dir = 'output'\n",
    "    seed = 2021"
   ]
  },
  {
   "cell_type": "code",
   "execution_count": 3,
   "id": "7f5dbed8",
   "metadata": {
    "execution": {
     "iopub.execute_input": "2021-10-02T02:29:36.850322Z",
     "iopub.status.busy": "2021-10-02T02:29:36.849574Z",
     "iopub.status.idle": "2021-10-02T02:29:36.851482Z",
     "shell.execute_reply": "2021-10-02T02:29:36.851972Z"
    },
    "papermill": {
     "duration": 0.019958,
     "end_time": "2021-10-02T02:29:36.852096",
     "exception": false,
     "start_time": "2021-10-02T02:29:36.832138",
     "status": "completed"
    },
    "tags": []
   },
   "outputs": [],
   "source": [
    "class DatasetRetriever(Dataset):\n",
    "    def __init__(self, features, mode='train'):\n",
    "        super(DatasetRetriever, self).__init__()\n",
    "        self.features = features\n",
    "        self.mode = mode\n",
    "        \n",
    "    def __len__(self):\n",
    "        return len(self.features)\n",
    "    \n",
    "    def __getitem__(self, item):   \n",
    "        feature = self.features[item]\n",
    "        if self.mode == 'train':\n",
    "            return {\n",
    "                'input_ids':torch.tensor(feature['input_ids'], dtype=torch.long),\n",
    "                'attention_mask':torch.tensor(feature['attention_mask'], dtype=torch.long),\n",
    "                'offset_mapping':torch.tensor(feature['offset_mapping'], dtype=torch.long),\n",
    "                'start_position':torch.tensor(feature['start_position'], dtype=torch.long),\n",
    "                'end_position':torch.tensor(feature['end_position'], dtype=torch.long)\n",
    "            }\n",
    "        else:\n",
    "            return {\n",
    "                'input_ids':torch.tensor(feature['input_ids'], dtype=torch.long),\n",
    "                'attention_mask':torch.tensor(feature['attention_mask'], dtype=torch.long),\n",
    "                'offset_mapping':feature['offset_mapping'],\n",
    "                'sequence_ids':feature['sequence_ids'],\n",
    "                'id':feature['example_id'],\n",
    "                'context': feature['context'],\n",
    "                'question': feature['question']\n",
    "            }"
   ]
  },
  {
   "cell_type": "code",
   "execution_count": 4,
   "id": "d8b3b051",
   "metadata": {
    "execution": {
     "iopub.execute_input": "2021-10-02T02:29:36.878833Z",
     "iopub.status.busy": "2021-10-02T02:29:36.872438Z",
     "iopub.status.idle": "2021-10-02T02:29:36.880782Z",
     "shell.execute_reply": "2021-10-02T02:29:36.881161Z"
    },
    "papermill": {
     "duration": 0.019928,
     "end_time": "2021-10-02T02:29:36.881283",
     "exception": false,
     "start_time": "2021-10-02T02:29:36.861355",
     "status": "completed"
    },
    "tags": []
   },
   "outputs": [],
   "source": [
    "class Model(nn.Module):\n",
    "    def __init__(self, modelname_or_path, config):\n",
    "        super(Model, self).__init__()\n",
    "        self.config = config\n",
    "        self.xlm_roberta = AutoModel.from_pretrained(modelname_or_path, config=config)\n",
    "        self.qa_outputs = nn.Linear(config.hidden_size, 2)\n",
    "        self.dropout = nn.Dropout(config.hidden_dropout_prob)\n",
    "        self._init_weights(self.qa_outputs)\n",
    "        \n",
    "    def _init_weights(self, module):\n",
    "        if isinstance(module, nn.Linear):\n",
    "            module.weight.data.normal_(mean=0.0, std=self.config.initializer_range)\n",
    "            if module.bias is not None:\n",
    "                module.bias.data.zero_()\n",
    "\n",
    "    def forward(\n",
    "        self, \n",
    "        input_ids, \n",
    "        attention_mask=None, \n",
    "    ):\n",
    "        outputs = self.xlm_roberta(\n",
    "            input_ids,\n",
    "            attention_mask=attention_mask,\n",
    "        )\n",
    "\n",
    "        sequence_output = outputs[0]\n",
    "        pooled_output = outputs[1]\n",
    "        \n",
    "        # sequence_output = self.dropout(sequence_output)\n",
    "        qa_logits = self.qa_outputs(sequence_output)\n",
    "        \n",
    "        start_logits, end_logits = qa_logits.split(1, dim=-1)\n",
    "        start_logits = start_logits.squeeze(-1)\n",
    "        end_logits = end_logits.squeeze(-1)\n",
    "    \n",
    "        return start_logits, end_logits"
   ]
  },
  {
   "cell_type": "code",
   "execution_count": 5,
   "id": "a86855ee",
   "metadata": {
    "execution": {
     "iopub.execute_input": "2021-10-02T02:29:36.902680Z",
     "iopub.status.busy": "2021-10-02T02:29:36.901843Z",
     "iopub.status.idle": "2021-10-02T02:29:36.906917Z",
     "shell.execute_reply": "2021-10-02T02:29:36.906476Z"
    },
    "papermill": {
     "duration": 0.016539,
     "end_time": "2021-10-02T02:29:36.907028",
     "exception": false,
     "start_time": "2021-10-02T02:29:36.890489",
     "status": "completed"
    },
    "tags": []
   },
   "outputs": [],
   "source": [
    "def make_model(args):\n",
    "    config = AutoConfig.from_pretrained(args.config_name)\n",
    "    tokenizer = AutoTokenizer.from_pretrained(args.tokenizer_name)\n",
    "    model = Model(args.model_name_or_path, config=config)\n",
    "    return config, tokenizer, model"
   ]
  },
  {
   "cell_type": "code",
   "execution_count": 6,
   "id": "200fb376",
   "metadata": {
    "execution": {
     "iopub.execute_input": "2021-10-02T02:29:36.933809Z",
     "iopub.status.busy": "2021-10-02T02:29:36.932972Z",
     "iopub.status.idle": "2021-10-02T02:29:36.935493Z",
     "shell.execute_reply": "2021-10-02T02:29:36.935046Z"
    },
    "papermill": {
     "duration": 0.019098,
     "end_time": "2021-10-02T02:29:36.935601",
     "exception": false,
     "start_time": "2021-10-02T02:29:36.916503",
     "status": "completed"
    },
    "tags": []
   },
   "outputs": [],
   "source": [
    "def prepare_test_features(args, example, tokenizer):\n",
    "    example[\"question\"] = example[\"question\"].lstrip()\n",
    "    \n",
    "    tokenized_example = tokenizer(\n",
    "        example[\"question\"],\n",
    "        example[\"context\"],\n",
    "        truncation=\"only_second\",\n",
    "        max_length=args.max_seq_length,\n",
    "        stride=args.doc_stride,\n",
    "        return_overflowing_tokens=True,\n",
    "        return_offsets_mapping=True,\n",
    "        padding=\"max_length\",\n",
    "    )\n",
    "\n",
    "    features = []\n",
    "    for i in range(len(tokenized_example[\"input_ids\"])):\n",
    "        feature = {}\n",
    "        feature[\"example_id\"] = example['id']\n",
    "        feature['context'] = example['context']\n",
    "        feature['question'] = example['question']\n",
    "        feature['input_ids'] = tokenized_example['input_ids'][i]\n",
    "        feature['attention_mask'] = tokenized_example['attention_mask'][i]\n",
    "        feature['offset_mapping'] = tokenized_example['offset_mapping'][i]\n",
    "        feature['sequence_ids'] = [0 if i is None else i for i in tokenized_example.sequence_ids(i)]\n",
    "        features.append(feature)\n",
    "    return features"
   ]
  },
  {
   "cell_type": "code",
   "execution_count": 7,
   "id": "1e6544eb",
   "metadata": {
    "execution": {
     "iopub.execute_input": "2021-10-02T02:29:36.969905Z",
     "iopub.status.busy": "2021-10-02T02:29:36.967667Z",
     "iopub.status.idle": "2021-10-02T02:29:36.972275Z",
     "shell.execute_reply": "2021-10-02T02:29:36.971851Z"
    },
    "papermill": {
     "duration": 0.027015,
     "end_time": "2021-10-02T02:29:36.972381",
     "exception": false,
     "start_time": "2021-10-02T02:29:36.945366",
     "status": "completed"
    },
    "tags": []
   },
   "outputs": [],
   "source": [
    "import collections\n",
    "\n",
    "def postprocess_qa_predictions(examples, features, raw_predictions, n_best_size = 20, max_answer_length = 30):\n",
    "    all_start_logits, all_end_logits = raw_predictions\n",
    "    \n",
    "    example_id_to_index = {k: i for i, k in enumerate(examples[\"id\"])}\n",
    "    features_per_example = collections.defaultdict(list)\n",
    "    for i, feature in enumerate(features):\n",
    "        features_per_example[example_id_to_index[feature[\"example_id\"]]].append(i)\n",
    "\n",
    "    predictions = collections.OrderedDict()\n",
    "\n",
    "    print(f\"Post-processing {len(examples)} example predictions split into {len(features)} features.\")\n",
    "\n",
    "    for example_index, example in examples.iterrows():\n",
    "        feature_indices = features_per_example[example_index]\n",
    "\n",
    "        min_null_score = None\n",
    "        valid_answers = []\n",
    "        \n",
    "        context = example[\"context\"]\n",
    "        for feature_index in feature_indices:\n",
    "            start_logits = all_start_logits[feature_index]\n",
    "            end_logits = all_end_logits[feature_index]\n",
    "\n",
    "            sequence_ids = features[feature_index][\"sequence_ids\"]\n",
    "            context_index = 1\n",
    "\n",
    "            features[feature_index][\"offset_mapping\"] = [\n",
    "                (o if sequence_ids[k] == context_index else None)\n",
    "                for k, o in enumerate(features[feature_index][\"offset_mapping\"])\n",
    "            ]\n",
    "            offset_mapping = features[feature_index][\"offset_mapping\"]\n",
    "            cls_index = features[feature_index][\"input_ids\"].index(tokenizer.cls_token_id)\n",
    "            feature_null_score = start_logits[cls_index] + end_logits[cls_index]\n",
    "            if min_null_score is None or min_null_score < feature_null_score:\n",
    "                min_null_score = feature_null_score\n",
    "\n",
    "            start_indexes = np.argsort(start_logits)[-1 : -n_best_size - 1 : -1].tolist()\n",
    "            end_indexes = np.argsort(end_logits)[-1 : -n_best_size - 1 : -1].tolist()\n",
    "            for start_index in start_indexes:\n",
    "                for end_index in end_indexes:\n",
    "                    if (\n",
    "                        start_index >= len(offset_mapping)\n",
    "                        or end_index >= len(offset_mapping)\n",
    "                        or offset_mapping[start_index] is None\n",
    "                        or offset_mapping[end_index] is None\n",
    "                    ):\n",
    "                        continue\n",
    "                    # Don't consider answers with a length that is either < 0 or > max_answer_length.\n",
    "                    if end_index < start_index or end_index - start_index + 1 > max_answer_length:\n",
    "                        continue\n",
    "\n",
    "                    start_char = offset_mapping[start_index][0]\n",
    "                    end_char = offset_mapping[end_index][1]\n",
    "                    valid_answers.append(\n",
    "                        {\n",
    "                            \"score\": start_logits[start_index] + end_logits[end_index],\n",
    "                            \"text\": context[start_char: end_char]\n",
    "                        }\n",
    "                    )\n",
    "        \n",
    "        if len(valid_answers) > 0:\n",
    "            best_answer = sorted(valid_answers, key=lambda x: x[\"score\"], reverse=True)[0]\n",
    "        else:\n",
    "            best_answer = {\"text\": \"\", \"score\": 0.0}\n",
    "        \n",
    "        predictions[example[\"id\"]] = best_answer[\"text\"]\n",
    "        \n",
    "        \n",
    "    return predictions"
   ]
  },
  {
   "cell_type": "code",
   "execution_count": 8,
   "id": "ca7fa308",
   "metadata": {
    "execution": {
     "iopub.execute_input": "2021-10-02T02:29:36.998536Z",
     "iopub.status.busy": "2021-10-02T02:29:36.997874Z",
     "iopub.status.idle": "2021-10-02T02:29:38.498492Z",
     "shell.execute_reply": "2021-10-02T02:29:38.497971Z"
    },
    "papermill": {
     "duration": 1.516744,
     "end_time": "2021-10-02T02:29:38.498621",
     "exception": false,
     "start_time": "2021-10-02T02:29:36.981877",
     "status": "completed"
    },
    "tags": []
   },
   "outputs": [],
   "source": [
    "test = pd.read_csv('../input/chaii-hindi-and-tamil-question-answering/test.csv')\n",
    "\n",
    "test['context'] = test['context'].apply(lambda x: ' '.join(x.split()))\n",
    "test['question'] = test['question'].apply(lambda x: ' '.join(x.split()))\n",
    "\n",
    "#base_model_path = '../input/chaii-qa-5-fold-xlmroberta-torch-fit'\n",
    "# test=test[:10]\n",
    "#test=test[:10]\n",
    "tokenizer = AutoTokenizer.from_pretrained(Config().tokenizer_name)\n",
    "\n",
    "test_features = []\n",
    "for i, row in test.iterrows():\n",
    "    test_features += prepare_test_features(Config(), row, tokenizer)\n",
    "\n",
    "args = Config()\n",
    "test_dataset = DatasetRetriever(test_features, mode='test')\n",
    "test_dataloader = DataLoader(\n",
    "    test_dataset,\n",
    "    batch_size=args.eval_batch_size, \n",
    "    sampler=SequentialSampler(test_dataset),\n",
    "    num_workers=optimal_num_of_loader_workers(),\n",
    "    pin_memory=True, \n",
    "    drop_last=False\n",
    ")"
   ]
  },
  {
   "cell_type": "code",
   "execution_count": 9,
   "id": "3e0110ce",
   "metadata": {
    "execution": {
     "iopub.execute_input": "2021-10-02T02:29:38.523528Z",
     "iopub.status.busy": "2021-10-02T02:29:38.522753Z",
     "iopub.status.idle": "2021-10-02T02:29:38.524786Z",
     "shell.execute_reply": "2021-10-02T02:29:38.525186Z"
    },
    "papermill": {
     "duration": 0.015734,
     "end_time": "2021-10-02T02:29:38.525319",
     "exception": false,
     "start_time": "2021-10-02T02:29:38.509585",
     "status": "completed"
    },
    "tags": []
   },
   "outputs": [],
   "source": [
    "base_model = '../input/chaii-xlmr-5-fold/output/'"
   ]
  },
  {
   "cell_type": "code",
   "execution_count": 10,
   "id": "aba92e1a",
   "metadata": {
    "execution": {
     "iopub.execute_input": "2021-10-02T02:29:38.552952Z",
     "iopub.status.busy": "2021-10-02T02:29:38.552165Z",
     "iopub.status.idle": "2021-10-02T02:29:38.554531Z",
     "shell.execute_reply": "2021-10-02T02:29:38.554105Z"
    },
    "papermill": {
     "duration": 0.019692,
     "end_time": "2021-10-02T02:29:38.554640",
     "exception": false,
     "start_time": "2021-10-02T02:29:38.534948",
     "status": "completed"
    },
    "tags": []
   },
   "outputs": [],
   "source": [
    "def get_predictions(checkpoint_path):\n",
    "    config, tokenizer, model = make_model(Config())\n",
    "    model.cuda();\n",
    "    model.load_state_dict(\n",
    "        torch.load(base_model + checkpoint_path)\n",
    "    );\n",
    "    \n",
    "    start_logits = []\n",
    "    end_logits = []\n",
    "    for batch in test_dataloader:\n",
    "        with torch.no_grad():\n",
    "            outputs_start, outputs_end = model(batch['input_ids'].cuda(), batch['attention_mask'].cuda())\n",
    "            start_logits.append(outputs_start.cpu().numpy().tolist())\n",
    "            end_logits.append(outputs_end.cpu().numpy().tolist())\n",
    "            del outputs_start, outputs_end\n",
    "    del model, tokenizer, config\n",
    "    gc.collect()\n",
    "    return np.vstack(start_logits), np.vstack(end_logits)"
   ]
  },
  {
   "cell_type": "code",
   "execution_count": 11,
   "id": "2f661bcf",
   "metadata": {
    "execution": {
     "iopub.execute_input": "2021-10-02T02:29:38.581126Z",
     "iopub.status.busy": "2021-10-02T02:29:38.580593Z",
     "iopub.status.idle": "2021-10-02T02:32:40.656683Z",
     "shell.execute_reply": "2021-10-02T02:32:40.657335Z"
    },
    "papermill": {
     "duration": 182.093176,
     "end_time": "2021-10-02T02:32:40.657591",
     "exception": false,
     "start_time": "2021-10-02T02:29:38.564415",
     "status": "completed"
    },
    "tags": []
   },
   "outputs": [
    {
     "name": "stdout",
     "output_type": "stream",
     "text": [
      "Post-processing 5 example predictions split into 67 features.\n"
     ]
    }
   ],
   "source": [
    "start_logits1, end_logits1 = get_predictions('checkpoint-fold-0/pytorch_model.bin')\n",
    "start_logits2, end_logits2 = get_predictions('checkpoint-fold-1/pytorch_model.bin')\n",
    "start_logits3, end_logits3 = get_predictions('checkpoint-fold-2/pytorch_model.bin')\n",
    "start_logits4, end_logits4 = get_predictions('checkpoint-fold-3/pytorch_model.bin')\n",
    "start_logits5, end_logits5 = get_predictions('checkpoint-fold-4/pytorch_model.bin')\n",
    "\n",
    "\n",
    "\n",
    "start_logits = (start_logits1 + start_logits2 + start_logits3 + start_logits4+ start_logits5)/5\n",
    "end_logits = (end_logits1 + end_logits2 + end_logits3 + end_logits4 + end_logits5 )/5\n",
    "\n",
    "\n",
    "\n",
    "fin_preds = postprocess_qa_predictions(test, test_features, (start_logits, end_logits))\n",
    "\n",
    "submission = []\n",
    "for p1, p2 in fin_preds.items():\n",
    "    p2 = \" \".join(p2.split())\n",
    "    p2 = p2.strip(punctuation)\n",
    "    submission.append((p1, p2))\n",
    "    \n",
    "sample = pd.DataFrame(submission, columns=[\"id\", \"PredictionString\"])\n",
    "\n",
    "test_data =pd.merge(left=test,right=sample,on='id')"
   ]
  },
  {
   "cell_type": "code",
   "execution_count": 12,
   "id": "cd934963",
   "metadata": {
    "execution": {
     "iopub.execute_input": "2021-10-02T02:32:40.693507Z",
     "iopub.status.busy": "2021-10-02T02:32:40.692872Z",
     "iopub.status.idle": "2021-10-02T02:32:40.705861Z",
     "shell.execute_reply": "2021-10-02T02:32:40.705361Z"
    },
    "papermill": {
     "duration": 0.036252,
     "end_time": "2021-10-02T02:32:40.705986",
     "exception": false,
     "start_time": "2021-10-02T02:32:40.669734",
     "status": "completed"
    },
    "tags": []
   },
   "outputs": [],
   "source": [
    "bad_starts = [\".\", \",\", \"(\", \")\", \"-\", \"–\",  \",\", \";\"]\n",
    "bad_endings = [\"...\", \"-\", \"(\", \")\", \"–\", \",\", \";\"]\n",
    "\n",
    "tamil_ad = \"கி.பி\"\n",
    "tamil_bc = \"கி.மு\"\n",
    "tamil_km = \"கி.மீ\"\n",
    "hindi_ad = \"ई\"\n",
    "hindi_bc = \"ई.पू\"\n",
    "\n",
    "\n",
    "cleaned_preds = []\n",
    "for pred, context in test_data[[\"PredictionString\", \"context\"]].to_numpy():\n",
    "    if pred == \"\":\n",
    "        cleaned_preds.append(pred)\n",
    "        continue\n",
    "    while any([pred.startswith(y) for y in bad_starts]):\n",
    "        pred = pred[1:]\n",
    "    while any([pred.endswith(y) for y in bad_endings]):\n",
    "        if pred.endswith(\"...\"):\n",
    "            pred = pred[:-3]\n",
    "        else:\n",
    "            pred = pred[:-1]\n",
    "    if pred.endswith(\"...\"):\n",
    "            pred = pred[:-3]\n",
    "    \n",
    "    if any([pred.endswith(tamil_ad), pred.endswith(tamil_bc), pred.endswith(tamil_km), pred.endswith(hindi_ad), pred.endswith(hindi_bc)]) and pred+\".\" in context:\n",
    "        pred = pred+\".\"\n",
    "        \n",
    "    cleaned_preds.append(pred)\n",
    "\n",
    "test_data[\"PredictionString\"] = cleaned_preds\n",
    "test_data[['id', 'PredictionString']].to_csv('submission.csv', index=False)"
   ]
  }
 ],
 "metadata": {
  "kernelspec": {
   "display_name": "Python 3",
   "language": "python",
   "name": "python3"
  },
  "language_info": {
   "codemirror_mode": {
    "name": "ipython",
    "version": 3
   },
   "file_extension": ".py",
   "mimetype": "text/x-python",
   "name": "python",
   "nbconvert_exporter": "python",
   "pygments_lexer": "ipython3",
   "version": "3.7.10"
  },
  "papermill": {
   "default_parameters": {},
   "duration": 204.684746,
   "end_time": "2021-10-02T02:32:44.248945",
   "environment_variables": {},
   "exception": null,
   "input_path": "__notebook__.ipynb",
   "output_path": "__notebook__.ipynb",
   "parameters": {},
   "start_time": "2021-10-02T02:29:19.564199",
   "version": "2.3.3"
  }
 },
 "nbformat": 4,
 "nbformat_minor": 5
}
