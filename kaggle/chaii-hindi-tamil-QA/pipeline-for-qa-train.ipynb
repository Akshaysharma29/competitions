{
 "cells": [
  {
   "cell_type": "code",
   "execution_count": 1,
   "id": "33969483",
   "metadata": {
    "_cell_guid": "b1076dfc-b9ad-4769-8c92-a6c4dae69d19",
    "_uuid": "8f2839f25d086af736a60e9eeb907d3b93b6e0e5",
    "execution": {
     "iopub.execute_input": "2021-08-20T03:07:07.923639Z",
     "iopub.status.busy": "2021-08-20T03:07:07.922055Z",
     "iopub.status.idle": "2021-08-20T03:07:07.925196Z",
     "shell.execute_reply": "2021-08-20T03:07:07.925770Z",
     "shell.execute_reply.started": "2021-08-20T03:01:58.140003Z"
    },
    "papermill": {
     "duration": 0.042833,
     "end_time": "2021-08-20T03:07:07.926131",
     "exception": false,
     "start_time": "2021-08-20T03:07:07.883298",
     "status": "completed"
    },
    "tags": []
   },
   "outputs": [],
   "source": [
    "# # This Python 3 environment comes with many helpful analytics libraries installed\n",
    "# # It is defined by the kaggle/python Docker image: https://github.com/kaggle/docker-python\n",
    "# # For example, here's several helpful packages to load\n",
    "\n",
    "# import numpy as np # linear algebra\n",
    "# import pandas as pd # data processing, CSV file I/O (e.g. pd.read_csv)\n",
    "\n",
    "# # Input data files are available in the read-only \"../input/\" directory\n",
    "# # For example, running this (by clicking run or pressing Shift+Enter) will list all files under the input directory\n",
    "\n",
    "# import os\n",
    "# for dirname, _, filenames in os.walk('/kaggle/input'):\n",
    "#     for filename in filenames:\n",
    "#         print(os.path.join(dirname, filename))\n",
    "\n",
    "# # You can write up to 20GB to the current directory (/kaggle/working/) that gets preserved as output when you create a version using \"Save & Run All\" \n",
    "# # You can also write temporary files to /kaggle/temp/, but they won't be saved outside of the current session"
   ]
  },
  {
   "cell_type": "markdown",
   "id": "a16f23a9",
   "metadata": {
    "papermill": {
     "duration": 0.026936,
     "end_time": "2021-08-20T03:07:07.979869",
     "exception": false,
     "start_time": "2021-08-20T03:07:07.952933",
     "status": "completed"
    },
    "tags": []
   },
   "source": [
    "# Reading data"
   ]
  },
  {
   "cell_type": "code",
   "execution_count": 2,
   "id": "5785627c",
   "metadata": {
    "execution": {
     "iopub.execute_input": "2021-08-20T03:07:08.114728Z",
     "iopub.status.busy": "2021-08-20T03:07:08.113918Z",
     "iopub.status.idle": "2021-08-20T03:07:09.113359Z",
     "shell.execute_reply": "2021-08-20T03:07:09.112548Z",
     "shell.execute_reply.started": "2021-08-20T03:01:58.566481Z"
    },
    "papermill": {
     "duration": 1.106349,
     "end_time": "2021-08-20T03:07:09.113517",
     "exception": false,
     "start_time": "2021-08-20T03:07:08.007168",
     "status": "completed"
    },
    "tags": []
   },
   "outputs": [
    {
     "data": {
      "text/html": [
       "<div>\n",
       "<style scoped>\n",
       "    .dataframe tbody tr th:only-of-type {\n",
       "        vertical-align: middle;\n",
       "    }\n",
       "\n",
       "    .dataframe tbody tr th {\n",
       "        vertical-align: top;\n",
       "    }\n",
       "\n",
       "    .dataframe thead th {\n",
       "        text-align: right;\n",
       "    }\n",
       "</style>\n",
       "<table border=\"1\" class=\"dataframe\">\n",
       "  <thead>\n",
       "    <tr style=\"text-align: right;\">\n",
       "      <th></th>\n",
       "      <th>id</th>\n",
       "      <th>context</th>\n",
       "      <th>question</th>\n",
       "      <th>answer_text</th>\n",
       "      <th>answer_start</th>\n",
       "      <th>language</th>\n",
       "    </tr>\n",
       "  </thead>\n",
       "  <tbody>\n",
       "    <tr>\n",
       "      <th>0</th>\n",
       "      <td>903deec17</td>\n",
       "      <td>ஒரு சாதாரண வளர்ந்த மனிதனுடைய எலும்புக்கூடு பின...</td>\n",
       "      <td>மனித உடலில் எத்தனை எலும்புகள் உள்ளன?</td>\n",
       "      <td>206</td>\n",
       "      <td>53</td>\n",
       "      <td>tamil</td>\n",
       "    </tr>\n",
       "    <tr>\n",
       "      <th>1</th>\n",
       "      <td>d9841668c</td>\n",
       "      <td>காளிதாசன் (தேவநாகரி: कालिदास) சமஸ்கிருத இலக்கி...</td>\n",
       "      <td>காளிதாசன் எங்கு பிறந்தார்?</td>\n",
       "      <td>காசுமீரில்</td>\n",
       "      <td>2358</td>\n",
       "      <td>tamil</td>\n",
       "    </tr>\n",
       "    <tr>\n",
       "      <th>2</th>\n",
       "      <td>29d154b56</td>\n",
       "      <td>சர் அலெக்ஸாண்டர் ஃபிளெமிங் (Sir Alexander Flem...</td>\n",
       "      <td>பென்சிலின் கண்டுபிடித்தவர் யார்?</td>\n",
       "      <td>சர் அலெக்ஸாண்டர் ஃபிளெமிங்</td>\n",
       "      <td>0</td>\n",
       "      <td>tamil</td>\n",
       "    </tr>\n",
       "    <tr>\n",
       "      <th>3</th>\n",
       "      <td>41660850a</td>\n",
       "      <td>குழந்தையின் அழுகையை  நிறுத்தவும், தூங்க வைக்கவ...</td>\n",
       "      <td>தமிழ்நாட்டில் குழந்தைகளை தூங்க வைக்க பாடும் பா...</td>\n",
       "      <td>தாலாட்டு</td>\n",
       "      <td>68</td>\n",
       "      <td>tamil</td>\n",
       "    </tr>\n",
       "    <tr>\n",
       "      <th>4</th>\n",
       "      <td>b29c82c22</td>\n",
       "      <td>சூரியக் குடும்பம் \\nசூரியக் குடும்பம் (Solar S...</td>\n",
       "      <td>பூமியின் அருகில் உள்ள விண்மீன் எது?</td>\n",
       "      <td>சூரியனும்</td>\n",
       "      <td>585</td>\n",
       "      <td>tamil</td>\n",
       "    </tr>\n",
       "  </tbody>\n",
       "</table>\n",
       "</div>"
      ],
      "text/plain": [
       "          id                                            context  \\\n",
       "0  903deec17  ஒரு சாதாரண வளர்ந்த மனிதனுடைய எலும்புக்கூடு பின...   \n",
       "1  d9841668c  காளிதாசன் (தேவநாகரி: कालिदास) சமஸ்கிருத இலக்கி...   \n",
       "2  29d154b56  சர் அலெக்ஸாண்டர் ஃபிளெமிங் (Sir Alexander Flem...   \n",
       "3  41660850a  குழந்தையின் அழுகையை  நிறுத்தவும், தூங்க வைக்கவ...   \n",
       "4  b29c82c22  சூரியக் குடும்பம் \\nசூரியக் குடும்பம் (Solar S...   \n",
       "\n",
       "                                            question  \\\n",
       "0               மனித உடலில் எத்தனை எலும்புகள் உள்ளன?   \n",
       "1                         காளிதாசன் எங்கு பிறந்தார்?   \n",
       "2                   பென்சிலின் கண்டுபிடித்தவர் யார்?   \n",
       "3  தமிழ்நாட்டில் குழந்தைகளை தூங்க வைக்க பாடும் பா...   \n",
       "4                பூமியின் அருகில் உள்ள விண்மீன் எது?   \n",
       "\n",
       "                  answer_text  answer_start language  \n",
       "0                         206            53    tamil  \n",
       "1                  காசுமீரில்          2358    tamil  \n",
       "2  சர் அலெக்ஸாண்டர் ஃபிளெமிங்             0    tamil  \n",
       "3                    தாலாட்டு            68    tamil  \n",
       "4                   சூரியனும்           585    tamil  "
      ]
     },
     "execution_count": 2,
     "metadata": {},
     "output_type": "execute_result"
    }
   ],
   "source": [
    "import pandas as pd\n",
    "\n",
    "train = pd.read_csv('../input/chaii-hindi-and-tamil-question-answering/train.csv')\n",
    "train.head()"
   ]
  },
  {
   "cell_type": "code",
   "execution_count": 3,
   "id": "c2d96343",
   "metadata": {
    "execution": {
     "iopub.execute_input": "2021-08-20T03:07:09.180429Z",
     "iopub.status.busy": "2021-08-20T03:07:09.179276Z",
     "iopub.status.idle": "2021-08-20T03:07:09.185093Z",
     "shell.execute_reply": "2021-08-20T03:07:09.184548Z",
     "shell.execute_reply.started": "2021-08-20T03:01:59.490775Z"
    },
    "papermill": {
     "duration": 0.043575,
     "end_time": "2021-08-20T03:07:09.185219",
     "exception": false,
     "start_time": "2021-08-20T03:07:09.141644",
     "status": "completed"
    },
    "tags": []
   },
   "outputs": [
    {
     "data": {
      "text/plain": [
       "hindi    746\n",
       "tamil    368\n",
       "Name: language, dtype: int64"
      ]
     },
     "execution_count": 3,
     "metadata": {},
     "output_type": "execute_result"
    }
   ],
   "source": [
    "train.language.value_counts()"
   ]
  },
  {
   "cell_type": "code",
   "execution_count": 4,
   "id": "32468974",
   "metadata": {
    "execution": {
     "iopub.execute_input": "2021-08-20T03:07:09.247798Z",
     "iopub.status.busy": "2021-08-20T03:07:09.247024Z",
     "iopub.status.idle": "2021-08-20T03:07:09.250817Z",
     "shell.execute_reply": "2021-08-20T03:07:09.251355Z",
     "shell.execute_reply.started": "2021-08-20T03:01:59.506560Z"
    },
    "papermill": {
     "duration": 0.038217,
     "end_time": "2021-08-20T03:07:09.251501",
     "exception": false,
     "start_time": "2021-08-20T03:07:09.213284",
     "status": "completed"
    },
    "tags": []
   },
   "outputs": [],
   "source": [
    "def convert_answers(r):\n",
    "    start = r[0]\n",
    "    text = r[1]\n",
    "    return {\n",
    "        'answer_start': [start],\n",
    "        'text': [text]\n",
    "    }"
   ]
  },
  {
   "cell_type": "code",
   "execution_count": 5,
   "id": "85f13bb7",
   "metadata": {
    "execution": {
     "iopub.execute_input": "2021-08-20T03:07:09.313877Z",
     "iopub.status.busy": "2021-08-20T03:07:09.312764Z",
     "iopub.status.idle": "2021-08-20T03:07:09.357185Z",
     "shell.execute_reply": "2021-08-20T03:07:09.357754Z",
     "shell.execute_reply.started": "2021-08-20T03:01:59.516680Z"
    },
    "papermill": {
     "duration": 0.079227,
     "end_time": "2021-08-20T03:07:09.358056",
     "exception": false,
     "start_time": "2021-08-20T03:07:09.278829",
     "status": "completed"
    },
    "tags": []
   },
   "outputs": [
    {
     "data": {
      "text/html": [
       "<div>\n",
       "<style scoped>\n",
       "    .dataframe tbody tr th:only-of-type {\n",
       "        vertical-align: middle;\n",
       "    }\n",
       "\n",
       "    .dataframe tbody tr th {\n",
       "        vertical-align: top;\n",
       "    }\n",
       "\n",
       "    .dataframe thead th {\n",
       "        text-align: right;\n",
       "    }\n",
       "</style>\n",
       "<table border=\"1\" class=\"dataframe\">\n",
       "  <thead>\n",
       "    <tr style=\"text-align: right;\">\n",
       "      <th></th>\n",
       "      <th>id</th>\n",
       "      <th>context</th>\n",
       "      <th>question</th>\n",
       "      <th>answer_text</th>\n",
       "      <th>answer_start</th>\n",
       "      <th>language</th>\n",
       "      <th>answers</th>\n",
       "    </tr>\n",
       "  </thead>\n",
       "  <tbody>\n",
       "    <tr>\n",
       "      <th>0</th>\n",
       "      <td>903deec17</td>\n",
       "      <td>ஒரு சாதாரண வளர்ந்த மனிதனுடைய எலும்புக்கூடு பின...</td>\n",
       "      <td>மனித உடலில் எத்தனை எலும்புகள் உள்ளன?</td>\n",
       "      <td>206</td>\n",
       "      <td>53</td>\n",
       "      <td>tamil</td>\n",
       "      <td>{'answer_start': [53], 'text': ['206']}</td>\n",
       "    </tr>\n",
       "    <tr>\n",
       "      <th>1</th>\n",
       "      <td>d9841668c</td>\n",
       "      <td>காளிதாசன் (தேவநாகரி: कालिदास) சமஸ்கிருத இலக்கி...</td>\n",
       "      <td>காளிதாசன் எங்கு பிறந்தார்?</td>\n",
       "      <td>காசுமீரில்</td>\n",
       "      <td>2358</td>\n",
       "      <td>tamil</td>\n",
       "      <td>{'answer_start': [2358], 'text': ['காசுமீரில்']}</td>\n",
       "    </tr>\n",
       "    <tr>\n",
       "      <th>2</th>\n",
       "      <td>29d154b56</td>\n",
       "      <td>சர் அலெக்ஸாண்டர் ஃபிளெமிங் (Sir Alexander Flem...</td>\n",
       "      <td>பென்சிலின் கண்டுபிடித்தவர் யார்?</td>\n",
       "      <td>சர் அலெக்ஸாண்டர் ஃபிளெமிங்</td>\n",
       "      <td>0</td>\n",
       "      <td>tamil</td>\n",
       "      <td>{'answer_start': [0], 'text': ['சர் அலெக்ஸாண்ட...</td>\n",
       "    </tr>\n",
       "    <tr>\n",
       "      <th>3</th>\n",
       "      <td>41660850a</td>\n",
       "      <td>குழந்தையின் அழுகையை  நிறுத்தவும், தூங்க வைக்கவ...</td>\n",
       "      <td>தமிழ்நாட்டில் குழந்தைகளை தூங்க வைக்க பாடும் பா...</td>\n",
       "      <td>தாலாட்டு</td>\n",
       "      <td>68</td>\n",
       "      <td>tamil</td>\n",
       "      <td>{'answer_start': [68], 'text': ['தாலாட்டு']}</td>\n",
       "    </tr>\n",
       "    <tr>\n",
       "      <th>4</th>\n",
       "      <td>b29c82c22</td>\n",
       "      <td>சூரியக் குடும்பம் \\nசூரியக் குடும்பம் (Solar S...</td>\n",
       "      <td>பூமியின் அருகில் உள்ள விண்மீன் எது?</td>\n",
       "      <td>சூரியனும்</td>\n",
       "      <td>585</td>\n",
       "      <td>tamil</td>\n",
       "      <td>{'answer_start': [585], 'text': ['சூரியனும்']}</td>\n",
       "    </tr>\n",
       "  </tbody>\n",
       "</table>\n",
       "</div>"
      ],
      "text/plain": [
       "          id                                            context  \\\n",
       "0  903deec17  ஒரு சாதாரண வளர்ந்த மனிதனுடைய எலும்புக்கூடு பின...   \n",
       "1  d9841668c  காளிதாசன் (தேவநாகரி: कालिदास) சமஸ்கிருத இலக்கி...   \n",
       "2  29d154b56  சர் அலெக்ஸாண்டர் ஃபிளெமிங் (Sir Alexander Flem...   \n",
       "3  41660850a  குழந்தையின் அழுகையை  நிறுத்தவும், தூங்க வைக்கவ...   \n",
       "4  b29c82c22  சூரியக் குடும்பம் \\nசூரியக் குடும்பம் (Solar S...   \n",
       "\n",
       "                                            question  \\\n",
       "0               மனித உடலில் எத்தனை எலும்புகள் உள்ளன?   \n",
       "1                         காளிதாசன் எங்கு பிறந்தார்?   \n",
       "2                   பென்சிலின் கண்டுபிடித்தவர் யார்?   \n",
       "3  தமிழ்நாட்டில் குழந்தைகளை தூங்க வைக்க பாடும் பா...   \n",
       "4                பூமியின் அருகில் உள்ள விண்மீன் எது?   \n",
       "\n",
       "                  answer_text  answer_start language  \\\n",
       "0                         206            53    tamil   \n",
       "1                  காசுமீரில்          2358    tamil   \n",
       "2  சர் அலெக்ஸாண்டர் ஃபிளெமிங்             0    tamil   \n",
       "3                    தாலாட்டு            68    tamil   \n",
       "4                   சூரியனும்           585    tamil   \n",
       "\n",
       "                                             answers  \n",
       "0            {'answer_start': [53], 'text': ['206']}  \n",
       "1   {'answer_start': [2358], 'text': ['காசுமீரில்']}  \n",
       "2  {'answer_start': [0], 'text': ['சர் அலெக்ஸாண்ட...  \n",
       "3       {'answer_start': [68], 'text': ['தாலாட்டு']}  \n",
       "4     {'answer_start': [585], 'text': ['சூரியனும்']}  "
      ]
     },
     "execution_count": 5,
     "metadata": {},
     "output_type": "execute_result"
    }
   ],
   "source": [
    "train['answers'] = train[['answer_start', 'answer_text']].apply(convert_answers, axis=1)\n",
    "train.head()"
   ]
  },
  {
   "cell_type": "code",
   "execution_count": 6,
   "id": "d90798ec",
   "metadata": {
    "execution": {
     "iopub.execute_input": "2021-08-20T03:07:09.418588Z",
     "iopub.status.busy": "2021-08-20T03:07:09.417797Z",
     "iopub.status.idle": "2021-08-20T03:07:09.423121Z",
     "shell.execute_reply": "2021-08-20T03:07:09.422512Z",
     "shell.execute_reply.started": "2021-08-20T03:01:59.569562Z"
    },
    "papermill": {
     "duration": 0.036579,
     "end_time": "2021-08-20T03:07:09.423265",
     "exception": false,
     "start_time": "2021-08-20T03:07:09.386686",
     "status": "completed"
    },
    "tags": []
   },
   "outputs": [],
   "source": [
    "# train.to_csv('train.csv',index=False)"
   ]
  },
  {
   "cell_type": "markdown",
   "id": "9dda02e8",
   "metadata": {
    "papermill": {
     "duration": 0.028683,
     "end_time": "2021-08-20T03:07:09.480061",
     "exception": false,
     "start_time": "2021-08-20T03:07:09.451378",
     "status": "completed"
    },
    "tags": []
   },
   "source": [
    "# Loading custom data in hugging face datasets lib"
   ]
  },
  {
   "cell_type": "code",
   "execution_count": 7,
   "id": "8533b32f",
   "metadata": {
    "execution": {
     "iopub.execute_input": "2021-08-20T03:07:09.544472Z",
     "iopub.status.busy": "2021-08-20T03:07:09.543697Z",
     "iopub.status.idle": "2021-08-20T03:07:21.926174Z",
     "shell.execute_reply": "2021-08-20T03:07:21.925480Z",
     "shell.execute_reply.started": "2021-08-20T03:01:59.577620Z"
    },
    "papermill": {
     "duration": 12.417424,
     "end_time": "2021-08-20T03:07:21.926344",
     "exception": false,
     "start_time": "2021-08-20T03:07:09.508920",
     "status": "completed"
    },
    "tags": []
   },
   "outputs": [
    {
     "name": "stdout",
     "output_type": "stream",
     "text": [
      "\u001b[31mERROR: pip's dependency resolver does not currently take into account all the packages that are installed. This behaviour is the source of the following dependency conflicts.\r\n",
      "tensorflow-cloud 0.1.13 requires tensorflow<3.0,>=1.15.0, which is not installed.\r\n",
      "dask-cudf 21.6.1+2.g101fc0fda4 requires cupy-cuda112, which is not installed.\r\n",
      "cudf 21.6.1+2.g101fc0fda4 requires cupy-cuda110, which is not installed.\r\n",
      "s3fs 2021.6.1 requires fsspec==2021.06.1, but you have fsspec 2021.6.0 which is incompatible.\r\n",
      "pytorch-lightning 1.3.8 requires fsspec[http]!=2021.06.0,>=2021.05.0, but you have fsspec 2021.6.0 which is incompatible.\r\n",
      "dask-cudf 21.6.1+2.g101fc0fda4 requires dask<=2021.5.1,>=2021.4.0, but you have dask 2021.6.2 which is incompatible.\r\n",
      "dask-cudf 21.6.1+2.g101fc0fda4 requires distributed<=2021.5.1,>=2.22.0, but you have distributed 2021.6.2 which is incompatible.\u001b[0m\r\n"
     ]
    }
   ],
   "source": [
    "# ! pip install datasets transformers\n",
    "!pip uninstall fsspec -qq -y\n",
    "!pip install --no-index --find-links ../input/hf-datasets/wheels datasets -qq"
   ]
  },
  {
   "cell_type": "code",
   "execution_count": 8,
   "id": "abf93de0",
   "metadata": {
    "execution": {
     "iopub.execute_input": "2021-08-20T03:07:21.989779Z",
     "iopub.status.busy": "2021-08-20T03:07:21.988141Z",
     "iopub.status.idle": "2021-08-20T03:07:22.558385Z",
     "shell.execute_reply": "2021-08-20T03:07:22.557771Z",
     "shell.execute_reply.started": "2021-08-20T03:02:12.237489Z"
    },
    "papermill": {
     "duration": 0.602542,
     "end_time": "2021-08-20T03:07:22.558555",
     "exception": false,
     "start_time": "2021-08-20T03:07:21.956013",
     "status": "completed"
    },
    "tags": []
   },
   "outputs": [],
   "source": [
    "from datasets import load_dataset, Dataset\n",
    "from pprint import pprint"
   ]
  },
  {
   "cell_type": "markdown",
   "id": "754a172f",
   "metadata": {
    "papermill": {
     "duration": 0.026926,
     "end_time": "2021-08-20T03:07:22.612952",
     "exception": false,
     "start_time": "2021-08-20T03:07:22.586026",
     "status": "completed"
    },
    "tags": []
   },
   "source": [
    "# Preprocessing"
   ]
  },
  {
   "cell_type": "code",
   "execution_count": 9,
   "id": "30506af0",
   "metadata": {
    "execution": {
     "iopub.execute_input": "2021-08-20T03:07:22.673734Z",
     "iopub.status.busy": "2021-08-20T03:07:22.672909Z",
     "iopub.status.idle": "2021-08-20T03:07:31.642979Z",
     "shell.execute_reply": "2021-08-20T03:07:31.642365Z",
     "shell.execute_reply.started": "2021-08-20T03:02:13.109833Z"
    },
    "papermill": {
     "duration": 9.002938,
     "end_time": "2021-08-20T03:07:31.643173",
     "exception": false,
     "start_time": "2021-08-20T03:07:22.640235",
     "status": "completed"
    },
    "tags": []
   },
   "outputs": [],
   "source": [
    "# model_checkpoint = \"distilbert-base-uncased\"\n",
    "# model_checkpoint = \"deepset/xlm-roberta-large-squad2\"\n",
    "# model_checkpoint = \"../input/xlm-roberta-squad2/deepset/xlm-roberta-base-squad2\"\n",
    "model_checkpoint = \"../input/xlm-roberta-squad2/deepset/xlm-roberta-large-squad2\"\n",
    "\n",
    "from transformers import XLMTokenizer,AutoTokenizer\n",
    "# tokenizer = XLMTokenizer.from_pretrained('xlm-mlm-en-2048')\n",
    "tokenizer = AutoTokenizer.from_pretrained(model_checkpoint)"
   ]
  },
  {
   "cell_type": "markdown",
   "id": "b6285e64",
   "metadata": {
    "papermill": {
     "duration": 0.028287,
     "end_time": "2021-08-20T03:07:31.699103",
     "exception": false,
     "start_time": "2021-08-20T03:07:31.670816",
     "status": "completed"
    },
    "tags": []
   },
   "source": [
    "# Doc_stride is used to handle large text: tokens>512"
   ]
  },
  {
   "cell_type": "code",
   "execution_count": 10,
   "id": "ead54cc1",
   "metadata": {
    "execution": {
     "iopub.execute_input": "2021-08-20T03:07:31.759013Z",
     "iopub.status.busy": "2021-08-20T03:07:31.758214Z",
     "iopub.status.idle": "2021-08-20T03:07:31.763352Z",
     "shell.execute_reply": "2021-08-20T03:07:31.762789Z",
     "shell.execute_reply.started": "2021-08-20T03:02:22.100718Z"
    },
    "papermill": {
     "duration": 0.037046,
     "end_time": "2021-08-20T03:07:31.763487",
     "exception": false,
     "start_time": "2021-08-20T03:07:31.726441",
     "status": "completed"
    },
    "tags": []
   },
   "outputs": [],
   "source": [
    "max_length = 384 # The maximum length of a feature (question and context)\n",
    "doc_stride = 128 # The authorized overlap between two part of the context when splitting it is needed."
   ]
  },
  {
   "cell_type": "markdown",
   "id": "bd5a63e5",
   "metadata": {
    "papermill": {
     "duration": 0.027108,
     "end_time": "2021-08-20T03:07:31.817970",
     "exception": false,
     "start_time": "2021-08-20T03:07:31.790862",
     "status": "completed"
    },
    "tags": []
   },
   "source": [
    "# putting all together"
   ]
  },
  {
   "cell_type": "code",
   "execution_count": 11,
   "id": "0be4d9c1",
   "metadata": {
    "execution": {
     "iopub.execute_input": "2021-08-20T03:07:31.876788Z",
     "iopub.status.busy": "2021-08-20T03:07:31.876111Z",
     "iopub.status.idle": "2021-08-20T03:07:31.881022Z",
     "shell.execute_reply": "2021-08-20T03:07:31.880437Z",
     "shell.execute_reply.started": "2021-08-20T03:02:22.109230Z"
    },
    "papermill": {
     "duration": 0.035953,
     "end_time": "2021-08-20T03:07:31.881171",
     "exception": false,
     "start_time": "2021-08-20T03:07:31.845218",
     "status": "completed"
    },
    "tags": []
   },
   "outputs": [],
   "source": [
    "# In some padding required on left side\n",
    "pad_on_right = tokenizer.padding_side == \"right\""
   ]
  },
  {
   "cell_type": "code",
   "execution_count": 12,
   "id": "aa8b4585",
   "metadata": {
    "execution": {
     "iopub.execute_input": "2021-08-20T03:07:31.950482Z",
     "iopub.status.busy": "2021-08-20T03:07:31.949497Z",
     "iopub.status.idle": "2021-08-20T03:07:31.952754Z",
     "shell.execute_reply": "2021-08-20T03:07:31.953277Z",
     "shell.execute_reply.started": "2021-08-20T03:02:22.121309Z"
    },
    "papermill": {
     "duration": 0.045453,
     "end_time": "2021-08-20T03:07:31.953444",
     "exception": false,
     "start_time": "2021-08-20T03:07:31.907991",
     "status": "completed"
    },
    "tags": []
   },
   "outputs": [],
   "source": [
    "def prepare_train_features(examples):\n",
    "    # Some of the questions have lots of whitespace on the left, which is not useful and will make the\n",
    "    # truncation of the context fail (the tokenized question will take a lots of space). So we remove that\n",
    "    # left whitespace\n",
    "    examples[\"question\"] = [q.lstrip() for q in examples[\"question\"]]\n",
    "\n",
    "    # Tokenize our examples with truncation and padding, but keep the overflows using a stride. This results\n",
    "    # in one example possible giving several features when a context is long, each of those features having a\n",
    "    # context that overlaps a bit the context of the previous feature.\n",
    "    tokenized_examples = tokenizer(\n",
    "        examples[\"question\" if pad_on_right else \"context\"],\n",
    "        examples[\"context\" if pad_on_right else \"question\"],\n",
    "        truncation=\"only_second\" if pad_on_right else \"only_first\",\n",
    "        max_length=max_length,\n",
    "        stride=doc_stride,\n",
    "        return_overflowing_tokens=True,\n",
    "        return_offsets_mapping=True,\n",
    "        padding=\"max_length\",\n",
    "    )\n",
    "\n",
    "    # Since one example might give us several features if it has a long context, we need a map from a feature to\n",
    "    # its corresponding example. This key gives us just that.\n",
    "    sample_mapping = tokenized_examples.pop(\"overflow_to_sample_mapping\")\n",
    "    # The offset mappings will give us a map from token to character position in the original context. This will\n",
    "    # help us compute the start_positions and end_positions.\n",
    "    offset_mapping = tokenized_examples.pop(\"offset_mapping\")\n",
    "#     print(len(offset_mapping))\n",
    "\n",
    "    # Let's label those examples!\n",
    "    tokenized_examples[\"start_positions\"] = []\n",
    "    tokenized_examples[\"end_positions\"] = []\n",
    "\n",
    "    for i, offsets in enumerate(offset_mapping):\n",
    "        # We will label impossible answers with the index of the CLS token.\n",
    "        input_ids = tokenized_examples[\"input_ids\"][i]\n",
    "        cls_index = input_ids.index(tokenizer.cls_token_id)\n",
    "\n",
    "        # Grab the sequence corresponding to that example (to know what is the context and what is the question).\n",
    "        sequence_ids = tokenized_examples.sequence_ids(i)\n",
    "\n",
    "        # One example can give several spans, this is the index of the example containing this span of text.\n",
    "        sample_index = sample_mapping[i]\n",
    "        answers = examples[\"answers\"][sample_index]\n",
    "        # If no answers are given, set the cls_index as answer.\n",
    "        if len(answers[\"answer_start\"]) == 0:\n",
    "            tokenized_examples[\"start_positions\"].append(cls_index)\n",
    "            tokenized_examples[\"end_positions\"].append(cls_index)\n",
    "        else:\n",
    "            # Start/end character index of the answer in the text.\n",
    "            start_char = answers[\"answer_start\"][0]\n",
    "            end_char = start_char + len(answers[\"text\"][0])\n",
    "\n",
    "            # Start token index of the current span in the text.\n",
    "            token_start_index = 0\n",
    "            while sequence_ids[token_start_index] != (1 if pad_on_right else 0):\n",
    "                token_start_index += 1\n",
    "\n",
    "            # End token index of the current span in the text.\n",
    "            token_end_index = len(input_ids) - 1\n",
    "            while sequence_ids[token_end_index] != (1 if pad_on_right else 0):\n",
    "                token_end_index -= 1\n",
    "\n",
    "            # Detect if the answer is out of the span (in which case this feature is labeled with the CLS index).\n",
    "            if not (offsets[token_start_index][0] <= start_char and offsets[token_end_index][1] >= end_char):\n",
    "                tokenized_examples[\"start_positions\"].append(cls_index)\n",
    "                tokenized_examples[\"end_positions\"].append(cls_index)\n",
    "            else:\n",
    "                # Otherwise move the token_start_index and token_end_index to the two ends of the answer.\n",
    "                # Note: we could go after the last offset if the answer is the last word (edge case).\n",
    "                while token_start_index < len(offsets) and offsets[token_start_index][0] <= start_char:\n",
    "                    token_start_index += 1\n",
    "                tokenized_examples[\"start_positions\"].append(token_start_index - 1)\n",
    "                while offsets[token_end_index][1] >= end_char:\n",
    "                    token_end_index -= 1\n",
    "                tokenized_examples[\"end_positions\"].append(token_end_index + 1)\n",
    "\n",
    "    return tokenized_examples"
   ]
  },
  {
   "cell_type": "markdown",
   "id": "fb0e8c40",
   "metadata": {
    "papermill": {
     "duration": 0.026825,
     "end_time": "2021-08-20T03:07:32.006700",
     "exception": false,
     "start_time": "2021-08-20T03:07:31.979875",
     "status": "completed"
    },
    "tags": []
   },
   "source": [
    "# Apply on all in one go"
   ]
  },
  {
   "cell_type": "code",
   "execution_count": 13,
   "id": "dc30f7a1",
   "metadata": {
    "execution": {
     "iopub.execute_input": "2021-08-20T03:07:32.065995Z",
     "iopub.status.busy": "2021-08-20T03:07:32.065220Z",
     "iopub.status.idle": "2021-08-20T03:07:32.207526Z",
     "shell.execute_reply": "2021-08-20T03:07:32.206888Z",
     "shell.execute_reply.started": "2021-08-20T03:02:22.141249Z"
    },
    "papermill": {
     "duration": 0.174004,
     "end_time": "2021-08-20T03:07:32.207670",
     "exception": false,
     "start_time": "2021-08-20T03:07:32.033666",
     "status": "completed"
    },
    "tags": []
   },
   "outputs": [],
   "source": [
    "dataset = Dataset.from_pandas(train[:-64])\n",
    "eval_dataset = Dataset.from_pandas(train[-64:])\n",
    "\n",
    "#just to verify pipeline\n",
    "# dataset = Dataset.from_pandas(train[:32])\n",
    "# eval_dataset = Dataset.from_pandas(train[32:48])"
   ]
  },
  {
   "cell_type": "code",
   "execution_count": 14,
   "id": "71e5bcf2",
   "metadata": {
    "execution": {
     "iopub.execute_input": "2021-08-20T03:07:32.302789Z",
     "iopub.status.busy": "2021-08-20T03:07:32.301898Z",
     "iopub.status.idle": "2021-08-20T03:08:34.831296Z",
     "shell.execute_reply": "2021-08-20T03:08:34.830693Z",
     "shell.execute_reply.started": "2021-08-20T03:02:22.302547Z"
    },
    "papermill": {
     "duration": 62.596438,
     "end_time": "2021-08-20T03:08:34.831444",
     "exception": false,
     "start_time": "2021-08-20T03:07:32.235006",
     "status": "completed"
    },
    "tags": []
   },
   "outputs": [
    {
     "data": {
      "application/vnd.jupyter.widget-view+json": {
       "model_id": "23c73c5e6f7043e8b2bbc04e8437b931",
       "version_major": 2,
       "version_minor": 0
      },
      "text/plain": [
       "HBox(children=(FloatProgress(value=0.0, max=2.0), HTML(value='')))"
      ]
     },
     "metadata": {},
     "output_type": "display_data"
    },
    {
     "name": "stdout",
     "output_type": "stream",
     "text": [
      "\n"
     ]
    },
    {
     "data": {
      "application/vnd.jupyter.widget-view+json": {
       "model_id": "ba13eea10ad14dd6800c742645d81db6",
       "version_major": 2,
       "version_minor": 0
      },
      "text/plain": [
       "HBox(children=(FloatProgress(value=0.0, max=1.0), HTML(value='')))"
      ]
     },
     "metadata": {},
     "output_type": "display_data"
    },
    {
     "name": "stdout",
     "output_type": "stream",
     "text": [
      "\n"
     ]
    }
   ],
   "source": [
    "tokenized_train_datasets = dataset.map(prepare_train_features, batched=True, remove_columns=dataset.column_names)\n",
    "tokenized_eval_datasets = eval_dataset.map(prepare_train_features, batched=True, remove_columns=eval_dataset.column_names)"
   ]
  },
  {
   "cell_type": "markdown",
   "id": "b4db0cd9",
   "metadata": {
    "papermill": {
     "duration": 0.029205,
     "end_time": "2021-08-20T03:08:34.889963",
     "exception": false,
     "start_time": "2021-08-20T03:08:34.860758",
     "status": "completed"
    },
    "tags": []
   },
   "source": [
    "# Finetune start"
   ]
  },
  {
   "cell_type": "code",
   "execution_count": 15,
   "id": "b01a2e1a",
   "metadata": {
    "execution": {
     "iopub.execute_input": "2021-08-20T03:08:35.127402Z",
     "iopub.status.busy": "2021-08-20T03:08:35.126363Z",
     "iopub.status.idle": "2021-08-20T03:08:35.133970Z",
     "shell.execute_reply": "2021-08-20T03:08:35.134570Z",
     "shell.execute_reply.started": "2021-08-20T03:03:26.196308Z"
    },
    "papermill": {
     "duration": 0.216301,
     "end_time": "2021-08-20T03:08:35.134746",
     "exception": false,
     "start_time": "2021-08-20T03:08:34.918445",
     "status": "completed"
    },
    "tags": []
   },
   "outputs": [
    {
     "data": {
      "text/plain": [
       "66"
      ]
     },
     "execution_count": 15,
     "metadata": {},
     "output_type": "execute_result"
    }
   ],
   "source": [
    "import gc\n",
    "gc.collect()"
   ]
  },
  {
   "cell_type": "code",
   "execution_count": 16,
   "id": "f9171f47",
   "metadata": {
    "execution": {
     "iopub.execute_input": "2021-08-20T03:08:35.199076Z",
     "iopub.status.busy": "2021-08-20T03:08:35.198161Z",
     "iopub.status.idle": "2021-08-20T03:09:03.018438Z",
     "shell.execute_reply": "2021-08-20T03:09:03.019355Z",
     "shell.execute_reply.started": "2021-08-20T03:03:26.385352Z"
    },
    "papermill": {
     "duration": 27.855166,
     "end_time": "2021-08-20T03:09:03.019623",
     "exception": false,
     "start_time": "2021-08-20T03:08:35.164457",
     "status": "completed"
    },
    "tags": []
   },
   "outputs": [],
   "source": [
    "from transformers import AutoModelForQuestionAnswering, TrainingArguments, Trainer\n",
    "\n",
    "model = AutoModelForQuestionAnswering.from_pretrained(model_checkpoint)"
   ]
  },
  {
   "cell_type": "code",
   "execution_count": 17,
   "id": "5765dcc1",
   "metadata": {
    "execution": {
     "iopub.execute_input": "2021-08-20T03:09:03.124619Z",
     "iopub.status.busy": "2021-08-20T03:09:03.123634Z",
     "iopub.status.idle": "2021-08-20T03:09:03.129719Z",
     "shell.execute_reply": "2021-08-20T03:09:03.130525Z",
     "shell.execute_reply.started": "2021-08-20T03:03:54.266309Z"
    },
    "papermill": {
     "duration": 0.062394,
     "end_time": "2021-08-20T03:09:03.130790",
     "exception": false,
     "start_time": "2021-08-20T03:09:03.068396",
     "status": "completed"
    },
    "tags": []
   },
   "outputs": [
    {
     "name": "stdout",
     "output_type": "stream",
     "text": [
      "env: WANDB_DISABLED=True\n"
     ]
    }
   ],
   "source": [
    "%env WANDB_DISABLED=True"
   ]
  },
  {
   "cell_type": "code",
   "execution_count": 18,
   "id": "eb90c74d",
   "metadata": {
    "execution": {
     "iopub.execute_input": "2021-08-20T03:09:03.557413Z",
     "iopub.status.busy": "2021-08-20T03:09:03.556189Z",
     "iopub.status.idle": "2021-08-20T03:09:03.618964Z",
     "shell.execute_reply": "2021-08-20T03:09:03.618086Z",
     "shell.execute_reply.started": "2021-08-20T03:03:54.277361Z"
    },
    "papermill": {
     "duration": 0.439435,
     "end_time": "2021-08-20T03:09:03.619181",
     "exception": false,
     "start_time": "2021-08-20T03:09:03.179746",
     "status": "completed"
    },
    "tags": []
   },
   "outputs": [
    {
     "name": "stderr",
     "output_type": "stream",
     "text": [
      "Using the `WAND_DISABLED` environment variable is deprecated and will be removed in v5. Use the --report_to flag to control the integrations used for logging result (for instance --report_to none).\n"
     ]
    }
   ],
   "source": [
    "import gc\n",
    "gc.collect()\n",
    "batch_size = 4#16\n",
    "model_name = model_checkpoint.split(\"/\")[-1]\n",
    "args = TrainingArguments(\n",
    "    f\"test-chaii\",\n",
    "    save_total_limit = 1,\n",
    "    \n",
    "#     evaluation_strategy = \"epoch\",\n",
    "#     save_strategy = \"epoch\",\n",
    "#     learning_rate=3e-5,\n",
    "#     warmup_ratio=0.1,\n",
    "#     gradient_accumulation_steps=8,\n",
    "#     per_device_train_batch_size=batch_size,\n",
    "#     per_device_eval_batch_size=batch_size,\n",
    "#     num_train_epochs=3,\n",
    "#     weight_decay=0.01,\n",
    "    \n",
    "    evaluation_strategy = \"epoch\",\n",
    "    learning_rate=2e-5,\n",
    "    per_device_train_batch_size=batch_size,\n",
    "    per_device_eval_batch_size=batch_size,\n",
    "    num_train_epochs=3,#1,# make it 3\n",
    "    gradient_accumulation_steps=8,\n",
    "    weight_decay=0.01,\n",
    ")"
   ]
  },
  {
   "cell_type": "code",
   "execution_count": 19,
   "id": "e0a2dd8b",
   "metadata": {
    "execution": {
     "iopub.execute_input": "2021-08-20T03:09:03.688650Z",
     "iopub.status.busy": "2021-08-20T03:09:03.686571Z",
     "iopub.status.idle": "2021-08-20T03:09:03.689817Z",
     "shell.execute_reply": "2021-08-20T03:09:03.690362Z",
     "shell.execute_reply.started": "2021-08-20T03:03:54.628212Z"
    },
    "papermill": {
     "duration": 0.038735,
     "end_time": "2021-08-20T03:09:03.690517",
     "exception": false,
     "start_time": "2021-08-20T03:09:03.651782",
     "status": "completed"
    },
    "tags": []
   },
   "outputs": [],
   "source": [
    "from transformers import default_data_collator\n",
    "\n",
    "data_collator = default_data_collator"
   ]
  },
  {
   "cell_type": "code",
   "execution_count": 20,
   "id": "2eeeabd5",
   "metadata": {
    "execution": {
     "iopub.execute_input": "2021-08-20T03:09:03.757152Z",
     "iopub.status.busy": "2021-08-20T03:09:03.756003Z",
     "iopub.status.idle": "2021-08-20T03:09:13.111401Z",
     "shell.execute_reply": "2021-08-20T03:09:13.110385Z",
     "shell.execute_reply.started": "2021-08-20T03:03:54.642912Z"
    },
    "papermill": {
     "duration": 9.390618,
     "end_time": "2021-08-20T03:09:13.111569",
     "exception": false,
     "start_time": "2021-08-20T03:09:03.720951",
     "status": "completed"
    },
    "tags": []
   },
   "outputs": [],
   "source": [
    "trainer = Trainer(\n",
    "    model,\n",
    "    args,\n",
    "    train_dataset=tokenized_train_datasets,\n",
    "    eval_dataset=tokenized_eval_datasets,\n",
    "    data_collator=data_collator,\n",
    "    tokenizer=tokenizer,\n",
    ")"
   ]
  },
  {
   "cell_type": "code",
   "execution_count": 21,
   "id": "471a14fc",
   "metadata": {
    "execution": {
     "iopub.execute_input": "2021-08-20T03:09:13.361628Z",
     "iopub.status.busy": "2021-08-20T03:09:13.360836Z",
     "iopub.status.idle": "2021-08-20T04:55:03.380022Z",
     "shell.execute_reply": "2021-08-20T04:55:03.379071Z"
    },
    "papermill": {
     "duration": 6350.238172,
     "end_time": "2021-08-20T04:55:03.380170",
     "exception": false,
     "start_time": "2021-08-20T03:09:13.141998",
     "status": "completed"
    },
    "tags": []
   },
   "outputs": [
    {
     "data": {
      "text/html": [
       "\n",
       "    <div>\n",
       "      \n",
       "      <progress value='1305' max='1305' style='width:300px; height:20px; vertical-align: middle;'></progress>\n",
       "      [1305/1305 1:45:43, Epoch 3/3]\n",
       "    </div>\n",
       "    <table border=\"1\" class=\"dataframe\">\n",
       "  <thead>\n",
       "    <tr style=\"text-align: left;\">\n",
       "      <th>Epoch</th>\n",
       "      <th>Training Loss</th>\n",
       "      <th>Validation Loss</th>\n",
       "    </tr>\n",
       "  </thead>\n",
       "  <tbody>\n",
       "    <tr>\n",
       "      <td>1</td>\n",
       "      <td>No log</td>\n",
       "      <td>0.206706</td>\n",
       "    </tr>\n",
       "    <tr>\n",
       "      <td>2</td>\n",
       "      <td>0.250700</td>\n",
       "      <td>0.272195</td>\n",
       "    </tr>\n",
       "    <tr>\n",
       "      <td>3</td>\n",
       "      <td>0.117600</td>\n",
       "      <td>0.305487</td>\n",
       "    </tr>\n",
       "  </tbody>\n",
       "</table><p>"
      ],
      "text/plain": [
       "<IPython.core.display.HTML object>"
      ]
     },
     "metadata": {},
     "output_type": "display_data"
    },
    {
     "data": {
      "text/plain": [
       "TrainOutput(global_step=1305, training_loss=0.15661610424290215, metrics={'train_runtime': 6349.6248, 'train_samples_per_second': 0.206, 'total_flos': 1.2565434667249152e+16, 'epoch': 3.0, 'init_mem_cpu_alloc_delta': 436412416, 'init_mem_gpu_alloc_delta': 2235376640, 'init_mem_cpu_peaked_delta': 1493405696, 'init_mem_gpu_peaked_delta': 0, 'train_mem_cpu_alloc_delta': 85573632, 'train_mem_gpu_alloc_delta': 6733399040, 'train_mem_cpu_peaked_delta': 3084193792, 'train_mem_gpu_peaked_delta': 5504048128})"
      ]
     },
     "execution_count": 21,
     "metadata": {},
     "output_type": "execute_result"
    }
   ],
   "source": [
    "trainer.train()"
   ]
  },
  {
   "cell_type": "code",
   "execution_count": 22,
   "id": "d20cb699",
   "metadata": {
    "execution": {
     "iopub.execute_input": "2021-08-20T04:55:03.448834Z",
     "iopub.status.busy": "2021-08-20T04:55:03.447748Z",
     "iopub.status.idle": "2021-08-20T04:55:13.019099Z",
     "shell.execute_reply": "2021-08-20T04:55:13.018056Z"
    },
    "papermill": {
     "duration": 9.607527,
     "end_time": "2021-08-20T04:55:13.019295",
     "exception": false,
     "start_time": "2021-08-20T04:55:03.411768",
     "status": "completed"
    },
    "tags": []
   },
   "outputs": [],
   "source": [
    "trainer.save_model(\"test-chaii-trained\")"
   ]
  },
  {
   "cell_type": "code",
   "execution_count": null,
   "id": "2f25f250",
   "metadata": {
    "papermill": {
     "duration": 0.03197,
     "end_time": "2021-08-20T04:55:13.085167",
     "exception": false,
     "start_time": "2021-08-20T04:55:13.053197",
     "status": "completed"
    },
    "tags": []
   },
   "outputs": [],
   "source": []
  },
  {
   "cell_type": "code",
   "execution_count": null,
   "id": "49eaa6d6",
   "metadata": {
    "papermill": {
     "duration": 0.032037,
     "end_time": "2021-08-20T04:55:13.150642",
     "exception": false,
     "start_time": "2021-08-20T04:55:13.118605",
     "status": "completed"
    },
    "tags": []
   },
   "outputs": [],
   "source": []
  }
 ],
 "metadata": {
  "kernelspec": {
   "display_name": "Python 3",
   "language": "python",
   "name": "python3"
  },
  "language_info": {
   "codemirror_mode": {
    "name": "ipython",
    "version": 3
   },
   "file_extension": ".py",
   "mimetype": "text/x-python",
   "name": "python",
   "nbconvert_exporter": "python",
   "pygments_lexer": "ipython3",
   "version": "3.7.10"
  },
  "papermill": {
   "default_parameters": {},
   "duration": 6497.199607,
   "end_time": "2021-08-20T04:55:16.566044",
   "environment_variables": {},
   "exception": null,
   "input_path": "__notebook__.ipynb",
   "output_path": "__notebook__.ipynb",
   "parameters": {},
   "start_time": "2021-08-20T03:06:59.366437",
   "version": "2.3.3"
  },
  "widgets": {
   "application/vnd.jupyter.widget-state+json": {
    "state": {
     "0a0408f6c165431f89a9d4819682bc55": {
      "model_module": "@jupyter-widgets/controls",
      "model_module_version": "1.5.0",
      "model_name": "ProgressStyleModel",
      "state": {
       "_model_module": "@jupyter-widgets/controls",
       "_model_module_version": "1.5.0",
       "_model_name": "ProgressStyleModel",
       "_view_count": null,
       "_view_module": "@jupyter-widgets/base",
       "_view_module_version": "1.2.0",
       "_view_name": "StyleView",
       "bar_color": null,
       "description_width": "initial"
      }
     },
     "14d040001fac4a939312ec805e273904": {
      "model_module": "@jupyter-widgets/controls",
      "model_module_version": "1.5.0",
      "model_name": "FloatProgressModel",
      "state": {
       "_dom_classes": [],
       "_model_module": "@jupyter-widgets/controls",
       "_model_module_version": "1.5.0",
       "_model_name": "FloatProgressModel",
       "_view_count": null,
       "_view_module": "@jupyter-widgets/controls",
       "_view_module_version": "1.5.0",
       "_view_name": "ProgressView",
       "bar_style": "success",
       "description": "",
       "description_tooltip": null,
       "layout": "IPY_MODEL_241ee92bdf8b47b1ae88d8babcb48767",
       "max": 1.0,
       "min": 0.0,
       "orientation": "horizontal",
       "style": "IPY_MODEL_46c6bab11b6d401da9a58f9997c6b118",
       "value": 1.0
      }
     },
     "23c73c5e6f7043e8b2bbc04e8437b931": {
      "model_module": "@jupyter-widgets/controls",
      "model_module_version": "1.5.0",
      "model_name": "HBoxModel",
      "state": {
       "_dom_classes": [],
       "_model_module": "@jupyter-widgets/controls",
       "_model_module_version": "1.5.0",
       "_model_name": "HBoxModel",
       "_view_count": null,
       "_view_module": "@jupyter-widgets/controls",
       "_view_module_version": "1.5.0",
       "_view_name": "HBoxView",
       "box_style": "",
       "children": [
        "IPY_MODEL_3a9e856861fb43bc842f3b5e960f9851",
        "IPY_MODEL_ca5b0c557fbd4f7883473a990c953928"
       ],
       "layout": "IPY_MODEL_911aeecad13240c6b9e42b968721c252"
      }
     },
     "241ee92bdf8b47b1ae88d8babcb48767": {
      "model_module": "@jupyter-widgets/base",
      "model_module_version": "1.2.0",
      "model_name": "LayoutModel",
      "state": {
       "_model_module": "@jupyter-widgets/base",
       "_model_module_version": "1.2.0",
       "_model_name": "LayoutModel",
       "_view_count": null,
       "_view_module": "@jupyter-widgets/base",
       "_view_module_version": "1.2.0",
       "_view_name": "LayoutView",
       "align_content": null,
       "align_items": null,
       "align_self": null,
       "border": null,
       "bottom": null,
       "display": null,
       "flex": null,
       "flex_flow": null,
       "grid_area": null,
       "grid_auto_columns": null,
       "grid_auto_flow": null,
       "grid_auto_rows": null,
       "grid_column": null,
       "grid_gap": null,
       "grid_row": null,
       "grid_template_areas": null,
       "grid_template_columns": null,
       "grid_template_rows": null,
       "height": null,
       "justify_content": null,
       "justify_items": null,
       "left": null,
       "margin": null,
       "max_height": null,
       "max_width": null,
       "min_height": null,
       "min_width": null,
       "object_fit": null,
       "object_position": null,
       "order": null,
       "overflow": null,
       "overflow_x": null,
       "overflow_y": null,
       "padding": null,
       "right": null,
       "top": null,
       "visibility": null,
       "width": null
      }
     },
     "3a9e856861fb43bc842f3b5e960f9851": {
      "model_module": "@jupyter-widgets/controls",
      "model_module_version": "1.5.0",
      "model_name": "FloatProgressModel",
      "state": {
       "_dom_classes": [],
       "_model_module": "@jupyter-widgets/controls",
       "_model_module_version": "1.5.0",
       "_model_name": "FloatProgressModel",
       "_view_count": null,
       "_view_module": "@jupyter-widgets/controls",
       "_view_module_version": "1.5.0",
       "_view_name": "ProgressView",
       "bar_style": "success",
       "description": "",
       "description_tooltip": null,
       "layout": "IPY_MODEL_d745df96b1f9449196f6201fb6f842e0",
       "max": 2.0,
       "min": 0.0,
       "orientation": "horizontal",
       "style": "IPY_MODEL_0a0408f6c165431f89a9d4819682bc55",
       "value": 2.0
      }
     },
     "46c6bab11b6d401da9a58f9997c6b118": {
      "model_module": "@jupyter-widgets/controls",
      "model_module_version": "1.5.0",
      "model_name": "ProgressStyleModel",
      "state": {
       "_model_module": "@jupyter-widgets/controls",
       "_model_module_version": "1.5.0",
       "_model_name": "ProgressStyleModel",
       "_view_count": null,
       "_view_module": "@jupyter-widgets/base",
       "_view_module_version": "1.2.0",
       "_view_name": "StyleView",
       "bar_color": null,
       "description_width": "initial"
      }
     },
     "6e4da5cf791241d5932907a60ea967b3": {
      "model_module": "@jupyter-widgets/controls",
      "model_module_version": "1.5.0",
      "model_name": "HTMLModel",
      "state": {
       "_dom_classes": [],
       "_model_module": "@jupyter-widgets/controls",
       "_model_module_version": "1.5.0",
       "_model_name": "HTMLModel",
       "_view_count": null,
       "_view_module": "@jupyter-widgets/controls",
       "_view_module_version": "1.5.0",
       "_view_name": "HTMLView",
       "description": "",
       "description_tooltip": null,
       "layout": "IPY_MODEL_6f288ab895eb4bdc9a5d10e2c008b071",
       "placeholder": "​",
       "style": "IPY_MODEL_fb28bff87da9419e9bf661156c6c9e0e",
       "value": "&lt;tqdm.auto.tqdm object at 0x7ff751a10210&gt;"
      }
     },
     "6f288ab895eb4bdc9a5d10e2c008b071": {
      "model_module": "@jupyter-widgets/base",
      "model_module_version": "1.2.0",
      "model_name": "LayoutModel",
      "state": {
       "_model_module": "@jupyter-widgets/base",
       "_model_module_version": "1.2.0",
       "_model_name": "LayoutModel",
       "_view_count": null,
       "_view_module": "@jupyter-widgets/base",
       "_view_module_version": "1.2.0",
       "_view_name": "LayoutView",
       "align_content": null,
       "align_items": null,
       "align_self": null,
       "border": null,
       "bottom": null,
       "display": null,
       "flex": null,
       "flex_flow": null,
       "grid_area": null,
       "grid_auto_columns": null,
       "grid_auto_flow": null,
       "grid_auto_rows": null,
       "grid_column": null,
       "grid_gap": null,
       "grid_row": null,
       "grid_template_areas": null,
       "grid_template_columns": null,
       "grid_template_rows": null,
       "height": null,
       "justify_content": null,
       "justify_items": null,
       "left": null,
       "margin": null,
       "max_height": null,
       "max_width": null,
       "min_height": null,
       "min_width": null,
       "object_fit": null,
       "object_position": null,
       "order": null,
       "overflow": null,
       "overflow_x": null,
       "overflow_y": null,
       "padding": null,
       "right": null,
       "top": null,
       "visibility": null,
       "width": null
      }
     },
     "6f690c62c60848e3a0fab8e3e15125cf": {
      "model_module": "@jupyter-widgets/base",
      "model_module_version": "1.2.0",
      "model_name": "LayoutModel",
      "state": {
       "_model_module": "@jupyter-widgets/base",
       "_model_module_version": "1.2.0",
       "_model_name": "LayoutModel",
       "_view_count": null,
       "_view_module": "@jupyter-widgets/base",
       "_view_module_version": "1.2.0",
       "_view_name": "LayoutView",
       "align_content": null,
       "align_items": null,
       "align_self": null,
       "border": null,
       "bottom": null,
       "display": null,
       "flex": null,
       "flex_flow": null,
       "grid_area": null,
       "grid_auto_columns": null,
       "grid_auto_flow": null,
       "grid_auto_rows": null,
       "grid_column": null,
       "grid_gap": null,
       "grid_row": null,
       "grid_template_areas": null,
       "grid_template_columns": null,
       "grid_template_rows": null,
       "height": null,
       "justify_content": null,
       "justify_items": null,
       "left": null,
       "margin": null,
       "max_height": null,
       "max_width": null,
       "min_height": null,
       "min_width": null,
       "object_fit": null,
       "object_position": null,
       "order": null,
       "overflow": null,
       "overflow_x": null,
       "overflow_y": null,
       "padding": null,
       "right": null,
       "top": null,
       "visibility": null,
       "width": null
      }
     },
     "911aeecad13240c6b9e42b968721c252": {
      "model_module": "@jupyter-widgets/base",
      "model_module_version": "1.2.0",
      "model_name": "LayoutModel",
      "state": {
       "_model_module": "@jupyter-widgets/base",
       "_model_module_version": "1.2.0",
       "_model_name": "LayoutModel",
       "_view_count": null,
       "_view_module": "@jupyter-widgets/base",
       "_view_module_version": "1.2.0",
       "_view_name": "LayoutView",
       "align_content": null,
       "align_items": null,
       "align_self": null,
       "border": null,
       "bottom": null,
       "display": null,
       "flex": null,
       "flex_flow": null,
       "grid_area": null,
       "grid_auto_columns": null,
       "grid_auto_flow": null,
       "grid_auto_rows": null,
       "grid_column": null,
       "grid_gap": null,
       "grid_row": null,
       "grid_template_areas": null,
       "grid_template_columns": null,
       "grid_template_rows": null,
       "height": null,
       "justify_content": null,
       "justify_items": null,
       "left": null,
       "margin": null,
       "max_height": null,
       "max_width": null,
       "min_height": null,
       "min_width": null,
       "object_fit": null,
       "object_position": null,
       "order": null,
       "overflow": null,
       "overflow_x": null,
       "overflow_y": null,
       "padding": null,
       "right": null,
       "top": null,
       "visibility": null,
       "width": null
      }
     },
     "ba13eea10ad14dd6800c742645d81db6": {
      "model_module": "@jupyter-widgets/controls",
      "model_module_version": "1.5.0",
      "model_name": "HBoxModel",
      "state": {
       "_dom_classes": [],
       "_model_module": "@jupyter-widgets/controls",
       "_model_module_version": "1.5.0",
       "_model_name": "HBoxModel",
       "_view_count": null,
       "_view_module": "@jupyter-widgets/controls",
       "_view_module_version": "1.5.0",
       "_view_name": "HBoxView",
       "box_style": "",
       "children": [
        "IPY_MODEL_14d040001fac4a939312ec805e273904",
        "IPY_MODEL_6e4da5cf791241d5932907a60ea967b3"
       ],
       "layout": "IPY_MODEL_6f690c62c60848e3a0fab8e3e15125cf"
      }
     },
     "ca5b0c557fbd4f7883473a990c953928": {
      "model_module": "@jupyter-widgets/controls",
      "model_module_version": "1.5.0",
      "model_name": "HTMLModel",
      "state": {
       "_dom_classes": [],
       "_model_module": "@jupyter-widgets/controls",
       "_model_module_version": "1.5.0",
       "_model_name": "HTMLModel",
       "_view_count": null,
       "_view_module": "@jupyter-widgets/controls",
       "_view_module_version": "1.5.0",
       "_view_name": "HTMLView",
       "description": "",
       "description_tooltip": null,
       "layout": "IPY_MODEL_e936a306b4a24c5cb48a7dc25ce673d6",
       "placeholder": "​",
       "style": "IPY_MODEL_edd6eb0ade5f4a4a9ed6a2f1ba4024f8",
       "value": "&lt;tqdm.auto.tqdm object at 0x7ff751a10990&gt;"
      }
     },
     "d745df96b1f9449196f6201fb6f842e0": {
      "model_module": "@jupyter-widgets/base",
      "model_module_version": "1.2.0",
      "model_name": "LayoutModel",
      "state": {
       "_model_module": "@jupyter-widgets/base",
       "_model_module_version": "1.2.0",
       "_model_name": "LayoutModel",
       "_view_count": null,
       "_view_module": "@jupyter-widgets/base",
       "_view_module_version": "1.2.0",
       "_view_name": "LayoutView",
       "align_content": null,
       "align_items": null,
       "align_self": null,
       "border": null,
       "bottom": null,
       "display": null,
       "flex": null,
       "flex_flow": null,
       "grid_area": null,
       "grid_auto_columns": null,
       "grid_auto_flow": null,
       "grid_auto_rows": null,
       "grid_column": null,
       "grid_gap": null,
       "grid_row": null,
       "grid_template_areas": null,
       "grid_template_columns": null,
       "grid_template_rows": null,
       "height": null,
       "justify_content": null,
       "justify_items": null,
       "left": null,
       "margin": null,
       "max_height": null,
       "max_width": null,
       "min_height": null,
       "min_width": null,
       "object_fit": null,
       "object_position": null,
       "order": null,
       "overflow": null,
       "overflow_x": null,
       "overflow_y": null,
       "padding": null,
       "right": null,
       "top": null,
       "visibility": null,
       "width": null
      }
     },
     "e936a306b4a24c5cb48a7dc25ce673d6": {
      "model_module": "@jupyter-widgets/base",
      "model_module_version": "1.2.0",
      "model_name": "LayoutModel",
      "state": {
       "_model_module": "@jupyter-widgets/base",
       "_model_module_version": "1.2.0",
       "_model_name": "LayoutModel",
       "_view_count": null,
       "_view_module": "@jupyter-widgets/base",
       "_view_module_version": "1.2.0",
       "_view_name": "LayoutView",
       "align_content": null,
       "align_items": null,
       "align_self": null,
       "border": null,
       "bottom": null,
       "display": null,
       "flex": null,
       "flex_flow": null,
       "grid_area": null,
       "grid_auto_columns": null,
       "grid_auto_flow": null,
       "grid_auto_rows": null,
       "grid_column": null,
       "grid_gap": null,
       "grid_row": null,
       "grid_template_areas": null,
       "grid_template_columns": null,
       "grid_template_rows": null,
       "height": null,
       "justify_content": null,
       "justify_items": null,
       "left": null,
       "margin": null,
       "max_height": null,
       "max_width": null,
       "min_height": null,
       "min_width": null,
       "object_fit": null,
       "object_position": null,
       "order": null,
       "overflow": null,
       "overflow_x": null,
       "overflow_y": null,
       "padding": null,
       "right": null,
       "top": null,
       "visibility": null,
       "width": null
      }
     },
     "edd6eb0ade5f4a4a9ed6a2f1ba4024f8": {
      "model_module": "@jupyter-widgets/controls",
      "model_module_version": "1.5.0",
      "model_name": "DescriptionStyleModel",
      "state": {
       "_model_module": "@jupyter-widgets/controls",
       "_model_module_version": "1.5.0",
       "_model_name": "DescriptionStyleModel",
       "_view_count": null,
       "_view_module": "@jupyter-widgets/base",
       "_view_module_version": "1.2.0",
       "_view_name": "StyleView",
       "description_width": ""
      }
     },
     "fb28bff87da9419e9bf661156c6c9e0e": {
      "model_module": "@jupyter-widgets/controls",
      "model_module_version": "1.5.0",
      "model_name": "DescriptionStyleModel",
      "state": {
       "_model_module": "@jupyter-widgets/controls",
       "_model_module_version": "1.5.0",
       "_model_name": "DescriptionStyleModel",
       "_view_count": null,
       "_view_module": "@jupyter-widgets/base",
       "_view_module_version": "1.2.0",
       "_view_name": "StyleView",
       "description_width": ""
      }
     }
    },
    "version_major": 2,
    "version_minor": 0
   }
  }
 },
 "nbformat": 4,
 "nbformat_minor": 5
}
