{
 "cells": [
  {
   "cell_type": "code",
   "execution_count": 1,
   "id": "c0365410",
   "metadata": {
    "_cell_guid": "b1076dfc-b9ad-4769-8c92-a6c4dae69d19",
    "_uuid": "8f2839f25d086af736a60e9eeb907d3b93b6e0e5",
    "execution": {
     "iopub.execute_input": "2021-08-20T13:37:17.162353Z",
     "iopub.status.busy": "2021-08-20T13:37:17.160795Z",
     "iopub.status.idle": "2021-08-20T13:37:17.162908Z",
     "shell.execute_reply": "2021-08-20T13:37:17.163299Z",
     "shell.execute_reply.started": "2021-08-19T04:43:13.766565Z"
    },
    "papermill": {
     "duration": 0.030658,
     "end_time": "2021-08-20T13:37:17.163559",
     "exception": false,
     "start_time": "2021-08-20T13:37:17.132901",
     "status": "completed"
    },
    "tags": []
   },
   "outputs": [],
   "source": [
    "# # This Python 3 environment comes with many helpful analytics libraries installed\n",
    "# # It is defined by the kaggle/python Docker image: https://github.com/kaggle/docker-python\n",
    "# # For example, here's several helpful packages to load\n",
    "\n",
    "# import numpy as np # linear algebra\n",
    "# import pandas as pd # data processing, CSV file I/O (e.g. pd.read_csv)\n",
    "\n",
    "# # Input data files are available in the read-only \"../input/\" directory\n",
    "# # For example, running this (by clicking run or pressing Shift+Enter) will list all files under the input directory\n",
    "\n",
    "# import os\n",
    "# for dirname, _, filenames in os.walk('/kaggle/input'):\n",
    "#     for filename in filenames:\n",
    "#         print(os.path.join(dirname, filename))\n",
    "\n",
    "# # You can write up to 20GB to the current directory (/kaggle/working/) that gets preserved as output when you create a version using \"Save & Run All\" \n",
    "# # You can also write temporary files to /kaggle/temp/, but they won't be saved outside of the current session"
   ]
  },
  {
   "cell_type": "code",
   "execution_count": 2,
   "id": "0021c2bd",
   "metadata": {
    "execution": {
     "iopub.execute_input": "2021-08-20T13:37:17.290069Z",
     "iopub.status.busy": "2021-08-20T13:37:17.289389Z",
     "iopub.status.idle": "2021-08-20T13:37:26.784885Z",
     "shell.execute_reply": "2021-08-20T13:37:26.784370Z",
     "shell.execute_reply.started": "2021-08-20T13:30:28.616980Z"
    },
    "papermill": {
     "duration": 9.601161,
     "end_time": "2021-08-20T13:37:26.785009",
     "exception": false,
     "start_time": "2021-08-20T13:37:17.183848",
     "status": "completed"
    },
    "tags": []
   },
   "outputs": [
    {
     "name": "stdout",
     "output_type": "stream",
     "text": [
      "\u001b[31mERROR: pip's dependency resolver does not currently take into account all the packages that are installed. This behaviour is the source of the following dependency conflicts.\r\n",
      "tensorflow-cloud 0.1.13 requires tensorflow<3.0,>=1.15.0, which is not installed.\r\n",
      "dask-cudf 21.6.1+2.g101fc0fda4 requires cupy-cuda112, which is not installed.\r\n",
      "cudf 21.6.1+2.g101fc0fda4 requires cupy-cuda110, which is not installed.\r\n",
      "s3fs 2021.6.1 requires fsspec==2021.06.1, but you have fsspec 2021.6.0 which is incompatible.\r\n",
      "pytorch-lightning 1.3.8 requires fsspec[http]!=2021.06.0,>=2021.05.0, but you have fsspec 2021.6.0 which is incompatible.\r\n",
      "dask-cudf 21.6.1+2.g101fc0fda4 requires dask<=2021.5.1,>=2021.4.0, but you have dask 2021.6.2 which is incompatible.\r\n",
      "dask-cudf 21.6.1+2.g101fc0fda4 requires distributed<=2021.5.1,>=2.22.0, but you have distributed 2021.6.2 which is incompatible.\u001b[0m\r\n"
     ]
    }
   ],
   "source": [
    "# ! pip install datasets transformers\n",
    "!pip uninstall fsspec -qq -y\n",
    "!pip install --no-index --find-links ../input/hf-datasets/wheels datasets -qq"
   ]
  },
  {
   "cell_type": "code",
   "execution_count": 3,
   "id": "8a3a816c",
   "metadata": {
    "execution": {
     "iopub.execute_input": "2021-08-20T13:37:26.830664Z",
     "iopub.status.busy": "2021-08-20T13:37:26.829504Z",
     "iopub.status.idle": "2021-08-20T13:37:27.259277Z",
     "shell.execute_reply": "2021-08-20T13:37:27.258786Z",
     "shell.execute_reply.started": "2021-08-20T13:35:03.271665Z"
    },
    "papermill": {
     "duration": 0.453787,
     "end_time": "2021-08-20T13:37:27.259468",
     "exception": false,
     "start_time": "2021-08-20T13:37:26.805681",
     "status": "completed"
    },
    "tags": []
   },
   "outputs": [],
   "source": [
    "from datasets import load_dataset, Dataset\n",
    "from pprint import pprint\n",
    "import pandas as pd\n",
    "import numpy as np"
   ]
  },
  {
   "cell_type": "markdown",
   "id": "8ff61eab",
   "metadata": {
    "papermill": {
     "duration": 0.019192,
     "end_time": "2021-08-20T13:37:27.298561",
     "exception": false,
     "start_time": "2021-08-20T13:37:27.279369",
     "status": "completed"
    },
    "tags": []
   },
   "source": [
    "# Preprocessing"
   ]
  },
  {
   "cell_type": "code",
   "execution_count": 4,
   "id": "02abb4ee",
   "metadata": {
    "execution": {
     "iopub.execute_input": "2021-08-20T13:37:27.341983Z",
     "iopub.status.busy": "2021-08-20T13:37:27.341367Z",
     "iopub.status.idle": "2021-08-20T13:37:33.724896Z",
     "shell.execute_reply": "2021-08-20T13:37:33.724289Z",
     "shell.execute_reply.started": "2021-08-20T13:30:39.371264Z"
    },
    "papermill": {
     "duration": 6.407222,
     "end_time": "2021-08-20T13:37:33.725025",
     "exception": false,
     "start_time": "2021-08-20T13:37:27.317803",
     "status": "completed"
    },
    "tags": []
   },
   "outputs": [],
   "source": [
    "# model_checkpoint = \"distilbert-base-uncased\"\n",
    "# model_checkpoint = \"deepset/xlm-roberta-large-squad2\"\n",
    "# model_checkpoint = \"../input/xlm-roberta-squad2/deepset/xlm-roberta-base-squad2\"\n",
    "model_checkpoint = \"../input/pipeline-for-qa-train/test-chaii-trained\"\n",
    "\n",
    "from transformers import XLMTokenizer,AutoTokenizer\n",
    "# tokenizer = XLMTokenizer.from_pretrained('xlm-mlm-en-2048')\n",
    "tokenizer = AutoTokenizer.from_pretrained(model_checkpoint)"
   ]
  },
  {
   "cell_type": "code",
   "execution_count": 5,
   "id": "c0c25927",
   "metadata": {
    "execution": {
     "iopub.execute_input": "2021-08-20T13:37:33.768612Z",
     "iopub.status.busy": "2021-08-20T13:37:33.767971Z",
     "iopub.status.idle": "2021-08-20T13:37:33.776950Z",
     "shell.execute_reply": "2021-08-20T13:37:33.777362Z",
     "shell.execute_reply.started": "2021-08-20T13:30:47.275056Z"
    },
    "papermill": {
     "duration": 0.032669,
     "end_time": "2021-08-20T13:37:33.777490",
     "exception": false,
     "start_time": "2021-08-20T13:37:33.744821",
     "status": "completed"
    },
    "tags": []
   },
   "outputs": [
    {
     "data": {
      "text/plain": [
       "{'input_ids': [0, 4865, 83, 935, 9351, 32, 2, 2, 2646, 9351, 83, 100973, 21845, 5, 2], 'attention_mask': [1, 1, 1, 1, 1, 1, 1, 1, 1, 1, 1, 1, 1, 1, 1]}"
      ]
     },
     "execution_count": 5,
     "metadata": {},
     "output_type": "execute_result"
    }
   ],
   "source": [
    "tokenizer(\"What is your name?\", \"My name is Sylvain.\")"
   ]
  },
  {
   "cell_type": "markdown",
   "id": "32d1c860",
   "metadata": {
    "papermill": {
     "duration": 0.019495,
     "end_time": "2021-08-20T13:37:33.817236",
     "exception": false,
     "start_time": "2021-08-20T13:37:33.797741",
     "status": "completed"
    },
    "tags": []
   },
   "source": [
    "# Doc_stride is used to handle large text: tokens>512"
   ]
  },
  {
   "cell_type": "code",
   "execution_count": 6,
   "id": "21af4c0b",
   "metadata": {
    "execution": {
     "iopub.execute_input": "2021-08-20T13:37:33.883615Z",
     "iopub.status.busy": "2021-08-20T13:37:33.880661Z",
     "iopub.status.idle": "2021-08-20T13:37:33.887105Z",
     "shell.execute_reply": "2021-08-20T13:37:33.885619Z",
     "shell.execute_reply.started": "2021-08-20T13:30:47.289179Z"
    },
    "papermill": {
     "duration": 0.048536,
     "end_time": "2021-08-20T13:37:33.887535",
     "exception": false,
     "start_time": "2021-08-20T13:37:33.838999",
     "status": "completed"
    },
    "tags": []
   },
   "outputs": [],
   "source": [
    "max_length = 384 # The maximum length of a feature (question and context)\n",
    "doc_stride = 128 # The authorized overlap between two part of the context when splitting it is needed."
   ]
  },
  {
   "cell_type": "markdown",
   "id": "d85ddc7e",
   "metadata": {
    "papermill": {
     "duration": 0.03816,
     "end_time": "2021-08-20T13:37:33.958244",
     "exception": false,
     "start_time": "2021-08-20T13:37:33.920084",
     "status": "completed"
    },
    "tags": []
   },
   "source": [
    "# Lodaing model"
   ]
  },
  {
   "cell_type": "code",
   "execution_count": 7,
   "id": "fab0f09e",
   "metadata": {
    "execution": {
     "iopub.execute_input": "2021-08-20T13:37:34.246577Z",
     "iopub.status.busy": "2021-08-20T13:37:34.245752Z",
     "iopub.status.idle": "2021-08-20T13:37:34.251236Z",
     "shell.execute_reply": "2021-08-20T13:37:34.251845Z",
     "shell.execute_reply.started": "2021-08-20T13:30:47.296065Z"
    },
    "papermill": {
     "duration": 0.262224,
     "end_time": "2021-08-20T13:37:34.252056",
     "exception": false,
     "start_time": "2021-08-20T13:37:33.989832",
     "status": "completed"
    },
    "tags": []
   },
   "outputs": [
    {
     "data": {
      "text/plain": [
       "119"
      ]
     },
     "execution_count": 7,
     "metadata": {},
     "output_type": "execute_result"
    }
   ],
   "source": [
    "import gc\n",
    "gc.collect()"
   ]
  },
  {
   "cell_type": "code",
   "execution_count": 8,
   "id": "7dec6866",
   "metadata": {
    "execution": {
     "iopub.execute_input": "2021-08-20T13:37:34.322642Z",
     "iopub.status.busy": "2021-08-20T13:37:34.321886Z",
     "iopub.status.idle": "2021-08-20T13:37:58.214243Z",
     "shell.execute_reply": "2021-08-20T13:37:58.213784Z",
     "shell.execute_reply.started": "2021-08-20T13:30:47.465122Z"
    },
    "papermill": {
     "duration": 23.931634,
     "end_time": "2021-08-20T13:37:58.214384",
     "exception": false,
     "start_time": "2021-08-20T13:37:34.282750",
     "status": "completed"
    },
    "tags": []
   },
   "outputs": [],
   "source": [
    "from transformers import AutoModelForQuestionAnswering, TrainingArguments, Trainer\n",
    "\n",
    "model = AutoModelForQuestionAnswering.from_pretrained(model_checkpoint)"
   ]
  },
  {
   "cell_type": "code",
   "execution_count": 9,
   "id": "d172a146",
   "metadata": {
    "execution": {
     "iopub.execute_input": "2021-08-20T13:37:58.266477Z",
     "iopub.status.busy": "2021-08-20T13:37:58.265598Z",
     "iopub.status.idle": "2021-08-20T13:38:07.561883Z",
     "shell.execute_reply": "2021-08-20T13:38:07.561300Z",
     "shell.execute_reply.started": "2021-08-20T13:34:19.578721Z"
    },
    "papermill": {
     "duration": 9.3274,
     "end_time": "2021-08-20T13:38:07.562008",
     "exception": false,
     "start_time": "2021-08-20T13:37:58.234608",
     "status": "completed"
    },
    "tags": []
   },
   "outputs": [],
   "source": [
    "trainer = Trainer(model)"
   ]
  },
  {
   "cell_type": "markdown",
   "id": "ba534fbe",
   "metadata": {
    "papermill": {
     "duration": 0.019581,
     "end_time": "2021-08-20T13:38:07.601880",
     "exception": false,
     "start_time": "2021-08-20T13:38:07.582299",
     "status": "completed"
    },
    "tags": []
   },
   "source": [
    "# Real predictions"
   ]
  },
  {
   "cell_type": "code",
   "execution_count": 10,
   "id": "1bf7b479",
   "metadata": {
    "execution": {
     "iopub.execute_input": "2021-08-20T13:38:07.646748Z",
     "iopub.status.busy": "2021-08-20T13:38:07.646208Z",
     "iopub.status.idle": "2021-08-20T13:38:07.685554Z",
     "shell.execute_reply": "2021-08-20T13:38:07.685081Z",
     "shell.execute_reply.started": "2021-08-20T13:32:48.988298Z"
    },
    "papermill": {
     "duration": 0.063835,
     "end_time": "2021-08-20T13:38:07.685679",
     "exception": false,
     "start_time": "2021-08-20T13:38:07.621844",
     "status": "completed"
    },
    "tags": []
   },
   "outputs": [],
   "source": [
    "test = pd.read_csv('../input/chaii-hindi-and-tamil-question-answering/test.csv')\n",
    "test_dataset = Dataset.from_pandas(test)"
   ]
  },
  {
   "cell_type": "code",
   "execution_count": 11,
   "id": "57ccc82a",
   "metadata": {
    "execution": {
     "iopub.execute_input": "2021-08-20T13:38:07.730792Z",
     "iopub.status.busy": "2021-08-20T13:38:07.730217Z",
     "iopub.status.idle": "2021-08-20T13:38:07.735563Z",
     "shell.execute_reply": "2021-08-20T13:38:07.735144Z",
     "shell.execute_reply.started": "2021-08-20T13:32:49.924110Z"
    },
    "papermill": {
     "duration": 0.029681,
     "end_time": "2021-08-20T13:38:07.735676",
     "exception": false,
     "start_time": "2021-08-20T13:38:07.705995",
     "status": "completed"
    },
    "tags": []
   },
   "outputs": [
    {
     "data": {
      "text/plain": [
       "Dataset({\n",
       "    features: ['id', 'context', 'question', 'language'],\n",
       "    num_rows: 5\n",
       "})"
      ]
     },
     "execution_count": 11,
     "metadata": {},
     "output_type": "execute_result"
    }
   ],
   "source": [
    "test_dataset"
   ]
  },
  {
   "cell_type": "code",
   "execution_count": 12,
   "id": "4b682637",
   "metadata": {
    "execution": {
     "iopub.execute_input": "2021-08-20T13:38:07.779909Z",
     "iopub.status.busy": "2021-08-20T13:38:07.778675Z",
     "iopub.status.idle": "2021-08-20T13:38:07.781495Z",
     "shell.execute_reply": "2021-08-20T13:38:07.781027Z",
     "shell.execute_reply.started": "2021-08-20T13:32:50.917082Z"
    },
    "papermill": {
     "duration": 0.025825,
     "end_time": "2021-08-20T13:38:07.781603",
     "exception": false,
     "start_time": "2021-08-20T13:38:07.755778",
     "status": "completed"
    },
    "tags": []
   },
   "outputs": [],
   "source": [
    "# len(tokenized_example['input_ids'])"
   ]
  },
  {
   "cell_type": "code",
   "execution_count": 13,
   "id": "5c32be0f",
   "metadata": {
    "execution": {
     "iopub.execute_input": "2021-08-20T13:38:07.830906Z",
     "iopub.status.busy": "2021-08-20T13:38:07.830012Z",
     "iopub.status.idle": "2021-08-20T13:38:07.832713Z",
     "shell.execute_reply": "2021-08-20T13:38:07.833099Z",
     "shell.execute_reply.started": "2021-08-20T13:33:17.921168Z"
    },
    "papermill": {
     "duration": 0.031791,
     "end_time": "2021-08-20T13:38:07.833241",
     "exception": false,
     "start_time": "2021-08-20T13:38:07.801450",
     "status": "completed"
    },
    "tags": []
   },
   "outputs": [],
   "source": [
    "# In some padding required on left side\n",
    "pad_on_right = tokenizer.padding_side == \"right\"\n",
    "def prepare_validation_features(examples):\n",
    "    # Some of the questions have lots of whitespace on the left, which is not useful and will make the\n",
    "    # truncation of the context fail (the tokenized question will take a lots of space). So we remove that\n",
    "    # left whitespace\n",
    "    examples[\"question\"] = [q.lstrip() for q in examples[\"question\"]]\n",
    "\n",
    "    # Tokenize our examples with truncation and maybe padding, but keep the overflows using a stride. This results\n",
    "    # in one example possible giving several features when a context is long, each of those features having a\n",
    "    # context that overlaps a bit the context of the previous feature.\n",
    "    tokenized_examples = tokenizer(\n",
    "        examples[\"question\" if pad_on_right else \"context\"],\n",
    "        examples[\"context\" if pad_on_right else \"question\"],\n",
    "        truncation=\"only_second\" if pad_on_right else \"only_first\",\n",
    "        max_length=max_length,\n",
    "        stride=doc_stride,\n",
    "        return_overflowing_tokens=True,\n",
    "        return_offsets_mapping=True,\n",
    "        padding=\"max_length\",\n",
    "    )\n",
    "\n",
    "    # Since one example might give us several features if it has a long context, we need a map from a feature to\n",
    "    # its corresponding example. This key gives us just that.\n",
    "    sample_mapping = tokenized_examples.pop(\"overflow_to_sample_mapping\")\n",
    "\n",
    "    # We keep the example_id that gave us this feature and we will store the offset mappings.\n",
    "    tokenized_examples[\"example_id\"] = []\n",
    "\n",
    "    for i in range(len(tokenized_examples[\"input_ids\"])):\n",
    "        # Grab the sequence corresponding to that example (to know what is the context and what is the question).\n",
    "        sequence_ids = tokenized_examples.sequence_ids(i)\n",
    "        context_index = 1 if pad_on_right else 0\n",
    "\n",
    "        # One example can give several spans, this is the index of the example containing this span of text.\n",
    "        sample_index = sample_mapping[i]\n",
    "        tokenized_examples[\"example_id\"].append(examples[\"id\"][sample_index])\n",
    "\n",
    "        # Set to None the offset_mapping that are not part of the context so it's easy to determine if a token\n",
    "        # position is part of the context or not.\n",
    "        tokenized_examples[\"offset_mapping\"][i] = [\n",
    "            (o if sequence_ids[k] == context_index else None)\n",
    "            for k, o in enumerate(tokenized_examples[\"offset_mapping\"][i])\n",
    "        ]\n",
    "\n",
    "    return tokenized_examples"
   ]
  },
  {
   "cell_type": "code",
   "execution_count": 14,
   "id": "037841c8",
   "metadata": {
    "execution": {
     "iopub.execute_input": "2021-08-20T13:38:07.879626Z",
     "iopub.status.busy": "2021-08-20T13:38:07.878787Z",
     "iopub.status.idle": "2021-08-20T13:38:08.138567Z",
     "shell.execute_reply": "2021-08-20T13:38:08.139521Z",
     "shell.execute_reply.started": "2021-08-20T13:33:19.123768Z"
    },
    "papermill": {
     "duration": 0.286131,
     "end_time": "2021-08-20T13:38:08.139724",
     "exception": false,
     "start_time": "2021-08-20T13:38:07.853593",
     "status": "completed"
    },
    "tags": []
   },
   "outputs": [
    {
     "name": "stdout",
     "output_type": "stream",
     "text": [
      "dict_keys(['input_ids', 'attention_mask', 'offset_mapping', 'example_id'])\n"
     ]
    }
   ],
   "source": [
    "features = prepare_validation_features(test_dataset[:5])\n",
    "print(features.keys())"
   ]
  },
  {
   "cell_type": "code",
   "execution_count": 15,
   "id": "3382546c",
   "metadata": {
    "execution": {
     "iopub.execute_input": "2021-08-20T13:38:08.221669Z",
     "iopub.status.busy": "2021-08-20T13:38:08.220764Z",
     "iopub.status.idle": "2021-08-20T13:38:08.603363Z",
     "shell.execute_reply": "2021-08-20T13:38:08.603904Z",
     "shell.execute_reply.started": "2021-08-20T13:33:20.733963Z"
    },
    "papermill": {
     "duration": 0.442843,
     "end_time": "2021-08-20T13:38:08.604100",
     "exception": false,
     "start_time": "2021-08-20T13:38:08.161257",
     "status": "completed"
    },
    "tags": []
   },
   "outputs": [
    {
     "data": {
      "application/vnd.jupyter.widget-view+json": {
       "model_id": "fa96144d51d64406b8176ed8c11c7776",
       "version_major": 2,
       "version_minor": 0
      },
      "text/plain": [
       "HBox(children=(FloatProgress(value=0.0, max=1.0), HTML(value='')))"
      ]
     },
     "metadata": {},
     "output_type": "display_data"
    },
    {
     "name": "stdout",
     "output_type": "stream",
     "text": [
      "\n"
     ]
    }
   ],
   "source": [
    "validation_features = test_dataset.map(\n",
    "    prepare_validation_features,\n",
    "    batched=True,\n",
    "    remove_columns=test_dataset.column_names\n",
    ")"
   ]
  },
  {
   "cell_type": "code",
   "execution_count": 16,
   "id": "fbb39b1e",
   "metadata": {
    "execution": {
     "iopub.execute_input": "2021-08-20T13:38:08.834681Z",
     "iopub.status.busy": "2021-08-20T13:38:08.834062Z",
     "iopub.status.idle": "2021-08-20T13:38:12.946959Z",
     "shell.execute_reply": "2021-08-20T13:38:12.946492Z",
     "shell.execute_reply.started": "2021-08-20T13:34:42.199751Z"
    },
    "papermill": {
     "duration": 4.320404,
     "end_time": "2021-08-20T13:38:12.947087",
     "exception": false,
     "start_time": "2021-08-20T13:38:08.626683",
     "status": "completed"
    },
    "tags": []
   },
   "outputs": [
    {
     "data": {
      "text/html": [
       "\n",
       "    <div>\n",
       "      \n",
       "      <progress value='9' max='9' style='width:300px; height:20px; vertical-align: middle;'></progress>\n",
       "      [9/9 00:02]\n",
       "    </div>\n",
       "    "
      ],
      "text/plain": [
       "<IPython.core.display.HTML object>"
      ]
     },
     "metadata": {},
     "output_type": "display_data"
    }
   ],
   "source": [
    "raw_predictions = trainer.predict(validation_features)"
   ]
  },
  {
   "cell_type": "code",
   "execution_count": 17,
   "id": "715b0670",
   "metadata": {
    "execution": {
     "iopub.execute_input": "2021-08-20T13:38:12.997038Z",
     "iopub.status.busy": "2021-08-20T13:38:12.995595Z",
     "iopub.status.idle": "2021-08-20T13:38:12.998431Z",
     "shell.execute_reply": "2021-08-20T13:38:12.997986Z",
     "shell.execute_reply.started": "2021-08-20T13:34:47.789372Z"
    },
    "papermill": {
     "duration": 0.029562,
     "end_time": "2021-08-20T13:38:12.998554",
     "exception": false,
     "start_time": "2021-08-20T13:38:12.968992",
     "status": "completed"
    },
    "tags": []
   },
   "outputs": [],
   "source": [
    "validation_features.set_format(type=validation_features.format[\"type\"], columns=list(validation_features.features.keys()))"
   ]
  },
  {
   "cell_type": "code",
   "execution_count": 18,
   "id": "ea23a244",
   "metadata": {
    "execution": {
     "iopub.execute_input": "2021-08-20T13:38:13.057554Z",
     "iopub.status.busy": "2021-08-20T13:38:13.056008Z",
     "iopub.status.idle": "2021-08-20T13:38:13.058364Z",
     "shell.execute_reply": "2021-08-20T13:38:13.058803Z",
     "shell.execute_reply.started": "2021-08-20T13:34:48.736726Z"
    },
    "papermill": {
     "duration": 0.038299,
     "end_time": "2021-08-20T13:38:13.058933",
     "exception": false,
     "start_time": "2021-08-20T13:38:13.020634",
     "status": "completed"
    },
    "tags": []
   },
   "outputs": [],
   "source": [
    "from tqdm.auto import tqdm\n",
    "import collections\n",
    "\n",
    "\n",
    "def postprocess_qa_predictions(examples, features, raw_predictions, n_best_size = 20, max_answer_length = 30):\n",
    "    all_start_logits, all_end_logits = raw_predictions\n",
    "    # Build a map example to its corresponding features.\n",
    "    example_id_to_index = {k: i for i, k in enumerate(examples[\"id\"])}\n",
    "    features_per_example = collections.defaultdict(list)\n",
    "    for i, feature in enumerate(features):\n",
    "        features_per_example[example_id_to_index[feature[\"example_id\"]]].append(i)\n",
    "\n",
    "    # The dictionaries we have to fill.\n",
    "    predictions = collections.OrderedDict()\n",
    "\n",
    "    # Logging.\n",
    "    print(f\"Post-processing {len(examples)} example predictions split into {len(features)} features.\")\n",
    "\n",
    "    # Let's loop over all the examples!\n",
    "    for example_index, example in enumerate(tqdm(examples)):\n",
    "        # Those are the indices of the features associated to the current example.\n",
    "        feature_indices = features_per_example[example_index]\n",
    "\n",
    "        min_null_score = None # Only used if squad_v2 is True.\n",
    "        valid_answers = []\n",
    "        \n",
    "        context = example[\"context\"]\n",
    "        # Looping through all the features associated to the current example.\n",
    "        for feature_index in feature_indices:\n",
    "            # We grab the predictions of the model for this feature.\n",
    "            start_logits = all_start_logits[feature_index]\n",
    "            end_logits = all_end_logits[feature_index]\n",
    "            # This is what will allow us to map some the positions in our logits to span of texts in the original\n",
    "            # context.\n",
    "            offset_mapping = features[feature_index][\"offset_mapping\"]\n",
    "\n",
    "            # Update minimum null prediction.\n",
    "            cls_index = features[feature_index][\"input_ids\"].index(tokenizer.cls_token_id)\n",
    "            feature_null_score = start_logits[cls_index] + end_logits[cls_index]\n",
    "            if min_null_score is None or min_null_score < feature_null_score:\n",
    "                min_null_score = feature_null_score\n",
    "\n",
    "            # Go through all possibilities for the `n_best_size` greater start and end logits.\n",
    "            start_indexes = np.argsort(start_logits)[-1 : -n_best_size - 1 : -1].tolist()\n",
    "            end_indexes = np.argsort(end_logits)[-1 : -n_best_size - 1 : -1].tolist()\n",
    "            for start_index in start_indexes:\n",
    "                for end_index in end_indexes:\n",
    "                    # Don't consider out-of-scope answers, either because the indices are out of bounds or correspond\n",
    "                    # to part of the input_ids that are not in the context.\n",
    "                    if (\n",
    "                        start_index >= len(offset_mapping)\n",
    "                        or end_index >= len(offset_mapping)\n",
    "                        or offset_mapping[start_index] is None\n",
    "                        or offset_mapping[end_index] is None\n",
    "                    ):\n",
    "                        continue\n",
    "                    # Don't consider answers with a length that is either < 0 or > max_answer_length.\n",
    "                    if end_index < start_index or end_index - start_index + 1 > max_answer_length:\n",
    "                        continue\n",
    "\n",
    "                    start_char = offset_mapping[start_index][0]\n",
    "                    end_char = offset_mapping[end_index][1]\n",
    "                    valid_answers.append(\n",
    "                        {\n",
    "                            \"score\": start_logits[start_index] + end_logits[end_index],\n",
    "                            \"text\": context[start_char: end_char]\n",
    "                        }\n",
    "                    )\n",
    "        \n",
    "        if len(valid_answers) > 0:\n",
    "            best_answer = sorted(valid_answers, key=lambda x: x[\"score\"], reverse=True)[0]\n",
    "        else:\n",
    "            # In the very rare edge case we have not a single non-null prediction, we create a fake prediction to avoid\n",
    "            # failure.\n",
    "            best_answer = {\"text\": \"\", \"score\": 0.0}\n",
    "        \n",
    "        # Let's pick our final answer: the best one or the null answer (only for squad_v2)\n",
    "#         if not squad_v2:\n",
    "        predictions[example[\"id\"]] = best_answer[\"text\"]\n",
    "#         else:\n",
    "#             answer = best_answer[\"text\"] if best_answer[\"score\"] > min_null_score else \"\"\n",
    "#             predictions[example[\"id\"]] = answer\n",
    "\n",
    "    return predictions"
   ]
  },
  {
   "cell_type": "code",
   "execution_count": 19,
   "id": "f147ae56",
   "metadata": {
    "execution": {
     "iopub.execute_input": "2021-08-20T13:38:13.233512Z",
     "iopub.status.busy": "2021-08-20T13:38:13.232661Z",
     "iopub.status.idle": "2021-08-20T13:38:13.474695Z",
     "shell.execute_reply": "2021-08-20T13:38:13.475278Z",
     "shell.execute_reply.started": "2021-08-20T13:35:08.788616Z"
    },
    "papermill": {
     "duration": 0.394887,
     "end_time": "2021-08-20T13:38:13.475487",
     "exception": false,
     "start_time": "2021-08-20T13:38:13.080600",
     "status": "completed"
    },
    "tags": []
   },
   "outputs": [
    {
     "name": "stdout",
     "output_type": "stream",
     "text": [
      "Post-processing 5 example predictions split into 67 features.\n"
     ]
    },
    {
     "data": {
      "application/vnd.jupyter.widget-view+json": {
       "model_id": "8c5f2822f81c4df387e0fe19deec74d5",
       "version_major": 2,
       "version_minor": 0
      },
      "text/plain": [
       "HBox(children=(FloatProgress(value=0.0, max=5.0), HTML(value='')))"
      ]
     },
     "metadata": {},
     "output_type": "display_data"
    },
    {
     "name": "stdout",
     "output_type": "stream",
     "text": [
      "\n"
     ]
    }
   ],
   "source": [
    "final_predictions = postprocess_qa_predictions(test_dataset, validation_features, raw_predictions.predictions)"
   ]
  },
  {
   "cell_type": "code",
   "execution_count": 20,
   "id": "ac73d84c",
   "metadata": {
    "execution": {
     "iopub.execute_input": "2021-08-20T13:38:13.527434Z",
     "iopub.status.busy": "2021-08-20T13:38:13.526850Z",
     "iopub.status.idle": "2021-08-20T13:38:13.529953Z",
     "shell.execute_reply": "2021-08-20T13:38:13.530363Z",
     "shell.execute_reply.started": "2021-08-20T13:35:10.311668Z"
    },
    "papermill": {
     "duration": 0.031048,
     "end_time": "2021-08-20T13:38:13.530487",
     "exception": false,
     "start_time": "2021-08-20T13:38:13.499439",
     "status": "completed"
    },
    "tags": []
   },
   "outputs": [
    {
     "data": {
      "text/plain": [
       "[' येलन',\n",
       " ' 20 अप्रैल 2010',\n",
       " '१२ मार्च १८२४',\n",
       " ' 13',\n",
       " 'சுவாமிநாதன் மற்றும் வர்கீஸ் குரியன்']"
      ]
     },
     "execution_count": 20,
     "metadata": {},
     "output_type": "execute_result"
    }
   ],
   "source": [
    "final_list = list(final_predictions.values())\n",
    "final_list"
   ]
  },
  {
   "cell_type": "code",
   "execution_count": 21,
   "id": "38947533",
   "metadata": {
    "execution": {
     "iopub.execute_input": "2021-08-20T13:38:13.579449Z",
     "iopub.status.busy": "2021-08-20T13:38:13.578932Z",
     "iopub.status.idle": "2021-08-20T13:38:13.596932Z",
     "shell.execute_reply": "2021-08-20T13:38:13.596457Z",
     "shell.execute_reply.started": "2021-08-20T13:35:14.523462Z"
    },
    "papermill": {
     "duration": 0.043975,
     "end_time": "2021-08-20T13:38:13.597050",
     "exception": false,
     "start_time": "2021-08-20T13:38:13.553075",
     "status": "completed"
    },
    "tags": []
   },
   "outputs": [
    {
     "data": {
      "text/html": [
       "<div>\n",
       "<style scoped>\n",
       "    .dataframe tbody tr th:only-of-type {\n",
       "        vertical-align: middle;\n",
       "    }\n",
       "\n",
       "    .dataframe tbody tr th {\n",
       "        vertical-align: top;\n",
       "    }\n",
       "\n",
       "    .dataframe thead th {\n",
       "        text-align: right;\n",
       "    }\n",
       "</style>\n",
       "<table border=\"1\" class=\"dataframe\">\n",
       "  <thead>\n",
       "    <tr style=\"text-align: right;\">\n",
       "      <th></th>\n",
       "      <th>id</th>\n",
       "      <th>context</th>\n",
       "      <th>question</th>\n",
       "      <th>language</th>\n",
       "    </tr>\n",
       "  </thead>\n",
       "  <tbody>\n",
       "    <tr>\n",
       "      <th>0</th>\n",
       "      <td>22bff3dec</td>\n",
       "      <td>ज्वाला गुट्टा (जन्म: 7 सितंबर 1983; वर्धा, महा...</td>\n",
       "      <td>ज्वाला गुट्टा की माँ का नाम क्या है</td>\n",
       "      <td>hindi</td>\n",
       "    </tr>\n",
       "    <tr>\n",
       "      <th>1</th>\n",
       "      <td>282758170</td>\n",
       "      <td>गूगल मानचित्र (Google Maps) (पूर्व में गूगल लो...</td>\n",
       "      <td>गूगल मैप्स कब लॉन्च किया गया था?</td>\n",
       "      <td>hindi</td>\n",
       "    </tr>\n",
       "    <tr>\n",
       "      <th>2</th>\n",
       "      <td>d60987e0e</td>\n",
       "      <td>गुस्ताव रॉबर्ट किरचॉफ़ (१२ मार्च १८२४ - १७ अक्...</td>\n",
       "      <td>गुस्ताव किरचॉफ का जन्म कब हुआ था?</td>\n",
       "      <td>hindi</td>\n",
       "    </tr>\n",
       "    <tr>\n",
       "      <th>3</th>\n",
       "      <td>f99c770dc</td>\n",
       "      <td>அலுமினியம் (ஆங்கிலம்: அலுமினியம்; வட அமெரிக்க ...</td>\n",
       "      <td>அலுமினியத்தின் அணு எண் என்ன?</td>\n",
       "      <td>tamil</td>\n",
       "    </tr>\n",
       "    <tr>\n",
       "      <th>4</th>\n",
       "      <td>40dec1964</td>\n",
       "      <td>கூட்டுறவு இயக்க வரலாறு, இங்கிலாந்து  நாட்டில் ...</td>\n",
       "      <td>இந்தியாவில் பசுமை புரட்சியின் தந்தை என்று கருத...</td>\n",
       "      <td>tamil</td>\n",
       "    </tr>\n",
       "  </tbody>\n",
       "</table>\n",
       "</div>"
      ],
      "text/plain": [
       "          id                                            context  \\\n",
       "0  22bff3dec  ज्वाला गुट्टा (जन्म: 7 सितंबर 1983; वर्धा, महा...   \n",
       "1  282758170  गूगल मानचित्र (Google Maps) (पूर्व में गूगल लो...   \n",
       "2  d60987e0e  गुस्ताव रॉबर्ट किरचॉफ़ (१२ मार्च १८२४ - १७ अक्...   \n",
       "3  f99c770dc  அலுமினியம் (ஆங்கிலம்: அலுமினியம்; வட அமெரிக்க ...   \n",
       "4  40dec1964  கூட்டுறவு இயக்க வரலாறு, இங்கிலாந்து  நாட்டில் ...   \n",
       "\n",
       "                                            question language  \n",
       "0                ज्वाला गुट्टा की माँ का नाम क्या है    hindi  \n",
       "1                   गूगल मैप्स कब लॉन्च किया गया था?    hindi  \n",
       "2                  गुस्ताव किरचॉफ का जन्म कब हुआ था?    hindi  \n",
       "3                       அலுமினியத்தின் அணு எண் என்ன?    tamil  \n",
       "4  இந்தியாவில் பசுமை புரட்சியின் தந்தை என்று கருத...    tamil  "
      ]
     },
     "execution_count": 21,
     "metadata": {},
     "output_type": "execute_result"
    }
   ],
   "source": [
    "test"
   ]
  },
  {
   "cell_type": "code",
   "execution_count": 22,
   "id": "c4d2fcea",
   "metadata": {
    "execution": {
     "iopub.execute_input": "2021-08-20T13:38:13.650169Z",
     "iopub.status.busy": "2021-08-20T13:38:13.649669Z",
     "iopub.status.idle": "2021-08-20T13:38:13.653554Z",
     "shell.execute_reply": "2021-08-20T13:38:13.653129Z",
     "shell.execute_reply.started": "2021-08-20T13:35:18.104330Z"
    },
    "papermill": {
     "duration": 0.032462,
     "end_time": "2021-08-20T13:38:13.653666",
     "exception": false,
     "start_time": "2021-08-20T13:38:13.621204",
     "status": "completed"
    },
    "tags": []
   },
   "outputs": [],
   "source": [
    "test['PredictionString']=final_list"
   ]
  },
  {
   "cell_type": "code",
   "execution_count": 23,
   "id": "694ccc60",
   "metadata": {
    "execution": {
     "iopub.execute_input": "2021-08-20T13:38:13.711986Z",
     "iopub.status.busy": "2021-08-20T13:38:13.711423Z",
     "iopub.status.idle": "2021-08-20T13:38:13.714746Z",
     "shell.execute_reply": "2021-08-20T13:38:13.715149Z",
     "shell.execute_reply.started": "2021-08-20T13:35:18.478675Z"
    },
    "papermill": {
     "duration": 0.038383,
     "end_time": "2021-08-20T13:38:13.715273",
     "exception": false,
     "start_time": "2021-08-20T13:38:13.676890",
     "status": "completed"
    },
    "tags": []
   },
   "outputs": [
    {
     "data": {
      "text/html": [
       "<div>\n",
       "<style scoped>\n",
       "    .dataframe tbody tr th:only-of-type {\n",
       "        vertical-align: middle;\n",
       "    }\n",
       "\n",
       "    .dataframe tbody tr th {\n",
       "        vertical-align: top;\n",
       "    }\n",
       "\n",
       "    .dataframe thead th {\n",
       "        text-align: right;\n",
       "    }\n",
       "</style>\n",
       "<table border=\"1\" class=\"dataframe\">\n",
       "  <thead>\n",
       "    <tr style=\"text-align: right;\">\n",
       "      <th></th>\n",
       "      <th>id</th>\n",
       "      <th>context</th>\n",
       "      <th>question</th>\n",
       "      <th>language</th>\n",
       "      <th>PredictionString</th>\n",
       "    </tr>\n",
       "  </thead>\n",
       "  <tbody>\n",
       "    <tr>\n",
       "      <th>0</th>\n",
       "      <td>22bff3dec</td>\n",
       "      <td>ज्वाला गुट्टा (जन्म: 7 सितंबर 1983; वर्धा, महा...</td>\n",
       "      <td>ज्वाला गुट्टा की माँ का नाम क्या है</td>\n",
       "      <td>hindi</td>\n",
       "      <td>येलन</td>\n",
       "    </tr>\n",
       "    <tr>\n",
       "      <th>1</th>\n",
       "      <td>282758170</td>\n",
       "      <td>गूगल मानचित्र (Google Maps) (पूर्व में गूगल लो...</td>\n",
       "      <td>गूगल मैप्स कब लॉन्च किया गया था?</td>\n",
       "      <td>hindi</td>\n",
       "      <td>20 अप्रैल 2010</td>\n",
       "    </tr>\n",
       "    <tr>\n",
       "      <th>2</th>\n",
       "      <td>d60987e0e</td>\n",
       "      <td>गुस्ताव रॉबर्ट किरचॉफ़ (१२ मार्च १८२४ - १७ अक्...</td>\n",
       "      <td>गुस्ताव किरचॉफ का जन्म कब हुआ था?</td>\n",
       "      <td>hindi</td>\n",
       "      <td>१२ मार्च १८२४</td>\n",
       "    </tr>\n",
       "    <tr>\n",
       "      <th>3</th>\n",
       "      <td>f99c770dc</td>\n",
       "      <td>அலுமினியம் (ஆங்கிலம்: அலுமினியம்; வட அமெரிக்க ...</td>\n",
       "      <td>அலுமினியத்தின் அணு எண் என்ன?</td>\n",
       "      <td>tamil</td>\n",
       "      <td>13</td>\n",
       "    </tr>\n",
       "    <tr>\n",
       "      <th>4</th>\n",
       "      <td>40dec1964</td>\n",
       "      <td>கூட்டுறவு இயக்க வரலாறு, இங்கிலாந்து  நாட்டில் ...</td>\n",
       "      <td>இந்தியாவில் பசுமை புரட்சியின் தந்தை என்று கருத...</td>\n",
       "      <td>tamil</td>\n",
       "      <td>சுவாமிநாதன் மற்றும் வர்கீஸ் குரியன்</td>\n",
       "    </tr>\n",
       "  </tbody>\n",
       "</table>\n",
       "</div>"
      ],
      "text/plain": [
       "          id                                            context  \\\n",
       "0  22bff3dec  ज्वाला गुट्टा (जन्म: 7 सितंबर 1983; वर्धा, महा...   \n",
       "1  282758170  गूगल मानचित्र (Google Maps) (पूर्व में गूगल लो...   \n",
       "2  d60987e0e  गुस्ताव रॉबर्ट किरचॉफ़ (१२ मार्च १८२४ - १७ अक्...   \n",
       "3  f99c770dc  அலுமினியம் (ஆங்கிலம்: அலுமினியம்; வட அமெரிக்க ...   \n",
       "4  40dec1964  கூட்டுறவு இயக்க வரலாறு, இங்கிலாந்து  நாட்டில் ...   \n",
       "\n",
       "                                            question language  \\\n",
       "0                ज्वाला गुट्टा की माँ का नाम क्या है    hindi   \n",
       "1                   गूगल मैप्स कब लॉन्च किया गया था?    hindi   \n",
       "2                  गुस्ताव किरचॉफ का जन्म कब हुआ था?    hindi   \n",
       "3                       அலுமினியத்தின் அணு எண் என்ன?    tamil   \n",
       "4  இந்தியாவில் பசுமை புரட்சியின் தந்தை என்று கருத...    tamil   \n",
       "\n",
       "                      PredictionString  \n",
       "0                                 येलन  \n",
       "1                       20 अप्रैल 2010  \n",
       "2                        १२ मार्च १८२४  \n",
       "3                                   13  \n",
       "4  சுவாமிநாதன் மற்றும் வர்கீஸ் குரியன்  "
      ]
     },
     "execution_count": 23,
     "metadata": {},
     "output_type": "execute_result"
    }
   ],
   "source": [
    "test.head()"
   ]
  },
  {
   "cell_type": "code",
   "execution_count": 24,
   "id": "46068468",
   "metadata": {
    "execution": {
     "iopub.execute_input": "2021-08-20T13:38:13.768034Z",
     "iopub.status.busy": "2021-08-20T13:38:13.767419Z",
     "iopub.status.idle": "2021-08-20T13:38:13.772645Z",
     "shell.execute_reply": "2021-08-20T13:38:13.772212Z",
     "shell.execute_reply.started": "2021-08-20T13:35:19.151660Z"
    },
    "papermill": {
     "duration": 0.033591,
     "end_time": "2021-08-20T13:38:13.772755",
     "exception": false,
     "start_time": "2021-08-20T13:38:13.739164",
     "status": "completed"
    },
    "tags": []
   },
   "outputs": [],
   "source": [
    "test[['id','PredictionString']].to_csv('submission.csv',index=False)"
   ]
  },
  {
   "cell_type": "code",
   "execution_count": null,
   "id": "23e61c94",
   "metadata": {
    "papermill": {
     "duration": 0.023404,
     "end_time": "2021-08-20T13:38:13.819826",
     "exception": false,
     "start_time": "2021-08-20T13:38:13.796422",
     "status": "completed"
    },
    "tags": []
   },
   "outputs": [],
   "source": []
  },
  {
   "cell_type": "code",
   "execution_count": null,
   "id": "ae04eadf",
   "metadata": {
    "papermill": {
     "duration": 0.023214,
     "end_time": "2021-08-20T13:38:13.866578",
     "exception": false,
     "start_time": "2021-08-20T13:38:13.843364",
     "status": "completed"
    },
    "tags": []
   },
   "outputs": [],
   "source": []
  }
 ],
 "metadata": {
  "kernelspec": {
   "display_name": "Python 3",
   "language": "python",
   "name": "python3"
  },
  "language_info": {
   "codemirror_mode": {
    "name": "ipython",
    "version": 3
   },
   "file_extension": ".py",
   "mimetype": "text/x-python",
   "name": "python",
   "nbconvert_exporter": "python",
   "pygments_lexer": "ipython3",
   "version": "3.7.10"
  },
  "papermill": {
   "default_parameters": {},
   "duration": 66.632927,
   "end_time": "2021-08-20T13:38:17.140836",
   "environment_variables": {},
   "exception": null,
   "input_path": "__notebook__.ipynb",
   "output_path": "__notebook__.ipynb",
   "parameters": {},
   "start_time": "2021-08-20T13:37:10.507909",
   "version": "2.3.3"
  },
  "widgets": {
   "application/vnd.jupyter.widget-state+json": {
    "state": {
     "0cae0f729b774acd9bd84319aad2a095": {
      "model_module": "@jupyter-widgets/base",
      "model_module_version": "1.2.0",
      "model_name": "LayoutModel",
      "state": {
       "_model_module": "@jupyter-widgets/base",
       "_model_module_version": "1.2.0",
       "_model_name": "LayoutModel",
       "_view_count": null,
       "_view_module": "@jupyter-widgets/base",
       "_view_module_version": "1.2.0",
       "_view_name": "LayoutView",
       "align_content": null,
       "align_items": null,
       "align_self": null,
       "border": null,
       "bottom": null,
       "display": null,
       "flex": null,
       "flex_flow": null,
       "grid_area": null,
       "grid_auto_columns": null,
       "grid_auto_flow": null,
       "grid_auto_rows": null,
       "grid_column": null,
       "grid_gap": null,
       "grid_row": null,
       "grid_template_areas": null,
       "grid_template_columns": null,
       "grid_template_rows": null,
       "height": null,
       "justify_content": null,
       "justify_items": null,
       "left": null,
       "margin": null,
       "max_height": null,
       "max_width": null,
       "min_height": null,
       "min_width": null,
       "object_fit": null,
       "object_position": null,
       "order": null,
       "overflow": null,
       "overflow_x": null,
       "overflow_y": null,
       "padding": null,
       "right": null,
       "top": null,
       "visibility": null,
       "width": null
      }
     },
     "32b93e82b71d4eb99f64bde38c8030bc": {
      "model_module": "@jupyter-widgets/controls",
      "model_module_version": "1.5.0",
      "model_name": "ProgressStyleModel",
      "state": {
       "_model_module": "@jupyter-widgets/controls",
       "_model_module_version": "1.5.0",
       "_model_name": "ProgressStyleModel",
       "_view_count": null,
       "_view_module": "@jupyter-widgets/base",
       "_view_module_version": "1.2.0",
       "_view_name": "StyleView",
       "bar_color": null,
       "description_width": "initial"
      }
     },
     "47a2871266c44e9cac39e4b861a63092": {
      "model_module": "@jupyter-widgets/controls",
      "model_module_version": "1.5.0",
      "model_name": "HTMLModel",
      "state": {
       "_dom_classes": [],
       "_model_module": "@jupyter-widgets/controls",
       "_model_module_version": "1.5.0",
       "_model_name": "HTMLModel",
       "_view_count": null,
       "_view_module": "@jupyter-widgets/controls",
       "_view_module_version": "1.5.0",
       "_view_name": "HTMLView",
       "description": "",
       "description_tooltip": null,
       "layout": "IPY_MODEL_71642a1ec48a4ed296966a3fee91e447",
       "placeholder": "​",
       "style": "IPY_MODEL_83254d77d587459fb3994df9ba176ad9",
       "value": "&lt;tqdm.auto.tqdm object at 0x7f2ac4bed110&gt;"
      }
     },
     "4fb6fd548514448caa41e487e4f65aa4": {
      "model_module": "@jupyter-widgets/controls",
      "model_module_version": "1.5.0",
      "model_name": "FloatProgressModel",
      "state": {
       "_dom_classes": [],
       "_model_module": "@jupyter-widgets/controls",
       "_model_module_version": "1.5.0",
       "_model_name": "FloatProgressModel",
       "_view_count": null,
       "_view_module": "@jupyter-widgets/controls",
       "_view_module_version": "1.5.0",
       "_view_name": "ProgressView",
       "bar_style": "success",
       "description": "",
       "description_tooltip": null,
       "layout": "IPY_MODEL_56fcbfc58dbc4e9880cb488ade06e9d8",
       "max": 1.0,
       "min": 0.0,
       "orientation": "horizontal",
       "style": "IPY_MODEL_32b93e82b71d4eb99f64bde38c8030bc",
       "value": 1.0
      }
     },
     "56fcbfc58dbc4e9880cb488ade06e9d8": {
      "model_module": "@jupyter-widgets/base",
      "model_module_version": "1.2.0",
      "model_name": "LayoutModel",
      "state": {
       "_model_module": "@jupyter-widgets/base",
       "_model_module_version": "1.2.0",
       "_model_name": "LayoutModel",
       "_view_count": null,
       "_view_module": "@jupyter-widgets/base",
       "_view_module_version": "1.2.0",
       "_view_name": "LayoutView",
       "align_content": null,
       "align_items": null,
       "align_self": null,
       "border": null,
       "bottom": null,
       "display": null,
       "flex": null,
       "flex_flow": null,
       "grid_area": null,
       "grid_auto_columns": null,
       "grid_auto_flow": null,
       "grid_auto_rows": null,
       "grid_column": null,
       "grid_gap": null,
       "grid_row": null,
       "grid_template_areas": null,
       "grid_template_columns": null,
       "grid_template_rows": null,
       "height": null,
       "justify_content": null,
       "justify_items": null,
       "left": null,
       "margin": null,
       "max_height": null,
       "max_width": null,
       "min_height": null,
       "min_width": null,
       "object_fit": null,
       "object_position": null,
       "order": null,
       "overflow": null,
       "overflow_x": null,
       "overflow_y": null,
       "padding": null,
       "right": null,
       "top": null,
       "visibility": null,
       "width": null
      }
     },
     "6d5a7a8a26884b54a6a479227f987b50": {
      "model_module": "@jupyter-widgets/base",
      "model_module_version": "1.2.0",
      "model_name": "LayoutModel",
      "state": {
       "_model_module": "@jupyter-widgets/base",
       "_model_module_version": "1.2.0",
       "_model_name": "LayoutModel",
       "_view_count": null,
       "_view_module": "@jupyter-widgets/base",
       "_view_module_version": "1.2.0",
       "_view_name": "LayoutView",
       "align_content": null,
       "align_items": null,
       "align_self": null,
       "border": null,
       "bottom": null,
       "display": null,
       "flex": null,
       "flex_flow": null,
       "grid_area": null,
       "grid_auto_columns": null,
       "grid_auto_flow": null,
       "grid_auto_rows": null,
       "grid_column": null,
       "grid_gap": null,
       "grid_row": null,
       "grid_template_areas": null,
       "grid_template_columns": null,
       "grid_template_rows": null,
       "height": null,
       "justify_content": null,
       "justify_items": null,
       "left": null,
       "margin": null,
       "max_height": null,
       "max_width": null,
       "min_height": null,
       "min_width": null,
       "object_fit": null,
       "object_position": null,
       "order": null,
       "overflow": null,
       "overflow_x": null,
       "overflow_y": null,
       "padding": null,
       "right": null,
       "top": null,
       "visibility": null,
       "width": null
      }
     },
     "71642a1ec48a4ed296966a3fee91e447": {
      "model_module": "@jupyter-widgets/base",
      "model_module_version": "1.2.0",
      "model_name": "LayoutModel",
      "state": {
       "_model_module": "@jupyter-widgets/base",
       "_model_module_version": "1.2.0",
       "_model_name": "LayoutModel",
       "_view_count": null,
       "_view_module": "@jupyter-widgets/base",
       "_view_module_version": "1.2.0",
       "_view_name": "LayoutView",
       "align_content": null,
       "align_items": null,
       "align_self": null,
       "border": null,
       "bottom": null,
       "display": null,
       "flex": null,
       "flex_flow": null,
       "grid_area": null,
       "grid_auto_columns": null,
       "grid_auto_flow": null,
       "grid_auto_rows": null,
       "grid_column": null,
       "grid_gap": null,
       "grid_row": null,
       "grid_template_areas": null,
       "grid_template_columns": null,
       "grid_template_rows": null,
       "height": null,
       "justify_content": null,
       "justify_items": null,
       "left": null,
       "margin": null,
       "max_height": null,
       "max_width": null,
       "min_height": null,
       "min_width": null,
       "object_fit": null,
       "object_position": null,
       "order": null,
       "overflow": null,
       "overflow_x": null,
       "overflow_y": null,
       "padding": null,
       "right": null,
       "top": null,
       "visibility": null,
       "width": null
      }
     },
     "7399b451dab74e31948156c08f8778f9": {
      "model_module": "@jupyter-widgets/base",
      "model_module_version": "1.2.0",
      "model_name": "LayoutModel",
      "state": {
       "_model_module": "@jupyter-widgets/base",
       "_model_module_version": "1.2.0",
       "_model_name": "LayoutModel",
       "_view_count": null,
       "_view_module": "@jupyter-widgets/base",
       "_view_module_version": "1.2.0",
       "_view_name": "LayoutView",
       "align_content": null,
       "align_items": null,
       "align_self": null,
       "border": null,
       "bottom": null,
       "display": null,
       "flex": null,
       "flex_flow": null,
       "grid_area": null,
       "grid_auto_columns": null,
       "grid_auto_flow": null,
       "grid_auto_rows": null,
       "grid_column": null,
       "grid_gap": null,
       "grid_row": null,
       "grid_template_areas": null,
       "grid_template_columns": null,
       "grid_template_rows": null,
       "height": null,
       "justify_content": null,
       "justify_items": null,
       "left": null,
       "margin": null,
       "max_height": null,
       "max_width": null,
       "min_height": null,
       "min_width": null,
       "object_fit": null,
       "object_position": null,
       "order": null,
       "overflow": null,
       "overflow_x": null,
       "overflow_y": null,
       "padding": null,
       "right": null,
       "top": null,
       "visibility": null,
       "width": null
      }
     },
     "83254d77d587459fb3994df9ba176ad9": {
      "model_module": "@jupyter-widgets/controls",
      "model_module_version": "1.5.0",
      "model_name": "DescriptionStyleModel",
      "state": {
       "_model_module": "@jupyter-widgets/controls",
       "_model_module_version": "1.5.0",
       "_model_name": "DescriptionStyleModel",
       "_view_count": null,
       "_view_module": "@jupyter-widgets/base",
       "_view_module_version": "1.2.0",
       "_view_name": "StyleView",
       "description_width": ""
      }
     },
     "88b35c22401648d596f6023484b32940": {
      "model_module": "@jupyter-widgets/controls",
      "model_module_version": "1.5.0",
      "model_name": "ProgressStyleModel",
      "state": {
       "_model_module": "@jupyter-widgets/controls",
       "_model_module_version": "1.5.0",
       "_model_name": "ProgressStyleModel",
       "_view_count": null,
       "_view_module": "@jupyter-widgets/base",
       "_view_module_version": "1.2.0",
       "_view_name": "StyleView",
       "bar_color": null,
       "description_width": "initial"
      }
     },
     "8c5f2822f81c4df387e0fe19deec74d5": {
      "model_module": "@jupyter-widgets/controls",
      "model_module_version": "1.5.0",
      "model_name": "HBoxModel",
      "state": {
       "_dom_classes": [],
       "_model_module": "@jupyter-widgets/controls",
       "_model_module_version": "1.5.0",
       "_model_name": "HBoxModel",
       "_view_count": null,
       "_view_module": "@jupyter-widgets/controls",
       "_view_module_version": "1.5.0",
       "_view_name": "HBoxView",
       "box_style": "",
       "children": [
        "IPY_MODEL_93f799ae79cf42dcb9b84ae5eaadfc88",
        "IPY_MODEL_47a2871266c44e9cac39e4b861a63092"
       ],
       "layout": "IPY_MODEL_e3985f20ac81483f9847ee13de612bd6"
      }
     },
     "93f799ae79cf42dcb9b84ae5eaadfc88": {
      "model_module": "@jupyter-widgets/controls",
      "model_module_version": "1.5.0",
      "model_name": "FloatProgressModel",
      "state": {
       "_dom_classes": [],
       "_model_module": "@jupyter-widgets/controls",
       "_model_module_version": "1.5.0",
       "_model_name": "FloatProgressModel",
       "_view_count": null,
       "_view_module": "@jupyter-widgets/controls",
       "_view_module_version": "1.5.0",
       "_view_name": "ProgressView",
       "bar_style": "success",
       "description": "",
       "description_tooltip": null,
       "layout": "IPY_MODEL_7399b451dab74e31948156c08f8778f9",
       "max": 5.0,
       "min": 0.0,
       "orientation": "horizontal",
       "style": "IPY_MODEL_88b35c22401648d596f6023484b32940",
       "value": 5.0
      }
     },
     "d82ff3a6d7354ce784782b82719f4b02": {
      "model_module": "@jupyter-widgets/controls",
      "model_module_version": "1.5.0",
      "model_name": "DescriptionStyleModel",
      "state": {
       "_model_module": "@jupyter-widgets/controls",
       "_model_module_version": "1.5.0",
       "_model_name": "DescriptionStyleModel",
       "_view_count": null,
       "_view_module": "@jupyter-widgets/base",
       "_view_module_version": "1.2.0",
       "_view_name": "StyleView",
       "description_width": ""
      }
     },
     "e3985f20ac81483f9847ee13de612bd6": {
      "model_module": "@jupyter-widgets/base",
      "model_module_version": "1.2.0",
      "model_name": "LayoutModel",
      "state": {
       "_model_module": "@jupyter-widgets/base",
       "_model_module_version": "1.2.0",
       "_model_name": "LayoutModel",
       "_view_count": null,
       "_view_module": "@jupyter-widgets/base",
       "_view_module_version": "1.2.0",
       "_view_name": "LayoutView",
       "align_content": null,
       "align_items": null,
       "align_self": null,
       "border": null,
       "bottom": null,
       "display": null,
       "flex": null,
       "flex_flow": null,
       "grid_area": null,
       "grid_auto_columns": null,
       "grid_auto_flow": null,
       "grid_auto_rows": null,
       "grid_column": null,
       "grid_gap": null,
       "grid_row": null,
       "grid_template_areas": null,
       "grid_template_columns": null,
       "grid_template_rows": null,
       "height": null,
       "justify_content": null,
       "justify_items": null,
       "left": null,
       "margin": null,
       "max_height": null,
       "max_width": null,
       "min_height": null,
       "min_width": null,
       "object_fit": null,
       "object_position": null,
       "order": null,
       "overflow": null,
       "overflow_x": null,
       "overflow_y": null,
       "padding": null,
       "right": null,
       "top": null,
       "visibility": null,
       "width": null
      }
     },
     "ee8b9ec11273479f86474ad10c6627c7": {
      "model_module": "@jupyter-widgets/controls",
      "model_module_version": "1.5.0",
      "model_name": "HTMLModel",
      "state": {
       "_dom_classes": [],
       "_model_module": "@jupyter-widgets/controls",
       "_model_module_version": "1.5.0",
       "_model_name": "HTMLModel",
       "_view_count": null,
       "_view_module": "@jupyter-widgets/controls",
       "_view_module_version": "1.5.0",
       "_view_name": "HTMLView",
       "description": "",
       "description_tooltip": null,
       "layout": "IPY_MODEL_0cae0f729b774acd9bd84319aad2a095",
       "placeholder": "​",
       "style": "IPY_MODEL_d82ff3a6d7354ce784782b82719f4b02",
       "value": "&lt;tqdm.auto.tqdm object at 0x7f2ac4bed350&gt;"
      }
     },
     "fa96144d51d64406b8176ed8c11c7776": {
      "model_module": "@jupyter-widgets/controls",
      "model_module_version": "1.5.0",
      "model_name": "HBoxModel",
      "state": {
       "_dom_classes": [],
       "_model_module": "@jupyter-widgets/controls",
       "_model_module_version": "1.5.0",
       "_model_name": "HBoxModel",
       "_view_count": null,
       "_view_module": "@jupyter-widgets/controls",
       "_view_module_version": "1.5.0",
       "_view_name": "HBoxView",
       "box_style": "",
       "children": [
        "IPY_MODEL_4fb6fd548514448caa41e487e4f65aa4",
        "IPY_MODEL_ee8b9ec11273479f86474ad10c6627c7"
       ],
       "layout": "IPY_MODEL_6d5a7a8a26884b54a6a479227f987b50"
      }
     }
    },
    "version_major": 2,
    "version_minor": 0
   }
  }
 },
 "nbformat": 4,
 "nbformat_minor": 5
}
