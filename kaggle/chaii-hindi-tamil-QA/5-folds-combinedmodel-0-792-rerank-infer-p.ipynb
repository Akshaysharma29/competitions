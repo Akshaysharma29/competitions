{
 "cells": [
  {
   "cell_type": "markdown",
   "id": "4dcb5f3e",
   "metadata": {
    "execution": {
     "iopub.execute_input": "2021-09-30T21:49:49.137083Z",
     "iopub.status.busy": "2021-09-30T21:49:49.136675Z",
     "iopub.status.idle": "2021-09-30T21:49:49.243477Z",
     "shell.execute_reply": "2021-09-30T21:49:49.242351Z",
     "shell.execute_reply.started": "2021-09-30T21:49:49.136976Z"
    },
    "papermill": {
     "duration": 0.044322,
     "end_time": "2021-11-15T13:22:13.381676",
     "exception": false,
     "start_time": "2021-11-15T13:22:13.337354",
     "status": "completed"
    },
    "tags": []
   },
   "source": [
    "# Making the 0.792 model : \n",
    "\n",
    "### Making the model and Inferencing steps:\n",
    "\n",
    "<ul>  \n",
    "    <li>Using the datasets : chaii, mlqa, squad, tamil_xquad </li>\n",
    "    <li>Training for 2 epochs : <a href=\"https://www.kaggle.com/kishalmandal/chaii-fit-2-epochs-mlqa-xquad-chaii/\">chaii | FIT - 2 epochs | mlqa, xquad, chaii</a> </li>\n",
    "    <li>Training for 7 epochs with tamil_xquad: <a href=\"https://www.kaggle.com/kishalmandal/chaii-fit-7-epochs-extra-tamil-data/\">chaii | FIT - 7 epochs | Extra Tamil Data</a> </li>\n",
    "    <li>Inferencing from 5 folds | fold-0 and fold-1 (7-epochs) | fold-2, fold-3 and fold-4 (2-epochs)| based on cross validation scores and a little bit of experimentation 😜: <a href=\"https://www.kaggle.com/kishalmandal/5-epochs-infer-combined-model-0-792/\">5 epochs | INFER | combined model (0.792)</a></li>\n",
    "    \n",
    "    \n",
    "</ul>\n",
    "\n",
    "### References : \n",
    "\n",
    "<ul> \n",
    "    <li>For training: <a href=\"https://www.kaggle.com/rhtsingh/chaii-qa-5-fold-xlmroberta-torch-fit\">chaii QA - 5 Fold XLMRoberta Torch | FIT</a> by <a href=\"https://www.kaggle.com/rhtsingh\">torch</a></li>\n",
    "    <li>For Inference: <a href=\"https://www.kaggle.com/rhtsingh/chaii-qa-5-fold-xlmroberta-torch-infer\">chaii QA - 5 Fold XLMRoberta Torch | Infer</a> by <a href=\"https://www.kaggle.com/rhtsingh\">torch</a></li>\n",
    "    <li>For post processing outputs: <a href=\"https://www.kaggle.com/nbroad/chaii-qa-torch-5-fold-with-post-processing-765\">chaii QA-Torch 5 fold with post-processing (.765)</a> by <a href=\"https://www.kaggle.com/nbroad\">Nicholas Broad 🟢</a></li>\n",
    "</ul>\n",
    "\n",
    "\n",
    "### Important Notes:\n",
    "\n",
    "<ul>\n",
    "    <li>Some one experimented with the max_seq_length and doc_stride to bring my previous 0.785 to 0.792. Then I performed some more experiments and saw more than 400 decreases the score (~0.3-0.4) while decreasing below 400 upto around 384 does not change the score by much (~0.2)</li>\n",
    "    <li>Vigourous change or lr and decay rates reduces the performance.</li>\n",
    "    <li>I took weighted average based on the validation loss increased score by (~0.01)</li>\n",
    "</ul>"
   ]
  },
  {
   "cell_type": "code",
   "execution_count": 1,
   "id": "25d81398",
   "metadata": {
    "execution": {
     "iopub.execute_input": "2021-11-15T13:22:13.475183Z",
     "iopub.status.busy": "2021-11-15T13:22:13.473651Z",
     "iopub.status.idle": "2021-11-15T13:22:24.014008Z",
     "shell.execute_reply": "2021-11-15T13:22:24.014863Z",
     "shell.execute_reply.started": "2021-11-14T01:25:56.829407Z"
    },
    "papermill": {
     "duration": 10.589077,
     "end_time": "2021-11-15T13:22:24.015309",
     "exception": false,
     "start_time": "2021-11-15T13:22:13.426232",
     "status": "completed"
    },
    "tags": []
   },
   "outputs": [
    {
     "name": "stderr",
     "output_type": "stream",
     "text": [
      "2021-11-15 13:22:19.478667: I tensorflow/stream_executor/platform/default/dso_loader.cc:49] Successfully opened dynamic library libcudart.so.11.0\n"
     ]
    },
    {
     "name": "stdout",
     "output_type": "stream",
     "text": [
      "Apex AMP Installed :: False\n"
     ]
    }
   ],
   "source": [
    "import os\n",
    "os.environ[\"TOKENIZERS_PARALLELISM\"] = \"false\"\n",
    "import gc\n",
    "gc.enable()\n",
    "import math\n",
    "import json\n",
    "import time\n",
    "import random\n",
    "import multiprocessing\n",
    "import warnings\n",
    "warnings.filterwarnings(\"ignore\", category=UserWarning)\n",
    "\n",
    "import numpy as np\n",
    "import pandas as pd\n",
    "from tqdm import tqdm, trange\n",
    "from sklearn import model_selection\n",
    "from string import punctuation\n",
    "\n",
    "import torch\n",
    "import torch.nn as nn\n",
    "import torch.nn.functional as F\n",
    "from torch.nn import Parameter\n",
    "import torch.optim as optim\n",
    "from torch.utils.data import (\n",
    "    Dataset, DataLoader,\n",
    "    SequentialSampler, RandomSampler\n",
    ")\n",
    "from torch.utils.data.distributed import DistributedSampler\n",
    "\n",
    "try:\n",
    "    from apex import amp\n",
    "    APEX_INSTALLED = True\n",
    "except ImportError:\n",
    "    APEX_INSTALLED = False\n",
    "\n",
    "import transformers\n",
    "from transformers import (\n",
    "    WEIGHTS_NAME,\n",
    "    AdamW,\n",
    "    AutoConfig,\n",
    "    AutoModel,\n",
    "    AutoTokenizer,\n",
    "    get_cosine_schedule_with_warmup,\n",
    "    get_linear_schedule_with_warmup,\n",
    "    logging,\n",
    "    MODEL_FOR_QUESTION_ANSWERING_MAPPING,\n",
    ")\n",
    "logging.set_verbosity_warning()\n",
    "logging.set_verbosity_error()\n",
    "\n",
    "def fix_all_seeds(seed):\n",
    "    np.random.seed(seed)\n",
    "    random.seed(seed)\n",
    "    os.environ['PYTHONHASHSEED'] = str(seed)\n",
    "    torch.manual_seed(seed)\n",
    "    torch.cuda.manual_seed(seed)\n",
    "    torch.cuda.manual_seed_all(seed)\n",
    "\n",
    "def optimal_num_of_loader_workers():\n",
    "    num_cpus = multiprocessing.cpu_count()\n",
    "    num_gpus = torch.cuda.device_count()\n",
    "    optimal_value = min(num_cpus, num_gpus*4) if num_gpus else num_cpus - 1\n",
    "    return optimal_value\n",
    "\n",
    "print(f\"Apex AMP Installed :: {APEX_INSTALLED}\")\n",
    "MODEL_CONFIG_CLASSES = list(MODEL_FOR_QUESTION_ANSWERING_MAPPING.keys())\n",
    "MODEL_TYPES = tuple(conf.model_type for conf in MODEL_CONFIG_CLASSES)"
   ]
  },
  {
   "cell_type": "code",
   "execution_count": 2,
   "id": "1e4b0ad0",
   "metadata": {
    "execution": {
     "iopub.execute_input": "2021-11-15T13:22:24.107916Z",
     "iopub.status.busy": "2021-11-15T13:22:24.106995Z",
     "iopub.status.idle": "2021-11-15T13:22:24.109787Z",
     "shell.execute_reply": "2021-11-15T13:22:24.109292Z",
     "shell.execute_reply.started": "2021-11-14T01:26:07.634606Z"
    },
    "papermill": {
     "duration": 0.051891,
     "end_time": "2021-11-15T13:22:24.109899",
     "exception": false,
     "start_time": "2021-11-15T13:22:24.058008",
     "status": "completed"
    },
    "tags": []
   },
   "outputs": [],
   "source": [
    "class Config:\n",
    "    # model\n",
    "    model_type = 'xlm_roberta'\n",
    "    model_name_or_path = \"../input/5foldsroberta/output/checkpoint-fold-0\"#\"../input/xlm-roberta-large-squad-v2\"\n",
    "    config_name = \"../input/5foldsroberta/output/checkpoint-fold-0\"#\"../input/xlm-roberta-large-squad-v2\"\n",
    "    fp16 = True if APEX_INSTALLED else False\n",
    "    fp16_opt_level = \"O1\"\n",
    "    gradient_accumulation_steps = 2\n",
    "\n",
    "    # tokenizer\n",
    "    tokenizer_name = \"../input/5foldsroberta/output/checkpoint-fold-0\"#\"../input/xlm-roberta-large-squad-v2\"\n",
    "    max_seq_length = 400\n",
    "    doc_stride = 135\n",
    "\n",
    "    # train\n",
    "    epochs = 1\n",
    "    train_batch_size = 4\n",
    "    eval_batch_size = 128\n",
    "\n",
    "    # optimzer\n",
    "    optimizer_type = 'AdamW'\n",
    "    learning_rate = 1e-5\n",
    "    weight_decay = 1e-2\n",
    "    epsilon = 1e-8\n",
    "    max_grad_norm = 1.0\n",
    "\n",
    "    # scheduler\n",
    "    decay_name = 'linear-warmup'\n",
    "    warmup_ratio = 0.1\n",
    "\n",
    "    # logging\n",
    "    logging_steps = 10\n",
    "\n",
    "    # evaluate\n",
    "    output_dir = 'output'\n",
    "    seed = 2021"
   ]
  },
  {
   "cell_type": "code",
   "execution_count": 3,
   "id": "d8eb1a02",
   "metadata": {
    "execution": {
     "iopub.execute_input": "2021-11-15T13:22:24.203836Z",
     "iopub.status.busy": "2021-11-15T13:22:24.203001Z",
     "iopub.status.idle": "2021-11-15T13:22:24.204964Z",
     "shell.execute_reply": "2021-11-15T13:22:24.205317Z",
     "shell.execute_reply.started": "2021-11-14T01:26:07.64474Z"
    },
    "papermill": {
     "duration": 0.053775,
     "end_time": "2021-11-15T13:22:24.205447",
     "exception": false,
     "start_time": "2021-11-15T13:22:24.151672",
     "status": "completed"
    },
    "tags": []
   },
   "outputs": [],
   "source": [
    "class DatasetRetriever(Dataset):\n",
    "    def __init__(self, features, mode='train'):\n",
    "        super(DatasetRetriever, self).__init__()\n",
    "        self.features = features\n",
    "        self.mode = mode\n",
    "        \n",
    "    def __len__(self):\n",
    "        return len(self.features)\n",
    "    \n",
    "    def __getitem__(self, item):   \n",
    "        feature = self.features[item]\n",
    "        if self.mode == 'train':\n",
    "            return {\n",
    "                'input_ids':torch.tensor(feature['input_ids'], dtype=torch.long),\n",
    "                'attention_mask':torch.tensor(feature['attention_mask'], dtype=torch.long),\n",
    "                'offset_mapping':torch.tensor(feature['offset_mapping'], dtype=torch.long),\n",
    "                'start_position':torch.tensor(feature['start_position'], dtype=torch.long),\n",
    "                'end_position':torch.tensor(feature['end_position'], dtype=torch.long)\n",
    "            }\n",
    "        else:\n",
    "            return {\n",
    "                'input_ids':torch.tensor(feature['input_ids'], dtype=torch.long),\n",
    "                'attention_mask':torch.tensor(feature['attention_mask'], dtype=torch.long),\n",
    "                'offset_mapping':feature['offset_mapping'],\n",
    "                'sequence_ids':feature['sequence_ids'],\n",
    "                'id':feature['example_id'],\n",
    "                'context': feature['context'],\n",
    "                'question': feature['question']\n",
    "            }"
   ]
  },
  {
   "cell_type": "code",
   "execution_count": 4,
   "id": "93f800dd",
   "metadata": {
    "execution": {
     "iopub.execute_input": "2021-11-15T13:22:24.298592Z",
     "iopub.status.busy": "2021-11-15T13:22:24.297907Z",
     "iopub.status.idle": "2021-11-15T13:22:24.300835Z",
     "shell.execute_reply": "2021-11-15T13:22:24.300365Z",
     "shell.execute_reply.started": "2021-11-14T01:26:07.65979Z"
    },
    "papermill": {
     "duration": 0.054073,
     "end_time": "2021-11-15T13:22:24.300948",
     "exception": false,
     "start_time": "2021-11-15T13:22:24.246875",
     "status": "completed"
    },
    "tags": []
   },
   "outputs": [],
   "source": [
    "class Model(nn.Module):\n",
    "    def __init__(self, modelname_or_path, config):\n",
    "        super(Model, self).__init__()\n",
    "        self.config = config\n",
    "        self.xlm_roberta = AutoModel.from_pretrained(modelname_or_path, config=config)\n",
    "        self.qa_outputs = nn.Linear(config.hidden_size, 2)\n",
    "        self.dropout = nn.Dropout(config.hidden_dropout_prob)\n",
    "        self._init_weights(self.qa_outputs)\n",
    "        \n",
    "    def _init_weights(self, module):\n",
    "        if isinstance(module, nn.Linear):\n",
    "            module.weight.data.normal_(mean=0.0, std=self.config.initializer_range)\n",
    "            if module.bias is not None:\n",
    "                module.bias.data.zero_()\n",
    "\n",
    "    def forward(\n",
    "        self, \n",
    "        input_ids, \n",
    "        attention_mask=None, \n",
    "    ):\n",
    "        outputs = self.xlm_roberta(\n",
    "            input_ids,\n",
    "            attention_mask=attention_mask,\n",
    "        )\n",
    "\n",
    "        sequence_output = outputs[0]\n",
    "        pooled_output = outputs[1]\n",
    "        \n",
    "        # sequence_output = self.dropout(sequence_output)\n",
    "        qa_logits = self.qa_outputs(sequence_output)\n",
    "        \n",
    "        start_logits, end_logits = qa_logits.split(1, dim=-1)\n",
    "        start_logits = start_logits.squeeze(-1)\n",
    "        end_logits = end_logits.squeeze(-1)\n",
    "    \n",
    "        return start_logits, end_logits"
   ]
  },
  {
   "cell_type": "code",
   "execution_count": 5,
   "id": "e990d811",
   "metadata": {
    "execution": {
     "iopub.execute_input": "2021-11-15T13:22:24.388653Z",
     "iopub.status.busy": "2021-11-15T13:22:24.387798Z",
     "iopub.status.idle": "2021-11-15T13:22:24.389637Z",
     "shell.execute_reply": "2021-11-15T13:22:24.390097Z",
     "shell.execute_reply.started": "2021-11-14T01:26:07.672091Z"
    },
    "papermill": {
     "duration": 0.048403,
     "end_time": "2021-11-15T13:22:24.390242",
     "exception": false,
     "start_time": "2021-11-15T13:22:24.341839",
     "status": "completed"
    },
    "tags": []
   },
   "outputs": [],
   "source": [
    "def make_model(args):\n",
    "    config = AutoConfig.from_pretrained(args.config_name)\n",
    "    tokenizer = AutoTokenizer.from_pretrained(args.tokenizer_name)\n",
    "    model = Model(args.model_name_or_path, config=config)\n",
    "    return config, tokenizer, model"
   ]
  },
  {
   "cell_type": "code",
   "execution_count": 6,
   "id": "1451116f",
   "metadata": {
    "execution": {
     "iopub.execute_input": "2021-11-15T13:22:24.480371Z",
     "iopub.status.busy": "2021-11-15T13:22:24.479426Z",
     "iopub.status.idle": "2021-11-15T13:22:24.482087Z",
     "shell.execute_reply": "2021-11-15T13:22:24.481669Z",
     "shell.execute_reply.started": "2021-11-14T01:26:07.684221Z"
    },
    "papermill": {
     "duration": 0.050406,
     "end_time": "2021-11-15T13:22:24.482196",
     "exception": false,
     "start_time": "2021-11-15T13:22:24.431790",
     "status": "completed"
    },
    "tags": []
   },
   "outputs": [],
   "source": [
    "def prepare_test_features(args, example, tokenizer):\n",
    "    example[\"question\"] = example[\"question\"].lstrip()\n",
    "    \n",
    "    tokenized_example = tokenizer(\n",
    "        example[\"question\"],\n",
    "        example[\"context\"],\n",
    "        truncation=\"only_second\",\n",
    "        max_length=args.max_seq_length,\n",
    "        stride=args.doc_stride,\n",
    "        return_overflowing_tokens=True,\n",
    "        return_offsets_mapping=True,\n",
    "        padding=\"max_length\",\n",
    "    )\n",
    "\n",
    "    features = []\n",
    "    for i in range(len(tokenized_example[\"input_ids\"])):\n",
    "        feature = {}\n",
    "        feature[\"example_id\"] = example['id']\n",
    "        feature['context'] = example['context']\n",
    "        feature['question'] = example['question']\n",
    "        feature['input_ids'] = tokenized_example['input_ids'][i]\n",
    "        feature['attention_mask'] = tokenized_example['attention_mask'][i]\n",
    "        feature['offset_mapping'] = tokenized_example['offset_mapping'][i]\n",
    "        feature['sequence_ids'] = [0 if i is None else i for i in tokenized_example.sequence_ids(i)]\n",
    "        features.append(feature)\n",
    "    return features"
   ]
  },
  {
   "cell_type": "code",
   "execution_count": 7,
   "id": "2a97e21c",
   "metadata": {
    "execution": {
     "iopub.execute_input": "2021-11-15T13:22:24.571072Z",
     "iopub.status.busy": "2021-11-15T13:22:24.570433Z",
     "iopub.status.idle": "2021-11-15T13:22:25.857917Z",
     "shell.execute_reply": "2021-11-15T13:22:25.857277Z",
     "shell.execute_reply.started": "2021-11-14T01:26:07.694763Z"
    },
    "papermill": {
     "duration": 1.33469,
     "end_time": "2021-11-15T13:22:25.858058",
     "exception": false,
     "start_time": "2021-11-15T13:22:24.523368",
     "status": "completed"
    },
    "tags": []
   },
   "outputs": [],
   "source": [
    "test = pd.read_csv('../input/chaii-hindi-and-tamil-question-answering/test.csv')#[:1]\n",
    "# test = pd.read_csv('../input/chaii-hindi-and-tamil-question-answering/train.csv')#[:1]\n",
    "\n",
    "test['context'] = test['context'].apply(lambda x: ' '.join(x.split()))\n",
    "test['question'] = test['question'].apply(lambda x: ' '.join(x.split()))\n",
    "\n",
    "#base_model_path = '../input/chaii-qa-5-fold-xlmroberta-torch-fit'\n",
    "\n",
    "tokenizer = AutoTokenizer.from_pretrained(Config().tokenizer_name)\n",
    "\n",
    "test_features = []\n",
    "for i, row in test.iterrows():\n",
    "    test_features += prepare_test_features(Config(), row, tokenizer)\n",
    "\n",
    "args = Config()\n",
    "test_dataset = DatasetRetriever(test_features, mode='test')\n",
    "test_dataloader = DataLoader(\n",
    "    test_dataset,\n",
    "    batch_size=args.eval_batch_size, \n",
    "    sampler=SequentialSampler(test_dataset),\n",
    "    num_workers=optimal_num_of_loader_workers(),\n",
    "    pin_memory=True, \n",
    "    drop_last=False\n",
    ")"
   ]
  },
  {
   "cell_type": "code",
   "execution_count": 8,
   "id": "cdf6610c",
   "metadata": {
    "execution": {
     "iopub.execute_input": "2021-11-15T13:22:25.948116Z",
     "iopub.status.busy": "2021-11-15T13:22:25.947302Z",
     "iopub.status.idle": "2021-11-15T13:22:25.950042Z",
     "shell.execute_reply": "2021-11-15T13:22:25.949608Z",
     "shell.execute_reply.started": "2021-11-14T01:26:09.011948Z"
    },
    "papermill": {
     "duration": 0.049872,
     "end_time": "2021-11-15T13:22:25.950160",
     "exception": false,
     "start_time": "2021-11-15T13:22:25.900288",
     "status": "completed"
    },
    "tags": []
   },
   "outputs": [],
   "source": [
    "base_model = '../input/5foldsroberta/output/'"
   ]
  },
  {
   "cell_type": "code",
   "execution_count": 9,
   "id": "098b68bc",
   "metadata": {
    "execution": {
     "iopub.execute_input": "2021-11-15T13:22:26.044187Z",
     "iopub.status.busy": "2021-11-15T13:22:26.043353Z",
     "iopub.status.idle": "2021-11-15T13:22:26.045411Z",
     "shell.execute_reply": "2021-11-15T13:22:26.045878Z",
     "shell.execute_reply.started": "2021-11-14T01:26:09.019277Z"
    },
    "papermill": {
     "duration": 0.05191,
     "end_time": "2021-11-15T13:22:26.046025",
     "exception": false,
     "start_time": "2021-11-15T13:22:25.994115",
     "status": "completed"
    },
    "tags": []
   },
   "outputs": [],
   "source": [
    "def get_predictions(checkpoint_path):\n",
    "    config, tokenizer, model = make_model(Config())\n",
    "    model.cuda();\n",
    "    model.load_state_dict(\n",
    "        torch.load(checkpoint_path)\n",
    "    );\n",
    "    \n",
    "    start_logits = []\n",
    "    end_logits = []\n",
    "    for batch in test_dataloader:\n",
    "        with torch.no_grad():\n",
    "            outputs_start, outputs_end = model(batch['input_ids'].cuda(), batch['attention_mask'].cuda())\n",
    "            start_logits.append(outputs_start.cpu().numpy().tolist())\n",
    "            end_logits.append(outputs_end.cpu().numpy().tolist())\n",
    "            del outputs_start, outputs_end\n",
    "    del model, tokenizer, config\n",
    "    gc.collect()\n",
    "    return np.vstack(start_logits), np.vstack(end_logits)"
   ]
  },
  {
   "cell_type": "code",
   "execution_count": 10,
   "id": "637504fb",
   "metadata": {
    "execution": {
     "iopub.execute_input": "2021-11-15T13:22:26.140626Z",
     "iopub.status.busy": "2021-11-15T13:22:26.139735Z",
     "iopub.status.idle": "2021-11-15T13:25:37.137181Z",
     "shell.execute_reply": "2021-11-15T13:25:37.136233Z",
     "shell.execute_reply.started": "2021-11-14T01:26:09.033063Z"
    },
    "papermill": {
     "duration": 191.047001,
     "end_time": "2021-11-15T13:25:37.137331",
     "exception": false,
     "start_time": "2021-11-15T13:22:26.090330",
     "status": "completed"
    },
    "tags": []
   },
   "outputs": [],
   "source": [
    "start_logits1, end_logits1 = get_predictions('../input/5foldsroberta/output/checkpoint-fold-0/pytorch_model.bin')\n",
    "start_logits2, end_logits2 = get_predictions('../input/5foldsroberta/output/checkpoint-fold-1/pytorch_model.bin')\n",
    "start_logits3, end_logits3 = get_predictions('../input/5foldsroberta/output/checkpoint-fold-2/pytorch_model.bin')\n",
    "start_logits4, end_logits4 = get_predictions('../input/5foldsroberta/output/checkpoint-fold-3/pytorch_model.bin')\n",
    "start_logits5, end_logits5 = get_predictions('../input/5foldsroberta/output/checkpoint-fold-4/pytorch_model.bin')\n",
    "\n",
    "\n",
    "\n",
    "\n",
    "start_logits = (start_logits1 + start_logits2 + start_logits3 +start_logits4+ start_logits5 )/5\n",
    "end_logits = (end_logits1 + end_logits2 + end_logits3 +end_logits4 + end_logits5)/5"
   ]
  },
  {
   "cell_type": "code",
   "execution_count": 11,
   "id": "14fe8966",
   "metadata": {
    "execution": {
     "iopub.execute_input": "2021-11-15T13:25:37.226158Z",
     "iopub.status.busy": "2021-11-15T13:25:37.225503Z",
     "iopub.status.idle": "2021-11-15T13:25:37.234159Z",
     "shell.execute_reply": "2021-11-15T13:25:37.233694Z",
     "shell.execute_reply.started": "2021-11-14T01:29:22.116332Z"
    },
    "papermill": {
     "duration": 0.054632,
     "end_time": "2021-11-15T13:25:37.234270",
     "exception": false,
     "start_time": "2021-11-15T13:25:37.179638",
     "status": "completed"
    },
    "tags": []
   },
   "outputs": [],
   "source": [
    "# normalize\n",
    "normalizer = torch.nn.Softmax(dim=1)\n",
    "\n",
    "start_logits = normalizer(torch.from_numpy(start_logits))\n",
    "end_logits = normalizer(torch.from_numpy(end_logits))\n",
    "\n",
    "start_logits = start_logits.numpy()\n",
    "end_logits = end_logits.numpy()"
   ]
  },
  {
   "cell_type": "code",
   "execution_count": 12,
   "id": "332567a8",
   "metadata": {
    "execution": {
     "iopub.execute_input": "2021-11-15T13:25:37.334139Z",
     "iopub.status.busy": "2021-11-15T13:25:37.325250Z",
     "iopub.status.idle": "2021-11-15T13:25:37.336420Z",
     "shell.execute_reply": "2021-11-15T13:25:37.336010Z",
     "shell.execute_reply.started": "2021-11-14T01:29:22.13061Z"
    },
    "papermill": {
     "duration": 0.061365,
     "end_time": "2021-11-15T13:25:37.336579",
     "exception": false,
     "start_time": "2021-11-15T13:25:37.275214",
     "status": "completed"
    },
    "tags": []
   },
   "outputs": [],
   "source": [
    "import collections\n",
    "\n",
    "def postprocess_qa_predictions(examples, features, raw_predictions, n_best_size = 20, max_answer_length = 30, n = 1, extension=20):\n",
    "    all_start_logits, all_end_logits = raw_predictions\n",
    "    \n",
    "    example_id_to_index = {k: i for i, k in enumerate(examples[\"id\"])}\n",
    "    features_per_example = collections.defaultdict(list)\n",
    "    for i, feature in enumerate(features):\n",
    "        features_per_example[example_id_to_index[feature[\"example_id\"]]].append(i)\n",
    "\n",
    "    predictions = collections.OrderedDict()\n",
    "\n",
    "    print(f\"Post-processing {len(examples)} example predictions split into {len(features)} features.\")\n",
    "\n",
    "    for example_index, example in examples.iterrows():\n",
    "        feature_indices = features_per_example[example_index]\n",
    "\n",
    "        min_null_score = None\n",
    "        valid_answers = []\n",
    "        \n",
    "        context = example[\"context\"]\n",
    "        for feature_index in feature_indices:\n",
    "            start_logits = all_start_logits[feature_index]\n",
    "            end_logits = all_end_logits[feature_index]\n",
    "\n",
    "            sequence_ids = features[feature_index][\"sequence_ids\"]\n",
    "            context_index = 1\n",
    "\n",
    "            features[feature_index][\"offset_mapping\"] = [\n",
    "                (o if sequence_ids[k] == context_index else None)\n",
    "                for k, o in enumerate(features[feature_index][\"offset_mapping\"])\n",
    "            ]\n",
    "            offset_mapping = features[feature_index][\"offset_mapping\"]\n",
    "            cls_index = features[feature_index][\"input_ids\"].index(tokenizer.cls_token_id)\n",
    "            feature_null_score = start_logits[cls_index] + end_logits[cls_index]\n",
    "            if min_null_score is None or min_null_score < feature_null_score:\n",
    "                min_null_score = feature_null_score\n",
    "\n",
    "            start_indexes = np.argsort(start_logits)[-1 : -n_best_size - 1 : -1].tolist()\n",
    "            end_indexes = np.argsort(end_logits)[-1 : -n_best_size - 1 : -1].tolist()\n",
    "            for start_index in start_indexes:\n",
    "                for end_index in end_indexes:\n",
    "                    if (\n",
    "                        start_index >= len(offset_mapping)\n",
    "                        or end_index >= len(offset_mapping)\n",
    "                        or offset_mapping[start_index] is None\n",
    "                        or offset_mapping[end_index] is None\n",
    "                    ):\n",
    "                        continue\n",
    "                    # Don't consider answers with a length that is either < 0 or > max_answer_length.\n",
    "                    if end_index < start_index or end_index - start_index + 1 > max_answer_length:\n",
    "                        continue\n",
    "\n",
    "                    start_char = offset_mapping[start_index][0]\n",
    "                    end_char = offset_mapping[end_index][1]\n",
    "                    \n",
    "                    re_start_char = max(0,start_char-extension)\n",
    "                    re_end_char = min(len(context),end_char+extension)\n",
    "#                     try:\n",
    "#                         re_start_char = offset_mapping[start_index-extension][0]\n",
    "#                     except:\n",
    "#                         re_start_char=0\n",
    "#                     try:\n",
    "#                         re_end_char = offset_mapping[end_index+extension][1]\n",
    "#                     except:\n",
    "#                         re_end_char=len(context)\n",
    "#                     print(re_start_char)\n",
    "                    valid_answers.append(\n",
    "                        {\n",
    "                            \"score\": (start_logits[start_index] + end_logits[end_index])/2,\n",
    "                            \"text\": context[start_char: end_char],\n",
    "#                             \"example\": example\n",
    "#                             \"feature_index\":feature_index,\n",
    "#                             \"features\":features[feature_index],\n",
    "#                             \"offset_mapping\":offset_mapping,\n",
    "#                             \"context\":context,\n",
    "#                             \"start_index\":start_index,\n",
    "#                             \"end_index\":end_index,\n",
    "#                             \"start_char\":start_char,\n",
    "#                             \"end_char\":end_char,\n",
    "#                             \"re_start_char\":re_start_char,\n",
    "#                             \"re_end_char\":re_end_char,\n",
    "                            \"required_text\": context[re_start_char: re_end_char]\n",
    "                        }\n",
    "                    )\n",
    "#         print(valid_answers)\n",
    "        if len(valid_answers) > 0:\n",
    "            answers = sorted(valid_answers, key=lambda x: x[\"score\"], reverse=True)\n",
    "#             print(answers)\n",
    "            best_answer = []\n",
    "            for ans in  answers[:n]:\n",
    "                best_answer.append(ans)\n",
    "#             best_answer = answers[:5]\n",
    "        else:\n",
    "            best_answer = [\"\"]\n",
    "        \n",
    "        predictions[example[\"id\"]] = best_answer#[\"text\"]\n",
    "        \n",
    "        \n",
    "    return predictions"
   ]
  },
  {
   "cell_type": "code",
   "execution_count": 13,
   "id": "9bc04fd7",
   "metadata": {
    "execution": {
     "iopub.execute_input": "2021-11-15T13:25:37.424520Z",
     "iopub.status.busy": "2021-11-15T13:25:37.423777Z",
     "iopub.status.idle": "2021-11-15T13:25:37.461033Z",
     "shell.execute_reply": "2021-11-15T13:25:37.461417Z",
     "shell.execute_reply.started": "2021-11-14T01:29:22.149955Z"
    },
    "papermill": {
     "duration": 0.084752,
     "end_time": "2021-11-15T13:25:37.461595",
     "exception": false,
     "start_time": "2021-11-15T13:25:37.376843",
     "status": "completed"
    },
    "tags": []
   },
   "outputs": [
    {
     "name": "stdout",
     "output_type": "stream",
     "text": [
      "Post-processing 5 example predictions split into 63 features.\n"
     ]
    }
   ],
   "source": [
    "fin_preds = postprocess_qa_predictions(test, test_features, (start_logits, end_logits),\n",
    "                                       n=5, extension=128)"
   ]
  },
  {
   "cell_type": "code",
   "execution_count": 14,
   "id": "9bb12436",
   "metadata": {
    "execution": {
     "iopub.execute_input": "2021-11-15T13:25:37.549184Z",
     "iopub.status.busy": "2021-11-15T13:25:37.547617Z",
     "iopub.status.idle": "2021-11-15T13:25:37.549777Z",
     "shell.execute_reply": "2021-11-15T13:25:37.550186Z",
     "shell.execute_reply.started": "2021-11-14T01:29:22.201391Z"
    },
    "papermill": {
     "duration": 0.047245,
     "end_time": "2021-11-15T13:25:37.550311",
     "exception": false,
     "start_time": "2021-11-15T13:25:37.503066",
     "status": "completed"
    },
    "tags": []
   },
   "outputs": [],
   "source": [
    "# fin_preds"
   ]
  },
  {
   "cell_type": "code",
   "execution_count": 15,
   "id": "3305d8de",
   "metadata": {
    "execution": {
     "iopub.execute_input": "2021-11-15T13:25:37.637766Z",
     "iopub.status.busy": "2021-11-15T13:25:37.636143Z",
     "iopub.status.idle": "2021-11-15T13:25:37.638438Z",
     "shell.execute_reply": "2021-11-15T13:25:37.638894Z",
     "shell.execute_reply.started": "2021-11-14T01:29:22.207106Z"
    },
    "papermill": {
     "duration": 0.047666,
     "end_time": "2021-11-15T13:25:37.639021",
     "exception": false,
     "start_time": "2021-11-15T13:25:37.591355",
     "status": "completed"
    },
    "tags": []
   },
   "outputs": [],
   "source": [
    "z = list(fin_preds.values())"
   ]
  },
  {
   "cell_type": "code",
   "execution_count": 16,
   "id": "f451c0c5",
   "metadata": {
    "execution": {
     "iopub.execute_input": "2021-11-15T13:25:37.726263Z",
     "iopub.status.busy": "2021-11-15T13:25:37.725484Z",
     "iopub.status.idle": "2021-11-15T13:25:37.727567Z",
     "shell.execute_reply": "2021-11-15T13:25:37.727965Z",
     "shell.execute_reply.started": "2021-11-14T01:29:22.21573Z"
    },
    "papermill": {
     "duration": 0.047132,
     "end_time": "2021-11-15T13:25:37.728093",
     "exception": false,
     "start_time": "2021-11-15T13:25:37.680961",
     "status": "completed"
    },
    "tags": []
   },
   "outputs": [],
   "source": [
    "# z[:1]"
   ]
  },
  {
   "cell_type": "code",
   "execution_count": 17,
   "id": "556b4f30",
   "metadata": {
    "execution": {
     "iopub.execute_input": "2021-11-15T13:25:37.816625Z",
     "iopub.status.busy": "2021-11-15T13:25:37.815061Z",
     "iopub.status.idle": "2021-11-15T13:25:37.817239Z",
     "shell.execute_reply": "2021-11-15T13:25:37.817667Z",
     "shell.execute_reply.started": "2021-11-14T01:29:22.225274Z"
    },
    "papermill": {
     "duration": 0.048874,
     "end_time": "2021-11-15T13:25:37.817793",
     "exception": false,
     "start_time": "2021-11-15T13:25:37.768919",
     "status": "completed"
    },
    "tags": []
   },
   "outputs": [],
   "source": [
    "questions = test['question'].values\n",
    "contexts = test['context'].values\n",
    "# answers = test['answer_text'].values\n",
    "# score = test[]"
   ]
  },
  {
   "cell_type": "markdown",
   "id": "b75a1ec3",
   "metadata": {
    "papermill": {
     "duration": 0.040529,
     "end_time": "2021-11-15T13:25:37.898951",
     "exception": false,
     "start_time": "2021-11-15T13:25:37.858422",
     "status": "completed"
    },
    "tags": []
   },
   "source": [
    "# Postprocess added here in this version"
   ]
  },
  {
   "cell_type": "code",
   "execution_count": 18,
   "id": "c3bda496",
   "metadata": {
    "execution": {
     "iopub.execute_input": "2021-11-15T13:25:37.990981Z",
     "iopub.status.busy": "2021-11-15T13:25:37.988966Z",
     "iopub.status.idle": "2021-11-15T13:25:37.991598Z",
     "shell.execute_reply": "2021-11-15T13:25:37.992000Z",
     "shell.execute_reply.started": "2021-11-14T01:29:22.234852Z"
    },
    "papermill": {
     "duration": 0.052929,
     "end_time": "2021-11-15T13:25:37.992138",
     "exception": false,
     "start_time": "2021-11-15T13:25:37.939209",
     "status": "completed"
    },
    "tags": []
   },
   "outputs": [],
   "source": [
    "bad_starts = [\".\", \",\", \"(\", \")\", \"-\", \"–\",  \",\", \";\"]\n",
    "bad_endings = [\"...\", \"-\", \"(\", \")\", \"–\", \",\", \";\"]\n",
    "\n",
    "tamil_ad = \"கி.பி\"\n",
    "tamil_bc = \"கி.மு\"\n",
    "tamil_km = \"கி.மீ\"\n",
    "hindi_ad = \"ई\"\n",
    "hindi_bc = \"ई.पू\"\n",
    "\n",
    "def postprocess(pred,context):\n",
    "    if pred == \"\":\n",
    "        return pred\n",
    "        \n",
    "    while any([pred.startswith(y) for y in bad_starts]):\n",
    "        pred = pred[1:]\n",
    "    while any([pred.endswith(y) for y in bad_endings]):\n",
    "        if pred.endswith(\"...\"):\n",
    "            pred = pred[:-3]\n",
    "        else:\n",
    "            pred = pred[:-1]\n",
    "    \n",
    "    if any([pred.endswith(tamil_ad), pred.endswith(tamil_bc), pred.endswith(tamil_km), pred.endswith(hindi_ad), pred.endswith(hindi_bc)]) and pred+\".\" in context:\n",
    "        pred = pred+\".\"\n",
    "    \n",
    "    return pred"
   ]
  },
  {
   "cell_type": "code",
   "execution_count": 19,
   "id": "15e045ee",
   "metadata": {
    "execution": {
     "iopub.execute_input": "2021-11-15T13:25:38.082014Z",
     "iopub.status.busy": "2021-11-15T13:25:38.081445Z",
     "iopub.status.idle": "2021-11-15T13:25:38.089079Z",
     "shell.execute_reply": "2021-11-15T13:25:38.088379Z",
     "shell.execute_reply.started": "2021-11-14T01:29:22.246634Z"
    },
    "papermill": {
     "duration": 0.055399,
     "end_time": "2021-11-15T13:25:38.089223",
     "exception": false,
     "start_time": "2021-11-15T13:25:38.033824",
     "status": "completed"
    },
    "tags": []
   },
   "outputs": [
    {
     "name": "stderr",
     "output_type": "stream",
     "text": [
      "100%|██████████| 5/5 [00:00<00:00, 18347.79it/s]\n"
     ]
    }
   ],
   "source": [
    "final_ans = []\n",
    "final_ques = []\n",
    "final_pre = []\n",
    "final_req_text = []\n",
    "pre_score =[]\n",
    "for i, val in enumerate(tqdm(z)):\n",
    "#     print(i)\n",
    "    for j in val:\n",
    "#         print(j)\n",
    "#         final_ans.append(answers[i])\n",
    "        pred_text = postprocess(j['text'],contexts[i])\n",
    "        final_ques.append(questions[i])\n",
    "        final_pre.append(pred_text)\n",
    "        final_req_text.append(j['required_text'])\n",
    "        pre_score.append(j['score'])\n",
    "#         jac_score.append(cal_jac(answers[i],j['text']))"
   ]
  },
  {
   "cell_type": "code",
   "execution_count": 20,
   "id": "9cbea0e9",
   "metadata": {
    "execution": {
     "iopub.execute_input": "2021-11-15T13:25:38.180302Z",
     "iopub.status.busy": "2021-11-15T13:25:38.179598Z",
     "iopub.status.idle": "2021-11-15T13:25:38.182246Z",
     "shell.execute_reply": "2021-11-15T13:25:38.181823Z",
     "shell.execute_reply.started": "2021-11-14T01:29:22.263712Z"
    },
    "papermill": {
     "duration": 0.050514,
     "end_time": "2021-11-15T13:25:38.182352",
     "exception": false,
     "start_time": "2021-11-15T13:25:38.131838",
     "status": "completed"
    },
    "tags": []
   },
   "outputs": [],
   "source": [
    "final_df = pd.DataFrame()"
   ]
  },
  {
   "cell_type": "code",
   "execution_count": 21,
   "id": "6487420b",
   "metadata": {
    "execution": {
     "iopub.execute_input": "2021-11-15T13:25:38.275549Z",
     "iopub.status.busy": "2021-11-15T13:25:38.274986Z",
     "iopub.status.idle": "2021-11-15T13:25:38.300408Z",
     "shell.execute_reply": "2021-11-15T13:25:38.300021Z",
     "shell.execute_reply.started": "2021-11-14T01:29:22.2704Z"
    },
    "papermill": {
     "duration": 0.075985,
     "end_time": "2021-11-15T13:25:38.300546",
     "exception": false,
     "start_time": "2021-11-15T13:25:38.224561",
     "status": "completed"
    },
    "tags": []
   },
   "outputs": [
    {
     "data": {
      "text/html": [
       "<div>\n",
       "<style scoped>\n",
       "    .dataframe tbody tr th:only-of-type {\n",
       "        vertical-align: middle;\n",
       "    }\n",
       "\n",
       "    .dataframe tbody tr th {\n",
       "        vertical-align: top;\n",
       "    }\n",
       "\n",
       "    .dataframe thead th {\n",
       "        text-align: right;\n",
       "    }\n",
       "</style>\n",
       "<table border=\"1\" class=\"dataframe\">\n",
       "  <thead>\n",
       "    <tr style=\"text-align: right;\">\n",
       "      <th></th>\n",
       "      <th>id</th>\n",
       "      <th>context</th>\n",
       "      <th>question</th>\n",
       "      <th>language</th>\n",
       "    </tr>\n",
       "  </thead>\n",
       "  <tbody>\n",
       "    <tr>\n",
       "      <th>0</th>\n",
       "      <td>22bff3dec</td>\n",
       "      <td>ज्वाला गुट्टा (जन्म: 7 सितंबर 1983; वर्धा, महा...</td>\n",
       "      <td>ज्वाला गुट्टा की माँ का नाम क्या है</td>\n",
       "      <td>hindi</td>\n",
       "    </tr>\n",
       "    <tr>\n",
       "      <th>1</th>\n",
       "      <td>282758170</td>\n",
       "      <td>गूगल मानचित्र (Google Maps) (पूर्व में गूगल लो...</td>\n",
       "      <td>गूगल मैप्स कब लॉन्च किया गया था?</td>\n",
       "      <td>hindi</td>\n",
       "    </tr>\n",
       "    <tr>\n",
       "      <th>2</th>\n",
       "      <td>d60987e0e</td>\n",
       "      <td>गुस्ताव रॉबर्ट किरचॉफ़ (१२ मार्च १८२४ - १७ अक्...</td>\n",
       "      <td>गुस्ताव किरचॉफ का जन्म कब हुआ था?</td>\n",
       "      <td>hindi</td>\n",
       "    </tr>\n",
       "    <tr>\n",
       "      <th>3</th>\n",
       "      <td>f99c770dc</td>\n",
       "      <td>அலுமினியம் (ஆங்கிலம்: அலுமினியம்; வட அமெரிக்க ...</td>\n",
       "      <td>அலுமினியத்தின் அணு எண் என்ன?</td>\n",
       "      <td>tamil</td>\n",
       "    </tr>\n",
       "    <tr>\n",
       "      <th>4</th>\n",
       "      <td>40dec1964</td>\n",
       "      <td>கூட்டுறவு இயக்க வரலாறு, இங்கிலாந்து நாட்டில் ம...</td>\n",
       "      <td>இந்தியாவில் பசுமை புரட்சியின் தந்தை என்று கருத...</td>\n",
       "      <td>tamil</td>\n",
       "    </tr>\n",
       "  </tbody>\n",
       "</table>\n",
       "</div>"
      ],
      "text/plain": [
       "          id                                            context  \\\n",
       "0  22bff3dec  ज्वाला गुट्टा (जन्म: 7 सितंबर 1983; वर्धा, महा...   \n",
       "1  282758170  गूगल मानचित्र (Google Maps) (पूर्व में गूगल लो...   \n",
       "2  d60987e0e  गुस्ताव रॉबर्ट किरचॉफ़ (१२ मार्च १८२४ - १७ अक्...   \n",
       "3  f99c770dc  அலுமினியம் (ஆங்கிலம்: அலுமினியம்; வட அமெரிக்க ...   \n",
       "4  40dec1964  கூட்டுறவு இயக்க வரலாறு, இங்கிலாந்து நாட்டில் ம...   \n",
       "\n",
       "                                            question language  \n",
       "0                ज्वाला गुट्टा की माँ का नाम क्या है    hindi  \n",
       "1                   गूगल मैप्स कब लॉन्च किया गया था?    hindi  \n",
       "2                  गुस्ताव किरचॉफ का जन्म कब हुआ था?    hindi  \n",
       "3                       அலுமினியத்தின் அணு எண் என்ன?    tamil  \n",
       "4  இந்தியாவில் பசுமை புரட்சியின் தந்தை என்று கருத...    tamil  "
      ]
     },
     "execution_count": 21,
     "metadata": {},
     "output_type": "execute_result"
    }
   ],
   "source": [
    "test.head()"
   ]
  },
  {
   "cell_type": "code",
   "execution_count": 22,
   "id": "283ef7d8",
   "metadata": {
    "execution": {
     "iopub.execute_input": "2021-11-15T13:25:38.405621Z",
     "iopub.status.busy": "2021-11-15T13:25:38.397280Z",
     "iopub.status.idle": "2021-11-15T13:25:38.408584Z",
     "shell.execute_reply": "2021-11-15T13:25:38.409020Z",
     "shell.execute_reply.started": "2021-11-14T01:29:22.295947Z"
    },
    "papermill": {
     "duration": 0.066011,
     "end_time": "2021-11-15T13:25:38.409164",
     "exception": false,
     "start_time": "2021-11-15T13:25:38.343153",
     "status": "completed"
    },
    "tags": []
   },
   "outputs": [
    {
     "data": {
      "text/html": [
       "<div>\n",
       "<style scoped>\n",
       "    .dataframe tbody tr th:only-of-type {\n",
       "        vertical-align: middle;\n",
       "    }\n",
       "\n",
       "    .dataframe tbody tr th {\n",
       "        vertical-align: top;\n",
       "    }\n",
       "\n",
       "    .dataframe thead th {\n",
       "        text-align: right;\n",
       "    }\n",
       "</style>\n",
       "<table border=\"1\" class=\"dataframe\">\n",
       "  <thead>\n",
       "    <tr style=\"text-align: right;\">\n",
       "      <th></th>\n",
       "      <th>question</th>\n",
       "      <th>pred_text</th>\n",
       "      <th>require_text</th>\n",
       "      <th>score</th>\n",
       "    </tr>\n",
       "  </thead>\n",
       "  <tbody>\n",
       "    <tr>\n",
       "      <th>0</th>\n",
       "      <td>ज्वाला गुट्टा की माँ का नाम क्या है</td>\n",
       "      <td>येलन</td>\n",
       "      <td>ाडी हैं। प्रारंभिक जीवन ज्वाला गुट्टा का जन्म ...</td>\n",
       "      <td>0.673885</td>\n",
       "    </tr>\n",
       "    <tr>\n",
       "      <th>1</th>\n",
       "      <td>ज्वाला गुट्टा की माँ का नाम क्या है</td>\n",
       "      <td>येलन चीन से हैं। उनकी मां येलन गुट्टा</td>\n",
       "      <td>ाडी हैं। प्रारंभिक जीवन ज्वाला गुट्टा का जन्म ...</td>\n",
       "      <td>0.430525</td>\n",
       "    </tr>\n",
       "    <tr>\n",
       "      <th>2</th>\n",
       "      <td>ज्वाला गुट्टा की माँ का नाम क्या है</td>\n",
       "      <td>येलन चीन</td>\n",
       "      <td>ाडी हैं। प्रारंभिक जीवन ज्वाला गुट्टा का जन्म ...</td>\n",
       "      <td>0.402283</td>\n",
       "    </tr>\n",
       "    <tr>\n",
       "      <th>3</th>\n",
       "      <td>ज्वाला गुट्टा की माँ का नाम क्या है</td>\n",
       "      <td>येलन चीन से हैं। उनकी मां येलन</td>\n",
       "      <td>ाडी हैं। प्रारंभिक जीवन ज्वाला गुट्टा का जन्म ...</td>\n",
       "      <td>0.355371</td>\n",
       "    </tr>\n",
       "    <tr>\n",
       "      <th>4</th>\n",
       "      <td>ज्वाला गुट्टा की माँ का नाम क्या है</td>\n",
       "      <td>येलन चीन से</td>\n",
       "      <td>ाडी हैं। प्रारंभिक जीवन ज्वाला गुट्टा का जन्म ...</td>\n",
       "      <td>0.349024</td>\n",
       "    </tr>\n",
       "  </tbody>\n",
       "</table>\n",
       "</div>"
      ],
      "text/plain": [
       "                              question  \\\n",
       "0  ज्वाला गुट्टा की माँ का नाम क्या है   \n",
       "1  ज्वाला गुट्टा की माँ का नाम क्या है   \n",
       "2  ज्वाला गुट्टा की माँ का नाम क्या है   \n",
       "3  ज्वाला गुट्टा की माँ का नाम क्या है   \n",
       "4  ज्वाला गुट्टा की माँ का नाम क्या है   \n",
       "\n",
       "                                pred_text  \\\n",
       "0                                    येलन   \n",
       "1   येलन चीन से हैं। उनकी मां येलन गुट्टा   \n",
       "2                                येलन चीन   \n",
       "3          येलन चीन से हैं। उनकी मां येलन   \n",
       "4                             येलन चीन से   \n",
       "\n",
       "                                        require_text     score  \n",
       "0  ाडी हैं। प्रारंभिक जीवन ज्वाला गुट्टा का जन्म ...  0.673885  \n",
       "1  ाडी हैं। प्रारंभिक जीवन ज्वाला गुट्टा का जन्म ...  0.430525  \n",
       "2  ाडी हैं। प्रारंभिक जीवन ज्वाला गुट्टा का जन्म ...  0.402283  \n",
       "3  ाडी हैं। प्रारंभिक जीवन ज्वाला गुट्टा का जन्म ...  0.355371  \n",
       "4  ाडी हैं। प्रारंभिक जीवन ज्वाला गुट्टा का जन्म ...  0.349024  "
      ]
     },
     "execution_count": 22,
     "metadata": {},
     "output_type": "execute_result"
    }
   ],
   "source": [
    "# final_df['answer_text'] = final_ans\n",
    "final_df['question'] = final_ques\n",
    "final_df['pred_text'] = final_pre\n",
    "final_df['require_text'] = final_req_text\n",
    "final_df['score'] = pre_score\n",
    "final_df.head()"
   ]
  },
  {
   "cell_type": "code",
   "execution_count": 23,
   "id": "347e6fef",
   "metadata": {
    "execution": {
     "iopub.execute_input": "2021-11-15T13:25:38.504342Z",
     "iopub.status.busy": "2021-11-15T13:25:38.503702Z",
     "iopub.status.idle": "2021-11-15T13:25:38.510033Z",
     "shell.execute_reply": "2021-11-15T13:25:38.509633Z",
     "shell.execute_reply.started": "2021-11-14T01:29:22.319279Z"
    },
    "papermill": {
     "duration": 0.05319,
     "end_time": "2021-11-15T13:25:38.510140",
     "exception": false,
     "start_time": "2021-11-15T13:25:38.456950",
     "status": "completed"
    },
    "tags": []
   },
   "outputs": [],
   "source": [
    "final_df.to_csv('1st_model_pred.csv',index=False)"
   ]
  },
  {
   "cell_type": "markdown",
   "id": "34e03b12",
   "metadata": {
    "papermill": {
     "duration": 0.042038,
     "end_time": "2021-11-15T13:25:38.595412",
     "exception": false,
     "start_time": "2021-11-15T13:25:38.553374",
     "status": "completed"
    },
    "tags": []
   },
   "source": [
    "# Reranking pipeline"
   ]
  },
  {
   "cell_type": "code",
   "execution_count": 24,
   "id": "b4148fa5",
   "metadata": {
    "execution": {
     "iopub.execute_input": "2021-11-15T13:25:38.686771Z",
     "iopub.status.busy": "2021-11-15T13:25:38.685986Z",
     "iopub.status.idle": "2021-11-15T13:25:38.691906Z",
     "shell.execute_reply": "2021-11-15T13:25:38.691492Z",
     "shell.execute_reply.started": "2021-11-14T01:29:22.331488Z"
    },
    "papermill": {
     "duration": 0.053698,
     "end_time": "2021-11-15T13:25:38.692013",
     "exception": false,
     "start_time": "2021-11-15T13:25:38.638315",
     "status": "completed"
    },
    "tags": []
   },
   "outputs": [],
   "source": [
    "import pandas as pd\n",
    "data = pd.read_csv('./1st_model_pred.csv')#[:512]\n",
    "# print(len(data))\n",
    "# data.head()"
   ]
  },
  {
   "cell_type": "code",
   "execution_count": 25,
   "id": "9c1fc8df",
   "metadata": {
    "execution": {
     "iopub.execute_input": "2021-11-15T13:25:38.783372Z",
     "iopub.status.busy": "2021-11-15T13:25:38.781820Z",
     "iopub.status.idle": "2021-11-15T13:25:38.783993Z",
     "shell.execute_reply": "2021-11-15T13:25:38.784380Z",
     "shell.execute_reply.started": "2021-11-14T01:29:22.343222Z"
    },
    "papermill": {
     "duration": 0.049408,
     "end_time": "2021-11-15T13:25:38.784524",
     "exception": false,
     "start_time": "2021-11-15T13:25:38.735116",
     "status": "completed"
    },
    "tags": []
   },
   "outputs": [],
   "source": [
    "def combine_text(row):\n",
    "    return \"<s>\"+row['question']+\"</s></s>\"+row['require_text']+\"   \"+row['pred_text']+\"</s>\"\n",
    "#     return \"<s>\"+row['question']+\"</s></s>\"+row['require_text']+\" \"+row['pred_text']+\"</s>\""
   ]
  },
  {
   "cell_type": "code",
   "execution_count": 26,
   "id": "98ff8e70",
   "metadata": {
    "execution": {
     "iopub.execute_input": "2021-11-15T13:25:38.873625Z",
     "iopub.status.busy": "2021-11-15T13:25:38.872950Z",
     "iopub.status.idle": "2021-11-15T13:25:38.882260Z",
     "shell.execute_reply": "2021-11-15T13:25:38.881862Z",
     "shell.execute_reply.started": "2021-11-14T01:29:22.350531Z"
    },
    "papermill": {
     "duration": 0.055119,
     "end_time": "2021-11-15T13:25:38.882365",
     "exception": false,
     "start_time": "2021-11-15T13:25:38.827246",
     "status": "completed"
    },
    "tags": []
   },
   "outputs": [],
   "source": [
    "data['excerpt'] = data.apply(combine_text,axis=1)\n",
    "# data.head()"
   ]
  },
  {
   "cell_type": "code",
   "execution_count": 27,
   "id": "c47cff0b",
   "metadata": {
    "execution": {
     "iopub.execute_input": "2021-11-15T13:25:38.972910Z",
     "iopub.status.busy": "2021-11-15T13:25:38.971364Z",
     "iopub.status.idle": "2021-11-15T13:25:38.973590Z",
     "shell.execute_reply": "2021-11-15T13:25:38.974004Z",
     "shell.execute_reply.started": "2021-11-14T01:29:22.36338Z"
    },
    "papermill": {
     "duration": 0.048773,
     "end_time": "2021-11-15T13:25:38.974138",
     "exception": false,
     "start_time": "2021-11-15T13:25:38.925365",
     "status": "completed"
    },
    "tags": []
   },
   "outputs": [],
   "source": [
    "# data['excerpt'].values[0]"
   ]
  },
  {
   "cell_type": "code",
   "execution_count": 28,
   "id": "18f55d9b",
   "metadata": {
    "execution": {
     "iopub.execute_input": "2021-11-15T13:25:39.066347Z",
     "iopub.status.busy": "2021-11-15T13:25:39.065594Z",
     "iopub.status.idle": "2021-11-15T13:25:39.067619Z",
     "shell.execute_reply": "2021-11-15T13:25:39.067977Z",
     "shell.execute_reply.started": "2021-11-14T01:29:22.374366Z"
    },
    "papermill": {
     "duration": 0.050559,
     "end_time": "2021-11-15T13:25:39.068121",
     "exception": false,
     "start_time": "2021-11-15T13:25:39.017562",
     "status": "completed"
    },
    "tags": []
   },
   "outputs": [],
   "source": [
    "import os\n",
    "import math\n",
    "import random\n",
    "import time\n",
    "\n",
    "import numpy as np\n",
    "import pandas as pd\n",
    "\n",
    "import torch\n",
    "import torch.nn as nn\n",
    "import torch.nn.functional as F\n",
    "from torch.utils.data import Dataset\n",
    "from torch.utils.data import DataLoader\n",
    "\n",
    "from transformers import AdamW\n",
    "from transformers import AutoTokenizer\n",
    "from transformers import AutoModel\n",
    "from transformers import AutoConfig\n",
    "from transformers import get_cosine_schedule_with_warmup\n",
    "\n",
    "from sklearn.model_selection import KFold\n",
    "\n",
    "import gc\n",
    "gc.enable()"
   ]
  },
  {
   "cell_type": "code",
   "execution_count": 29,
   "id": "e99f631a",
   "metadata": {
    "execution": {
     "iopub.execute_input": "2021-11-15T13:25:39.157703Z",
     "iopub.status.busy": "2021-11-15T13:25:39.156967Z",
     "iopub.status.idle": "2021-11-15T13:25:39.159315Z",
     "shell.execute_reply": "2021-11-15T13:25:39.158818Z",
     "shell.execute_reply.started": "2021-11-14T01:29:22.382396Z"
    },
    "papermill": {
     "duration": 0.048095,
     "end_time": "2021-11-15T13:25:39.159418",
     "exception": false,
     "start_time": "2021-11-15T13:25:39.111323",
     "status": "completed"
    },
    "tags": []
   },
   "outputs": [],
   "source": [
    "# !ls ../input/reranking-qa-model-train"
   ]
  },
  {
   "cell_type": "code",
   "execution_count": 30,
   "id": "4ea816d8",
   "metadata": {
    "execution": {
     "iopub.execute_input": "2021-11-15T13:25:39.253547Z",
     "iopub.status.busy": "2021-11-15T13:25:39.251994Z",
     "iopub.status.idle": "2021-11-15T13:25:39.254156Z",
     "shell.execute_reply": "2021-11-15T13:25:39.254576Z",
     "shell.execute_reply.started": "2021-11-14T01:29:22.390337Z"
    },
    "papermill": {
     "duration": 0.050873,
     "end_time": "2021-11-15T13:25:39.254700",
     "exception": false,
     "start_time": "2021-11-15T13:25:39.203827",
     "status": "completed"
    },
    "tags": []
   },
   "outputs": [],
   "source": [
    "NUM_FOLDS = 5\n",
    "NUM_EPOCHS = 7#10#3\n",
    "BATCH_SIZE = 16#24#32#16#1\n",
    "MAX_LEN = 128#248\n",
    "EVAL_SCHEDULE = [(0.35, 16), (0.30, 8), (0.25, 4), (0.20, 2), (-1., 1)]\n",
    "BASE_MODEL_PATH = \"../input/reranking-qa-model-train/xlm-roberta-large\"#\"../input/reranking-qa-model-train/xlm-roberta-large\"\n",
    "ROBERTA_PATH = BASE_MODEL_PATH+\"/pytorch_model.bin\"#\"./xlm-roberta-base/pytorch_model.bin\"\n",
    "TOKENIZER_PATH = BASE_MODEL_PATH#\"./xlm-roberta-base\"#\"../input/clrp-roberta-base/clrp_roberta_base\"\n",
    "CONFIG_PATH = BASE_MODEL_PATH+\"/config.json\"\n",
    "DEVICE = \"cuda\" if torch.cuda.is_available() else \"cpu\""
   ]
  },
  {
   "cell_type": "code",
   "execution_count": 31,
   "id": "e2322dd6",
   "metadata": {
    "execution": {
     "iopub.execute_input": "2021-11-15T13:25:39.345721Z",
     "iopub.status.busy": "2021-11-15T13:25:39.344879Z",
     "iopub.status.idle": "2021-11-15T13:25:39.346939Z",
     "shell.execute_reply": "2021-11-15T13:25:39.347304Z",
     "shell.execute_reply.started": "2021-11-14T01:29:22.401027Z"
    },
    "papermill": {
     "duration": 0.049991,
     "end_time": "2021-11-15T13:25:39.347437",
     "exception": false,
     "start_time": "2021-11-15T13:25:39.297446",
     "status": "completed"
    },
    "tags": []
   },
   "outputs": [],
   "source": [
    "def set_random_seed(random_seed):\n",
    "    random.seed(random_seed)\n",
    "    np.random.seed(random_seed)\n",
    "    os.environ[\"PYTHONHASHSEED\"] = str(random_seed)\n",
    "\n",
    "    torch.manual_seed(random_seed)\n",
    "    torch.cuda.manual_seed(random_seed)\n",
    "    torch.cuda.manual_seed_all(random_seed)\n",
    "\n",
    "    torch.backends.cudnn.deterministic = True"
   ]
  },
  {
   "cell_type": "code",
   "execution_count": 32,
   "id": "a743dcd1",
   "metadata": {
    "execution": {
     "iopub.execute_input": "2021-11-15T13:25:39.438358Z",
     "iopub.status.busy": "2021-11-15T13:25:39.436849Z",
     "iopub.status.idle": "2021-11-15T13:25:39.438970Z",
     "shell.execute_reply": "2021-11-15T13:25:39.439359Z",
     "shell.execute_reply.started": "2021-11-14T01:29:22.411769Z"
    },
    "papermill": {
     "duration": 0.048984,
     "end_time": "2021-11-15T13:25:39.439514",
     "exception": false,
     "start_time": "2021-11-15T13:25:39.390530",
     "status": "completed"
    },
    "tags": []
   },
   "outputs": [],
   "source": [
    "train_df = data"
   ]
  },
  {
   "cell_type": "code",
   "execution_count": 33,
   "id": "75983958",
   "metadata": {
    "execution": {
     "iopub.execute_input": "2021-11-15T13:25:39.527805Z",
     "iopub.status.busy": "2021-11-15T13:25:39.527170Z",
     "iopub.status.idle": "2021-11-15T13:25:40.763393Z",
     "shell.execute_reply": "2021-11-15T13:25:40.762933Z",
     "shell.execute_reply.started": "2021-11-14T01:29:22.420477Z"
    },
    "papermill": {
     "duration": 1.281532,
     "end_time": "2021-11-15T13:25:40.763555",
     "exception": false,
     "start_time": "2021-11-15T13:25:39.482023",
     "status": "completed"
    },
    "tags": []
   },
   "outputs": [],
   "source": [
    "tokenizer = AutoTokenizer.from_pretrained(TOKENIZER_PATH)"
   ]
  },
  {
   "cell_type": "markdown",
   "id": "8b21028d",
   "metadata": {
    "papermill": {
     "duration": 0.043871,
     "end_time": "2021-11-15T13:25:40.851873",
     "exception": false,
     "start_time": "2021-11-15T13:25:40.808002",
     "status": "completed"
    },
    "tags": []
   },
   "source": [
    "# Dataset"
   ]
  },
  {
   "cell_type": "code",
   "execution_count": 34,
   "id": "a3df50f0",
   "metadata": {
    "execution": {
     "iopub.execute_input": "2021-11-15T13:25:40.951911Z",
     "iopub.status.busy": "2021-11-15T13:25:40.950293Z",
     "iopub.status.idle": "2021-11-15T13:25:40.952531Z",
     "shell.execute_reply": "2021-11-15T13:25:40.952934Z",
     "shell.execute_reply.started": "2021-11-14T01:29:23.349347Z"
    },
    "papermill": {
     "duration": 0.056413,
     "end_time": "2021-11-15T13:25:40.953061",
     "exception": false,
     "start_time": "2021-11-15T13:25:40.896648",
     "status": "completed"
    },
    "tags": []
   },
   "outputs": [],
   "source": [
    "class LitDataset(Dataset):\n",
    "    def __init__(self, df, inference_only=False):\n",
    "        super().__init__()\n",
    "\n",
    "        self.df = df        \n",
    "        self.inference_only = inference_only\n",
    "        self.text = df.excerpt.tolist()\n",
    "        self.question = df.question.tolist()\n",
    "        self.pred_text = df.pred_text.tolist()\n",
    "        self.require_text = df.require_text.tolist()\n",
    "        #self.text = [text.replace(\"\\n\", \" \") for text in self.text]\n",
    "        \n",
    "        if not self.inference_only:\n",
    "            self.target = torch.tensor(df.target.values, dtype=torch.float32)        \n",
    "    \n",
    "#         self.encoded = tokenizer.batch_encode_plus(\n",
    "#             self.text,\n",
    "#             padding = 'max_length',            \n",
    "#             max_length = MAX_LEN,\n",
    "#             truncation = True,\n",
    "#             return_attention_mask=True\n",
    "#         )  \n",
    "        self.encoded = tokenizer.batch_encode_plus(\n",
    "#             self.question, self.pred_text, self.require_text,\n",
    "            self.text,\n",
    "            padding = 'max_length',            \n",
    "            max_length = MAX_LEN,\n",
    "            truncation = True,\n",
    "            return_attention_mask=True,\n",
    "            add_special_tokens=False\n",
    "        )  \n",
    " \n",
    "\n",
    "    def __len__(self):\n",
    "        return len(self.df)\n",
    "\n",
    "    \n",
    "    def __getitem__(self, index):        \n",
    "        input_ids = torch.tensor(self.encoded['input_ids'][index])\n",
    "        attention_mask = torch.tensor(self.encoded['attention_mask'][index])\n",
    "        \n",
    "        if self.inference_only:\n",
    "            return (input_ids, attention_mask)            \n",
    "        else:\n",
    "            target = self.target[index]\n",
    "            return (input_ids, attention_mask, target)"
   ]
  },
  {
   "cell_type": "markdown",
   "id": "57e794bf",
   "metadata": {
    "papermill": {
     "duration": 0.043008,
     "end_time": "2021-11-15T13:25:41.039413",
     "exception": false,
     "start_time": "2021-11-15T13:25:40.996405",
     "status": "completed"
    },
    "tags": []
   },
   "source": [
    "# Rerank model"
   ]
  },
  {
   "cell_type": "code",
   "execution_count": 35,
   "id": "3fbaf557",
   "metadata": {
    "execution": {
     "iopub.execute_input": "2021-11-15T13:25:41.135364Z",
     "iopub.status.busy": "2021-11-15T13:25:41.134640Z",
     "iopub.status.idle": "2021-11-15T13:25:41.137153Z",
     "shell.execute_reply": "2021-11-15T13:25:41.136749Z",
     "shell.execute_reply.started": "2021-11-14T01:29:23.361247Z"
    },
    "papermill": {
     "duration": 0.053818,
     "end_time": "2021-11-15T13:25:41.137298",
     "exception": false,
     "start_time": "2021-11-15T13:25:41.083480",
     "status": "completed"
    },
    "tags": []
   },
   "outputs": [],
   "source": [
    "class LitModel(nn.Module):  \n",
    "    def __init__(self):\n",
    "        super().__init__()\n",
    "\n",
    "        self.config = AutoConfig.from_pretrained(CONFIG_PATH)                     \n",
    "        self.roberta = AutoModel.from_pretrained(ROBERTA_PATH, config=self.config)  \n",
    "#         self.cnn1 = nn.Conv1d(768, MAX_LEN, kernel_size=1)\n",
    "#         self.cnn2 = nn.Conv1d(MAX_LEN, 1, kernel_size=1)\n",
    "        self.cnn1 = nn.Conv1d(768, 512, kernel_size=1)\n",
    "        self.cnn2 = nn.Conv1d(512, MAX_LEN, kernel_size=1)\n",
    "         \n",
    "#         self.layernorm = nn.LayerNorm(MAX_LEN,MAX_LEN)    \n",
    "        self.layernorm = nn.LayerNorm(MAX_LEN)\n",
    "            \n",
    "        self.attention = nn.Sequential(            \n",
    "            nn.Linear(MAX_LEN, MAX_LEN),            \n",
    "            nn.Tanh(),  \n",
    "            nn.Linear(MAX_LEN, 1),\n",
    "            nn.Softmax(dim=1)\n",
    "        )        \n",
    "\n",
    "        self.regressor = nn.Sequential(      \n",
    "#             nn.LayerNorm(768),\n",
    "            nn.Linear(self.config.hidden_size, 1),      \n",
    "#             nn.Sigmoid()\n",
    "        )\n",
    "        \n",
    "\n",
    "    def forward(self, input_ids, attention_mask):\n",
    "        roberta_output = self.roberta(input_ids=input_ids,\n",
    "                                      attention_mask=attention_mask)   \n",
    "        last_hidden_state = roberta_output[0]\n",
    "        cls_embeddings = last_hidden_state[:, 0]\n",
    "#         print(cls_embeddings.shape)\n",
    "        logits = self.regressor(cls_embeddings) # regression head\n",
    "#         print(logits.shape)\n",
    "        return logits#16"
   ]
  },
  {
   "cell_type": "code",
   "execution_count": 36,
   "id": "780c0405",
   "metadata": {
    "execution": {
     "iopub.execute_input": "2021-11-15T13:25:41.228744Z",
     "iopub.status.busy": "2021-11-15T13:25:41.227993Z",
     "iopub.status.idle": "2021-11-15T13:25:41.230004Z",
     "shell.execute_reply": "2021-11-15T13:25:41.230371Z",
     "shell.execute_reply.started": "2021-11-14T01:29:23.375156Z"
    },
    "papermill": {
     "duration": 0.050644,
     "end_time": "2021-11-15T13:25:41.230527",
     "exception": false,
     "start_time": "2021-11-15T13:25:41.179883",
     "status": "completed"
    },
    "tags": []
   },
   "outputs": [],
   "source": [
    "def eval_mse(model, data_loader):\n",
    "    \"\"\"Evaluates the mean squared error of the |model| on |data_loader|\"\"\"\n",
    "    model.eval()            \n",
    "    mse_sum = 0\n",
    "\n",
    "    with torch.no_grad():\n",
    "        for batch_num, (input_ids, attention_mask, target) in enumerate(data_loader):\n",
    "            input_ids = input_ids.to(DEVICE)\n",
    "            attention_mask = attention_mask.to(DEVICE)                        \n",
    "            target = target.to(DEVICE)           \n",
    "            \n",
    "            pred = model(input_ids, attention_mask)                       \n",
    "\n",
    "            mse_sum += nn.MSELoss(reduction=\"sum\")(pred.flatten(), target).item()\n",
    "                \n",
    "\n",
    "    return mse_sum / len(data_loader.dataset)"
   ]
  },
  {
   "cell_type": "code",
   "execution_count": 37,
   "id": "806a7666",
   "metadata": {
    "execution": {
     "iopub.execute_input": "2021-11-15T13:25:41.325719Z",
     "iopub.status.busy": "2021-11-15T13:25:41.324977Z",
     "iopub.status.idle": "2021-11-15T13:25:41.327473Z",
     "shell.execute_reply": "2021-11-15T13:25:41.327051Z",
     "shell.execute_reply.started": "2021-11-14T01:29:23.386614Z"
    },
    "papermill": {
     "duration": 0.052544,
     "end_time": "2021-11-15T13:25:41.327583",
     "exception": false,
     "start_time": "2021-11-15T13:25:41.275039",
     "status": "completed"
    },
    "tags": []
   },
   "outputs": [],
   "source": [
    "def predict(model, data_loader):\n",
    "    \"\"\"Returns an np.array with predictions of the |model| on |data_loader|\"\"\"\n",
    "    model.eval()\n",
    "\n",
    "    result = np.zeros(len(data_loader.dataset))    \n",
    "    index = 0\n",
    "    \n",
    "    with torch.no_grad():\n",
    "        for batch_num, (input_ids, attention_mask) in enumerate(data_loader):\n",
    "            input_ids = input_ids.to(DEVICE)\n",
    "            attention_mask = attention_mask.to(DEVICE)\n",
    "                        \n",
    "            pred = model(input_ids, attention_mask)                        \n",
    "\n",
    "            result[index : index + pred.shape[0]] = pred.flatten().to(\"cpu\")\n",
    "            index += pred.shape[0]\n",
    "\n",
    "    return result"
   ]
  },
  {
   "cell_type": "markdown",
   "id": "85009622",
   "metadata": {
    "papermill": {
     "duration": 0.04251,
     "end_time": "2021-11-15T13:25:41.413784",
     "exception": false,
     "start_time": "2021-11-15T13:25:41.371274",
     "status": "completed"
    },
    "tags": []
   },
   "source": [
    "# infer"
   ]
  },
  {
   "cell_type": "code",
   "execution_count": 38,
   "id": "ca012cfb",
   "metadata": {
    "execution": {
     "iopub.execute_input": "2021-11-15T13:25:41.503646Z",
     "iopub.status.busy": "2021-11-15T13:25:41.502907Z",
     "iopub.status.idle": "2021-11-15T13:25:41.517994Z",
     "shell.execute_reply": "2021-11-15T13:25:41.517594Z",
     "shell.execute_reply.started": "2021-11-14T01:29:23.397761Z"
    },
    "papermill": {
     "duration": 0.06128,
     "end_time": "2021-11-15T13:25:41.518111",
     "exception": false,
     "start_time": "2021-11-15T13:25:41.456831",
     "status": "completed"
    },
    "tags": []
   },
   "outputs": [],
   "source": [
    "test_dataset = LitDataset(train_df, inference_only=True)"
   ]
  },
  {
   "cell_type": "code",
   "execution_count": 39,
   "id": "d147af56",
   "metadata": {
    "execution": {
     "iopub.execute_input": "2021-11-15T13:25:41.609562Z",
     "iopub.status.busy": "2021-11-15T13:25:41.608779Z",
     "iopub.status.idle": "2021-11-15T13:30:30.726393Z",
     "shell.execute_reply": "2021-11-15T13:30:30.725919Z",
     "shell.execute_reply.started": "2021-11-14T01:29:23.419488Z"
    },
    "papermill": {
     "duration": 289.16577,
     "end_time": "2021-11-15T13:30:30.726562",
     "exception": false,
     "start_time": "2021-11-15T13:25:41.560792",
     "status": "completed"
    },
    "tags": []
   },
   "outputs": [
    {
     "name": "stdout",
     "output_type": "stream",
     "text": [
      "\n",
      "Using ../input/reranking-qa-model-train/model_1.pth\n",
      "\n",
      "Using ../input/reranking-qa-model-train/model_2.pth\n",
      "\n",
      "Using ../input/reranking-qa-model-train/model_3.pth\n",
      "\n",
      "Using ../input/reranking-qa-model-train/model_4.pth\n",
      "\n",
      "Using ../input/reranking-qa-model-train/model_5.pth\n"
     ]
    }
   ],
   "source": [
    "all_predictions = np.zeros((NUM_FOLDS, len(train_df)))\n",
    "\n",
    "test_dataset = LitDataset(train_df, inference_only=True)\n",
    "test_loader = DataLoader(test_dataset, batch_size=BATCH_SIZE,\n",
    "                         drop_last=False, shuffle=False, num_workers=2)\n",
    "\n",
    "for index in range(NUM_FOLDS):            \n",
    "    model_path = f\"../input/reranking-qa-model-train/model_{index + 1}.pth\"\n",
    "    print(f\"\\nUsing {model_path}\")\n",
    "                        \n",
    "    model = LitModel()\n",
    "    model.load_state_dict(torch.load(model_path))    \n",
    "    model.to(DEVICE)\n",
    "    \n",
    "    all_predictions[index] = predict(model, test_loader)\n",
    "    \n",
    "    del model\n",
    "    gc.collect()"
   ]
  },
  {
   "cell_type": "code",
   "execution_count": 40,
   "id": "7c521252",
   "metadata": {
    "execution": {
     "iopub.execute_input": "2021-11-15T13:30:30.827733Z",
     "iopub.status.busy": "2021-11-15T13:30:30.826015Z",
     "iopub.status.idle": "2021-11-15T13:30:30.828298Z",
     "shell.execute_reply": "2021-11-15T13:30:30.828726Z",
     "shell.execute_reply.started": "2021-11-14T01:32:45.898431Z"
    },
    "papermill": {
     "duration": 0.05692,
     "end_time": "2021-11-15T13:30:30.828862",
     "exception": false,
     "start_time": "2021-11-15T13:30:30.771942",
     "status": "completed"
    },
    "tags": []
   },
   "outputs": [],
   "source": [
    "predictions = all_predictions.mean(axis=0)"
   ]
  },
  {
   "cell_type": "code",
   "execution_count": 41,
   "id": "90b389bd",
   "metadata": {
    "execution": {
     "iopub.execute_input": "2021-11-15T13:30:30.965030Z",
     "iopub.status.busy": "2021-11-15T13:30:30.963465Z",
     "iopub.status.idle": "2021-11-15T13:30:30.965663Z",
     "shell.execute_reply": "2021-11-15T13:30:30.966053Z",
     "shell.execute_reply.started": "2021-11-14T01:32:45.906233Z"
    },
    "papermill": {
     "duration": 0.052943,
     "end_time": "2021-11-15T13:30:30.966174",
     "exception": false,
     "start_time": "2021-11-15T13:30:30.913231",
     "status": "completed"
    },
    "tags": []
   },
   "outputs": [],
   "source": [
    "train_df['predicted_jac_score']= predictions"
   ]
  },
  {
   "cell_type": "code",
   "execution_count": 42,
   "id": "7346cb81",
   "metadata": {
    "execution": {
     "iopub.execute_input": "2021-11-15T13:30:31.074862Z",
     "iopub.status.busy": "2021-11-15T13:30:31.074164Z",
     "iopub.status.idle": "2021-11-15T13:30:31.078831Z",
     "shell.execute_reply": "2021-11-15T13:30:31.079360Z",
     "shell.execute_reply.started": "2021-11-14T01:32:45.921745Z"
    },
    "papermill": {
     "duration": 0.068677,
     "end_time": "2021-11-15T13:30:31.079527",
     "exception": false,
     "start_time": "2021-11-15T13:30:31.010850",
     "status": "completed"
    },
    "tags": []
   },
   "outputs": [
    {
     "data": {
      "text/html": [
       "<div>\n",
       "<style scoped>\n",
       "    .dataframe tbody tr th:only-of-type {\n",
       "        vertical-align: middle;\n",
       "    }\n",
       "\n",
       "    .dataframe tbody tr th {\n",
       "        vertical-align: top;\n",
       "    }\n",
       "\n",
       "    .dataframe thead th {\n",
       "        text-align: right;\n",
       "    }\n",
       "</style>\n",
       "<table border=\"1\" class=\"dataframe\">\n",
       "  <thead>\n",
       "    <tr style=\"text-align: right;\">\n",
       "      <th></th>\n",
       "      <th>question</th>\n",
       "      <th>pred_text</th>\n",
       "      <th>require_text</th>\n",
       "      <th>score</th>\n",
       "      <th>excerpt</th>\n",
       "      <th>predicted_jac_score</th>\n",
       "    </tr>\n",
       "  </thead>\n",
       "  <tbody>\n",
       "    <tr>\n",
       "      <th>0</th>\n",
       "      <td>ज्वाला गुट्टा की माँ का नाम क्या है</td>\n",
       "      <td>येलन</td>\n",
       "      <td>ाडी हैं। प्रारंभिक जीवन ज्वाला गुट्टा का जन्म ...</td>\n",
       "      <td>0.673885</td>\n",
       "      <td>&lt;s&gt;ज्वाला गुट्टा की माँ का नाम क्या है&lt;/s&gt;&lt;/s&gt;...</td>\n",
       "      <td>0.441030</td>\n",
       "    </tr>\n",
       "    <tr>\n",
       "      <th>1</th>\n",
       "      <td>ज्वाला गुट्टा की माँ का नाम क्या है</td>\n",
       "      <td>येलन चीन से हैं। उनकी मां येलन गुट्टा</td>\n",
       "      <td>ाडी हैं। प्रारंभिक जीवन ज्वाला गुट्टा का जन्म ...</td>\n",
       "      <td>0.430525</td>\n",
       "      <td>&lt;s&gt;ज्वाला गुट्टा की माँ का नाम क्या है&lt;/s&gt;&lt;/s&gt;...</td>\n",
       "      <td>0.200791</td>\n",
       "    </tr>\n",
       "    <tr>\n",
       "      <th>2</th>\n",
       "      <td>ज्वाला गुट्टा की माँ का नाम क्या है</td>\n",
       "      <td>येलन चीन</td>\n",
       "      <td>ाडी हैं। प्रारंभिक जीवन ज्वाला गुट्टा का जन्म ...</td>\n",
       "      <td>0.402283</td>\n",
       "      <td>&lt;s&gt;ज्वाला गुट्टा की माँ का नाम क्या है&lt;/s&gt;&lt;/s&gt;...</td>\n",
       "      <td>0.536799</td>\n",
       "    </tr>\n",
       "    <tr>\n",
       "      <th>3</th>\n",
       "      <td>ज्वाला गुट्टा की माँ का नाम क्या है</td>\n",
       "      <td>येलन चीन से हैं। उनकी मां येलन</td>\n",
       "      <td>ाडी हैं। प्रारंभिक जीवन ज्वाला गुट्टा का जन्म ...</td>\n",
       "      <td>0.355371</td>\n",
       "      <td>&lt;s&gt;ज्वाला गुट्टा की माँ का नाम क्या है&lt;/s&gt;&lt;/s&gt;...</td>\n",
       "      <td>0.172356</td>\n",
       "    </tr>\n",
       "    <tr>\n",
       "      <th>4</th>\n",
       "      <td>ज्वाला गुट्टा की माँ का नाम क्या है</td>\n",
       "      <td>येलन चीन से</td>\n",
       "      <td>ाडी हैं। प्रारंभिक जीवन ज्वाला गुट्टा का जन्म ...</td>\n",
       "      <td>0.349024</td>\n",
       "      <td>&lt;s&gt;ज्वाला गुट्टा की माँ का नाम क्या है&lt;/s&gt;&lt;/s&gt;...</td>\n",
       "      <td>0.501740</td>\n",
       "    </tr>\n",
       "  </tbody>\n",
       "</table>\n",
       "</div>"
      ],
      "text/plain": [
       "                              question  \\\n",
       "0  ज्वाला गुट्टा की माँ का नाम क्या है   \n",
       "1  ज्वाला गुट्टा की माँ का नाम क्या है   \n",
       "2  ज्वाला गुट्टा की माँ का नाम क्या है   \n",
       "3  ज्वाला गुट्टा की माँ का नाम क्या है   \n",
       "4  ज्वाला गुट्टा की माँ का नाम क्या है   \n",
       "\n",
       "                                pred_text  \\\n",
       "0                                    येलन   \n",
       "1   येलन चीन से हैं। उनकी मां येलन गुट्टा   \n",
       "2                                येलन चीन   \n",
       "3          येलन चीन से हैं। उनकी मां येलन   \n",
       "4                             येलन चीन से   \n",
       "\n",
       "                                        require_text     score  \\\n",
       "0  ाडी हैं। प्रारंभिक जीवन ज्वाला गुट्टा का जन्म ...  0.673885   \n",
       "1  ाडी हैं। प्रारंभिक जीवन ज्वाला गुट्टा का जन्म ...  0.430525   \n",
       "2  ाडी हैं। प्रारंभिक जीवन ज्वाला गुट्टा का जन्म ...  0.402283   \n",
       "3  ाडी हैं। प्रारंभिक जीवन ज्वाला गुट्टा का जन्म ...  0.355371   \n",
       "4  ाडी हैं। प्रारंभिक जीवन ज्वाला गुट्टा का जन्म ...  0.349024   \n",
       "\n",
       "                                             excerpt  predicted_jac_score  \n",
       "0  <s>ज्वाला गुट्टा की माँ का नाम क्या है</s></s>...             0.441030  \n",
       "1  <s>ज्वाला गुट्टा की माँ का नाम क्या है</s></s>...             0.200791  \n",
       "2  <s>ज्वाला गुट्टा की माँ का नाम क्या है</s></s>...             0.536799  \n",
       "3  <s>ज्वाला गुट्टा की माँ का नाम क्या है</s></s>...             0.172356  \n",
       "4  <s>ज्वाला गुट्टा की माँ का नाम क्या है</s></s>...             0.501740  "
      ]
     },
     "execution_count": 42,
     "metadata": {},
     "output_type": "execute_result"
    }
   ],
   "source": [
    "train_df.head()"
   ]
  },
  {
   "cell_type": "markdown",
   "id": "0d46a045",
   "metadata": {
    "papermill": {
     "duration": 0.043924,
     "end_time": "2021-11-15T13:30:31.172443",
     "exception": false,
     "start_time": "2021-11-15T13:30:31.128519",
     "status": "completed"
    },
    "tags": []
   },
   "source": [
    "# Combining with Reranking"
   ]
  },
  {
   "cell_type": "code",
   "execution_count": 43,
   "id": "08cd1f54",
   "metadata": {
    "execution": {
     "iopub.execute_input": "2021-11-15T13:30:31.265936Z",
     "iopub.status.busy": "2021-11-15T13:30:31.265122Z",
     "iopub.status.idle": "2021-11-15T13:30:31.267179Z",
     "shell.execute_reply": "2021-11-15T13:30:31.267566Z",
     "shell.execute_reply.started": "2021-11-14T01:32:45.948278Z"
    },
    "papermill": {
     "duration": 0.051,
     "end_time": "2021-11-15T13:30:31.267698",
     "exception": false,
     "start_time": "2021-11-15T13:30:31.216698",
     "status": "completed"
    },
    "tags": []
   },
   "outputs": [],
   "source": [
    "answers = train_df['pred_text'].values\n",
    "score = train_df['score'].values\n",
    "predicted_jac_score = train_df['predicted_jac_score'].values"
   ]
  },
  {
   "cell_type": "code",
   "execution_count": 44,
   "id": "a95c744d",
   "metadata": {
    "execution": {
     "iopub.execute_input": "2021-11-15T13:30:31.362122Z",
     "iopub.status.busy": "2021-11-15T13:30:31.361623Z",
     "iopub.status.idle": "2021-11-15T13:30:31.365275Z",
     "shell.execute_reply": "2021-11-15T13:30:31.364875Z",
     "shell.execute_reply.started": "2021-11-14T01:32:45.956394Z"
    },
    "papermill": {
     "duration": 0.052021,
     "end_time": "2021-11-15T13:30:31.365380",
     "exception": false,
     "start_time": "2021-11-15T13:30:31.313359",
     "status": "completed"
    },
    "tags": []
   },
   "outputs": [],
   "source": [
    "# len(answers)"
   ]
  },
  {
   "cell_type": "code",
   "execution_count": 45,
   "id": "ee6597f2",
   "metadata": {
    "execution": {
     "iopub.execute_input": "2021-11-15T13:30:31.464163Z",
     "iopub.status.busy": "2021-11-15T13:30:31.463380Z",
     "iopub.status.idle": "2021-11-15T13:30:31.465859Z",
     "shell.execute_reply": "2021-11-15T13:30:31.465394Z",
     "shell.execute_reply.started": "2021-11-14T01:33:37.834816Z"
    },
    "papermill": {
     "duration": 0.0532,
     "end_time": "2021-11-15T13:30:31.465960",
     "exception": false,
     "start_time": "2021-11-15T13:30:31.412760",
     "status": "completed"
    },
    "tags": []
   },
   "outputs": [],
   "source": [
    "temp_dict = []\n",
    "tot_answers = len(answers)\n",
    "final_answer = []\n",
    "for i in range(tot_answers):\n",
    "    temp_dict.append(\n",
    "        {\n",
    "            'text':answers[i],\n",
    "            'score':score[i]+0.05*predicted_jac_score[i]\n",
    "        }\n",
    "    )\n",
    "#     if i==4:\n",
    "#         break\n",
    "    if i%5==4:\n",
    "        final_answer.append(sorted(temp_dict, key=lambda x: x[\"score\"], reverse=True)[0]['text'])\n",
    "        temp_dict=[]"
   ]
  },
  {
   "cell_type": "code",
   "execution_count": 46,
   "id": "a192072d",
   "metadata": {
    "execution": {
     "iopub.execute_input": "2021-11-15T13:30:31.560960Z",
     "iopub.status.busy": "2021-11-15T13:30:31.560366Z",
     "iopub.status.idle": "2021-11-15T13:30:31.562945Z",
     "shell.execute_reply": "2021-11-15T13:30:31.563338Z",
     "shell.execute_reply.started": "2021-11-14T01:33:39.374844Z"
    },
    "papermill": {
     "duration": 0.052642,
     "end_time": "2021-11-15T13:30:31.563484",
     "exception": false,
     "start_time": "2021-11-15T13:30:31.510842",
     "status": "completed"
    },
    "tags": []
   },
   "outputs": [
    {
     "data": {
      "text/plain": [
       "[' येलन',\n",
       " ' 20 अप्रैल 2010',\n",
       " '१२ मार्च १८२४',\n",
       " ' 13',\n",
       " 'சுவாமிநாதன் மற்றும் வர்கீஸ் குரியன்']"
      ]
     },
     "execution_count": 46,
     "metadata": {},
     "output_type": "execute_result"
    }
   ],
   "source": [
    "final_answer[:5]"
   ]
  },
  {
   "cell_type": "code",
   "execution_count": 47,
   "id": "874c5081",
   "metadata": {
    "execution": {
     "iopub.execute_input": "2021-11-15T13:30:31.656947Z",
     "iopub.status.busy": "2021-11-15T13:30:31.656244Z",
     "iopub.status.idle": "2021-11-15T13:30:31.658832Z",
     "shell.execute_reply": "2021-11-15T13:30:31.658384Z",
     "shell.execute_reply.started": "2021-11-14T01:33:42.075357Z"
    },
    "papermill": {
     "duration": 0.051262,
     "end_time": "2021-11-15T13:30:31.658938",
     "exception": false,
     "start_time": "2021-11-15T13:30:31.607676",
     "status": "completed"
    },
    "tags": []
   },
   "outputs": [],
   "source": [
    "submission = []\n",
    "for p2 in final_answer:\n",
    "    p2 = \" \".join(p2.split())\n",
    "    p2 = p2.strip(punctuation)\n",
    "#     submission.append((p1, p2))\n",
    "    submission.append(p2)"
   ]
  },
  {
   "cell_type": "code",
   "execution_count": 48,
   "id": "58a14421",
   "metadata": {
    "execution": {
     "iopub.execute_input": "2021-11-15T13:30:31.759487Z",
     "iopub.status.busy": "2021-11-15T13:30:31.758787Z",
     "iopub.status.idle": "2021-11-15T13:30:31.761554Z",
     "shell.execute_reply": "2021-11-15T13:30:31.761944Z",
     "shell.execute_reply.started": "2021-11-14T01:34:13.557449Z"
    },
    "papermill": {
     "duration": 0.05823,
     "end_time": "2021-11-15T13:30:31.762066",
     "exception": false,
     "start_time": "2021-11-15T13:30:31.703836",
     "status": "completed"
    },
    "tags": []
   },
   "outputs": [
    {
     "data": {
      "text/html": [
       "<div>\n",
       "<style scoped>\n",
       "    .dataframe tbody tr th:only-of-type {\n",
       "        vertical-align: middle;\n",
       "    }\n",
       "\n",
       "    .dataframe tbody tr th {\n",
       "        vertical-align: top;\n",
       "    }\n",
       "\n",
       "    .dataframe thead th {\n",
       "        text-align: right;\n",
       "    }\n",
       "</style>\n",
       "<table border=\"1\" class=\"dataframe\">\n",
       "  <thead>\n",
       "    <tr style=\"text-align: right;\">\n",
       "      <th></th>\n",
       "      <th>id</th>\n",
       "      <th>context</th>\n",
       "      <th>question</th>\n",
       "      <th>language</th>\n",
       "    </tr>\n",
       "  </thead>\n",
       "  <tbody>\n",
       "    <tr>\n",
       "      <th>0</th>\n",
       "      <td>22bff3dec</td>\n",
       "      <td>ज्वाला गुट्टा (जन्म: 7 सितंबर 1983; वर्धा, महा...</td>\n",
       "      <td>ज्वाला गुट्टा की माँ का नाम क्या है</td>\n",
       "      <td>hindi</td>\n",
       "    </tr>\n",
       "    <tr>\n",
       "      <th>1</th>\n",
       "      <td>282758170</td>\n",
       "      <td>गूगल मानचित्र (Google Maps) (पूर्व में गूगल लो...</td>\n",
       "      <td>गूगल मैप्स कब लॉन्च किया गया था?</td>\n",
       "      <td>hindi</td>\n",
       "    </tr>\n",
       "    <tr>\n",
       "      <th>2</th>\n",
       "      <td>d60987e0e</td>\n",
       "      <td>गुस्ताव रॉबर्ट किरचॉफ़ (१२ मार्च १८२४ - १७ अक्...</td>\n",
       "      <td>गुस्ताव किरचॉफ का जन्म कब हुआ था?</td>\n",
       "      <td>hindi</td>\n",
       "    </tr>\n",
       "    <tr>\n",
       "      <th>3</th>\n",
       "      <td>f99c770dc</td>\n",
       "      <td>அலுமினியம் (ஆங்கிலம்: அலுமினியம்; வட அமெரிக்க ...</td>\n",
       "      <td>அலுமினியத்தின் அணு எண் என்ன?</td>\n",
       "      <td>tamil</td>\n",
       "    </tr>\n",
       "    <tr>\n",
       "      <th>4</th>\n",
       "      <td>40dec1964</td>\n",
       "      <td>கூட்டுறவு இயக்க வரலாறு, இங்கிலாந்து நாட்டில் ம...</td>\n",
       "      <td>இந்தியாவில் பசுமை புரட்சியின் தந்தை என்று கருத...</td>\n",
       "      <td>tamil</td>\n",
       "    </tr>\n",
       "  </tbody>\n",
       "</table>\n",
       "</div>"
      ],
      "text/plain": [
       "          id                                            context  \\\n",
       "0  22bff3dec  ज्वाला गुट्टा (जन्म: 7 सितंबर 1983; वर्धा, महा...   \n",
       "1  282758170  गूगल मानचित्र (Google Maps) (पूर्व में गूगल लो...   \n",
       "2  d60987e0e  गुस्ताव रॉबर्ट किरचॉफ़ (१२ मार्च १८२४ - १७ अक्...   \n",
       "3  f99c770dc  அலுமினியம் (ஆங்கிலம்: அலுமினியம்; வட அமெரிக்க ...   \n",
       "4  40dec1964  கூட்டுறவு இயக்க வரலாறு, இங்கிலாந்து நாட்டில் ம...   \n",
       "\n",
       "                                            question language  \n",
       "0                ज्वाला गुट्टा की माँ का नाम क्या है    hindi  \n",
       "1                   गूगल मैप्स कब लॉन्च किया गया था?    hindi  \n",
       "2                  गुस्ताव किरचॉफ का जन्म कब हुआ था?    hindi  \n",
       "3                       அலுமினியத்தின் அணு எண் என்ன?    tamil  \n",
       "4  இந்தியாவில் பசுமை புரட்சியின் தந்தை என்று கருத...    tamil  "
      ]
     },
     "execution_count": 48,
     "metadata": {},
     "output_type": "execute_result"
    }
   ],
   "source": [
    "test.head()"
   ]
  },
  {
   "cell_type": "code",
   "execution_count": 49,
   "id": "3fbd456d",
   "metadata": {
    "execution": {
     "iopub.execute_input": "2021-11-15T13:30:31.864286Z",
     "iopub.status.busy": "2021-11-15T13:30:31.863790Z",
     "iopub.status.idle": "2021-11-15T13:30:31.868575Z",
     "shell.execute_reply": "2021-11-15T13:30:31.868125Z",
     "shell.execute_reply.started": "2021-11-14T01:33:48.441939Z"
    },
    "papermill": {
     "duration": 0.061855,
     "end_time": "2021-11-15T13:30:31.868685",
     "exception": false,
     "start_time": "2021-11-15T13:30:31.806830",
     "status": "completed"
    },
    "tags": []
   },
   "outputs": [
    {
     "data": {
      "text/html": [
       "<div>\n",
       "<style scoped>\n",
       "    .dataframe tbody tr th:only-of-type {\n",
       "        vertical-align: middle;\n",
       "    }\n",
       "\n",
       "    .dataframe tbody tr th {\n",
       "        vertical-align: top;\n",
       "    }\n",
       "\n",
       "    .dataframe thead th {\n",
       "        text-align: right;\n",
       "    }\n",
       "</style>\n",
       "<table border=\"1\" class=\"dataframe\">\n",
       "  <thead>\n",
       "    <tr style=\"text-align: right;\">\n",
       "      <th></th>\n",
       "      <th>id</th>\n",
       "      <th>context</th>\n",
       "      <th>question</th>\n",
       "      <th>language</th>\n",
       "      <th>PredictionString</th>\n",
       "    </tr>\n",
       "  </thead>\n",
       "  <tbody>\n",
       "    <tr>\n",
       "      <th>0</th>\n",
       "      <td>22bff3dec</td>\n",
       "      <td>ज्वाला गुट्टा (जन्म: 7 सितंबर 1983; वर्धा, महा...</td>\n",
       "      <td>ज्वाला गुट्टा की माँ का नाम क्या है</td>\n",
       "      <td>hindi</td>\n",
       "      <td>येलन</td>\n",
       "    </tr>\n",
       "    <tr>\n",
       "      <th>1</th>\n",
       "      <td>282758170</td>\n",
       "      <td>गूगल मानचित्र (Google Maps) (पूर्व में गूगल लो...</td>\n",
       "      <td>गूगल मैप्स कब लॉन्च किया गया था?</td>\n",
       "      <td>hindi</td>\n",
       "      <td>20 अप्रैल 2010</td>\n",
       "    </tr>\n",
       "    <tr>\n",
       "      <th>2</th>\n",
       "      <td>d60987e0e</td>\n",
       "      <td>गुस्ताव रॉबर्ट किरचॉफ़ (१२ मार्च १८२४ - १७ अक्...</td>\n",
       "      <td>गुस्ताव किरचॉफ का जन्म कब हुआ था?</td>\n",
       "      <td>hindi</td>\n",
       "      <td>१२ मार्च १८२४</td>\n",
       "    </tr>\n",
       "    <tr>\n",
       "      <th>3</th>\n",
       "      <td>f99c770dc</td>\n",
       "      <td>அலுமினியம் (ஆங்கிலம்: அலுமினியம்; வட அமெரிக்க ...</td>\n",
       "      <td>அலுமினியத்தின் அணு எண் என்ன?</td>\n",
       "      <td>tamil</td>\n",
       "      <td>13</td>\n",
       "    </tr>\n",
       "    <tr>\n",
       "      <th>4</th>\n",
       "      <td>40dec1964</td>\n",
       "      <td>கூட்டுறவு இயக்க வரலாறு, இங்கிலாந்து நாட்டில் ம...</td>\n",
       "      <td>இந்தியாவில் பசுமை புரட்சியின் தந்தை என்று கருத...</td>\n",
       "      <td>tamil</td>\n",
       "      <td>சுவாமிநாதன் மற்றும் வர்கீஸ் குரியன்</td>\n",
       "    </tr>\n",
       "  </tbody>\n",
       "</table>\n",
       "</div>"
      ],
      "text/plain": [
       "          id                                            context  \\\n",
       "0  22bff3dec  ज्वाला गुट्टा (जन्म: 7 सितंबर 1983; वर्धा, महा...   \n",
       "1  282758170  गूगल मानचित्र (Google Maps) (पूर्व में गूगल लो...   \n",
       "2  d60987e0e  गुस्ताव रॉबर्ट किरचॉफ़ (१२ मार्च १८२४ - १७ अक्...   \n",
       "3  f99c770dc  அலுமினியம் (ஆங்கிலம்: அலுமினியம்; வட அமெரிக்க ...   \n",
       "4  40dec1964  கூட்டுறவு இயக்க வரலாறு, இங்கிலாந்து நாட்டில் ம...   \n",
       "\n",
       "                                            question language  \\\n",
       "0                ज्वाला गुट्टा की माँ का नाम क्या है    hindi   \n",
       "1                   गूगल मैप्स कब लॉन्च किया गया था?    hindi   \n",
       "2                  गुस्ताव किरचॉफ का जन्म कब हुआ था?    hindi   \n",
       "3                       அலுமினியத்தின் அணு எண் என்ன?    tamil   \n",
       "4  இந்தியாவில் பசுமை புரட்சியின் தந்தை என்று கருத...    tamil   \n",
       "\n",
       "                      PredictionString  \n",
       "0                                 येलन  \n",
       "1                       20 अप्रैल 2010  \n",
       "2                        १२ मार्च १८२४  \n",
       "3                                   13  \n",
       "4  சுவாமிநாதன் மற்றும் வர்கீஸ் குரியன்  "
      ]
     },
     "execution_count": 49,
     "metadata": {},
     "output_type": "execute_result"
    }
   ],
   "source": [
    "test[\"PredictionString\"] = submission\n",
    "test.head()"
   ]
  },
  {
   "cell_type": "markdown",
   "id": "74a4dd09",
   "metadata": {
    "papermill": {
     "duration": 0.0453,
     "end_time": "2021-11-15T13:30:31.959588",
     "exception": false,
     "start_time": "2021-11-15T13:30:31.914288",
     "status": "completed"
    },
    "tags": []
   },
   "source": [
    "# Post processing(Not required as it is done earlier)"
   ]
  },
  {
   "cell_type": "code",
   "execution_count": 50,
   "id": "f96a6812",
   "metadata": {
    "execution": {
     "iopub.execute_input": "2021-11-15T13:30:32.064803Z",
     "iopub.status.busy": "2021-11-15T13:30:32.064005Z",
     "iopub.status.idle": "2021-11-15T13:30:32.066134Z",
     "shell.execute_reply": "2021-11-15T13:30:32.066520Z",
     "shell.execute_reply.started": "2021-11-14T01:33:54.68798Z"
    },
    "papermill": {
     "duration": 0.052442,
     "end_time": "2021-11-15T13:30:32.066660",
     "exception": false,
     "start_time": "2021-11-15T13:30:32.014218",
     "status": "completed"
    },
    "tags": []
   },
   "outputs": [],
   "source": [
    "# bad_starts = [\".\", \",\", \"(\", \")\", \"-\", \"–\",  \",\", \";\"]\n",
    "# bad_endings = [\"...\", \"-\", \"(\", \")\", \"–\", \",\", \";\"]\n",
    "\n",
    "# tamil_ad = \"கி.பி\"\n",
    "# tamil_bc = \"கி.மு\"\n",
    "# tamil_km = \"கி.மீ\"\n",
    "# hindi_ad = \"ई\"\n",
    "# hindi_bc = \"ई.पू\"\n",
    "\n",
    "# cleaned_preds = []\n",
    "# for pred, context in test[[\"PredictionString\", \"context\"]].to_numpy():\n",
    "#     if pred == \"\":\n",
    "#         cleaned_preds.append(pred)\n",
    "#         continue\n",
    "#     while any([pred.startswith(y) for y in bad_starts]):\n",
    "#         pred = pred[1:]\n",
    "#     while any([pred.endswith(y) for y in bad_endings]):\n",
    "#         if pred.endswith(\"...\"):\n",
    "#             pred = pred[:-3]\n",
    "#         else:\n",
    "#             pred = pred[:-1]\n",
    "    \n",
    "#     if any([pred.endswith(tamil_ad), pred.endswith(tamil_bc), pred.endswith(tamil_km), pred.endswith(hindi_ad), pred.endswith(hindi_bc)]) and pred+\".\" in context:\n",
    "#         pred = pred+\".\"\n",
    "\n",
    "#     cleaned_preds.append(pred)\n",
    "\n",
    "# test[\"PredictionString\"] = cleaned_preds"
   ]
  },
  {
   "cell_type": "code",
   "execution_count": 51,
   "id": "ec62f3b8",
   "metadata": {
    "execution": {
     "iopub.execute_input": "2021-11-15T13:30:32.168662Z",
     "iopub.status.busy": "2021-11-15T13:30:32.168058Z",
     "iopub.status.idle": "2021-11-15T13:30:32.178392Z",
     "shell.execute_reply": "2021-11-15T13:30:32.177985Z",
     "shell.execute_reply.started": "2021-11-14T01:33:55.069016Z"
    },
    "papermill": {
     "duration": 0.064349,
     "end_time": "2021-11-15T13:30:32.178536",
     "exception": false,
     "start_time": "2021-11-15T13:30:32.114187",
     "status": "completed"
    },
    "tags": []
   },
   "outputs": [],
   "source": [
    "test[['id','PredictionString']].to_csv('submission.csv',index=False) "
   ]
  },
  {
   "cell_type": "code",
   "execution_count": 52,
   "id": "f4251b13",
   "metadata": {
    "execution": {
     "iopub.execute_input": "2021-11-15T13:30:32.280300Z",
     "iopub.status.busy": "2021-11-15T13:30:32.278726Z",
     "iopub.status.idle": "2021-11-15T13:30:32.280969Z",
     "shell.execute_reply": "2021-11-15T13:30:32.281443Z",
     "shell.execute_reply.started": "2021-11-10T15:25:44.182167Z"
    },
    "papermill": {
     "duration": 0.055743,
     "end_time": "2021-11-15T13:30:32.281620",
     "exception": false,
     "start_time": "2021-11-15T13:30:32.225877",
     "status": "completed"
    },
    "tags": []
   },
   "outputs": [],
   "source": [
    "# test.head()"
   ]
  },
  {
   "cell_type": "code",
   "execution_count": null,
   "id": "a7fb6916",
   "metadata": {
    "papermill": {
     "duration": 0.047463,
     "end_time": "2021-11-15T13:30:32.375704",
     "exception": false,
     "start_time": "2021-11-15T13:30:32.328241",
     "status": "completed"
    },
    "tags": []
   },
   "outputs": [],
   "source": []
  },
  {
   "cell_type": "code",
   "execution_count": null,
   "id": "7f21868a",
   "metadata": {
    "papermill": {
     "duration": 0.087118,
     "end_time": "2021-11-15T13:30:32.554191",
     "exception": false,
     "start_time": "2021-11-15T13:30:32.467073",
     "status": "completed"
    },
    "tags": []
   },
   "outputs": [],
   "source": []
  },
  {
   "cell_type": "code",
   "execution_count": null,
   "id": "ffbee9ef",
   "metadata": {
    "papermill": {
     "duration": 0.075059,
     "end_time": "2021-11-15T13:30:32.705318",
     "exception": false,
     "start_time": "2021-11-15T13:30:32.630259",
     "status": "completed"
    },
    "tags": []
   },
   "outputs": [],
   "source": []
  }
 ],
 "metadata": {
  "kernelspec": {
   "display_name": "Python 3",
   "language": "python",
   "name": "python3"
  },
  "language_info": {
   "codemirror_mode": {
    "name": "ipython",
    "version": 3
   },
   "file_extension": ".py",
   "mimetype": "text/x-python",
   "name": "python",
   "nbconvert_exporter": "python",
   "pygments_lexer": "ipython3",
   "version": "3.7.10"
  },
  "papermill": {
   "default_parameters": {},
   "duration": 509.991505,
   "end_time": "2021-11-15T13:30:36.396910",
   "environment_variables": {},
   "exception": null,
   "input_path": "__notebook__.ipynb",
   "output_path": "__notebook__.ipynb",
   "parameters": {},
   "start_time": "2021-11-15T13:22:06.405405",
   "version": "2.3.3"
  }
 },
 "nbformat": 4,
 "nbformat_minor": 5
}
